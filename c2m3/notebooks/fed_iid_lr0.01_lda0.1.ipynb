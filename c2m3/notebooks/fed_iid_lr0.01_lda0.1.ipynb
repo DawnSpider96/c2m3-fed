{
  "cells": [
    {
      "cell_type": "markdown",
      "metadata": {
        "colab_type": "text",
        "id": "view-in-github"
      },
      "source": [
        "<a href=\"https://colab.research.google.com/github/DawnSpider96/L361-Federated-Learning/blob/release/Copy_of_L361_2025_Lab_1_From_Centralised_To_Federated_Part_2.ipynb\" target=\"_parent\"><img src=\"https://colab.research.google.com/assets/colab-badge.svg\" alt=\"Open In Colab\"/></a>"
      ]
    },
    {
      "cell_type": "markdown",
      "metadata": {
        "id": "Y1P9epXi-IZ0"
      },
      "source": [
        "## Dependencies\n",
        "---\n"
      ]
    },
    {
      "cell_type": "code",
      "execution_count": 1,
      "metadata": {
        "id": "fTM8comw-IZ2"
      },
      "outputs": [],
      "source": [
        "# `pip` could produce some errors. Do not worry about them.\n",
        "# The execution has been verified; it's working anyway.\n",
        "# ! pip install --quiet --upgrade \"pip\"\n",
        "# ! pip install --quiet matplotlib tqdm seaborn\n",
        "# ! pip install git+https://github.com/Iacob-Alexandru-Andrei/flower.git@teaching \\\n",
        "#     torch torchvision ray==\"2.6.3\""
      ]
    },
    {
      "cell_type": "markdown",
      "metadata": {
        "id": "_zl2hUa1-IZ2"
      },
      "source": [
        "### Imports.\n"
      ]
    },
    {
      "cell_type": "code",
      "execution_count": 2,
      "metadata": {},
      "outputs": [
        {
          "name": "stdout",
          "output_type": "stream",
          "text": [
            "['/usr/lib/python310.zip', '/usr/lib/python3.10', '/usr/lib/python3.10/lib-dynload', '', '/home/dawn/venvs/fed/lib/python3.10/site-packages', '/home/dawn/repos/cycle-consistent-model-merging/src', '/home/dawn/repos/c2m3-federated', '/home/dawn/repos/c2m3-fed', '../../']\n"
          ]
        }
      ],
      "source": [
        "import sys\n",
        "sys.path.append('../../')\n",
        "print(sys.path)"
      ]
    },
    {
      "cell_type": "code",
      "execution_count": 3,
      "metadata": {
        "id": "Z7xM_SyD-IZ4"
      },
      "outputs": [
        {
          "name": "stderr",
          "output_type": "stream",
          "text": [
            "/home/dawn/venvs/fed/lib/python3.10/site-packages/tqdm/auto.py:21: TqdmWarning: IProgress not found. Please update jupyter and ipywidgets. See https://ipywidgets.readthedocs.io/en/stable/user_install.html\n",
            "  from .autonotebook import tqdm as notebook_tqdm\n",
            "2025-03-28 05:05:58.865429: I tensorflow/tsl/cuda/cudart_stub.cc:28] Could not find cuda drivers on your machine, GPU will not be used.\n",
            "2025-03-28 05:05:58.936794: I tensorflow/tsl/cuda/cudart_stub.cc:28] Could not find cuda drivers on your machine, GPU will not be used.\n",
            "2025-03-28 05:05:58.937740: I tensorflow/core/platform/cpu_feature_guard.cc:182] This TensorFlow binary is optimized to use available CPU instructions in performance-critical operations.\n",
            "To enable the following instructions: AVX2 FMA, in other operations, rebuild TensorFlow with the appropriate compiler flags.\n",
            "2025-03-28 05:05:59.867751: W tensorflow/compiler/tf2tensorrt/utils/py_utils.cc:38] TF-TRT Warning: Could not find TensorRT\n",
            "2025-03-28 05:06:01,694\tINFO util.py:159 -- Missing packages: ['ipywidgets']. Run `pip install -U ipywidgets`, then restart the notebook server for rich notebook output.\n"
          ]
        }
      ],
      "source": [
        "import random\n",
        "from pathlib import Path\n",
        "import tarfile\n",
        "from typing import Any\n",
        "from logging import INFO\n",
        "from collections import defaultdict, OrderedDict\n",
        "from collections.abc import Sequence, Callable\n",
        "import numbers\n",
        "\n",
        "import numpy as np\n",
        "import torch\n",
        "from torch import nn\n",
        "from torch.nn import Module\n",
        "from torch.utils.data import DataLoader, Dataset\n",
        "from enum import IntEnum\n",
        "import flwr\n",
        "from flwr.server import History, ServerConfig\n",
        "from flwr.server.strategy import FedAvgM as FedAvg, Strategy\n",
        "from c2m3.flower.fed_frank_wolfe_strategy import FrankWolfeSync\n",
        "from flwr.common import log, NDArrays, Scalar, Parameters, ndarrays_to_parameters\n",
        "from flwr.client.client import Client\n",
        "\n",
        "from c2m3.common.client_utils import (\n",
        "    Net,\n",
        "    load_femnist_dataset,\n",
        "    get_network_generator_cnn as get_network_generator,\n",
        "    train_femnist,\n",
        "    test_femnist,\n",
        "    save_history,\n",
        "    get_model_parameters,\n",
        "    set_model_parameters\n",
        ")\n",
        "\n",
        "\n",
        "# Add new seeds here for easy autocomplete\n",
        "class Seeds(IntEnum):\n",
        "    \"\"\"Seeds for reproducibility.\"\"\"\n",
        "\n",
        "    DEFAULT = 42 # [42, 123, 456, 789, 101]\n",
        "\n",
        "\n",
        "np.random.seed(Seeds.DEFAULT)\n",
        "random.seed(Seeds.DEFAULT)\n",
        "torch.manual_seed(Seeds.DEFAULT)\n",
        "torch.backends.cudnn.benchmark = False\n",
        "torch.backends.cudnn.deterministic = True\n",
        "\n",
        "\n",
        "PathType = Path | str | None\n",
        "\n",
        "\n",
        "def get_device() -> str:\n",
        "    \"\"\"Get the device (cuda, mps, cpu).\"\"\"\n",
        "    device = \"cpu\"\n",
        "    if torch.cuda.is_available():\n",
        "        device = \"cuda\"\n",
        "    elif torch.backends.mps.is_available() and torch.backends.mps.is_built():\n",
        "        device = \"mps\"\n",
        "    return device"
      ]
    },
    {
      "cell_type": "code",
      "execution_count": 4,
      "metadata": {
        "id": "341p1c5o-IZ4"
      },
      "outputs": [],
      "source": [
        "home_dir = Path.cwd() / \"..\"\n",
        "dataset_dir: Path = home_dir / \"data\" / \"femnist\"\n",
        "data_dir: Path = dataset_dir / \"data\"\n",
        "centralized_partition: Path = dataset_dir / \"client_data_mappings\" / \"centralized\"\n",
        "centralized_mapping: Path = dataset_dir / \"client_data_mappings\" / \"centralized\" / \"0\"\n",
        "federated_partition: Path = dataset_dir / \"client_data_mappings\" / \"lda_0.1\"\n",
        "# Decompress dataset\n",
        "# if not dataset_dir.exists():\n",
        "#     with tarfile.open(home_dir / \"femnist.tar.gz\", \"r:gz\") as tar:\n",
        "#         tar.extractall(path=home_dir)\n",
        "#     log(INFO, \"Dataset extracted in %s\", dataset_dir)"
      ]
    },
    {
      "cell_type": "markdown",
      "metadata": {
        "id": "C6Q6qaJbjac5"
      },
      "source": [
        "## Build Flower FL client.\n",
        "---"
      ]
    },
    {
      "cell_type": "code",
      "execution_count": 5,
      "metadata": {
        "id": "SCqhfpnJobOZ"
      },
      "outputs": [],
      "source": [
        "class FlowerRayClient(flwr.client.NumPyClient):\n",
        "    \"\"\"Flower client for the FEMNIST dataset.\"\"\"\n",
        "\n",
        "    def __init__(\n",
        "        self,\n",
        "        cid: int,\n",
        "        partition_dir: Path,\n",
        "        model_generator: Callable[[], Module],\n",
        "    ) -> None:\n",
        "        \"\"\"Init the client with its unique id and the folder to load data from.\n",
        "\n",
        "        Parameters\n",
        "        ----------\n",
        "            cid (int): Unique client id for a client used to map it to its data\n",
        "                partition\n",
        "            partition_dir (Path): The directory containing data for each\n",
        "                client/client id\n",
        "            model_generator (Callable[[], Module]): The model generator function\n",
        "        \"\"\"\n",
        "        self.cid = cid\n",
        "        log(INFO, \"cid: %s\", self.cid)\n",
        "        self.partition_dir = partition_dir\n",
        "        self.device = str(\n",
        "            torch.device(\"cuda:0\" if torch.cuda.is_available() else \"cpu\")\n",
        "        )\n",
        "        self.model_generator: Callable[[], Module] = model_generator\n",
        "        self.properties: dict[str, Scalar] = {\n",
        "            \"tensor_type\": \"numpy.ndarray\",\n",
        "            \"partition\": self.partition_dir,\n",
        "            \"cid\": self.cid\n",
        "            }\n",
        "        self.data_dir = data_dir\n",
        "\n",
        "    def set_parameters(self, parameters: NDArrays) -> Module:\n",
        "        \"\"\"Load weights inside the network.\n",
        "\n",
        "        Parameters\n",
        "        ----------\n",
        "            parameters (NDArrays): set of weights to be loaded.\n",
        "\n",
        "        Returns\n",
        "        -------\n",
        "            [Module]: Network with new set of weights.\n",
        "        \"\"\"\n",
        "        net = self.model_generator()\n",
        "        return set_model_parameters(net, parameters)\n",
        "\n",
        "    def get_parameters(self, config: dict[str, Scalar]) -> NDArrays:\n",
        "        \"\"\"Return weights from a given model.\n",
        "\n",
        "        If no model is passed, then a local model is created.\n",
        "        This can be used to initialise a model in the\n",
        "        server.\n",
        "        The config param is not used but is mandatory in Flower.\n",
        "\n",
        "        Parameters\n",
        "        ----------\n",
        "            config (dict[int, Scalar]): dictionary containing configuration info.\n",
        "\n",
        "        Returns\n",
        "        -------\n",
        "            NDArrays: weights from the model.\n",
        "        \"\"\"\n",
        "        net = self.model_generator()\n",
        "        return get_model_parameters(net)\n",
        "\n",
        "    def fit(\n",
        "        self, parameters: NDArrays, config: dict[str, Scalar]\n",
        "    ) -> tuple[NDArrays, int, dict]:\n",
        "        \"\"\"Receive and train a model on the local client data.\n",
        "\n",
        "        It uses parameters from the config dict\n",
        "\n",
        "        Parameters\n",
        "        ----------\n",
        "            net (NDArrays): Pytorch model parameters\n",
        "            config (dict[str, Scalar]): dictionary describing the training parameters\n",
        "\n",
        "        Returns\n",
        "        -------\n",
        "            tuple[NDArrays, int, dict]: Returns the updated model, the size of the local\n",
        "                dataset and other metrics\n",
        "        \"\"\"\n",
        "        # Only create model right before training/testing\n",
        "        # To lower memory usage when idle\n",
        "        net = self.set_parameters(parameters)\n",
        "        net.to(self.device)\n",
        "\n",
        "        train_loader: DataLoader = self._create_data_loader(config, name=\"train\")\n",
        "        train_loss = self._train(net, train_loader=train_loader, config=config)\n",
        "        return get_model_parameters(net), len(train_loader), {\"train_loss\": train_loss}\n",
        "\n",
        "    def evaluate(\n",
        "        self, parameters: NDArrays, config: dict[str, Scalar]\n",
        "    ) -> tuple[float, int, dict]:\n",
        "        \"\"\"Receive and test a model on the local client data.\n",
        "\n",
        "        It uses parameters from the config dict\n",
        "\n",
        "        Parameters\n",
        "        ----------\n",
        "            net (NDArrays): Pytorch model parameters\n",
        "            config (dict[str, Scalar]): dictionary describing the testing parameters\n",
        "\n",
        "        Returns\n",
        "        -------\n",
        "            tuple[float, int, dict]: Returns the loss accumulate during testing, the\n",
        "                size of the local dataset and other metrics such as accuracy\n",
        "        \"\"\"\n",
        "        net = self.set_parameters(parameters)\n",
        "        net.to(self.device)\n",
        "\n",
        "        test_loader: DataLoader = self._create_data_loader(config, name=\"test\")\n",
        "        loss, accuracy = self._test(net, test_loader=test_loader, config=config)\n",
        "        return loss, len(test_loader), {\"local_accuracy\": accuracy}\n",
        "\n",
        "    def _create_data_loader(self, config: dict[str, Scalar], name: str) -> DataLoader:\n",
        "        \"\"\"Create the data loader using the specified config parameters.\n",
        "\n",
        "        Parameters\n",
        "        ----------\n",
        "            config (dict[str, Scalar]): dictionary containing dataloader and dataset\n",
        "                parameters\n",
        "            mode (str): Load the training or testing set for the client\n",
        "\n",
        "        Returns\n",
        "        -------\n",
        "            DataLoader: A pytorch dataloader iterable for training/testing\n",
        "        \"\"\"\n",
        "        batch_size = int(config[\"batch_size\"])\n",
        "        num_workers = int(config[\"num_workers\"])\n",
        "        dataset = self._load_dataset(name)\n",
        "        return DataLoader(\n",
        "            dataset=dataset,\n",
        "            batch_size=batch_size,\n",
        "            shuffle=True,\n",
        "            num_workers=num_workers,\n",
        "            drop_last=(name == \"train\"),\n",
        "        )\n",
        "\n",
        "    def _load_dataset(self, name: str) -> Dataset:\n",
        "        full_file: Path = self.partition_dir / str(self.cid)\n",
        "        return load_femnist_dataset(\n",
        "            mapping=full_file,\n",
        "            name=name,\n",
        "            data_dir=data_dir,\n",
        "        )\n",
        "\n",
        "    def _train(\n",
        "        self, net: Module, train_loader: DataLoader, config: dict[str, Scalar]\n",
        "    ) -> float:\n",
        "        return train_femnist(\n",
        "            net=net,\n",
        "            train_loader=train_loader,\n",
        "            epochs=int(config[\"epochs\"]),\n",
        "            device=self.device,\n",
        "            optimizer=torch.optim.AdamW(\n",
        "                net.parameters(),\n",
        "                lr=float(config[\"client_learning_rate\"]),\n",
        "                weight_decay=float(config[\"weight_decay\"]),\n",
        "            ),\n",
        "            criterion=torch.nn.CrossEntropyLoss(),\n",
        "            max_batches=int(config[\"max_batches\"]),\n",
        "        )\n",
        "\n",
        "    def _test(\n",
        "        self, net: Module, test_loader: DataLoader, config: dict[str, Scalar]\n",
        "    ) -> tuple[float, float]:\n",
        "        return test_femnist(\n",
        "            net=net,\n",
        "            test_loader=test_loader,\n",
        "            device=self.device,\n",
        "            criterion=torch.nn.CrossEntropyLoss(),\n",
        "            max_batches=int(config[\"max_batches\"]),\n",
        "        )\n",
        "\n",
        "    def get_properties(self, config: dict[str, Scalar]) -> dict[str, Scalar]:\n",
        "        \"\"\"Return properties for this client.\n",
        "\n",
        "        Parameters\n",
        "        ----------\n",
        "            config (dict[str, Scalar]): Options to be used for selecting specific\n",
        "            properties.\n",
        "\n",
        "        Returns\n",
        "        -------\n",
        "            dict[str, Scalar]: Returned properties.\n",
        "        \"\"\"\n",
        "        return self.properties\n",
        "\n",
        "    def get_train_set_size(self) -> int:\n",
        "        \"\"\"Return the client train set size.\n",
        "\n",
        "        Returns\n",
        "        -------\n",
        "            int: train set size of the client.\n",
        "        \"\"\"\n",
        "        return len(self._load_dataset(\"train\"))  # type: ignore[reportArgumentType]\n",
        "\n",
        "    def get_test_set_size(self) -> int:\n",
        "        \"\"\"Return the client test set size.\n",
        "\n",
        "        Returns\n",
        "        -------\n",
        "            int: test set size of the client.\n",
        "        \"\"\"\n",
        "        return len(self._load_dataset(\"test\"))  # type: ignore[reportArgumentType]\n",
        "\n",
        "\n",
        "# def fit_client_seeded(\n",
        "#     client: FlowerRayClient,\n",
        "#     params: NDArrays,\n",
        "#     conf: dict[str, Any],\n",
        "#     seed: Seeds = Seeds.DEFAULT,\n",
        "#     **kwargs: Any,\n",
        "# ) -> tuple[NDArrays, int, dict]:\n",
        "#     \"\"\"Wrap to always seed client training.\"\"\"\n",
        "#     np.random.seed(seed)\n",
        "#     torch.manual_seed(seed)\n",
        "#     random.seed(seed)\n",
        "#     return client.fit(params, conf, **kwargs)"
      ]
    },
    {
      "cell_type": "code",
      "execution_count": 6,
      "metadata": {
        "id": "Mwfh5JZmUcfd"
      },
      "outputs": [],
      "source": [
        "def get_flower_client_generator(\n",
        "    model_generator: Callable[[], Module],\n",
        "    partition_dir: Path,\n",
        "    mapping_fn: Callable[[int], int] | None = None,\n",
        ") -> Callable[[str], FlowerRayClient]:\n",
        "    \"\"\"Wrap the client instance generator.\n",
        "\n",
        "    This provides the client generator with a model generator function.\n",
        "    Also, the partition directory must be passed.\n",
        "    A mapping function could be used for filtering/ordering clients.\n",
        "\n",
        "    Parameters\n",
        "    ----------\n",
        "        model_generator (Callable[[], Module]): model generator function.\n",
        "        partition_dir (Path): directory containing the partition.\n",
        "        mapping_fn (Optional[Callable[[int], int]]): function mapping sorted/filtered\n",
        "            ids to real cid.\n",
        "\n",
        "    Returns\n",
        "    -------\n",
        "        Callable[[str], FlowerRayClient]: client instance.\n",
        "    \"\"\"\n",
        "\n",
        "    def client_fn(cid: str) -> FlowerRayClient:\n",
        "        \"\"\"Create a single client instance given the client id `cid`.\n",
        "\n",
        "        Parameters\n",
        "        ----------\n",
        "            cid (str): client id, Flower requires this to be of type str.\n",
        "\n",
        "        Returns\n",
        "        -------\n",
        "            FlowerRayClient: client instance.\n",
        "        \"\"\"\n",
        "        return FlowerRayClient(\n",
        "            cid=mapping_fn(int(cid)) if mapping_fn is not None else int(cid),\n",
        "            partition_dir=partition_dir,\n",
        "            model_generator=model_generator,\n",
        "        )\n",
        "\n",
        "    return client_fn"
      ]
    },
    {
      "cell_type": "code",
      "execution_count": 7,
      "metadata": {
        "colab": {
          "base_uri": "https://localhost:8080/"
        },
        "id": "udMWNQ0xU8VD",
        "outputId": "9228feef-c8dd-4577-fb2b-e656ef7688e0"
      },
      "outputs": [
        {
          "name": "stderr",
          "output_type": "stream",
          "text": [
            "INFO flwr 2025-03-28 05:06:04,507 | 3963006861.py:21 | cid: 0\n"
          ]
        },
        {
          "data": {
            "text/html": [
              "<pre style=\"white-space:pre;overflow-x:auto;line-height:normal;font-family:Menlo,'DejaVu Sans Mono',consolas,'Courier New',monospace\"><span style=\"color: #7fbfbf; text-decoration-color: #7fbfbf\">2025-03-28 05:06:04 </span><span style=\"color: #000080; text-decoration-color: #000080\">INFO    </span> cid: <span style=\"color: #008080; text-decoration-color: #008080; font-weight: bold\">0</span>                                                                         <a href=\"file:///tmp/ipykernel_1009755/3963006861.py\" target=\"_blank\"><span style=\"color: #7f7f7f; text-decoration-color: #7f7f7f\">flwr</span></a><span style=\"color: #7f7f7f; text-decoration-color: #7f7f7f\">:</span><a href=\"file:///tmp/ipykernel_1009755/3963006861.py#21\" target=\"_blank\"><span style=\"color: #7f7f7f; text-decoration-color: #7f7f7f\">21</span></a>\n",
              "</pre>\n"
            ],
            "text/plain": [
              "\u001b[2;36m2025-03-28 05:06:04\u001b[0m\u001b[2;36m \u001b[0m\u001b[34mINFO    \u001b[0m cid: \u001b[1;36m0\u001b[0m                                                                         \u001b]8;id=234053;file:///tmp/ipykernel_1009755/3963006861.py\u001b\\\u001b[2mflwr\u001b[0m\u001b]8;;\u001b\\\u001b[2m:\u001b[0m\u001b]8;id=146316;file:///tmp/ipykernel_1009755/3963006861.py#21\u001b\\\u001b[2m21\u001b[0m\u001b]8;;\u001b\\\n"
            ]
          },
          "metadata": {},
          "output_type": "display_data"
        }
      ],
      "source": [
        "network_generator = get_network_generator()\n",
        "seed_net: Net = network_generator()\n",
        "seed_model_params: NDArrays = get_model_parameters(seed_net)\n",
        "\n",
        "centralized_flower_client_generator: Callable[[str], FlowerRayClient] = (\n",
        "    get_flower_client_generator(network_generator, centralized_partition)\n",
        ")\n",
        "centralized_flower_client = centralized_flower_client_generator(str(0))"
      ]
    },
    {
      "cell_type": "code",
      "execution_count": 8,
      "metadata": {},
      "outputs": [
        {
          "data": {
            "text/plain": [
              "CNN(\n",
              "  (conv1): Conv2d(1, 6, kernel_size=(5, 5), stride=(1, 1))\n",
              "  (pool): MaxPool2d(kernel_size=2, stride=2, padding=0, dilation=1, ceil_mode=False)\n",
              "  (conv2): Conv2d(6, 16, kernel_size=(5, 5), stride=(1, 1))\n",
              "  (fc1): Linear(in_features=256, out_features=120, bias=True)\n",
              "  (fc2): Linear(in_features=120, out_features=84, bias=True)\n",
              "  (fc3): Linear(in_features=84, out_features=62, bias=True)\n",
              ")"
            ]
          },
          "execution_count": 8,
          "metadata": {},
          "output_type": "execute_result"
        }
      ],
      "source": [
        "seed_net"
      ]
    },
    {
      "cell_type": "code",
      "execution_count": 9,
      "metadata": {},
      "outputs": [
        {
          "data": {
            "text/plain": [
              "OrderedDict([('conv1.weight',\n",
              "              tensor([[[[ 0.1529,  0.1660, -0.0469,  0.1837, -0.0438],\n",
              "                        [ 0.0404, -0.0974,  0.1175,  0.1763, -0.1467],\n",
              "                        [ 0.1738,  0.0374,  0.1478,  0.0271,  0.0964],\n",
              "                        [-0.0282,  0.1542,  0.0296, -0.0934,  0.0510],\n",
              "                        [-0.0921, -0.0235, -0.0812,  0.1327, -0.1579]]],\n",
              "              \n",
              "              \n",
              "                      [[[-0.0922, -0.0565, -0.1203,  0.0189, -0.1975],\n",
              "                        [ 0.1806, -0.1699,  0.1544,  0.0333, -0.0649],\n",
              "                        [ 0.1236,  0.0312,  0.1616,  0.0219, -0.0631],\n",
              "                        [ 0.0537, -0.0542,  0.0842,  0.1786,  0.1156],\n",
              "                        [-0.0874,  0.1155,  0.0358,  0.1016, -0.1219]]],\n",
              "              \n",
              "              \n",
              "                      [[[-0.1980, -0.0773, -0.1534,  0.1641,  0.0576],\n",
              "                        [ 0.0828,  0.0633, -0.0035,  0.1565, -0.1421],\n",
              "                        [ 0.0126, -0.1365,  0.0617, -0.0689,  0.0613],\n",
              "                        [-0.0417,  0.1659, -0.1185, -0.1193, -0.1193],\n",
              "                        [ 0.1799,  0.0667,  0.1925, -0.1651, -0.1984]]],\n",
              "              \n",
              "              \n",
              "                      [[[-0.1565, -0.1345,  0.0810,  0.0716,  0.1662],\n",
              "                        [-0.1033, -0.1363,  0.1061, -0.0808,  0.1214],\n",
              "                        [-0.0475,  0.1144, -0.1554, -0.1009,  0.0610],\n",
              "                        [ 0.0423, -0.0510,  0.1192,  0.1360, -0.1450],\n",
              "                        [-0.1068,  0.1831, -0.0675, -0.0709, -0.1935]]],\n",
              "              \n",
              "              \n",
              "                      [[[-0.1145,  0.0500, -0.0264, -0.1452,  0.0047],\n",
              "                        [-0.1366, -0.1697, -0.1101, -0.1750, -0.1273],\n",
              "                        [ 0.1999,  0.0378,  0.0616, -0.1865, -0.1314],\n",
              "                        [-0.0666,  0.0313, -0.1760, -0.0862, -0.1197],\n",
              "                        [ 0.0006, -0.0744, -0.0139, -0.1355, -0.1373]]],\n",
              "              \n",
              "              \n",
              "                      [[[-0.1167, -0.0685, -0.1579,  0.1677, -0.0397],\n",
              "                        [ 0.1721,  0.0623, -0.1694,  0.1384, -0.0550],\n",
              "                        [-0.0767, -0.1660, -0.1988,  0.0572, -0.0437],\n",
              "                        [ 0.0779, -0.1641,  0.1485, -0.1468, -0.0345],\n",
              "                        [ 0.0418,  0.1033,  0.1615,  0.1822, -0.1586]]]])),\n",
              "             ('conv1.bias',\n",
              "              tensor([ 0.0503, -0.0860, -0.0219, -0.1497,  0.1822, -0.1468])),\n",
              "             ('conv2.weight',\n",
              "              tensor([[[[ 0.0436,  0.0287,  0.0265, -0.0441,  0.0742],\n",
              "                        [ 0.0179,  0.0105, -0.0720,  0.0343, -0.0122],\n",
              "                        [-0.0374,  0.0701,  0.0182, -0.0452, -0.0413],\n",
              "                        [-0.0039,  0.0456, -0.0209, -0.0466, -0.0280],\n",
              "                        [-0.0610,  0.0291,  0.0632, -0.0769,  0.0190]],\n",
              "              \n",
              "                       [[ 0.0422,  0.0148, -0.0291,  0.0426,  0.0429],\n",
              "                        [ 0.0305, -0.0143, -0.0216,  0.0087, -0.0144],\n",
              "                        [-0.0243,  0.0522,  0.0702, -0.0081, -0.0183],\n",
              "                        [ 0.0012, -0.0049,  0.0196,  0.0229, -0.0742],\n",
              "                        [-0.0301,  0.0688,  0.0318, -0.0041, -0.0492]],\n",
              "              \n",
              "                       [[-0.0500, -0.0731, -0.0266,  0.0276,  0.0521],\n",
              "                        [ 0.0377, -0.0722, -0.0491, -0.0129,  0.0790],\n",
              "                        [ 0.0118, -0.0211,  0.0338, -0.0311, -0.0528],\n",
              "                        [ 0.0596, -0.0371, -0.0164, -0.0812,  0.0546],\n",
              "                        [ 0.0619,  0.0298, -0.0569, -0.0806, -0.0663]],\n",
              "              \n",
              "                       [[ 0.0609,  0.0392,  0.0687,  0.0428,  0.0207],\n",
              "                        [-0.0008, -0.0621, -0.0700, -0.0764,  0.0334],\n",
              "                        [-0.0401, -0.0164, -0.0470, -0.0149, -0.0575],\n",
              "                        [-0.0534,  0.0271, -0.0243,  0.0504, -0.0262],\n",
              "                        [-0.0599, -0.0144, -0.0396, -0.0250, -0.0777]],\n",
              "              \n",
              "                       [[ 0.0457, -0.0568,  0.0410,  0.0371,  0.0583],\n",
              "                        [-0.0626,  0.0587, -0.0386,  0.0303,  0.0767],\n",
              "                        [-0.0115, -0.0006, -0.0188, -0.0682,  0.0392],\n",
              "                        [-0.0811,  0.0507,  0.0611,  0.0772, -0.0193],\n",
              "                        [-0.0671,  0.0184,  0.0451, -0.0813, -0.0185]],\n",
              "              \n",
              "                       [[-0.0489, -0.0071, -0.0402, -0.0334, -0.0259],\n",
              "                        [-0.0776,  0.0670,  0.0684, -0.0128, -0.0093],\n",
              "                        [-0.0333, -0.0737, -0.0795,  0.0303, -0.0448],\n",
              "                        [-0.0525, -0.0064, -0.0272, -0.0264,  0.0026],\n",
              "                        [-0.0173, -0.0281, -0.0391, -0.0664,  0.0685]]],\n",
              "              \n",
              "              \n",
              "                      [[[-0.0327,  0.0216, -0.0283,  0.0066,  0.0761],\n",
              "                        [ 0.0376, -0.0708,  0.0324,  0.0775,  0.0215],\n",
              "                        [ 0.0547,  0.0805, -0.0125,  0.0169, -0.0567],\n",
              "                        [-0.0168,  0.0605,  0.0419, -0.0517, -0.0655],\n",
              "                        [-0.0558, -0.0806, -0.0630, -0.0202,  0.0551]],\n",
              "              \n",
              "                       [[ 0.0137, -0.0621, -0.0655,  0.0406, -0.0607],\n",
              "                        [-0.0101,  0.0392, -0.0378, -0.0089, -0.0071],\n",
              "                        [-0.0193, -0.0414, -0.0728, -0.0660, -0.0437],\n",
              "                        [ 0.0789, -0.0394, -0.0548,  0.0198,  0.0225],\n",
              "                        [ 0.0447,  0.0621,  0.0455, -0.0810,  0.0072]],\n",
              "              \n",
              "                       [[ 0.0495, -0.0075, -0.0481,  0.0778, -0.0305],\n",
              "                        [-0.0465, -0.0736,  0.0036,  0.0362,  0.0181],\n",
              "                        [ 0.0161, -0.0619, -0.0763,  0.0014,  0.0745],\n",
              "                        [ 0.0471, -0.0475, -0.0106, -0.0602, -0.0394],\n",
              "                        [ 0.0148,  0.0445,  0.0676, -0.0750,  0.0546]],\n",
              "              \n",
              "                       [[-0.0576,  0.0306,  0.0691,  0.0011,  0.0743],\n",
              "                        [-0.0696, -0.0312,  0.0476, -0.0178, -0.0167],\n",
              "                        [-0.0340,  0.0563,  0.0400,  0.0262, -0.0459],\n",
              "                        [-0.0663,  0.0088,  0.0242, -0.0377, -0.0228],\n",
              "                        [ 0.0551,  0.0065,  0.0037, -0.0201, -0.0739]],\n",
              "              \n",
              "                       [[-0.0768, -0.0390, -0.0415,  0.0254, -0.0238],\n",
              "                        [-0.0319,  0.0778,  0.0284,  0.0582, -0.0395],\n",
              "                        [-0.0334,  0.0300, -0.0544, -0.0534, -0.0039],\n",
              "                        [-0.0299, -0.0612,  0.0484,  0.0657,  0.0132],\n",
              "                        [-0.0142, -0.0756, -0.0297,  0.0208,  0.0385]],\n",
              "              \n",
              "                       [[-0.0103, -0.0323,  0.0455, -0.0650,  0.0516],\n",
              "                        [-0.0317,  0.0012, -0.0161,  0.0099, -0.0247],\n",
              "                        [ 0.0594, -0.0021,  0.0637,  0.0785, -0.0398],\n",
              "                        [-0.0596,  0.0655,  0.0640, -0.0623, -0.0063],\n",
              "                        [-0.0805, -0.0668,  0.0158,  0.0217,  0.0173]]],\n",
              "              \n",
              "              \n",
              "                      [[[-0.0222,  0.0753,  0.0117, -0.0482, -0.0046],\n",
              "                        [ 0.0196,  0.0286, -0.0577,  0.0306, -0.0417],\n",
              "                        [-0.0678, -0.0446,  0.0787,  0.0698,  0.0731],\n",
              "                        [ 0.0479,  0.0617, -0.0109, -0.0449,  0.0408],\n",
              "                        [-0.0423, -0.0551, -0.0261,  0.0171,  0.0420]],\n",
              "              \n",
              "                       [[-0.0317, -0.0481,  0.0110, -0.0481, -0.0532],\n",
              "                        [ 0.0426, -0.0137,  0.0746,  0.0794,  0.0244],\n",
              "                        [ 0.0281,  0.0188,  0.0013, -0.0059,  0.0011],\n",
              "                        [ 0.0305,  0.0759, -0.0212, -0.0345, -0.0198],\n",
              "                        [-0.0394,  0.0139,  0.0609,  0.0638,  0.0375]],\n",
              "              \n",
              "                       [[-0.0601, -0.0438, -0.0179, -0.0151,  0.0067],\n",
              "                        [-0.0750,  0.0254, -0.0623, -0.0517, -0.0679],\n",
              "                        [ 0.0711, -0.0773,  0.0616, -0.0027, -0.0095],\n",
              "                        [ 0.0511, -0.0075,  0.0512,  0.0590, -0.0709],\n",
              "                        [ 0.0314,  0.0154,  0.0176,  0.0119,  0.0223]],\n",
              "              \n",
              "                       [[-0.0393, -0.0104,  0.0776,  0.0549, -0.0031],\n",
              "                        [-0.0768,  0.0036, -0.0556,  0.0664, -0.0496],\n",
              "                        [-0.0059, -0.0181,  0.0145,  0.0768,  0.0078],\n",
              "                        [ 0.0473,  0.0634,  0.0659, -0.0282, -0.0183],\n",
              "                        [ 0.0394, -0.0223,  0.0382, -0.0178, -0.0554]],\n",
              "              \n",
              "                       [[ 0.0332,  0.0125,  0.0364,  0.0811,  0.0557],\n",
              "                        [ 0.0774,  0.0044, -0.0702, -0.0573, -0.0507],\n",
              "                        [-0.0720, -0.0409, -0.0752, -0.0753, -0.0488],\n",
              "                        [-0.0805, -0.0501,  0.0311,  0.0681, -0.0243],\n",
              "                        [-0.0238,  0.0436, -0.0403, -0.0386,  0.0503]],\n",
              "              \n",
              "                       [[-0.0711,  0.0100,  0.0721,  0.0140,  0.0222],\n",
              "                        [-0.0476, -0.0011,  0.0045,  0.0200,  0.0317],\n",
              "                        [ 0.0709, -0.0623,  0.0024, -0.0408, -0.0646],\n",
              "                        [-0.0065, -0.0719,  0.0570,  0.0095, -0.0440],\n",
              "                        [ 0.0427, -0.0773, -0.0316, -0.0159, -0.0694]]],\n",
              "              \n",
              "              \n",
              "                      ...,\n",
              "              \n",
              "              \n",
              "                      [[[-0.0019,  0.0698, -0.0047, -0.0117,  0.0461],\n",
              "                        [-0.0021, -0.0163,  0.0273,  0.0644,  0.0204],\n",
              "                        [ 0.0569,  0.0529,  0.0231,  0.0284,  0.0263],\n",
              "                        [ 0.0085,  0.0695,  0.0754,  0.0291, -0.0041],\n",
              "                        [ 0.0732, -0.0635,  0.0600,  0.0433,  0.0524]],\n",
              "              \n",
              "                       [[-0.0063, -0.0609,  0.0582, -0.0357,  0.0215],\n",
              "                        [ 0.0463, -0.0763,  0.0054, -0.0290,  0.0580],\n",
              "                        [-0.0520,  0.0496,  0.0509,  0.0450,  0.0784],\n",
              "                        [ 0.0124, -0.0740,  0.0583,  0.0075,  0.0016],\n",
              "                        [-0.0778, -0.0184, -0.0396,  0.0800,  0.0581]],\n",
              "              \n",
              "                       [[ 0.0609,  0.0559, -0.0506, -0.0351, -0.0320],\n",
              "                        [-0.0327,  0.0636,  0.0277,  0.0654, -0.0038],\n",
              "                        [-0.0728, -0.0237,  0.0574,  0.0497,  0.0253],\n",
              "                        [-0.0240, -0.0762, -0.0439,  0.0426, -0.0329],\n",
              "                        [ 0.0391,  0.0223, -0.0314,  0.0497, -0.0262]],\n",
              "              \n",
              "                       [[-0.0027, -0.0311, -0.0775,  0.0132,  0.0236],\n",
              "                        [-0.0411,  0.0501, -0.0732, -0.0787, -0.0504],\n",
              "                        [-0.0282, -0.0091, -0.0158,  0.0373, -0.0717],\n",
              "                        [ 0.0120,  0.0014,  0.0216,  0.0812,  0.0503],\n",
              "                        [-0.0452, -0.0669, -0.0198, -0.0410,  0.0285]],\n",
              "              \n",
              "                       [[ 0.0007,  0.0657,  0.0321, -0.0150,  0.0028],\n",
              "                        [ 0.0196, -0.0101,  0.0659, -0.0638,  0.0398],\n",
              "                        [-0.0520, -0.0715, -0.0168,  0.0398,  0.0577],\n",
              "                        [ 0.0205, -0.0071, -0.0046, -0.0331, -0.0073],\n",
              "                        [-0.0056,  0.0695,  0.0478, -0.0653,  0.0003]],\n",
              "              \n",
              "                       [[-0.0502, -0.0130, -0.0649,  0.0212, -0.0589],\n",
              "                        [ 0.0806,  0.0617, -0.0562, -0.0769,  0.0032],\n",
              "                        [-0.0228,  0.0240, -0.0553,  0.0334, -0.0705],\n",
              "                        [-0.0431, -0.0429,  0.0395, -0.0021, -0.0785],\n",
              "                        [-0.0466, -0.0378, -0.0758,  0.0105,  0.0291]]],\n",
              "              \n",
              "              \n",
              "                      [[[-0.0150, -0.0325, -0.0005, -0.0649, -0.0497],\n",
              "                        [-0.0019,  0.0725, -0.0251,  0.0405, -0.0321],\n",
              "                        [-0.0217, -0.0777,  0.0676,  0.0795, -0.0017],\n",
              "                        [ 0.0519,  0.0668,  0.0406,  0.0421, -0.0777],\n",
              "                        [-0.0767, -0.0627,  0.0255, -0.0706, -0.0623]],\n",
              "              \n",
              "                       [[-0.0396, -0.0753,  0.0001,  0.0118, -0.0478],\n",
              "                        [ 0.0535, -0.0310, -0.0230,  0.0622,  0.0701],\n",
              "                        [-0.0094, -0.0586, -0.0410,  0.0104,  0.0479],\n",
              "                        [ 0.0406, -0.0361, -0.0772, -0.0715, -0.0260],\n",
              "                        [ 0.0010, -0.0367, -0.0646,  0.0086, -0.0648]],\n",
              "              \n",
              "                       [[-0.0627, -0.0664, -0.0221,  0.0721,  0.0319],\n",
              "                        [-0.0097,  0.0168,  0.0325,  0.0005, -0.0659],\n",
              "                        [-0.0503, -0.0555, -0.0021, -0.0747, -0.0148],\n",
              "                        [-0.0299,  0.0801,  0.0664,  0.0474,  0.0046],\n",
              "                        [-0.0264,  0.0208, -0.0564, -0.0348, -0.0164]],\n",
              "              \n",
              "                       [[-0.0192, -0.0773,  0.0325,  0.0672, -0.0450],\n",
              "                        [ 0.0220, -0.0095, -0.0030,  0.0048,  0.0708],\n",
              "                        [ 0.0109, -0.0517, -0.0294,  0.0399,  0.0255],\n",
              "                        [ 0.0016, -0.0108, -0.0318, -0.0290, -0.0431],\n",
              "                        [ 0.0134,  0.0229,  0.0625, -0.0184,  0.0058]],\n",
              "              \n",
              "                       [[ 0.0528,  0.0355,  0.0105,  0.0251,  0.0042],\n",
              "                        [-0.0700,  0.0031, -0.0178,  0.0737,  0.0737],\n",
              "                        [ 0.0162,  0.0730, -0.0421,  0.0710,  0.0703],\n",
              "                        [-0.0031, -0.0655, -0.0263, -0.0218,  0.0013],\n",
              "                        [-0.0740,  0.0151, -0.0340, -0.0209, -0.0422]],\n",
              "              \n",
              "                       [[-0.0172, -0.0758, -0.0433,  0.0075,  0.0535],\n",
              "                        [ 0.0742, -0.0618,  0.0343, -0.0460, -0.0631],\n",
              "                        [-0.0036, -0.0468, -0.0703, -0.0763, -0.0547],\n",
              "                        [ 0.0671,  0.0455, -0.0323, -0.0546, -0.0628],\n",
              "                        [-0.0482, -0.0336,  0.0490,  0.0267, -0.0315]]],\n",
              "              \n",
              "              \n",
              "                      [[[ 0.0562, -0.0507, -0.0665,  0.0178, -0.0450],\n",
              "                        [ 0.0232,  0.0692, -0.0386, -0.0570,  0.0307],\n",
              "                        [-0.0737,  0.0728, -0.0386,  0.0395, -0.0649],\n",
              "                        [-0.0553,  0.0090,  0.0290,  0.0633,  0.0683],\n",
              "                        [-0.0047, -0.0105,  0.0135, -0.0190,  0.0028]],\n",
              "              \n",
              "                       [[-0.0773, -0.0670,  0.0560, -0.0477,  0.0643],\n",
              "                        [ 0.0090,  0.0199,  0.0742, -0.0454, -0.0129],\n",
              "                        [ 0.0145,  0.0279, -0.0795,  0.0290, -0.0482],\n",
              "                        [ 0.0107,  0.0552, -0.0081, -0.0026, -0.0061],\n",
              "                        [ 0.0681,  0.0464,  0.0137, -0.0491, -0.0443]],\n",
              "              \n",
              "                       [[ 0.0650,  0.0587,  0.0473, -0.0637,  0.0636],\n",
              "                        [-0.0078,  0.0602,  0.0709,  0.0089, -0.0340],\n",
              "                        [ 0.0768, -0.0425,  0.0534, -0.0783, -0.0257],\n",
              "                        [-0.0712, -0.0366,  0.0347, -0.0585, -0.0706],\n",
              "                        [ 0.0584,  0.0436, -0.0009, -0.0576, -0.0216]],\n",
              "              \n",
              "                       [[-0.0264,  0.0504, -0.0267, -0.0235, -0.0579],\n",
              "                        [-0.0385,  0.0442,  0.0526,  0.0119, -0.0306],\n",
              "                        [ 0.0784,  0.0161, -0.0315, -0.0283, -0.0114],\n",
              "                        [ 0.0387,  0.0299,  0.0592, -0.0037,  0.0675],\n",
              "                        [-0.0332, -0.0376, -0.0302, -0.0766, -0.0536]],\n",
              "              \n",
              "                       [[-0.0739, -0.0048,  0.0008, -0.0212, -0.0558],\n",
              "                        [ 0.0741, -0.0271,  0.0389,  0.0569, -0.0537],\n",
              "                        [-0.0102,  0.0472,  0.0791, -0.0103,  0.0592],\n",
              "                        [-0.0641, -0.0531,  0.0671, -0.0077,  0.0807],\n",
              "                        [ 0.0059, -0.0339,  0.0775,  0.0714,  0.0076]],\n",
              "              \n",
              "                       [[-0.0495, -0.0035, -0.0393,  0.0595,  0.0038],\n",
              "                        [ 0.0172,  0.0495,  0.0270, -0.0510,  0.0678],\n",
              "                        [ 0.0502, -0.0504,  0.0617,  0.0232, -0.0161],\n",
              "                        [-0.0584, -0.0135, -0.0801,  0.0466,  0.0591],\n",
              "                        [-0.0235,  0.0757, -0.0302,  0.0140, -0.0569]]]])),\n",
              "             ('conv2.bias',\n",
              "              tensor([-0.0035,  0.0330,  0.0352, -0.0027, -0.0412,  0.0571,  0.0541,  0.0131,\n",
              "                      -0.0375,  0.0173,  0.0002,  0.0746,  0.0121,  0.0063,  0.0056,  0.0434])),\n",
              "             ('fc1.weight',\n",
              "              tensor([[-0.0008,  0.0536,  0.0326,  ...,  0.0117,  0.0143, -0.0024],\n",
              "                      [ 0.0599, -0.0413,  0.0339,  ...,  0.0114, -0.0174, -0.0485],\n",
              "                      [-0.0335, -0.0102,  0.0225,  ..., -0.0411, -0.0291,  0.0319],\n",
              "                      ...,\n",
              "                      [-0.0113,  0.0071, -0.0099,  ..., -0.0032,  0.0004,  0.0597],\n",
              "                      [-0.0185, -0.0607, -0.0390,  ...,  0.0534,  0.0247,  0.0230],\n",
              "                      [-0.0324, -0.0263,  0.0071,  ...,  0.0157, -0.0617, -0.0092]])),\n",
              "             ('fc1.bias',\n",
              "              tensor([-0.0048, -0.0354,  0.0355,  0.0581,  0.0610,  0.0456, -0.0162, -0.0329,\n",
              "                       0.0380,  0.0504, -0.0229,  0.0407, -0.0308, -0.0186,  0.0501,  0.0598,\n",
              "                      -0.0541,  0.0343,  0.0537,  0.0123,  0.0247,  0.0276,  0.0024,  0.0377,\n",
              "                      -0.0415, -0.0063, -0.0197,  0.0326, -0.0422,  0.0283, -0.0268,  0.0462,\n",
              "                      -0.0030,  0.0090,  0.0239,  0.0217,  0.0289,  0.0391, -0.0154, -0.0252,\n",
              "                       0.0215, -0.0612,  0.0143,  0.0275,  0.0500,  0.0472, -0.0340, -0.0457,\n",
              "                      -0.0162, -0.0518,  0.0069,  0.0366,  0.0353, -0.0606,  0.0254, -0.0307,\n",
              "                      -0.0273, -0.0444, -0.0182, -0.0253, -0.0316,  0.0498, -0.0058,  0.0230,\n",
              "                      -0.0138,  0.0390, -0.0447, -0.0158, -0.0371, -0.0367, -0.0209, -0.0597,\n",
              "                      -0.0009, -0.0603,  0.0073,  0.0130,  0.0415, -0.0488, -0.0119, -0.0097,\n",
              "                      -0.0556,  0.0359,  0.0330,  0.0266, -0.0075,  0.0070,  0.0377, -0.0277,\n",
              "                       0.0237,  0.0236, -0.0583, -0.0288, -0.0364, -0.0470,  0.0478, -0.0216,\n",
              "                      -0.0186, -0.0570,  0.0544, -0.0082,  0.0502,  0.0498, -0.0278,  0.0018,\n",
              "                       0.0315,  0.0587, -0.0090, -0.0222,  0.0621,  0.0368, -0.0350,  0.0252,\n",
              "                      -0.0528,  0.0182,  0.0198, -0.0225, -0.0263,  0.0368,  0.0025, -0.0515])),\n",
              "             ('fc2.weight',\n",
              "              tensor([[ 0.0394,  0.0371, -0.0468,  ..., -0.0701, -0.0628,  0.0409],\n",
              "                      [-0.0899,  0.0309,  0.0211,  ...,  0.0459, -0.0434, -0.0875],\n",
              "                      [-0.0251, -0.0667, -0.0872,  ...,  0.0819, -0.0200,  0.0187],\n",
              "                      ...,\n",
              "                      [ 0.0028,  0.0667,  0.0225,  ...,  0.0807,  0.0903,  0.0534],\n",
              "                      [-0.0662,  0.0198, -0.0543,  ...,  0.0277,  0.0148,  0.0910],\n",
              "                      [ 0.0593,  0.0423, -0.0111,  ...,  0.0371,  0.0765,  0.0344]])),\n",
              "             ('fc2.bias',\n",
              "              tensor([ 0.0341,  0.0721,  0.0711,  0.0449, -0.0112, -0.0317,  0.0402, -0.0865,\n",
              "                      -0.0232,  0.0758, -0.0485,  0.0080, -0.0415,  0.0685, -0.0727,  0.0250,\n",
              "                      -0.0575, -0.0756, -0.0450, -0.0897,  0.0763,  0.0513,  0.0312, -0.0483,\n",
              "                      -0.0560,  0.0113, -0.0171, -0.0535,  0.0097, -0.0326, -0.0258, -0.0820,\n",
              "                       0.0382, -0.0532,  0.0807, -0.0154,  0.0200, -0.0840, -0.0168,  0.0441,\n",
              "                      -0.0254, -0.0842, -0.0316, -0.0483,  0.0007, -0.0436,  0.0136, -0.0551,\n",
              "                      -0.0323,  0.0197, -0.0352,  0.0277, -0.0572, -0.0152,  0.0779, -0.0432,\n",
              "                      -0.0728, -0.0505, -0.0468, -0.0287,  0.0704, -0.0248,  0.0737,  0.0625,\n",
              "                       0.0367,  0.0452,  0.0285, -0.0751,  0.0555, -0.0376, -0.0792,  0.0717,\n",
              "                      -0.0698, -0.0039, -0.0887, -0.0865,  0.0423,  0.0191,  0.0702, -0.0506,\n",
              "                      -0.0519, -0.0372,  0.0880,  0.0625])),\n",
              "             ('fc3.weight',\n",
              "              tensor([[-0.1081, -0.0152, -0.0586,  ...,  0.0137,  0.0985, -0.0286],\n",
              "                      [-0.0277, -0.0523,  0.0973,  ...,  0.0748, -0.0127, -0.0884],\n",
              "                      [ 0.0915,  0.0473, -0.1065,  ...,  0.0558, -0.1051,  0.0965],\n",
              "                      ...,\n",
              "                      [ 0.0783,  0.0372,  0.0567,  ...,  0.0252, -0.0688,  0.0418],\n",
              "                      [-0.0682,  0.0154,  0.0091,  ...,  0.0564,  0.0203, -0.0243],\n",
              "                      [-0.0613,  0.1084,  0.0868,  ...,  0.0588,  0.0306, -0.0099]])),\n",
              "             ('fc3.bias',\n",
              "              tensor([ 6.7957e-02,  9.4378e-03,  1.3103e-02,  2.6898e-02, -1.2747e-06,\n",
              "                       4.6280e-02, -9.5610e-03, -5.4969e-02, -7.0501e-02, -1.7285e-02,\n",
              "                      -1.2494e-02, -9.8909e-02,  2.9146e-03, -8.3561e-03,  7.1103e-02,\n",
              "                      -4.5630e-02, -5.2592e-02, -1.5050e-02, -3.6519e-02, -1.5697e-02,\n",
              "                       4.8425e-02,  3.5364e-02,  3.9803e-02,  7.3349e-02,  1.7416e-02,\n",
              "                      -1.0189e-01, -1.0140e-01,  9.3592e-02, -2.7882e-02,  5.5980e-02,\n",
              "                       9.2772e-02, -5.2893e-03,  1.0809e-01, -7.2612e-02, -9.0761e-02,\n",
              "                      -8.5886e-02, -7.5720e-02,  4.3409e-02,  2.4846e-02, -3.9405e-02,\n",
              "                      -1.3422e-02,  1.0332e-01,  4.1987e-02,  7.1720e-02, -5.5562e-02,\n",
              "                      -4.5358e-02,  2.7331e-02, -9.3443e-02, -9.7108e-02, -5.9647e-02,\n",
              "                      -2.3984e-02, -4.7790e-04, -1.4039e-02,  2.4826e-02, -5.4777e-02,\n",
              "                      -1.3983e-02,  6.3761e-02, -6.2942e-02, -9.9533e-02,  1.1834e-02,\n",
              "                      -8.5350e-02, -7.7316e-02]))])"
            ]
          },
          "execution_count": 9,
          "metadata": {},
          "output_type": "execute_result"
        }
      ],
      "source": [
        "seed_net.state_dict()"
      ]
    },
    {
      "cell_type": "code",
      "execution_count": 10,
      "metadata": {
        "id": "6QQv15XxXhvJ"
      },
      "outputs": [],
      "source": [
        "def sample_random_clients(\n",
        "    total_clients: int,\n",
        "    filter_less: int,\n",
        "    partition: Path,\n",
        "    seed: int | None = Seeds.DEFAULT,\n",
        ") -> Sequence[int]:\n",
        "    \"\"\"Sample randomly clients.\n",
        "\n",
        "    A filter on the client train set size is performed.\n",
        "\n",
        "    Parameters\n",
        "    ----------\n",
        "        total_clients (int): total number of clients to sample.\n",
        "        filter_less (int): max number of train samples for which the client is\n",
        "            **discarded**.\n",
        "        partition (Path): path to the folder containing the partitioning.\n",
        "        seed (Optional[int], optional): seed for the random generator. Defaults to None.\n",
        "\n",
        "    Returns\n",
        "    -------\n",
        "        Sequence[int]: list of sample client ids as int.\n",
        "    \"\"\"\n",
        "    real_federated_cid_client_generator: Callable[[str], FlowerRayClient] = (\n",
        "        get_flower_client_generator(network_generator, federated_partition)\n",
        "    )\n",
        "    if seed is not None:\n",
        "        random.seed(seed)\n",
        "    list_of_ids = []\n",
        "    while len(list_of_ids) < total_clients:\n",
        "        current_id = random.randint(0, 619)\n",
        "        if (\n",
        "            real_federated_cid_client_generator(str(current_id)).get_train_set_size()\n",
        "            > filter_less\n",
        "        ):\n",
        "            list_of_ids.append(current_id)\n",
        "    return list_of_ids"
      ]
    },
    {
      "cell_type": "markdown",
      "metadata": {
        "id": "togXum333D1L"
      },
      "source": [
        "While FEMNIST has more than 3000 clients, our small-scale experiments will not require more than 100 at any point."
      ]
    },
    {
      "cell_type": "code",
      "execution_count": 11,
      "metadata": {
        "colab": {
          "base_uri": "https://localhost:8080/"
        },
        "id": "e-s7oVYNXkwf",
        "outputId": "0535dead-7487-4737-cea9-7b0b78184a5a"
      },
      "outputs": [
        {
          "name": "stderr",
          "output_type": "stream",
          "text": [
            "INFO flwr 2025-03-28 05:06:04,594 | 3963006861.py:21 | cid: 114\n"
          ]
        },
        {
          "data": {
            "text/html": [
              "<pre style=\"white-space:pre;overflow-x:auto;line-height:normal;font-family:Menlo,'DejaVu Sans Mono',consolas,'Courier New',monospace\"><span style=\"color: #7fbfbf; text-decoration-color: #7fbfbf\">                    </span><span style=\"color: #000080; text-decoration-color: #000080\">INFO    </span> cid: <span style=\"color: #008080; text-decoration-color: #008080; font-weight: bold\">114</span>                                                                       <a href=\"file:///tmp/ipykernel_1009755/3963006861.py\" target=\"_blank\"><span style=\"color: #7f7f7f; text-decoration-color: #7f7f7f\">flwr</span></a><span style=\"color: #7f7f7f; text-decoration-color: #7f7f7f\">:</span><a href=\"file:///tmp/ipykernel_1009755/3963006861.py#21\" target=\"_blank\"><span style=\"color: #7f7f7f; text-decoration-color: #7f7f7f\">21</span></a>\n",
              "</pre>\n"
            ],
            "text/plain": [
              "\u001b[2;36m                   \u001b[0m\u001b[2;36m \u001b[0m\u001b[34mINFO    \u001b[0m cid: \u001b[1;36m114\u001b[0m                                                                       \u001b]8;id=234053;file:///tmp/ipykernel_1009755/3963006861.py\u001b\\\u001b[2mflwr\u001b[0m\u001b]8;;\u001b\\\u001b[2m:\u001b[0m\u001b]8;id=146316;file:///tmp/ipykernel_1009755/3963006861.py#21\u001b\\\u001b[2m21\u001b[0m\u001b]8;;\u001b\\\n"
            ]
          },
          "metadata": {},
          "output_type": "display_data"
        },
        {
          "name": "stderr",
          "output_type": "stream",
          "text": [
            "INFO flwr 2025-03-28 05:06:04,602 | 3963006861.py:21 | cid: 104\n"
          ]
        },
        {
          "data": {
            "text/html": [
              "<pre style=\"white-space:pre;overflow-x:auto;line-height:normal;font-family:Menlo,'DejaVu Sans Mono',consolas,'Courier New',monospace\"><span style=\"color: #7fbfbf; text-decoration-color: #7fbfbf\">                    </span><span style=\"color: #000080; text-decoration-color: #000080\">INFO    </span> cid: <span style=\"color: #008080; text-decoration-color: #008080; font-weight: bold\">104</span>                                                                       <a href=\"file:///tmp/ipykernel_1009755/3963006861.py\" target=\"_blank\"><span style=\"color: #7f7f7f; text-decoration-color: #7f7f7f\">flwr</span></a><span style=\"color: #7f7f7f; text-decoration-color: #7f7f7f\">:</span><a href=\"file:///tmp/ipykernel_1009755/3963006861.py#21\" target=\"_blank\"><span style=\"color: #7f7f7f; text-decoration-color: #7f7f7f\">21</span></a>\n",
              "</pre>\n"
            ],
            "text/plain": [
              "\u001b[2;36m                   \u001b[0m\u001b[2;36m \u001b[0m\u001b[34mINFO    \u001b[0m cid: \u001b[1;36m104\u001b[0m                                                                       \u001b]8;id=91161;file:///tmp/ipykernel_1009755/3963006861.py\u001b\\\u001b[2mflwr\u001b[0m\u001b]8;;\u001b\\\u001b[2m:\u001b[0m\u001b]8;id=619176;file:///tmp/ipykernel_1009755/3963006861.py#21\u001b\\\u001b[2m21\u001b[0m\u001b]8;;\u001b\\\n"
            ]
          },
          "metadata": {},
          "output_type": "display_data"
        },
        {
          "name": "stderr",
          "output_type": "stream",
          "text": [
            "INFO flwr 2025-03-28 05:06:04,608 | 3963006861.py:21 | cid: 432\n"
          ]
        },
        {
          "data": {
            "text/html": [
              "<pre style=\"white-space:pre;overflow-x:auto;line-height:normal;font-family:Menlo,'DejaVu Sans Mono',consolas,'Courier New',monospace\"><span style=\"color: #7fbfbf; text-decoration-color: #7fbfbf\">                    </span><span style=\"color: #000080; text-decoration-color: #000080\">INFO    </span> cid: <span style=\"color: #008080; text-decoration-color: #008080; font-weight: bold\">432</span>                                                                       <a href=\"file:///tmp/ipykernel_1009755/3963006861.py\" target=\"_blank\"><span style=\"color: #7f7f7f; text-decoration-color: #7f7f7f\">flwr</span></a><span style=\"color: #7f7f7f; text-decoration-color: #7f7f7f\">:</span><a href=\"file:///tmp/ipykernel_1009755/3963006861.py#21\" target=\"_blank\"><span style=\"color: #7f7f7f; text-decoration-color: #7f7f7f\">21</span></a>\n",
              "</pre>\n"
            ],
            "text/plain": [
              "\u001b[2;36m                   \u001b[0m\u001b[2;36m \u001b[0m\u001b[34mINFO    \u001b[0m cid: \u001b[1;36m432\u001b[0m                                                                       \u001b]8;id=243962;file:///tmp/ipykernel_1009755/3963006861.py\u001b\\\u001b[2mflwr\u001b[0m\u001b]8;;\u001b\\\u001b[2m:\u001b[0m\u001b]8;id=529903;file:///tmp/ipykernel_1009755/3963006861.py#21\u001b\\\u001b[2m21\u001b[0m\u001b]8;;\u001b\\\n"
            ]
          },
          "metadata": {},
          "output_type": "display_data"
        },
        {
          "name": "stderr",
          "output_type": "stream",
          "text": [
            "INFO flwr 2025-03-28 05:06:04,616 | 3963006861.py:21 | cid: 616\n"
          ]
        },
        {
          "data": {
            "text/html": [
              "<pre style=\"white-space:pre;overflow-x:auto;line-height:normal;font-family:Menlo,'DejaVu Sans Mono',consolas,'Courier New',monospace\"><span style=\"color: #7fbfbf; text-decoration-color: #7fbfbf\">                    </span><span style=\"color: #000080; text-decoration-color: #000080\">INFO    </span> cid: <span style=\"color: #008080; text-decoration-color: #008080; font-weight: bold\">616</span>                                                                       <a href=\"file:///tmp/ipykernel_1009755/3963006861.py\" target=\"_blank\"><span style=\"color: #7f7f7f; text-decoration-color: #7f7f7f\">flwr</span></a><span style=\"color: #7f7f7f; text-decoration-color: #7f7f7f\">:</span><a href=\"file:///tmp/ipykernel_1009755/3963006861.py#21\" target=\"_blank\"><span style=\"color: #7f7f7f; text-decoration-color: #7f7f7f\">21</span></a>\n",
              "</pre>\n"
            ],
            "text/plain": [
              "\u001b[2;36m                   \u001b[0m\u001b[2;36m \u001b[0m\u001b[34mINFO    \u001b[0m cid: \u001b[1;36m616\u001b[0m                                                                       \u001b]8;id=681453;file:///tmp/ipykernel_1009755/3963006861.py\u001b\\\u001b[2mflwr\u001b[0m\u001b]8;;\u001b\\\u001b[2m:\u001b[0m\u001b]8;id=735392;file:///tmp/ipykernel_1009755/3963006861.py#21\u001b\\\u001b[2m21\u001b[0m\u001b]8;;\u001b\\\n"
            ]
          },
          "metadata": {},
          "output_type": "display_data"
        },
        {
          "name": "stderr",
          "output_type": "stream",
          "text": [
            "INFO flwr 2025-03-28 05:06:04,622 | 3963006861.py:21 | cid: 558\n"
          ]
        },
        {
          "data": {
            "text/html": [
              "<pre style=\"white-space:pre;overflow-x:auto;line-height:normal;font-family:Menlo,'DejaVu Sans Mono',consolas,'Courier New',monospace\"><span style=\"color: #7fbfbf; text-decoration-color: #7fbfbf\">                    </span><span style=\"color: #000080; text-decoration-color: #000080\">INFO    </span> cid: <span style=\"color: #008080; text-decoration-color: #008080; font-weight: bold\">558</span>                                                                       <a href=\"file:///tmp/ipykernel_1009755/3963006861.py\" target=\"_blank\"><span style=\"color: #7f7f7f; text-decoration-color: #7f7f7f\">flwr</span></a><span style=\"color: #7f7f7f; text-decoration-color: #7f7f7f\">:</span><a href=\"file:///tmp/ipykernel_1009755/3963006861.py#21\" target=\"_blank\"><span style=\"color: #7f7f7f; text-decoration-color: #7f7f7f\">21</span></a>\n",
              "</pre>\n"
            ],
            "text/plain": [
              "\u001b[2;36m                   \u001b[0m\u001b[2;36m \u001b[0m\u001b[34mINFO    \u001b[0m cid: \u001b[1;36m558\u001b[0m                                                                       \u001b]8;id=291704;file:///tmp/ipykernel_1009755/3963006861.py\u001b\\\u001b[2mflwr\u001b[0m\u001b]8;;\u001b\\\u001b[2m:\u001b[0m\u001b]8;id=848749;file:///tmp/ipykernel_1009755/3963006861.py#21\u001b\\\u001b[2m21\u001b[0m\u001b]8;;\u001b\\\n"
            ]
          },
          "metadata": {},
          "output_type": "display_data"
        },
        {
          "name": "stderr",
          "output_type": "stream",
          "text": [
            "INFO flwr 2025-03-28 05:06:04,629 | 3963006861.py:21 | cid: 6\n"
          ]
        },
        {
          "data": {
            "text/html": [
              "<pre style=\"white-space:pre;overflow-x:auto;line-height:normal;font-family:Menlo,'DejaVu Sans Mono',consolas,'Courier New',monospace\"><span style=\"color: #7fbfbf; text-decoration-color: #7fbfbf\">                    </span><span style=\"color: #000080; text-decoration-color: #000080\">INFO    </span> cid: <span style=\"color: #008080; text-decoration-color: #008080; font-weight: bold\">6</span>                                                                         <a href=\"file:///tmp/ipykernel_1009755/3963006861.py\" target=\"_blank\"><span style=\"color: #7f7f7f; text-decoration-color: #7f7f7f\">flwr</span></a><span style=\"color: #7f7f7f; text-decoration-color: #7f7f7f\">:</span><a href=\"file:///tmp/ipykernel_1009755/3963006861.py#21\" target=\"_blank\"><span style=\"color: #7f7f7f; text-decoration-color: #7f7f7f\">21</span></a>\n",
              "</pre>\n"
            ],
            "text/plain": [
              "\u001b[2;36m                   \u001b[0m\u001b[2;36m \u001b[0m\u001b[34mINFO    \u001b[0m cid: \u001b[1;36m6\u001b[0m                                                                         \u001b]8;id=443143;file:///tmp/ipykernel_1009755/3963006861.py\u001b\\\u001b[2mflwr\u001b[0m\u001b]8;;\u001b\\\u001b[2m:\u001b[0m\u001b]8;id=356778;file:///tmp/ipykernel_1009755/3963006861.py#21\u001b\\\u001b[2m21\u001b[0m\u001b]8;;\u001b\\\n"
            ]
          },
          "metadata": {},
          "output_type": "display_data"
        },
        {
          "name": "stderr",
          "output_type": "stream",
          "text": [
            "INFO flwr 2025-03-28 05:06:04,635 | 3963006861.py:21 | cid: 284\n"
          ]
        },
        {
          "data": {
            "text/html": [
              "<pre style=\"white-space:pre;overflow-x:auto;line-height:normal;font-family:Menlo,'DejaVu Sans Mono',consolas,'Courier New',monospace\"><span style=\"color: #7fbfbf; text-decoration-color: #7fbfbf\">                    </span><span style=\"color: #000080; text-decoration-color: #000080\">INFO    </span> cid: <span style=\"color: #008080; text-decoration-color: #008080; font-weight: bold\">284</span>                                                                       <a href=\"file:///tmp/ipykernel_1009755/3963006861.py\" target=\"_blank\"><span style=\"color: #7f7f7f; text-decoration-color: #7f7f7f\">flwr</span></a><span style=\"color: #7f7f7f; text-decoration-color: #7f7f7f\">:</span><a href=\"file:///tmp/ipykernel_1009755/3963006861.py#21\" target=\"_blank\"><span style=\"color: #7f7f7f; text-decoration-color: #7f7f7f\">21</span></a>\n",
              "</pre>\n"
            ],
            "text/plain": [
              "\u001b[2;36m                   \u001b[0m\u001b[2;36m \u001b[0m\u001b[34mINFO    \u001b[0m cid: \u001b[1;36m284\u001b[0m                                                                       \u001b]8;id=107175;file:///tmp/ipykernel_1009755/3963006861.py\u001b\\\u001b[2mflwr\u001b[0m\u001b]8;;\u001b\\\u001b[2m:\u001b[0m\u001b]8;id=97251;file:///tmp/ipykernel_1009755/3963006861.py#21\u001b\\\u001b[2m21\u001b[0m\u001b]8;;\u001b\\\n"
            ]
          },
          "metadata": {},
          "output_type": "display_data"
        },
        {
          "name": "stderr",
          "output_type": "stream",
          "text": [
            "INFO flwr 2025-03-28 05:06:04,641 | 3963006861.py:21 | cid: 389\n"
          ]
        },
        {
          "data": {
            "text/html": [
              "<pre style=\"white-space:pre;overflow-x:auto;line-height:normal;font-family:Menlo,'DejaVu Sans Mono',consolas,'Courier New',monospace\"><span style=\"color: #7fbfbf; text-decoration-color: #7fbfbf\">                    </span><span style=\"color: #000080; text-decoration-color: #000080\">INFO    </span> cid: <span style=\"color: #008080; text-decoration-color: #008080; font-weight: bold\">389</span>                                                                       <a href=\"file:///tmp/ipykernel_1009755/3963006861.py\" target=\"_blank\"><span style=\"color: #7f7f7f; text-decoration-color: #7f7f7f\">flwr</span></a><span style=\"color: #7f7f7f; text-decoration-color: #7f7f7f\">:</span><a href=\"file:///tmp/ipykernel_1009755/3963006861.py#21\" target=\"_blank\"><span style=\"color: #7f7f7f; text-decoration-color: #7f7f7f\">21</span></a>\n",
              "</pre>\n"
            ],
            "text/plain": [
              "\u001b[2;36m                   \u001b[0m\u001b[2;36m \u001b[0m\u001b[34mINFO    \u001b[0m cid: \u001b[1;36m389\u001b[0m                                                                       \u001b]8;id=633052;file:///tmp/ipykernel_1009755/3963006861.py\u001b\\\u001b[2mflwr\u001b[0m\u001b]8;;\u001b\\\u001b[2m:\u001b[0m\u001b]8;id=277370;file:///tmp/ipykernel_1009755/3963006861.py#21\u001b\\\u001b[2m21\u001b[0m\u001b]8;;\u001b\\\n"
            ]
          },
          "metadata": {},
          "output_type": "display_data"
        },
        {
          "name": "stderr",
          "output_type": "stream",
          "text": [
            "INFO flwr 2025-03-28 05:06:04,646 | 3963006861.py:21 | cid: 44\n"
          ]
        },
        {
          "data": {
            "text/html": [
              "<pre style=\"white-space:pre;overflow-x:auto;line-height:normal;font-family:Menlo,'DejaVu Sans Mono',consolas,'Courier New',monospace\"><span style=\"color: #7fbfbf; text-decoration-color: #7fbfbf\">                    </span><span style=\"color: #000080; text-decoration-color: #000080\">INFO    </span> cid: <span style=\"color: #008080; text-decoration-color: #008080; font-weight: bold\">44</span>                                                                        <a href=\"file:///tmp/ipykernel_1009755/3963006861.py\" target=\"_blank\"><span style=\"color: #7f7f7f; text-decoration-color: #7f7f7f\">flwr</span></a><span style=\"color: #7f7f7f; text-decoration-color: #7f7f7f\">:</span><a href=\"file:///tmp/ipykernel_1009755/3963006861.py#21\" target=\"_blank\"><span style=\"color: #7f7f7f; text-decoration-color: #7f7f7f\">21</span></a>\n",
              "</pre>\n"
            ],
            "text/plain": [
              "\u001b[2;36m                   \u001b[0m\u001b[2;36m \u001b[0m\u001b[34mINFO    \u001b[0m cid: \u001b[1;36m44\u001b[0m                                                                        \u001b]8;id=967096;file:///tmp/ipykernel_1009755/3963006861.py\u001b\\\u001b[2mflwr\u001b[0m\u001b]8;;\u001b\\\u001b[2m:\u001b[0m\u001b]8;id=396922;file:///tmp/ipykernel_1009755/3963006861.py#21\u001b\\\u001b[2m21\u001b[0m\u001b]8;;\u001b\\\n"
            ]
          },
          "metadata": {},
          "output_type": "display_data"
        },
        {
          "name": "stderr",
          "output_type": "stream",
          "text": [
            "INFO flwr 2025-03-28 05:06:04,652 | 3963006861.py:21 | cid: 80\n"
          ]
        },
        {
          "data": {
            "text/html": [
              "<pre style=\"white-space:pre;overflow-x:auto;line-height:normal;font-family:Menlo,'DejaVu Sans Mono',consolas,'Courier New',monospace\"><span style=\"color: #7fbfbf; text-decoration-color: #7fbfbf\">                    </span><span style=\"color: #000080; text-decoration-color: #000080\">INFO    </span> cid: <span style=\"color: #008080; text-decoration-color: #008080; font-weight: bold\">80</span>                                                                        <a href=\"file:///tmp/ipykernel_1009755/3963006861.py\" target=\"_blank\"><span style=\"color: #7f7f7f; text-decoration-color: #7f7f7f\">flwr</span></a><span style=\"color: #7f7f7f; text-decoration-color: #7f7f7f\">:</span><a href=\"file:///tmp/ipykernel_1009755/3963006861.py#21\" target=\"_blank\"><span style=\"color: #7f7f7f; text-decoration-color: #7f7f7f\">21</span></a>\n",
              "</pre>\n"
            ],
            "text/plain": [
              "\u001b[2;36m                   \u001b[0m\u001b[2;36m \u001b[0m\u001b[34mINFO    \u001b[0m cid: \u001b[1;36m80\u001b[0m                                                                        \u001b]8;id=648564;file:///tmp/ipykernel_1009755/3963006861.py\u001b\\\u001b[2mflwr\u001b[0m\u001b]8;;\u001b\\\u001b[2m:\u001b[0m\u001b]8;id=928463;file:///tmp/ipykernel_1009755/3963006861.py#21\u001b\\\u001b[2m21\u001b[0m\u001b]8;;\u001b\\\n"
            ]
          },
          "metadata": {},
          "output_type": "display_data"
        },
        {
          "name": "stderr",
          "output_type": "stream",
          "text": [
            "INFO flwr 2025-03-28 05:06:04,657 | 3963006861.py:21 | cid: 370\n"
          ]
        },
        {
          "data": {
            "text/html": [
              "<pre style=\"white-space:pre;overflow-x:auto;line-height:normal;font-family:Menlo,'DejaVu Sans Mono',consolas,'Courier New',monospace\"><span style=\"color: #7fbfbf; text-decoration-color: #7fbfbf\">                    </span><span style=\"color: #000080; text-decoration-color: #000080\">INFO    </span> cid: <span style=\"color: #008080; text-decoration-color: #008080; font-weight: bold\">370</span>                                                                       <a href=\"file:///tmp/ipykernel_1009755/3963006861.py\" target=\"_blank\"><span style=\"color: #7f7f7f; text-decoration-color: #7f7f7f\">flwr</span></a><span style=\"color: #7f7f7f; text-decoration-color: #7f7f7f\">:</span><a href=\"file:///tmp/ipykernel_1009755/3963006861.py#21\" target=\"_blank\"><span style=\"color: #7f7f7f; text-decoration-color: #7f7f7f\">21</span></a>\n",
              "</pre>\n"
            ],
            "text/plain": [
              "\u001b[2;36m                   \u001b[0m\u001b[2;36m \u001b[0m\u001b[34mINFO    \u001b[0m cid: \u001b[1;36m370\u001b[0m                                                                       \u001b]8;id=48050;file:///tmp/ipykernel_1009755/3963006861.py\u001b\\\u001b[2mflwr\u001b[0m\u001b]8;;\u001b\\\u001b[2m:\u001b[0m\u001b]8;id=693384;file:///tmp/ipykernel_1009755/3963006861.py#21\u001b\\\u001b[2m21\u001b[0m\u001b]8;;\u001b\\\n"
            ]
          },
          "metadata": {},
          "output_type": "display_data"
        },
        {
          "name": "stderr",
          "output_type": "stream",
          "text": [
            "INFO flwr 2025-03-28 05:06:04,662 | 3963006861.py:21 | cid: 233\n"
          ]
        },
        {
          "data": {
            "text/html": [
              "<pre style=\"white-space:pre;overflow-x:auto;line-height:normal;font-family:Menlo,'DejaVu Sans Mono',consolas,'Courier New',monospace\"><span style=\"color: #7fbfbf; text-decoration-color: #7fbfbf\">                    </span><span style=\"color: #000080; text-decoration-color: #000080\">INFO    </span> cid: <span style=\"color: #008080; text-decoration-color: #008080; font-weight: bold\">233</span>                                                                       <a href=\"file:///tmp/ipykernel_1009755/3963006861.py\" target=\"_blank\"><span style=\"color: #7f7f7f; text-decoration-color: #7f7f7f\">flwr</span></a><span style=\"color: #7f7f7f; text-decoration-color: #7f7f7f\">:</span><a href=\"file:///tmp/ipykernel_1009755/3963006861.py#21\" target=\"_blank\"><span style=\"color: #7f7f7f; text-decoration-color: #7f7f7f\">21</span></a>\n",
              "</pre>\n"
            ],
            "text/plain": [
              "\u001b[2;36m                   \u001b[0m\u001b[2;36m \u001b[0m\u001b[34mINFO    \u001b[0m cid: \u001b[1;36m233\u001b[0m                                                                       \u001b]8;id=244098;file:///tmp/ipykernel_1009755/3963006861.py\u001b\\\u001b[2mflwr\u001b[0m\u001b]8;;\u001b\\\u001b[2m:\u001b[0m\u001b]8;id=908573;file:///tmp/ipykernel_1009755/3963006861.py#21\u001b\\\u001b[2m21\u001b[0m\u001b]8;;\u001b\\\n"
            ]
          },
          "metadata": {},
          "output_type": "display_data"
        },
        {
          "name": "stderr",
          "output_type": "stream",
          "text": [
            "INFO flwr 2025-03-28 05:06:04,668 | 3963006861.py:21 | cid: 103\n"
          ]
        },
        {
          "data": {
            "text/html": [
              "<pre style=\"white-space:pre;overflow-x:auto;line-height:normal;font-family:Menlo,'DejaVu Sans Mono',consolas,'Courier New',monospace\"><span style=\"color: #7fbfbf; text-decoration-color: #7fbfbf\">                    </span><span style=\"color: #000080; text-decoration-color: #000080\">INFO    </span> cid: <span style=\"color: #008080; text-decoration-color: #008080; font-weight: bold\">103</span>                                                                       <a href=\"file:///tmp/ipykernel_1009755/3963006861.py\" target=\"_blank\"><span style=\"color: #7f7f7f; text-decoration-color: #7f7f7f\">flwr</span></a><span style=\"color: #7f7f7f; text-decoration-color: #7f7f7f\">:</span><a href=\"file:///tmp/ipykernel_1009755/3963006861.py#21\" target=\"_blank\"><span style=\"color: #7f7f7f; text-decoration-color: #7f7f7f\">21</span></a>\n",
              "</pre>\n"
            ],
            "text/plain": [
              "\u001b[2;36m                   \u001b[0m\u001b[2;36m \u001b[0m\u001b[34mINFO    \u001b[0m cid: \u001b[1;36m103\u001b[0m                                                                       \u001b]8;id=874628;file:///tmp/ipykernel_1009755/3963006861.py\u001b\\\u001b[2mflwr\u001b[0m\u001b]8;;\u001b\\\u001b[2m:\u001b[0m\u001b]8;id=382554;file:///tmp/ipykernel_1009755/3963006861.py#21\u001b\\\u001b[2m21\u001b[0m\u001b]8;;\u001b\\\n"
            ]
          },
          "metadata": {},
          "output_type": "display_data"
        },
        {
          "name": "stderr",
          "output_type": "stream",
          "text": [
            "INFO flwr 2025-03-28 05:06:04,674 | 3963006861.py:21 | cid: 166\n"
          ]
        },
        {
          "data": {
            "text/html": [
              "<pre style=\"white-space:pre;overflow-x:auto;line-height:normal;font-family:Menlo,'DejaVu Sans Mono',consolas,'Courier New',monospace\"><span style=\"color: #7fbfbf; text-decoration-color: #7fbfbf\">                    </span><span style=\"color: #000080; text-decoration-color: #000080\">INFO    </span> cid: <span style=\"color: #008080; text-decoration-color: #008080; font-weight: bold\">166</span>                                                                       <a href=\"file:///tmp/ipykernel_1009755/3963006861.py\" target=\"_blank\"><span style=\"color: #7f7f7f; text-decoration-color: #7f7f7f\">flwr</span></a><span style=\"color: #7f7f7f; text-decoration-color: #7f7f7f\">:</span><a href=\"file:///tmp/ipykernel_1009755/3963006861.py#21\" target=\"_blank\"><span style=\"color: #7f7f7f; text-decoration-color: #7f7f7f\">21</span></a>\n",
              "</pre>\n"
            ],
            "text/plain": [
              "\u001b[2;36m                   \u001b[0m\u001b[2;36m \u001b[0m\u001b[34mINFO    \u001b[0m cid: \u001b[1;36m166\u001b[0m                                                                       \u001b]8;id=279946;file:///tmp/ipykernel_1009755/3963006861.py\u001b\\\u001b[2mflwr\u001b[0m\u001b]8;;\u001b\\\u001b[2m:\u001b[0m\u001b]8;id=735911;file:///tmp/ipykernel_1009755/3963006861.py#21\u001b\\\u001b[2m21\u001b[0m\u001b]8;;\u001b\\\n"
            ]
          },
          "metadata": {},
          "output_type": "display_data"
        },
        {
          "name": "stderr",
          "output_type": "stream",
          "text": [
            "INFO flwr 2025-03-28 05:06:04,680 | 3963006861.py:21 | cid: 73\n"
          ]
        },
        {
          "data": {
            "text/html": [
              "<pre style=\"white-space:pre;overflow-x:auto;line-height:normal;font-family:Menlo,'DejaVu Sans Mono',consolas,'Courier New',monospace\"><span style=\"color: #7fbfbf; text-decoration-color: #7fbfbf\">                    </span><span style=\"color: #000080; text-decoration-color: #000080\">INFO    </span> cid: <span style=\"color: #008080; text-decoration-color: #008080; font-weight: bold\">73</span>                                                                        <a href=\"file:///tmp/ipykernel_1009755/3963006861.py\" target=\"_blank\"><span style=\"color: #7f7f7f; text-decoration-color: #7f7f7f\">flwr</span></a><span style=\"color: #7f7f7f; text-decoration-color: #7f7f7f\">:</span><a href=\"file:///tmp/ipykernel_1009755/3963006861.py#21\" target=\"_blank\"><span style=\"color: #7f7f7f; text-decoration-color: #7f7f7f\">21</span></a>\n",
              "</pre>\n"
            ],
            "text/plain": [
              "\u001b[2;36m                   \u001b[0m\u001b[2;36m \u001b[0m\u001b[34mINFO    \u001b[0m cid: \u001b[1;36m73\u001b[0m                                                                        \u001b]8;id=764544;file:///tmp/ipykernel_1009755/3963006861.py\u001b\\\u001b[2mflwr\u001b[0m\u001b]8;;\u001b\\\u001b[2m:\u001b[0m\u001b]8;id=256702;file:///tmp/ipykernel_1009755/3963006861.py#21\u001b\\\u001b[2m21\u001b[0m\u001b]8;;\u001b\\\n"
            ]
          },
          "metadata": {},
          "output_type": "display_data"
        },
        {
          "name": "stderr",
          "output_type": "stream",
          "text": [
            "INFO flwr 2025-03-28 05:06:04,686 | 3963006861.py:21 | cid: 167\n"
          ]
        },
        {
          "data": {
            "text/html": [
              "<pre style=\"white-space:pre;overflow-x:auto;line-height:normal;font-family:Menlo,'DejaVu Sans Mono',consolas,'Courier New',monospace\"><span style=\"color: #7fbfbf; text-decoration-color: #7fbfbf\">                    </span><span style=\"color: #000080; text-decoration-color: #000080\">INFO    </span> cid: <span style=\"color: #008080; text-decoration-color: #008080; font-weight: bold\">167</span>                                                                       <a href=\"file:///tmp/ipykernel_1009755/3963006861.py\" target=\"_blank\"><span style=\"color: #7f7f7f; text-decoration-color: #7f7f7f\">flwr</span></a><span style=\"color: #7f7f7f; text-decoration-color: #7f7f7f\">:</span><a href=\"file:///tmp/ipykernel_1009755/3963006861.py#21\" target=\"_blank\"><span style=\"color: #7f7f7f; text-decoration-color: #7f7f7f\">21</span></a>\n",
              "</pre>\n"
            ],
            "text/plain": [
              "\u001b[2;36m                   \u001b[0m\u001b[2;36m \u001b[0m\u001b[34mINFO    \u001b[0m cid: \u001b[1;36m167\u001b[0m                                                                       \u001b]8;id=671088;file:///tmp/ipykernel_1009755/3963006861.py\u001b\\\u001b[2mflwr\u001b[0m\u001b]8;;\u001b\\\u001b[2m:\u001b[0m\u001b]8;id=721590;file:///tmp/ipykernel_1009755/3963006861.py#21\u001b\\\u001b[2m21\u001b[0m\u001b]8;;\u001b\\\n"
            ]
          },
          "metadata": {},
          "output_type": "display_data"
        },
        {
          "name": "stderr",
          "output_type": "stream",
          "text": [
            "INFO flwr 2025-03-28 05:06:04,692 | 3963006861.py:21 | cid: 570\n"
          ]
        },
        {
          "data": {
            "text/html": [
              "<pre style=\"white-space:pre;overflow-x:auto;line-height:normal;font-family:Menlo,'DejaVu Sans Mono',consolas,'Courier New',monospace\"><span style=\"color: #7fbfbf; text-decoration-color: #7fbfbf\">                    </span><span style=\"color: #000080; text-decoration-color: #000080\">INFO    </span> cid: <span style=\"color: #008080; text-decoration-color: #008080; font-weight: bold\">570</span>                                                                       <a href=\"file:///tmp/ipykernel_1009755/3963006861.py\" target=\"_blank\"><span style=\"color: #7f7f7f; text-decoration-color: #7f7f7f\">flwr</span></a><span style=\"color: #7f7f7f; text-decoration-color: #7f7f7f\">:</span><a href=\"file:///tmp/ipykernel_1009755/3963006861.py#21\" target=\"_blank\"><span style=\"color: #7f7f7f; text-decoration-color: #7f7f7f\">21</span></a>\n",
              "</pre>\n"
            ],
            "text/plain": [
              "\u001b[2;36m                   \u001b[0m\u001b[2;36m \u001b[0m\u001b[34mINFO    \u001b[0m cid: \u001b[1;36m570\u001b[0m                                                                       \u001b]8;id=805635;file:///tmp/ipykernel_1009755/3963006861.py\u001b\\\u001b[2mflwr\u001b[0m\u001b]8;;\u001b\\\u001b[2m:\u001b[0m\u001b]8;id=813694;file:///tmp/ipykernel_1009755/3963006861.py#21\u001b\\\u001b[2m21\u001b[0m\u001b]8;;\u001b\\\n"
            ]
          },
          "metadata": {},
          "output_type": "display_data"
        },
        {
          "name": "stderr",
          "output_type": "stream",
          "text": [
            "INFO flwr 2025-03-28 05:06:04,699 | 3963006861.py:21 | cid: 57\n"
          ]
        },
        {
          "data": {
            "text/html": [
              "<pre style=\"white-space:pre;overflow-x:auto;line-height:normal;font-family:Menlo,'DejaVu Sans Mono',consolas,'Courier New',monospace\"><span style=\"color: #7fbfbf; text-decoration-color: #7fbfbf\">                    </span><span style=\"color: #000080; text-decoration-color: #000080\">INFO    </span> cid: <span style=\"color: #008080; text-decoration-color: #008080; font-weight: bold\">57</span>                                                                        <a href=\"file:///tmp/ipykernel_1009755/3963006861.py\" target=\"_blank\"><span style=\"color: #7f7f7f; text-decoration-color: #7f7f7f\">flwr</span></a><span style=\"color: #7f7f7f; text-decoration-color: #7f7f7f\">:</span><a href=\"file:///tmp/ipykernel_1009755/3963006861.py#21\" target=\"_blank\"><span style=\"color: #7f7f7f; text-decoration-color: #7f7f7f\">21</span></a>\n",
              "</pre>\n"
            ],
            "text/plain": [
              "\u001b[2;36m                   \u001b[0m\u001b[2;36m \u001b[0m\u001b[34mINFO    \u001b[0m cid: \u001b[1;36m57\u001b[0m                                                                        \u001b]8;id=330776;file:///tmp/ipykernel_1009755/3963006861.py\u001b\\\u001b[2mflwr\u001b[0m\u001b]8;;\u001b\\\u001b[2m:\u001b[0m\u001b]8;id=420651;file:///tmp/ipykernel_1009755/3963006861.py#21\u001b\\\u001b[2m21\u001b[0m\u001b]8;;\u001b\\\n"
            ]
          },
          "metadata": {},
          "output_type": "display_data"
        },
        {
          "name": "stderr",
          "output_type": "stream",
          "text": [
            "INFO flwr 2025-03-28 05:06:04,705 | 3963006861.py:21 | cid: 274\n"
          ]
        },
        {
          "data": {
            "text/html": [
              "<pre style=\"white-space:pre;overflow-x:auto;line-height:normal;font-family:Menlo,'DejaVu Sans Mono',consolas,'Courier New',monospace\"><span style=\"color: #7fbfbf; text-decoration-color: #7fbfbf\">                    </span><span style=\"color: #000080; text-decoration-color: #000080\">INFO    </span> cid: <span style=\"color: #008080; text-decoration-color: #008080; font-weight: bold\">274</span>                                                                       <a href=\"file:///tmp/ipykernel_1009755/3963006861.py\" target=\"_blank\"><span style=\"color: #7f7f7f; text-decoration-color: #7f7f7f\">flwr</span></a><span style=\"color: #7f7f7f; text-decoration-color: #7f7f7f\">:</span><a href=\"file:///tmp/ipykernel_1009755/3963006861.py#21\" target=\"_blank\"><span style=\"color: #7f7f7f; text-decoration-color: #7f7f7f\">21</span></a>\n",
              "</pre>\n"
            ],
            "text/plain": [
              "\u001b[2;36m                   \u001b[0m\u001b[2;36m \u001b[0m\u001b[34mINFO    \u001b[0m cid: \u001b[1;36m274\u001b[0m                                                                       \u001b]8;id=594731;file:///tmp/ipykernel_1009755/3963006861.py\u001b\\\u001b[2mflwr\u001b[0m\u001b]8;;\u001b\\\u001b[2m:\u001b[0m\u001b]8;id=918938;file:///tmp/ipykernel_1009755/3963006861.py#21\u001b\\\u001b[2m21\u001b[0m\u001b]8;;\u001b\\\n"
            ]
          },
          "metadata": {},
          "output_type": "display_data"
        },
        {
          "name": "stderr",
          "output_type": "stream",
          "text": [
            "INFO flwr 2025-03-28 05:06:04,710 | 3963006861.py:21 | cid: 322\n"
          ]
        },
        {
          "data": {
            "text/html": [
              "<pre style=\"white-space:pre;overflow-x:auto;line-height:normal;font-family:Menlo,'DejaVu Sans Mono',consolas,'Courier New',monospace\"><span style=\"color: #7fbfbf; text-decoration-color: #7fbfbf\">                    </span><span style=\"color: #000080; text-decoration-color: #000080\">INFO    </span> cid: <span style=\"color: #008080; text-decoration-color: #008080; font-weight: bold\">322</span>                                                                       <a href=\"file:///tmp/ipykernel_1009755/3963006861.py\" target=\"_blank\"><span style=\"color: #7f7f7f; text-decoration-color: #7f7f7f\">flwr</span></a><span style=\"color: #7f7f7f; text-decoration-color: #7f7f7f\">:</span><a href=\"file:///tmp/ipykernel_1009755/3963006861.py#21\" target=\"_blank\"><span style=\"color: #7f7f7f; text-decoration-color: #7f7f7f\">21</span></a>\n",
              "</pre>\n"
            ],
            "text/plain": [
              "\u001b[2;36m                   \u001b[0m\u001b[2;36m \u001b[0m\u001b[34mINFO    \u001b[0m cid: \u001b[1;36m322\u001b[0m                                                                       \u001b]8;id=927657;file:///tmp/ipykernel_1009755/3963006861.py\u001b\\\u001b[2mflwr\u001b[0m\u001b]8;;\u001b\\\u001b[2m:\u001b[0m\u001b]8;id=958972;file:///tmp/ipykernel_1009755/3963006861.py#21\u001b\\\u001b[2m21\u001b[0m\u001b]8;;\u001b\\\n"
            ]
          },
          "metadata": {},
          "output_type": "display_data"
        },
        {
          "name": "stderr",
          "output_type": "stream",
          "text": [
            "INFO flwr 2025-03-28 05:06:04,717 | 3963006861.py:21 | cid: 469\n"
          ]
        },
        {
          "data": {
            "text/html": [
              "<pre style=\"white-space:pre;overflow-x:auto;line-height:normal;font-family:Menlo,'DejaVu Sans Mono',consolas,'Courier New',monospace\"><span style=\"color: #7fbfbf; text-decoration-color: #7fbfbf\">                    </span><span style=\"color: #000080; text-decoration-color: #000080\">INFO    </span> cid: <span style=\"color: #008080; text-decoration-color: #008080; font-weight: bold\">469</span>                                                                       <a href=\"file:///tmp/ipykernel_1009755/3963006861.py\" target=\"_blank\"><span style=\"color: #7f7f7f; text-decoration-color: #7f7f7f\">flwr</span></a><span style=\"color: #7f7f7f; text-decoration-color: #7f7f7f\">:</span><a href=\"file:///tmp/ipykernel_1009755/3963006861.py#21\" target=\"_blank\"><span style=\"color: #7f7f7f; text-decoration-color: #7f7f7f\">21</span></a>\n",
              "</pre>\n"
            ],
            "text/plain": [
              "\u001b[2;36m                   \u001b[0m\u001b[2;36m \u001b[0m\u001b[34mINFO    \u001b[0m cid: \u001b[1;36m469\u001b[0m                                                                       \u001b]8;id=781177;file:///tmp/ipykernel_1009755/3963006861.py\u001b\\\u001b[2mflwr\u001b[0m\u001b]8;;\u001b\\\u001b[2m:\u001b[0m\u001b]8;id=588637;file:///tmp/ipykernel_1009755/3963006861.py#21\u001b\\\u001b[2m21\u001b[0m\u001b]8;;\u001b\\\n"
            ]
          },
          "metadata": {},
          "output_type": "display_data"
        },
        {
          "name": "stderr",
          "output_type": "stream",
          "text": [
            "INFO flwr 2025-03-28 05:06:04,723 | 3963006861.py:21 | cid: 551\n"
          ]
        },
        {
          "data": {
            "text/html": [
              "<pre style=\"white-space:pre;overflow-x:auto;line-height:normal;font-family:Menlo,'DejaVu Sans Mono',consolas,'Courier New',monospace\"><span style=\"color: #7fbfbf; text-decoration-color: #7fbfbf\">                    </span><span style=\"color: #000080; text-decoration-color: #000080\">INFO    </span> cid: <span style=\"color: #008080; text-decoration-color: #008080; font-weight: bold\">551</span>                                                                       <a href=\"file:///tmp/ipykernel_1009755/3963006861.py\" target=\"_blank\"><span style=\"color: #7f7f7f; text-decoration-color: #7f7f7f\">flwr</span></a><span style=\"color: #7f7f7f; text-decoration-color: #7f7f7f\">:</span><a href=\"file:///tmp/ipykernel_1009755/3963006861.py#21\" target=\"_blank\"><span style=\"color: #7f7f7f; text-decoration-color: #7f7f7f\">21</span></a>\n",
              "</pre>\n"
            ],
            "text/plain": [
              "\u001b[2;36m                   \u001b[0m\u001b[2;36m \u001b[0m\u001b[34mINFO    \u001b[0m cid: \u001b[1;36m551\u001b[0m                                                                       \u001b]8;id=941435;file:///tmp/ipykernel_1009755/3963006861.py\u001b\\\u001b[2mflwr\u001b[0m\u001b]8;;\u001b\\\u001b[2m:\u001b[0m\u001b]8;id=611878;file:///tmp/ipykernel_1009755/3963006861.py#21\u001b\\\u001b[2m21\u001b[0m\u001b]8;;\u001b\\\n"
            ]
          },
          "metadata": {},
          "output_type": "display_data"
        },
        {
          "name": "stderr",
          "output_type": "stream",
          "text": [
            "INFO flwr 2025-03-28 05:06:04,728 | 3963006861.py:21 | cid: 408\n"
          ]
        },
        {
          "data": {
            "text/html": [
              "<pre style=\"white-space:pre;overflow-x:auto;line-height:normal;font-family:Menlo,'DejaVu Sans Mono',consolas,'Courier New',monospace\"><span style=\"color: #7fbfbf; text-decoration-color: #7fbfbf\">                    </span><span style=\"color: #000080; text-decoration-color: #000080\">INFO    </span> cid: <span style=\"color: #008080; text-decoration-color: #008080; font-weight: bold\">408</span>                                                                       <a href=\"file:///tmp/ipykernel_1009755/3963006861.py\" target=\"_blank\"><span style=\"color: #7f7f7f; text-decoration-color: #7f7f7f\">flwr</span></a><span style=\"color: #7f7f7f; text-decoration-color: #7f7f7f\">:</span><a href=\"file:///tmp/ipykernel_1009755/3963006861.py#21\" target=\"_blank\"><span style=\"color: #7f7f7f; text-decoration-color: #7f7f7f\">21</span></a>\n",
              "</pre>\n"
            ],
            "text/plain": [
              "\u001b[2;36m                   \u001b[0m\u001b[2;36m \u001b[0m\u001b[34mINFO    \u001b[0m cid: \u001b[1;36m408\u001b[0m                                                                       \u001b]8;id=517488;file:///tmp/ipykernel_1009755/3963006861.py\u001b\\\u001b[2mflwr\u001b[0m\u001b]8;;\u001b\\\u001b[2m:\u001b[0m\u001b]8;id=95325;file:///tmp/ipykernel_1009755/3963006861.py#21\u001b\\\u001b[2m21\u001b[0m\u001b]8;;\u001b\\\n"
            ]
          },
          "metadata": {},
          "output_type": "display_data"
        },
        {
          "name": "stderr",
          "output_type": "stream",
          "text": [
            "INFO flwr 2025-03-28 05:06:04,735 | 3963006861.py:21 | cid: 48\n"
          ]
        },
        {
          "data": {
            "text/html": [
              "<pre style=\"white-space:pre;overflow-x:auto;line-height:normal;font-family:Menlo,'DejaVu Sans Mono',consolas,'Courier New',monospace\"><span style=\"color: #7fbfbf; text-decoration-color: #7fbfbf\">                    </span><span style=\"color: #000080; text-decoration-color: #000080\">INFO    </span> cid: <span style=\"color: #008080; text-decoration-color: #008080; font-weight: bold\">48</span>                                                                        <a href=\"file:///tmp/ipykernel_1009755/3963006861.py\" target=\"_blank\"><span style=\"color: #7f7f7f; text-decoration-color: #7f7f7f\">flwr</span></a><span style=\"color: #7f7f7f; text-decoration-color: #7f7f7f\">:</span><a href=\"file:///tmp/ipykernel_1009755/3963006861.py#21\" target=\"_blank\"><span style=\"color: #7f7f7f; text-decoration-color: #7f7f7f\">21</span></a>\n",
              "</pre>\n"
            ],
            "text/plain": [
              "\u001b[2;36m                   \u001b[0m\u001b[2;36m \u001b[0m\u001b[34mINFO    \u001b[0m cid: \u001b[1;36m48\u001b[0m                                                                        \u001b]8;id=167753;file:///tmp/ipykernel_1009755/3963006861.py\u001b\\\u001b[2mflwr\u001b[0m\u001b]8;;\u001b\\\u001b[2m:\u001b[0m\u001b]8;id=830555;file:///tmp/ipykernel_1009755/3963006861.py#21\u001b\\\u001b[2m21\u001b[0m\u001b]8;;\u001b\\\n"
            ]
          },
          "metadata": {},
          "output_type": "display_data"
        },
        {
          "name": "stderr",
          "output_type": "stream",
          "text": [
            "INFO flwr 2025-03-28 05:06:04,740 | 3963006861.py:21 | cid: 432\n"
          ]
        },
        {
          "data": {
            "text/html": [
              "<pre style=\"white-space:pre;overflow-x:auto;line-height:normal;font-family:Menlo,'DejaVu Sans Mono',consolas,'Courier New',monospace\"><span style=\"color: #7fbfbf; text-decoration-color: #7fbfbf\">                    </span><span style=\"color: #000080; text-decoration-color: #000080\">INFO    </span> cid: <span style=\"color: #008080; text-decoration-color: #008080; font-weight: bold\">432</span>                                                                       <a href=\"file:///tmp/ipykernel_1009755/3963006861.py\" target=\"_blank\"><span style=\"color: #7f7f7f; text-decoration-color: #7f7f7f\">flwr</span></a><span style=\"color: #7f7f7f; text-decoration-color: #7f7f7f\">:</span><a href=\"file:///tmp/ipykernel_1009755/3963006861.py#21\" target=\"_blank\"><span style=\"color: #7f7f7f; text-decoration-color: #7f7f7f\">21</span></a>\n",
              "</pre>\n"
            ],
            "text/plain": [
              "\u001b[2;36m                   \u001b[0m\u001b[2;36m \u001b[0m\u001b[34mINFO    \u001b[0m cid: \u001b[1;36m432\u001b[0m                                                                       \u001b]8;id=624834;file:///tmp/ipykernel_1009755/3963006861.py\u001b\\\u001b[2mflwr\u001b[0m\u001b]8;;\u001b\\\u001b[2m:\u001b[0m\u001b]8;id=490785;file:///tmp/ipykernel_1009755/3963006861.py#21\u001b\\\u001b[2m21\u001b[0m\u001b]8;;\u001b\\\n"
            ]
          },
          "metadata": {},
          "output_type": "display_data"
        },
        {
          "name": "stderr",
          "output_type": "stream",
          "text": [
            "INFO flwr 2025-03-28 05:06:04,745 | 3963006861.py:21 | cid: 541\n"
          ]
        },
        {
          "data": {
            "text/html": [
              "<pre style=\"white-space:pre;overflow-x:auto;line-height:normal;font-family:Menlo,'DejaVu Sans Mono',consolas,'Courier New',monospace\"><span style=\"color: #7fbfbf; text-decoration-color: #7fbfbf\">                    </span><span style=\"color: #000080; text-decoration-color: #000080\">INFO    </span> cid: <span style=\"color: #008080; text-decoration-color: #008080; font-weight: bold\">541</span>                                                                       <a href=\"file:///tmp/ipykernel_1009755/3963006861.py\" target=\"_blank\"><span style=\"color: #7f7f7f; text-decoration-color: #7f7f7f\">flwr</span></a><span style=\"color: #7f7f7f; text-decoration-color: #7f7f7f\">:</span><a href=\"file:///tmp/ipykernel_1009755/3963006861.py#21\" target=\"_blank\"><span style=\"color: #7f7f7f; text-decoration-color: #7f7f7f\">21</span></a>\n",
              "</pre>\n"
            ],
            "text/plain": [
              "\u001b[2;36m                   \u001b[0m\u001b[2;36m \u001b[0m\u001b[34mINFO    \u001b[0m cid: \u001b[1;36m541\u001b[0m                                                                       \u001b]8;id=12038;file:///tmp/ipykernel_1009755/3963006861.py\u001b\\\u001b[2mflwr\u001b[0m\u001b]8;;\u001b\\\u001b[2m:\u001b[0m\u001b]8;id=713328;file:///tmp/ipykernel_1009755/3963006861.py#21\u001b\\\u001b[2m21\u001b[0m\u001b]8;;\u001b\\\n"
            ]
          },
          "metadata": {},
          "output_type": "display_data"
        },
        {
          "name": "stderr",
          "output_type": "stream",
          "text": [
            "INFO flwr 2025-03-28 05:06:04,750 | 3963006861.py:21 | cid: 117\n"
          ]
        },
        {
          "data": {
            "text/html": [
              "<pre style=\"white-space:pre;overflow-x:auto;line-height:normal;font-family:Menlo,'DejaVu Sans Mono',consolas,'Courier New',monospace\"><span style=\"color: #7fbfbf; text-decoration-color: #7fbfbf\">                    </span><span style=\"color: #000080; text-decoration-color: #000080\">INFO    </span> cid: <span style=\"color: #008080; text-decoration-color: #008080; font-weight: bold\">117</span>                                                                       <a href=\"file:///tmp/ipykernel_1009755/3963006861.py\" target=\"_blank\"><span style=\"color: #7f7f7f; text-decoration-color: #7f7f7f\">flwr</span></a><span style=\"color: #7f7f7f; text-decoration-color: #7f7f7f\">:</span><a href=\"file:///tmp/ipykernel_1009755/3963006861.py#21\" target=\"_blank\"><span style=\"color: #7f7f7f; text-decoration-color: #7f7f7f\">21</span></a>\n",
              "</pre>\n"
            ],
            "text/plain": [
              "\u001b[2;36m                   \u001b[0m\u001b[2;36m \u001b[0m\u001b[34mINFO    \u001b[0m cid: \u001b[1;36m117\u001b[0m                                                                       \u001b]8;id=279786;file:///tmp/ipykernel_1009755/3963006861.py\u001b\\\u001b[2mflwr\u001b[0m\u001b]8;;\u001b\\\u001b[2m:\u001b[0m\u001b]8;id=805934;file:///tmp/ipykernel_1009755/3963006861.py#21\u001b\\\u001b[2m21\u001b[0m\u001b]8;;\u001b\\\n"
            ]
          },
          "metadata": {},
          "output_type": "display_data"
        },
        {
          "name": "stderr",
          "output_type": "stream",
          "text": [
            "INFO flwr 2025-03-28 05:06:04,754 | 3963006861.py:21 | cid: 348\n"
          ]
        },
        {
          "data": {
            "text/html": [
              "<pre style=\"white-space:pre;overflow-x:auto;line-height:normal;font-family:Menlo,'DejaVu Sans Mono',consolas,'Courier New',monospace\"><span style=\"color: #7fbfbf; text-decoration-color: #7fbfbf\">                    </span><span style=\"color: #000080; text-decoration-color: #000080\">INFO    </span> cid: <span style=\"color: #008080; text-decoration-color: #008080; font-weight: bold\">348</span>                                                                       <a href=\"file:///tmp/ipykernel_1009755/3963006861.py\" target=\"_blank\"><span style=\"color: #7f7f7f; text-decoration-color: #7f7f7f\">flwr</span></a><span style=\"color: #7f7f7f; text-decoration-color: #7f7f7f\">:</span><a href=\"file:///tmp/ipykernel_1009755/3963006861.py#21\" target=\"_blank\"><span style=\"color: #7f7f7f; text-decoration-color: #7f7f7f\">21</span></a>\n",
              "</pre>\n"
            ],
            "text/plain": [
              "\u001b[2;36m                   \u001b[0m\u001b[2;36m \u001b[0m\u001b[34mINFO    \u001b[0m cid: \u001b[1;36m348\u001b[0m                                                                       \u001b]8;id=475763;file:///tmp/ipykernel_1009755/3963006861.py\u001b\\\u001b[2mflwr\u001b[0m\u001b]8;;\u001b\\\u001b[2m:\u001b[0m\u001b]8;id=3402;file:///tmp/ipykernel_1009755/3963006861.py#21\u001b\\\u001b[2m21\u001b[0m\u001b]8;;\u001b\\\n"
            ]
          },
          "metadata": {},
          "output_type": "display_data"
        },
        {
          "name": "stderr",
          "output_type": "stream",
          "text": [
            "INFO flwr 2025-03-28 05:06:04,760 | 3963006861.py:21 | cid: 269\n"
          ]
        },
        {
          "data": {
            "text/html": [
              "<pre style=\"white-space:pre;overflow-x:auto;line-height:normal;font-family:Menlo,'DejaVu Sans Mono',consolas,'Courier New',monospace\"><span style=\"color: #7fbfbf; text-decoration-color: #7fbfbf\">                    </span><span style=\"color: #000080; text-decoration-color: #000080\">INFO    </span> cid: <span style=\"color: #008080; text-decoration-color: #008080; font-weight: bold\">269</span>                                                                       <a href=\"file:///tmp/ipykernel_1009755/3963006861.py\" target=\"_blank\"><span style=\"color: #7f7f7f; text-decoration-color: #7f7f7f\">flwr</span></a><span style=\"color: #7f7f7f; text-decoration-color: #7f7f7f\">:</span><a href=\"file:///tmp/ipykernel_1009755/3963006861.py#21\" target=\"_blank\"><span style=\"color: #7f7f7f; text-decoration-color: #7f7f7f\">21</span></a>\n",
              "</pre>\n"
            ],
            "text/plain": [
              "\u001b[2;36m                   \u001b[0m\u001b[2;36m \u001b[0m\u001b[34mINFO    \u001b[0m cid: \u001b[1;36m269\u001b[0m                                                                       \u001b]8;id=956959;file:///tmp/ipykernel_1009755/3963006861.py\u001b\\\u001b[2mflwr\u001b[0m\u001b]8;;\u001b\\\u001b[2m:\u001b[0m\u001b]8;id=111579;file:///tmp/ipykernel_1009755/3963006861.py#21\u001b\\\u001b[2m21\u001b[0m\u001b]8;;\u001b\\\n"
            ]
          },
          "metadata": {},
          "output_type": "display_data"
        },
        {
          "name": "stderr",
          "output_type": "stream",
          "text": [
            "INFO flwr 2025-03-28 05:06:04,766 | 3963006861.py:21 | cid: 305\n"
          ]
        },
        {
          "data": {
            "text/html": [
              "<pre style=\"white-space:pre;overflow-x:auto;line-height:normal;font-family:Menlo,'DejaVu Sans Mono',consolas,'Courier New',monospace\"><span style=\"color: #7fbfbf; text-decoration-color: #7fbfbf\">                    </span><span style=\"color: #000080; text-decoration-color: #000080\">INFO    </span> cid: <span style=\"color: #008080; text-decoration-color: #008080; font-weight: bold\">305</span>                                                                       <a href=\"file:///tmp/ipykernel_1009755/3963006861.py\" target=\"_blank\"><span style=\"color: #7f7f7f; text-decoration-color: #7f7f7f\">flwr</span></a><span style=\"color: #7f7f7f; text-decoration-color: #7f7f7f\">:</span><a href=\"file:///tmp/ipykernel_1009755/3963006861.py#21\" target=\"_blank\"><span style=\"color: #7f7f7f; text-decoration-color: #7f7f7f\">21</span></a>\n",
              "</pre>\n"
            ],
            "text/plain": [
              "\u001b[2;36m                   \u001b[0m\u001b[2;36m \u001b[0m\u001b[34mINFO    \u001b[0m cid: \u001b[1;36m305\u001b[0m                                                                       \u001b]8;id=208573;file:///tmp/ipykernel_1009755/3963006861.py\u001b\\\u001b[2mflwr\u001b[0m\u001b]8;;\u001b\\\u001b[2m:\u001b[0m\u001b]8;id=160263;file:///tmp/ipykernel_1009755/3963006861.py#21\u001b\\\u001b[2m21\u001b[0m\u001b]8;;\u001b\\\n"
            ]
          },
          "metadata": {},
          "output_type": "display_data"
        },
        {
          "name": "stderr",
          "output_type": "stream",
          "text": [
            "INFO flwr 2025-03-28 05:06:04,772 | 3963006861.py:21 | cid: 382\n"
          ]
        },
        {
          "data": {
            "text/html": [
              "<pre style=\"white-space:pre;overflow-x:auto;line-height:normal;font-family:Menlo,'DejaVu Sans Mono',consolas,'Courier New',monospace\"><span style=\"color: #7fbfbf; text-decoration-color: #7fbfbf\">                    </span><span style=\"color: #000080; text-decoration-color: #000080\">INFO    </span> cid: <span style=\"color: #008080; text-decoration-color: #008080; font-weight: bold\">382</span>                                                                       <a href=\"file:///tmp/ipykernel_1009755/3963006861.py\" target=\"_blank\"><span style=\"color: #7f7f7f; text-decoration-color: #7f7f7f\">flwr</span></a><span style=\"color: #7f7f7f; text-decoration-color: #7f7f7f\">:</span><a href=\"file:///tmp/ipykernel_1009755/3963006861.py#21\" target=\"_blank\"><span style=\"color: #7f7f7f; text-decoration-color: #7f7f7f\">21</span></a>\n",
              "</pre>\n"
            ],
            "text/plain": [
              "\u001b[2;36m                   \u001b[0m\u001b[2;36m \u001b[0m\u001b[34mINFO    \u001b[0m cid: \u001b[1;36m382\u001b[0m                                                                       \u001b]8;id=816449;file:///tmp/ipykernel_1009755/3963006861.py\u001b\\\u001b[2mflwr\u001b[0m\u001b]8;;\u001b\\\u001b[2m:\u001b[0m\u001b]8;id=967242;file:///tmp/ipykernel_1009755/3963006861.py#21\u001b\\\u001b[2m21\u001b[0m\u001b]8;;\u001b\\\n"
            ]
          },
          "metadata": {},
          "output_type": "display_data"
        },
        {
          "name": "stderr",
          "output_type": "stream",
          "text": [
            "INFO flwr 2025-03-28 05:06:04,777 | 3963006861.py:21 | cid: 543\n"
          ]
        },
        {
          "data": {
            "text/html": [
              "<pre style=\"white-space:pre;overflow-x:auto;line-height:normal;font-family:Menlo,'DejaVu Sans Mono',consolas,'Courier New',monospace\"><span style=\"color: #7fbfbf; text-decoration-color: #7fbfbf\">                    </span><span style=\"color: #000080; text-decoration-color: #000080\">INFO    </span> cid: <span style=\"color: #008080; text-decoration-color: #008080; font-weight: bold\">543</span>                                                                       <a href=\"file:///tmp/ipykernel_1009755/3963006861.py\" target=\"_blank\"><span style=\"color: #7f7f7f; text-decoration-color: #7f7f7f\">flwr</span></a><span style=\"color: #7f7f7f; text-decoration-color: #7f7f7f\">:</span><a href=\"file:///tmp/ipykernel_1009755/3963006861.py#21\" target=\"_blank\"><span style=\"color: #7f7f7f; text-decoration-color: #7f7f7f\">21</span></a>\n",
              "</pre>\n"
            ],
            "text/plain": [
              "\u001b[2;36m                   \u001b[0m\u001b[2;36m \u001b[0m\u001b[34mINFO    \u001b[0m cid: \u001b[1;36m543\u001b[0m                                                                       \u001b]8;id=512340;file:///tmp/ipykernel_1009755/3963006861.py\u001b\\\u001b[2mflwr\u001b[0m\u001b]8;;\u001b\\\u001b[2m:\u001b[0m\u001b]8;id=20422;file:///tmp/ipykernel_1009755/3963006861.py#21\u001b\\\u001b[2m21\u001b[0m\u001b]8;;\u001b\\\n"
            ]
          },
          "metadata": {},
          "output_type": "display_data"
        },
        {
          "name": "stderr",
          "output_type": "stream",
          "text": [
            "INFO flwr 2025-03-28 05:06:04,783 | 3963006861.py:21 | cid: 114\n"
          ]
        },
        {
          "data": {
            "text/html": [
              "<pre style=\"white-space:pre;overflow-x:auto;line-height:normal;font-family:Menlo,'DejaVu Sans Mono',consolas,'Courier New',monospace\"><span style=\"color: #7fbfbf; text-decoration-color: #7fbfbf\">                    </span><span style=\"color: #000080; text-decoration-color: #000080\">INFO    </span> cid: <span style=\"color: #008080; text-decoration-color: #008080; font-weight: bold\">114</span>                                                                       <a href=\"file:///tmp/ipykernel_1009755/3963006861.py\" target=\"_blank\"><span style=\"color: #7f7f7f; text-decoration-color: #7f7f7f\">flwr</span></a><span style=\"color: #7f7f7f; text-decoration-color: #7f7f7f\">:</span><a href=\"file:///tmp/ipykernel_1009755/3963006861.py#21\" target=\"_blank\"><span style=\"color: #7f7f7f; text-decoration-color: #7f7f7f\">21</span></a>\n",
              "</pre>\n"
            ],
            "text/plain": [
              "\u001b[2;36m                   \u001b[0m\u001b[2;36m \u001b[0m\u001b[34mINFO    \u001b[0m cid: \u001b[1;36m114\u001b[0m                                                                       \u001b]8;id=845964;file:///tmp/ipykernel_1009755/3963006861.py\u001b\\\u001b[2mflwr\u001b[0m\u001b]8;;\u001b\\\u001b[2m:\u001b[0m\u001b]8;id=322451;file:///tmp/ipykernel_1009755/3963006861.py#21\u001b\\\u001b[2m21\u001b[0m\u001b]8;;\u001b\\\n"
            ]
          },
          "metadata": {},
          "output_type": "display_data"
        },
        {
          "name": "stderr",
          "output_type": "stream",
          "text": [
            "INFO flwr 2025-03-28 05:06:04,789 | 3963006861.py:21 | cid: 245\n"
          ]
        },
        {
          "data": {
            "text/html": [
              "<pre style=\"white-space:pre;overflow-x:auto;line-height:normal;font-family:Menlo,'DejaVu Sans Mono',consolas,'Courier New',monospace\"><span style=\"color: #7fbfbf; text-decoration-color: #7fbfbf\">                    </span><span style=\"color: #000080; text-decoration-color: #000080\">INFO    </span> cid: <span style=\"color: #008080; text-decoration-color: #008080; font-weight: bold\">245</span>                                                                       <a href=\"file:///tmp/ipykernel_1009755/3963006861.py\" target=\"_blank\"><span style=\"color: #7f7f7f; text-decoration-color: #7f7f7f\">flwr</span></a><span style=\"color: #7f7f7f; text-decoration-color: #7f7f7f\">:</span><a href=\"file:///tmp/ipykernel_1009755/3963006861.py#21\" target=\"_blank\"><span style=\"color: #7f7f7f; text-decoration-color: #7f7f7f\">21</span></a>\n",
              "</pre>\n"
            ],
            "text/plain": [
              "\u001b[2;36m                   \u001b[0m\u001b[2;36m \u001b[0m\u001b[34mINFO    \u001b[0m cid: \u001b[1;36m245\u001b[0m                                                                       \u001b]8;id=992948;file:///tmp/ipykernel_1009755/3963006861.py\u001b\\\u001b[2mflwr\u001b[0m\u001b]8;;\u001b\\\u001b[2m:\u001b[0m\u001b]8;id=82582;file:///tmp/ipykernel_1009755/3963006861.py#21\u001b\\\u001b[2m21\u001b[0m\u001b]8;;\u001b\\\n"
            ]
          },
          "metadata": {},
          "output_type": "display_data"
        },
        {
          "name": "stderr",
          "output_type": "stream",
          "text": [
            "INFO flwr 2025-03-28 05:06:04,794 | 3963006861.py:21 | cid: 87\n"
          ]
        },
        {
          "data": {
            "text/html": [
              "<pre style=\"white-space:pre;overflow-x:auto;line-height:normal;font-family:Menlo,'DejaVu Sans Mono',consolas,'Courier New',monospace\"><span style=\"color: #7fbfbf; text-decoration-color: #7fbfbf\">                    </span><span style=\"color: #000080; text-decoration-color: #000080\">INFO    </span> cid: <span style=\"color: #008080; text-decoration-color: #008080; font-weight: bold\">87</span>                                                                        <a href=\"file:///tmp/ipykernel_1009755/3963006861.py\" target=\"_blank\"><span style=\"color: #7f7f7f; text-decoration-color: #7f7f7f\">flwr</span></a><span style=\"color: #7f7f7f; text-decoration-color: #7f7f7f\">:</span><a href=\"file:///tmp/ipykernel_1009755/3963006861.py#21\" target=\"_blank\"><span style=\"color: #7f7f7f; text-decoration-color: #7f7f7f\">21</span></a>\n",
              "</pre>\n"
            ],
            "text/plain": [
              "\u001b[2;36m                   \u001b[0m\u001b[2;36m \u001b[0m\u001b[34mINFO    \u001b[0m cid: \u001b[1;36m87\u001b[0m                                                                        \u001b]8;id=797549;file:///tmp/ipykernel_1009755/3963006861.py\u001b\\\u001b[2mflwr\u001b[0m\u001b]8;;\u001b\\\u001b[2m:\u001b[0m\u001b]8;id=558582;file:///tmp/ipykernel_1009755/3963006861.py#21\u001b\\\u001b[2m21\u001b[0m\u001b]8;;\u001b\\\n"
            ]
          },
          "metadata": {},
          "output_type": "display_data"
        },
        {
          "name": "stderr",
          "output_type": "stream",
          "text": [
            "INFO flwr 2025-03-28 05:06:04,801 | 3963006861.py:21 | cid: 128\n"
          ]
        },
        {
          "data": {
            "text/html": [
              "<pre style=\"white-space:pre;overflow-x:auto;line-height:normal;font-family:Menlo,'DejaVu Sans Mono',consolas,'Courier New',monospace\"><span style=\"color: #7fbfbf; text-decoration-color: #7fbfbf\">                    </span><span style=\"color: #000080; text-decoration-color: #000080\">INFO    </span> cid: <span style=\"color: #008080; text-decoration-color: #008080; font-weight: bold\">128</span>                                                                       <a href=\"file:///tmp/ipykernel_1009755/3963006861.py\" target=\"_blank\"><span style=\"color: #7f7f7f; text-decoration-color: #7f7f7f\">flwr</span></a><span style=\"color: #7f7f7f; text-decoration-color: #7f7f7f\">:</span><a href=\"file:///tmp/ipykernel_1009755/3963006861.py#21\" target=\"_blank\"><span style=\"color: #7f7f7f; text-decoration-color: #7f7f7f\">21</span></a>\n",
              "</pre>\n"
            ],
            "text/plain": [
              "\u001b[2;36m                   \u001b[0m\u001b[2;36m \u001b[0m\u001b[34mINFO    \u001b[0m cid: \u001b[1;36m128\u001b[0m                                                                       \u001b]8;id=576510;file:///tmp/ipykernel_1009755/3963006861.py\u001b\\\u001b[2mflwr\u001b[0m\u001b]8;;\u001b\\\u001b[2m:\u001b[0m\u001b]8;id=173148;file:///tmp/ipykernel_1009755/3963006861.py#21\u001b\\\u001b[2m21\u001b[0m\u001b]8;;\u001b\\\n"
            ]
          },
          "metadata": {},
          "output_type": "display_data"
        },
        {
          "name": "stderr",
          "output_type": "stream",
          "text": [
            "INFO flwr 2025-03-28 05:06:04,808 | 3963006861.py:21 | cid: 271\n"
          ]
        },
        {
          "data": {
            "text/html": [
              "<pre style=\"white-space:pre;overflow-x:auto;line-height:normal;font-family:Menlo,'DejaVu Sans Mono',consolas,'Courier New',monospace\"><span style=\"color: #7fbfbf; text-decoration-color: #7fbfbf\">                    </span><span style=\"color: #000080; text-decoration-color: #000080\">INFO    </span> cid: <span style=\"color: #008080; text-decoration-color: #008080; font-weight: bold\">271</span>                                                                       <a href=\"file:///tmp/ipykernel_1009755/3963006861.py\" target=\"_blank\"><span style=\"color: #7f7f7f; text-decoration-color: #7f7f7f\">flwr</span></a><span style=\"color: #7f7f7f; text-decoration-color: #7f7f7f\">:</span><a href=\"file:///tmp/ipykernel_1009755/3963006861.py#21\" target=\"_blank\"><span style=\"color: #7f7f7f; text-decoration-color: #7f7f7f\">21</span></a>\n",
              "</pre>\n"
            ],
            "text/plain": [
              "\u001b[2;36m                   \u001b[0m\u001b[2;36m \u001b[0m\u001b[34mINFO    \u001b[0m cid: \u001b[1;36m271\u001b[0m                                                                       \u001b]8;id=222086;file:///tmp/ipykernel_1009755/3963006861.py\u001b\\\u001b[2mflwr\u001b[0m\u001b]8;;\u001b\\\u001b[2m:\u001b[0m\u001b]8;id=974036;file:///tmp/ipykernel_1009755/3963006861.py#21\u001b\\\u001b[2m21\u001b[0m\u001b]8;;\u001b\\\n"
            ]
          },
          "metadata": {},
          "output_type": "display_data"
        },
        {
          "name": "stderr",
          "output_type": "stream",
          "text": [
            "INFO flwr 2025-03-28 05:06:04,814 | 3963006861.py:21 | cid: 552\n"
          ]
        },
        {
          "data": {
            "text/html": [
              "<pre style=\"white-space:pre;overflow-x:auto;line-height:normal;font-family:Menlo,'DejaVu Sans Mono',consolas,'Courier New',monospace\"><span style=\"color: #7fbfbf; text-decoration-color: #7fbfbf\">                    </span><span style=\"color: #000080; text-decoration-color: #000080\">INFO    </span> cid: <span style=\"color: #008080; text-decoration-color: #008080; font-weight: bold\">552</span>                                                                       <a href=\"file:///tmp/ipykernel_1009755/3963006861.py\" target=\"_blank\"><span style=\"color: #7f7f7f; text-decoration-color: #7f7f7f\">flwr</span></a><span style=\"color: #7f7f7f; text-decoration-color: #7f7f7f\">:</span><a href=\"file:///tmp/ipykernel_1009755/3963006861.py#21\" target=\"_blank\"><span style=\"color: #7f7f7f; text-decoration-color: #7f7f7f\">21</span></a>\n",
              "</pre>\n"
            ],
            "text/plain": [
              "\u001b[2;36m                   \u001b[0m\u001b[2;36m \u001b[0m\u001b[34mINFO    \u001b[0m cid: \u001b[1;36m552\u001b[0m                                                                       \u001b]8;id=747581;file:///tmp/ipykernel_1009755/3963006861.py\u001b\\\u001b[2mflwr\u001b[0m\u001b]8;;\u001b\\\u001b[2m:\u001b[0m\u001b]8;id=326858;file:///tmp/ipykernel_1009755/3963006861.py#21\u001b\\\u001b[2m21\u001b[0m\u001b]8;;\u001b\\\n"
            ]
          },
          "metadata": {},
          "output_type": "display_data"
        },
        {
          "name": "stderr",
          "output_type": "stream",
          "text": [
            "INFO flwr 2025-03-28 05:06:04,820 | 3963006861.py:21 | cid: 408\n"
          ]
        },
        {
          "data": {
            "text/html": [
              "<pre style=\"white-space:pre;overflow-x:auto;line-height:normal;font-family:Menlo,'DejaVu Sans Mono',consolas,'Courier New',monospace\"><span style=\"color: #7fbfbf; text-decoration-color: #7fbfbf\">                    </span><span style=\"color: #000080; text-decoration-color: #000080\">INFO    </span> cid: <span style=\"color: #008080; text-decoration-color: #008080; font-weight: bold\">408</span>                                                                       <a href=\"file:///tmp/ipykernel_1009755/3963006861.py\" target=\"_blank\"><span style=\"color: #7f7f7f; text-decoration-color: #7f7f7f\">flwr</span></a><span style=\"color: #7f7f7f; text-decoration-color: #7f7f7f\">:</span><a href=\"file:///tmp/ipykernel_1009755/3963006861.py#21\" target=\"_blank\"><span style=\"color: #7f7f7f; text-decoration-color: #7f7f7f\">21</span></a>\n",
              "</pre>\n"
            ],
            "text/plain": [
              "\u001b[2;36m                   \u001b[0m\u001b[2;36m \u001b[0m\u001b[34mINFO    \u001b[0m cid: \u001b[1;36m408\u001b[0m                                                                       \u001b]8;id=943313;file:///tmp/ipykernel_1009755/3963006861.py\u001b\\\u001b[2mflwr\u001b[0m\u001b]8;;\u001b\\\u001b[2m:\u001b[0m\u001b]8;id=542717;file:///tmp/ipykernel_1009755/3963006861.py#21\u001b\\\u001b[2m21\u001b[0m\u001b]8;;\u001b\\\n"
            ]
          },
          "metadata": {},
          "output_type": "display_data"
        },
        {
          "name": "stderr",
          "output_type": "stream",
          "text": [
            "INFO flwr 2025-03-28 05:06:04,825 | 3963006861.py:21 | cid: 462\n"
          ]
        },
        {
          "data": {
            "text/html": [
              "<pre style=\"white-space:pre;overflow-x:auto;line-height:normal;font-family:Menlo,'DejaVu Sans Mono',consolas,'Courier New',monospace\"><span style=\"color: #7fbfbf; text-decoration-color: #7fbfbf\">                    </span><span style=\"color: #000080; text-decoration-color: #000080\">INFO    </span> cid: <span style=\"color: #008080; text-decoration-color: #008080; font-weight: bold\">462</span>                                                                       <a href=\"file:///tmp/ipykernel_1009755/3963006861.py\" target=\"_blank\"><span style=\"color: #7f7f7f; text-decoration-color: #7f7f7f\">flwr</span></a><span style=\"color: #7f7f7f; text-decoration-color: #7f7f7f\">:</span><a href=\"file:///tmp/ipykernel_1009755/3963006861.py#21\" target=\"_blank\"><span style=\"color: #7f7f7f; text-decoration-color: #7f7f7f\">21</span></a>\n",
              "</pre>\n"
            ],
            "text/plain": [
              "\u001b[2;36m                   \u001b[0m\u001b[2;36m \u001b[0m\u001b[34mINFO    \u001b[0m cid: \u001b[1;36m462\u001b[0m                                                                       \u001b]8;id=354508;file:///tmp/ipykernel_1009755/3963006861.py\u001b\\\u001b[2mflwr\u001b[0m\u001b]8;;\u001b\\\u001b[2m:\u001b[0m\u001b]8;id=22056;file:///tmp/ipykernel_1009755/3963006861.py#21\u001b\\\u001b[2m21\u001b[0m\u001b]8;;\u001b\\\n"
            ]
          },
          "metadata": {},
          "output_type": "display_data"
        },
        {
          "name": "stderr",
          "output_type": "stream",
          "text": [
            "INFO flwr 2025-03-28 05:06:04,830 | 3963006861.py:21 | cid: 602\n"
          ]
        },
        {
          "data": {
            "text/html": [
              "<pre style=\"white-space:pre;overflow-x:auto;line-height:normal;font-family:Menlo,'DejaVu Sans Mono',consolas,'Courier New',monospace\"><span style=\"color: #7fbfbf; text-decoration-color: #7fbfbf\">                    </span><span style=\"color: #000080; text-decoration-color: #000080\">INFO    </span> cid: <span style=\"color: #008080; text-decoration-color: #008080; font-weight: bold\">602</span>                                                                       <a href=\"file:///tmp/ipykernel_1009755/3963006861.py\" target=\"_blank\"><span style=\"color: #7f7f7f; text-decoration-color: #7f7f7f\">flwr</span></a><span style=\"color: #7f7f7f; text-decoration-color: #7f7f7f\">:</span><a href=\"file:///tmp/ipykernel_1009755/3963006861.py#21\" target=\"_blank\"><span style=\"color: #7f7f7f; text-decoration-color: #7f7f7f\">21</span></a>\n",
              "</pre>\n"
            ],
            "text/plain": [
              "\u001b[2;36m                   \u001b[0m\u001b[2;36m \u001b[0m\u001b[34mINFO    \u001b[0m cid: \u001b[1;36m602\u001b[0m                                                                       \u001b]8;id=7540;file:///tmp/ipykernel_1009755/3963006861.py\u001b\\\u001b[2mflwr\u001b[0m\u001b]8;;\u001b\\\u001b[2m:\u001b[0m\u001b]8;id=74441;file:///tmp/ipykernel_1009755/3963006861.py#21\u001b\\\u001b[2m21\u001b[0m\u001b]8;;\u001b\\\n"
            ]
          },
          "metadata": {},
          "output_type": "display_data"
        },
        {
          "name": "stderr",
          "output_type": "stream",
          "text": [
            "INFO flwr 2025-03-28 05:06:04,836 | 3963006861.py:21 | cid: 60\n"
          ]
        },
        {
          "data": {
            "text/html": [
              "<pre style=\"white-space:pre;overflow-x:auto;line-height:normal;font-family:Menlo,'DejaVu Sans Mono',consolas,'Courier New',monospace\"><span style=\"color: #7fbfbf; text-decoration-color: #7fbfbf\">                    </span><span style=\"color: #000080; text-decoration-color: #000080\">INFO    </span> cid: <span style=\"color: #008080; text-decoration-color: #008080; font-weight: bold\">60</span>                                                                        <a href=\"file:///tmp/ipykernel_1009755/3963006861.py\" target=\"_blank\"><span style=\"color: #7f7f7f; text-decoration-color: #7f7f7f\">flwr</span></a><span style=\"color: #7f7f7f; text-decoration-color: #7f7f7f\">:</span><a href=\"file:///tmp/ipykernel_1009755/3963006861.py#21\" target=\"_blank\"><span style=\"color: #7f7f7f; text-decoration-color: #7f7f7f\">21</span></a>\n",
              "</pre>\n"
            ],
            "text/plain": [
              "\u001b[2;36m                   \u001b[0m\u001b[2;36m \u001b[0m\u001b[34mINFO    \u001b[0m cid: \u001b[1;36m60\u001b[0m                                                                        \u001b]8;id=901393;file:///tmp/ipykernel_1009755/3963006861.py\u001b\\\u001b[2mflwr\u001b[0m\u001b]8;;\u001b\\\u001b[2m:\u001b[0m\u001b]8;id=346479;file:///tmp/ipykernel_1009755/3963006861.py#21\u001b\\\u001b[2m21\u001b[0m\u001b]8;;\u001b\\\n"
            ]
          },
          "metadata": {},
          "output_type": "display_data"
        },
        {
          "name": "stderr",
          "output_type": "stream",
          "text": [
            "INFO flwr 2025-03-28 05:06:04,841 | 3963006861.py:21 | cid: 72\n"
          ]
        },
        {
          "data": {
            "text/html": [
              "<pre style=\"white-space:pre;overflow-x:auto;line-height:normal;font-family:Menlo,'DejaVu Sans Mono',consolas,'Courier New',monospace\"><span style=\"color: #7fbfbf; text-decoration-color: #7fbfbf\">                    </span><span style=\"color: #000080; text-decoration-color: #000080\">INFO    </span> cid: <span style=\"color: #008080; text-decoration-color: #008080; font-weight: bold\">72</span>                                                                        <a href=\"file:///tmp/ipykernel_1009755/3963006861.py\" target=\"_blank\"><span style=\"color: #7f7f7f; text-decoration-color: #7f7f7f\">flwr</span></a><span style=\"color: #7f7f7f; text-decoration-color: #7f7f7f\">:</span><a href=\"file:///tmp/ipykernel_1009755/3963006861.py#21\" target=\"_blank\"><span style=\"color: #7f7f7f; text-decoration-color: #7f7f7f\">21</span></a>\n",
              "</pre>\n"
            ],
            "text/plain": [
              "\u001b[2;36m                   \u001b[0m\u001b[2;36m \u001b[0m\u001b[34mINFO    \u001b[0m cid: \u001b[1;36m72\u001b[0m                                                                        \u001b]8;id=508993;file:///tmp/ipykernel_1009755/3963006861.py\u001b\\\u001b[2mflwr\u001b[0m\u001b]8;;\u001b\\\u001b[2m:\u001b[0m\u001b]8;id=224643;file:///tmp/ipykernel_1009755/3963006861.py#21\u001b\\\u001b[2m21\u001b[0m\u001b]8;;\u001b\\\n"
            ]
          },
          "metadata": {},
          "output_type": "display_data"
        },
        {
          "name": "stderr",
          "output_type": "stream",
          "text": [
            "INFO flwr 2025-03-28 05:06:04,847 | 3963006861.py:21 | cid: 552\n"
          ]
        },
        {
          "data": {
            "text/html": [
              "<pre style=\"white-space:pre;overflow-x:auto;line-height:normal;font-family:Menlo,'DejaVu Sans Mono',consolas,'Courier New',monospace\"><span style=\"color: #7fbfbf; text-decoration-color: #7fbfbf\">                    </span><span style=\"color: #000080; text-decoration-color: #000080\">INFO    </span> cid: <span style=\"color: #008080; text-decoration-color: #008080; font-weight: bold\">552</span>                                                                       <a href=\"file:///tmp/ipykernel_1009755/3963006861.py\" target=\"_blank\"><span style=\"color: #7f7f7f; text-decoration-color: #7f7f7f\">flwr</span></a><span style=\"color: #7f7f7f; text-decoration-color: #7f7f7f\">:</span><a href=\"file:///tmp/ipykernel_1009755/3963006861.py#21\" target=\"_blank\"><span style=\"color: #7f7f7f; text-decoration-color: #7f7f7f\">21</span></a>\n",
              "</pre>\n"
            ],
            "text/plain": [
              "\u001b[2;36m                   \u001b[0m\u001b[2;36m \u001b[0m\u001b[34mINFO    \u001b[0m cid: \u001b[1;36m552\u001b[0m                                                                       \u001b]8;id=598782;file:///tmp/ipykernel_1009755/3963006861.py\u001b\\\u001b[2mflwr\u001b[0m\u001b]8;;\u001b\\\u001b[2m:\u001b[0m\u001b]8;id=604201;file:///tmp/ipykernel_1009755/3963006861.py#21\u001b\\\u001b[2m21\u001b[0m\u001b]8;;\u001b\\\n"
            ]
          },
          "metadata": {},
          "output_type": "display_data"
        },
        {
          "name": "stderr",
          "output_type": "stream",
          "text": [
            "INFO flwr 2025-03-28 05:06:04,852 | 3963006861.py:21 | cid: 484\n"
          ]
        },
        {
          "data": {
            "text/html": [
              "<pre style=\"white-space:pre;overflow-x:auto;line-height:normal;font-family:Menlo,'DejaVu Sans Mono',consolas,'Courier New',monospace\"><span style=\"color: #7fbfbf; text-decoration-color: #7fbfbf\">                    </span><span style=\"color: #000080; text-decoration-color: #000080\">INFO    </span> cid: <span style=\"color: #008080; text-decoration-color: #008080; font-weight: bold\">484</span>                                                                       <a href=\"file:///tmp/ipykernel_1009755/3963006861.py\" target=\"_blank\"><span style=\"color: #7f7f7f; text-decoration-color: #7f7f7f\">flwr</span></a><span style=\"color: #7f7f7f; text-decoration-color: #7f7f7f\">:</span><a href=\"file:///tmp/ipykernel_1009755/3963006861.py#21\" target=\"_blank\"><span style=\"color: #7f7f7f; text-decoration-color: #7f7f7f\">21</span></a>\n",
              "</pre>\n"
            ],
            "text/plain": [
              "\u001b[2;36m                   \u001b[0m\u001b[2;36m \u001b[0m\u001b[34mINFO    \u001b[0m cid: \u001b[1;36m484\u001b[0m                                                                       \u001b]8;id=426833;file:///tmp/ipykernel_1009755/3963006861.py\u001b\\\u001b[2mflwr\u001b[0m\u001b]8;;\u001b\\\u001b[2m:\u001b[0m\u001b]8;id=199659;file:///tmp/ipykernel_1009755/3963006861.py#21\u001b\\\u001b[2m21\u001b[0m\u001b]8;;\u001b\\\n"
            ]
          },
          "metadata": {},
          "output_type": "display_data"
        },
        {
          "name": "stderr",
          "output_type": "stream",
          "text": [
            "INFO flwr 2025-03-28 05:06:04,857 | 3963006861.py:21 | cid: 96\n"
          ]
        },
        {
          "data": {
            "text/html": [
              "<pre style=\"white-space:pre;overflow-x:auto;line-height:normal;font-family:Menlo,'DejaVu Sans Mono',consolas,'Courier New',monospace\"><span style=\"color: #7fbfbf; text-decoration-color: #7fbfbf\">                    </span><span style=\"color: #000080; text-decoration-color: #000080\">INFO    </span> cid: <span style=\"color: #008080; text-decoration-color: #008080; font-weight: bold\">96</span>                                                                        <a href=\"file:///tmp/ipykernel_1009755/3963006861.py\" target=\"_blank\"><span style=\"color: #7f7f7f; text-decoration-color: #7f7f7f\">flwr</span></a><span style=\"color: #7f7f7f; text-decoration-color: #7f7f7f\">:</span><a href=\"file:///tmp/ipykernel_1009755/3963006861.py#21\" target=\"_blank\"><span style=\"color: #7f7f7f; text-decoration-color: #7f7f7f\">21</span></a>\n",
              "</pre>\n"
            ],
            "text/plain": [
              "\u001b[2;36m                   \u001b[0m\u001b[2;36m \u001b[0m\u001b[34mINFO    \u001b[0m cid: \u001b[1;36m96\u001b[0m                                                                        \u001b]8;id=444154;file:///tmp/ipykernel_1009755/3963006861.py\u001b\\\u001b[2mflwr\u001b[0m\u001b]8;;\u001b\\\u001b[2m:\u001b[0m\u001b]8;id=431071;file:///tmp/ipykernel_1009755/3963006861.py#21\u001b\\\u001b[2m21\u001b[0m\u001b]8;;\u001b\\\n"
            ]
          },
          "metadata": {},
          "output_type": "display_data"
        },
        {
          "name": "stderr",
          "output_type": "stream",
          "text": [
            "INFO flwr 2025-03-28 05:06:04,863 | 3963006861.py:21 | cid: 478\n"
          ]
        },
        {
          "data": {
            "text/html": [
              "<pre style=\"white-space:pre;overflow-x:auto;line-height:normal;font-family:Menlo,'DejaVu Sans Mono',consolas,'Courier New',monospace\"><span style=\"color: #7fbfbf; text-decoration-color: #7fbfbf\">                    </span><span style=\"color: #000080; text-decoration-color: #000080\">INFO    </span> cid: <span style=\"color: #008080; text-decoration-color: #008080; font-weight: bold\">478</span>                                                                       <a href=\"file:///tmp/ipykernel_1009755/3963006861.py\" target=\"_blank\"><span style=\"color: #7f7f7f; text-decoration-color: #7f7f7f\">flwr</span></a><span style=\"color: #7f7f7f; text-decoration-color: #7f7f7f\">:</span><a href=\"file:///tmp/ipykernel_1009755/3963006861.py#21\" target=\"_blank\"><span style=\"color: #7f7f7f; text-decoration-color: #7f7f7f\">21</span></a>\n",
              "</pre>\n"
            ],
            "text/plain": [
              "\u001b[2;36m                   \u001b[0m\u001b[2;36m \u001b[0m\u001b[34mINFO    \u001b[0m cid: \u001b[1;36m478\u001b[0m                                                                       \u001b]8;id=685197;file:///tmp/ipykernel_1009755/3963006861.py\u001b\\\u001b[2mflwr\u001b[0m\u001b]8;;\u001b\\\u001b[2m:\u001b[0m\u001b]8;id=677568;file:///tmp/ipykernel_1009755/3963006861.py#21\u001b\\\u001b[2m21\u001b[0m\u001b]8;;\u001b\\\n"
            ]
          },
          "metadata": {},
          "output_type": "display_data"
        },
        {
          "name": "stderr",
          "output_type": "stream",
          "text": [
            "INFO flwr 2025-03-28 05:06:04,869 | 3963006861.py:21 | cid: 100\n"
          ]
        },
        {
          "data": {
            "text/html": [
              "<pre style=\"white-space:pre;overflow-x:auto;line-height:normal;font-family:Menlo,'DejaVu Sans Mono',consolas,'Courier New',monospace\"><span style=\"color: #7fbfbf; text-decoration-color: #7fbfbf\">                    </span><span style=\"color: #000080; text-decoration-color: #000080\">INFO    </span> cid: <span style=\"color: #008080; text-decoration-color: #008080; font-weight: bold\">100</span>                                                                       <a href=\"file:///tmp/ipykernel_1009755/3963006861.py\" target=\"_blank\"><span style=\"color: #7f7f7f; text-decoration-color: #7f7f7f\">flwr</span></a><span style=\"color: #7f7f7f; text-decoration-color: #7f7f7f\">:</span><a href=\"file:///tmp/ipykernel_1009755/3963006861.py#21\" target=\"_blank\"><span style=\"color: #7f7f7f; text-decoration-color: #7f7f7f\">21</span></a>\n",
              "</pre>\n"
            ],
            "text/plain": [
              "\u001b[2;36m                   \u001b[0m\u001b[2;36m \u001b[0m\u001b[34mINFO    \u001b[0m cid: \u001b[1;36m100\u001b[0m                                                                       \u001b]8;id=839482;file:///tmp/ipykernel_1009755/3963006861.py\u001b\\\u001b[2mflwr\u001b[0m\u001b]8;;\u001b\\\u001b[2m:\u001b[0m\u001b]8;id=903529;file:///tmp/ipykernel_1009755/3963006861.py#21\u001b\\\u001b[2m21\u001b[0m\u001b]8;;\u001b\\\n"
            ]
          },
          "metadata": {},
          "output_type": "display_data"
        },
        {
          "name": "stderr",
          "output_type": "stream",
          "text": [
            "INFO flwr 2025-03-28 05:06:04,875 | 3963006861.py:21 | cid: 111\n"
          ]
        },
        {
          "data": {
            "text/html": [
              "<pre style=\"white-space:pre;overflow-x:auto;line-height:normal;font-family:Menlo,'DejaVu Sans Mono',consolas,'Courier New',monospace\"><span style=\"color: #7fbfbf; text-decoration-color: #7fbfbf\">                    </span><span style=\"color: #000080; text-decoration-color: #000080\">INFO    </span> cid: <span style=\"color: #008080; text-decoration-color: #008080; font-weight: bold\">111</span>                                                                       <a href=\"file:///tmp/ipykernel_1009755/3963006861.py\" target=\"_blank\"><span style=\"color: #7f7f7f; text-decoration-color: #7f7f7f\">flwr</span></a><span style=\"color: #7f7f7f; text-decoration-color: #7f7f7f\">:</span><a href=\"file:///tmp/ipykernel_1009755/3963006861.py#21\" target=\"_blank\"><span style=\"color: #7f7f7f; text-decoration-color: #7f7f7f\">21</span></a>\n",
              "</pre>\n"
            ],
            "text/plain": [
              "\u001b[2;36m                   \u001b[0m\u001b[2;36m \u001b[0m\u001b[34mINFO    \u001b[0m cid: \u001b[1;36m111\u001b[0m                                                                       \u001b]8;id=470405;file:///tmp/ipykernel_1009755/3963006861.py\u001b\\\u001b[2mflwr\u001b[0m\u001b]8;;\u001b\\\u001b[2m:\u001b[0m\u001b]8;id=146991;file:///tmp/ipykernel_1009755/3963006861.py#21\u001b\\\u001b[2m21\u001b[0m\u001b]8;;\u001b\\\n"
            ]
          },
          "metadata": {},
          "output_type": "display_data"
        },
        {
          "name": "stderr",
          "output_type": "stream",
          "text": [
            "INFO flwr 2025-03-28 05:06:04,881 | 3963006861.py:21 | cid: 432\n"
          ]
        },
        {
          "data": {
            "text/html": [
              "<pre style=\"white-space:pre;overflow-x:auto;line-height:normal;font-family:Menlo,'DejaVu Sans Mono',consolas,'Courier New',monospace\"><span style=\"color: #7fbfbf; text-decoration-color: #7fbfbf\">                    </span><span style=\"color: #000080; text-decoration-color: #000080\">INFO    </span> cid: <span style=\"color: #008080; text-decoration-color: #008080; font-weight: bold\">432</span>                                                                       <a href=\"file:///tmp/ipykernel_1009755/3963006861.py\" target=\"_blank\"><span style=\"color: #7f7f7f; text-decoration-color: #7f7f7f\">flwr</span></a><span style=\"color: #7f7f7f; text-decoration-color: #7f7f7f\">:</span><a href=\"file:///tmp/ipykernel_1009755/3963006861.py#21\" target=\"_blank\"><span style=\"color: #7f7f7f; text-decoration-color: #7f7f7f\">21</span></a>\n",
              "</pre>\n"
            ],
            "text/plain": [
              "\u001b[2;36m                   \u001b[0m\u001b[2;36m \u001b[0m\u001b[34mINFO    \u001b[0m cid: \u001b[1;36m432\u001b[0m                                                                       \u001b]8;id=916964;file:///tmp/ipykernel_1009755/3963006861.py\u001b\\\u001b[2mflwr\u001b[0m\u001b]8;;\u001b\\\u001b[2m:\u001b[0m\u001b]8;id=968114;file:///tmp/ipykernel_1009755/3963006861.py#21\u001b\\\u001b[2m21\u001b[0m\u001b]8;;\u001b\\\n"
            ]
          },
          "metadata": {},
          "output_type": "display_data"
        },
        {
          "name": "stderr",
          "output_type": "stream",
          "text": [
            "INFO flwr 2025-03-28 05:06:04,887 | 3963006861.py:21 | cid: 77\n"
          ]
        },
        {
          "data": {
            "text/html": [
              "<pre style=\"white-space:pre;overflow-x:auto;line-height:normal;font-family:Menlo,'DejaVu Sans Mono',consolas,'Courier New',monospace\"><span style=\"color: #7fbfbf; text-decoration-color: #7fbfbf\">                    </span><span style=\"color: #000080; text-decoration-color: #000080\">INFO    </span> cid: <span style=\"color: #008080; text-decoration-color: #008080; font-weight: bold\">77</span>                                                                        <a href=\"file:///tmp/ipykernel_1009755/3963006861.py\" target=\"_blank\"><span style=\"color: #7f7f7f; text-decoration-color: #7f7f7f\">flwr</span></a><span style=\"color: #7f7f7f; text-decoration-color: #7f7f7f\">:</span><a href=\"file:///tmp/ipykernel_1009755/3963006861.py#21\" target=\"_blank\"><span style=\"color: #7f7f7f; text-decoration-color: #7f7f7f\">21</span></a>\n",
              "</pre>\n"
            ],
            "text/plain": [
              "\u001b[2;36m                   \u001b[0m\u001b[2;36m \u001b[0m\u001b[34mINFO    \u001b[0m cid: \u001b[1;36m77\u001b[0m                                                                        \u001b]8;id=577057;file:///tmp/ipykernel_1009755/3963006861.py\u001b\\\u001b[2mflwr\u001b[0m\u001b]8;;\u001b\\\u001b[2m:\u001b[0m\u001b]8;id=102664;file:///tmp/ipykernel_1009755/3963006861.py#21\u001b\\\u001b[2m21\u001b[0m\u001b]8;;\u001b\\\n"
            ]
          },
          "metadata": {},
          "output_type": "display_data"
        },
        {
          "name": "stderr",
          "output_type": "stream",
          "text": [
            "INFO flwr 2025-03-28 05:06:04,893 | 3963006861.py:21 | cid: 51\n"
          ]
        },
        {
          "data": {
            "text/html": [
              "<pre style=\"white-space:pre;overflow-x:auto;line-height:normal;font-family:Menlo,'DejaVu Sans Mono',consolas,'Courier New',monospace\"><span style=\"color: #7fbfbf; text-decoration-color: #7fbfbf\">                    </span><span style=\"color: #000080; text-decoration-color: #000080\">INFO    </span> cid: <span style=\"color: #008080; text-decoration-color: #008080; font-weight: bold\">51</span>                                                                        <a href=\"file:///tmp/ipykernel_1009755/3963006861.py\" target=\"_blank\"><span style=\"color: #7f7f7f; text-decoration-color: #7f7f7f\">flwr</span></a><span style=\"color: #7f7f7f; text-decoration-color: #7f7f7f\">:</span><a href=\"file:///tmp/ipykernel_1009755/3963006861.py#21\" target=\"_blank\"><span style=\"color: #7f7f7f; text-decoration-color: #7f7f7f\">21</span></a>\n",
              "</pre>\n"
            ],
            "text/plain": [
              "\u001b[2;36m                   \u001b[0m\u001b[2;36m \u001b[0m\u001b[34mINFO    \u001b[0m cid: \u001b[1;36m51\u001b[0m                                                                        \u001b]8;id=97793;file:///tmp/ipykernel_1009755/3963006861.py\u001b\\\u001b[2mflwr\u001b[0m\u001b]8;;\u001b\\\u001b[2m:\u001b[0m\u001b]8;id=971366;file:///tmp/ipykernel_1009755/3963006861.py#21\u001b\\\u001b[2m21\u001b[0m\u001b]8;;\u001b\\\n"
            ]
          },
          "metadata": {},
          "output_type": "display_data"
        },
        {
          "name": "stderr",
          "output_type": "stream",
          "text": [
            "INFO flwr 2025-03-28 05:06:04,898 | 3963006861.py:21 | cid: 242\n"
          ]
        },
        {
          "data": {
            "text/html": [
              "<pre style=\"white-space:pre;overflow-x:auto;line-height:normal;font-family:Menlo,'DejaVu Sans Mono',consolas,'Courier New',monospace\"><span style=\"color: #7fbfbf; text-decoration-color: #7fbfbf\">                    </span><span style=\"color: #000080; text-decoration-color: #000080\">INFO    </span> cid: <span style=\"color: #008080; text-decoration-color: #008080; font-weight: bold\">242</span>                                                                       <a href=\"file:///tmp/ipykernel_1009755/3963006861.py\" target=\"_blank\"><span style=\"color: #7f7f7f; text-decoration-color: #7f7f7f\">flwr</span></a><span style=\"color: #7f7f7f; text-decoration-color: #7f7f7f\">:</span><a href=\"file:///tmp/ipykernel_1009755/3963006861.py#21\" target=\"_blank\"><span style=\"color: #7f7f7f; text-decoration-color: #7f7f7f\">21</span></a>\n",
              "</pre>\n"
            ],
            "text/plain": [
              "\u001b[2;36m                   \u001b[0m\u001b[2;36m \u001b[0m\u001b[34mINFO    \u001b[0m cid: \u001b[1;36m242\u001b[0m                                                                       \u001b]8;id=224130;file:///tmp/ipykernel_1009755/3963006861.py\u001b\\\u001b[2mflwr\u001b[0m\u001b]8;;\u001b\\\u001b[2m:\u001b[0m\u001b]8;id=906651;file:///tmp/ipykernel_1009755/3963006861.py#21\u001b\\\u001b[2m21\u001b[0m\u001b]8;;\u001b\\\n"
            ]
          },
          "metadata": {},
          "output_type": "display_data"
        },
        {
          "name": "stderr",
          "output_type": "stream",
          "text": [
            "INFO flwr 2025-03-28 05:06:04,905 | 3963006861.py:21 | cid: 410\n"
          ]
        },
        {
          "data": {
            "text/html": [
              "<pre style=\"white-space:pre;overflow-x:auto;line-height:normal;font-family:Menlo,'DejaVu Sans Mono',consolas,'Courier New',monospace\"><span style=\"color: #7fbfbf; text-decoration-color: #7fbfbf\">                    </span><span style=\"color: #000080; text-decoration-color: #000080\">INFO    </span> cid: <span style=\"color: #008080; text-decoration-color: #008080; font-weight: bold\">410</span>                                                                       <a href=\"file:///tmp/ipykernel_1009755/3963006861.py\" target=\"_blank\"><span style=\"color: #7f7f7f; text-decoration-color: #7f7f7f\">flwr</span></a><span style=\"color: #7f7f7f; text-decoration-color: #7f7f7f\">:</span><a href=\"file:///tmp/ipykernel_1009755/3963006861.py#21\" target=\"_blank\"><span style=\"color: #7f7f7f; text-decoration-color: #7f7f7f\">21</span></a>\n",
              "</pre>\n"
            ],
            "text/plain": [
              "\u001b[2;36m                   \u001b[0m\u001b[2;36m \u001b[0m\u001b[34mINFO    \u001b[0m cid: \u001b[1;36m410\u001b[0m                                                                       \u001b]8;id=2260;file:///tmp/ipykernel_1009755/3963006861.py\u001b\\\u001b[2mflwr\u001b[0m\u001b]8;;\u001b\\\u001b[2m:\u001b[0m\u001b]8;id=409386;file:///tmp/ipykernel_1009755/3963006861.py#21\u001b\\\u001b[2m21\u001b[0m\u001b]8;;\u001b\\\n"
            ]
          },
          "metadata": {},
          "output_type": "display_data"
        },
        {
          "name": "stderr",
          "output_type": "stream",
          "text": [
            "INFO flwr 2025-03-28 05:06:04,910 | 3963006861.py:21 | cid: 271\n"
          ]
        },
        {
          "data": {
            "text/html": [
              "<pre style=\"white-space:pre;overflow-x:auto;line-height:normal;font-family:Menlo,'DejaVu Sans Mono',consolas,'Courier New',monospace\"><span style=\"color: #7fbfbf; text-decoration-color: #7fbfbf\">                    </span><span style=\"color: #000080; text-decoration-color: #000080\">INFO    </span> cid: <span style=\"color: #008080; text-decoration-color: #008080; font-weight: bold\">271</span>                                                                       <a href=\"file:///tmp/ipykernel_1009755/3963006861.py\" target=\"_blank\"><span style=\"color: #7f7f7f; text-decoration-color: #7f7f7f\">flwr</span></a><span style=\"color: #7f7f7f; text-decoration-color: #7f7f7f\">:</span><a href=\"file:///tmp/ipykernel_1009755/3963006861.py#21\" target=\"_blank\"><span style=\"color: #7f7f7f; text-decoration-color: #7f7f7f\">21</span></a>\n",
              "</pre>\n"
            ],
            "text/plain": [
              "\u001b[2;36m                   \u001b[0m\u001b[2;36m \u001b[0m\u001b[34mINFO    \u001b[0m cid: \u001b[1;36m271\u001b[0m                                                                       \u001b]8;id=299105;file:///tmp/ipykernel_1009755/3963006861.py\u001b\\\u001b[2mflwr\u001b[0m\u001b]8;;\u001b\\\u001b[2m:\u001b[0m\u001b]8;id=443555;file:///tmp/ipykernel_1009755/3963006861.py#21\u001b\\\u001b[2m21\u001b[0m\u001b]8;;\u001b\\\n"
            ]
          },
          "metadata": {},
          "output_type": "display_data"
        },
        {
          "name": "stderr",
          "output_type": "stream",
          "text": [
            "INFO flwr 2025-03-28 05:06:04,915 | 3963006861.py:21 | cid: 569\n"
          ]
        },
        {
          "data": {
            "text/html": [
              "<pre style=\"white-space:pre;overflow-x:auto;line-height:normal;font-family:Menlo,'DejaVu Sans Mono',consolas,'Courier New',monospace\"><span style=\"color: #7fbfbf; text-decoration-color: #7fbfbf\">                    </span><span style=\"color: #000080; text-decoration-color: #000080\">INFO    </span> cid: <span style=\"color: #008080; text-decoration-color: #008080; font-weight: bold\">569</span>                                                                       <a href=\"file:///tmp/ipykernel_1009755/3963006861.py\" target=\"_blank\"><span style=\"color: #7f7f7f; text-decoration-color: #7f7f7f\">flwr</span></a><span style=\"color: #7f7f7f; text-decoration-color: #7f7f7f\">:</span><a href=\"file:///tmp/ipykernel_1009755/3963006861.py#21\" target=\"_blank\"><span style=\"color: #7f7f7f; text-decoration-color: #7f7f7f\">21</span></a>\n",
              "</pre>\n"
            ],
            "text/plain": [
              "\u001b[2;36m                   \u001b[0m\u001b[2;36m \u001b[0m\u001b[34mINFO    \u001b[0m cid: \u001b[1;36m569\u001b[0m                                                                       \u001b]8;id=199122;file:///tmp/ipykernel_1009755/3963006861.py\u001b\\\u001b[2mflwr\u001b[0m\u001b]8;;\u001b\\\u001b[2m:\u001b[0m\u001b]8;id=311120;file:///tmp/ipykernel_1009755/3963006861.py#21\u001b\\\u001b[2m21\u001b[0m\u001b]8;;\u001b\\\n"
            ]
          },
          "metadata": {},
          "output_type": "display_data"
        },
        {
          "name": "stderr",
          "output_type": "stream",
          "text": [
            "INFO flwr 2025-03-28 05:06:04,920 | 3963006861.py:21 | cid: 222\n"
          ]
        },
        {
          "data": {
            "text/html": [
              "<pre style=\"white-space:pre;overflow-x:auto;line-height:normal;font-family:Menlo,'DejaVu Sans Mono',consolas,'Courier New',monospace\"><span style=\"color: #7fbfbf; text-decoration-color: #7fbfbf\">                    </span><span style=\"color: #000080; text-decoration-color: #000080\">INFO    </span> cid: <span style=\"color: #008080; text-decoration-color: #008080; font-weight: bold\">222</span>                                                                       <a href=\"file:///tmp/ipykernel_1009755/3963006861.py\" target=\"_blank\"><span style=\"color: #7f7f7f; text-decoration-color: #7f7f7f\">flwr</span></a><span style=\"color: #7f7f7f; text-decoration-color: #7f7f7f\">:</span><a href=\"file:///tmp/ipykernel_1009755/3963006861.py#21\" target=\"_blank\"><span style=\"color: #7f7f7f; text-decoration-color: #7f7f7f\">21</span></a>\n",
              "</pre>\n"
            ],
            "text/plain": [
              "\u001b[2;36m                   \u001b[0m\u001b[2;36m \u001b[0m\u001b[34mINFO    \u001b[0m cid: \u001b[1;36m222\u001b[0m                                                                       \u001b]8;id=63918;file:///tmp/ipykernel_1009755/3963006861.py\u001b\\\u001b[2mflwr\u001b[0m\u001b]8;;\u001b\\\u001b[2m:\u001b[0m\u001b]8;id=784309;file:///tmp/ipykernel_1009755/3963006861.py#21\u001b\\\u001b[2m21\u001b[0m\u001b]8;;\u001b\\\n"
            ]
          },
          "metadata": {},
          "output_type": "display_data"
        },
        {
          "name": "stderr",
          "output_type": "stream",
          "text": [
            "INFO flwr 2025-03-28 05:06:04,926 | 3963006861.py:21 | cid: 321\n"
          ]
        },
        {
          "data": {
            "text/html": [
              "<pre style=\"white-space:pre;overflow-x:auto;line-height:normal;font-family:Menlo,'DejaVu Sans Mono',consolas,'Courier New',monospace\"><span style=\"color: #7fbfbf; text-decoration-color: #7fbfbf\">                    </span><span style=\"color: #000080; text-decoration-color: #000080\">INFO    </span> cid: <span style=\"color: #008080; text-decoration-color: #008080; font-weight: bold\">321</span>                                                                       <a href=\"file:///tmp/ipykernel_1009755/3963006861.py\" target=\"_blank\"><span style=\"color: #7f7f7f; text-decoration-color: #7f7f7f\">flwr</span></a><span style=\"color: #7f7f7f; text-decoration-color: #7f7f7f\">:</span><a href=\"file:///tmp/ipykernel_1009755/3963006861.py#21\" target=\"_blank\"><span style=\"color: #7f7f7f; text-decoration-color: #7f7f7f\">21</span></a>\n",
              "</pre>\n"
            ],
            "text/plain": [
              "\u001b[2;36m                   \u001b[0m\u001b[2;36m \u001b[0m\u001b[34mINFO    \u001b[0m cid: \u001b[1;36m321\u001b[0m                                                                       \u001b]8;id=527276;file:///tmp/ipykernel_1009755/3963006861.py\u001b\\\u001b[2mflwr\u001b[0m\u001b]8;;\u001b\\\u001b[2m:\u001b[0m\u001b]8;id=964047;file:///tmp/ipykernel_1009755/3963006861.py#21\u001b\\\u001b[2m21\u001b[0m\u001b]8;;\u001b\\\n"
            ]
          },
          "metadata": {},
          "output_type": "display_data"
        },
        {
          "name": "stderr",
          "output_type": "stream",
          "text": [
            "INFO flwr 2025-03-28 05:06:04,933 | 3963006861.py:21 | cid: 543\n"
          ]
        },
        {
          "data": {
            "text/html": [
              "<pre style=\"white-space:pre;overflow-x:auto;line-height:normal;font-family:Menlo,'DejaVu Sans Mono',consolas,'Courier New',monospace\"><span style=\"color: #7fbfbf; text-decoration-color: #7fbfbf\">                    </span><span style=\"color: #000080; text-decoration-color: #000080\">INFO    </span> cid: <span style=\"color: #008080; text-decoration-color: #008080; font-weight: bold\">543</span>                                                                       <a href=\"file:///tmp/ipykernel_1009755/3963006861.py\" target=\"_blank\"><span style=\"color: #7f7f7f; text-decoration-color: #7f7f7f\">flwr</span></a><span style=\"color: #7f7f7f; text-decoration-color: #7f7f7f\">:</span><a href=\"file:///tmp/ipykernel_1009755/3963006861.py#21\" target=\"_blank\"><span style=\"color: #7f7f7f; text-decoration-color: #7f7f7f\">21</span></a>\n",
              "</pre>\n"
            ],
            "text/plain": [
              "\u001b[2;36m                   \u001b[0m\u001b[2;36m \u001b[0m\u001b[34mINFO    \u001b[0m cid: \u001b[1;36m543\u001b[0m                                                                       \u001b]8;id=892697;file:///tmp/ipykernel_1009755/3963006861.py\u001b\\\u001b[2mflwr\u001b[0m\u001b]8;;\u001b\\\u001b[2m:\u001b[0m\u001b]8;id=194851;file:///tmp/ipykernel_1009755/3963006861.py#21\u001b\\\u001b[2m21\u001b[0m\u001b]8;;\u001b\\\n"
            ]
          },
          "metadata": {},
          "output_type": "display_data"
        },
        {
          "name": "stderr",
          "output_type": "stream",
          "text": [
            "INFO flwr 2025-03-28 05:06:04,939 | 3963006861.py:21 | cid: 70\n"
          ]
        },
        {
          "data": {
            "text/html": [
              "<pre style=\"white-space:pre;overflow-x:auto;line-height:normal;font-family:Menlo,'DejaVu Sans Mono',consolas,'Courier New',monospace\"><span style=\"color: #7fbfbf; text-decoration-color: #7fbfbf\">                    </span><span style=\"color: #000080; text-decoration-color: #000080\">INFO    </span> cid: <span style=\"color: #008080; text-decoration-color: #008080; font-weight: bold\">70</span>                                                                        <a href=\"file:///tmp/ipykernel_1009755/3963006861.py\" target=\"_blank\"><span style=\"color: #7f7f7f; text-decoration-color: #7f7f7f\">flwr</span></a><span style=\"color: #7f7f7f; text-decoration-color: #7f7f7f\">:</span><a href=\"file:///tmp/ipykernel_1009755/3963006861.py#21\" target=\"_blank\"><span style=\"color: #7f7f7f; text-decoration-color: #7f7f7f\">21</span></a>\n",
              "</pre>\n"
            ],
            "text/plain": [
              "\u001b[2;36m                   \u001b[0m\u001b[2;36m \u001b[0m\u001b[34mINFO    \u001b[0m cid: \u001b[1;36m70\u001b[0m                                                                        \u001b]8;id=246629;file:///tmp/ipykernel_1009755/3963006861.py\u001b\\\u001b[2mflwr\u001b[0m\u001b]8;;\u001b\\\u001b[2m:\u001b[0m\u001b]8;id=423389;file:///tmp/ipykernel_1009755/3963006861.py#21\u001b\\\u001b[2m21\u001b[0m\u001b]8;;\u001b\\\n"
            ]
          },
          "metadata": {},
          "output_type": "display_data"
        },
        {
          "name": "stderr",
          "output_type": "stream",
          "text": [
            "INFO flwr 2025-03-28 05:06:04,945 | 3963006861.py:21 | cid: 122\n"
          ]
        },
        {
          "data": {
            "text/html": [
              "<pre style=\"white-space:pre;overflow-x:auto;line-height:normal;font-family:Menlo,'DejaVu Sans Mono',consolas,'Courier New',monospace\"><span style=\"color: #7fbfbf; text-decoration-color: #7fbfbf\">                    </span><span style=\"color: #000080; text-decoration-color: #000080\">INFO    </span> cid: <span style=\"color: #008080; text-decoration-color: #008080; font-weight: bold\">122</span>                                                                       <a href=\"file:///tmp/ipykernel_1009755/3963006861.py\" target=\"_blank\"><span style=\"color: #7f7f7f; text-decoration-color: #7f7f7f\">flwr</span></a><span style=\"color: #7f7f7f; text-decoration-color: #7f7f7f\">:</span><a href=\"file:///tmp/ipykernel_1009755/3963006861.py#21\" target=\"_blank\"><span style=\"color: #7f7f7f; text-decoration-color: #7f7f7f\">21</span></a>\n",
              "</pre>\n"
            ],
            "text/plain": [
              "\u001b[2;36m                   \u001b[0m\u001b[2;36m \u001b[0m\u001b[34mINFO    \u001b[0m cid: \u001b[1;36m122\u001b[0m                                                                       \u001b]8;id=607040;file:///tmp/ipykernel_1009755/3963006861.py\u001b\\\u001b[2mflwr\u001b[0m\u001b]8;;\u001b\\\u001b[2m:\u001b[0m\u001b]8;id=623398;file:///tmp/ipykernel_1009755/3963006861.py#21\u001b\\\u001b[2m21\u001b[0m\u001b]8;;\u001b\\\n"
            ]
          },
          "metadata": {},
          "output_type": "display_data"
        },
        {
          "name": "stderr",
          "output_type": "stream",
          "text": [
            "INFO flwr 2025-03-28 05:06:04,950 | 3963006861.py:21 | cid: 40\n"
          ]
        },
        {
          "data": {
            "text/html": [
              "<pre style=\"white-space:pre;overflow-x:auto;line-height:normal;font-family:Menlo,'DejaVu Sans Mono',consolas,'Courier New',monospace\"><span style=\"color: #7fbfbf; text-decoration-color: #7fbfbf\">                    </span><span style=\"color: #000080; text-decoration-color: #000080\">INFO    </span> cid: <span style=\"color: #008080; text-decoration-color: #008080; font-weight: bold\">40</span>                                                                        <a href=\"file:///tmp/ipykernel_1009755/3963006861.py\" target=\"_blank\"><span style=\"color: #7f7f7f; text-decoration-color: #7f7f7f\">flwr</span></a><span style=\"color: #7f7f7f; text-decoration-color: #7f7f7f\">:</span><a href=\"file:///tmp/ipykernel_1009755/3963006861.py#21\" target=\"_blank\"><span style=\"color: #7f7f7f; text-decoration-color: #7f7f7f\">21</span></a>\n",
              "</pre>\n"
            ],
            "text/plain": [
              "\u001b[2;36m                   \u001b[0m\u001b[2;36m \u001b[0m\u001b[34mINFO    \u001b[0m cid: \u001b[1;36m40\u001b[0m                                                                        \u001b]8;id=612024;file:///tmp/ipykernel_1009755/3963006861.py\u001b\\\u001b[2mflwr\u001b[0m\u001b]8;;\u001b\\\u001b[2m:\u001b[0m\u001b]8;id=592683;file:///tmp/ipykernel_1009755/3963006861.py#21\u001b\\\u001b[2m21\u001b[0m\u001b]8;;\u001b\\\n"
            ]
          },
          "metadata": {},
          "output_type": "display_data"
        },
        {
          "name": "stderr",
          "output_type": "stream",
          "text": [
            "INFO flwr 2025-03-28 05:06:04,956 | 3963006861.py:21 | cid: 535\n"
          ]
        },
        {
          "data": {
            "text/html": [
              "<pre style=\"white-space:pre;overflow-x:auto;line-height:normal;font-family:Menlo,'DejaVu Sans Mono',consolas,'Courier New',monospace\"><span style=\"color: #7fbfbf; text-decoration-color: #7fbfbf\">                    </span><span style=\"color: #000080; text-decoration-color: #000080\">INFO    </span> cid: <span style=\"color: #008080; text-decoration-color: #008080; font-weight: bold\">535</span>                                                                       <a href=\"file:///tmp/ipykernel_1009755/3963006861.py\" target=\"_blank\"><span style=\"color: #7f7f7f; text-decoration-color: #7f7f7f\">flwr</span></a><span style=\"color: #7f7f7f; text-decoration-color: #7f7f7f\">:</span><a href=\"file:///tmp/ipykernel_1009755/3963006861.py#21\" target=\"_blank\"><span style=\"color: #7f7f7f; text-decoration-color: #7f7f7f\">21</span></a>\n",
              "</pre>\n"
            ],
            "text/plain": [
              "\u001b[2;36m                   \u001b[0m\u001b[2;36m \u001b[0m\u001b[34mINFO    \u001b[0m cid: \u001b[1;36m535\u001b[0m                                                                       \u001b]8;id=702258;file:///tmp/ipykernel_1009755/3963006861.py\u001b\\\u001b[2mflwr\u001b[0m\u001b]8;;\u001b\\\u001b[2m:\u001b[0m\u001b]8;id=750981;file:///tmp/ipykernel_1009755/3963006861.py#21\u001b\\\u001b[2m21\u001b[0m\u001b]8;;\u001b\\\n"
            ]
          },
          "metadata": {},
          "output_type": "display_data"
        },
        {
          "name": "stderr",
          "output_type": "stream",
          "text": [
            "INFO flwr 2025-03-28 05:06:04,962 | 3963006861.py:21 | cid: 321\n"
          ]
        },
        {
          "data": {
            "text/html": [
              "<pre style=\"white-space:pre;overflow-x:auto;line-height:normal;font-family:Menlo,'DejaVu Sans Mono',consolas,'Courier New',monospace\"><span style=\"color: #7fbfbf; text-decoration-color: #7fbfbf\">                    </span><span style=\"color: #000080; text-decoration-color: #000080\">INFO    </span> cid: <span style=\"color: #008080; text-decoration-color: #008080; font-weight: bold\">321</span>                                                                       <a href=\"file:///tmp/ipykernel_1009755/3963006861.py\" target=\"_blank\"><span style=\"color: #7f7f7f; text-decoration-color: #7f7f7f\">flwr</span></a><span style=\"color: #7f7f7f; text-decoration-color: #7f7f7f\">:</span><a href=\"file:///tmp/ipykernel_1009755/3963006861.py#21\" target=\"_blank\"><span style=\"color: #7f7f7f; text-decoration-color: #7f7f7f\">21</span></a>\n",
              "</pre>\n"
            ],
            "text/plain": [
              "\u001b[2;36m                   \u001b[0m\u001b[2;36m \u001b[0m\u001b[34mINFO    \u001b[0m cid: \u001b[1;36m321\u001b[0m                                                                       \u001b]8;id=704318;file:///tmp/ipykernel_1009755/3963006861.py\u001b\\\u001b[2mflwr\u001b[0m\u001b]8;;\u001b\\\u001b[2m:\u001b[0m\u001b]8;id=676856;file:///tmp/ipykernel_1009755/3963006861.py#21\u001b\\\u001b[2m21\u001b[0m\u001b]8;;\u001b\\\n"
            ]
          },
          "metadata": {},
          "output_type": "display_data"
        },
        {
          "name": "stderr",
          "output_type": "stream",
          "text": [
            "INFO flwr 2025-03-28 05:06:04,968 | 3963006861.py:21 | cid: 307\n"
          ]
        },
        {
          "data": {
            "text/html": [
              "<pre style=\"white-space:pre;overflow-x:auto;line-height:normal;font-family:Menlo,'DejaVu Sans Mono',consolas,'Courier New',monospace\"><span style=\"color: #7fbfbf; text-decoration-color: #7fbfbf\">                    </span><span style=\"color: #000080; text-decoration-color: #000080\">INFO    </span> cid: <span style=\"color: #008080; text-decoration-color: #008080; font-weight: bold\">307</span>                                                                       <a href=\"file:///tmp/ipykernel_1009755/3963006861.py\" target=\"_blank\"><span style=\"color: #7f7f7f; text-decoration-color: #7f7f7f\">flwr</span></a><span style=\"color: #7f7f7f; text-decoration-color: #7f7f7f\">:</span><a href=\"file:///tmp/ipykernel_1009755/3963006861.py#21\" target=\"_blank\"><span style=\"color: #7f7f7f; text-decoration-color: #7f7f7f\">21</span></a>\n",
              "</pre>\n"
            ],
            "text/plain": [
              "\u001b[2;36m                   \u001b[0m\u001b[2;36m \u001b[0m\u001b[34mINFO    \u001b[0m cid: \u001b[1;36m307\u001b[0m                                                                       \u001b]8;id=981188;file:///tmp/ipykernel_1009755/3963006861.py\u001b\\\u001b[2mflwr\u001b[0m\u001b]8;;\u001b\\\u001b[2m:\u001b[0m\u001b]8;id=76066;file:///tmp/ipykernel_1009755/3963006861.py#21\u001b\\\u001b[2m21\u001b[0m\u001b]8;;\u001b\\\n"
            ]
          },
          "metadata": {},
          "output_type": "display_data"
        },
        {
          "name": "stderr",
          "output_type": "stream",
          "text": [
            "INFO flwr 2025-03-28 05:06:04,974 | 3963006861.py:21 | cid: 9\n"
          ]
        },
        {
          "data": {
            "text/html": [
              "<pre style=\"white-space:pre;overflow-x:auto;line-height:normal;font-family:Menlo,'DejaVu Sans Mono',consolas,'Courier New',monospace\"><span style=\"color: #7fbfbf; text-decoration-color: #7fbfbf\">                    </span><span style=\"color: #000080; text-decoration-color: #000080\">INFO    </span> cid: <span style=\"color: #008080; text-decoration-color: #008080; font-weight: bold\">9</span>                                                                         <a href=\"file:///tmp/ipykernel_1009755/3963006861.py\" target=\"_blank\"><span style=\"color: #7f7f7f; text-decoration-color: #7f7f7f\">flwr</span></a><span style=\"color: #7f7f7f; text-decoration-color: #7f7f7f\">:</span><a href=\"file:///tmp/ipykernel_1009755/3963006861.py#21\" target=\"_blank\"><span style=\"color: #7f7f7f; text-decoration-color: #7f7f7f\">21</span></a>\n",
              "</pre>\n"
            ],
            "text/plain": [
              "\u001b[2;36m                   \u001b[0m\u001b[2;36m \u001b[0m\u001b[34mINFO    \u001b[0m cid: \u001b[1;36m9\u001b[0m                                                                         \u001b]8;id=76819;file:///tmp/ipykernel_1009755/3963006861.py\u001b\\\u001b[2mflwr\u001b[0m\u001b]8;;\u001b\\\u001b[2m:\u001b[0m\u001b]8;id=563750;file:///tmp/ipykernel_1009755/3963006861.py#21\u001b\\\u001b[2m21\u001b[0m\u001b]8;;\u001b\\\n"
            ]
          },
          "metadata": {},
          "output_type": "display_data"
        },
        {
          "name": "stderr",
          "output_type": "stream",
          "text": [
            "INFO flwr 2025-03-28 05:06:04,979 | 3963006861.py:21 | cid: 218\n"
          ]
        },
        {
          "data": {
            "text/html": [
              "<pre style=\"white-space:pre;overflow-x:auto;line-height:normal;font-family:Menlo,'DejaVu Sans Mono',consolas,'Courier New',monospace\"><span style=\"color: #7fbfbf; text-decoration-color: #7fbfbf\">                    </span><span style=\"color: #000080; text-decoration-color: #000080\">INFO    </span> cid: <span style=\"color: #008080; text-decoration-color: #008080; font-weight: bold\">218</span>                                                                       <a href=\"file:///tmp/ipykernel_1009755/3963006861.py\" target=\"_blank\"><span style=\"color: #7f7f7f; text-decoration-color: #7f7f7f\">flwr</span></a><span style=\"color: #7f7f7f; text-decoration-color: #7f7f7f\">:</span><a href=\"file:///tmp/ipykernel_1009755/3963006861.py#21\" target=\"_blank\"><span style=\"color: #7f7f7f; text-decoration-color: #7f7f7f\">21</span></a>\n",
              "</pre>\n"
            ],
            "text/plain": [
              "\u001b[2;36m                   \u001b[0m\u001b[2;36m \u001b[0m\u001b[34mINFO    \u001b[0m cid: \u001b[1;36m218\u001b[0m                                                                       \u001b]8;id=365962;file:///tmp/ipykernel_1009755/3963006861.py\u001b\\\u001b[2mflwr\u001b[0m\u001b]8;;\u001b\\\u001b[2m:\u001b[0m\u001b]8;id=923653;file:///tmp/ipykernel_1009755/3963006861.py#21\u001b\\\u001b[2m21\u001b[0m\u001b]8;;\u001b\\\n"
            ]
          },
          "metadata": {},
          "output_type": "display_data"
        },
        {
          "name": "stderr",
          "output_type": "stream",
          "text": [
            "INFO flwr 2025-03-28 05:06:04,984 | 3963006861.py:21 | cid: 70\n"
          ]
        },
        {
          "data": {
            "text/html": [
              "<pre style=\"white-space:pre;overflow-x:auto;line-height:normal;font-family:Menlo,'DejaVu Sans Mono',consolas,'Courier New',monospace\"><span style=\"color: #7fbfbf; text-decoration-color: #7fbfbf\">                    </span><span style=\"color: #000080; text-decoration-color: #000080\">INFO    </span> cid: <span style=\"color: #008080; text-decoration-color: #008080; font-weight: bold\">70</span>                                                                        <a href=\"file:///tmp/ipykernel_1009755/3963006861.py\" target=\"_blank\"><span style=\"color: #7f7f7f; text-decoration-color: #7f7f7f\">flwr</span></a><span style=\"color: #7f7f7f; text-decoration-color: #7f7f7f\">:</span><a href=\"file:///tmp/ipykernel_1009755/3963006861.py#21\" target=\"_blank\"><span style=\"color: #7f7f7f; text-decoration-color: #7f7f7f\">21</span></a>\n",
              "</pre>\n"
            ],
            "text/plain": [
              "\u001b[2;36m                   \u001b[0m\u001b[2;36m \u001b[0m\u001b[34mINFO    \u001b[0m cid: \u001b[1;36m70\u001b[0m                                                                        \u001b]8;id=165409;file:///tmp/ipykernel_1009755/3963006861.py\u001b\\\u001b[2mflwr\u001b[0m\u001b]8;;\u001b\\\u001b[2m:\u001b[0m\u001b]8;id=459469;file:///tmp/ipykernel_1009755/3963006861.py#21\u001b\\\u001b[2m21\u001b[0m\u001b]8;;\u001b\\\n"
            ]
          },
          "metadata": {},
          "output_type": "display_data"
        },
        {
          "name": "stderr",
          "output_type": "stream",
          "text": [
            "INFO flwr 2025-03-28 05:06:04,989 | 3963006861.py:21 | cid: 556\n"
          ]
        },
        {
          "data": {
            "text/html": [
              "<pre style=\"white-space:pre;overflow-x:auto;line-height:normal;font-family:Menlo,'DejaVu Sans Mono',consolas,'Courier New',monospace\"><span style=\"color: #7fbfbf; text-decoration-color: #7fbfbf\">                    </span><span style=\"color: #000080; text-decoration-color: #000080\">INFO    </span> cid: <span style=\"color: #008080; text-decoration-color: #008080; font-weight: bold\">556</span>                                                                       <a href=\"file:///tmp/ipykernel_1009755/3963006861.py\" target=\"_blank\"><span style=\"color: #7f7f7f; text-decoration-color: #7f7f7f\">flwr</span></a><span style=\"color: #7f7f7f; text-decoration-color: #7f7f7f\">:</span><a href=\"file:///tmp/ipykernel_1009755/3963006861.py#21\" target=\"_blank\"><span style=\"color: #7f7f7f; text-decoration-color: #7f7f7f\">21</span></a>\n",
              "</pre>\n"
            ],
            "text/plain": [
              "\u001b[2;36m                   \u001b[0m\u001b[2;36m \u001b[0m\u001b[34mINFO    \u001b[0m cid: \u001b[1;36m556\u001b[0m                                                                       \u001b]8;id=685743;file:///tmp/ipykernel_1009755/3963006861.py\u001b\\\u001b[2mflwr\u001b[0m\u001b]8;;\u001b\\\u001b[2m:\u001b[0m\u001b]8;id=554634;file:///tmp/ipykernel_1009755/3963006861.py#21\u001b\\\u001b[2m21\u001b[0m\u001b]8;;\u001b\\\n"
            ]
          },
          "metadata": {},
          "output_type": "display_data"
        },
        {
          "name": "stderr",
          "output_type": "stream",
          "text": [
            "INFO flwr 2025-03-28 05:06:04,995 | 3963006861.py:21 | cid: 8\n"
          ]
        },
        {
          "data": {
            "text/html": [
              "<pre style=\"white-space:pre;overflow-x:auto;line-height:normal;font-family:Menlo,'DejaVu Sans Mono',consolas,'Courier New',monospace\"><span style=\"color: #7fbfbf; text-decoration-color: #7fbfbf\">                    </span><span style=\"color: #000080; text-decoration-color: #000080\">INFO    </span> cid: <span style=\"color: #008080; text-decoration-color: #008080; font-weight: bold\">8</span>                                                                         <a href=\"file:///tmp/ipykernel_1009755/3963006861.py\" target=\"_blank\"><span style=\"color: #7f7f7f; text-decoration-color: #7f7f7f\">flwr</span></a><span style=\"color: #7f7f7f; text-decoration-color: #7f7f7f\">:</span><a href=\"file:///tmp/ipykernel_1009755/3963006861.py#21\" target=\"_blank\"><span style=\"color: #7f7f7f; text-decoration-color: #7f7f7f\">21</span></a>\n",
              "</pre>\n"
            ],
            "text/plain": [
              "\u001b[2;36m                   \u001b[0m\u001b[2;36m \u001b[0m\u001b[34mINFO    \u001b[0m cid: \u001b[1;36m8\u001b[0m                                                                         \u001b]8;id=977017;file:///tmp/ipykernel_1009755/3963006861.py\u001b\\\u001b[2mflwr\u001b[0m\u001b]8;;\u001b\\\u001b[2m:\u001b[0m\u001b]8;id=695613;file:///tmp/ipykernel_1009755/3963006861.py#21\u001b\\\u001b[2m21\u001b[0m\u001b]8;;\u001b\\\n"
            ]
          },
          "metadata": {},
          "output_type": "display_data"
        },
        {
          "name": "stderr",
          "output_type": "stream",
          "text": [
            "INFO flwr 2025-03-28 05:06:05,000 | 3963006861.py:21 | cid: 106\n"
          ]
        },
        {
          "data": {
            "text/html": [
              "<pre style=\"white-space:pre;overflow-x:auto;line-height:normal;font-family:Menlo,'DejaVu Sans Mono',consolas,'Courier New',monospace\"><span style=\"color: #7fbfbf; text-decoration-color: #7fbfbf\">2025-03-28 05:06:05 </span><span style=\"color: #000080; text-decoration-color: #000080\">INFO    </span> cid: <span style=\"color: #008080; text-decoration-color: #008080; font-weight: bold\">106</span>                                                                       <a href=\"file:///tmp/ipykernel_1009755/3963006861.py\" target=\"_blank\"><span style=\"color: #7f7f7f; text-decoration-color: #7f7f7f\">flwr</span></a><span style=\"color: #7f7f7f; text-decoration-color: #7f7f7f\">:</span><a href=\"file:///tmp/ipykernel_1009755/3963006861.py#21\" target=\"_blank\"><span style=\"color: #7f7f7f; text-decoration-color: #7f7f7f\">21</span></a>\n",
              "</pre>\n"
            ],
            "text/plain": [
              "\u001b[2;36m2025-03-28 05:06:05\u001b[0m\u001b[2;36m \u001b[0m\u001b[34mINFO    \u001b[0m cid: \u001b[1;36m106\u001b[0m                                                                       \u001b]8;id=121035;file:///tmp/ipykernel_1009755/3963006861.py\u001b\\\u001b[2mflwr\u001b[0m\u001b]8;;\u001b\\\u001b[2m:\u001b[0m\u001b]8;id=932931;file:///tmp/ipykernel_1009755/3963006861.py#21\u001b\\\u001b[2m21\u001b[0m\u001b]8;;\u001b\\\n"
            ]
          },
          "metadata": {},
          "output_type": "display_data"
        },
        {
          "name": "stderr",
          "output_type": "stream",
          "text": [
            "INFO flwr 2025-03-28 05:06:05,005 | 3963006861.py:21 | cid: 109\n"
          ]
        },
        {
          "data": {
            "text/html": [
              "<pre style=\"white-space:pre;overflow-x:auto;line-height:normal;font-family:Menlo,'DejaVu Sans Mono',consolas,'Courier New',monospace\"><span style=\"color: #7fbfbf; text-decoration-color: #7fbfbf\">                    </span><span style=\"color: #000080; text-decoration-color: #000080\">INFO    </span> cid: <span style=\"color: #008080; text-decoration-color: #008080; font-weight: bold\">109</span>                                                                       <a href=\"file:///tmp/ipykernel_1009755/3963006861.py\" target=\"_blank\"><span style=\"color: #7f7f7f; text-decoration-color: #7f7f7f\">flwr</span></a><span style=\"color: #7f7f7f; text-decoration-color: #7f7f7f\">:</span><a href=\"file:///tmp/ipykernel_1009755/3963006861.py#21\" target=\"_blank\"><span style=\"color: #7f7f7f; text-decoration-color: #7f7f7f\">21</span></a>\n",
              "</pre>\n"
            ],
            "text/plain": [
              "\u001b[2;36m                   \u001b[0m\u001b[2;36m \u001b[0m\u001b[34mINFO    \u001b[0m cid: \u001b[1;36m109\u001b[0m                                                                       \u001b]8;id=295442;file:///tmp/ipykernel_1009755/3963006861.py\u001b\\\u001b[2mflwr\u001b[0m\u001b]8;;\u001b\\\u001b[2m:\u001b[0m\u001b]8;id=634210;file:///tmp/ipykernel_1009755/3963006861.py#21\u001b\\\u001b[2m21\u001b[0m\u001b]8;;\u001b\\\n"
            ]
          },
          "metadata": {},
          "output_type": "display_data"
        },
        {
          "name": "stderr",
          "output_type": "stream",
          "text": [
            "INFO flwr 2025-03-28 05:06:05,011 | 3963006861.py:21 | cid: 215\n"
          ]
        },
        {
          "data": {
            "text/html": [
              "<pre style=\"white-space:pre;overflow-x:auto;line-height:normal;font-family:Menlo,'DejaVu Sans Mono',consolas,'Courier New',monospace\"><span style=\"color: #7fbfbf; text-decoration-color: #7fbfbf\">                    </span><span style=\"color: #000080; text-decoration-color: #000080\">INFO    </span> cid: <span style=\"color: #008080; text-decoration-color: #008080; font-weight: bold\">215</span>                                                                       <a href=\"file:///tmp/ipykernel_1009755/3963006861.py\" target=\"_blank\"><span style=\"color: #7f7f7f; text-decoration-color: #7f7f7f\">flwr</span></a><span style=\"color: #7f7f7f; text-decoration-color: #7f7f7f\">:</span><a href=\"file:///tmp/ipykernel_1009755/3963006861.py#21\" target=\"_blank\"><span style=\"color: #7f7f7f; text-decoration-color: #7f7f7f\">21</span></a>\n",
              "</pre>\n"
            ],
            "text/plain": [
              "\u001b[2;36m                   \u001b[0m\u001b[2;36m \u001b[0m\u001b[34mINFO    \u001b[0m cid: \u001b[1;36m215\u001b[0m                                                                       \u001b]8;id=665046;file:///tmp/ipykernel_1009755/3963006861.py\u001b\\\u001b[2mflwr\u001b[0m\u001b]8;;\u001b\\\u001b[2m:\u001b[0m\u001b]8;id=894343;file:///tmp/ipykernel_1009755/3963006861.py#21\u001b\\\u001b[2m21\u001b[0m\u001b]8;;\u001b\\\n"
            ]
          },
          "metadata": {},
          "output_type": "display_data"
        },
        {
          "name": "stderr",
          "output_type": "stream",
          "text": [
            "INFO flwr 2025-03-28 05:06:05,017 | 3963006861.py:21 | cid: 270\n"
          ]
        },
        {
          "data": {
            "text/html": [
              "<pre style=\"white-space:pre;overflow-x:auto;line-height:normal;font-family:Menlo,'DejaVu Sans Mono',consolas,'Courier New',monospace\"><span style=\"color: #7fbfbf; text-decoration-color: #7fbfbf\">                    </span><span style=\"color: #000080; text-decoration-color: #000080\">INFO    </span> cid: <span style=\"color: #008080; text-decoration-color: #008080; font-weight: bold\">270</span>                                                                       <a href=\"file:///tmp/ipykernel_1009755/3963006861.py\" target=\"_blank\"><span style=\"color: #7f7f7f; text-decoration-color: #7f7f7f\">flwr</span></a><span style=\"color: #7f7f7f; text-decoration-color: #7f7f7f\">:</span><a href=\"file:///tmp/ipykernel_1009755/3963006861.py#21\" target=\"_blank\"><span style=\"color: #7f7f7f; text-decoration-color: #7f7f7f\">21</span></a>\n",
              "</pre>\n"
            ],
            "text/plain": [
              "\u001b[2;36m                   \u001b[0m\u001b[2;36m \u001b[0m\u001b[34mINFO    \u001b[0m cid: \u001b[1;36m270\u001b[0m                                                                       \u001b]8;id=952273;file:///tmp/ipykernel_1009755/3963006861.py\u001b\\\u001b[2mflwr\u001b[0m\u001b]8;;\u001b\\\u001b[2m:\u001b[0m\u001b]8;id=887204;file:///tmp/ipykernel_1009755/3963006861.py#21\u001b\\\u001b[2m21\u001b[0m\u001b]8;;\u001b\\\n"
            ]
          },
          "metadata": {},
          "output_type": "display_data"
        },
        {
          "name": "stderr",
          "output_type": "stream",
          "text": [
            "INFO flwr 2025-03-28 05:06:05,022 | 3963006861.py:21 | cid: 52\n"
          ]
        },
        {
          "data": {
            "text/html": [
              "<pre style=\"white-space:pre;overflow-x:auto;line-height:normal;font-family:Menlo,'DejaVu Sans Mono',consolas,'Courier New',monospace\"><span style=\"color: #7fbfbf; text-decoration-color: #7fbfbf\">                    </span><span style=\"color: #000080; text-decoration-color: #000080\">INFO    </span> cid: <span style=\"color: #008080; text-decoration-color: #008080; font-weight: bold\">52</span>                                                                        <a href=\"file:///tmp/ipykernel_1009755/3963006861.py\" target=\"_blank\"><span style=\"color: #7f7f7f; text-decoration-color: #7f7f7f\">flwr</span></a><span style=\"color: #7f7f7f; text-decoration-color: #7f7f7f\">:</span><a href=\"file:///tmp/ipykernel_1009755/3963006861.py#21\" target=\"_blank\"><span style=\"color: #7f7f7f; text-decoration-color: #7f7f7f\">21</span></a>\n",
              "</pre>\n"
            ],
            "text/plain": [
              "\u001b[2;36m                   \u001b[0m\u001b[2;36m \u001b[0m\u001b[34mINFO    \u001b[0m cid: \u001b[1;36m52\u001b[0m                                                                        \u001b]8;id=290120;file:///tmp/ipykernel_1009755/3963006861.py\u001b\\\u001b[2mflwr\u001b[0m\u001b]8;;\u001b\\\u001b[2m:\u001b[0m\u001b]8;id=46228;file:///tmp/ipykernel_1009755/3963006861.py#21\u001b\\\u001b[2m21\u001b[0m\u001b]8;;\u001b\\\n"
            ]
          },
          "metadata": {},
          "output_type": "display_data"
        },
        {
          "name": "stderr",
          "output_type": "stream",
          "text": [
            "INFO flwr 2025-03-28 05:06:05,028 | 3963006861.py:21 | cid: 3\n"
          ]
        },
        {
          "data": {
            "text/html": [
              "<pre style=\"white-space:pre;overflow-x:auto;line-height:normal;font-family:Menlo,'DejaVu Sans Mono',consolas,'Courier New',monospace\"><span style=\"color: #7fbfbf; text-decoration-color: #7fbfbf\">                    </span><span style=\"color: #000080; text-decoration-color: #000080\">INFO    </span> cid: <span style=\"color: #008080; text-decoration-color: #008080; font-weight: bold\">3</span>                                                                         <a href=\"file:///tmp/ipykernel_1009755/3963006861.py\" target=\"_blank\"><span style=\"color: #7f7f7f; text-decoration-color: #7f7f7f\">flwr</span></a><span style=\"color: #7f7f7f; text-decoration-color: #7f7f7f\">:</span><a href=\"file:///tmp/ipykernel_1009755/3963006861.py#21\" target=\"_blank\"><span style=\"color: #7f7f7f; text-decoration-color: #7f7f7f\">21</span></a>\n",
              "</pre>\n"
            ],
            "text/plain": [
              "\u001b[2;36m                   \u001b[0m\u001b[2;36m \u001b[0m\u001b[34mINFO    \u001b[0m cid: \u001b[1;36m3\u001b[0m                                                                         \u001b]8;id=274680;file:///tmp/ipykernel_1009755/3963006861.py\u001b\\\u001b[2mflwr\u001b[0m\u001b]8;;\u001b\\\u001b[2m:\u001b[0m\u001b]8;id=169430;file:///tmp/ipykernel_1009755/3963006861.py#21\u001b\\\u001b[2m21\u001b[0m\u001b]8;;\u001b\\\n"
            ]
          },
          "metadata": {},
          "output_type": "display_data"
        },
        {
          "name": "stderr",
          "output_type": "stream",
          "text": [
            "INFO flwr 2025-03-28 05:06:05,034 | 3963006861.py:21 | cid: 452\n"
          ]
        },
        {
          "data": {
            "text/html": [
              "<pre style=\"white-space:pre;overflow-x:auto;line-height:normal;font-family:Menlo,'DejaVu Sans Mono',consolas,'Courier New',monospace\"><span style=\"color: #7fbfbf; text-decoration-color: #7fbfbf\">                    </span><span style=\"color: #000080; text-decoration-color: #000080\">INFO    </span> cid: <span style=\"color: #008080; text-decoration-color: #008080; font-weight: bold\">452</span>                                                                       <a href=\"file:///tmp/ipykernel_1009755/3963006861.py\" target=\"_blank\"><span style=\"color: #7f7f7f; text-decoration-color: #7f7f7f\">flwr</span></a><span style=\"color: #7f7f7f; text-decoration-color: #7f7f7f\">:</span><a href=\"file:///tmp/ipykernel_1009755/3963006861.py#21\" target=\"_blank\"><span style=\"color: #7f7f7f; text-decoration-color: #7f7f7f\">21</span></a>\n",
              "</pre>\n"
            ],
            "text/plain": [
              "\u001b[2;36m                   \u001b[0m\u001b[2;36m \u001b[0m\u001b[34mINFO    \u001b[0m cid: \u001b[1;36m452\u001b[0m                                                                       \u001b]8;id=10139;file:///tmp/ipykernel_1009755/3963006861.py\u001b\\\u001b[2mflwr\u001b[0m\u001b]8;;\u001b\\\u001b[2m:\u001b[0m\u001b]8;id=117308;file:///tmp/ipykernel_1009755/3963006861.py#21\u001b\\\u001b[2m21\u001b[0m\u001b]8;;\u001b\\\n"
            ]
          },
          "metadata": {},
          "output_type": "display_data"
        },
        {
          "name": "stderr",
          "output_type": "stream",
          "text": [
            "INFO flwr 2025-03-28 05:06:05,039 | 3963006861.py:21 | cid: 77\n"
          ]
        },
        {
          "data": {
            "text/html": [
              "<pre style=\"white-space:pre;overflow-x:auto;line-height:normal;font-family:Menlo,'DejaVu Sans Mono',consolas,'Courier New',monospace\"><span style=\"color: #7fbfbf; text-decoration-color: #7fbfbf\">                    </span><span style=\"color: #000080; text-decoration-color: #000080\">INFO    </span> cid: <span style=\"color: #008080; text-decoration-color: #008080; font-weight: bold\">77</span>                                                                        <a href=\"file:///tmp/ipykernel_1009755/3963006861.py\" target=\"_blank\"><span style=\"color: #7f7f7f; text-decoration-color: #7f7f7f\">flwr</span></a><span style=\"color: #7f7f7f; text-decoration-color: #7f7f7f\">:</span><a href=\"file:///tmp/ipykernel_1009755/3963006861.py#21\" target=\"_blank\"><span style=\"color: #7f7f7f; text-decoration-color: #7f7f7f\">21</span></a>\n",
              "</pre>\n"
            ],
            "text/plain": [
              "\u001b[2;36m                   \u001b[0m\u001b[2;36m \u001b[0m\u001b[34mINFO    \u001b[0m cid: \u001b[1;36m77\u001b[0m                                                                        \u001b]8;id=156294;file:///tmp/ipykernel_1009755/3963006861.py\u001b\\\u001b[2mflwr\u001b[0m\u001b]8;;\u001b\\\u001b[2m:\u001b[0m\u001b]8;id=572092;file:///tmp/ipykernel_1009755/3963006861.py#21\u001b\\\u001b[2m21\u001b[0m\u001b]8;;\u001b\\\n"
            ]
          },
          "metadata": {},
          "output_type": "display_data"
        },
        {
          "name": "stderr",
          "output_type": "stream",
          "text": [
            "INFO flwr 2025-03-28 05:06:05,044 | 3963006861.py:21 | cid: 36\n"
          ]
        },
        {
          "data": {
            "text/html": [
              "<pre style=\"white-space:pre;overflow-x:auto;line-height:normal;font-family:Menlo,'DejaVu Sans Mono',consolas,'Courier New',monospace\"><span style=\"color: #7fbfbf; text-decoration-color: #7fbfbf\">                    </span><span style=\"color: #000080; text-decoration-color: #000080\">INFO    </span> cid: <span style=\"color: #008080; text-decoration-color: #008080; font-weight: bold\">36</span>                                                                        <a href=\"file:///tmp/ipykernel_1009755/3963006861.py\" target=\"_blank\"><span style=\"color: #7f7f7f; text-decoration-color: #7f7f7f\">flwr</span></a><span style=\"color: #7f7f7f; text-decoration-color: #7f7f7f\">:</span><a href=\"file:///tmp/ipykernel_1009755/3963006861.py#21\" target=\"_blank\"><span style=\"color: #7f7f7f; text-decoration-color: #7f7f7f\">21</span></a>\n",
              "</pre>\n"
            ],
            "text/plain": [
              "\u001b[2;36m                   \u001b[0m\u001b[2;36m \u001b[0m\u001b[34mINFO    \u001b[0m cid: \u001b[1;36m36\u001b[0m                                                                        \u001b]8;id=155287;file:///tmp/ipykernel_1009755/3963006861.py\u001b\\\u001b[2mflwr\u001b[0m\u001b]8;;\u001b\\\u001b[2m:\u001b[0m\u001b]8;id=450664;file:///tmp/ipykernel_1009755/3963006861.py#21\u001b\\\u001b[2m21\u001b[0m\u001b]8;;\u001b\\\n"
            ]
          },
          "metadata": {},
          "output_type": "display_data"
        },
        {
          "name": "stderr",
          "output_type": "stream",
          "text": [
            "INFO flwr 2025-03-28 05:06:05,049 | 3963006861.py:21 | cid: 130\n"
          ]
        },
        {
          "data": {
            "text/html": [
              "<pre style=\"white-space:pre;overflow-x:auto;line-height:normal;font-family:Menlo,'DejaVu Sans Mono',consolas,'Courier New',monospace\"><span style=\"color: #7fbfbf; text-decoration-color: #7fbfbf\">                    </span><span style=\"color: #000080; text-decoration-color: #000080\">INFO    </span> cid: <span style=\"color: #008080; text-decoration-color: #008080; font-weight: bold\">130</span>                                                                       <a href=\"file:///tmp/ipykernel_1009755/3963006861.py\" target=\"_blank\"><span style=\"color: #7f7f7f; text-decoration-color: #7f7f7f\">flwr</span></a><span style=\"color: #7f7f7f; text-decoration-color: #7f7f7f\">:</span><a href=\"file:///tmp/ipykernel_1009755/3963006861.py#21\" target=\"_blank\"><span style=\"color: #7f7f7f; text-decoration-color: #7f7f7f\">21</span></a>\n",
              "</pre>\n"
            ],
            "text/plain": [
              "\u001b[2;36m                   \u001b[0m\u001b[2;36m \u001b[0m\u001b[34mINFO    \u001b[0m cid: \u001b[1;36m130\u001b[0m                                                                       \u001b]8;id=978413;file:///tmp/ipykernel_1009755/3963006861.py\u001b\\\u001b[2mflwr\u001b[0m\u001b]8;;\u001b\\\u001b[2m:\u001b[0m\u001b]8;id=834794;file:///tmp/ipykernel_1009755/3963006861.py#21\u001b\\\u001b[2m21\u001b[0m\u001b]8;;\u001b\\\n"
            ]
          },
          "metadata": {},
          "output_type": "display_data"
        },
        {
          "name": "stderr",
          "output_type": "stream",
          "text": [
            "INFO flwr 2025-03-28 05:06:05,054 | 3963006861.py:21 | cid: 40\n"
          ]
        },
        {
          "data": {
            "text/html": [
              "<pre style=\"white-space:pre;overflow-x:auto;line-height:normal;font-family:Menlo,'DejaVu Sans Mono',consolas,'Courier New',monospace\"><span style=\"color: #7fbfbf; text-decoration-color: #7fbfbf\">                    </span><span style=\"color: #000080; text-decoration-color: #000080\">INFO    </span> cid: <span style=\"color: #008080; text-decoration-color: #008080; font-weight: bold\">40</span>                                                                        <a href=\"file:///tmp/ipykernel_1009755/3963006861.py\" target=\"_blank\"><span style=\"color: #7f7f7f; text-decoration-color: #7f7f7f\">flwr</span></a><span style=\"color: #7f7f7f; text-decoration-color: #7f7f7f\">:</span><a href=\"file:///tmp/ipykernel_1009755/3963006861.py#21\" target=\"_blank\"><span style=\"color: #7f7f7f; text-decoration-color: #7f7f7f\">21</span></a>\n",
              "</pre>\n"
            ],
            "text/plain": [
              "\u001b[2;36m                   \u001b[0m\u001b[2;36m \u001b[0m\u001b[34mINFO    \u001b[0m cid: \u001b[1;36m40\u001b[0m                                                                        \u001b]8;id=261650;file:///tmp/ipykernel_1009755/3963006861.py\u001b\\\u001b[2mflwr\u001b[0m\u001b]8;;\u001b\\\u001b[2m:\u001b[0m\u001b]8;id=699330;file:///tmp/ipykernel_1009755/3963006861.py#21\u001b\\\u001b[2m21\u001b[0m\u001b]8;;\u001b\\\n"
            ]
          },
          "metadata": {},
          "output_type": "display_data"
        },
        {
          "name": "stderr",
          "output_type": "stream",
          "text": [
            "INFO flwr 2025-03-28 05:06:05,058 | 3963006861.py:21 | cid: 105\n"
          ]
        },
        {
          "data": {
            "text/html": [
              "<pre style=\"white-space:pre;overflow-x:auto;line-height:normal;font-family:Menlo,'DejaVu Sans Mono',consolas,'Courier New',monospace\"><span style=\"color: #7fbfbf; text-decoration-color: #7fbfbf\">                    </span><span style=\"color: #000080; text-decoration-color: #000080\">INFO    </span> cid: <span style=\"color: #008080; text-decoration-color: #008080; font-weight: bold\">105</span>                                                                       <a href=\"file:///tmp/ipykernel_1009755/3963006861.py\" target=\"_blank\"><span style=\"color: #7f7f7f; text-decoration-color: #7f7f7f\">flwr</span></a><span style=\"color: #7f7f7f; text-decoration-color: #7f7f7f\">:</span><a href=\"file:///tmp/ipykernel_1009755/3963006861.py#21\" target=\"_blank\"><span style=\"color: #7f7f7f; text-decoration-color: #7f7f7f\">21</span></a>\n",
              "</pre>\n"
            ],
            "text/plain": [
              "\u001b[2;36m                   \u001b[0m\u001b[2;36m \u001b[0m\u001b[34mINFO    \u001b[0m cid: \u001b[1;36m105\u001b[0m                                                                       \u001b]8;id=917202;file:///tmp/ipykernel_1009755/3963006861.py\u001b\\\u001b[2mflwr\u001b[0m\u001b]8;;\u001b\\\u001b[2m:\u001b[0m\u001b]8;id=426117;file:///tmp/ipykernel_1009755/3963006861.py#21\u001b\\\u001b[2m21\u001b[0m\u001b]8;;\u001b\\\n"
            ]
          },
          "metadata": {},
          "output_type": "display_data"
        },
        {
          "name": "stderr",
          "output_type": "stream",
          "text": [
            "INFO flwr 2025-03-28 05:06:05,065 | 3963006861.py:21 | cid: 158\n"
          ]
        },
        {
          "data": {
            "text/html": [
              "<pre style=\"white-space:pre;overflow-x:auto;line-height:normal;font-family:Menlo,'DejaVu Sans Mono',consolas,'Courier New',monospace\"><span style=\"color: #7fbfbf; text-decoration-color: #7fbfbf\">                    </span><span style=\"color: #000080; text-decoration-color: #000080\">INFO    </span> cid: <span style=\"color: #008080; text-decoration-color: #008080; font-weight: bold\">158</span>                                                                       <a href=\"file:///tmp/ipykernel_1009755/3963006861.py\" target=\"_blank\"><span style=\"color: #7f7f7f; text-decoration-color: #7f7f7f\">flwr</span></a><span style=\"color: #7f7f7f; text-decoration-color: #7f7f7f\">:</span><a href=\"file:///tmp/ipykernel_1009755/3963006861.py#21\" target=\"_blank\"><span style=\"color: #7f7f7f; text-decoration-color: #7f7f7f\">21</span></a>\n",
              "</pre>\n"
            ],
            "text/plain": [
              "\u001b[2;36m                   \u001b[0m\u001b[2;36m \u001b[0m\u001b[34mINFO    \u001b[0m cid: \u001b[1;36m158\u001b[0m                                                                       \u001b]8;id=170395;file:///tmp/ipykernel_1009755/3963006861.py\u001b\\\u001b[2mflwr\u001b[0m\u001b]8;;\u001b\\\u001b[2m:\u001b[0m\u001b]8;id=838742;file:///tmp/ipykernel_1009755/3963006861.py#21\u001b\\\u001b[2m21\u001b[0m\u001b]8;;\u001b\\\n"
            ]
          },
          "metadata": {},
          "output_type": "display_data"
        },
        {
          "name": "stderr",
          "output_type": "stream",
          "text": [
            "INFO flwr 2025-03-28 05:06:05,069 | 3963006861.py:21 | cid: 181\n"
          ]
        },
        {
          "data": {
            "text/html": [
              "<pre style=\"white-space:pre;overflow-x:auto;line-height:normal;font-family:Menlo,'DejaVu Sans Mono',consolas,'Courier New',monospace\"><span style=\"color: #7fbfbf; text-decoration-color: #7fbfbf\">                    </span><span style=\"color: #000080; text-decoration-color: #000080\">INFO    </span> cid: <span style=\"color: #008080; text-decoration-color: #008080; font-weight: bold\">181</span>                                                                       <a href=\"file:///tmp/ipykernel_1009755/3963006861.py\" target=\"_blank\"><span style=\"color: #7f7f7f; text-decoration-color: #7f7f7f\">flwr</span></a><span style=\"color: #7f7f7f; text-decoration-color: #7f7f7f\">:</span><a href=\"file:///tmp/ipykernel_1009755/3963006861.py#21\" target=\"_blank\"><span style=\"color: #7f7f7f; text-decoration-color: #7f7f7f\">21</span></a>\n",
              "</pre>\n"
            ],
            "text/plain": [
              "\u001b[2;36m                   \u001b[0m\u001b[2;36m \u001b[0m\u001b[34mINFO    \u001b[0m cid: \u001b[1;36m181\u001b[0m                                                                       \u001b]8;id=772343;file:///tmp/ipykernel_1009755/3963006861.py\u001b\\\u001b[2mflwr\u001b[0m\u001b]8;;\u001b\\\u001b[2m:\u001b[0m\u001b]8;id=969395;file:///tmp/ipykernel_1009755/3963006861.py#21\u001b\\\u001b[2m21\u001b[0m\u001b]8;;\u001b\\\n"
            ]
          },
          "metadata": {},
          "output_type": "display_data"
        },
        {
          "name": "stderr",
          "output_type": "stream",
          "text": [
            "INFO flwr 2025-03-28 05:06:05,074 | 3963006861.py:21 | cid: 340\n"
          ]
        },
        {
          "data": {
            "text/html": [
              "<pre style=\"white-space:pre;overflow-x:auto;line-height:normal;font-family:Menlo,'DejaVu Sans Mono',consolas,'Courier New',monospace\"><span style=\"color: #7fbfbf; text-decoration-color: #7fbfbf\">                    </span><span style=\"color: #000080; text-decoration-color: #000080\">INFO    </span> cid: <span style=\"color: #008080; text-decoration-color: #008080; font-weight: bold\">340</span>                                                                       <a href=\"file:///tmp/ipykernel_1009755/3963006861.py\" target=\"_blank\"><span style=\"color: #7f7f7f; text-decoration-color: #7f7f7f\">flwr</span></a><span style=\"color: #7f7f7f; text-decoration-color: #7f7f7f\">:</span><a href=\"file:///tmp/ipykernel_1009755/3963006861.py#21\" target=\"_blank\"><span style=\"color: #7f7f7f; text-decoration-color: #7f7f7f\">21</span></a>\n",
              "</pre>\n"
            ],
            "text/plain": [
              "\u001b[2;36m                   \u001b[0m\u001b[2;36m \u001b[0m\u001b[34mINFO    \u001b[0m cid: \u001b[1;36m340\u001b[0m                                                                       \u001b]8;id=702448;file:///tmp/ipykernel_1009755/3963006861.py\u001b\\\u001b[2mflwr\u001b[0m\u001b]8;;\u001b\\\u001b[2m:\u001b[0m\u001b]8;id=906036;file:///tmp/ipykernel_1009755/3963006861.py#21\u001b\\\u001b[2m21\u001b[0m\u001b]8;;\u001b\\\n"
            ]
          },
          "metadata": {},
          "output_type": "display_data"
        },
        {
          "name": "stderr",
          "output_type": "stream",
          "text": [
            "INFO flwr 2025-03-28 05:06:05,080 | 3963006861.py:21 | cid: 254\n"
          ]
        },
        {
          "data": {
            "text/html": [
              "<pre style=\"white-space:pre;overflow-x:auto;line-height:normal;font-family:Menlo,'DejaVu Sans Mono',consolas,'Courier New',monospace\"><span style=\"color: #7fbfbf; text-decoration-color: #7fbfbf\">                    </span><span style=\"color: #000080; text-decoration-color: #000080\">INFO    </span> cid: <span style=\"color: #008080; text-decoration-color: #008080; font-weight: bold\">254</span>                                                                       <a href=\"file:///tmp/ipykernel_1009755/3963006861.py\" target=\"_blank\"><span style=\"color: #7f7f7f; text-decoration-color: #7f7f7f\">flwr</span></a><span style=\"color: #7f7f7f; text-decoration-color: #7f7f7f\">:</span><a href=\"file:///tmp/ipykernel_1009755/3963006861.py#21\" target=\"_blank\"><span style=\"color: #7f7f7f; text-decoration-color: #7f7f7f\">21</span></a>\n",
              "</pre>\n"
            ],
            "text/plain": [
              "\u001b[2;36m                   \u001b[0m\u001b[2;36m \u001b[0m\u001b[34mINFO    \u001b[0m cid: \u001b[1;36m254\u001b[0m                                                                       \u001b]8;id=113346;file:///tmp/ipykernel_1009755/3963006861.py\u001b\\\u001b[2mflwr\u001b[0m\u001b]8;;\u001b\\\u001b[2m:\u001b[0m\u001b]8;id=401124;file:///tmp/ipykernel_1009755/3963006861.py#21\u001b\\\u001b[2m21\u001b[0m\u001b]8;;\u001b\\\n"
            ]
          },
          "metadata": {},
          "output_type": "display_data"
        },
        {
          "name": "stderr",
          "output_type": "stream",
          "text": [
            "INFO flwr 2025-03-28 05:06:05,085 | 3963006861.py:21 | cid: 39\n"
          ]
        },
        {
          "data": {
            "text/html": [
              "<pre style=\"white-space:pre;overflow-x:auto;line-height:normal;font-family:Menlo,'DejaVu Sans Mono',consolas,'Courier New',monospace\"><span style=\"color: #7fbfbf; text-decoration-color: #7fbfbf\">                    </span><span style=\"color: #000080; text-decoration-color: #000080\">INFO    </span> cid: <span style=\"color: #008080; text-decoration-color: #008080; font-weight: bold\">39</span>                                                                        <a href=\"file:///tmp/ipykernel_1009755/3963006861.py\" target=\"_blank\"><span style=\"color: #7f7f7f; text-decoration-color: #7f7f7f\">flwr</span></a><span style=\"color: #7f7f7f; text-decoration-color: #7f7f7f\">:</span><a href=\"file:///tmp/ipykernel_1009755/3963006861.py#21\" target=\"_blank\"><span style=\"color: #7f7f7f; text-decoration-color: #7f7f7f\">21</span></a>\n",
              "</pre>\n"
            ],
            "text/plain": [
              "\u001b[2;36m                   \u001b[0m\u001b[2;36m \u001b[0m\u001b[34mINFO    \u001b[0m cid: \u001b[1;36m39\u001b[0m                                                                        \u001b]8;id=856253;file:///tmp/ipykernel_1009755/3963006861.py\u001b\\\u001b[2mflwr\u001b[0m\u001b]8;;\u001b\\\u001b[2m:\u001b[0m\u001b]8;id=963066;file:///tmp/ipykernel_1009755/3963006861.py#21\u001b\\\u001b[2m21\u001b[0m\u001b]8;;\u001b\\\n"
            ]
          },
          "metadata": {},
          "output_type": "display_data"
        },
        {
          "name": "stderr",
          "output_type": "stream",
          "text": [
            "INFO flwr 2025-03-28 05:06:05,091 | 3963006861.py:21 | cid: 471\n"
          ]
        },
        {
          "data": {
            "text/html": [
              "<pre style=\"white-space:pre;overflow-x:auto;line-height:normal;font-family:Menlo,'DejaVu Sans Mono',consolas,'Courier New',monospace\"><span style=\"color: #7fbfbf; text-decoration-color: #7fbfbf\">                    </span><span style=\"color: #000080; text-decoration-color: #000080\">INFO    </span> cid: <span style=\"color: #008080; text-decoration-color: #008080; font-weight: bold\">471</span>                                                                       <a href=\"file:///tmp/ipykernel_1009755/3963006861.py\" target=\"_blank\"><span style=\"color: #7f7f7f; text-decoration-color: #7f7f7f\">flwr</span></a><span style=\"color: #7f7f7f; text-decoration-color: #7f7f7f\">:</span><a href=\"file:///tmp/ipykernel_1009755/3963006861.py#21\" target=\"_blank\"><span style=\"color: #7f7f7f; text-decoration-color: #7f7f7f\">21</span></a>\n",
              "</pre>\n"
            ],
            "text/plain": [
              "\u001b[2;36m                   \u001b[0m\u001b[2;36m \u001b[0m\u001b[34mINFO    \u001b[0m cid: \u001b[1;36m471\u001b[0m                                                                       \u001b]8;id=913648;file:///tmp/ipykernel_1009755/3963006861.py\u001b\\\u001b[2mflwr\u001b[0m\u001b]8;;\u001b\\\u001b[2m:\u001b[0m\u001b]8;id=238651;file:///tmp/ipykernel_1009755/3963006861.py#21\u001b\\\u001b[2m21\u001b[0m\u001b]8;;\u001b\\\n"
            ]
          },
          "metadata": {},
          "output_type": "display_data"
        },
        {
          "name": "stderr",
          "output_type": "stream",
          "text": [
            "INFO flwr 2025-03-28 05:06:05,097 | 3963006861.py:21 | cid: 228\n"
          ]
        },
        {
          "data": {
            "text/html": [
              "<pre style=\"white-space:pre;overflow-x:auto;line-height:normal;font-family:Menlo,'DejaVu Sans Mono',consolas,'Courier New',monospace\"><span style=\"color: #7fbfbf; text-decoration-color: #7fbfbf\">                    </span><span style=\"color: #000080; text-decoration-color: #000080\">INFO    </span> cid: <span style=\"color: #008080; text-decoration-color: #008080; font-weight: bold\">228</span>                                                                       <a href=\"file:///tmp/ipykernel_1009755/3963006861.py\" target=\"_blank\"><span style=\"color: #7f7f7f; text-decoration-color: #7f7f7f\">flwr</span></a><span style=\"color: #7f7f7f; text-decoration-color: #7f7f7f\">:</span><a href=\"file:///tmp/ipykernel_1009755/3963006861.py#21\" target=\"_blank\"><span style=\"color: #7f7f7f; text-decoration-color: #7f7f7f\">21</span></a>\n",
              "</pre>\n"
            ],
            "text/plain": [
              "\u001b[2;36m                   \u001b[0m\u001b[2;36m \u001b[0m\u001b[34mINFO    \u001b[0m cid: \u001b[1;36m228\u001b[0m                                                                       \u001b]8;id=344207;file:///tmp/ipykernel_1009755/3963006861.py\u001b\\\u001b[2mflwr\u001b[0m\u001b]8;;\u001b\\\u001b[2m:\u001b[0m\u001b]8;id=292136;file:///tmp/ipykernel_1009755/3963006861.py#21\u001b\\\u001b[2m21\u001b[0m\u001b]8;;\u001b\\\n"
            ]
          },
          "metadata": {},
          "output_type": "display_data"
        },
        {
          "name": "stderr",
          "output_type": "stream",
          "text": [
            "INFO flwr 2025-03-28 05:06:05,102 | 3963006861.py:21 | cid: 71\n"
          ]
        },
        {
          "data": {
            "text/html": [
              "<pre style=\"white-space:pre;overflow-x:auto;line-height:normal;font-family:Menlo,'DejaVu Sans Mono',consolas,'Courier New',monospace\"><span style=\"color: #7fbfbf; text-decoration-color: #7fbfbf\">                    </span><span style=\"color: #000080; text-decoration-color: #000080\">INFO    </span> cid: <span style=\"color: #008080; text-decoration-color: #008080; font-weight: bold\">71</span>                                                                        <a href=\"file:///tmp/ipykernel_1009755/3963006861.py\" target=\"_blank\"><span style=\"color: #7f7f7f; text-decoration-color: #7f7f7f\">flwr</span></a><span style=\"color: #7f7f7f; text-decoration-color: #7f7f7f\">:</span><a href=\"file:///tmp/ipykernel_1009755/3963006861.py#21\" target=\"_blank\"><span style=\"color: #7f7f7f; text-decoration-color: #7f7f7f\">21</span></a>\n",
              "</pre>\n"
            ],
            "text/plain": [
              "\u001b[2;36m                   \u001b[0m\u001b[2;36m \u001b[0m\u001b[34mINFO    \u001b[0m cid: \u001b[1;36m71\u001b[0m                                                                        \u001b]8;id=534150;file:///tmp/ipykernel_1009755/3963006861.py\u001b\\\u001b[2mflwr\u001b[0m\u001b]8;;\u001b\\\u001b[2m:\u001b[0m\u001b]8;id=419093;file:///tmp/ipykernel_1009755/3963006861.py#21\u001b\\\u001b[2m21\u001b[0m\u001b]8;;\u001b\\\n"
            ]
          },
          "metadata": {},
          "output_type": "display_data"
        },
        {
          "name": "stderr",
          "output_type": "stream",
          "text": [
            "INFO flwr 2025-03-28 05:06:05,107 | 3963006861.py:21 | cid: 549\n"
          ]
        },
        {
          "data": {
            "text/html": [
              "<pre style=\"white-space:pre;overflow-x:auto;line-height:normal;font-family:Menlo,'DejaVu Sans Mono',consolas,'Courier New',monospace\"><span style=\"color: #7fbfbf; text-decoration-color: #7fbfbf\">                    </span><span style=\"color: #000080; text-decoration-color: #000080\">INFO    </span> cid: <span style=\"color: #008080; text-decoration-color: #008080; font-weight: bold\">549</span>                                                                       <a href=\"file:///tmp/ipykernel_1009755/3963006861.py\" target=\"_blank\"><span style=\"color: #7f7f7f; text-decoration-color: #7f7f7f\">flwr</span></a><span style=\"color: #7f7f7f; text-decoration-color: #7f7f7f\">:</span><a href=\"file:///tmp/ipykernel_1009755/3963006861.py#21\" target=\"_blank\"><span style=\"color: #7f7f7f; text-decoration-color: #7f7f7f\">21</span></a>\n",
              "</pre>\n"
            ],
            "text/plain": [
              "\u001b[2;36m                   \u001b[0m\u001b[2;36m \u001b[0m\u001b[34mINFO    \u001b[0m cid: \u001b[1;36m549\u001b[0m                                                                       \u001b]8;id=919641;file:///tmp/ipykernel_1009755/3963006861.py\u001b\\\u001b[2mflwr\u001b[0m\u001b]8;;\u001b\\\u001b[2m:\u001b[0m\u001b]8;id=273903;file:///tmp/ipykernel_1009755/3963006861.py#21\u001b\\\u001b[2m21\u001b[0m\u001b]8;;\u001b\\\n"
            ]
          },
          "metadata": {},
          "output_type": "display_data"
        },
        {
          "name": "stderr",
          "output_type": "stream",
          "text": [
            "INFO flwr 2025-03-28 05:06:05,114 | 3963006861.py:21 | cid: 182\n"
          ]
        },
        {
          "data": {
            "text/html": [
              "<pre style=\"white-space:pre;overflow-x:auto;line-height:normal;font-family:Menlo,'DejaVu Sans Mono',consolas,'Courier New',monospace\"><span style=\"color: #7fbfbf; text-decoration-color: #7fbfbf\">                    </span><span style=\"color: #000080; text-decoration-color: #000080\">INFO    </span> cid: <span style=\"color: #008080; text-decoration-color: #008080; font-weight: bold\">182</span>                                                                       <a href=\"file:///tmp/ipykernel_1009755/3963006861.py\" target=\"_blank\"><span style=\"color: #7f7f7f; text-decoration-color: #7f7f7f\">flwr</span></a><span style=\"color: #7f7f7f; text-decoration-color: #7f7f7f\">:</span><a href=\"file:///tmp/ipykernel_1009755/3963006861.py#21\" target=\"_blank\"><span style=\"color: #7f7f7f; text-decoration-color: #7f7f7f\">21</span></a>\n",
              "</pre>\n"
            ],
            "text/plain": [
              "\u001b[2;36m                   \u001b[0m\u001b[2;36m \u001b[0m\u001b[34mINFO    \u001b[0m cid: \u001b[1;36m182\u001b[0m                                                                       \u001b]8;id=625550;file:///tmp/ipykernel_1009755/3963006861.py\u001b\\\u001b[2mflwr\u001b[0m\u001b]8;;\u001b\\\u001b[2m:\u001b[0m\u001b]8;id=455673;file:///tmp/ipykernel_1009755/3963006861.py#21\u001b\\\u001b[2m21\u001b[0m\u001b]8;;\u001b\\\n"
            ]
          },
          "metadata": {},
          "output_type": "display_data"
        },
        {
          "name": "stderr",
          "output_type": "stream",
          "text": [
            "INFO flwr 2025-03-28 05:06:05,120 | 3963006861.py:21 | cid: 353\n"
          ]
        },
        {
          "data": {
            "text/html": [
              "<pre style=\"white-space:pre;overflow-x:auto;line-height:normal;font-family:Menlo,'DejaVu Sans Mono',consolas,'Courier New',monospace\"><span style=\"color: #7fbfbf; text-decoration-color: #7fbfbf\">                    </span><span style=\"color: #000080; text-decoration-color: #000080\">INFO    </span> cid: <span style=\"color: #008080; text-decoration-color: #008080; font-weight: bold\">353</span>                                                                       <a href=\"file:///tmp/ipykernel_1009755/3963006861.py\" target=\"_blank\"><span style=\"color: #7f7f7f; text-decoration-color: #7f7f7f\">flwr</span></a><span style=\"color: #7f7f7f; text-decoration-color: #7f7f7f\">:</span><a href=\"file:///tmp/ipykernel_1009755/3963006861.py#21\" target=\"_blank\"><span style=\"color: #7f7f7f; text-decoration-color: #7f7f7f\">21</span></a>\n",
              "</pre>\n"
            ],
            "text/plain": [
              "\u001b[2;36m                   \u001b[0m\u001b[2;36m \u001b[0m\u001b[34mINFO    \u001b[0m cid: \u001b[1;36m353\u001b[0m                                                                       \u001b]8;id=635656;file:///tmp/ipykernel_1009755/3963006861.py\u001b\\\u001b[2mflwr\u001b[0m\u001b]8;;\u001b\\\u001b[2m:\u001b[0m\u001b]8;id=536265;file:///tmp/ipykernel_1009755/3963006861.py#21\u001b\\\u001b[2m21\u001b[0m\u001b]8;;\u001b\\\n"
            ]
          },
          "metadata": {},
          "output_type": "display_data"
        },
        {
          "name": "stderr",
          "output_type": "stream",
          "text": [
            "INFO flwr 2025-03-28 05:06:05,127 | 3963006861.py:21 | cid: 118\n"
          ]
        },
        {
          "data": {
            "text/html": [
              "<pre style=\"white-space:pre;overflow-x:auto;line-height:normal;font-family:Menlo,'DejaVu Sans Mono',consolas,'Courier New',monospace\"><span style=\"color: #7fbfbf; text-decoration-color: #7fbfbf\">                    </span><span style=\"color: #000080; text-decoration-color: #000080\">INFO    </span> cid: <span style=\"color: #008080; text-decoration-color: #008080; font-weight: bold\">118</span>                                                                       <a href=\"file:///tmp/ipykernel_1009755/3963006861.py\" target=\"_blank\"><span style=\"color: #7f7f7f; text-decoration-color: #7f7f7f\">flwr</span></a><span style=\"color: #7f7f7f; text-decoration-color: #7f7f7f\">:</span><a href=\"file:///tmp/ipykernel_1009755/3963006861.py#21\" target=\"_blank\"><span style=\"color: #7f7f7f; text-decoration-color: #7f7f7f\">21</span></a>\n",
              "</pre>\n"
            ],
            "text/plain": [
              "\u001b[2;36m                   \u001b[0m\u001b[2;36m \u001b[0m\u001b[34mINFO    \u001b[0m cid: \u001b[1;36m118\u001b[0m                                                                       \u001b]8;id=267095;file:///tmp/ipykernel_1009755/3963006861.py\u001b\\\u001b[2mflwr\u001b[0m\u001b]8;;\u001b\\\u001b[2m:\u001b[0m\u001b]8;id=46542;file:///tmp/ipykernel_1009755/3963006861.py#21\u001b\\\u001b[2m21\u001b[0m\u001b]8;;\u001b\\\n"
            ]
          },
          "metadata": {},
          "output_type": "display_data"
        },
        {
          "name": "stderr",
          "output_type": "stream",
          "text": [
            "INFO flwr 2025-03-28 05:06:05,135 | 3963006861.py:21 | cid: 446\n"
          ]
        },
        {
          "data": {
            "text/html": [
              "<pre style=\"white-space:pre;overflow-x:auto;line-height:normal;font-family:Menlo,'DejaVu Sans Mono',consolas,'Courier New',monospace\"><span style=\"color: #7fbfbf; text-decoration-color: #7fbfbf\">                    </span><span style=\"color: #000080; text-decoration-color: #000080\">INFO    </span> cid: <span style=\"color: #008080; text-decoration-color: #008080; font-weight: bold\">446</span>                                                                       <a href=\"file:///tmp/ipykernel_1009755/3963006861.py\" target=\"_blank\"><span style=\"color: #7f7f7f; text-decoration-color: #7f7f7f\">flwr</span></a><span style=\"color: #7f7f7f; text-decoration-color: #7f7f7f\">:</span><a href=\"file:///tmp/ipykernel_1009755/3963006861.py#21\" target=\"_blank\"><span style=\"color: #7f7f7f; text-decoration-color: #7f7f7f\">21</span></a>\n",
              "</pre>\n"
            ],
            "text/plain": [
              "\u001b[2;36m                   \u001b[0m\u001b[2;36m \u001b[0m\u001b[34mINFO    \u001b[0m cid: \u001b[1;36m446\u001b[0m                                                                       \u001b]8;id=564607;file:///tmp/ipykernel_1009755/3963006861.py\u001b\\\u001b[2mflwr\u001b[0m\u001b]8;;\u001b\\\u001b[2m:\u001b[0m\u001b]8;id=720221;file:///tmp/ipykernel_1009755/3963006861.py#21\u001b\\\u001b[2m21\u001b[0m\u001b]8;;\u001b\\\n"
            ]
          },
          "metadata": {},
          "output_type": "display_data"
        },
        {
          "name": "stderr",
          "output_type": "stream",
          "text": [
            "INFO flwr 2025-03-28 05:06:05,141 | 3963006861.py:21 | cid: 201\n"
          ]
        },
        {
          "data": {
            "text/html": [
              "<pre style=\"white-space:pre;overflow-x:auto;line-height:normal;font-family:Menlo,'DejaVu Sans Mono',consolas,'Courier New',monospace\"><span style=\"color: #7fbfbf; text-decoration-color: #7fbfbf\">                    </span><span style=\"color: #000080; text-decoration-color: #000080\">INFO    </span> cid: <span style=\"color: #008080; text-decoration-color: #008080; font-weight: bold\">201</span>                                                                       <a href=\"file:///tmp/ipykernel_1009755/3963006861.py\" target=\"_blank\"><span style=\"color: #7f7f7f; text-decoration-color: #7f7f7f\">flwr</span></a><span style=\"color: #7f7f7f; text-decoration-color: #7f7f7f\">:</span><a href=\"file:///tmp/ipykernel_1009755/3963006861.py#21\" target=\"_blank\"><span style=\"color: #7f7f7f; text-decoration-color: #7f7f7f\">21</span></a>\n",
              "</pre>\n"
            ],
            "text/plain": [
              "\u001b[2;36m                   \u001b[0m\u001b[2;36m \u001b[0m\u001b[34mINFO    \u001b[0m cid: \u001b[1;36m201\u001b[0m                                                                       \u001b]8;id=696503;file:///tmp/ipykernel_1009755/3963006861.py\u001b\\\u001b[2mflwr\u001b[0m\u001b]8;;\u001b\\\u001b[2m:\u001b[0m\u001b]8;id=965498;file:///tmp/ipykernel_1009755/3963006861.py#21\u001b\\\u001b[2m21\u001b[0m\u001b]8;;\u001b\\\n"
            ]
          },
          "metadata": {},
          "output_type": "display_data"
        },
        {
          "name": "stderr",
          "output_type": "stream",
          "text": [
            "INFO flwr 2025-03-28 05:06:05,149 | 3963006861.py:21 | cid: 338\n"
          ]
        },
        {
          "data": {
            "text/html": [
              "<pre style=\"white-space:pre;overflow-x:auto;line-height:normal;font-family:Menlo,'DejaVu Sans Mono',consolas,'Courier New',monospace\"><span style=\"color: #7fbfbf; text-decoration-color: #7fbfbf\">                    </span><span style=\"color: #000080; text-decoration-color: #000080\">INFO    </span> cid: <span style=\"color: #008080; text-decoration-color: #008080; font-weight: bold\">338</span>                                                                       <a href=\"file:///tmp/ipykernel_1009755/3963006861.py\" target=\"_blank\"><span style=\"color: #7f7f7f; text-decoration-color: #7f7f7f\">flwr</span></a><span style=\"color: #7f7f7f; text-decoration-color: #7f7f7f\">:</span><a href=\"file:///tmp/ipykernel_1009755/3963006861.py#21\" target=\"_blank\"><span style=\"color: #7f7f7f; text-decoration-color: #7f7f7f\">21</span></a>\n",
              "</pre>\n"
            ],
            "text/plain": [
              "\u001b[2;36m                   \u001b[0m\u001b[2;36m \u001b[0m\u001b[34mINFO    \u001b[0m cid: \u001b[1;36m338\u001b[0m                                                                       \u001b]8;id=130679;file:///tmp/ipykernel_1009755/3963006861.py\u001b\\\u001b[2mflwr\u001b[0m\u001b]8;;\u001b\\\u001b[2m:\u001b[0m\u001b]8;id=754717;file:///tmp/ipykernel_1009755/3963006861.py#21\u001b\\\u001b[2m21\u001b[0m\u001b]8;;\u001b\\\n"
            ]
          },
          "metadata": {},
          "output_type": "display_data"
        },
        {
          "name": "stderr",
          "output_type": "stream",
          "text": [
            "INFO flwr 2025-03-28 05:06:05,155 | 3963006861.py:21 | cid: 307\n"
          ]
        },
        {
          "data": {
            "text/html": [
              "<pre style=\"white-space:pre;overflow-x:auto;line-height:normal;font-family:Menlo,'DejaVu Sans Mono',consolas,'Courier New',monospace\"><span style=\"color: #7fbfbf; text-decoration-color: #7fbfbf\">                    </span><span style=\"color: #000080; text-decoration-color: #000080\">INFO    </span> cid: <span style=\"color: #008080; text-decoration-color: #008080; font-weight: bold\">307</span>                                                                       <a href=\"file:///tmp/ipykernel_1009755/3963006861.py\" target=\"_blank\"><span style=\"color: #7f7f7f; text-decoration-color: #7f7f7f\">flwr</span></a><span style=\"color: #7f7f7f; text-decoration-color: #7f7f7f\">:</span><a href=\"file:///tmp/ipykernel_1009755/3963006861.py#21\" target=\"_blank\"><span style=\"color: #7f7f7f; text-decoration-color: #7f7f7f\">21</span></a>\n",
              "</pre>\n"
            ],
            "text/plain": [
              "\u001b[2;36m                   \u001b[0m\u001b[2;36m \u001b[0m\u001b[34mINFO    \u001b[0m cid: \u001b[1;36m307\u001b[0m                                                                       \u001b]8;id=342027;file:///tmp/ipykernel_1009755/3963006861.py\u001b\\\u001b[2mflwr\u001b[0m\u001b]8;;\u001b\\\u001b[2m:\u001b[0m\u001b]8;id=421947;file:///tmp/ipykernel_1009755/3963006861.py#21\u001b\\\u001b[2m21\u001b[0m\u001b]8;;\u001b\\\n"
            ]
          },
          "metadata": {},
          "output_type": "display_data"
        },
        {
          "name": "stderr",
          "output_type": "stream",
          "text": [
            "INFO flwr 2025-03-28 05:06:05,162 | 3963006861.py:21 | cid: 302\n"
          ]
        },
        {
          "data": {
            "text/html": [
              "<pre style=\"white-space:pre;overflow-x:auto;line-height:normal;font-family:Menlo,'DejaVu Sans Mono',consolas,'Courier New',monospace\"><span style=\"color: #7fbfbf; text-decoration-color: #7fbfbf\">                    </span><span style=\"color: #000080; text-decoration-color: #000080\">INFO    </span> cid: <span style=\"color: #008080; text-decoration-color: #008080; font-weight: bold\">302</span>                                                                       <a href=\"file:///tmp/ipykernel_1009755/3963006861.py\" target=\"_blank\"><span style=\"color: #7f7f7f; text-decoration-color: #7f7f7f\">flwr</span></a><span style=\"color: #7f7f7f; text-decoration-color: #7f7f7f\">:</span><a href=\"file:///tmp/ipykernel_1009755/3963006861.py#21\" target=\"_blank\"><span style=\"color: #7f7f7f; text-decoration-color: #7f7f7f\">21</span></a>\n",
              "</pre>\n"
            ],
            "text/plain": [
              "\u001b[2;36m                   \u001b[0m\u001b[2;36m \u001b[0m\u001b[34mINFO    \u001b[0m cid: \u001b[1;36m302\u001b[0m                                                                       \u001b]8;id=697229;file:///tmp/ipykernel_1009755/3963006861.py\u001b\\\u001b[2mflwr\u001b[0m\u001b]8;;\u001b\\\u001b[2m:\u001b[0m\u001b]8;id=986042;file:///tmp/ipykernel_1009755/3963006861.py#21\u001b\\\u001b[2m21\u001b[0m\u001b]8;;\u001b\\\n"
            ]
          },
          "metadata": {},
          "output_type": "display_data"
        },
        {
          "name": "stderr",
          "output_type": "stream",
          "text": [
            "INFO flwr 2025-03-28 05:06:05,168 | 3963006861.py:21 | cid: 388\n"
          ]
        },
        {
          "data": {
            "text/html": [
              "<pre style=\"white-space:pre;overflow-x:auto;line-height:normal;font-family:Menlo,'DejaVu Sans Mono',consolas,'Courier New',monospace\"><span style=\"color: #7fbfbf; text-decoration-color: #7fbfbf\">                    </span><span style=\"color: #000080; text-decoration-color: #000080\">INFO    </span> cid: <span style=\"color: #008080; text-decoration-color: #008080; font-weight: bold\">388</span>                                                                       <a href=\"file:///tmp/ipykernel_1009755/3963006861.py\" target=\"_blank\"><span style=\"color: #7f7f7f; text-decoration-color: #7f7f7f\">flwr</span></a><span style=\"color: #7f7f7f; text-decoration-color: #7f7f7f\">:</span><a href=\"file:///tmp/ipykernel_1009755/3963006861.py#21\" target=\"_blank\"><span style=\"color: #7f7f7f; text-decoration-color: #7f7f7f\">21</span></a>\n",
              "</pre>\n"
            ],
            "text/plain": [
              "\u001b[2;36m                   \u001b[0m\u001b[2;36m \u001b[0m\u001b[34mINFO    \u001b[0m cid: \u001b[1;36m388\u001b[0m                                                                       \u001b]8;id=645414;file:///tmp/ipykernel_1009755/3963006861.py\u001b\\\u001b[2mflwr\u001b[0m\u001b]8;;\u001b\\\u001b[2m:\u001b[0m\u001b]8;id=596750;file:///tmp/ipykernel_1009755/3963006861.py#21\u001b\\\u001b[2m21\u001b[0m\u001b]8;;\u001b\\\n"
            ]
          },
          "metadata": {},
          "output_type": "display_data"
        }
      ],
      "source": [
        "total_clients: int = 100\n",
        "list_of_ids = sample_random_clients(\n",
        "    total_clients, 32, federated_partition\n",
        ")\n",
        "\n",
        "federated_client_generator: Callable[[str], FlowerRayClient] = (\n",
        "    get_flower_client_generator(\n",
        "        network_generator, federated_partition, lambda seq_id: list_of_ids[seq_id]\n",
        "    )\n",
        ")"
      ]
    },
    {
      "cell_type": "markdown",
      "metadata": {
        "id": "BUrsR0JJwZ5R"
      },
      "source": [
        "Now, to test that the newly partitioned clients can be trained."
      ]
    },
    {
      "cell_type": "code",
      "execution_count": 12,
      "metadata": {
        "id": "1HzR2ZY7nhPm"
      },
      "outputs": [],
      "source": [
        "test_config: dict[str, Any] = {\n",
        "    \"batch_size\": 32,\n",
        "    \"num_workers\": 0,\n",
        "    \"max_batches\": 100,\n",
        "}"
      ]
    },
    {
      "cell_type": "code",
      "execution_count": 13,
      "metadata": {
        "colab": {
          "base_uri": "https://localhost:8080/"
        },
        "id": "wyoErIaM3D1L",
        "outputId": "9fa8cae1-66d7-4bc3-a9de-22282d5a8f14"
      },
      "outputs": [],
      "source": [
        "# num_clients = 4\n",
        "# clientIds = random.sample(list(range(total_clients)), num_clients)\n",
        "# clients = [federated_client_generator(str(cid)) for cid in clientIds]\n",
        "# print(f'{clients=}')"
      ]
    },
    {
      "cell_type": "code",
      "execution_count": 14,
      "metadata": {
        "id": "OO7CqzaE3D1M"
      },
      "outputs": [],
      "source": [
        "def get_federated_evaluation_function(\n",
        "    batch_size: int,\n",
        "    num_workers: int,\n",
        "    model_generator: Callable[[], Module],\n",
        "    criterion: Module,\n",
        "    max_batches: int,\n",
        ") -> Callable[[int, NDArrays, dict[str, Any]], tuple[float, dict[str, Scalar]]]:\n",
        "    \"\"\"Wrap the external federated evaluation function.\n",
        "\n",
        "    It provides the external federated evaluation function with some\n",
        "    parameters for the dataloader, the model generator function, and\n",
        "    the criterion used in the evaluation.\n",
        "\n",
        "    Parameters\n",
        "    ----------\n",
        "        batch_size (int): batch size of the test set to use.\n",
        "        num_workers (int): correspond to `num_workers` param in the Dataloader object.\n",
        "        model_generator (Callable[[], Module]):  model generator function.\n",
        "        criterion (Module): PyTorch Module containing the criterion for evaluating the\n",
        "        model.\n",
        "\n",
        "    Returns\n",
        "    -------\n",
        "        Callable[[int, NDArrays, dict[str, Any]], tuple[float, dict[str, Scalar]]]:\n",
        "            external federated evaluation function.\n",
        "    \"\"\"\n",
        "\n",
        "    def federated_evaluation_function(\n",
        "        server_round: int,\n",
        "        parameters: NDArrays,\n",
        "        fed_eval_config: dict[\n",
        "            str, Any\n",
        "        ],  # mandatory argument, even if it's not being used\n",
        "    ) -> tuple[float, dict[str, Scalar]]:\n",
        "        \"\"\"Evaluate federated model on the server.\n",
        "\n",
        "        It uses the centralized val set for sake of simplicity.\n",
        "\n",
        "        Parameters\n",
        "        ----------\n",
        "            server_round (int): current federated round.\n",
        "            parameters (NDArrays): current model parameters.\n",
        "            fed_eval_config (dict[str, Any]): mandatory argument in Flower, can contain\n",
        "                some configuration info\n",
        "\n",
        "        Returns\n",
        "        -------\n",
        "            tuple[float, dict[str, Scalar]]: evaluation results\n",
        "        \"\"\"\n",
        "        device: str = get_device()\n",
        "        net: Module = set_model_parameters(model_generator(), parameters)\n",
        "        net.to(device)\n",
        "\n",
        "        full_file: Path = centralized_mapping\n",
        "        dataset: Dataset = load_femnist_dataset(data_dir, full_file, \"val\")\n",
        "\n",
        "        valid_loader = DataLoader(\n",
        "            dataset=dataset,\n",
        "            batch_size=batch_size,\n",
        "            shuffle=False,\n",
        "            num_workers=num_workers,\n",
        "            drop_last=False,\n",
        "        )\n",
        "\n",
        "        loss, acc = test_femnist(\n",
        "            net=net,\n",
        "            test_loader=valid_loader,\n",
        "            device=device,\n",
        "            criterion=criterion,\n",
        "            max_batches=max_batches,\n",
        "        )\n",
        "        return loss, {\"accuracy\": acc}\n",
        "\n",
        "    return federated_evaluation_function\n",
        "\n",
        "\n",
        "federated_evaluation_function = get_federated_evaluation_function(\n",
        "    batch_size=test_config[\"batch_size\"],\n",
        "    num_workers=test_config[\"num_workers\"],\n",
        "    model_generator=network_generator,\n",
        "    criterion=nn.CrossEntropyLoss(),\n",
        "    max_batches=test_config[\"max_batches\"],\n",
        ")"
      ]
    },
    {
      "cell_type": "code",
      "execution_count": 15,
      "metadata": {
        "id": "7D1cEkrB2B5r"
      },
      "outputs": [],
      "source": [
        "def aggregate_weighted_average(metrics: list[tuple[int, dict]]) -> dict:\n",
        "    \"\"\"Combine results from multiple clients following training or evaluation.\n",
        "\n",
        "    Parameters\n",
        "    ----------\n",
        "        metrics (list[tuple[int, dict]]): collected clients metrics\n",
        "\n",
        "    Returns\n",
        "    -------\n",
        "        dict: result dictionary containing the aggregate of the metrics passed.\n",
        "    \"\"\"\n",
        "    average_dict: dict = defaultdict(list)\n",
        "    total_examples: int = 0\n",
        "    for num_examples, metrics_dict in metrics:\n",
        "        for key, val in metrics_dict.items():\n",
        "            if isinstance(val, numbers.Number):\n",
        "                average_dict[key].append((num_examples, val))\n",
        "        total_examples += num_examples\n",
        "    return {\n",
        "        key: {\n",
        "            \"avg\": float(\n",
        "                sum([num_examples * metric for num_examples, metric in val])\n",
        "                / float(total_examples)\n",
        "            ),\n",
        "            \"all\": val,\n",
        "        }\n",
        "        for key, val in average_dict.items()\n",
        "    }"
      ]
    },
    {
      "cell_type": "code",
      "execution_count": 16,
      "metadata": {
        "id": "-sxyPBQ0zSoD"
      },
      "outputs": [],
      "source": [
        "# Federated configuration dictionary\n",
        "federated_train_config: dict[str, Any] = {\n",
        "    \"epochs\": 25,\n",
        "    \"batch_size\": 32,\n",
        "    \"client_learning_rate\": 0.01,\n",
        "    \"weight_decay\": 0.001,\n",
        "    \"num_workers\": 0,\n",
        "    \"max_batches\": 100,\n",
        "    \"central_dir\": home_dir / \"data\" / \"femnist\" / \"client_data_mappings\" / \"centralized\" / \"0\"\n",
        "}"
      ]
    },
    {
      "cell_type": "markdown",
      "metadata": {},
      "source": [
        "FL SIMULATION"
      ]
    },
    {
      "cell_type": "code",
      "execution_count": 17,
      "metadata": {
        "id": "1Fs5gtK-3D1M"
      },
      "outputs": [],
      "source": [
        "def start_seeded_simulation(\n",
        "    client_fn: Callable[[str], Client],\n",
        "    num_clients: int,\n",
        "    config: ServerConfig,\n",
        "    strategy: Strategy,\n",
        "    name: str,\n",
        "    return_all_parameters: bool = False,\n",
        "    seed: int = Seeds.DEFAULT,\n",
        "    iteration: int = 0,\n",
        ") -> tuple[list[tuple[int, NDArrays]], History]:\n",
        "    \"\"\"Wrap to seed client selection.\"\"\"\n",
        "    np.random.seed(seed ^ iteration)\n",
        "    torch.manual_seed(seed ^ iteration)\n",
        "    random.seed(seed ^ iteration)\n",
        "    parameter_list, hist = flwr.simulation.start_simulation_no_ray(\n",
        "        client_fn=client_fn,\n",
        "        num_clients=num_clients,\n",
        "        client_resources={},\n",
        "        config=config,\n",
        "        strategy=strategy,\n",
        "    )\n",
        "    save_history(home_dir, hist, name)\n",
        "    return parameter_list, hist"
      ]
    },
    {
      "cell_type": "markdown",
      "metadata": {},
      "source": [
        "`run_simulation_frank_wolfe` is an adaptation of the original simulation function (now renamed to `run_simulation_fedavg`), the only difference being the strategy used. The strategy can be found in [c2m3/match/fed_frank_wolfe_strategy.py](https://github.com/DawnSpider96/L361-Federated-Learning/blob/c2m3/c2m3/match/fed_frank_wolfe_strategy.py#L43)"
      ]
    },
    {
      "cell_type": "code",
      "execution_count": 18,
      "metadata": {
        "id": "JkqplxMXLm8K"
      },
      "outputs": [],
      "source": [
        "num_rounds = 10\n",
        "\n",
        "num_total_clients = 20\n",
        "\n",
        "num_evaluate_clients = 0\n",
        "num_clients_per_round = 5\n",
        "\n",
        "initial_parameters = ndarrays_to_parameters(seed_model_params)\n",
        "\n",
        "\n",
        "def run_simulation_frank_wolfe(\n",
        "    # How long the FL process runs for:\n",
        "    num_rounds: int = num_rounds,\n",
        "    # Number of clients available\n",
        "    num_total_clients: int = num_total_clients,\n",
        "    # Number of clients used for train/eval\n",
        "    num_clients_per_round: int = num_clients_per_round,\n",
        "    num_evaluate_clients: int = num_evaluate_clients,\n",
        "    # If less clients are overall available stop FL\n",
        "    min_available_clients: int = num_total_clients,\n",
        "    # If less clients are available for fit/eval stop FL\n",
        "    min_fit_clients: int = num_clients_per_round,\n",
        "    min_evaluate_clients: int = num_evaluate_clients,\n",
        "    # Function to test the federated model performance\n",
        "    # external to a client instantiation\n",
        "    evaluate_fn: (\n",
        "        Callable[\n",
        "            [int, NDArrays, dict[str, Scalar]],\n",
        "            tuple[float, dict[str, Scalar]] | None,\n",
        "        ]\n",
        "        | None\n",
        "    ) = federated_evaluation_function,\n",
        "    # Functions to generate a config for client fit/evaluate\n",
        "    # by-default the same config is shallow-copied to all clients in Flower\n",
        "    # this version simply uses the configs defined above\n",
        "    on_fit_config_fn: Callable[\n",
        "        [int], dict[str, Scalar]\n",
        "    ] = lambda _x: federated_train_config,\n",
        "    on_evaluate_config_fn: Callable[[int], dict[str, Scalar]] = lambda _x: test_config,\n",
        "    # The \"Parameters\" type is merely a more packed version\n",
        "    # of numpy array lists, used internally by Flower\n",
        "    initial_parameters: Parameters = initial_parameters,\n",
        "    # If this is set to True, aggregation will work even if some clients fail\n",
        "    accept_failures: bool = False,\n",
        "    # How to combine the metrics dictionary returned by all clients for fit/eval\n",
        "    fit_metrics_aggregation_fn: Callable | None = aggregate_weighted_average,\n",
        "    evaluate_metrics_aggregation_fn: Callable | None = aggregate_weighted_average,\n",
        "    federated_client_generator: Callable[\n",
        "        [str], flwr.client.NumPyClient\n",
        "    ] = federated_client_generator,\n",
        "    # Aggregation learning rate for FedAvg\n",
        "    server_learning_rate: float = 1.0,\n",
        "    server_momentum: float = 0.0,\n",
        ") -> tuple[list[tuple[int, NDArrays]], History]:\n",
        "    \"\"\"Run a federated simulation using Flower.\"\"\"\n",
        "    log(INFO, \"FL will execute for %s rounds\", num_rounds)\n",
        "\n",
        "    # Percentage of clients used for train/eval\n",
        "    fraction_fit: float = float(num_clients_per_round) / num_total_clients\n",
        "    fraction_evaluate: float = float(num_evaluate_clients) / num_total_clients\n",
        "\n",
        "    strategy = FrankWolfeSync(\n",
        "        fraction_fit=fraction_fit,\n",
        "        fraction_evaluate=fraction_evaluate,\n",
        "        min_fit_clients=min_fit_clients,\n",
        "        min_evaluate_clients=min_evaluate_clients,\n",
        "        min_available_clients=min_available_clients,\n",
        "        on_fit_config_fn=on_fit_config_fn,\n",
        "        on_evaluate_config_fn=on_evaluate_config_fn,\n",
        "        evaluate_fn=evaluate_fn,\n",
        "        initial_parameters=initial_parameters,\n",
        "        accept_failures=accept_failures,\n",
        "        fit_metrics_aggregation_fn=fit_metrics_aggregation_fn,\n",
        "        evaluate_metrics_aggregation_fn=evaluate_metrics_aggregation_fn,\n",
        "        # batch_size = int(config[\"batch_size\"])\n",
        "        # num_workers = int(config[\"num_workers\"])\n",
        "        # dataset = self._load_dataset(name)\n",
        "    )\n",
        "    # resetting the seed for the random selection of clients\n",
        "    # this way the list of clients trained is guaranteed to be always the same\n",
        "\n",
        "    cfg = ServerConfig(num_rounds)\n",
        "\n",
        "    def simulator_client_generator(cid: str) -> Client:\n",
        "        return federated_client_generator(cid).to_client()\n",
        "\n",
        "    parameters_for_each_round, hist = start_seeded_simulation(\n",
        "        client_fn=simulator_client_generator,\n",
        "        num_clients=num_total_clients,\n",
        "        config=cfg,\n",
        "        strategy=strategy,\n",
        "        name=\"c2m3\",\n",
        "        return_all_parameters=True,\n",
        "        seed=Seeds.DEFAULT,\n",
        "    )\n",
        "    return parameters_for_each_round, hist\n",
        "\n",
        "\n",
        "\n",
        "\n",
        "def run_simulation_fedavg(\n",
        "    # How long the FL process runs for:\n",
        "    num_rounds: int = num_rounds,\n",
        "    # Number of clients available\n",
        "    num_total_clients: int = num_total_clients,\n",
        "    # Number of clients used for train/eval\n",
        "    num_clients_per_round: int = num_clients_per_round,\n",
        "    num_evaluate_clients: int = num_evaluate_clients,\n",
        "    # If less clients are overall available stop FL\n",
        "    min_available_clients: int = num_total_clients,\n",
        "    # If less clients are available for fit/eval stop FL\n",
        "    min_fit_clients: int = num_clients_per_round,\n",
        "    min_evaluate_clients: int = num_evaluate_clients,\n",
        "    # Function to test the federated model performance\n",
        "    # external to a client instantiation\n",
        "    evaluate_fn: (\n",
        "        Callable[\n",
        "            [int, NDArrays, dict[str, Scalar]],\n",
        "            tuple[float, dict[str, Scalar]] | None,\n",
        "        ]\n",
        "        | None\n",
        "    ) = federated_evaluation_function,\n",
        "    # Functions to generate a config for client fit/evaluate\n",
        "    # by-default the same config is shallow-copied to all clients in Flower\n",
        "    # this version simply uses the configs defined above\n",
        "    on_fit_config_fn: Callable[\n",
        "        [int], dict[str, Scalar]\n",
        "    ] = lambda _x: federated_train_config,\n",
        "    on_evaluate_config_fn: Callable[[int], dict[str, Scalar]] = lambda _x: test_config,\n",
        "    # The \"Parameters\" type is merely a more packed version\n",
        "    # of numpy array lists, used internally by Flower\n",
        "    initial_parameters: Parameters = initial_parameters,\n",
        "    # If this is set to True, aggregation will work even if some clients fail\n",
        "    accept_failures: bool = False,\n",
        "    # How to combine the metrics dictionary returned by all clients for fit/eval\n",
        "    fit_metrics_aggregation_fn: Callable | None = aggregate_weighted_average,\n",
        "    evaluate_metrics_aggregation_fn: Callable | None = aggregate_weighted_average,\n",
        "    federated_client_generator: Callable[\n",
        "        [str], flwr.client.NumPyClient\n",
        "    ] = federated_client_generator,\n",
        "    # Aggregation learning rate for FedAvg\n",
        "    server_learning_rate: float = 1.0,\n",
        "    server_momentum: float = 0.0,\n",
        ") -> tuple[list[tuple[int, NDArrays]], History]:\n",
        "    \"\"\"Run a federated simulation using Flower.\"\"\"\n",
        "    log(INFO, \"FL will execute for %s rounds\", num_rounds)\n",
        "\n",
        "    # Percentage of clients used for train/eval\n",
        "    fraction_fit: float = float(num_clients_per_round) / num_total_clients\n",
        "    fraction_evaluate: float = float(num_evaluate_clients) / num_total_clients\n",
        "\n",
        "    strategy = FedAvg(\n",
        "        fraction_fit=fraction_fit,\n",
        "        fraction_evaluate=fraction_evaluate,\n",
        "        min_fit_clients=min_fit_clients,\n",
        "        min_evaluate_clients=min_evaluate_clients,\n",
        "        min_available_clients=min_available_clients,\n",
        "        on_fit_config_fn=on_fit_config_fn,\n",
        "        on_evaluate_config_fn=on_evaluate_config_fn,\n",
        "        evaluate_fn=evaluate_fn,\n",
        "        initial_parameters=initial_parameters,\n",
        "        accept_failures=accept_failures,\n",
        "        fit_metrics_aggregation_fn=fit_metrics_aggregation_fn,\n",
        "        evaluate_metrics_aggregation_fn=evaluate_metrics_aggregation_fn,\n",
        "        server_learning_rate=server_learning_rate,\n",
        "        server_momentum=server_momentum,\n",
        "        # batch_size = int(config[\"batch_size\"])\n",
        "        # num_workers = int(config[\"num_workers\"])\n",
        "        # dataset = self._load_dataset(name)\n",
        "        \n",
        "    )\n",
        "    # resetting the seed for the random selection of clients\n",
        "    # this way the list of clients trained is guaranteed to be always the same\n",
        "\n",
        "    cfg = ServerConfig(num_rounds)\n",
        "\n",
        "    def simulator_client_generator(cid: str) -> Client:\n",
        "        return federated_client_generator(cid).to_client()\n",
        "\n",
        "    parameters_for_each_round, hist = start_seeded_simulation(\n",
        "        client_fn=simulator_client_generator,\n",
        "        num_clients=num_total_clients,\n",
        "        config=cfg,\n",
        "        strategy=strategy,\n",
        "        name=\"c2m3\",\n",
        "        return_all_parameters=True,\n",
        "        seed=Seeds.DEFAULT,\n",
        "    )\n",
        "    return parameters_for_each_round, hist"
      ]
    },
    {
      "cell_type": "code",
      "execution_count": null,
      "metadata": {
        "colab": {
          "base_uri": "https://localhost:8080/"
        },
        "id": "i4HpswKXbDup",
        "outputId": "d6f104af-93b4-47fe-cea8-06fe21dd5ab4"
      },
      "outputs": [
        {
          "name": "stderr",
          "output_type": "stream",
          "text": [
            "INFO flwr 2025-03-28 05:06:05,344 | 4257692453.py:56 | FL will execute for 10 rounds\n"
          ]
        },
        {
          "data": {
            "text/html": [
              "<pre style=\"white-space:pre;overflow-x:auto;line-height:normal;font-family:Menlo,'DejaVu Sans Mono',consolas,'Courier New',monospace\"><span style=\"color: #7fbfbf; text-decoration-color: #7fbfbf\">                    </span><span style=\"color: #000080; text-decoration-color: #000080\">INFO    </span> FL will execute for <span style=\"color: #008080; text-decoration-color: #008080; font-weight: bold\">10</span> rounds                                                  <a href=\"file:///tmp/ipykernel_1009755/4257692453.py\" target=\"_blank\"><span style=\"color: #7f7f7f; text-decoration-color: #7f7f7f\">flwr</span></a><span style=\"color: #7f7f7f; text-decoration-color: #7f7f7f\">:</span><a href=\"file:///tmp/ipykernel_1009755/4257692453.py#56\" target=\"_blank\"><span style=\"color: #7f7f7f; text-decoration-color: #7f7f7f\">56</span></a>\n",
              "</pre>\n"
            ],
            "text/plain": [
              "\u001b[2;36m                   \u001b[0m\u001b[2;36m \u001b[0m\u001b[34mINFO    \u001b[0m FL will execute for \u001b[1;36m10\u001b[0m rounds                                                  \u001b]8;id=300850;file:///tmp/ipykernel_1009755/4257692453.py\u001b\\\u001b[2mflwr\u001b[0m\u001b]8;;\u001b\\\u001b[2m:\u001b[0m\u001b]8;id=220392;file:///tmp/ipykernel_1009755/4257692453.py#56\u001b\\\u001b[2m56\u001b[0m\u001b]8;;\u001b\\\n"
            ]
          },
          "metadata": {},
          "output_type": "display_data"
        },
        {
          "name": "stderr",
          "output_type": "stream",
          "text": [
            "INFO flwr 2025-03-28 05:06:05,368 | app.py:149 | Starting Flower simulation, config: ServerConfig(num_rounds=10, round_timeout=None)\n"
          ]
        },
        {
          "data": {
            "text/html": [
              "<pre style=\"white-space:pre;overflow-x:auto;line-height:normal;font-family:Menlo,'DejaVu Sans Mono',consolas,'Courier New',monospace\"><span style=\"color: #7fbfbf; text-decoration-color: #7fbfbf\">                    </span><span style=\"color: #000080; text-decoration-color: #000080\">INFO    </span> Starting Flower simulation, config: <span style=\"color: #800080; text-decoration-color: #800080; font-weight: bold\">ServerConfig</span><span style=\"font-weight: bold\">(</span><span style=\"color: #808000; text-decoration-color: #808000\">num_rounds</span>=<span style=\"color: #008080; text-decoration-color: #008080; font-weight: bold\">10</span>,               <a href=\"file:///home/dawn/venvs/fed/lib/python3.10/site-packages/flwr/simulation/app.py\" target=\"_blank\"><span style=\"color: #7f7f7f; text-decoration-color: #7f7f7f\">flwr</span></a><span style=\"color: #7f7f7f; text-decoration-color: #7f7f7f\">:</span><a href=\"file:///home/dawn/venvs/fed/lib/python3.10/site-packages/flwr/simulation/app.py#149\" target=\"_blank\"><span style=\"color: #7f7f7f; text-decoration-color: #7f7f7f\">149</span></a>\n",
              "<span style=\"color: #7fbfbf; text-decoration-color: #7fbfbf\">                    </span>         <span style=\"color: #808000; text-decoration-color: #808000\">round_timeout</span>=<span style=\"color: #800080; text-decoration-color: #800080; font-style: italic\">None</span><span style=\"font-weight: bold\">)</span>                                                           <span style=\"color: #7f7f7f; text-decoration-color: #7f7f7f\">        </span>\n",
              "</pre>\n"
            ],
            "text/plain": [
              "\u001b[2;36m                   \u001b[0m\u001b[2;36m \u001b[0m\u001b[34mINFO    \u001b[0m Starting Flower simulation, config: \u001b[1;35mServerConfig\u001b[0m\u001b[1m(\u001b[0m\u001b[33mnum_rounds\u001b[0m=\u001b[1;36m10\u001b[0m,               \u001b]8;id=234053;file:///home/dawn/venvs/fed/lib/python3.10/site-packages/flwr/simulation/app.py\u001b\\\u001b[2mflwr\u001b[0m\u001b]8;;\u001b\\\u001b[2m:\u001b[0m\u001b]8;id=146316;file:///home/dawn/venvs/fed/lib/python3.10/site-packages/flwr/simulation/app.py#149\u001b\\\u001b[2m149\u001b[0m\u001b]8;;\u001b\\\n",
              "\u001b[2;36m                    \u001b[0m         \u001b[33mround_timeout\u001b[0m=\u001b[3;35mNone\u001b[0m\u001b[1m)\u001b[0m                                                           \u001b[2m        \u001b[0m\n"
            ]
          },
          "metadata": {},
          "output_type": "display_data"
        },
        {
          "name": "stderr",
          "output_type": "stream",
          "text": [
            "INFO flwr 2025-03-28 05:06:05,375 | server_returns_parameters.py:81 | Initializing global parameters\n"
          ]
        },
        {
          "data": {
            "text/html": [
              "<pre style=\"white-space:pre;overflow-x:auto;line-height:normal;font-family:Menlo,'DejaVu Sans Mono',consolas,'Courier New',monospace\"><span style=\"color: #7fbfbf; text-decoration-color: #7fbfbf\">                    </span><span style=\"color: #000080; text-decoration-color: #000080\">INFO    </span> Initializing global parameters                                                 <a href=\"file:///home/dawn/venvs/fed/lib/python3.10/site-packages/flwr/server/server_returns_parameters.py\" target=\"_blank\"><span style=\"color: #7f7f7f; text-decoration-color: #7f7f7f\">flwr</span></a><span style=\"color: #7f7f7f; text-decoration-color: #7f7f7f\">:</span><a href=\"file:///home/dawn/venvs/fed/lib/python3.10/site-packages/flwr/server/server_returns_parameters.py#81\" target=\"_blank\"><span style=\"color: #7f7f7f; text-decoration-color: #7f7f7f\">81</span></a>\n",
              "</pre>\n"
            ],
            "text/plain": [
              "\u001b[2;36m                   \u001b[0m\u001b[2;36m \u001b[0m\u001b[34mINFO    \u001b[0m Initializing global parameters                                                 \u001b]8;id=91161;file:///home/dawn/venvs/fed/lib/python3.10/site-packages/flwr/server/server_returns_parameters.py\u001b\\\u001b[2mflwr\u001b[0m\u001b]8;;\u001b\\\u001b[2m:\u001b[0m\u001b]8;id=619176;file:///home/dawn/venvs/fed/lib/python3.10/site-packages/flwr/server/server_returns_parameters.py#81\u001b\\\u001b[2m81\u001b[0m\u001b]8;;\u001b\\\n"
            ]
          },
          "metadata": {},
          "output_type": "display_data"
        },
        {
          "name": "stderr",
          "output_type": "stream",
          "text": [
            "INFO flwr 2025-03-28 05:06:05,379 | server_returns_parameters.py:273 | Using initial parameters provided by strategy\n"
          ]
        },
        {
          "data": {
            "text/html": [
              "<pre style=\"white-space:pre;overflow-x:auto;line-height:normal;font-family:Menlo,'DejaVu Sans Mono',consolas,'Courier New',monospace\"><span style=\"color: #7fbfbf; text-decoration-color: #7fbfbf\">                    </span><span style=\"color: #000080; text-decoration-color: #000080\">INFO    </span> Using initial parameters provided by strategy                                 <a href=\"file:///home/dawn/venvs/fed/lib/python3.10/site-packages/flwr/server/server_returns_parameters.py\" target=\"_blank\"><span style=\"color: #7f7f7f; text-decoration-color: #7f7f7f\">flwr</span></a><span style=\"color: #7f7f7f; text-decoration-color: #7f7f7f\">:</span><a href=\"file:///home/dawn/venvs/fed/lib/python3.10/site-packages/flwr/server/server_returns_parameters.py#273\" target=\"_blank\"><span style=\"color: #7f7f7f; text-decoration-color: #7f7f7f\">273</span></a>\n",
              "</pre>\n"
            ],
            "text/plain": [
              "\u001b[2;36m                   \u001b[0m\u001b[2;36m \u001b[0m\u001b[34mINFO    \u001b[0m Using initial parameters provided by strategy                                 \u001b]8;id=243962;file:///home/dawn/venvs/fed/lib/python3.10/site-packages/flwr/server/server_returns_parameters.py\u001b\\\u001b[2mflwr\u001b[0m\u001b]8;;\u001b\\\u001b[2m:\u001b[0m\u001b]8;id=529903;file:///home/dawn/venvs/fed/lib/python3.10/site-packages/flwr/server/server_returns_parameters.py#273\u001b\\\u001b[2m273\u001b[0m\u001b]8;;\u001b\\\n"
            ]
          },
          "metadata": {},
          "output_type": "display_data"
        },
        {
          "name": "stderr",
          "output_type": "stream",
          "text": [
            "INFO flwr 2025-03-28 05:06:05,389 | server_returns_parameters.py:84 | Evaluating initial parameters\n"
          ]
        },
        {
          "data": {
            "text/html": [
              "<pre style=\"white-space:pre;overflow-x:auto;line-height:normal;font-family:Menlo,'DejaVu Sans Mono',consolas,'Courier New',monospace\"><span style=\"color: #7fbfbf; text-decoration-color: #7fbfbf\">                    </span><span style=\"color: #000080; text-decoration-color: #000080\">INFO    </span> Evaluating initial parameters                                                  <a href=\"file:///home/dawn/venvs/fed/lib/python3.10/site-packages/flwr/server/server_returns_parameters.py\" target=\"_blank\"><span style=\"color: #7f7f7f; text-decoration-color: #7f7f7f\">flwr</span></a><span style=\"color: #7f7f7f; text-decoration-color: #7f7f7f\">:</span><a href=\"file:///home/dawn/venvs/fed/lib/python3.10/site-packages/flwr/server/server_returns_parameters.py#84\" target=\"_blank\"><span style=\"color: #7f7f7f; text-decoration-color: #7f7f7f\">84</span></a>\n",
              "</pre>\n"
            ],
            "text/plain": [
              "\u001b[2;36m                   \u001b[0m\u001b[2;36m \u001b[0m\u001b[34mINFO    \u001b[0m Evaluating initial parameters                                                  \u001b]8;id=681453;file:///home/dawn/venvs/fed/lib/python3.10/site-packages/flwr/server/server_returns_parameters.py\u001b\\\u001b[2mflwr\u001b[0m\u001b]8;;\u001b\\\u001b[2m:\u001b[0m\u001b]8;id=735392;file:///home/dawn/venvs/fed/lib/python3.10/site-packages/flwr/server/server_returns_parameters.py#84\u001b\\\u001b[2m84\u001b[0m\u001b]8;;\u001b\\\n"
            ]
          },
          "metadata": {},
          "output_type": "display_data"
        },
        {
          "name": "stderr",
          "output_type": "stream",
          "text": [
            "Testing [28510 samples]: 100%|██████████| 100/100 [00:01<00:00, 82.50it/s]\n",
            "INFO flwr 2025-03-28 05:06:06,648 | server_returns_parameters.py:87 | initial parameters (loss, other metrics): 412.7646117210388, {'accuracy': 0.005625}\n"
          ]
        },
        {
          "data": {
            "text/html": [
              "<pre style=\"white-space:pre;overflow-x:auto;line-height:normal;font-family:Menlo,'DejaVu Sans Mono',consolas,'Courier New',monospace\"><span style=\"color: #7fbfbf; text-decoration-color: #7fbfbf\">2025-03-28 05:06:06 </span><span style=\"color: #000080; text-decoration-color: #000080\">INFO    </span> initial parameters <span style=\"font-weight: bold\">(</span>loss, other metrics<span style=\"font-weight: bold\">)</span>: <span style=\"color: #008080; text-decoration-color: #008080; font-weight: bold\">412.7646117210388</span>, <span style=\"font-weight: bold\">{</span><span style=\"color: #008000; text-decoration-color: #008000\">'accuracy'</span>:      <a href=\"file:///home/dawn/venvs/fed/lib/python3.10/site-packages/flwr/server/server_returns_parameters.py\" target=\"_blank\"><span style=\"color: #7f7f7f; text-decoration-color: #7f7f7f\">flwr</span></a><span style=\"color: #7f7f7f; text-decoration-color: #7f7f7f\">:</span><a href=\"file:///home/dawn/venvs/fed/lib/python3.10/site-packages/flwr/server/server_returns_parameters.py#87\" target=\"_blank\"><span style=\"color: #7f7f7f; text-decoration-color: #7f7f7f\">87</span></a>\n",
              "<span style=\"color: #7fbfbf; text-decoration-color: #7fbfbf\">                    </span>         <span style=\"color: #008080; text-decoration-color: #008080; font-weight: bold\">0.005625</span><span style=\"font-weight: bold\">}</span>                                                                      <span style=\"color: #7f7f7f; text-decoration-color: #7f7f7f\">       </span>\n",
              "</pre>\n"
            ],
            "text/plain": [
              "\u001b[2;36m2025-03-28 05:06:06\u001b[0m\u001b[2;36m \u001b[0m\u001b[34mINFO    \u001b[0m initial parameters \u001b[1m(\u001b[0mloss, other metrics\u001b[1m)\u001b[0m: \u001b[1;36m412.7646117210388\u001b[0m, \u001b[1m{\u001b[0m\u001b[32m'accuracy'\u001b[0m:      \u001b]8;id=291704;file:///home/dawn/venvs/fed/lib/python3.10/site-packages/flwr/server/server_returns_parameters.py\u001b\\\u001b[2mflwr\u001b[0m\u001b]8;;\u001b\\\u001b[2m:\u001b[0m\u001b]8;id=848749;file:///home/dawn/venvs/fed/lib/python3.10/site-packages/flwr/server/server_returns_parameters.py#87\u001b\\\u001b[2m87\u001b[0m\u001b]8;;\u001b\\\n",
              "\u001b[2;36m                    \u001b[0m         \u001b[1;36m0.005625\u001b[0m\u001b[1m}\u001b[0m                                                                      \u001b[2m       \u001b[0m\n"
            ]
          },
          "metadata": {},
          "output_type": "display_data"
        },
        {
          "name": "stderr",
          "output_type": "stream",
          "text": [
            "INFO flwr 2025-03-28 05:06:06,652 | server_returns_parameters.py:97 | FL starting\n"
          ]
        },
        {
          "data": {
            "text/html": [
              "<pre style=\"white-space:pre;overflow-x:auto;line-height:normal;font-family:Menlo,'DejaVu Sans Mono',consolas,'Courier New',monospace\"><span style=\"color: #7fbfbf; text-decoration-color: #7fbfbf\">                    </span><span style=\"color: #000080; text-decoration-color: #000080\">INFO    </span> FL starting                                                                    <a href=\"file:///home/dawn/venvs/fed/lib/python3.10/site-packages/flwr/server/server_returns_parameters.py\" target=\"_blank\"><span style=\"color: #7f7f7f; text-decoration-color: #7f7f7f\">flwr</span></a><span style=\"color: #7f7f7f; text-decoration-color: #7f7f7f\">:</span><a href=\"file:///home/dawn/venvs/fed/lib/python3.10/site-packages/flwr/server/server_returns_parameters.py#97\" target=\"_blank\"><span style=\"color: #7f7f7f; text-decoration-color: #7f7f7f\">97</span></a>\n",
              "</pre>\n"
            ],
            "text/plain": [
              "\u001b[2;36m                   \u001b[0m\u001b[2;36m \u001b[0m\u001b[34mINFO    \u001b[0m FL starting                                                                    \u001b]8;id=732052;file:///home/dawn/venvs/fed/lib/python3.10/site-packages/flwr/server/server_returns_parameters.py\u001b\\\u001b[2mflwr\u001b[0m\u001b]8;;\u001b\\\u001b[2m:\u001b[0m\u001b]8;id=443143;file:///home/dawn/venvs/fed/lib/python3.10/site-packages/flwr/server/server_returns_parameters.py#97\u001b\\\u001b[2m97\u001b[0m\u001b]8;;\u001b\\\n"
            ]
          },
          "metadata": {},
          "output_type": "display_data"
        },
        {
          "name": "stderr",
          "output_type": "stream",
          "text": [
            "DEBUG flwr 2025-03-28 05:06:06,656 | server_returns_parameters.py:223 | fit_round 1: strategy sampled 5 clients (out of 20)\n"
          ]
        },
        {
          "data": {
            "text/html": [
              "<pre style=\"white-space:pre;overflow-x:auto;line-height:normal;font-family:Menlo,'DejaVu Sans Mono',consolas,'Courier New',monospace\"><span style=\"color: #7fbfbf; text-decoration-color: #7fbfbf\">                    </span><span style=\"color: #008000; text-decoration-color: #008000\">DEBUG   </span> fit_round <span style=\"color: #008080; text-decoration-color: #008080; font-weight: bold\">1</span>: strategy sampled <span style=\"color: #008080; text-decoration-color: #008080; font-weight: bold\">5</span> clients <span style=\"font-weight: bold\">(</span>out of <span style=\"color: #008080; text-decoration-color: #008080; font-weight: bold\">20</span><span style=\"font-weight: bold\">)</span>                           <a href=\"file:///home/dawn/venvs/fed/lib/python3.10/site-packages/flwr/server/server_returns_parameters.py\" target=\"_blank\"><span style=\"color: #7f7f7f; text-decoration-color: #7f7f7f\">flwr</span></a><span style=\"color: #7f7f7f; text-decoration-color: #7f7f7f\">:</span><a href=\"file:///home/dawn/venvs/fed/lib/python3.10/site-packages/flwr/server/server_returns_parameters.py#223\" target=\"_blank\"><span style=\"color: #7f7f7f; text-decoration-color: #7f7f7f\">223</span></a>\n",
              "</pre>\n"
            ],
            "text/plain": [
              "\u001b[2;36m                   \u001b[0m\u001b[2;36m \u001b[0m\u001b[32mDEBUG   \u001b[0m fit_round \u001b[1;36m1\u001b[0m: strategy sampled \u001b[1;36m5\u001b[0m clients \u001b[1m(\u001b[0mout of \u001b[1;36m20\u001b[0m\u001b[1m)\u001b[0m                           \u001b]8;id=888662;file:///home/dawn/venvs/fed/lib/python3.10/site-packages/flwr/server/server_returns_parameters.py\u001b\\\u001b[2mflwr\u001b[0m\u001b]8;;\u001b\\\u001b[2m:\u001b[0m\u001b]8;id=360663;file:///home/dawn/venvs/fed/lib/python3.10/site-packages/flwr/server/server_returns_parameters.py#223\u001b\\\u001b[2m223\u001b[0m\u001b]8;;\u001b\\\n"
            ]
          },
          "metadata": {},
          "output_type": "display_data"
        },
        {
          "name": "stderr",
          "output_type": "stream",
          "text": [
            "INFO flwr 2025-03-28 05:06:06,661 | 3963006861.py:21 | cid: 370\n",
            "INFO flwr 2025-03-28 05:06:06,666 | 3963006861.py:21 | cid: 44\n"
          ]
        },
        {
          "data": {
            "text/html": [
              "<pre style=\"white-space:pre;overflow-x:auto;line-height:normal;font-family:Menlo,'DejaVu Sans Mono',consolas,'Courier New',monospace\"><span style=\"color: #7fbfbf; text-decoration-color: #7fbfbf\">                    </span><span style=\"color: #000080; text-decoration-color: #000080\">INFO    </span> cid: <span style=\"color: #008080; text-decoration-color: #008080; font-weight: bold\">370</span>                                                                       <a href=\"file:///tmp/ipykernel_1009755/3963006861.py\" target=\"_blank\"><span style=\"color: #7f7f7f; text-decoration-color: #7f7f7f\">flwr</span></a><span style=\"color: #7f7f7f; text-decoration-color: #7f7f7f\">:</span><a href=\"file:///tmp/ipykernel_1009755/3963006861.py#21\" target=\"_blank\"><span style=\"color: #7f7f7f; text-decoration-color: #7f7f7f\">21</span></a>\n",
              "</pre>\n"
            ],
            "text/plain": [
              "\u001b[2;36m                   \u001b[0m\u001b[2;36m \u001b[0m\u001b[34mINFO    \u001b[0m cid: \u001b[1;36m370\u001b[0m                                                                       \u001b]8;id=765179;file:///tmp/ipykernel_1009755/3963006861.py\u001b\\\u001b[2mflwr\u001b[0m\u001b]8;;\u001b\\\u001b[2m:\u001b[0m\u001b]8;id=481741;file:///tmp/ipykernel_1009755/3963006861.py#21\u001b\\\u001b[2m21\u001b[0m\u001b]8;;\u001b\\\n"
            ]
          },
          "metadata": {},
          "output_type": "display_data"
        },
        {
          "name": "stderr",
          "output_type": "stream",
          "text": [
            "INFO flwr 2025-03-28 05:06:06,669 | 3963006861.py:21 | cid: 558\n",
            "INFO flwr 2025-03-28 05:06:06,673 | 3963006861.py:21 | cid: 284\n"
          ]
        },
        {
          "data": {
            "text/html": [
              "<pre style=\"white-space:pre;overflow-x:auto;line-height:normal;font-family:Menlo,'DejaVu Sans Mono',consolas,'Courier New',monospace\"><span style=\"color: #7fbfbf; text-decoration-color: #7fbfbf\">                    </span><span style=\"color: #000080; text-decoration-color: #000080\">INFO    </span> cid: <span style=\"color: #008080; text-decoration-color: #008080; font-weight: bold\">44</span>                                                                        <a href=\"file:///tmp/ipykernel_1009755/3963006861.py\" target=\"_blank\"><span style=\"color: #7f7f7f; text-decoration-color: #7f7f7f\">flwr</span></a><span style=\"color: #7f7f7f; text-decoration-color: #7f7f7f\">:</span><a href=\"file:///tmp/ipykernel_1009755/3963006861.py#21\" target=\"_blank\"><span style=\"color: #7f7f7f; text-decoration-color: #7f7f7f\">21</span></a>\n",
              "</pre>\n"
            ],
            "text/plain": [
              "\u001b[2;36m                   \u001b[0m\u001b[2;36m \u001b[0m\u001b[34mINFO    \u001b[0m cid: \u001b[1;36m44\u001b[0m                                                                        \u001b]8;id=82627;file:///tmp/ipykernel_1009755/3963006861.py\u001b\\\u001b[2mflwr\u001b[0m\u001b]8;;\u001b\\\u001b[2m:\u001b[0m\u001b]8;id=578856;file:///tmp/ipykernel_1009755/3963006861.py#21\u001b\\\u001b[2m21\u001b[0m\u001b]8;;\u001b\\\n"
            ]
          },
          "metadata": {},
          "output_type": "display_data"
        },
        {
          "name": "stderr",
          "output_type": "stream",
          "text": [
            "INFO flwr 2025-03-28 05:06:06,677 | 3963006861.py:21 | cid: 322\n"
          ]
        },
        {
          "data": {
            "text/html": [
              "<pre style=\"white-space:pre;overflow-x:auto;line-height:normal;font-family:Menlo,'DejaVu Sans Mono',consolas,'Courier New',monospace\"><span style=\"color: #7fbfbf; text-decoration-color: #7fbfbf\">                    </span><span style=\"color: #000080; text-decoration-color: #000080\">INFO    </span> cid: <span style=\"color: #008080; text-decoration-color: #008080; font-weight: bold\">558</span>                                                                       <a href=\"file:///tmp/ipykernel_1009755/3963006861.py\" target=\"_blank\"><span style=\"color: #7f7f7f; text-decoration-color: #7f7f7f\">flwr</span></a><span style=\"color: #7f7f7f; text-decoration-color: #7f7f7f\">:</span><a href=\"file:///tmp/ipykernel_1009755/3963006861.py#21\" target=\"_blank\"><span style=\"color: #7f7f7f; text-decoration-color: #7f7f7f\">21</span></a>\n",
              "</pre>\n"
            ],
            "text/plain": [
              "\u001b[2;36m                   \u001b[0m\u001b[2;36m \u001b[0m\u001b[34mINFO    \u001b[0m cid: \u001b[1;36m558\u001b[0m                                                                       \u001b]8;id=928463;file:///tmp/ipykernel_1009755/3963006861.py\u001b\\\u001b[2mflwr\u001b[0m\u001b]8;;\u001b\\\u001b[2m:\u001b[0m\u001b]8;id=903565;file:///tmp/ipykernel_1009755/3963006861.py#21\u001b\\\u001b[2m21\u001b[0m\u001b]8;;\u001b\\\n"
            ]
          },
          "metadata": {},
          "output_type": "display_data"
        },
        {
          "data": {
            "text/html": [
              "<pre style=\"white-space:pre;overflow-x:auto;line-height:normal;font-family:Menlo,'DejaVu Sans Mono',consolas,'Courier New',monospace\"><span style=\"color: #7fbfbf; text-decoration-color: #7fbfbf\">                    </span><span style=\"color: #000080; text-decoration-color: #000080\">INFO    </span> cid: <span style=\"color: #008080; text-decoration-color: #008080; font-weight: bold\">284</span>                                                                       <a href=\"file:///tmp/ipykernel_1009755/3963006861.py\" target=\"_blank\"><span style=\"color: #7f7f7f; text-decoration-color: #7f7f7f\">flwr</span></a><span style=\"color: #7f7f7f; text-decoration-color: #7f7f7f\">:</span><a href=\"file:///tmp/ipykernel_1009755/3963006861.py#21\" target=\"_blank\"><span style=\"color: #7f7f7f; text-decoration-color: #7f7f7f\">21</span></a>\n",
              "</pre>\n"
            ],
            "text/plain": [
              "\u001b[2;36m                   \u001b[0m\u001b[2;36m \u001b[0m\u001b[34mINFO    \u001b[0m cid: \u001b[1;36m284\u001b[0m                                                                       \u001b]8;id=72933;file:///tmp/ipykernel_1009755/3963006861.py\u001b\\\u001b[2mflwr\u001b[0m\u001b]8;;\u001b\\\u001b[2m:\u001b[0m\u001b]8;id=48050;file:///tmp/ipykernel_1009755/3963006861.py#21\u001b\\\u001b[2m21\u001b[0m\u001b]8;;\u001b\\\n"
            ]
          },
          "metadata": {},
          "output_type": "display_data"
        },
        {
          "data": {
            "text/html": [
              "<pre style=\"white-space:pre;overflow-x:auto;line-height:normal;font-family:Menlo,'DejaVu Sans Mono',consolas,'Courier New',monospace\"><span style=\"color: #7fbfbf; text-decoration-color: #7fbfbf\">                    </span><span style=\"color: #000080; text-decoration-color: #000080\">INFO    </span> cid: <span style=\"color: #008080; text-decoration-color: #008080; font-weight: bold\">322</span>                                                                       <a href=\"file:///tmp/ipykernel_1009755/3963006861.py\" target=\"_blank\"><span style=\"color: #7f7f7f; text-decoration-color: #7f7f7f\">flwr</span></a><span style=\"color: #7f7f7f; text-decoration-color: #7f7f7f\">:</span><a href=\"file:///tmp/ipykernel_1009755/3963006861.py#21\" target=\"_blank\"><span style=\"color: #7f7f7f; text-decoration-color: #7f7f7f\">21</span></a>\n",
              "</pre>\n"
            ],
            "text/plain": [
              "\u001b[2;36m                   \u001b[0m\u001b[2;36m \u001b[0m\u001b[34mINFO    \u001b[0m cid: \u001b[1;36m322\u001b[0m                                                                       \u001b]8;id=83667;file:///tmp/ipykernel_1009755/3963006861.py\u001b\\\u001b[2mflwr\u001b[0m\u001b]8;;\u001b\\\u001b[2m:\u001b[0m\u001b]8;id=896865;file:///tmp/ipykernel_1009755/3963006861.py#21\u001b\\\u001b[2m21\u001b[0m\u001b]8;;\u001b\\\n"
            ]
          },
          "metadata": {},
          "output_type": "display_data"
        },
        {
          "name": "stderr",
          "output_type": "stream",
          "text": [
            "Training [Epoch 1/25]:   0%|          | 0/32 [00:00<?, ?it/s]\n",
            "\u001b[A\n",
            "\n",
            "\u001b[A\u001b[A\n",
            "\n",
            "\n",
            "Training [Epoch 1/25]:   3%|▎         | 1/32 [00:00<00:06,  4.78it/s]\n",
            "\n",
            "\u001b[A\u001b[A\n",
            "\n",
            "\n",
            "\u001b[A\u001b[A\u001b[A\n",
            "\u001b[A\n",
            "\n",
            "\n",
            "\u001b[A\u001b[A\u001b[A\n",
            "\n",
            "Training [Epoch 1/25]:   9%|▉         | 3/32 [00:00<00:03,  7.82it/s]\n",
            "\u001b[A\n",
            "\n",
            "Training [Epoch 1/25]:  12%|█▎        | 4/32 [00:00<00:03,  8.00it/s]\n",
            "\u001b[A\n",
            "\n",
            "\n",
            "\u001b[A\u001b[A\u001b[A\n",
            "\n",
            "Training [Epoch 1/25]:  16%|█▌        | 5/32 [00:00<00:03,  7.92it/s]\n",
            "\u001b[A\n",
            "\n",
            "\n",
            "\u001b[A\u001b[A\u001b[A\n",
            "\n",
            "Training [Epoch 1/25]:  19%|█▉        | 6/32 [00:00<00:03,  7.73it/s]\n",
            "\u001b[A\n",
            "\n",
            "\n",
            "\u001b[A\u001b[A\u001b[A\n",
            "\n",
            "Training [Epoch 1/25]:  22%|██▏       | 7/32 [00:00<00:03,  6.74it/s]\n",
            "\u001b[A\n",
            "\n",
            "\n",
            "\u001b[A\u001b[A\u001b[A\n",
            "\n",
            "\u001b[A\u001b[A\n",
            "\u001b[A\n",
            "\n",
            "\u001b[A\u001b[A\n",
            "\n",
            "\n",
            "Training [Epoch 1/25]:  28%|██▊       | 9/32 [00:01<00:03,  7.58it/s]\n",
            "\u001b[A\n",
            "\n",
            "\n",
            "Training [Epoch 1/25]:  31%|███▏      | 10/32 [00:01<00:02,  7.71it/s]\n",
            "\n",
            "\u001b[A\u001b[A\n",
            "Training [Epoch 1/25]:  34%|███▍      | 11/32 [00:01<00:02,  7.63it/s]\n",
            "\u001b[A\n",
            "\n",
            "\n",
            "\u001b[A\u001b[A\u001b[A\n",
            "\n",
            "Training [Epoch 1/25]:  38%|███▊      | 12/32 [00:01<00:02,  7.99it/s]\n",
            "\u001b[A\n",
            "\n",
            "\u001b[A\u001b[A\n",
            "\n",
            "\n",
            "Training [Epoch 1/25]:  41%|████      | 13/32 [00:01<00:02,  7.77it/s]\n",
            "\u001b[A\n",
            "\n",
            "\u001b[A\u001b[A\n",
            "\n",
            "\n",
            "Training [Epoch 1/25]:  44%|████▍     | 14/32 [00:01<00:02,  7.74it/s]\n",
            "\u001b[A\n",
            "\n",
            "Training [Epoch 1/25]:  47%|████▋     | 15/32 [00:01<00:02,  8.14it/s]\n",
            "\u001b[A\n",
            "\n",
            "\n",
            "\u001b[A\u001b[A\u001b[A\n",
            "\n",
            "\u001b[A\u001b[A\n",
            "\n",
            "\n",
            "Training [Epoch 1/25]:  53%|█████▎    | 17/32 [00:02<00:01,  9.29it/s]\n",
            "\u001b[A\n",
            "\n",
            "\u001b[A\u001b[A\n",
            "\n",
            "\n",
            "Training [Epoch 1/25]:  56%|█████▋    | 18/32 [00:02<00:01,  8.60it/s]\n",
            "\n",
            "\u001b[A\u001b[A\n",
            "\u001b[A\n",
            "\n",
            "\n",
            "\u001b[A\u001b[A\u001b[A\n",
            "\n",
            "\u001b[A\u001b[A\n",
            "\u001b[A\n",
            "\n",
            "\n",
            "Training [Epoch 1/25]:  62%|██████▎   | 20/32 [00:02<00:01,  8.74it/s]\n",
            "\n",
            "\u001b[A\u001b[A\n",
            "\n",
            "\n",
            "\u001b[A\u001b[A\u001b[A\n",
            "\u001b[A\n",
            "\n",
            "Training [Epoch 1/25]:  69%|██████▉   | 22/32 [00:02<00:01,  8.79it/s]\n",
            "\n",
            "\n",
            "\u001b[A\u001b[A\u001b[A\n",
            "\u001b[A\n",
            "\n",
            "\u001b[A\u001b[A\n",
            "\n",
            "\n",
            "Training [Epoch 1/25]:  72%|███████▏  | 23/32 [00:02<00:01,  8.23it/s]\n",
            "\u001b[A\n",
            "\n",
            "\u001b[A\u001b[A\n",
            "\n",
            "\n",
            "\u001b[A\u001b[A\u001b[A\n",
            "\u001b[A\n",
            "\n",
            "Training [Epoch 1/25]:  78%|███████▊  | 25/32 [00:03<00:00,  8.60it/s]\n",
            "\n",
            "\n",
            "\u001b[A\u001b[A\u001b[A\n",
            "\u001b[A\n",
            "\n",
            "\n",
            "\u001b[A\u001b[A\u001b[A\n",
            "\n",
            "Training [Epoch 1/25]:  81%|████████▏ | 26/32 [00:03<00:00,  8.05it/s]\n",
            "\n",
            "\n",
            "\u001b[A\u001b[A\u001b[A\n",
            "Training [Epoch 1/25]:  84%|████████▍ | 27/32 [00:03<00:00,  8.17it/s]\n",
            "\n",
            "\u001b[A\u001b[A\n",
            "\n",
            "\n",
            "\u001b[A\u001b[A\u001b[A\n",
            "Training [Epoch 1/25]:  88%|████████▊ | 28/32 [00:03<00:00,  8.03it/s]\n",
            "\n",
            "\u001b[A\u001b[A\n",
            "\u001b[A\n",
            "\n",
            "\n",
            "\u001b[A\u001b[A\u001b[A\n",
            "\n",
            "Training [Epoch 1/25]:  91%|█████████ | 29/32 [00:03<00:00,  6.87it/s]\n",
            "\n",
            "\n",
            "Training [Epoch 1/25]:  94%|█████████▍| 30/32 [00:03<00:00,  7.27it/s]\n",
            "\n",
            "\u001b[A\u001b[A\n",
            "\u001b[A\n",
            "\n",
            "\n",
            "\u001b[A\u001b[A\u001b[A\n",
            "\n",
            "Training [Epoch 1/25]:  97%|█████████▋| 31/32 [00:03<00:00,  6.98it/s]\n",
            "\u001b[A\n",
            "\n",
            "\n",
            "Training [Epoch 1/25]: 100%|██████████| 32/32 [00:04<00:00,  7.91it/s]\n",
            "Training [Epoch 1/25]: 100%|██████████| 32/32 [00:04<00:00,  7.89it/s]\n",
            "\n",
            "\n",
            "\u001b[A\u001b[A\n",
            "Training [Epoch 1/25]: 100%|██████████| 32/32 [00:04<00:00,  7.87it/s]\n",
            "Training [Epoch 1/25]: 100%|██████████| 32/32 [00:04<00:00,  7.05it/s]\n",
            "\n",
            "Training [Epoch 1/25]: 100%|██████████| 32/32 [00:04<00:00,  7.78it/s]\n",
            "Training [Epoch 2/25]:   0%|          | 0/32 [00:00<?, ?it/s]\n",
            "\n",
            "\n",
            "Training [Epoch 2/25]:   3%|▎         | 1/32 [00:00<00:04,  7.49it/s]\n",
            "\n",
            "\u001b[A\u001b[A\n",
            "\n",
            "\n",
            "Training [Epoch 1/25]: 100%|██████████| 32/32 [00:04<00:00,  7.54it/s]\n",
            "\n",
            "\n",
            "\n",
            "\u001b[A\u001b[A\u001b[A\n",
            "Training [Epoch 2/25]:   6%|▋         | 2/32 [00:00<00:03,  7.82it/s]\n",
            "\n",
            "\u001b[A\u001b[A\n",
            "\n",
            "\n",
            "\u001b[A\u001b[A\u001b[A\n",
            "Training [Epoch 2/25]:   9%|▉         | 3/32 [00:00<00:03,  8.20it/s]\n",
            "\n",
            "\n",
            "\u001b[A\u001b[A\u001b[A\n",
            "\n",
            "Training [Epoch 2/25]:  12%|█▎        | 4/32 [00:00<00:03,  8.68it/s]\n",
            "\u001b[A\n",
            "\n",
            "\u001b[A\u001b[A\n",
            "\n",
            "\n",
            "Training [Epoch 2/25]:  16%|█▌        | 5/32 [00:00<00:03,  8.24it/s]\n",
            "\u001b[A\n",
            "\n",
            "\n",
            "\u001b[A\u001b[A\u001b[A\n",
            "\n",
            "Training [Epoch 2/25]:  19%|█▉        | 6/32 [00:00<00:03,  7.57it/s]\n",
            "\n",
            "\n",
            "\u001b[A\u001b[A\u001b[A\n",
            "\n",
            "\u001b[A\u001b[A\n",
            "Training [Epoch 2/25]:  22%|██▏       | 7/32 [00:00<00:03,  7.98it/s]\n",
            "\n",
            "\n",
            "\u001b[A\u001b[A\u001b[A\n",
            "\n",
            "Training [Epoch 2/25]:  25%|██▌       | 8/32 [00:00<00:02,  8.22it/s]\n",
            "\u001b[A\n",
            "\n",
            "\n",
            "\u001b[A\u001b[A\u001b[A\n",
            "\n",
            "Training [Epoch 2/25]:  31%|███▏      | 10/32 [00:01<00:02,  9.22it/s]\n",
            "\n",
            "\u001b[A\u001b[A\n",
            "\u001b[A\n",
            "\n",
            "\n",
            "Training [Epoch 2/25]:  34%|███▍      | 11/32 [00:01<00:02,  8.40it/s]\n",
            "\u001b[A\n",
            "\n",
            "\n",
            "\u001b[A\u001b[A\u001b[A\n",
            "\n",
            "Training [Epoch 2/25]:  38%|███▊      | 12/32 [00:01<00:02,  7.70it/s]\n",
            "\u001b[A\n",
            "\n",
            "\u001b[A\u001b[A\n",
            "\n",
            "\n",
            "Training [Epoch 2/25]:  41%|████      | 13/32 [00:01<00:02,  7.88it/s]\n",
            "\n",
            "\u001b[A\u001b[A\n",
            "\n",
            "\n",
            "\u001b[A\u001b[A\u001b[A\n",
            "Training [Epoch 2/25]:  44%|████▍     | 14/32 [00:01<00:02,  7.80it/s]\n",
            "\n",
            "\u001b[A\u001b[A\n",
            "\n",
            "\n",
            "\u001b[A\u001b[A\u001b[A\n",
            "Training [Epoch 2/25]:  47%|████▋     | 15/32 [00:01<00:02,  7.22it/s]\n",
            "\n",
            "\u001b[A\u001b[A\n",
            "\n",
            "\n",
            "Training [Epoch 2/25]:  50%|█████     | 16/32 [00:02<00:02,  7.44it/s]\n",
            "\n",
            "\u001b[A\u001b[A\n",
            "\n",
            "\n",
            "\u001b[A\u001b[A\u001b[A\n",
            "\u001b[A\n",
            "\n",
            "Training [Epoch 2/25]:  53%|█████▎    | 17/32 [00:02<00:02,  6.64it/s]\n",
            "\u001b[A\n",
            "\n",
            "\n",
            "\u001b[A\u001b[A\u001b[A\n",
            "\n",
            "Training [Epoch 2/25]:  56%|█████▋    | 18/32 [00:02<00:02,  6.63it/s]\n",
            "\u001b[A\n",
            "\n",
            "\n",
            "\u001b[A\u001b[A\u001b[A\n",
            "\n",
            "Training [Epoch 2/25]:  59%|█████▉    | 19/32 [00:02<00:01,  7.02it/s]\n",
            "\u001b[A\n",
            "\n",
            "\n",
            "\u001b[A\u001b[A\u001b[A\n",
            "\n",
            "Training [Epoch 2/25]:  66%|██████▌   | 21/32 [00:02<00:01,  8.26it/s]\n",
            "\u001b[A\n",
            "\n",
            "\n",
            "\u001b[A\u001b[A\u001b[A\n",
            "\n",
            "Training [Epoch 2/25]:  69%|██████▉   | 22/32 [00:02<00:01,  8.25it/s]\n",
            "\u001b[A\n",
            "\n",
            "\n",
            "Training [Epoch 2/25]:  72%|███████▏  | 23/32 [00:02<00:01,  8.33it/s]\n",
            "\u001b[A\n",
            "\n",
            "\u001b[A\u001b[A\n",
            "\n",
            "\n",
            "Training [Epoch 2/25]:  75%|███████▌  | 24/32 [00:03<00:00,  8.18it/s]\n",
            "\u001b[A\n",
            "\n",
            "Training [Epoch 2/25]:  78%|███████▊  | 25/32 [00:03<00:00,  7.66it/s]\n",
            "\n",
            "\u001b[A\u001b[A\n",
            "\u001b[A\n",
            "\n",
            "\n",
            "Training [Epoch 2/25]:  81%|████████▏ | 26/32 [00:03<00:00,  7.82it/s]\n",
            "\n",
            "\u001b[A\u001b[A\n",
            "\n",
            "\n",
            "\u001b[A\u001b[A\u001b[A\n",
            "\u001b[A\n",
            "\n",
            "\u001b[A\u001b[A\n",
            "\n",
            "\n",
            "\u001b[A\u001b[A\u001b[A\n",
            "Training [Epoch 2/25]:  88%|████████▊ | 28/32 [00:03<00:00,  8.07it/s]\n",
            "\n",
            "\u001b[A\u001b[A\n",
            "\n",
            "\n",
            "Training [Epoch 2/25]:  91%|█████████ | 29/32 [00:03<00:00,  8.20it/s]\n",
            "\u001b[A\n",
            "\n",
            "\n",
            "\u001b[A\u001b[A\u001b[A\n",
            "\n",
            "Training [Epoch 2/25]:  94%|█████████▍| 30/32 [00:03<00:00,  8.17it/s]\n",
            "\u001b[A\n",
            "\n",
            "\n",
            "Training [Epoch 2/25]: 100%|██████████| 32/32 [00:03<00:00,  8.06it/s]\n",
            "\n",
            "\n",
            "Training [Epoch 2/25]:  97%|█████████▋| 31/32 [00:03<00:00,  8.28it/s]\n",
            "Training [Epoch 2/25]: 100%|██████████| 32/32 [00:04<00:00,  7.96it/s]\n",
            "Training [Epoch 2/25]: 100%|██████████| 32/32 [00:03<00:00,  8.01it/s]\n",
            "Training [Epoch 3/25]:   0%|          | 0/32 [00:00<?, ?it/s]\n",
            "\u001b[A\n",
            "\n",
            "\u001b[A\u001b[A\n",
            "\n",
            "\n",
            "Training [Epoch 2/25]: 100%|██████████| 32/32 [00:03<00:00,  8.26it/s]\n",
            "\n",
            "\n",
            "\n",
            "Training [Epoch 3/25]:   3%|▎         | 1/32 [00:00<00:03,  9.98it/s]\n",
            "\u001b[A\n",
            "\n",
            "\u001b[A\u001b[A\n",
            "\n",
            "\n",
            "Training [Epoch 2/25]: 100%|██████████| 32/32 [00:04<00:00,  7.61it/s]\n",
            "\n",
            "\n",
            "Training [Epoch 3/25]:   9%|▉         | 3/32 [00:00<00:03,  8.91it/s]\n",
            "\u001b[A\n",
            "\n",
            "\n",
            "\u001b[A\u001b[A\u001b[A\n",
            "\n",
            "\u001b[A\u001b[A\n",
            "Training [Epoch 3/25]:  12%|█▎        | 4/32 [00:00<00:03,  8.38it/s]\n",
            "\n",
            "\n",
            "Training [Epoch 3/25]:  16%|█▌        | 5/32 [00:00<00:03,  8.55it/s]\n",
            "\u001b[A\n",
            "\n",
            "\u001b[A\u001b[A\n",
            "\n",
            "\n",
            "Training [Epoch 3/25]:  19%|█▉        | 6/32 [00:00<00:03,  7.51it/s]\n",
            "\u001b[A\n",
            "\n",
            "\u001b[A\u001b[A\n",
            "\n",
            "\n",
            "Training [Epoch 3/25]:  22%|██▏       | 7/32 [00:00<00:03,  7.37it/s]\n",
            "\n",
            "\u001b[A\u001b[A\n",
            "\u001b[A\n",
            "\n",
            "\n",
            "Training [Epoch 3/25]:  25%|██▌       | 8/32 [00:00<00:03,  7.83it/s]\n",
            "\u001b[A\n",
            "\n",
            "Training [Epoch 3/25]:  28%|██▊       | 9/32 [00:01<00:03,  7.65it/s]\n",
            "\n",
            "\n",
            "\u001b[A\u001b[A\u001b[A\n",
            "\u001b[A\n",
            "\n",
            "Training [Epoch 3/25]:  31%|███▏      | 10/32 [00:01<00:02,  7.51it/s]\n",
            "\u001b[A\n",
            "\n",
            "\n",
            "\u001b[A\u001b[A\u001b[A\n",
            "\n",
            "Training [Epoch 3/25]:  34%|███▍      | 11/32 [00:01<00:02,  7.77it/s]\n",
            "Training [Epoch 3/25]:  38%|███▊      | 12/32 [00:01<00:02,  8.13it/s]\n",
            "\n",
            "\u001b[A\u001b[A\n",
            "\n",
            "\n",
            "Training [Epoch 3/25]:  41%|████      | 13/32 [00:01<00:02,  8.06it/s]\n",
            "\n",
            "\n",
            "\u001b[A\u001b[A\u001b[A\n",
            "\n",
            "\u001b[A\u001b[A\n",
            "Training [Epoch 3/25]:  47%|████▋     | 15/32 [00:01<00:01,  9.31it/s]\n",
            "\n",
            "\n",
            "\u001b[A\u001b[A\u001b[A\n",
            "\n",
            "\u001b[A\u001b[A\n",
            "\u001b[A\n",
            "\n",
            "\n",
            "Training [Epoch 3/25]:  50%|█████     | 16/32 [00:01<00:01,  8.92it/s]\n",
            "\n",
            "\u001b[A\u001b[A\n",
            "\u001b[A\n",
            "\n",
            "\n",
            "Training [Epoch 3/25]:  56%|█████▋    | 18/32 [00:02<00:01, 10.13it/s]\n",
            "\n",
            "\n",
            "\u001b[A\u001b[A\u001b[A\n",
            "\n",
            "\u001b[A\u001b[A\n",
            "\u001b[A\n",
            "\n",
            "\n",
            "Training [Epoch 3/25]:  62%|██████▎   | 20/32 [00:02<00:01, 10.61it/s]\n",
            "\u001b[A\n",
            "\n",
            "\u001b[A\u001b[A\n",
            "\n",
            "\n",
            "\u001b[A\u001b[A\u001b[A\n",
            "\n",
            "Training [Epoch 3/25]:  69%|██████▉   | 22/32 [00:02<00:00, 10.03it/s]\n",
            "\u001b[A\n",
            "\n",
            "\n",
            "\u001b[A\u001b[A\u001b[A\n",
            "\n",
            "\u001b[A\u001b[A\n",
            "Training [Epoch 3/25]:  72%|███████▏  | 23/32 [00:02<00:01,  8.65it/s]\n",
            "\n",
            "\u001b[A\u001b[A\n",
            "\n",
            "\n",
            "Training [Epoch 3/25]:  75%|███████▌  | 24/32 [00:02<00:00,  8.04it/s]\n",
            "\u001b[A\n",
            "\n",
            "\u001b[A\u001b[A\n",
            "\n",
            "\n",
            "\u001b[A\u001b[A\u001b[A\n",
            "\n",
            "Training [Epoch 3/25]:  81%|████████▏ | 26/32 [00:03<00:00,  8.91it/s]\n",
            "\u001b[A\n",
            "\n",
            "\n",
            "\u001b[A\u001b[A\u001b[A\n",
            "\n",
            "Training [Epoch 3/25]:  84%|████████▍ | 27/32 [00:03<00:00,  8.50it/s]\n",
            "\n",
            "\n",
            "\u001b[A\u001b[A\u001b[A\n",
            "\u001b[A\n",
            "\n",
            "Training [Epoch 3/25]:  88%|████████▊ | 28/32 [00:03<00:00,  8.62it/s]\n",
            "\n",
            "\n",
            "\u001b[A\u001b[A\u001b[A\n",
            "Training [Epoch 3/25]:  91%|█████████ | 29/32 [00:03<00:00,  7.92it/s]\n",
            "\n",
            "\u001b[A\u001b[A\n",
            "\n",
            "\n",
            "\u001b[A\u001b[A\u001b[A\n",
            "Training [Epoch 3/25]:  94%|█████████▍| 30/32 [00:03<00:00,  8.08it/s]\n",
            "\n",
            "\u001b[A\u001b[A\n",
            "\n",
            "\n",
            "\u001b[A\u001b[A\u001b[A\n",
            "Training [Epoch 3/25]:  97%|█████████▋| 31/32 [00:03<00:00,  8.32it/s]\n",
            "\n",
            "\u001b[A\u001b[A\n",
            "\n",
            "\n",
            "\u001b[A\u001b[A\u001b[A\n",
            "Training [Epoch 3/25]: 100%|██████████| 32/32 [00:03<00:00,  8.51it/s]\n",
            "Training [Epoch 4/25]:   0%|          | 0/32 [00:00<?, ?it/s]\n",
            "\n",
            "\u001b[A\u001b[A\n",
            "\u001b[A\n",
            "\n",
            "\n",
            "Training [Epoch 4/25]:   3%|▎         | 1/32 [00:00<00:04,  7.64it/s]\n",
            "\n",
            "\u001b[A\u001b[A\n",
            "\u001b[A\n",
            "\n",
            "\n",
            "Training [Epoch 4/25]:   6%|▋         | 2/32 [00:00<00:03,  8.01it/s]\n",
            "\n",
            "Training [Epoch 3/25]: 100%|██████████| 32/32 [00:04<00:00,  7.69it/s]\n",
            "\n",
            "\n",
            "\n",
            "\u001b[A\u001b[A\u001b[A\n",
            "\n",
            "\u001b[A\u001b[A\n",
            "Training [Epoch 4/25]:  12%|█▎        | 4/32 [00:00<00:02,  9.38it/s]\n",
            "\n",
            "\n",
            "Training [Epoch 3/25]: 100%|██████████| 32/32 [00:04<00:00,  7.91it/s]\n",
            "\n",
            "\n",
            "Training [Epoch 3/25]: 100%|██████████| 32/32 [00:04<00:00,  7.51it/s]\n",
            "\n",
            "\u001b[A\n",
            "\n",
            "\n",
            "\u001b[A\u001b[A\u001b[A\n",
            "\n",
            "Training [Epoch 4/25]:  19%|█▉        | 6/32 [00:00<00:02,  9.67it/s]\n",
            "\u001b[A\n",
            "\n",
            "\n",
            "Training [Epoch 3/25]: 100%|██████████| 32/32 [00:04<00:00,  7.17it/s]\n",
            "Training [Epoch 4/25]:  22%|██▏       | 7/32 [00:00<00:02,  9.35it/s]\n",
            "\n",
            "\n",
            "\u001b[A\u001b[A\u001b[A\n",
            "\n",
            "\u001b[A\u001b[A\n",
            "Training [Epoch 4/25]:  25%|██▌       | 8/32 [00:00<00:02,  9.30it/s]\n",
            "\n",
            "\u001b[A\u001b[A\n",
            "\n",
            "\n",
            "\u001b[A\u001b[A\u001b[A\n",
            "Training [Epoch 4/25]:  28%|██▊       | 9/32 [00:00<00:02,  9.03it/s]\n",
            "\n",
            "\u001b[A\u001b[A\n",
            "\n",
            "\n",
            "\u001b[A\u001b[A\u001b[A\n",
            "Training [Epoch 4/25]:  31%|███▏      | 10/32 [00:01<00:02,  9.19it/s]\n",
            "\n",
            "\u001b[A\u001b[A\n",
            "Training [Epoch 4/25]:  34%|███▍      | 11/32 [00:01<00:02,  8.46it/s]\n",
            "\n",
            "\n",
            "\u001b[A\u001b[A\u001b[A\n",
            "\n",
            "\u001b[A\u001b[A\n",
            "\u001b[A\n",
            "\n",
            "\n",
            "Training [Epoch 4/25]:  38%|███▊      | 12/32 [00:01<00:02,  7.77it/s]\n",
            "\n",
            "\u001b[A\u001b[A\n",
            "Training [Epoch 4/25]:  41%|████      | 13/32 [00:01<00:02,  8.30it/s]\n",
            "\n",
            "\u001b[A\u001b[A\n",
            "\n",
            "\n",
            "\u001b[A\u001b[A\u001b[A\n",
            "\u001b[A\n",
            "\n",
            "Training [Epoch 4/25]:  44%|████▍     | 14/32 [00:01<00:02,  7.68it/s]\n",
            "\n",
            "\n",
            "\u001b[A\u001b[A\u001b[A\n",
            "\u001b[A\n",
            "\n",
            "Training [Epoch 4/25]:  47%|████▋     | 15/32 [00:01<00:02,  8.04it/s]\n",
            "\n",
            "\n",
            "\u001b[A\u001b[A\u001b[A\n",
            "\n",
            "\u001b[A\u001b[A\n",
            "\u001b[A\n",
            "\n",
            "\n",
            "Training [Epoch 4/25]:  53%|█████▎    | 17/32 [00:02<00:01,  7.74it/s]\n",
            "\n",
            "\n",
            "\u001b[A\u001b[A\u001b[A\n",
            "\u001b[A\n",
            "\n",
            "\u001b[A\u001b[A\n",
            "\n",
            "\n",
            "\u001b[A\u001b[A\u001b[A\n",
            "Training [Epoch 4/25]:  59%|█████▉    | 19/32 [00:02<00:01,  8.83it/s]\n",
            "\n",
            "\u001b[A\u001b[A\n",
            "Training [Epoch 4/25]:  62%|██████▎   | 20/32 [00:02<00:01,  8.49it/s]\n",
            "\n",
            "\n",
            "\u001b[A\u001b[A\u001b[A\n",
            "\n",
            "\u001b[A\u001b[A\n",
            "\u001b[A\n",
            "\n",
            "\n",
            "\u001b[A\u001b[A\u001b[A\n",
            "\n",
            "Training [Epoch 4/25]:  69%|██████▉   | 22/32 [00:02<00:01,  9.11it/s]\n",
            "\u001b[A\n",
            "\n",
            "\n",
            "\u001b[A\u001b[A\u001b[A\n",
            "\n",
            "Training [Epoch 4/25]:  72%|███████▏  | 23/32 [00:02<00:01,  8.58it/s]\n",
            "\n",
            "\n",
            "\u001b[A\u001b[A\u001b[A\n",
            "Training [Epoch 4/25]:  75%|███████▌  | 24/32 [00:02<00:00,  8.20it/s]\n",
            "\n",
            "\n",
            "\u001b[A\u001b[A\u001b[A\n",
            "\n",
            "Training [Epoch 4/25]:  78%|███████▊  | 25/32 [00:02<00:00,  8.60it/s]\n",
            "\u001b[A\n",
            "\n",
            "Training [Epoch 4/25]:  81%|████████▏ | 26/32 [00:03<00:00,  8.71it/s]\n",
            "\n",
            "\n",
            "\u001b[A\u001b[A\u001b[A\n",
            "\u001b[A\n",
            "\n",
            "Training [Epoch 4/25]:  84%|████████▍ | 27/32 [00:03<00:00,  8.27it/s]\n",
            "\n",
            "\n",
            "\u001b[A\u001b[A\u001b[A\n",
            "\u001b[A\n",
            "\n",
            "\u001b[A\u001b[A\n",
            "\u001b[A\n",
            "\n",
            "Training [Epoch 4/25]:  91%|█████████ | 29/32 [00:03<00:00,  8.71it/s]\n",
            "\n",
            "\n",
            "\u001b[A\u001b[A\u001b[A\n",
            "\n",
            "\u001b[A\u001b[A\n",
            "\u001b[A\n",
            "\n",
            "\n",
            "Training [Epoch 4/25]:  97%|█████████▋| 31/32 [00:03<00:00,  9.91it/s]\n",
            "Training [Epoch 4/25]: 100%|██████████| 32/32 [00:03<00:00,  8.68it/s]\n",
            "Training [Epoch 5/25]:   0%|          | 0/32 [00:00<?, ?it/s]\n",
            "\n",
            "\u001b[A\u001b[A\n",
            "\n",
            "\n",
            "Training [Epoch 5/25]:   3%|▎         | 1/32 [00:00<00:03,  9.57it/s]\n",
            "\n",
            "\n",
            "\u001b[A\u001b[A\u001b[A\n",
            "\u001b[A\n",
            "\n",
            "Training [Epoch 5/25]:   6%|▋         | 2/32 [00:00<00:03,  7.93it/s]\n",
            "\u001b[A\n",
            "\n",
            "\n",
            "\u001b[A\u001b[A\u001b[A\n",
            "\n",
            "\u001b[A\u001b[A\n",
            "Training [Epoch 4/25]: 100%|██████████| 32/32 [00:03<00:00,  8.40it/s]\n",
            "\n",
            "\n",
            "\n",
            "Training [Epoch 5/25]:  12%|█▎        | 4/32 [00:00<00:03,  9.27it/s]\n",
            "\n",
            "\u001b[A\u001b[A\n",
            "\u001b[A\n",
            "\n",
            "\n",
            "Training [Epoch 4/25]: 100%|██████████| 32/32 [00:03<00:00,  8.45it/s]\n",
            "\n",
            "\u001b[A\n",
            "\n",
            "Training [Epoch 5/25]:  19%|█▉        | 6/32 [00:00<00:02,  8.69it/s]\n",
            "\u001b[A\n",
            "\n",
            "\u001b[A\u001b[A\n",
            "\n",
            "\n",
            "Training [Epoch 4/25]: 100%|██████████| 32/32 [00:03<00:00,  8.62it/s]\n",
            "\n",
            "\n",
            "\n",
            "Training [Epoch 5/25]:  22%|██▏       | 7/32 [00:00<00:02,  8.44it/s]\n",
            "\n",
            "Training [Epoch 4/25]: 100%|██████████| 32/32 [00:04<00:00,  7.81it/s]\n",
            "\n",
            "\n",
            "Training [Epoch 5/25]:  25%|██▌       | 8/32 [00:00<00:02,  8.78it/s]\n",
            "\n",
            "\n",
            "\u001b[A\u001b[A\u001b[A\n",
            "\u001b[A\n",
            "\n",
            "Training [Epoch 5/25]:  31%|███▏      | 10/32 [00:01<00:02, 10.18it/s]\n",
            "\u001b[A\n",
            "\n",
            "\n",
            "Training [Epoch 5/25]:  34%|███▍      | 11/32 [00:01<00:02, 10.00it/s]\n",
            "\u001b[A\n",
            "\n",
            "\u001b[A\u001b[A\n",
            "\n",
            "\n",
            "\u001b[A\u001b[A\u001b[A\n",
            "\u001b[A\n",
            "\n",
            "Training [Epoch 5/25]:  41%|████      | 13/32 [00:01<00:01, 10.15it/s]\n",
            "\n",
            "\n",
            "\u001b[A\u001b[A\u001b[A\n",
            "\u001b[A\n",
            "\n",
            "\u001b[A\u001b[A\n",
            "\n",
            "\n",
            "Training [Epoch 5/25]:  47%|████▋     | 15/32 [00:01<00:01, 10.27it/s]\n",
            "\u001b[A\n",
            "\n",
            "\n",
            "\u001b[A\u001b[A\u001b[A\n",
            "\n",
            "\u001b[A\u001b[A\n",
            "Training [Epoch 5/25]:  53%|█████▎    | 17/32 [00:01<00:01,  9.31it/s]\n",
            "\n",
            "\n",
            "Training [Epoch 5/25]:  56%|█████▋    | 18/32 [00:01<00:01,  8.65it/s]\n",
            "\n",
            "\n",
            "\u001b[A\u001b[A\u001b[A\n",
            "\n",
            "\u001b[A\u001b[A\n",
            "Training [Epoch 5/25]:  59%|█████▉    | 19/32 [00:02<00:01,  8.61it/s]\n",
            "\n",
            "\u001b[A\u001b[A\n",
            "\n",
            "\n",
            "\u001b[A\u001b[A\u001b[A\n",
            "\u001b[A\n",
            "\n",
            "\u001b[A\u001b[A\n",
            "\n",
            "\n",
            "\u001b[A\u001b[A\u001b[A\n",
            "Training [Epoch 5/25]:  66%|██████▌   | 21/32 [00:02<00:01,  8.97it/s]\n",
            "\n",
            "\u001b[A\u001b[A\n",
            "\n",
            "\n",
            "Training [Epoch 5/25]:  69%|██████▉   | 22/32 [00:02<00:01,  8.69it/s]\n",
            "\n",
            "\u001b[A\u001b[A\n",
            "\n",
            "\n",
            "\u001b[A\u001b[A\u001b[A\n",
            "Training [Epoch 5/25]:  72%|███████▏  | 23/32 [00:02<00:01,  8.37it/s]\n",
            "\n",
            "\u001b[A\u001b[A\n",
            "\n",
            "\n",
            "\u001b[A\u001b[A\u001b[A\n",
            "\u001b[A\n",
            "\n",
            "Training [Epoch 5/25]:  78%|███████▊  | 25/32 [00:02<00:00,  8.99it/s]\n",
            "\u001b[A\n",
            "\n",
            "\u001b[A\u001b[A\n",
            "\n",
            "\n",
            "Training [Epoch 5/25]:  81%|████████▏ | 26/32 [00:02<00:00,  9.09it/s]\n",
            "\u001b[A\n",
            "\n",
            "\u001b[A\u001b[A\n",
            "\n",
            "\n",
            "Training [Epoch 5/25]:  84%|████████▍ | 27/32 [00:02<00:00,  8.85it/s]\n",
            "\u001b[A\n",
            "\n",
            "\u001b[A\u001b[A\n",
            "\n",
            "\n",
            "Training [Epoch 5/25]:  88%|████████▊ | 28/32 [00:03<00:00,  8.91it/s]\n",
            "\u001b[A\n",
            "\n",
            "\n",
            "Training [Epoch 5/25]:  91%|█████████ | 29/32 [00:03<00:00,  8.54it/s]\n",
            "\n",
            "\u001b[A\u001b[A\n",
            "\u001b[A\n",
            "\n",
            "\n",
            "Training [Epoch 5/25]:  94%|█████████▍| 30/32 [00:03<00:00,  7.21it/s]\n",
            "\n",
            "\u001b[A\u001b[A\n",
            "Training [Epoch 5/25]:  97%|█████████▋| 31/32 [00:03<00:00,  7.72it/s]\n",
            "\n",
            "\n",
            "\u001b[A\u001b[A\u001b[A\n",
            "\n",
            "Training [Epoch 5/25]: 100%|██████████| 32/32 [00:03<00:00,  8.70it/s]\n",
            "Training [Epoch 6/25]:   0%|          | 0/32 [00:00<?, ?it/s]\n",
            "\u001b[A\n",
            "\n",
            "\n",
            "\u001b[A\u001b[A\u001b[A\n",
            "\n",
            "Training [Epoch 6/25]:   3%|▎         | 1/32 [00:00<00:04,  7.19it/s]\n",
            "\n",
            "\n",
            "\u001b[A\u001b[A\u001b[A\n",
            "\u001b[A\n",
            "\n",
            "Training [Epoch 6/25]:   6%|▋         | 2/32 [00:00<00:03,  8.18it/s]\n",
            "\n",
            "\n",
            "\u001b[A\u001b[A\u001b[A\n",
            "Training [Epoch 6/25]:   9%|▉         | 3/32 [00:00<00:03,  8.32it/s]\n",
            "\n",
            "\u001b[A\u001b[A\n",
            "\n",
            "Training [Epoch 6/25]:  12%|█▎        | 4/32 [00:00<00:03,  8.26it/s]\n",
            "\n",
            "\n",
            "\u001b[A\u001b[A\u001b[A\n",
            "\u001b[A\n",
            "\n",
            "Training [Epoch 5/25]: 100%|██████████| 32/32 [00:03<00:00,  8.31it/s]\n",
            "\n",
            "\n",
            "\n",
            "\u001b[A\u001b[A\u001b[A\n",
            "Training [Epoch 6/25]:  19%|█▉        | 6/32 [00:00<00:02,  9.06it/s]\n",
            "\n",
            "Training [Epoch 5/25]: 100%|██████████| 32/32 [00:03<00:00,  8.37it/s]\n",
            "\n",
            "\u001b[A\n",
            "\n",
            "\n",
            "\u001b[A\u001b[A\u001b[A\n",
            "\n",
            "Training [Epoch 6/25]:  25%|██▌       | 8/32 [00:00<00:02,  9.46it/s]\n",
            "\n",
            "\n",
            "\u001b[A\u001b[A\u001b[A\n",
            "\n",
            "Training [Epoch 5/25]: 100%|██████████| 32/32 [00:03<00:00,  8.54it/s]\n",
            "\n",
            "\n",
            "\u001b[A\u001b[A\n",
            "Training [Epoch 6/25]:  31%|███▏      | 10/32 [00:01<00:02, 10.79it/s]\n",
            "\n",
            "\n",
            "\u001b[A\u001b[A\u001b[A\n",
            "\n",
            "\u001b[A\u001b[A\n",
            "\u001b[A\n",
            "\n",
            "\n",
            "\u001b[A\u001b[A\u001b[A\n",
            "\n",
            "\u001b[A\u001b[A\n",
            "Training [Epoch 6/25]:  38%|███▊      | 12/32 [00:01<00:02,  9.98it/s]\n",
            "\n",
            "\u001b[A\u001b[A\n",
            "\n",
            "\n",
            "Training [Epoch 5/25]: 100%|██████████| 32/32 [00:04<00:00,  7.63it/s]\n",
            "\n",
            "\n",
            "\n",
            "\u001b[A\u001b[A\u001b[A\n",
            "\u001b[A\n",
            "\n",
            "Training [Epoch 6/25]:  44%|████▍     | 14/32 [00:01<00:01,  9.50it/s]\n",
            "\u001b[A\n",
            "\n",
            "\n",
            "Training [Epoch 6/25]:  47%|████▋     | 15/32 [00:01<00:01,  9.17it/s]\n",
            "\u001b[A\n",
            "\n",
            "\n",
            "\u001b[A\u001b[A\u001b[A\n",
            "\n",
            "\u001b[A\u001b[A\n",
            "\n",
            "\n",
            "Training [Epoch 6/25]:  53%|█████▎    | 17/32 [00:01<00:01,  9.53it/s]\n",
            "\u001b[A\n",
            "\n",
            "\u001b[A\u001b[A\n",
            "\n",
            "\n",
            "\u001b[A\u001b[A\u001b[A\n",
            "Training [Epoch 6/25]:  59%|█████▉    | 19/32 [00:02<00:01,  9.85it/s]\n",
            "\n",
            "\n",
            "\u001b[A\u001b[A\u001b[A\n",
            "Training [Epoch 6/25]:  62%|██████▎   | 20/32 [00:02<00:01,  9.65it/s]\n",
            "\n",
            "\u001b[A\u001b[A\n",
            "\n",
            "\n",
            "\u001b[A\u001b[A\u001b[A\n",
            "Training [Epoch 6/25]:  66%|██████▌   | 21/32 [00:02<00:01,  9.13it/s]\n",
            "\n",
            "\n",
            "\u001b[A\u001b[A\u001b[A\n",
            "\n",
            "\u001b[A\u001b[A\n",
            "\u001b[A\n",
            "\n",
            "\n",
            "Training [Epoch 6/25]:  69%|██████▉   | 22/32 [00:02<00:01,  8.09it/s]\n",
            "\u001b[A\n",
            "\n",
            "\u001b[A\u001b[A\n",
            "\n",
            "\n",
            "\u001b[A\u001b[A\u001b[A\n",
            "\n",
            "Training [Epoch 6/25]:  75%|███████▌  | 24/32 [00:02<00:00,  9.16it/s]\n",
            "\u001b[A\n",
            "\n",
            "\n",
            "Training [Epoch 6/25]:  78%|███████▊  | 25/32 [00:02<00:00,  9.18it/s]\n",
            "\u001b[A\n",
            "\n",
            "\u001b[A\u001b[A\n",
            "\n",
            "\n",
            "Training [Epoch 6/25]:  81%|████████▏ | 26/32 [00:02<00:00,  9.02it/s]\n",
            "\n",
            "\n",
            "\u001b[A\u001b[A\u001b[A\n",
            "Training [Epoch 6/25]:  88%|████████▊ | 28/32 [00:02<00:00,  9.73it/s]\n",
            "\n",
            "\u001b[A\u001b[A\n",
            "\u001b[A\n",
            "\n",
            "\n",
            "Training [Epoch 6/25]:  91%|█████████ | 29/32 [00:03<00:00,  9.19it/s]\n",
            "\n",
            "\u001b[A\u001b[A\n",
            "\u001b[A\n",
            "\n",
            "\n",
            "\u001b[A\u001b[A\u001b[A\n",
            "Training [Epoch 6/25]:  97%|█████████▋| 31/32 [00:03<00:00,  9.61it/s]\n",
            "\n",
            "Training [Epoch 6/25]: 100%|██████████| 32/32 [00:03<00:00,  9.38it/s]\n",
            "\n",
            "\n",
            "\n",
            "Training [Epoch 7/25]:   0%|          | 0/32 [00:00<?, ?it/s]\n",
            "\u001b[A\n",
            "\n",
            "\u001b[A\u001b[A\n",
            "\n",
            "\n",
            "Training [Epoch 7/25]:   3%|▎         | 1/32 [00:00<00:04,  7.25it/s]\n",
            "\u001b[A\n",
            "\n",
            "Training [Epoch 7/25]:   6%|▋         | 2/32 [00:00<00:04,  6.09it/s]\n",
            "\n",
            "\n",
            "\u001b[A\u001b[A\u001b[A\n",
            "\n",
            "\u001b[A\u001b[A\n",
            "\u001b[A\n",
            "\u001b[A\n",
            "\n",
            "\n",
            "Training [Epoch 7/25]:  12%|█▎        | 4/32 [00:00<00:03,  7.68it/s]\n",
            "\n",
            "\u001b[A\u001b[A\n",
            "\u001b[A\n",
            "\n",
            "\n",
            "\u001b[A\u001b[A\u001b[A\n",
            "\n",
            "Training [Epoch 7/25]:  19%|█▉        | 6/32 [00:00<00:02,  9.22it/s]\n",
            "\n",
            "\n",
            "\u001b[A\u001b[A\u001b[A\n",
            "\u001b[A\n",
            "\n",
            "Training [Epoch 6/25]: 100%|██████████| 32/32 [00:03<00:00,  8.77it/s]\n",
            "\n",
            "\u001b[A\n",
            "\n",
            "Training [Epoch 7/25]:  25%|██▌       | 8/32 [00:00<00:02,  8.65it/s]\n",
            "\n",
            "\n",
            "\u001b[A\u001b[A\u001b[A\n",
            "Training [Epoch 7/25]:  28%|██▊       | 9/32 [00:01<00:02,  8.53it/s]\n",
            "\n",
            "\u001b[A\u001b[A\n",
            "\n",
            "\n",
            "Training [Epoch 7/25]:  31%|███▏      | 10/32 [00:01<00:02,  8.74it/s]\n",
            "Training [Epoch 6/25]: 100%|██████████| 32/32 [00:03<00:00,  8.25it/s]\n",
            "\n",
            "\u001b[A\n",
            "\n",
            "\u001b[A\u001b[A\n",
            "\n",
            "\n",
            "Training [Epoch 7/25]:  34%|███▍      | 11/32 [00:01<00:02,  8.88it/s]\n",
            "\n",
            "Training [Epoch 6/25]: 100%|██████████| 32/32 [00:03<00:00,  8.31it/s]\n",
            "\n",
            "\n",
            "Training [Epoch 7/25]:  38%|███▊      | 12/32 [00:01<00:02,  8.47it/s]\n",
            "\n",
            "\n",
            "\u001b[A\u001b[A\u001b[A\n",
            "\u001b[A\n",
            "\n",
            "Training [Epoch 7/25]:  41%|████      | 13/32 [00:01<00:02,  8.20it/s]\n",
            "\n",
            "\n",
            "\u001b[A\u001b[A\u001b[A\n",
            "\u001b[A\n",
            "\n",
            "\u001b[A\u001b[A\n",
            "\u001b[A\n",
            "\n",
            "\u001b[A\u001b[A\n",
            "\n",
            "\n",
            "Training [Epoch 7/25]:  47%|████▋     | 15/32 [00:01<00:02,  8.24it/s]\n",
            "\n",
            "\n",
            "Training [Epoch 6/25]: 100%|██████████| 32/32 [00:04<00:00,  7.96it/s]\n",
            "\n",
            "\n",
            "\n",
            "\u001b[A\u001b[A\u001b[A\n",
            "Training [Epoch 7/25]:  50%|█████     | 16/32 [00:01<00:02,  7.45it/s]\n",
            "\n",
            "\u001b[A\u001b[A\n",
            "\n",
            "\n",
            "\u001b[A\u001b[A\u001b[A\n",
            "Training [Epoch 7/25]:  53%|█████▎    | 17/32 [00:02<00:02,  7.22it/s]\n",
            "\n",
            "\u001b[A\u001b[A\n",
            "\n",
            "\n",
            "Training [Epoch 7/25]:  56%|█████▋    | 18/32 [00:02<00:01,  7.80it/s]\n",
            "\u001b[A\n",
            "\n",
            "Training [Epoch 7/25]:  59%|█████▉    | 19/32 [00:02<00:01,  7.32it/s]\n",
            "\n",
            "\n",
            "\u001b[A\u001b[A\u001b[A\n",
            "\n",
            "\u001b[A\u001b[A\n",
            "Training [Epoch 7/25]:  62%|██████▎   | 20/32 [00:02<00:01,  7.53it/s]\n",
            "\n",
            "\n",
            "\u001b[A\u001b[A\u001b[A\n",
            "\n",
            "\u001b[A\u001b[A\n",
            "Training [Epoch 7/25]:  66%|██████▌   | 21/32 [00:02<00:01,  7.51it/s]\n",
            "\n",
            "\n",
            "\u001b[A\u001b[A\u001b[A\n",
            "\n",
            "\u001b[A\u001b[A\n",
            "Training [Epoch 7/25]:  69%|██████▉   | 22/32 [00:02<00:01,  7.67it/s]\n",
            "\n",
            "\n",
            "\u001b[A\u001b[A\u001b[A\n",
            "\n",
            "Training [Epoch 7/25]:  72%|███████▏  | 23/32 [00:02<00:01,  7.53it/s]\n",
            "\u001b[A\n",
            "\n",
            "\n",
            "\u001b[A\u001b[A\u001b[A\n",
            "\n",
            "Training [Epoch 7/25]:  75%|███████▌  | 24/32 [00:03<00:01,  7.05it/s]\n",
            "\u001b[A\n",
            "\n",
            "\n",
            "\u001b[A\u001b[A\u001b[A\n",
            "\n",
            "Training [Epoch 7/25]:  78%|███████▊  | 25/32 [00:03<00:01,  6.70it/s]\n",
            "\u001b[A\n",
            "\n",
            "Training [Epoch 7/25]:  81%|████████▏ | 26/32 [00:03<00:00,  6.96it/s]\n",
            "\n",
            "\n",
            "\u001b[A\u001b[A\u001b[A\n",
            "\u001b[A\n",
            "\n",
            "\u001b[A\u001b[A\n",
            "\n",
            "\n",
            "Training [Epoch 7/25]:  84%|████████▍ | 27/32 [00:03<00:00,  6.45it/s]\n",
            "\u001b[A\n",
            "\n",
            "Training [Epoch 7/25]:  88%|████████▊ | 28/32 [00:03<00:00,  6.75it/s]\n",
            "\n",
            "\n",
            "\u001b[A\u001b[A\u001b[A\n",
            "\u001b[A\n",
            "\n",
            "Training [Epoch 7/25]:  91%|█████████ | 29/32 [00:03<00:00,  6.95it/s]\n",
            "\n",
            "\n",
            "\u001b[A\u001b[A\u001b[A\n",
            "\u001b[A\n",
            "\n",
            "Training [Epoch 7/25]:  97%|█████████▋| 31/32 [00:04<00:00,  7.83it/s]\n",
            "\u001b[A\n",
            "\n",
            "\n",
            "Training [Epoch 7/25]: 100%|██████████| 32/32 [00:04<00:00,  7.71it/s]\n",
            "Training [Epoch 8/25]:   0%|          | 0/32 [00:00<?, ?it/s]\n",
            "\u001b[A\n",
            "\n",
            "\u001b[A\u001b[A\n",
            "\n",
            "\n",
            "Training [Epoch 8/25]:   3%|▎         | 1/32 [00:00<00:05,  5.97it/s]\n",
            "\u001b[A\n",
            "\n",
            "\n",
            "\u001b[A\u001b[A\u001b[A\n",
            "\n",
            "\u001b[A\u001b[A\n",
            "\n",
            "\n",
            "Training [Epoch 8/25]:   9%|▉         | 3/32 [00:00<00:03,  8.52it/s]\n",
            "\u001b[A\n",
            "\n",
            "\u001b[A\u001b[A\n",
            "\n",
            "\n",
            "Training [Epoch 8/25]:  16%|█▌        | 5/32 [00:00<00:02, 10.31it/s]\n",
            "\u001b[A\n",
            "\n",
            "\u001b[A\u001b[A\n",
            "\n",
            "\n",
            "\u001b[A\u001b[A\u001b[A\n",
            "\u001b[A\n",
            "\n",
            "Training [Epoch 8/25]:  22%|██▏       | 7/32 [00:00<00:02,  9.02it/s]\n",
            "\n",
            "\n",
            "\u001b[A\u001b[A\u001b[A\n",
            "\u001b[A\n",
            "\n",
            "\u001b[A\u001b[A\n",
            "\u001b[A\n",
            "\n",
            "\n",
            "Training [Epoch 8/25]:  28%|██▊       | 9/32 [00:00<00:02,  9.22it/s]\n",
            "\n",
            "\u001b[A\u001b[A\n",
            "Training [Epoch 7/25]: 100%|██████████| 32/32 [00:04<00:00,  7.21it/s]\n",
            "\n",
            "\n",
            "\u001b[A\u001b[A\n",
            "\n",
            "\n",
            "Training [Epoch 8/25]:  34%|███▍      | 11/32 [00:01<00:02,  8.29it/s]\n",
            "\u001b[A\n",
            "\n",
            "\u001b[A\u001b[A\n",
            "\n",
            "\n",
            "Training [Epoch 8/25]:  38%|███▊      | 12/32 [00:01<00:02,  8.10it/s]\n",
            "\u001b[A\n",
            "\n",
            "\u001b[A\u001b[A\n",
            "\n",
            "\n",
            "Training [Epoch 7/25]: 100%|██████████| 32/32 [00:04<00:00,  7.51it/s]\n",
            "\n",
            "\n",
            "Training [Epoch 8/25]:  41%|████      | 13/32 [00:01<00:02,  7.95it/s]\n",
            "Training [Epoch 7/25]: 100%|██████████| 32/32 [00:04<00:00,  7.09it/s]\n",
            "\n",
            "\u001b[A\n",
            "\n",
            "\n",
            "\u001b[A\u001b[A\u001b[A\n",
            "\n",
            "Training [Epoch 8/25]:  44%|████▍     | 14/32 [00:01<00:02,  7.61it/s]\n",
            "\u001b[A\n",
            "\n",
            "\n",
            "Training [Epoch 8/25]:  47%|████▋     | 15/32 [00:01<00:02,  7.80it/s]\n",
            "\n",
            "\n",
            "\u001b[A\u001b[A\u001b[A\n",
            "\u001b[A\n",
            "\n",
            "Training [Epoch 7/25]: 100%|██████████| 32/32 [00:04<00:00,  7.67it/s]\n",
            "\n",
            "\n",
            "\n",
            "Training [Epoch 8/25]:  53%|█████▎    | 17/32 [00:01<00:01,  9.10it/s]\n",
            "\u001b[A\n",
            "\n",
            "\u001b[A\u001b[A\n",
            "\n",
            "\n",
            "Training [Epoch 8/25]:  56%|█████▋    | 18/32 [00:02<00:01,  8.91it/s]\n",
            "\u001b[A\n",
            "\n",
            "\u001b[A\u001b[A\n",
            "\n",
            "\n",
            "Training [Epoch 8/25]:  59%|█████▉    | 19/32 [00:02<00:01,  8.26it/s]\n",
            "\u001b[A\n",
            "\n",
            "\u001b[A\u001b[A\n",
            "\n",
            "\n",
            "Training [Epoch 8/25]:  62%|██████▎   | 20/32 [00:02<00:01,  8.27it/s]\n",
            "\u001b[A\n",
            "\n",
            "\u001b[A\u001b[A\n",
            "\n",
            "\n",
            "Training [Epoch 8/25]:  66%|██████▌   | 21/32 [00:02<00:01,  8.02it/s]\n",
            "\u001b[A\n",
            "\n",
            "\n",
            "\u001b[A\u001b[A\u001b[A\n",
            "\n",
            "Training [Epoch 8/25]:  69%|██████▉   | 22/32 [00:02<00:01,  7.82it/s]\n",
            "\u001b[A\n",
            "\n",
            "\n",
            "Training [Epoch 8/25]:  72%|███████▏  | 23/32 [00:02<00:01,  7.76it/s]\n",
            "\n",
            "\u001b[A\u001b[A\n",
            "\u001b[A\n",
            "\n",
            "\n",
            "\u001b[A\u001b[A\u001b[A\n",
            "\n",
            "Training [Epoch 8/25]:  75%|███████▌  | 24/32 [00:02<00:01,  6.58it/s]\n",
            "\u001b[A\n",
            "\n",
            "\n",
            "\u001b[A\u001b[A\u001b[A\n",
            "\n",
            "Training [Epoch 8/25]:  78%|███████▊  | 25/32 [00:03<00:01,  6.72it/s]\n",
            "\u001b[A\n",
            "\n",
            "\n",
            "Training [Epoch 8/25]:  81%|████████▏ | 26/32 [00:03<00:00,  6.64it/s]\n",
            "\n",
            "\u001b[A\u001b[A\n",
            "\n",
            "\n",
            "\u001b[A\u001b[A\u001b[A\n",
            "Training [Epoch 8/25]:  84%|████████▍ | 27/32 [00:03<00:00,  6.87it/s]\n",
            "\n",
            "\u001b[A\u001b[A\n",
            "\u001b[A\n",
            "\n",
            "\n",
            "\u001b[A\u001b[A\u001b[A\n",
            "\n",
            "\u001b[A\u001b[A\n",
            "Training [Epoch 8/25]:  91%|█████████ | 29/32 [00:03<00:00,  7.76it/s]\n",
            "\n",
            "\n",
            "\u001b[A\u001b[A\u001b[A\n",
            "\n",
            "\u001b[A\u001b[A\n",
            "Training [Epoch 8/25]:  94%|█████████▍| 30/32 [00:03<00:00,  8.02it/s]\n",
            "\n",
            "\n",
            "\u001b[A\u001b[A\u001b[A\n",
            "\n",
            "\u001b[A\u001b[A\n",
            "Training [Epoch 8/25]:  97%|█████████▋| 31/32 [00:03<00:00,  8.42it/s]\n",
            "\n",
            "\u001b[A\u001b[A\n",
            "\n",
            "\n",
            "\u001b[A\u001b[A\u001b[A\n",
            "Training [Epoch 8/25]: 100%|██████████| 32/32 [00:04<00:00,  7.98it/s]\n",
            "\n",
            "\n",
            "Training [Epoch 9/25]:   0%|          | 0/32 [00:00<?, ?it/s]\n",
            "\n",
            "\n",
            "\u001b[A\u001b[A\u001b[A\n",
            "\u001b[A\n",
            "\n",
            "Training [Epoch 9/25]:   3%|▎         | 1/32 [00:00<00:05,  5.56it/s]\n",
            "\n",
            "\n",
            "\u001b[A\u001b[A\u001b[A\n",
            "Training [Epoch 9/25]:   6%|▋         | 2/32 [00:00<00:04,  6.43it/s]\n",
            "\n",
            "\n",
            "\u001b[A\u001b[A\u001b[A\n",
            "\n",
            "\u001b[A\u001b[A\n",
            "Training [Epoch 9/25]:   9%|▉         | 3/32 [00:00<00:04,  7.23it/s]\n",
            "\n",
            "\n",
            "\u001b[A\u001b[A\u001b[A\n",
            "Training [Epoch 9/25]:  12%|█▎        | 4/32 [00:00<00:03,  7.57it/s]\n",
            "\n",
            "\u001b[A\u001b[A\n",
            "\n",
            "\n",
            "Training [Epoch 9/25]:  16%|█▌        | 5/32 [00:00<00:03,  7.74it/s]\n",
            "\u001b[A\n",
            "\n",
            "\n",
            "\u001b[A\u001b[A\u001b[A\n",
            "\n",
            "Training [Epoch 9/25]:  19%|█▉        | 6/32 [00:00<00:03,  7.96it/s]\n",
            "\u001b[A\n",
            "\n",
            "\n",
            "\u001b[A\u001b[A\u001b[A\n",
            "\n",
            "\u001b[A\u001b[A\n",
            "Training [Epoch 9/25]:  22%|██▏       | 7/32 [00:00<00:03,  7.07it/s]\n",
            "\n",
            "\n",
            "\u001b[A\u001b[A\u001b[A\n",
            "\n",
            "\u001b[A\u001b[A\n",
            "Training [Epoch 9/25]:  25%|██▌       | 8/32 [00:01<00:03,  7.06it/s]\n",
            "\n",
            "\n",
            "\u001b[A\u001b[A\u001b[A\n",
            "\n",
            "\u001b[A\u001b[A\n",
            "Training [Epoch 9/25]:  28%|██▊       | 9/32 [00:01<00:03,  6.92it/s]\n",
            "\n",
            "\n",
            "\u001b[A\u001b[A\u001b[A\n",
            "\u001b[A\n",
            "\n",
            "Training [Epoch 9/25]:  31%|███▏      | 10/32 [00:01<00:03,  7.18it/s]\n",
            "\n",
            "\n",
            "Training [Epoch 8/25]: 100%|██████████| 32/32 [00:04<00:00,  7.44it/s]\n",
            "\n",
            "\u001b[A\n",
            "\n",
            "Training [Epoch 9/25]:  34%|███▍      | 11/32 [00:01<00:03,  6.92it/s]\n",
            "\n",
            "\n",
            "\u001b[A\u001b[A\u001b[A\n",
            "\n",
            "\u001b[A\u001b[A\n",
            "Training [Epoch 9/25]:  38%|███▊      | 12/32 [00:01<00:02,  7.45it/s]\n",
            "\n",
            "\u001b[A\u001b[A\n",
            "\n",
            "\n",
            "Training [Epoch 9/25]:  41%|████      | 13/32 [00:01<00:02,  7.86it/s]\n",
            "\u001b[A\n",
            "\n",
            "Training [Epoch 9/25]:  44%|████▍     | 14/32 [00:01<00:02,  7.99it/s]\n",
            "\u001b[A\n",
            "\n",
            "\n",
            "\u001b[A\u001b[A\u001b[A\n",
            "\n",
            "Training [Epoch 8/25]: 100%|██████████| 32/32 [00:04<00:00,  7.10it/s]\n",
            "\n",
            "\n",
            "Training [Epoch 8/25]: 100%|██████████| 32/32 [00:04<00:00,  7.17it/s]\n",
            "\n",
            "Training [Epoch 9/25]:  50%|█████     | 16/32 [00:02<00:01,  9.18it/s]\n",
            "\n",
            "\n",
            "\u001b[A\u001b[A\u001b[A\n",
            "Training [Epoch 9/25]:  53%|█████▎    | 17/32 [00:02<00:01,  9.20it/s]\n",
            "\n",
            "\u001b[A\u001b[A\n",
            "\n",
            "\n",
            "\u001b[A\u001b[A\u001b[A\n",
            "\u001b[A\n",
            "\n",
            "Training [Epoch 9/25]:  59%|█████▉    | 19/32 [00:02<00:01,  8.98it/s]\n",
            "\n",
            "\n",
            "Training [Epoch 8/25]: 100%|██████████| 32/32 [00:04<00:00,  7.06it/s]\n",
            "\n",
            "\n",
            "\n",
            "\u001b[A\u001b[A\u001b[A\n",
            "Training [Epoch 9/25]:  66%|██████▌   | 21/32 [00:02<00:01,  9.97it/s]\n",
            "\n",
            "\u001b[A\u001b[A\n",
            "\n",
            "\n",
            "\u001b[A\u001b[A\u001b[A\n",
            "\u001b[A\n",
            "\n",
            "\n",
            "Training [Epoch 9/25]:  72%|███████▏  | 23/32 [00:02<00:00,  9.46it/s]\n",
            "\n",
            "\u001b[A\u001b[A\n",
            "\n",
            "\n",
            "Training [Epoch 9/25]:  75%|███████▌  | 24/32 [00:02<00:00,  9.34it/s]\n",
            "\u001b[A\n",
            "\n",
            "\u001b[A\u001b[A\n",
            "\n",
            "\n",
            "\u001b[A\u001b[A\u001b[A\n",
            "\u001b[A\n",
            "\n",
            "Training [Epoch 9/25]:  81%|████████▏ | 26/32 [00:03<00:00,  9.99it/s]\n",
            "\n",
            "\n",
            "\u001b[A\u001b[A\u001b[A\n",
            "\n",
            "\u001b[A\u001b[A\n",
            "Training [Epoch 9/25]:  84%|████████▍ | 27/32 [00:03<00:00,  9.18it/s]\n",
            "\n",
            "\n",
            "Training [Epoch 9/25]:  88%|████████▊ | 28/32 [00:03<00:00,  9.34it/s]\n",
            "\n",
            "\n",
            "\u001b[A\u001b[A\u001b[A\n",
            "\n",
            "\u001b[A\u001b[A\n",
            "Training [Epoch 9/25]:  91%|█████████ | 29/32 [00:03<00:00,  8.72it/s]\n",
            "\n",
            "\n",
            "\u001b[A\u001b[A\u001b[A\n",
            "\n",
            "\u001b[A\u001b[A\n",
            "\n",
            "\u001b[A\u001b[A\n",
            "\u001b[A\n",
            "\n",
            "\n",
            "Training [Epoch 9/25]:  97%|█████████▋| 31/32 [00:03<00:00,  8.88it/s]\n",
            "\n",
            "Training [Epoch 9/25]: 100%|██████████| 32/32 [00:03<00:00,  8.35it/s]\n",
            "Training [Epoch 10/25]:   0%|          | 0/32 [00:00<?, ?it/s]\n",
            "\n",
            "\n",
            "\u001b[A\u001b[A\u001b[A\n",
            "\n",
            "\u001b[A\u001b[A\n",
            "Training [Epoch 10/25]:   3%|▎         | 1/32 [00:00<00:04,  7.05it/s]\n",
            "\n",
            "\u001b[A\u001b[A\n",
            "\n",
            "\n",
            "\u001b[A\u001b[A\u001b[A\n",
            "Training [Epoch 10/25]:   6%|▋         | 2/32 [00:00<00:04,  6.69it/s]\n",
            "\n",
            "\u001b[A\u001b[A\n",
            "\n",
            "\n",
            "\u001b[A\u001b[A\u001b[A\n",
            "\u001b[A\n",
            "\n",
            "Training [Epoch 10/25]:   9%|▉         | 3/32 [00:00<00:04,  5.98it/s]\n",
            "\n",
            "\n",
            "\u001b[A\u001b[A\u001b[A\n",
            "Training [Epoch 10/25]:  12%|█▎        | 4/32 [00:00<00:03,  7.08it/s]\n",
            "\n",
            "\n",
            "Training [Epoch 10/25]:  16%|█▌        | 5/32 [00:00<00:03,  7.91it/s]\n",
            "\n",
            "\u001b[A\u001b[A\n",
            "\u001b[A\n",
            "\n",
            "\n",
            "Training [Epoch 10/25]:  19%|█▉        | 6/32 [00:00<00:03,  8.06it/s]\n",
            "\u001b[A\n",
            "\n",
            "Training [Epoch 10/25]:  22%|██▏       | 7/32 [00:00<00:02,  8.37it/s]\n",
            "\n",
            "\n",
            "\u001b[A\u001b[A\u001b[A\n",
            "\n",
            "\u001b[A\u001b[A\n",
            "\n",
            "\n",
            "\u001b[A\u001b[A\u001b[A\n",
            "Training [Epoch 10/25]:  25%|██▌       | 8/32 [00:01<00:03,  7.36it/s]\n",
            "\n",
            "\n",
            "Training [Epoch 10/25]:  28%|██▊       | 9/32 [00:01<00:02,  8.01it/s]\n",
            "\n",
            "\u001b[A\u001b[A\n",
            "\u001b[A\n",
            "\n",
            "\n",
            "Training [Epoch 10/25]:  31%|███▏      | 10/32 [00:01<00:02,  7.77it/s]\n",
            "\n",
            "\u001b[A\u001b[A\n",
            "Training [Epoch 9/25]: 100%|██████████| 32/32 [00:03<00:00,  8.41it/s]\n",
            "\n",
            "\n",
            "\n",
            "Training [Epoch 10/25]:  38%|███▊      | 12/32 [00:01<00:02,  9.57it/s]\n",
            "\n",
            "\u001b[A\u001b[A\n",
            "\u001b[A\n",
            "\n",
            "\n",
            "Training [Epoch 10/25]:  41%|████      | 13/32 [00:01<00:02,  8.45it/s]\n",
            "\n",
            "\u001b[A\u001b[A\n",
            "\n",
            "\n",
            "\u001b[A\u001b[A\u001b[A\n",
            "\u001b[A\n",
            "\n",
            "\u001b[A\u001b[A\n",
            "\n",
            "\n",
            "Training [Epoch 10/25]:  47%|████▋     | 15/32 [00:01<00:01,  8.66it/s]\n",
            "\u001b[A\n",
            "\n",
            "\u001b[A\u001b[A\n",
            "\n",
            "\n",
            "Training [Epoch 10/25]:  50%|█████     | 16/32 [00:01<00:01,  8.50it/s]\n",
            "\u001b[A\n",
            "\n",
            "Training [Epoch 9/25]: 100%|██████████| 32/32 [00:03<00:00,  8.24it/s]\n",
            "\n",
            "\n",
            "\u001b[A\u001b[A\n",
            "\n",
            "\n",
            "Training [Epoch 10/25]:  53%|█████▎    | 17/32 [00:02<00:01,  8.36it/s]\n",
            "Training [Epoch 9/25]: 100%|██████████| 32/32 [00:03<00:00,  8.08it/s]\n",
            "\n",
            "\u001b[A\n",
            "\n",
            "\n",
            "\u001b[A\u001b[A\u001b[A\n",
            "\n",
            "\u001b[A\u001b[A\n",
            "Training [Epoch 10/25]:  56%|█████▋    | 18/32 [00:02<00:01,  7.37it/s]\n",
            "\n",
            "\u001b[A\u001b[A\n",
            "\u001b[A\n",
            "\n",
            "\n",
            "\u001b[A\u001b[A\u001b[A\n",
            "\n",
            "Training [Epoch 10/25]:  62%|██████▎   | 20/32 [00:02<00:01,  8.33it/s]\n",
            "\u001b[A\n",
            "\n",
            "\n",
            "\u001b[A\u001b[A\u001b[A\n",
            "\n",
            "Training [Epoch 10/25]:  66%|██████▌   | 21/32 [00:02<00:01,  7.81it/s]\n",
            "\u001b[A\n",
            "\n",
            "\n",
            "Training [Epoch 9/25]: 100%|██████████| 32/32 [00:04<00:00,  7.79it/s]\n",
            "\n",
            "\n",
            "\n",
            "\u001b[A\u001b[A\u001b[A\n",
            "\n",
            "Training [Epoch 10/25]:  69%|██████▉   | 22/32 [00:02<00:01,  7.71it/s]\n",
            "\u001b[A\n",
            "\n",
            "\n",
            "\u001b[A\u001b[A\u001b[A\n",
            "\n",
            "Training [Epoch 10/25]:  72%|███████▏  | 23/32 [00:03<00:01,  6.16it/s]\n",
            "\n",
            "\n",
            "\u001b[A\u001b[A\u001b[A\n",
            "\u001b[A\n",
            "\n",
            "Training [Epoch 10/25]:  75%|███████▌  | 24/32 [00:03<00:01,  6.40it/s]\n",
            "\n",
            "\n",
            "\u001b[A\u001b[A\u001b[A\n",
            "\u001b[A\n",
            "\n",
            "Training [Epoch 10/25]:  78%|███████▊  | 25/32 [00:03<00:00,  7.10it/s]\n",
            "\u001b[A\n",
            "\n",
            "Training [Epoch 10/25]:  81%|████████▏ | 26/32 [00:03<00:00,  7.08it/s]\n",
            "\n",
            "\n",
            "\u001b[A\u001b[A\u001b[A\n",
            "\u001b[A\n",
            "\n",
            "\u001b[A\u001b[A\n",
            "\n",
            "\n",
            "\u001b[A\u001b[A\u001b[A\n",
            "Training [Epoch 10/25]:  84%|████████▍ | 27/32 [00:03<00:00,  6.69it/s]\n",
            "\u001b[A\n",
            "\n",
            "\n",
            "Training [Epoch 10/25]:  88%|████████▊ | 28/32 [00:03<00:00,  6.28it/s]\n",
            "\u001b[A\n",
            "\n",
            "\u001b[A\u001b[A\n",
            "\n",
            "\n",
            "Training [Epoch 10/25]:  91%|█████████ | 29/32 [00:03<00:00,  6.30it/s]\n",
            "\u001b[A\n",
            "\n",
            "\u001b[A\u001b[A\n",
            "\n",
            "\n",
            "Training [Epoch 10/25]:  94%|█████████▍| 30/32 [00:04<00:00,  6.37it/s]\n",
            "\u001b[A\n",
            "\n",
            "\u001b[A\u001b[A\n",
            "\n",
            "\n",
            "Training [Epoch 10/25]:  97%|█████████▋| 31/32 [00:04<00:00,  7.01it/s]\n",
            "\n",
            "\n",
            "\u001b[A\u001b[A\u001b[A\n",
            "\n",
            "Training [Epoch 10/25]: 100%|██████████| 32/32 [00:04<00:00,  7.38it/s]\n",
            "Training [Epoch 11/25]:   0%|          | 0/32 [00:00<?, ?it/s]\n",
            "\u001b[A\n",
            "\n",
            "\n",
            "\u001b[A\u001b[A\u001b[A\n",
            "\n",
            "Training [Epoch 11/25]:   3%|▎         | 1/32 [00:00<00:04,  6.59it/s]\n",
            "\u001b[A\n",
            "\n",
            "\u001b[A\u001b[A\n",
            "\n",
            "\n",
            "Training [Epoch 11/25]:   6%|▋         | 2/32 [00:00<00:04,  6.68it/s]\n",
            "\n",
            "\u001b[A\u001b[A\n",
            "\u001b[A\n",
            "\n",
            "\n",
            "Training [Epoch 11/25]:  12%|█▎        | 4/32 [00:00<00:03,  8.51it/s]\n",
            "\n",
            "\u001b[A\u001b[A\n",
            "\u001b[A\n",
            "\n",
            "\n",
            "Training [Epoch 11/25]:  19%|█▉        | 6/32 [00:00<00:02,  8.79it/s]\n",
            "\n",
            "\u001b[A\u001b[A\n",
            "\n",
            "\n",
            "\u001b[A\u001b[A\u001b[A\n",
            "\u001b[A\n",
            "\n",
            "Training [Epoch 11/25]:  22%|██▏       | 7/32 [00:00<00:02,  8.34it/s]\n",
            "\n",
            "\n",
            "\u001b[A\u001b[A\u001b[A\n",
            "Training [Epoch 11/25]:  25%|██▌       | 8/32 [00:00<00:02,  8.30it/s]\n",
            "\n",
            "\u001b[A\u001b[A\n",
            "\n",
            "\n",
            "Training [Epoch 11/25]:  28%|██▊       | 9/32 [00:01<00:02,  8.61it/s]\n",
            "\n",
            "\n",
            "Training [Epoch 10/25]: 100%|██████████| 32/32 [00:04<00:00,  7.92it/s]\n",
            "\n",
            "\u001b[A\n",
            "\n",
            "Training [Epoch 11/25]:  34%|███▍      | 11/32 [00:01<00:02,  9.89it/s]\n",
            "\n",
            "\u001b[A\u001b[A\n",
            "\n",
            "\n",
            "Training [Epoch 11/25]:  38%|███▊      | 12/32 [00:01<00:02,  9.35it/s]\n",
            "\u001b[A\n",
            "\n",
            "\u001b[A\u001b[A\n",
            "\n",
            "\n",
            "\u001b[A\u001b[A\u001b[A\n",
            "Training [Epoch 11/25]:  41%|████      | 13/32 [00:01<00:02,  8.82it/s]\n",
            "\n",
            "\u001b[A\u001b[A\n",
            "Training [Epoch 11/25]:  44%|████▍     | 14/32 [00:01<00:02,  8.56it/s]\n",
            "\n",
            "\n",
            "\u001b[A\u001b[A\u001b[A\n",
            "\n",
            "\u001b[A\u001b[A\n",
            "Training [Epoch 11/25]:  47%|████▋     | 15/32 [00:01<00:02,  8.35it/s]\n",
            "\n",
            "\n",
            "\u001b[A\u001b[A\u001b[A\n",
            "\u001b[A\n",
            "\n",
            "\u001b[A\u001b[A\n",
            "Training [Epoch 10/25]: 100%|██████████| 32/32 [00:04<00:00,  7.70it/s]\n",
            "Training [Epoch 11/25]:  53%|█████▎    | 17/32 [00:01<00:01,  8.69it/s]\n",
            "\u001b[A\n",
            "\n",
            "\u001b[A\u001b[A\n",
            "\n",
            "\n",
            "Training [Epoch 10/25]: 100%|██████████| 32/32 [00:04<00:00,  7.48it/s]\n",
            "\n",
            "\n",
            "\u001b[A\u001b[A\n",
            "Training [Epoch 11/25]:  56%|█████▋    | 18/32 [00:02<00:01,  8.39it/s]\n",
            "\n",
            "\u001b[A\u001b[A\n",
            "\n",
            "\n",
            "\u001b[A\u001b[A\u001b[A\n",
            "Training [Epoch 11/25]:  59%|█████▉    | 19/32 [00:02<00:01,  8.35it/s]\n",
            "\n",
            "\n",
            "\u001b[A\u001b[A\u001b[A\n",
            "\n",
            "Training [Epoch 11/25]:  62%|██████▎   | 20/32 [00:02<00:01,  8.73it/s]\n",
            "\u001b[A\n",
            "\n",
            "\u001b[A\u001b[A\n",
            "\n",
            "\n",
            "Training [Epoch 10/25]: 100%|██████████| 32/32 [00:03<00:00,  8.06it/s]\n",
            "\n",
            "\n",
            "\n",
            "Training [Epoch 11/25]:  66%|██████▌   | 21/32 [00:02<00:01,  8.70it/s]\n",
            "\u001b[A\n",
            "\n",
            "\u001b[A\u001b[A\n",
            "\n",
            "\n",
            "Training [Epoch 11/25]:  69%|██████▉   | 22/32 [00:02<00:01,  8.10it/s]\n",
            "\u001b[A\n",
            "\n",
            "Training [Epoch 11/25]:  72%|███████▏  | 23/32 [00:02<00:01,  8.53it/s]\n",
            "\n",
            "\n",
            "\u001b[A\u001b[A\u001b[A\n",
            "\n",
            "\u001b[A\u001b[A\n",
            "Training [Epoch 11/25]:  75%|███████▌  | 24/32 [00:02<00:01,  6.92it/s]\n",
            "\n",
            "\n",
            "\u001b[A\u001b[A\u001b[A\n",
            "\n",
            "\u001b[A\u001b[A\n",
            "\n",
            "\n",
            "Training [Epoch 11/25]:  78%|███████▊  | 25/32 [00:03<00:01,  6.98it/s]\n",
            "\n",
            "\u001b[A\u001b[A\n",
            "\u001b[A\n",
            "\n",
            "\n",
            "Training [Epoch 11/25]:  81%|████████▏ | 26/32 [00:03<00:00,  6.86it/s]\n",
            "\n",
            "\u001b[A\u001b[A\n",
            "\u001b[A\n",
            "\n",
            "\n",
            "Training [Epoch 11/25]:  84%|████████▍ | 27/32 [00:03<00:00,  7.43it/s]\n",
            "\u001b[A\n",
            "\n",
            "Training [Epoch 11/25]:  88%|████████▊ | 28/32 [00:03<00:00,  7.76it/s]\n",
            "\n",
            "\n",
            "\u001b[A\u001b[A\u001b[A\n",
            "\u001b[A\n",
            "\n",
            "Training [Epoch 11/25]:  91%|█████████ | 29/32 [00:03<00:00,  7.81it/s]\n",
            "\n",
            "\n",
            "\u001b[A\u001b[A\u001b[A\n",
            "\u001b[A\n",
            "\n",
            "Training [Epoch 11/25]:  94%|█████████▍| 30/32 [00:03<00:00,  7.80it/s]\n",
            "\u001b[A\n",
            "\n",
            "\n",
            "\u001b[A\u001b[A\u001b[A\n",
            "\n",
            "Training [Epoch 11/25]:  97%|█████████▋| 31/32 [00:03<00:00,  8.08it/s]\n",
            "\u001b[A\n",
            "\n",
            "\n",
            "Training [Epoch 11/25]: 100%|██████████| 32/32 [00:03<00:00,  8.06it/s]\n",
            "Training [Epoch 12/25]:   0%|          | 0/32 [00:00<?, ?it/s]\n",
            "\u001b[A\n",
            "\n",
            "\n",
            "\u001b[A\u001b[A\u001b[A\n",
            "\n",
            "\u001b[A\u001b[A\n",
            "\u001b[A\n",
            "\n",
            "\n",
            "Training [Epoch 12/25]:   6%|▋         | 2/32 [00:00<00:03,  9.45it/s]\n",
            "\n",
            "\u001b[A\u001b[A\n",
            "\u001b[A\n",
            "\n",
            "\n",
            "\u001b[A\u001b[A\u001b[A\n",
            "\n",
            "\u001b[A\u001b[A\n",
            "\n",
            "\n",
            "Training [Epoch 12/25]:  12%|█▎        | 4/32 [00:00<00:02,  9.82it/s]\n",
            "\u001b[A"
          ]
        }
      ],
      "source": [
        "parameters_for_each_round, hist = run_simulation_frank_wolfe()"
      ]
    },
    {
      "cell_type": "code",
      "execution_count": null,
      "metadata": {},
      "outputs": [],
      "source": [
        "parameters_for_each_round_fedavg, hist_fedavg = run_simulation_fedavg()"
      ]
    },
    {
      "cell_type": "code",
      "execution_count": null,
      "metadata": {},
      "outputs": [],
      "source": [
        "hist"
      ]
    },
    {
      "cell_type": "code",
      "execution_count": null,
      "metadata": {},
      "outputs": [],
      "source": [
        "hist_fedavg"
      ]
    },
    {
      "cell_type": "code",
      "execution_count": null,
      "metadata": {},
      "outputs": [],
      "source": [
        "import json\n",
        "import os\n",
        "from pathlib import Path\n",
        "\n",
        "save_dir = Path.cwd() / \"../../fed_results\"\n",
        "save_dir.mkdir(exist_ok=True)\n",
        "\n",
        "# Convert the history objects to dictionaries\n",
        "hist_dict = {\n",
        "    \"metrics_centralized\": hist.metrics_centralized,\n",
        "    \"losses_centralized\": hist.losses_centralized,\n",
        "    \"metrics_distributed_fit\": hist.metrics_distributed_fit,\n",
        "    \"metrics_distributed\": hist.metrics_distributed,\n",
        "    \"losses_distributed\": hist.losses_distributed,\n",
        "}\n",
        "\n",
        "hist_fedavg_dict = {\n",
        "    \"metrics_centralized\": hist_fedavg.metrics_centralized,\n",
        "    \"losses_centralized\": hist_fedavg.losses_centralized,\n",
        "    \"metrics_distributed_fit\": hist_fedavg.metrics_distributed_fit,\n",
        "    \"losses_distributed\": hist_fedavg.losses_distributed,\n",
        "    \"metrics_distributed\": hist_fedavg.metrics_distributed,\n",
        "}\n",
        "\n",
        "results_data = {\n",
        "    \"c2m3\": {\n",
        "        \"history\": hist_dict\n",
        "    },\n",
        "    \"fedavg\": {\n",
        "        \"history\": hist_fedavg_dict\n",
        "    }\n",
        "}\n",
        "\n",
        "# Save to a JSON file\n",
        "with open(save_dir / f\"flwr_LR_0.01_{Seeds.DEFAULT}.json\", \"w\") as f:\n",
        "    json.dump(results_data, f, indent=2)\n",
        "\n",
        "print(f\"Results saved to {save_dir / 'flower_simulation_results.json'}\")"
      ]
    },
    {
      "cell_type": "code",
      "execution_count": 24,
      "metadata": {},
      "outputs": [],
      "source": [
        "import matplotlib.pyplot as plt\n",
        "\n",
        "def plot_metrics(hist1, hist2, legend_labels=['FrankWolfe', 'FedAvg'], save_path=None):\n",
        "    \n",
        "    acc1 = hist1.metrics_centralized['accuracy']\n",
        "    rounds_acc1, acc_values1 = zip(*acc1)\n",
        "    \n",
        "    acc2 = hist2.metrics_centralized['accuracy']\n",
        "    rounds_acc2, acc_values2 = zip(*acc2)\n",
        "    \n",
        "    loss1 = hist1.losses_centralized\n",
        "    rounds_loss1, loss_values1 = zip(*loss1)\n",
        "    \n",
        "    loss2 = hist2.losses_centralized\n",
        "    rounds_loss2, loss_values2 = zip(*loss2)\n",
        "    \n",
        "    fig, axs = plt.subplots(2, 1, figsize=(12, 10))\n",
        "    \n",
        "    axs[0].plot(rounds_acc1, acc_values1, 'o-', color='blue', linewidth=2, markersize=8, \n",
        "               label=f'{legend_labels[0]} Accuracy')\n",
        "    axs[0].plot(rounds_acc2, acc_values2, 's-', color='cyan', linewidth=2, markersize=8, \n",
        "               label=f'{legend_labels[1]} Accuracy')\n",
        "    \n",
        "    axs[0].set_title('Accuracy Comparison', fontsize=14)\n",
        "    axs[0].set_xlabel('Round Number', fontsize=12)\n",
        "    axs[0].set_ylabel('Accuracy', fontsize=12)\n",
        "    axs[0].grid(True, linestyle='--', alpha=0.7)\n",
        "    axs[0].legend(loc='best')\n",
        "    \n",
        "    all_rounds_acc = sorted(list(set(rounds_acc1 + rounds_acc2)))\n",
        "    axs[0].set_xticks(all_rounds_acc)\n",
        "    \n",
        "    axs[1].plot(rounds_loss1, loss_values1, 'o-', color='red', linewidth=2, markersize=8, \n",
        "               label=f'{legend_labels[0]} Loss')\n",
        "    axs[1].plot(rounds_loss2, loss_values2, 's-', color='orange', linewidth=2, markersize=8, \n",
        "               label=f'{legend_labels[1]} Loss')\n",
        "    \n",
        "    axs[1].set_title('Loss Comparison', fontsize=14)\n",
        "    axs[1].set_xlabel('Round Number', fontsize=12)\n",
        "    axs[1].set_ylabel('Loss', fontsize=12)\n",
        "    axs[1].grid(True, linestyle='--', alpha=0.7)\n",
        "    axs[1].legend(loc='best')"
      ]
    },
    {
      "cell_type": "code",
      "execution_count": null,
      "metadata": {},
      "outputs": [],
      "source": [
        "plot_metrics(hist, hist_fedavg)"
      ]
    },
    {
      "cell_type": "code",
      "execution_count": 26,
      "metadata": {
        "colab": {
          "base_uri": "https://localhost:8080/"
        },
        "id": "1CMXI3Uz3D1M",
        "outputId": "78b78966-9748-424a-94ed-c005ee70e844"
      },
      "outputs": [],
      "source": [
        "# log(\n",
        "#     INFO,\n",
        "#     \"Size of the list with the model parameters: %s\",\n",
        "#     len(parameters_for_each_round),\n",
        "# )"
      ]
    }
  ],
  "metadata": {
    "accelerator": "GPU",
    "colab": {
      "gpuType": "L4",
      "include_colab_link": true,
      "provenance": []
    },
    "kernelspec": {
      "display_name": "fed",
      "language": "python",
      "name": "python3"
    },
    "language_info": {
      "codemirror_mode": {
        "name": "ipython",
        "version": 3
      },
      "file_extension": ".py",
      "mimetype": "text/x-python",
      "name": "python",
      "nbconvert_exporter": "python",
      "pygments_lexer": "ipython3",
      "version": "3.10.12"
    }
  },
  "nbformat": 4,
  "nbformat_minor": 0
}
