{
  "cells": [
    {
      "cell_type": "markdown",
      "metadata": {
        "colab_type": "text",
        "id": "view-in-github"
      },
      "source": [
        "<a href=\"https://colab.research.google.com/github/DawnSpider96/L361-Federated-Learning/blob/release/Copy_of_L361_2025_Lab_1_From_Centralised_To_Federated_Part_2.ipynb\" target=\"_parent\"><img src=\"https://colab.research.google.com/assets/colab-badge.svg\" alt=\"Open In Colab\"/></a>"
      ]
    },
    {
      "cell_type": "markdown",
      "metadata": {
        "id": "Y1P9epXi-IZ0"
      },
      "source": [
        "## Dependencies\n",
        "---\n"
      ]
    },
    {
      "cell_type": "code",
      "execution_count": 1,
      "metadata": {
        "id": "fTM8comw-IZ2"
      },
      "outputs": [],
      "source": [
        "# `pip` could produce some errors. Do not worry about them.\n",
        "# The execution has been verified; it's working anyway.\n",
        "# ! pip install --quiet --upgrade \"pip\"\n",
        "# ! pip install --quiet matplotlib tqdm seaborn\n",
        "# ! pip install git+https://github.com/Iacob-Alexandru-Andrei/flower.git@teaching \\\n",
        "#     torch torchvision ray==\"2.6.3\""
      ]
    },
    {
      "cell_type": "markdown",
      "metadata": {
        "id": "_zl2hUa1-IZ2"
      },
      "source": [
        "### Imports.\n"
      ]
    },
    {
      "cell_type": "code",
      "execution_count": 2,
      "metadata": {},
      "outputs": [],
      "source": [
        "# import sys\n",
        "# sys.path.append('../../')\n",
        "# print(sys.path)"
      ]
    },
    {
      "cell_type": "code",
      "execution_count": 3,
      "metadata": {
        "id": "Z7xM_SyD-IZ4"
      },
      "outputs": [
        {
          "name": "stderr",
          "output_type": "stream",
          "text": [
            "2025-03-15 22:03:45.549179: I tensorflow/tsl/cuda/cudart_stub.cc:28] Could not find cuda drivers on your machine, GPU will not be used.\n",
            "2025-03-15 22:03:45.721313: I tensorflow/core/platform/cpu_feature_guard.cc:182] This TensorFlow binary is optimized to use available CPU instructions in performance-critical operations.\n",
            "To enable the following instructions: AVX2 FMA, in other operations, rebuild TensorFlow with the appropriate compiler flags.\n",
            "2025-03-15 22:03:46.650238: W tensorflow/compiler/tf2tensorrt/utils/py_utils.cc:38] TF-TRT Warning: Could not find TensorRT\n",
            "/home/dawn/venvs/fed/lib/python3.10/site-packages/tqdm/auto.py:21: TqdmWarning: IProgress not found. Please update jupyter and ipywidgets. See https://ipywidgets.readthedocs.io/en/stable/user_install.html\n",
            "  from .autonotebook import tqdm as notebook_tqdm\n",
            "2025-03-15 22:03:48,846\tINFO util.py:159 -- Missing packages: ['ipywidgets']. Run `pip install -U ipywidgets`, then restart the notebook server for rich notebook output.\n"
          ]
        }
      ],
      "source": [
        "import random\n",
        "from pathlib import Path\n",
        "import tarfile\n",
        "from typing import Any\n",
        "from logging import INFO\n",
        "from collections import defaultdict, OrderedDict\n",
        "from collections.abc import Sequence, Callable\n",
        "import numbers\n",
        "\n",
        "import numpy as np\n",
        "import torch\n",
        "from torch import nn\n",
        "from torch.nn import Module\n",
        "from torch.utils.data import DataLoader, Dataset\n",
        "from enum import IntEnum\n",
        "import flwr\n",
        "from flwr.server import History, ServerConfig\n",
        "from flwr.server.strategy import FedAvgM as FedAvg, Strategy\n",
        "from c2m3.flower.fed_frank_wolfe_strategy import FrankWolfeSync\n",
        "from flwr.common import log, NDArrays, Scalar, Parameters, ndarrays_to_parameters\n",
        "from flwr.client.client import Client\n",
        "\n",
        "from c2m3.common.client_utils import (\n",
        "    Net,\n",
        "    load_femnist_dataset,\n",
        "    get_network_generator_cnn as get_network_generator,\n",
        "    train_femnist,\n",
        "    test_femnist,\n",
        "    save_history,\n",
        "    get_model_parameters,\n",
        "    set_model_parameters\n",
        ")\n",
        "\n",
        "\n",
        "# Add new seeds here for easy autocomplete\n",
        "class Seeds(IntEnum):\n",
        "    \"\"\"Seeds for reproducibility.\"\"\"\n",
        "\n",
        "    DEFAULT = 1337\n",
        "\n",
        "\n",
        "np.random.seed(Seeds.DEFAULT)\n",
        "random.seed(Seeds.DEFAULT)\n",
        "torch.manual_seed(Seeds.DEFAULT)\n",
        "torch.backends.cudnn.benchmark = False\n",
        "torch.backends.cudnn.deterministic = True\n",
        "\n",
        "\n",
        "PathType = Path | str | None\n",
        "\n",
        "\n",
        "def get_device() -> str:\n",
        "    \"\"\"Get the device (cuda, mps, cpu).\"\"\"\n",
        "    device = \"cpu\"\n",
        "    if torch.cuda.is_available():\n",
        "        device = \"cuda\"\n",
        "    elif torch.backends.mps.is_available() and torch.backends.mps.is_built():\n",
        "        device = \"mps\"\n",
        "    return device"
      ]
    },
    {
      "cell_type": "code",
      "execution_count": 4,
      "metadata": {
        "id": "341p1c5o-IZ4"
      },
      "outputs": [],
      "source": [
        "home_dir = Path.cwd() / \"..\"\n",
        "dataset_dir: Path = home_dir / \"femnist\"\n",
        "data_dir: Path = dataset_dir / \"data\"\n",
        "centralized_partition: Path = dataset_dir / \"client_data_mappings\" / \"centralized\"\n",
        "centralized_mapping: Path = dataset_dir / \"client_data_mappings\" / \"centralized\" / \"0\"\n",
        "federated_partition: Path = dataset_dir / \"client_data_mappings\" / \"fed_natural\"\n",
        "\n",
        "# Decompress dataset\n",
        "if not dataset_dir.exists():\n",
        "    with tarfile.open(home_dir / \"femnist.tar.gz\", \"r:gz\") as tar:\n",
        "        tar.extractall(path=home_dir)\n",
        "    log(INFO, \"Dataset extracted in %s\", dataset_dir)"
      ]
    },
    {
      "cell_type": "markdown",
      "metadata": {
        "id": "C6Q6qaJbjac5"
      },
      "source": [
        "## Build Flower FL client.\n",
        "---"
      ]
    },
    {
      "cell_type": "code",
      "execution_count": 5,
      "metadata": {
        "id": "SCqhfpnJobOZ"
      },
      "outputs": [],
      "source": [
        "class FlowerRayClient(flwr.client.NumPyClient):\n",
        "    \"\"\"Flower client for the FEMNIST dataset.\"\"\"\n",
        "\n",
        "    def __init__(\n",
        "        self,\n",
        "        cid: int,\n",
        "        partition_dir: Path,\n",
        "        model_generator: Callable[[], Module],\n",
        "    ) -> None:\n",
        "        \"\"\"Init the client with its unique id and the folder to load data from.\n",
        "\n",
        "        Parameters\n",
        "        ----------\n",
        "            cid (int): Unique client id for a client used to map it to its data\n",
        "                partition\n",
        "            partition_dir (Path): The directory containing data for each\n",
        "                client/client id\n",
        "            model_generator (Callable[[], Module]): The model generator function\n",
        "        \"\"\"\n",
        "        self.cid = cid\n",
        "        log(INFO, \"cid: %s\", self.cid)\n",
        "        self.partition_dir = partition_dir\n",
        "        self.device = str(\n",
        "            torch.device(\"cuda:0\" if torch.cuda.is_available() else \"cpu\")\n",
        "        )\n",
        "        self.model_generator: Callable[[], Module] = model_generator\n",
        "        self.properties: dict[str, Scalar] = {\n",
        "            \"tensor_type\": \"numpy.ndarray\",\n",
        "            \"partition\": self.partition_dir,\n",
        "            \"cid\": self.cid\n",
        "            }\n",
        "        self.data_dir = data_dir\n",
        "\n",
        "    def set_parameters(self, parameters: NDArrays) -> Module:\n",
        "        \"\"\"Load weights inside the network.\n",
        "\n",
        "        Parameters\n",
        "        ----------\n",
        "            parameters (NDArrays): set of weights to be loaded.\n",
        "\n",
        "        Returns\n",
        "        -------\n",
        "            [Module]: Network with new set of weights.\n",
        "        \"\"\"\n",
        "        net = self.model_generator()\n",
        "        return set_model_parameters(net, parameters)\n",
        "\n",
        "    def get_parameters(self, config: dict[str, Scalar]) -> NDArrays:\n",
        "        \"\"\"Return weights from a given model.\n",
        "\n",
        "        If no model is passed, then a local model is created.\n",
        "        This can be used to initialise a model in the\n",
        "        server.\n",
        "        The config param is not used but is mandatory in Flower.\n",
        "\n",
        "        Parameters\n",
        "        ----------\n",
        "            config (dict[int, Scalar]): dictionary containing configuration info.\n",
        "\n",
        "        Returns\n",
        "        -------\n",
        "            NDArrays: weights from the model.\n",
        "        \"\"\"\n",
        "        net = self.model_generator()\n",
        "        return get_model_parameters(net)\n",
        "\n",
        "    def fit(\n",
        "        self, parameters: NDArrays, config: dict[str, Scalar]\n",
        "    ) -> tuple[NDArrays, int, dict]:\n",
        "        \"\"\"Receive and train a model on the local client data.\n",
        "\n",
        "        It uses parameters from the config dict\n",
        "\n",
        "        Parameters\n",
        "        ----------\n",
        "            net (NDArrays): Pytorch model parameters\n",
        "            config (dict[str, Scalar]): dictionary describing the training parameters\n",
        "\n",
        "        Returns\n",
        "        -------\n",
        "            tuple[NDArrays, int, dict]: Returns the updated model, the size of the local\n",
        "                dataset and other metrics\n",
        "        \"\"\"\n",
        "        # Only create model right before training/testing\n",
        "        # To lower memory usage when idle\n",
        "        net = self.set_parameters(parameters)\n",
        "        net.to(self.device)\n",
        "\n",
        "        train_loader: DataLoader = self._create_data_loader(config, name=\"train\")\n",
        "        train_loss = self._train(net, train_loader=train_loader, config=config)\n",
        "        return get_model_parameters(net), len(train_loader), {\"train_loss\": train_loss}\n",
        "\n",
        "    def evaluate(\n",
        "        self, parameters: NDArrays, config: dict[str, Scalar]\n",
        "    ) -> tuple[float, int, dict]:\n",
        "        \"\"\"Receive and test a model on the local client data.\n",
        "\n",
        "        It uses parameters from the config dict\n",
        "\n",
        "        Parameters\n",
        "        ----------\n",
        "            net (NDArrays): Pytorch model parameters\n",
        "            config (dict[str, Scalar]): dictionary describing the testing parameters\n",
        "\n",
        "        Returns\n",
        "        -------\n",
        "            tuple[float, int, dict]: Returns the loss accumulate during testing, the\n",
        "                size of the local dataset and other metrics such as accuracy\n",
        "        \"\"\"\n",
        "        net = self.set_parameters(parameters)\n",
        "        net.to(self.device)\n",
        "\n",
        "        test_loader: DataLoader = self._create_data_loader(config, name=\"test\")\n",
        "        loss, accuracy = self._test(net, test_loader=test_loader, config=config)\n",
        "        return loss, len(test_loader), {\"local_accuracy\": accuracy}\n",
        "\n",
        "    def _create_data_loader(self, config: dict[str, Scalar], name: str) -> DataLoader:\n",
        "        \"\"\"Create the data loader using the specified config parameters.\n",
        "\n",
        "        Parameters\n",
        "        ----------\n",
        "            config (dict[str, Scalar]): dictionary containing dataloader and dataset\n",
        "                parameters\n",
        "            mode (str): Load the training or testing set for the client\n",
        "\n",
        "        Returns\n",
        "        -------\n",
        "            DataLoader: A pytorch dataloader iterable for training/testing\n",
        "        \"\"\"\n",
        "        batch_size = int(config[\"batch_size\"])\n",
        "        num_workers = int(config[\"num_workers\"])\n",
        "        dataset = self._load_dataset(name)\n",
        "        return DataLoader(\n",
        "            dataset=dataset,\n",
        "            batch_size=batch_size,\n",
        "            shuffle=True,\n",
        "            num_workers=num_workers,\n",
        "            drop_last=(name == \"train\"),\n",
        "        )\n",
        "\n",
        "    def _load_dataset(self, name: str) -> Dataset:\n",
        "        full_file: Path = self.partition_dir / str(self.cid)\n",
        "        return load_femnist_dataset(\n",
        "            mapping=full_file,\n",
        "            name=name,\n",
        "            data_dir=data_dir,\n",
        "        )\n",
        "\n",
        "    def _train(\n",
        "        self, net: Module, train_loader: DataLoader, config: dict[str, Scalar]\n",
        "    ) -> float:\n",
        "        return train_femnist(\n",
        "            net=net,\n",
        "            train_loader=train_loader,\n",
        "            epochs=int(config[\"epochs\"]),\n",
        "            device=self.device,\n",
        "            optimizer=torch.optim.AdamW(\n",
        "                net.parameters(),\n",
        "                lr=float(config[\"client_learning_rate\"]),\n",
        "                weight_decay=float(config[\"weight_decay\"]),\n",
        "            ),\n",
        "            criterion=torch.nn.CrossEntropyLoss(),\n",
        "            max_batches=int(config[\"max_batches\"]),\n",
        "        )\n",
        "\n",
        "    def _test(\n",
        "        self, net: Module, test_loader: DataLoader, config: dict[str, Scalar]\n",
        "    ) -> tuple[float, float]:\n",
        "        return test_femnist(\n",
        "            net=net,\n",
        "            test_loader=test_loader,\n",
        "            device=self.device,\n",
        "            criterion=torch.nn.CrossEntropyLoss(),\n",
        "            max_batches=int(config[\"max_batches\"]),\n",
        "        )\n",
        "\n",
        "    def get_properties(self, config: dict[str, Scalar]) -> dict[str, Scalar]:\n",
        "        \"\"\"Return properties for this client.\n",
        "\n",
        "        Parameters\n",
        "        ----------\n",
        "            config (dict[str, Scalar]): Options to be used for selecting specific\n",
        "            properties.\n",
        "\n",
        "        Returns\n",
        "        -------\n",
        "            dict[str, Scalar]: Returned properties.\n",
        "        \"\"\"\n",
        "        return self.properties\n",
        "\n",
        "    def get_train_set_size(self) -> int:\n",
        "        \"\"\"Return the client train set size.\n",
        "\n",
        "        Returns\n",
        "        -------\n",
        "            int: train set size of the client.\n",
        "        \"\"\"\n",
        "        return len(self._load_dataset(\"train\"))  # type: ignore[reportArgumentType]\n",
        "\n",
        "    def get_test_set_size(self) -> int:\n",
        "        \"\"\"Return the client test set size.\n",
        "\n",
        "        Returns\n",
        "        -------\n",
        "            int: test set size of the client.\n",
        "        \"\"\"\n",
        "        return len(self._load_dataset(\"test\"))  # type: ignore[reportArgumentType]\n",
        "\n",
        "\n",
        "def fit_client_seeded(\n",
        "    client: FlowerRayClient,\n",
        "    params: NDArrays,\n",
        "    conf: dict[str, Any],\n",
        "    seed: Seeds = Seeds.DEFAULT,\n",
        "    **kwargs: Any,\n",
        ") -> tuple[NDArrays, int, dict]:\n",
        "    \"\"\"Wrap to always seed client training.\"\"\"\n",
        "    np.random.seed(seed)\n",
        "    torch.manual_seed(seed)\n",
        "    random.seed(seed)\n",
        "    return client.fit(params, conf, **kwargs)"
      ]
    },
    {
      "cell_type": "markdown",
      "metadata": {
        "id": "7HdLT_IBFBUD"
      },
      "source": [
        "The underlying FL simulator used by Flower is based on [Ray](https://www.ray.io/). It expects each client only to require a client ID for instantiation. Therefore, using the following generator function, we can determine the specific network used for FL together with the FEMNIST partition to which the `cid` refers.\n",
        "\n",
        "While we will not use `Ray` in this lab due to its heavyweight nature, we will keep all code API compatible with the default flower framework."
      ]
    },
    {
      "cell_type": "code",
      "execution_count": 6,
      "metadata": {
        "id": "Mwfh5JZmUcfd"
      },
      "outputs": [],
      "source": [
        "def get_flower_client_generator(\n",
        "    model_generator: Callable[[], Module],\n",
        "    partition_dir: Path,\n",
        "    mapping_fn: Callable[[int], int] | None = None,\n",
        ") -> Callable[[str], FlowerRayClient]:\n",
        "    \"\"\"Wrap the client instance generator.\n",
        "\n",
        "    This provides the client generator with a model generator function.\n",
        "    Also, the partition directory must be passed.\n",
        "    A mapping function could be used for filtering/ordering clients.\n",
        "\n",
        "    Parameters\n",
        "    ----------\n",
        "        model_generator (Callable[[], Module]): model generator function.\n",
        "        partition_dir (Path): directory containing the partition.\n",
        "        mapping_fn (Optional[Callable[[int], int]]): function mapping sorted/filtered\n",
        "            ids to real cid.\n",
        "\n",
        "    Returns\n",
        "    -------\n",
        "        Callable[[str], FlowerRayClient]: client instance.\n",
        "    \"\"\"\n",
        "\n",
        "    def client_fn(cid: str) -> FlowerRayClient:\n",
        "        \"\"\"Create a single client instance given the client id `cid`.\n",
        "\n",
        "        Parameters\n",
        "        ----------\n",
        "            cid (str): client id, Flower requires this to be of type str.\n",
        "\n",
        "        Returns\n",
        "        -------\n",
        "            FlowerRayClient: client instance.\n",
        "        \"\"\"\n",
        "        return FlowerRayClient(\n",
        "            cid=mapping_fn(int(cid)) if mapping_fn is not None else int(cid),\n",
        "            partition_dir=partition_dir,\n",
        "            model_generator=model_generator,\n",
        "        )\n",
        "\n",
        "    return client_fn"
      ]
    },
    {
      "cell_type": "markdown",
      "metadata": {
        "id": "z4rBKYJqU3bf"
      },
      "source": [
        "To ensure the Flower client behaves the same as our simple demo client, a simple test using the centralised partition we defined earlier should suffice."
      ]
    },
    {
      "cell_type": "code",
      "execution_count": 7,
      "metadata": {
        "colab": {
          "base_uri": "https://localhost:8080/"
        },
        "id": "udMWNQ0xU8VD",
        "outputId": "9228feef-c8dd-4577-fb2b-e656ef7688e0"
      },
      "outputs": [
        {
          "name": "stderr",
          "output_type": "stream",
          "text": [
            "INFO flwr 2025-03-15 22:03:52,810 | 1340840146.py:21 | cid: 0\n"
          ]
        },
        {
          "data": {
            "text/html": [
              "<pre style=\"white-space:pre;overflow-x:auto;line-height:normal;font-family:Menlo,'DejaVu Sans Mono',consolas,'Courier New',monospace\"><span style=\"color: #7fbfbf; text-decoration-color: #7fbfbf\">2025-03-15 22:03:52 </span><span style=\"color: #000080; text-decoration-color: #000080\">INFO    </span> cid: <span style=\"color: #008080; text-decoration-color: #008080; font-weight: bold\">0</span>                                                                         <a href=\"file:///tmp/ipykernel_1030410/1340840146.py\" target=\"_blank\"><span style=\"color: #7f7f7f; text-decoration-color: #7f7f7f\">flwr</span></a><span style=\"color: #7f7f7f; text-decoration-color: #7f7f7f\">:</span><a href=\"file:///tmp/ipykernel_1030410/1340840146.py#21\" target=\"_blank\"><span style=\"color: #7f7f7f; text-decoration-color: #7f7f7f\">21</span></a>\n",
              "</pre>\n"
            ],
            "text/plain": [
              "\u001b[2;36m2025-03-15 22:03:52\u001b[0m\u001b[2;36m \u001b[0m\u001b[34mINFO    \u001b[0m cid: \u001b[1;36m0\u001b[0m                                                                         \u001b]8;id=614242;file:///tmp/ipykernel_1030410/1340840146.py\u001b\\\u001b[2mflwr\u001b[0m\u001b]8;;\u001b\\\u001b[2m:\u001b[0m\u001b]8;id=767447;file:///tmp/ipykernel_1030410/1340840146.py#21\u001b\\\u001b[2m21\u001b[0m\u001b]8;;\u001b\\\n"
            ]
          },
          "metadata": {},
          "output_type": "display_data"
        }
      ],
      "source": [
        "network_generator = get_network_generator()\n",
        "seed_net: Net = network_generator()\n",
        "seed_model_params: NDArrays = get_model_parameters(seed_net)\n",
        "\n",
        "centralized_flower_client_generator: Callable[[str], FlowerRayClient] = (\n",
        "    get_flower_client_generator(network_generator, centralized_partition)\n",
        ")\n",
        "centralized_flower_client = centralized_flower_client_generator(str(0))"
      ]
    },
    {
      "cell_type": "code",
      "execution_count": 8,
      "metadata": {},
      "outputs": [
        {
          "data": {
            "text/plain": [
              "Net(\n",
              "  (conv1): Conv2d(1, 6, kernel_size=(5, 5), stride=(1, 1))\n",
              "  (pool): MaxPool2d(kernel_size=2, stride=2, padding=0, dilation=1, ceil_mode=False)\n",
              "  (conv2): Conv2d(6, 16, kernel_size=(5, 5), stride=(1, 1))\n",
              "  (fc1): Linear(in_features=256, out_features=120, bias=True)\n",
              "  (fc2): Linear(in_features=120, out_features=84, bias=True)\n",
              "  (fc3): Linear(in_features=84, out_features=62, bias=True)\n",
              ")"
            ]
          },
          "execution_count": 8,
          "metadata": {},
          "output_type": "execute_result"
        }
      ],
      "source": [
        "seed_net"
      ]
    },
    {
      "cell_type": "code",
      "execution_count": 9,
      "metadata": {},
      "outputs": [
        {
          "data": {
            "text/plain": [
              "OrderedDict([('conv1.weight',\n",
              "              tensor([[[[-0.1687, -0.0018,  0.0492, -0.0310, -0.1198],\n",
              "                        [-0.1885,  0.0340,  0.0787, -0.1295, -0.0962],\n",
              "                        [ 0.0834,  0.0324, -0.1770,  0.1067,  0.1511],\n",
              "                        [-0.1027,  0.0402,  0.0832,  0.0041, -0.0374],\n",
              "                        [ 0.1546, -0.0569,  0.1585,  0.1856, -0.1941]]],\n",
              "              \n",
              "              \n",
              "                      [[[ 0.0943,  0.1154,  0.1787, -0.0138,  0.1351],\n",
              "                        [-0.1492, -0.1147, -0.0823, -0.0529, -0.0068],\n",
              "                        [ 0.0701,  0.0090,  0.0214,  0.0280, -0.1008],\n",
              "                        [ 0.0416,  0.0831, -0.1684,  0.1052,  0.1083],\n",
              "                        [-0.1703,  0.0304,  0.0741,  0.1640,  0.1074]]],\n",
              "              \n",
              "              \n",
              "                      [[[ 0.0854, -0.1765,  0.1057,  0.1865,  0.1976],\n",
              "                        [ 0.1198, -0.1540,  0.0689, -0.1652,  0.0416],\n",
              "                        [-0.0303, -0.1599, -0.1664,  0.0144,  0.1625],\n",
              "                        [-0.0896, -0.1897, -0.1131,  0.0722, -0.0381],\n",
              "                        [-0.1830, -0.0205, -0.0749,  0.1534, -0.0856]]],\n",
              "              \n",
              "              \n",
              "                      [[[-0.0941,  0.0787, -0.1302, -0.0326, -0.0134],\n",
              "                        [ 0.1830,  0.0215, -0.0143, -0.0555,  0.0971],\n",
              "                        [ 0.0378,  0.0091, -0.1608, -0.1912,  0.0173],\n",
              "                        [-0.1720,  0.1400,  0.0164,  0.0211,  0.1384],\n",
              "                        [ 0.0716,  0.1019,  0.0439, -0.1779,  0.1035]]],\n",
              "              \n",
              "              \n",
              "                      [[[-0.1969,  0.1880, -0.1117,  0.1430,  0.0067],\n",
              "                        [ 0.0062, -0.0674, -0.1387, -0.1162, -0.0819],\n",
              "                        [ 0.0723,  0.1006,  0.1182, -0.1845, -0.0482],\n",
              "                        [ 0.1453, -0.1178, -0.1423,  0.1277,  0.0848],\n",
              "                        [-0.0882, -0.1018, -0.1794,  0.0213,  0.1158]]],\n",
              "              \n",
              "              \n",
              "                      [[[-0.1614,  0.0192,  0.1242,  0.1516,  0.1249],\n",
              "                        [ 0.1016, -0.0873,  0.0460,  0.1276, -0.1011],\n",
              "                        [ 0.1345,  0.0008, -0.1974, -0.1568, -0.0627],\n",
              "                        [-0.1858,  0.1735, -0.0894, -0.0309,  0.1821],\n",
              "                        [-0.0484,  0.1414, -0.1730, -0.0273, -0.1074]]]])),\n",
              "             ('conv1.bias',\n",
              "              tensor([ 0.1074,  0.0362,  0.1740, -0.1889, -0.0430,  0.0432])),\n",
              "             ('conv2.weight',\n",
              "              tensor([[[[ 3.8034e-02,  2.9206e-02, -3.1035e-02,  6.7331e-02, -2.7653e-02],\n",
              "                        [ 6.1616e-02, -7.9380e-02,  7.1361e-02,  8.0045e-02, -6.1524e-02],\n",
              "                        [ 6.0634e-02,  2.0925e-02, -1.3077e-04, -4.1665e-02,  3.1908e-02],\n",
              "                        [ 7.9229e-02,  1.1975e-02,  7.8741e-02,  3.0067e-02,  3.6255e-02],\n",
              "                        [-1.5454e-02,  3.4274e-02, -5.0877e-02,  1.1263e-02, -1.5621e-02]],\n",
              "              \n",
              "                       [[ 7.0707e-02,  4.9440e-02,  4.8525e-02, -3.1843e-02, -1.9214e-02],\n",
              "                        [-4.6685e-02,  4.4166e-02,  6.2379e-02, -5.1315e-02, -7.4795e-03],\n",
              "                        [-6.2127e-02, -7.8672e-02,  4.2877e-02,  6.4190e-02,  2.7460e-02],\n",
              "                        [ 3.9454e-02, -3.4610e-03, -6.4803e-02, -5.6390e-02, -7.9168e-02],\n",
              "                        [ 3.5539e-02, -6.7187e-02, -7.2360e-02,  5.9406e-02,  2.6040e-02]],\n",
              "              \n",
              "                       [[ 4.7604e-03, -7.6298e-02, -5.5896e-02, -4.1627e-03, -6.8161e-02],\n",
              "                        [-2.9700e-02, -3.0304e-02, -4.5172e-02,  1.6750e-02, -3.3703e-02],\n",
              "                        [-5.4715e-02, -2.2765e-02,  1.8742e-02,  2.6578e-02,  6.2524e-02],\n",
              "                        [-6.7431e-02,  7.0698e-02,  6.8706e-02, -1.6822e-02,  3.1279e-02],\n",
              "                        [-5.3427e-02,  5.4261e-02, -1.9555e-02, -3.4638e-02, -6.5603e-02]],\n",
              "              \n",
              "                       [[-5.3920e-02, -2.4791e-02,  3.7070e-02, -4.1396e-02,  3.6601e-02],\n",
              "                        [ 4.0017e-02, -7.9654e-02,  4.0847e-02,  1.9428e-02,  3.1222e-02],\n",
              "                        [-7.8811e-02,  5.0372e-03,  4.3549e-02,  1.9650e-03,  5.6224e-02],\n",
              "                        [-6.0423e-02,  1.9701e-02,  7.6141e-02, -3.5250e-02,  2.2284e-02],\n",
              "                        [ 2.1342e-02, -5.0301e-02,  3.7012e-02,  4.0196e-02, -2.3093e-02]],\n",
              "              \n",
              "                       [[ 5.5203e-02, -6.5274e-03,  2.3434e-02,  5.3029e-02,  5.7746e-02],\n",
              "                        [-3.3603e-02,  2.7717e-02,  9.2259e-03,  4.7099e-02, -4.7520e-03],\n",
              "                        [ 2.5017e-02,  8.0206e-02,  5.1966e-02,  3.8821e-02,  7.3949e-02],\n",
              "                        [ 4.6197e-02, -3.8859e-02,  4.5735e-02,  7.9381e-02,  7.8694e-02],\n",
              "                        [-3.9591e-02, -8.1114e-02, -2.0505e-02,  7.7964e-02,  3.0991e-02]],\n",
              "              \n",
              "                       [[ 5.4618e-02,  3.4369e-02,  4.2427e-02,  7.5754e-02, -1.7758e-02],\n",
              "                        [ 1.9397e-02,  5.0292e-02, -7.7388e-02,  1.5990e-02,  2.1510e-02],\n",
              "                        [-5.7399e-02, -2.4304e-02,  2.0416e-02,  2.0844e-02, -9.8508e-03],\n",
              "                        [-4.3203e-02,  6.2680e-02, -1.2656e-02, -5.2393e-02, -2.1155e-02],\n",
              "                        [ 3.4860e-02, -1.0421e-02, -2.1637e-03,  2.3475e-02,  6.3107e-02]]],\n",
              "              \n",
              "              \n",
              "                      [[[ 2.0102e-02, -5.5876e-02,  3.9857e-02, -3.3591e-02,  3.6071e-02],\n",
              "                        [ 7.2095e-02,  4.7360e-02, -1.7066e-02,  2.5910e-02, -4.3915e-02],\n",
              "                        [ 5.7610e-02, -3.1869e-02,  6.0762e-02, -1.5171e-02,  7.6692e-02],\n",
              "                        [-7.7756e-02, -5.3068e-02,  7.9981e-02, -6.4644e-02, -8.0034e-02],\n",
              "                        [-4.9398e-02, -5.5025e-02,  6.6384e-02, -1.1995e-03,  6.8509e-02]],\n",
              "              \n",
              "                       [[ 6.7448e-02, -8.2096e-04,  8.3863e-03,  5.7156e-02,  2.7713e-02],\n",
              "                        [-4.7450e-02,  6.9157e-02, -3.4325e-02,  2.3777e-02,  1.0140e-02],\n",
              "                        [-2.8543e-02,  7.0659e-02, -2.5891e-02,  3.2410e-02,  8.0003e-03],\n",
              "                        [-7.3449e-02,  5.3713e-02, -5.3875e-03,  6.0509e-02, -1.2609e-02],\n",
              "                        [ 2.7673e-02, -7.4327e-02,  4.3022e-02,  9.9443e-03, -4.8469e-02]],\n",
              "              \n",
              "                       [[ 7.6846e-02,  3.5590e-03,  6.5507e-02,  3.8222e-02,  7.4730e-02],\n",
              "                        [-6.3831e-02, -7.6798e-02, -2.6613e-02, -1.7656e-02, -6.8282e-02],\n",
              "                        [ 2.7473e-02, -5.7840e-02, -6.9801e-02,  5.8875e-02, -5.8163e-02],\n",
              "                        [ 1.0053e-02,  4.1306e-02, -4.9404e-02, -1.1782e-02, -3.5710e-02],\n",
              "                        [-6.7027e-03, -7.8828e-03,  7.9679e-02,  5.9806e-02, -2.7038e-02]],\n",
              "              \n",
              "                       [[-6.3108e-02,  1.0871e-02, -1.2161e-02, -6.4649e-02, -4.5997e-02],\n",
              "                        [ 6.0121e-03, -3.7508e-03,  4.0934e-02,  7.8091e-02, -4.8682e-02],\n",
              "                        [-7.0751e-02,  4.7981e-02,  3.8749e-02, -5.9915e-02,  2.7692e-02],\n",
              "                        [-5.8493e-02,  5.7069e-02, -5.8189e-02,  7.0200e-02, -2.0696e-02],\n",
              "                        [-4.0006e-02,  6.3841e-02,  6.7329e-03, -7.2402e-02, -4.0384e-02]],\n",
              "              \n",
              "                       [[-7.7018e-02,  2.5120e-02, -4.3337e-02,  4.3190e-02,  2.5849e-02],\n",
              "                        [-1.5180e-02,  1.8651e-02, -8.5560e-03, -6.0439e-02, -9.5698e-03],\n",
              "                        [-4.3315e-02,  5.7591e-02,  6.8756e-02, -9.1422e-03, -1.6770e-03],\n",
              "                        [ 8.1207e-02,  8.1561e-02, -2.4420e-02, -5.2162e-02,  5.7415e-02],\n",
              "                        [ 6.5530e-03,  7.2020e-03, -6.8780e-02,  7.2090e-02, -6.3688e-03]],\n",
              "              \n",
              "                       [[-2.4942e-02,  7.4463e-02,  4.6741e-03, -8.0542e-02,  6.7101e-02],\n",
              "                        [ 6.1028e-02,  7.5975e-02,  4.6739e-02,  5.5668e-02, -2.5677e-02],\n",
              "                        [-7.8388e-02, -4.6843e-02,  2.3414e-03, -2.4853e-02, -7.5422e-02],\n",
              "                        [-7.1377e-02, -8.5979e-03,  3.7925e-02, -5.8833e-02, -2.4200e-02],\n",
              "                        [-1.3359e-03,  5.8373e-02, -2.9069e-02,  2.4953e-02, -7.6472e-02]]],\n",
              "              \n",
              "              \n",
              "                      [[[ 4.2335e-02, -2.4897e-02, -6.6886e-02,  1.8875e-02,  1.5040e-02],\n",
              "                        [-1.0324e-04, -1.2264e-05, -7.3346e-02, -7.8372e-02,  3.4006e-02],\n",
              "                        [ 6.4262e-02,  4.2924e-02, -2.6151e-03,  4.3440e-02,  2.6638e-02],\n",
              "                        [-4.0999e-02, -7.7941e-02,  1.2874e-03, -8.2218e-05,  2.0806e-02],\n",
              "                        [-4.2522e-02,  5.1076e-02, -3.1827e-02, -3.3296e-02,  1.6526e-02]],\n",
              "              \n",
              "                       [[-4.2330e-02, -1.3532e-02,  2.7344e-02,  1.9096e-02, -4.9995e-02],\n",
              "                        [-4.2606e-02,  1.7694e-02, -5.3719e-02,  2.8799e-02,  2.2803e-04],\n",
              "                        [ 5.8008e-02, -7.2393e-02, -6.7013e-02,  2.3130e-02, -3.0043e-02],\n",
              "                        [-4.8445e-02, -6.4705e-02, -5.9265e-02,  7.1444e-02,  7.3491e-02],\n",
              "                        [-8.0852e-02, -6.9527e-02, -1.8750e-03,  6.0496e-04, -6.7149e-02]],\n",
              "              \n",
              "                       [[-5.0262e-02,  1.0227e-02, -6.0379e-02, -2.9331e-02,  3.2923e-02],\n",
              "                        [ 7.0587e-02,  1.0770e-02,  6.1221e-02,  7.2868e-02,  1.5349e-02],\n",
              "                        [ 7.1578e-02,  6.3680e-02,  3.6772e-02, -3.5181e-02, -2.8120e-02],\n",
              "                        [-6.9861e-02,  4.3983e-02,  4.1670e-02,  7.0251e-02,  3.2226e-02],\n",
              "                        [ 1.9692e-03,  3.6562e-02,  3.2935e-02,  2.8371e-02,  2.7679e-03]],\n",
              "              \n",
              "                       [[ 5.5011e-02,  6.2103e-02, -5.1312e-03, -3.0044e-02, -7.2183e-02],\n",
              "                        [-5.7388e-02,  3.7233e-03,  4.3612e-02,  1.1973e-02,  7.7404e-02],\n",
              "                        [-2.8688e-02, -3.7788e-02, -1.3261e-02, -6.4697e-02,  7.2833e-03],\n",
              "                        [-7.2558e-02, -2.2850e-02,  4.3979e-02, -6.7549e-02, -1.5246e-02],\n",
              "                        [ 2.9767e-02,  2.7143e-02,  3.5427e-02, -4.1832e-02, -7.1368e-02]],\n",
              "              \n",
              "                       [[ 5.5387e-02,  2.8953e-02, -6.1253e-02, -7.5656e-02,  1.6514e-02],\n",
              "                        [-6.7452e-02, -6.4283e-02, -7.5512e-02, -6.5014e-02, -4.7971e-02],\n",
              "                        [ 2.4889e-02,  5.2938e-02, -6.2290e-02, -6.6656e-02, -4.7401e-02],\n",
              "                        [-3.0587e-02,  5.9045e-02, -4.5432e-02, -1.4160e-02,  7.4072e-02],\n",
              "                        [ 2.5526e-02, -6.9644e-03, -1.1729e-02, -4.8886e-02, -6.9562e-02]],\n",
              "              \n",
              "                       [[ 7.3949e-02, -6.5312e-02,  3.9367e-02,  2.0556e-02,  5.3943e-02],\n",
              "                        [ 1.8677e-02, -6.1501e-02, -5.1657e-02,  9.4306e-03, -6.1077e-02],\n",
              "                        [ 7.2503e-02,  3.0873e-03, -6.0841e-02, -8.1524e-02,  6.0637e-02],\n",
              "                        [ 7.5997e-02,  6.5896e-02, -2.1181e-02, -5.6298e-02, -4.1765e-02],\n",
              "                        [-1.4263e-02, -2.1393e-02, -6.9073e-02,  1.6795e-02, -1.3466e-02]]],\n",
              "              \n",
              "              \n",
              "                      ...,\n",
              "              \n",
              "              \n",
              "                      [[[-6.8181e-02, -3.8723e-02, -5.9693e-02, -5.4888e-02, -1.5524e-02],\n",
              "                        [ 3.4657e-02,  7.0086e-02,  7.4805e-02,  2.0635e-06, -1.7112e-02],\n",
              "                        [ 4.1882e-02,  5.2555e-02, -2.2597e-03, -2.1778e-02, -3.0266e-02],\n",
              "                        [ 2.6832e-02,  6.2254e-02,  6.2850e-02,  6.6125e-02,  8.7753e-03],\n",
              "                        [-1.8654e-03,  7.1013e-02, -2.3772e-02, -4.5280e-02, -4.4859e-02]],\n",
              "              \n",
              "                       [[ 4.4528e-02, -1.6032e-02,  4.0440e-02, -5.2521e-02,  3.7958e-02],\n",
              "                        [-2.7002e-02, -3.8885e-02, -6.5112e-02,  2.3352e-02,  2.4685e-02],\n",
              "                        [ 7.3456e-02,  5.7319e-02, -6.6783e-02, -6.5633e-02,  6.2001e-02],\n",
              "                        [-2.8028e-02, -5.3410e-02,  4.6013e-03,  4.2095e-02,  7.3701e-02],\n",
              "                        [-6.8021e-03, -6.9882e-02,  2.0091e-02,  6.9996e-02,  3.4759e-02]],\n",
              "              \n",
              "                       [[-1.9806e-02, -2.0227e-02, -5.6080e-02, -7.8446e-02,  4.5349e-02],\n",
              "                        [-6.2208e-02,  2.1092e-02,  5.9158e-02,  4.8433e-02,  2.5614e-02],\n",
              "                        [-3.4175e-02, -7.7534e-02,  4.2956e-02,  6.3620e-02,  7.8809e-02],\n",
              "                        [-4.1889e-02,  7.8970e-02,  1.2754e-02, -6.3371e-02, -8.9210e-04],\n",
              "                        [-2.1599e-02, -3.1584e-02,  5.5553e-02, -1.7780e-02, -6.5738e-02]],\n",
              "              \n",
              "                       [[-7.0814e-02,  3.2968e-02, -6.1501e-02,  2.3560e-02,  9.6856e-03],\n",
              "                        [-7.3836e-03,  7.8068e-02, -5.0694e-03,  3.3088e-02, -4.3509e-02],\n",
              "                        [-4.2144e-02,  7.7301e-03, -1.4010e-02, -3.5451e-02, -6.4002e-02],\n",
              "                        [-6.4967e-02,  3.4383e-02, -2.6574e-02, -2.8360e-02, -7.2331e-02],\n",
              "                        [ 3.0066e-02,  4.5513e-03, -3.0504e-02,  6.8168e-03, -2.3811e-02]],\n",
              "              \n",
              "                       [[ 3.6621e-02, -2.4441e-02, -7.0859e-02,  6.9626e-02,  3.4081e-02],\n",
              "                        [ 1.0742e-02, -5.8948e-02,  6.7620e-02,  7.8230e-02, -2.0821e-02],\n",
              "                        [-7.9440e-02,  7.9927e-02, -3.5150e-02, -2.4720e-02,  5.5579e-02],\n",
              "                        [-4.9958e-02, -7.3763e-02,  5.4132e-02,  4.3138e-02,  3.9856e-02],\n",
              "                        [-5.6770e-02, -2.9308e-03,  5.4615e-03,  2.0861e-02,  9.9126e-03]],\n",
              "              \n",
              "                       [[-3.4511e-03, -5.1960e-02, -2.2131e-02, -4.3988e-02,  3.0522e-04],\n",
              "                        [ 2.8534e-02, -3.7156e-02, -5.8593e-02, -1.2941e-02, -7.4618e-02],\n",
              "                        [ 2.6093e-02,  6.8377e-02, -2.7577e-02,  7.9130e-02,  3.9148e-02],\n",
              "                        [ 7.8722e-03, -8.1170e-02, -4.4592e-02,  5.8214e-02, -6.0796e-02],\n",
              "                        [-1.7108e-02,  4.6838e-02, -1.6867e-03,  5.3249e-02, -1.2375e-02]]],\n",
              "              \n",
              "              \n",
              "                      [[[-6.5634e-02, -5.3323e-02,  7.4320e-02, -3.0090e-03,  2.7943e-02],\n",
              "                        [-7.8854e-02,  3.2230e-02,  1.6194e-02, -3.5037e-02, -3.0262e-03],\n",
              "                        [-6.6471e-02, -7.8911e-02, -6.9621e-02, -3.0172e-02, -1.1434e-02],\n",
              "                        [-2.2327e-02, -6.1506e-02, -7.2243e-02,  6.6624e-02, -3.6384e-02],\n",
              "                        [-5.6965e-02,  7.1163e-02,  7.5714e-02,  3.6669e-02,  6.9740e-02]],\n",
              "              \n",
              "                       [[-7.3472e-02,  7.9645e-02, -7.3677e-02,  3.8870e-02, -4.2015e-02],\n",
              "                        [ 3.8744e-02, -1.7336e-02, -2.0574e-02,  1.0614e-02,  1.1678e-02],\n",
              "                        [-6.1964e-02, -4.8616e-02, -5.1203e-02, -4.9913e-02, -3.4934e-02],\n",
              "                        [-4.0491e-02,  2.5992e-02, -5.7778e-02, -7.9452e-02,  1.2131e-02],\n",
              "                        [-2.6866e-02,  2.9312e-02, -4.9868e-02, -6.1121e-02, -1.0932e-02]],\n",
              "              \n",
              "                       [[-4.7297e-02,  2.5441e-02, -6.2646e-02, -7.3906e-02,  7.1778e-02],\n",
              "                        [ 4.2288e-02,  2.7731e-02,  2.8204e-02,  3.4924e-02, -8.0577e-02],\n",
              "                        [-7.7653e-03, -4.7756e-02,  7.3905e-02,  1.8349e-02, -1.0787e-03],\n",
              "                        [-7.3602e-02,  5.6025e-02, -5.3916e-02,  1.5881e-02,  1.1275e-02],\n",
              "                        [-6.7263e-02, -7.0183e-02,  6.4797e-02,  7.8457e-02,  3.5463e-02]],\n",
              "              \n",
              "                       [[ 3.6685e-02,  7.5094e-02, -6.1151e-03,  3.6755e-02, -6.4320e-02],\n",
              "                        [ 1.3360e-04, -4.6009e-02, -2.8746e-03, -5.7159e-02, -5.8863e-02],\n",
              "                        [-4.1842e-02, -1.5113e-02,  7.0581e-02, -5.3253e-02, -1.0056e-02],\n",
              "                        [ 5.5509e-02, -4.8547e-02,  1.4514e-02, -2.5992e-02, -5.4609e-02],\n",
              "                        [ 4.4707e-02, -6.4111e-02, -2.0135e-02,  3.7456e-02, -6.2806e-02]],\n",
              "              \n",
              "                       [[-1.3513e-02,  6.4967e-02,  5.5454e-03, -1.0411e-02,  2.9337e-02],\n",
              "                        [-5.2010e-02, -7.5245e-03, -2.9187e-02, -2.3088e-02,  8.0508e-02],\n",
              "                        [-2.7831e-02,  4.6707e-02,  7.3614e-02, -4.4972e-02, -2.4121e-02],\n",
              "                        [-3.5612e-04, -3.3813e-02, -1.0380e-02, -7.3686e-02,  4.5566e-02],\n",
              "                        [-1.6782e-02, -4.8530e-02,  4.9357e-02, -6.2870e-02,  1.9517e-03]],\n",
              "              \n",
              "                       [[-5.8048e-02,  1.2946e-03, -3.7694e-02,  6.0372e-02, -4.3000e-02],\n",
              "                        [ 4.6958e-02, -2.8259e-02, -5.5346e-02, -7.4198e-02,  3.9945e-02],\n",
              "                        [ 8.0842e-03, -3.7937e-03,  5.6097e-02,  1.3722e-02,  7.7587e-02],\n",
              "                        [-3.8150e-02,  2.1611e-02,  6.4915e-02,  5.5264e-02, -6.7768e-02],\n",
              "                        [-1.0550e-02,  3.5283e-02,  2.8196e-02, -8.0745e-02, -8.8091e-03]]],\n",
              "              \n",
              "              \n",
              "                      [[[-4.7392e-02,  3.1087e-02,  2.4339e-02,  1.5406e-02, -7.5506e-02],\n",
              "                        [-6.1651e-02, -2.8552e-02, -1.1276e-02, -3.9390e-02, -7.6986e-02],\n",
              "                        [ 5.6516e-02, -4.7786e-02,  2.4085e-02,  1.0363e-02,  6.7585e-02],\n",
              "                        [-1.1005e-02, -4.2264e-02, -6.4555e-02, -2.3680e-02, -6.7238e-05],\n",
              "                        [-4.2235e-02,  3.9336e-02, -6.9642e-02, -8.0546e-02, -2.5896e-02]],\n",
              "              \n",
              "                       [[-3.4534e-02,  6.4185e-02, -6.5711e-02,  4.6400e-02,  4.1595e-02],\n",
              "                        [-4.3280e-02, -1.2683e-05,  1.2735e-02,  6.2577e-03, -2.5347e-02],\n",
              "                        [-1.2225e-03,  6.5990e-02, -6.0915e-03, -3.3237e-02,  4.2190e-02],\n",
              "                        [ 7.0553e-02, -2.7654e-02, -5.1504e-02,  2.7083e-03, -5.6506e-02],\n",
              "                        [-2.3373e-02, -4.1376e-02,  1.8855e-02, -3.9949e-03, -3.9570e-02]],\n",
              "              \n",
              "                       [[ 5.5874e-02,  1.4991e-02, -7.6014e-02, -7.5174e-02,  6.3071e-02],\n",
              "                        [ 4.8787e-02, -1.0679e-02,  1.0939e-02,  3.1880e-02,  7.4966e-02],\n",
              "                        [ 7.4646e-02, -6.5494e-03, -6.6309e-02, -1.0099e-02,  4.9625e-02],\n",
              "                        [-3.5320e-02, -4.9638e-02,  2.9590e-02,  6.3019e-02,  5.6854e-02],\n",
              "                        [ 5.0096e-02,  8.0109e-02,  9.8315e-03, -7.1010e-02, -1.0844e-02]],\n",
              "              \n",
              "                       [[ 2.0054e-02,  6.1495e-02,  2.5699e-02,  2.5855e-02,  3.9595e-02],\n",
              "                        [ 1.5203e-02, -1.9954e-02,  3.8147e-02, -6.9169e-02,  4.8219e-02],\n",
              "                        [ 8.1463e-02, -6.4559e-02, -1.0281e-02,  5.0165e-03, -1.3056e-03],\n",
              "                        [-3.0999e-02, -2.3536e-02, -3.0223e-02,  6.3686e-02,  3.8531e-02],\n",
              "                        [-2.9116e-02, -5.4667e-02, -6.1603e-02, -3.1488e-02,  7.5490e-02]],\n",
              "              \n",
              "                       [[-4.8046e-02, -1.8358e-02,  7.1039e-02, -5.0507e-02, -6.0493e-02],\n",
              "                        [-4.8139e-03, -8.3548e-03, -1.6431e-02,  7.5656e-02, -4.5689e-02],\n",
              "                        [-6.1457e-02, -1.3708e-02, -4.5654e-02,  4.4183e-02,  6.4443e-02],\n",
              "                        [ 3.4390e-02,  9.5416e-03,  5.6035e-02, -1.7089e-02,  7.8706e-03],\n",
              "                        [-1.6411e-04,  1.3005e-02, -2.5709e-03,  8.1448e-02,  2.7454e-02]],\n",
              "              \n",
              "                       [[ 1.0920e-02,  9.8438e-03, -3.1327e-02,  5.0940e-02,  4.1515e-02],\n",
              "                        [-3.0083e-02, -3.1187e-02,  6.3337e-02,  2.9465e-02, -6.9097e-02],\n",
              "                        [ 6.8715e-02, -2.3245e-02,  6.0516e-02,  6.3364e-02, -2.8326e-02],\n",
              "                        [ 5.7733e-02,  3.3416e-03, -5.3945e-02, -1.0016e-02,  7.7130e-02],\n",
              "                        [ 1.8754e-02,  1.6508e-02, -5.7731e-02,  7.5019e-02, -3.4889e-02]]]])),\n",
              "             ('conv2.bias',\n",
              "              tensor([-0.0532,  0.0240, -0.0051, -0.0028, -0.0613, -0.0059, -0.0030,  0.0605,\n",
              "                      -0.0588,  0.0181, -0.0199,  0.0132, -0.0388,  0.0699,  0.0018, -0.0694])),\n",
              "             ('fc1.weight',\n",
              "              tensor([[ 0.0302, -0.0186,  0.0552,  ..., -0.0082, -0.0238,  0.0526],\n",
              "                      [-0.0034,  0.0427, -0.0621,  ..., -0.0458, -0.0375, -0.0335],\n",
              "                      [ 0.0308, -0.0287,  0.0536,  ..., -0.0318,  0.0514,  0.0206],\n",
              "                      ...,\n",
              "                      [-0.0065, -0.0613, -0.0249,  ..., -0.0458, -0.0555,  0.0400],\n",
              "                      [ 0.0357, -0.0021,  0.0316,  ...,  0.0062,  0.0592, -0.0449],\n",
              "                      [ 0.0346, -0.0070,  0.0229,  ..., -0.0235,  0.0247, -0.0070]])),\n",
              "             ('fc1.bias',\n",
              "              tensor([-3.3423e-02,  3.6342e-02, -1.8216e-03, -5.5881e-02, -1.4300e-02,\n",
              "                      -5.4068e-02, -4.0881e-02,  4.2487e-03, -1.5013e-02,  3.5329e-02,\n",
              "                       6.4352e-03,  3.0361e-02,  3.6426e-02, -3.4101e-02, -4.5253e-02,\n",
              "                      -3.1075e-02,  1.9916e-02, -7.4800e-03,  1.9797e-02, -5.2185e-02,\n",
              "                      -2.0829e-02, -4.1036e-02,  9.8708e-03, -4.4697e-02, -2.6290e-02,\n",
              "                       4.7932e-02,  1.2876e-02,  1.7422e-02, -3.4621e-02,  9.5594e-03,\n",
              "                      -5.0824e-02, -1.2138e-02, -5.3473e-02,  7.2222e-03,  6.0130e-02,\n",
              "                      -2.6383e-02, -4.3453e-02,  5.6758e-02,  5.9340e-02, -5.6426e-02,\n",
              "                       1.1556e-02, -8.7083e-03,  2.7856e-02, -4.1569e-02, -6.2495e-02,\n",
              "                      -3.0676e-02,  1.4801e-02, -5.4299e-02, -1.6588e-02,  1.3984e-02,\n",
              "                      -1.1229e-02,  6.9887e-03,  5.6071e-02,  1.2215e-03,  2.6762e-03,\n",
              "                      -7.8433e-03,  2.0180e-02, -2.8022e-02, -2.8384e-02, -2.8233e-02,\n",
              "                       6.0114e-02,  1.8623e-03, -2.7031e-02, -4.0121e-02,  5.1933e-02,\n",
              "                      -2.4266e-02, -5.9581e-02, -4.7771e-02, -1.8391e-02,  2.1953e-02,\n",
              "                      -2.2784e-02,  1.1232e-03, -4.1161e-03, -4.3684e-02, -5.2248e-03,\n",
              "                       5.0557e-02, -2.2282e-02, -1.6822e-02, -3.2786e-02, -5.0203e-02,\n",
              "                       5.5261e-02, -4.8373e-02,  4.5857e-02,  1.5042e-02,  4.3893e-02,\n",
              "                      -5.9269e-02,  3.0523e-02, -2.0554e-02, -1.8044e-02, -4.0456e-02,\n",
              "                       3.4861e-02,  1.0245e-02, -8.3953e-05,  5.4426e-02,  5.3212e-02,\n",
              "                      -4.6419e-02,  3.5831e-02,  5.8692e-03,  2.7359e-02, -3.2340e-02,\n",
              "                       2.9614e-02,  5.7624e-02,  1.4874e-03,  1.7956e-02, -2.6787e-02,\n",
              "                      -3.5654e-02, -1.9224e-02, -4.5843e-03, -3.3328e-02,  1.4237e-02,\n",
              "                      -1.2722e-03, -1.9035e-03,  2.3034e-03,  1.5668e-02, -3.2450e-02,\n",
              "                       2.3396e-02, -6.1799e-02,  5.6872e-02, -3.2294e-02,  5.5973e-02])),\n",
              "             ('fc2.weight',\n",
              "              tensor([[-0.0730,  0.0756,  0.0286,  ..., -0.0160,  0.0815, -0.0244],\n",
              "                      [-0.0070, -0.0426, -0.0442,  ...,  0.0339, -0.0877,  0.0562],\n",
              "                      [ 0.0044, -0.0832, -0.0145,  ..., -0.0130,  0.0818, -0.0119],\n",
              "                      ...,\n",
              "                      [-0.0151,  0.0706, -0.0807,  ..., -0.0485,  0.0825,  0.0056],\n",
              "                      [-0.0439, -0.0576, -0.0104,  ...,  0.0174, -0.0110,  0.0886],\n",
              "                      [-0.0730,  0.0866, -0.0809,  ..., -0.0436, -0.0229, -0.0266]])),\n",
              "             ('fc2.bias',\n",
              "              tensor([ 0.0039, -0.0740,  0.0394,  0.0517,  0.0626,  0.0801, -0.0343, -0.0573,\n",
              "                       0.0697,  0.0694,  0.0469, -0.0456,  0.0061,  0.0064,  0.0043, -0.0702,\n",
              "                      -0.0687,  0.0279,  0.0674, -0.0044, -0.0195,  0.0912,  0.0897, -0.0651,\n",
              "                      -0.0350,  0.0519, -0.0402,  0.0008, -0.0619, -0.0751, -0.0110,  0.0443,\n",
              "                       0.0820, -0.0113,  0.0375, -0.0480, -0.0400, -0.0368, -0.0216,  0.0012,\n",
              "                      -0.0171, -0.0879,  0.0407, -0.0362,  0.0303,  0.0827, -0.0107, -0.0030,\n",
              "                       0.0233,  0.0643,  0.0687, -0.0179, -0.0764, -0.0753,  0.0605,  0.0353,\n",
              "                       0.0573,  0.0426, -0.0272, -0.0083,  0.0175, -0.0772, -0.0627,  0.0280,\n",
              "                      -0.0311, -0.0350,  0.0220,  0.0586,  0.0033,  0.0716,  0.0112,  0.0104,\n",
              "                      -0.0241, -0.0112, -0.0450, -0.0154,  0.0515, -0.0469,  0.0484,  0.0742,\n",
              "                       0.0690, -0.0782,  0.0611,  0.0434])),\n",
              "             ('fc3.weight',\n",
              "              tensor([[ 0.0310,  0.0872, -0.0342,  ..., -0.0536,  0.0509,  0.0588],\n",
              "                      [-0.0325, -0.1043,  0.0684,  ..., -0.0173, -0.1034,  0.0744],\n",
              "                      [-0.0719, -0.0518, -0.0566,  ..., -0.0327,  0.0756, -0.0358],\n",
              "                      ...,\n",
              "                      [ 0.0487, -0.0338,  0.0277,  ...,  0.0882, -0.0570, -0.0168],\n",
              "                      [ 0.0646, -0.0868, -0.0772,  ..., -0.1051, -0.0194,  0.0354],\n",
              "                      [ 0.0153,  0.0746,  0.0472,  ..., -0.0049, -0.0826, -0.0669]])),\n",
              "             ('fc3.bias',\n",
              "              tensor([-0.0617,  0.0682, -0.0850,  0.0423, -0.1004, -0.0785,  0.0881,  0.0920,\n",
              "                      -0.0452,  0.0548,  0.0901, -0.0070,  0.0669,  0.0328,  0.0290,  0.0058,\n",
              "                       0.0748,  0.1002, -0.0601, -0.0094,  0.0968, -0.0158, -0.0424,  0.0562,\n",
              "                       0.0046, -0.0931,  0.0760, -0.0887,  0.0565, -0.1060,  0.0599, -0.0750,\n",
              "                       0.1076, -0.0037,  0.0110, -0.0207, -0.0018,  0.0876,  0.0281, -0.0121,\n",
              "                      -0.0336,  0.0408,  0.0408, -0.0091,  0.0703, -0.0415, -0.0621,  0.0948,\n",
              "                       0.0943, -0.0758,  0.0255,  0.0412, -0.1053, -0.0782, -0.0751,  0.0284,\n",
              "                       0.0460,  0.0639,  0.0582,  0.0400, -0.0689, -0.0858]))])"
            ]
          },
          "execution_count": 9,
          "metadata": {},
          "output_type": "execute_result"
        }
      ],
      "source": [
        "seed_net.state_dict()"
      ]
    },
    {
      "cell_type": "code",
      "execution_count": 10,
      "metadata": {
        "colab": {
          "base_uri": "https://localhost:8080/"
        },
        "id": "GJima3hoFBUD",
        "outputId": "71c5016c-ca5b-498d-de5a-dbc5ab8439e4"
      },
      "outputs": [
        {
          "name": "stderr",
          "output_type": "stream",
          "text": [
            "INFO flwr 2025-03-15 22:04:01,124 | 4024557794.py:20 | Train Metrics = {'train_loss': 0.11729214794933795}\n"
          ]
        },
        {
          "data": {
            "text/html": [
              "<pre style=\"white-space:pre;overflow-x:auto;line-height:normal;font-family:Menlo,'DejaVu Sans Mono',consolas,'Courier New',monospace\"><span style=\"color: #7fbfbf; text-decoration-color: #7fbfbf\">2025-03-15 22:04:01 </span><span style=\"color: #000080; text-decoration-color: #000080\">INFO    </span> Train Metrics = <span style=\"font-weight: bold\">{</span><span style=\"color: #008000; text-decoration-color: #008000\">'train_loss'</span>: <span style=\"color: #008080; text-decoration-color: #008080; font-weight: bold\">0.11729214794933795</span><span style=\"font-weight: bold\">}</span>                            <a href=\"file:///tmp/ipykernel_1030410/4024557794.py\" target=\"_blank\"><span style=\"color: #7f7f7f; text-decoration-color: #7f7f7f\">flwr</span></a><span style=\"color: #7f7f7f; text-decoration-color: #7f7f7f\">:</span><a href=\"file:///tmp/ipykernel_1030410/4024557794.py#20\" target=\"_blank\"><span style=\"color: #7f7f7f; text-decoration-color: #7f7f7f\">20</span></a>\n",
              "</pre>\n"
            ],
            "text/plain": [
              "\u001b[2;36m2025-03-15 22:04:01\u001b[0m\u001b[2;36m \u001b[0m\u001b[34mINFO    \u001b[0m Train Metrics = \u001b[1m{\u001b[0m\u001b[32m'train_loss'\u001b[0m: \u001b[1;36m0.11729214794933795\u001b[0m\u001b[1m}\u001b[0m                            \u001b]8;id=614242;file:///tmp/ipykernel_1030410/4024557794.py\u001b\\\u001b[2mflwr\u001b[0m\u001b]8;;\u001b\\\u001b[2m:\u001b[0m\u001b]8;id=767447;file:///tmp/ipykernel_1030410/4024557794.py#20\u001b\\\u001b[2m20\u001b[0m\u001b]8;;\u001b\\\n"
            ]
          },
          "metadata": {},
          "output_type": "display_data"
        }
      ],
      "source": [
        "centralized_train_config: dict[str, Any] = {\n",
        "    \"epochs\": 1,\n",
        "    \"batch_size\": 32,\n",
        "    \"client_learning_rate\": 0.01,\n",
        "    \"weight_decay\": 0.001,\n",
        "    \"num_workers\": 0,\n",
        "    \"max_batches\": 100,\n",
        "}\n",
        "\n",
        "test_config: dict[str, Any] = {\n",
        "    \"batch_size\": 32,\n",
        "    \"num_workers\": 0,\n",
        "    \"max_batches\": 100,\n",
        "}\n",
        "\n",
        "# Train parameters on the centralised dataset\n",
        "trained_params, num_examples, train_metrics = fit_client_seeded(\n",
        "    centralized_flower_client, params=seed_model_params, conf=centralized_train_config\n",
        ")\n",
        "log(INFO, \"Train Metrics = %s\", train_metrics)"
      ]
    },
    {
      "cell_type": "code",
      "execution_count": 11,
      "metadata": {
        "id": "6QQv15XxXhvJ"
      },
      "outputs": [],
      "source": [
        "def sample_random_clients(\n",
        "    total_clients: int,\n",
        "    filter_less: int,\n",
        "    partition: Path,\n",
        "    seed: int | None = Seeds.DEFAULT,\n",
        ") -> Sequence[int]:\n",
        "    \"\"\"Sample randomly clients.\n",
        "\n",
        "    A filter on the client train set size is performed.\n",
        "\n",
        "    Parameters\n",
        "    ----------\n",
        "        total_clients (int): total number of clients to sample.\n",
        "        filter_less (int): max number of train samples for which the client is\n",
        "            **discarded**.\n",
        "        partition (Path): path to the folder containing the partitioning.\n",
        "        seed (Optional[int], optional): seed for the random generator. Defaults to None.\n",
        "\n",
        "    Returns\n",
        "    -------\n",
        "        Sequence[int]: list of sample client ids as int.\n",
        "    \"\"\"\n",
        "    real_federated_cid_client_generator: Callable[[str], FlowerRayClient] = (\n",
        "        get_flower_client_generator(network_generator, federated_partition)\n",
        "    )\n",
        "    if seed is not None:\n",
        "        random.seed(seed)\n",
        "    list_of_ids = []\n",
        "    while len(list_of_ids) < total_clients:\n",
        "        current_id = random.randint(0, 3229)\n",
        "        if (\n",
        "            real_federated_cid_client_generator(str(current_id)).get_train_set_size()\n",
        "            > filter_less\n",
        "        ):\n",
        "            list_of_ids.append(current_id)\n",
        "    return list_of_ids"
      ]
    },
    {
      "cell_type": "markdown",
      "metadata": {
        "id": "togXum333D1L"
      },
      "source": [
        "While FEMNIST has more than 3000 clients, our small-scale experiments will not require more than 100 at any point."
      ]
    },
    {
      "cell_type": "code",
      "execution_count": 12,
      "metadata": {
        "colab": {
          "base_uri": "https://localhost:8080/"
        },
        "id": "e-s7oVYNXkwf",
        "outputId": "0535dead-7487-4737-cea9-7b0b78184a5a"
      },
      "outputs": [
        {
          "name": "stderr",
          "output_type": "stream",
          "text": [
            "INFO flwr 2025-03-15 22:04:01,164 | 1340840146.py:21 | cid: 2530\n"
          ]
        },
        {
          "data": {
            "text/html": [
              "<pre style=\"white-space:pre;overflow-x:auto;line-height:normal;font-family:Menlo,'DejaVu Sans Mono',consolas,'Courier New',monospace\"><span style=\"color: #7fbfbf; text-decoration-color: #7fbfbf\">                    </span><span style=\"color: #000080; text-decoration-color: #000080\">INFO    </span> cid: <span style=\"color: #008080; text-decoration-color: #008080; font-weight: bold\">2530</span>                                                                      <a href=\"file:///tmp/ipykernel_1030410/1340840146.py\" target=\"_blank\"><span style=\"color: #7f7f7f; text-decoration-color: #7f7f7f\">flwr</span></a><span style=\"color: #7f7f7f; text-decoration-color: #7f7f7f\">:</span><a href=\"file:///tmp/ipykernel_1030410/1340840146.py#21\" target=\"_blank\"><span style=\"color: #7f7f7f; text-decoration-color: #7f7f7f\">21</span></a>\n",
              "</pre>\n"
            ],
            "text/plain": [
              "\u001b[2;36m                   \u001b[0m\u001b[2;36m \u001b[0m\u001b[34mINFO    \u001b[0m cid: \u001b[1;36m2530\u001b[0m                                                                      \u001b]8;id=598714;file:///tmp/ipykernel_1030410/1340840146.py\u001b\\\u001b[2mflwr\u001b[0m\u001b]8;;\u001b\\\u001b[2m:\u001b[0m\u001b]8;id=614242;file:///tmp/ipykernel_1030410/1340840146.py#21\u001b\\\u001b[2m21\u001b[0m\u001b]8;;\u001b\\\n"
            ]
          },
          "metadata": {},
          "output_type": "display_data"
        },
        {
          "name": "stderr",
          "output_type": "stream",
          "text": [
            "INFO flwr 2025-03-15 22:04:01,173 | 1340840146.py:21 | cid: 2997\n"
          ]
        },
        {
          "data": {
            "text/html": [
              "<pre style=\"white-space:pre;overflow-x:auto;line-height:normal;font-family:Menlo,'DejaVu Sans Mono',consolas,'Courier New',monospace\"><span style=\"color: #7fbfbf; text-decoration-color: #7fbfbf\">                    </span><span style=\"color: #000080; text-decoration-color: #000080\">INFO    </span> cid: <span style=\"color: #008080; text-decoration-color: #008080; font-weight: bold\">2997</span>                                                                      <a href=\"file:///tmp/ipykernel_1030410/1340840146.py\" target=\"_blank\"><span style=\"color: #7f7f7f; text-decoration-color: #7f7f7f\">flwr</span></a><span style=\"color: #7f7f7f; text-decoration-color: #7f7f7f\">:</span><a href=\"file:///tmp/ipykernel_1030410/1340840146.py#21\" target=\"_blank\"><span style=\"color: #7f7f7f; text-decoration-color: #7f7f7f\">21</span></a>\n",
              "</pre>\n"
            ],
            "text/plain": [
              "\u001b[2;36m                   \u001b[0m\u001b[2;36m \u001b[0m\u001b[34mINFO    \u001b[0m cid: \u001b[1;36m2997\u001b[0m                                                                      \u001b]8;id=402343;file:///tmp/ipykernel_1030410/1340840146.py\u001b\\\u001b[2mflwr\u001b[0m\u001b]8;;\u001b\\\u001b[2m:\u001b[0m\u001b]8;id=665713;file:///tmp/ipykernel_1030410/1340840146.py#21\u001b\\\u001b[2m21\u001b[0m\u001b]8;;\u001b\\\n"
            ]
          },
          "metadata": {},
          "output_type": "display_data"
        },
        {
          "name": "stderr",
          "output_type": "stream",
          "text": [
            "INFO flwr 2025-03-15 22:04:01,178 | 1340840146.py:21 | cid: 1473\n"
          ]
        },
        {
          "data": {
            "text/html": [
              "<pre style=\"white-space:pre;overflow-x:auto;line-height:normal;font-family:Menlo,'DejaVu Sans Mono',consolas,'Courier New',monospace\"><span style=\"color: #7fbfbf; text-decoration-color: #7fbfbf\">                    </span><span style=\"color: #000080; text-decoration-color: #000080\">INFO    </span> cid: <span style=\"color: #008080; text-decoration-color: #008080; font-weight: bold\">1473</span>                                                                      <a href=\"file:///tmp/ipykernel_1030410/1340840146.py\" target=\"_blank\"><span style=\"color: #7f7f7f; text-decoration-color: #7f7f7f\">flwr</span></a><span style=\"color: #7f7f7f; text-decoration-color: #7f7f7f\">:</span><a href=\"file:///tmp/ipykernel_1030410/1340840146.py#21\" target=\"_blank\"><span style=\"color: #7f7f7f; text-decoration-color: #7f7f7f\">21</span></a>\n",
              "</pre>\n"
            ],
            "text/plain": [
              "\u001b[2;36m                   \u001b[0m\u001b[2;36m \u001b[0m\u001b[34mINFO    \u001b[0m cid: \u001b[1;36m1473\u001b[0m                                                                      \u001b]8;id=214901;file:///tmp/ipykernel_1030410/1340840146.py\u001b\\\u001b[2mflwr\u001b[0m\u001b]8;;\u001b\\\u001b[2m:\u001b[0m\u001b]8;id=798528;file:///tmp/ipykernel_1030410/1340840146.py#21\u001b\\\u001b[2m21\u001b[0m\u001b]8;;\u001b\\\n"
            ]
          },
          "metadata": {},
          "output_type": "display_data"
        },
        {
          "name": "stderr",
          "output_type": "stream",
          "text": [
            "INFO flwr 2025-03-15 22:04:01,182 | 1340840146.py:21 | cid: 2688\n"
          ]
        },
        {
          "data": {
            "text/html": [
              "<pre style=\"white-space:pre;overflow-x:auto;line-height:normal;font-family:Menlo,'DejaVu Sans Mono',consolas,'Courier New',monospace\"><span style=\"color: #7fbfbf; text-decoration-color: #7fbfbf\">                    </span><span style=\"color: #000080; text-decoration-color: #000080\">INFO    </span> cid: <span style=\"color: #008080; text-decoration-color: #008080; font-weight: bold\">2688</span>                                                                      <a href=\"file:///tmp/ipykernel_1030410/1340840146.py\" target=\"_blank\"><span style=\"color: #7f7f7f; text-decoration-color: #7f7f7f\">flwr</span></a><span style=\"color: #7f7f7f; text-decoration-color: #7f7f7f\">:</span><a href=\"file:///tmp/ipykernel_1030410/1340840146.py#21\" target=\"_blank\"><span style=\"color: #7f7f7f; text-decoration-color: #7f7f7f\">21</span></a>\n",
              "</pre>\n"
            ],
            "text/plain": [
              "\u001b[2;36m                   \u001b[0m\u001b[2;36m \u001b[0m\u001b[34mINFO    \u001b[0m cid: \u001b[1;36m2688\u001b[0m                                                                      \u001b]8;id=446156;file:///tmp/ipykernel_1030410/1340840146.py\u001b\\\u001b[2mflwr\u001b[0m\u001b]8;;\u001b\\\u001b[2m:\u001b[0m\u001b]8;id=860291;file:///tmp/ipykernel_1030410/1340840146.py#21\u001b\\\u001b[2m21\u001b[0m\u001b]8;;\u001b\\\n"
            ]
          },
          "metadata": {},
          "output_type": "display_data"
        },
        {
          "name": "stderr",
          "output_type": "stream",
          "text": [
            "INFO flwr 2025-03-15 22:04:01,187 | 1340840146.py:21 | cid: 2601\n"
          ]
        },
        {
          "data": {
            "text/html": [
              "<pre style=\"white-space:pre;overflow-x:auto;line-height:normal;font-family:Menlo,'DejaVu Sans Mono',consolas,'Courier New',monospace\"><span style=\"color: #7fbfbf; text-decoration-color: #7fbfbf\">                    </span><span style=\"color: #000080; text-decoration-color: #000080\">INFO    </span> cid: <span style=\"color: #008080; text-decoration-color: #008080; font-weight: bold\">2601</span>                                                                      <a href=\"file:///tmp/ipykernel_1030410/1340840146.py\" target=\"_blank\"><span style=\"color: #7f7f7f; text-decoration-color: #7f7f7f\">flwr</span></a><span style=\"color: #7f7f7f; text-decoration-color: #7f7f7f\">:</span><a href=\"file:///tmp/ipykernel_1030410/1340840146.py#21\" target=\"_blank\"><span style=\"color: #7f7f7f; text-decoration-color: #7f7f7f\">21</span></a>\n",
              "</pre>\n"
            ],
            "text/plain": [
              "\u001b[2;36m                   \u001b[0m\u001b[2;36m \u001b[0m\u001b[34mINFO    \u001b[0m cid: \u001b[1;36m2601\u001b[0m                                                                      \u001b]8;id=733173;file:///tmp/ipykernel_1030410/1340840146.py\u001b\\\u001b[2mflwr\u001b[0m\u001b]8;;\u001b\\\u001b[2m:\u001b[0m\u001b]8;id=700576;file:///tmp/ipykernel_1030410/1340840146.py#21\u001b\\\u001b[2m21\u001b[0m\u001b]8;;\u001b\\\n"
            ]
          },
          "metadata": {},
          "output_type": "display_data"
        },
        {
          "name": "stderr",
          "output_type": "stream",
          "text": [
            "INFO flwr 2025-03-15 22:04:01,192 | 1340840146.py:21 | cid: 1425\n"
          ]
        },
        {
          "data": {
            "text/html": [
              "<pre style=\"white-space:pre;overflow-x:auto;line-height:normal;font-family:Menlo,'DejaVu Sans Mono',consolas,'Courier New',monospace\"><span style=\"color: #7fbfbf; text-decoration-color: #7fbfbf\">                    </span><span style=\"color: #000080; text-decoration-color: #000080\">INFO    </span> cid: <span style=\"color: #008080; text-decoration-color: #008080; font-weight: bold\">1425</span>                                                                      <a href=\"file:///tmp/ipykernel_1030410/1340840146.py\" target=\"_blank\"><span style=\"color: #7f7f7f; text-decoration-color: #7f7f7f\">flwr</span></a><span style=\"color: #7f7f7f; text-decoration-color: #7f7f7f\">:</span><a href=\"file:///tmp/ipykernel_1030410/1340840146.py#21\" target=\"_blank\"><span style=\"color: #7f7f7f; text-decoration-color: #7f7f7f\">21</span></a>\n",
              "</pre>\n"
            ],
            "text/plain": [
              "\u001b[2;36m                   \u001b[0m\u001b[2;36m \u001b[0m\u001b[34mINFO    \u001b[0m cid: \u001b[1;36m1425\u001b[0m                                                                      \u001b]8;id=773371;file:///tmp/ipykernel_1030410/1340840146.py\u001b\\\u001b[2mflwr\u001b[0m\u001b]8;;\u001b\\\u001b[2m:\u001b[0m\u001b]8;id=838929;file:///tmp/ipykernel_1030410/1340840146.py#21\u001b\\\u001b[2m21\u001b[0m\u001b]8;;\u001b\\\n"
            ]
          },
          "metadata": {},
          "output_type": "display_data"
        },
        {
          "name": "stderr",
          "output_type": "stream",
          "text": [
            "INFO flwr 2025-03-15 22:04:01,197 | 1340840146.py:21 | cid: 1273\n"
          ]
        },
        {
          "data": {
            "text/html": [
              "<pre style=\"white-space:pre;overflow-x:auto;line-height:normal;font-family:Menlo,'DejaVu Sans Mono',consolas,'Courier New',monospace\"><span style=\"color: #7fbfbf; text-decoration-color: #7fbfbf\">                    </span><span style=\"color: #000080; text-decoration-color: #000080\">INFO    </span> cid: <span style=\"color: #008080; text-decoration-color: #008080; font-weight: bold\">1273</span>                                                                      <a href=\"file:///tmp/ipykernel_1030410/1340840146.py\" target=\"_blank\"><span style=\"color: #7f7f7f; text-decoration-color: #7f7f7f\">flwr</span></a><span style=\"color: #7f7f7f; text-decoration-color: #7f7f7f\">:</span><a href=\"file:///tmp/ipykernel_1030410/1340840146.py#21\" target=\"_blank\"><span style=\"color: #7f7f7f; text-decoration-color: #7f7f7f\">21</span></a>\n",
              "</pre>\n"
            ],
            "text/plain": [
              "\u001b[2;36m                   \u001b[0m\u001b[2;36m \u001b[0m\u001b[34mINFO    \u001b[0m cid: \u001b[1;36m1273\u001b[0m                                                                      \u001b]8;id=623333;file:///tmp/ipykernel_1030410/1340840146.py\u001b\\\u001b[2mflwr\u001b[0m\u001b]8;;\u001b\\\u001b[2m:\u001b[0m\u001b]8;id=124295;file:///tmp/ipykernel_1030410/1340840146.py#21\u001b\\\u001b[2m21\u001b[0m\u001b]8;;\u001b\\\n"
            ]
          },
          "metadata": {},
          "output_type": "display_data"
        },
        {
          "name": "stderr",
          "output_type": "stream",
          "text": [
            "INFO flwr 2025-03-15 22:04:01,203 | 1340840146.py:21 | cid: 1887\n"
          ]
        },
        {
          "data": {
            "text/html": [
              "<pre style=\"white-space:pre;overflow-x:auto;line-height:normal;font-family:Menlo,'DejaVu Sans Mono',consolas,'Courier New',monospace\"><span style=\"color: #7fbfbf; text-decoration-color: #7fbfbf\">                    </span><span style=\"color: #000080; text-decoration-color: #000080\">INFO    </span> cid: <span style=\"color: #008080; text-decoration-color: #008080; font-weight: bold\">1887</span>                                                                      <a href=\"file:///tmp/ipykernel_1030410/1340840146.py\" target=\"_blank\"><span style=\"color: #7f7f7f; text-decoration-color: #7f7f7f\">flwr</span></a><span style=\"color: #7f7f7f; text-decoration-color: #7f7f7f\">:</span><a href=\"file:///tmp/ipykernel_1030410/1340840146.py#21\" target=\"_blank\"><span style=\"color: #7f7f7f; text-decoration-color: #7f7f7f\">21</span></a>\n",
              "</pre>\n"
            ],
            "text/plain": [
              "\u001b[2;36m                   \u001b[0m\u001b[2;36m \u001b[0m\u001b[34mINFO    \u001b[0m cid: \u001b[1;36m1887\u001b[0m                                                                      \u001b]8;id=328967;file:///tmp/ipykernel_1030410/1340840146.py\u001b\\\u001b[2mflwr\u001b[0m\u001b]8;;\u001b\\\u001b[2m:\u001b[0m\u001b]8;id=712258;file:///tmp/ipykernel_1030410/1340840146.py#21\u001b\\\u001b[2m21\u001b[0m\u001b]8;;\u001b\\\n"
            ]
          },
          "metadata": {},
          "output_type": "display_data"
        },
        {
          "name": "stderr",
          "output_type": "stream",
          "text": [
            "INFO flwr 2025-03-15 22:04:01,208 | 1340840146.py:21 | cid: 2828\n"
          ]
        },
        {
          "data": {
            "text/html": [
              "<pre style=\"white-space:pre;overflow-x:auto;line-height:normal;font-family:Menlo,'DejaVu Sans Mono',consolas,'Courier New',monospace\"><span style=\"color: #7fbfbf; text-decoration-color: #7fbfbf\">                    </span><span style=\"color: #000080; text-decoration-color: #000080\">INFO    </span> cid: <span style=\"color: #008080; text-decoration-color: #008080; font-weight: bold\">2828</span>                                                                      <a href=\"file:///tmp/ipykernel_1030410/1340840146.py\" target=\"_blank\"><span style=\"color: #7f7f7f; text-decoration-color: #7f7f7f\">flwr</span></a><span style=\"color: #7f7f7f; text-decoration-color: #7f7f7f\">:</span><a href=\"file:///tmp/ipykernel_1030410/1340840146.py#21\" target=\"_blank\"><span style=\"color: #7f7f7f; text-decoration-color: #7f7f7f\">21</span></a>\n",
              "</pre>\n"
            ],
            "text/plain": [
              "\u001b[2;36m                   \u001b[0m\u001b[2;36m \u001b[0m\u001b[34mINFO    \u001b[0m cid: \u001b[1;36m2828\u001b[0m                                                                      \u001b]8;id=632725;file:///tmp/ipykernel_1030410/1340840146.py\u001b\\\u001b[2mflwr\u001b[0m\u001b]8;;\u001b\\\u001b[2m:\u001b[0m\u001b]8;id=277721;file:///tmp/ipykernel_1030410/1340840146.py#21\u001b\\\u001b[2m21\u001b[0m\u001b]8;;\u001b\\\n"
            ]
          },
          "metadata": {},
          "output_type": "display_data"
        },
        {
          "name": "stderr",
          "output_type": "stream",
          "text": [
            "INFO flwr 2025-03-15 22:04:01,214 | 1340840146.py:21 | cid: 823\n"
          ]
        },
        {
          "data": {
            "text/html": [
              "<pre style=\"white-space:pre;overflow-x:auto;line-height:normal;font-family:Menlo,'DejaVu Sans Mono',consolas,'Courier New',monospace\"><span style=\"color: #7fbfbf; text-decoration-color: #7fbfbf\">                    </span><span style=\"color: #000080; text-decoration-color: #000080\">INFO    </span> cid: <span style=\"color: #008080; text-decoration-color: #008080; font-weight: bold\">823</span>                                                                       <a href=\"file:///tmp/ipykernel_1030410/1340840146.py\" target=\"_blank\"><span style=\"color: #7f7f7f; text-decoration-color: #7f7f7f\">flwr</span></a><span style=\"color: #7f7f7f; text-decoration-color: #7f7f7f\">:</span><a href=\"file:///tmp/ipykernel_1030410/1340840146.py#21\" target=\"_blank\"><span style=\"color: #7f7f7f; text-decoration-color: #7f7f7f\">21</span></a>\n",
              "</pre>\n"
            ],
            "text/plain": [
              "\u001b[2;36m                   \u001b[0m\u001b[2;36m \u001b[0m\u001b[34mINFO    \u001b[0m cid: \u001b[1;36m823\u001b[0m                                                                       \u001b]8;id=648725;file:///tmp/ipykernel_1030410/1340840146.py\u001b\\\u001b[2mflwr\u001b[0m\u001b]8;;\u001b\\\u001b[2m:\u001b[0m\u001b]8;id=605340;file:///tmp/ipykernel_1030410/1340840146.py#21\u001b\\\u001b[2m21\u001b[0m\u001b]8;;\u001b\\\n"
            ]
          },
          "metadata": {},
          "output_type": "display_data"
        },
        {
          "name": "stderr",
          "output_type": "stream",
          "text": [
            "INFO flwr 2025-03-15 22:04:01,219 | 1340840146.py:21 | cid: 3168\n"
          ]
        },
        {
          "data": {
            "text/html": [
              "<pre style=\"white-space:pre;overflow-x:auto;line-height:normal;font-family:Menlo,'DejaVu Sans Mono',consolas,'Courier New',monospace\"><span style=\"color: #7fbfbf; text-decoration-color: #7fbfbf\">                    </span><span style=\"color: #000080; text-decoration-color: #000080\">INFO    </span> cid: <span style=\"color: #008080; text-decoration-color: #008080; font-weight: bold\">3168</span>                                                                      <a href=\"file:///tmp/ipykernel_1030410/1340840146.py\" target=\"_blank\"><span style=\"color: #7f7f7f; text-decoration-color: #7f7f7f\">flwr</span></a><span style=\"color: #7f7f7f; text-decoration-color: #7f7f7f\">:</span><a href=\"file:///tmp/ipykernel_1030410/1340840146.py#21\" target=\"_blank\"><span style=\"color: #7f7f7f; text-decoration-color: #7f7f7f\">21</span></a>\n",
              "</pre>\n"
            ],
            "text/plain": [
              "\u001b[2;36m                   \u001b[0m\u001b[2;36m \u001b[0m\u001b[34mINFO    \u001b[0m cid: \u001b[1;36m3168\u001b[0m                                                                      \u001b]8;id=945699;file:///tmp/ipykernel_1030410/1340840146.py\u001b\\\u001b[2mflwr\u001b[0m\u001b]8;;\u001b\\\u001b[2m:\u001b[0m\u001b]8;id=649850;file:///tmp/ipykernel_1030410/1340840146.py#21\u001b\\\u001b[2m21\u001b[0m\u001b]8;;\u001b\\\n"
            ]
          },
          "metadata": {},
          "output_type": "display_data"
        },
        {
          "name": "stderr",
          "output_type": "stream",
          "text": [
            "INFO flwr 2025-03-15 22:04:01,224 | 1340840146.py:21 | cid: 220\n"
          ]
        },
        {
          "data": {
            "text/html": [
              "<pre style=\"white-space:pre;overflow-x:auto;line-height:normal;font-family:Menlo,'DejaVu Sans Mono',consolas,'Courier New',monospace\"><span style=\"color: #7fbfbf; text-decoration-color: #7fbfbf\">                    </span><span style=\"color: #000080; text-decoration-color: #000080\">INFO    </span> cid: <span style=\"color: #008080; text-decoration-color: #008080; font-weight: bold\">220</span>                                                                       <a href=\"file:///tmp/ipykernel_1030410/1340840146.py\" target=\"_blank\"><span style=\"color: #7f7f7f; text-decoration-color: #7f7f7f\">flwr</span></a><span style=\"color: #7f7f7f; text-decoration-color: #7f7f7f\">:</span><a href=\"file:///tmp/ipykernel_1030410/1340840146.py#21\" target=\"_blank\"><span style=\"color: #7f7f7f; text-decoration-color: #7f7f7f\">21</span></a>\n",
              "</pre>\n"
            ],
            "text/plain": [
              "\u001b[2;36m                   \u001b[0m\u001b[2;36m \u001b[0m\u001b[34mINFO    \u001b[0m cid: \u001b[1;36m220\u001b[0m                                                                       \u001b]8;id=206592;file:///tmp/ipykernel_1030410/1340840146.py\u001b\\\u001b[2mflwr\u001b[0m\u001b]8;;\u001b\\\u001b[2m:\u001b[0m\u001b]8;id=109670;file:///tmp/ipykernel_1030410/1340840146.py#21\u001b\\\u001b[2m21\u001b[0m\u001b]8;;\u001b\\\n"
            ]
          },
          "metadata": {},
          "output_type": "display_data"
        },
        {
          "name": "stderr",
          "output_type": "stream",
          "text": [
            "INFO flwr 2025-03-15 22:04:01,229 | 1340840146.py:21 | cid: 1167\n"
          ]
        },
        {
          "data": {
            "text/html": [
              "<pre style=\"white-space:pre;overflow-x:auto;line-height:normal;font-family:Menlo,'DejaVu Sans Mono',consolas,'Courier New',monospace\"><span style=\"color: #7fbfbf; text-decoration-color: #7fbfbf\">                    </span><span style=\"color: #000080; text-decoration-color: #000080\">INFO    </span> cid: <span style=\"color: #008080; text-decoration-color: #008080; font-weight: bold\">1167</span>                                                                      <a href=\"file:///tmp/ipykernel_1030410/1340840146.py\" target=\"_blank\"><span style=\"color: #7f7f7f; text-decoration-color: #7f7f7f\">flwr</span></a><span style=\"color: #7f7f7f; text-decoration-color: #7f7f7f\">:</span><a href=\"file:///tmp/ipykernel_1030410/1340840146.py#21\" target=\"_blank\"><span style=\"color: #7f7f7f; text-decoration-color: #7f7f7f\">21</span></a>\n",
              "</pre>\n"
            ],
            "text/plain": [
              "\u001b[2;36m                   \u001b[0m\u001b[2;36m \u001b[0m\u001b[34mINFO    \u001b[0m cid: \u001b[1;36m1167\u001b[0m                                                                      \u001b]8;id=837014;file:///tmp/ipykernel_1030410/1340840146.py\u001b\\\u001b[2mflwr\u001b[0m\u001b]8;;\u001b\\\u001b[2m:\u001b[0m\u001b]8;id=596302;file:///tmp/ipykernel_1030410/1340840146.py#21\u001b\\\u001b[2m21\u001b[0m\u001b]8;;\u001b\\\n"
            ]
          },
          "metadata": {},
          "output_type": "display_data"
        },
        {
          "name": "stderr",
          "output_type": "stream",
          "text": [
            "INFO flwr 2025-03-15 22:04:01,235 | 1340840146.py:21 | cid: 1287\n"
          ]
        },
        {
          "data": {
            "text/html": [
              "<pre style=\"white-space:pre;overflow-x:auto;line-height:normal;font-family:Menlo,'DejaVu Sans Mono',consolas,'Courier New',monospace\"><span style=\"color: #7fbfbf; text-decoration-color: #7fbfbf\">                    </span><span style=\"color: #000080; text-decoration-color: #000080\">INFO    </span> cid: <span style=\"color: #008080; text-decoration-color: #008080; font-weight: bold\">1287</span>                                                                      <a href=\"file:///tmp/ipykernel_1030410/1340840146.py\" target=\"_blank\"><span style=\"color: #7f7f7f; text-decoration-color: #7f7f7f\">flwr</span></a><span style=\"color: #7f7f7f; text-decoration-color: #7f7f7f\">:</span><a href=\"file:///tmp/ipykernel_1030410/1340840146.py#21\" target=\"_blank\"><span style=\"color: #7f7f7f; text-decoration-color: #7f7f7f\">21</span></a>\n",
              "</pre>\n"
            ],
            "text/plain": [
              "\u001b[2;36m                   \u001b[0m\u001b[2;36m \u001b[0m\u001b[34mINFO    \u001b[0m cid: \u001b[1;36m1287\u001b[0m                                                                      \u001b]8;id=349796;file:///tmp/ipykernel_1030410/1340840146.py\u001b\\\u001b[2mflwr\u001b[0m\u001b]8;;\u001b\\\u001b[2m:\u001b[0m\u001b]8;id=453161;file:///tmp/ipykernel_1030410/1340840146.py#21\u001b\\\u001b[2m21\u001b[0m\u001b]8;;\u001b\\\n"
            ]
          },
          "metadata": {},
          "output_type": "display_data"
        },
        {
          "name": "stderr",
          "output_type": "stream",
          "text": [
            "INFO flwr 2025-03-15 22:04:01,241 | 1340840146.py:21 | cid: 2343\n"
          ]
        },
        {
          "data": {
            "text/html": [
              "<pre style=\"white-space:pre;overflow-x:auto;line-height:normal;font-family:Menlo,'DejaVu Sans Mono',consolas,'Courier New',monospace\"><span style=\"color: #7fbfbf; text-decoration-color: #7fbfbf\">                    </span><span style=\"color: #000080; text-decoration-color: #000080\">INFO    </span> cid: <span style=\"color: #008080; text-decoration-color: #008080; font-weight: bold\">2343</span>                                                                      <a href=\"file:///tmp/ipykernel_1030410/1340840146.py\" target=\"_blank\"><span style=\"color: #7f7f7f; text-decoration-color: #7f7f7f\">flwr</span></a><span style=\"color: #7f7f7f; text-decoration-color: #7f7f7f\">:</span><a href=\"file:///tmp/ipykernel_1030410/1340840146.py#21\" target=\"_blank\"><span style=\"color: #7f7f7f; text-decoration-color: #7f7f7f\">21</span></a>\n",
              "</pre>\n"
            ],
            "text/plain": [
              "\u001b[2;36m                   \u001b[0m\u001b[2;36m \u001b[0m\u001b[34mINFO    \u001b[0m cid: \u001b[1;36m2343\u001b[0m                                                                      \u001b]8;id=813691;file:///tmp/ipykernel_1030410/1340840146.py\u001b\\\u001b[2mflwr\u001b[0m\u001b]8;;\u001b\\\u001b[2m:\u001b[0m\u001b]8;id=582389;file:///tmp/ipykernel_1030410/1340840146.py#21\u001b\\\u001b[2m21\u001b[0m\u001b]8;;\u001b\\\n"
            ]
          },
          "metadata": {},
          "output_type": "display_data"
        },
        {
          "name": "stderr",
          "output_type": "stream",
          "text": [
            "INFO flwr 2025-03-15 22:04:01,246 | 1340840146.py:21 | cid: 2975\n"
          ]
        },
        {
          "data": {
            "text/html": [
              "<pre style=\"white-space:pre;overflow-x:auto;line-height:normal;font-family:Menlo,'DejaVu Sans Mono',consolas,'Courier New',monospace\"><span style=\"color: #7fbfbf; text-decoration-color: #7fbfbf\">                    </span><span style=\"color: #000080; text-decoration-color: #000080\">INFO    </span> cid: <span style=\"color: #008080; text-decoration-color: #008080; font-weight: bold\">2975</span>                                                                      <a href=\"file:///tmp/ipykernel_1030410/1340840146.py\" target=\"_blank\"><span style=\"color: #7f7f7f; text-decoration-color: #7f7f7f\">flwr</span></a><span style=\"color: #7f7f7f; text-decoration-color: #7f7f7f\">:</span><a href=\"file:///tmp/ipykernel_1030410/1340840146.py#21\" target=\"_blank\"><span style=\"color: #7f7f7f; text-decoration-color: #7f7f7f\">21</span></a>\n",
              "</pre>\n"
            ],
            "text/plain": [
              "\u001b[2;36m                   \u001b[0m\u001b[2;36m \u001b[0m\u001b[34mINFO    \u001b[0m cid: \u001b[1;36m2975\u001b[0m                                                                      \u001b]8;id=224028;file:///tmp/ipykernel_1030410/1340840146.py\u001b\\\u001b[2mflwr\u001b[0m\u001b]8;;\u001b\\\u001b[2m:\u001b[0m\u001b]8;id=641102;file:///tmp/ipykernel_1030410/1340840146.py#21\u001b\\\u001b[2m21\u001b[0m\u001b]8;;\u001b\\\n"
            ]
          },
          "metadata": {},
          "output_type": "display_data"
        },
        {
          "name": "stderr",
          "output_type": "stream",
          "text": [
            "INFO flwr 2025-03-15 22:04:01,251 | 1340840146.py:21 | cid: 740\n"
          ]
        },
        {
          "data": {
            "text/html": [
              "<pre style=\"white-space:pre;overflow-x:auto;line-height:normal;font-family:Menlo,'DejaVu Sans Mono',consolas,'Courier New',monospace\"><span style=\"color: #7fbfbf; text-decoration-color: #7fbfbf\">                    </span><span style=\"color: #000080; text-decoration-color: #000080\">INFO    </span> cid: <span style=\"color: #008080; text-decoration-color: #008080; font-weight: bold\">740</span>                                                                       <a href=\"file:///tmp/ipykernel_1030410/1340840146.py\" target=\"_blank\"><span style=\"color: #7f7f7f; text-decoration-color: #7f7f7f\">flwr</span></a><span style=\"color: #7f7f7f; text-decoration-color: #7f7f7f\">:</span><a href=\"file:///tmp/ipykernel_1030410/1340840146.py#21\" target=\"_blank\"><span style=\"color: #7f7f7f; text-decoration-color: #7f7f7f\">21</span></a>\n",
              "</pre>\n"
            ],
            "text/plain": [
              "\u001b[2;36m                   \u001b[0m\u001b[2;36m \u001b[0m\u001b[34mINFO    \u001b[0m cid: \u001b[1;36m740\u001b[0m                                                                       \u001b]8;id=812983;file:///tmp/ipykernel_1030410/1340840146.py\u001b\\\u001b[2mflwr\u001b[0m\u001b]8;;\u001b\\\u001b[2m:\u001b[0m\u001b]8;id=694825;file:///tmp/ipykernel_1030410/1340840146.py#21\u001b\\\u001b[2m21\u001b[0m\u001b]8;;\u001b\\\n"
            ]
          },
          "metadata": {},
          "output_type": "display_data"
        },
        {
          "name": "stderr",
          "output_type": "stream",
          "text": [
            "INFO flwr 2025-03-15 22:04:01,255 | 1340840146.py:21 | cid: 206\n"
          ]
        },
        {
          "data": {
            "text/html": [
              "<pre style=\"white-space:pre;overflow-x:auto;line-height:normal;font-family:Menlo,'DejaVu Sans Mono',consolas,'Courier New',monospace\"><span style=\"color: #7fbfbf; text-decoration-color: #7fbfbf\">                    </span><span style=\"color: #000080; text-decoration-color: #000080\">INFO    </span> cid: <span style=\"color: #008080; text-decoration-color: #008080; font-weight: bold\">206</span>                                                                       <a href=\"file:///tmp/ipykernel_1030410/1340840146.py\" target=\"_blank\"><span style=\"color: #7f7f7f; text-decoration-color: #7f7f7f\">flwr</span></a><span style=\"color: #7f7f7f; text-decoration-color: #7f7f7f\">:</span><a href=\"file:///tmp/ipykernel_1030410/1340840146.py#21\" target=\"_blank\"><span style=\"color: #7f7f7f; text-decoration-color: #7f7f7f\">21</span></a>\n",
              "</pre>\n"
            ],
            "text/plain": [
              "\u001b[2;36m                   \u001b[0m\u001b[2;36m \u001b[0m\u001b[34mINFO    \u001b[0m cid: \u001b[1;36m206\u001b[0m                                                                       \u001b]8;id=612116;file:///tmp/ipykernel_1030410/1340840146.py\u001b\\\u001b[2mflwr\u001b[0m\u001b]8;;\u001b\\\u001b[2m:\u001b[0m\u001b]8;id=477296;file:///tmp/ipykernel_1030410/1340840146.py#21\u001b\\\u001b[2m21\u001b[0m\u001b]8;;\u001b\\\n"
            ]
          },
          "metadata": {},
          "output_type": "display_data"
        },
        {
          "name": "stderr",
          "output_type": "stream",
          "text": [
            "INFO flwr 2025-03-15 22:04:01,261 | 1340840146.py:21 | cid: 100\n"
          ]
        },
        {
          "data": {
            "text/html": [
              "<pre style=\"white-space:pre;overflow-x:auto;line-height:normal;font-family:Menlo,'DejaVu Sans Mono',consolas,'Courier New',monospace\"><span style=\"color: #7fbfbf; text-decoration-color: #7fbfbf\">                    </span><span style=\"color: #000080; text-decoration-color: #000080\">INFO    </span> cid: <span style=\"color: #008080; text-decoration-color: #008080; font-weight: bold\">100</span>                                                                       <a href=\"file:///tmp/ipykernel_1030410/1340840146.py\" target=\"_blank\"><span style=\"color: #7f7f7f; text-decoration-color: #7f7f7f\">flwr</span></a><span style=\"color: #7f7f7f; text-decoration-color: #7f7f7f\">:</span><a href=\"file:///tmp/ipykernel_1030410/1340840146.py#21\" target=\"_blank\"><span style=\"color: #7f7f7f; text-decoration-color: #7f7f7f\">21</span></a>\n",
              "</pre>\n"
            ],
            "text/plain": [
              "\u001b[2;36m                   \u001b[0m\u001b[2;36m \u001b[0m\u001b[34mINFO    \u001b[0m cid: \u001b[1;36m100\u001b[0m                                                                       \u001b]8;id=788718;file:///tmp/ipykernel_1030410/1340840146.py\u001b\\\u001b[2mflwr\u001b[0m\u001b]8;;\u001b\\\u001b[2m:\u001b[0m\u001b]8;id=685980;file:///tmp/ipykernel_1030410/1340840146.py#21\u001b\\\u001b[2m21\u001b[0m\u001b]8;;\u001b\\\n"
            ]
          },
          "metadata": {},
          "output_type": "display_data"
        },
        {
          "name": "stderr",
          "output_type": "stream",
          "text": [
            "INFO flwr 2025-03-15 22:04:01,268 | 1340840146.py:21 | cid: 2985\n"
          ]
        },
        {
          "data": {
            "text/html": [
              "<pre style=\"white-space:pre;overflow-x:auto;line-height:normal;font-family:Menlo,'DejaVu Sans Mono',consolas,'Courier New',monospace\"><span style=\"color: #7fbfbf; text-decoration-color: #7fbfbf\">                    </span><span style=\"color: #000080; text-decoration-color: #000080\">INFO    </span> cid: <span style=\"color: #008080; text-decoration-color: #008080; font-weight: bold\">2985</span>                                                                      <a href=\"file:///tmp/ipykernel_1030410/1340840146.py\" target=\"_blank\"><span style=\"color: #7f7f7f; text-decoration-color: #7f7f7f\">flwr</span></a><span style=\"color: #7f7f7f; text-decoration-color: #7f7f7f\">:</span><a href=\"file:///tmp/ipykernel_1030410/1340840146.py#21\" target=\"_blank\"><span style=\"color: #7f7f7f; text-decoration-color: #7f7f7f\">21</span></a>\n",
              "</pre>\n"
            ],
            "text/plain": [
              "\u001b[2;36m                   \u001b[0m\u001b[2;36m \u001b[0m\u001b[34mINFO    \u001b[0m cid: \u001b[1;36m2985\u001b[0m                                                                      \u001b]8;id=837176;file:///tmp/ipykernel_1030410/1340840146.py\u001b\\\u001b[2mflwr\u001b[0m\u001b]8;;\u001b\\\u001b[2m:\u001b[0m\u001b]8;id=596614;file:///tmp/ipykernel_1030410/1340840146.py#21\u001b\\\u001b[2m21\u001b[0m\u001b]8;;\u001b\\\n"
            ]
          },
          "metadata": {},
          "output_type": "display_data"
        },
        {
          "name": "stderr",
          "output_type": "stream",
          "text": [
            "INFO flwr 2025-03-15 22:04:01,272 | 1340840146.py:21 | cid: 2640\n"
          ]
        },
        {
          "data": {
            "text/html": [
              "<pre style=\"white-space:pre;overflow-x:auto;line-height:normal;font-family:Menlo,'DejaVu Sans Mono',consolas,'Courier New',monospace\"><span style=\"color: #7fbfbf; text-decoration-color: #7fbfbf\">                    </span><span style=\"color: #000080; text-decoration-color: #000080\">INFO    </span> cid: <span style=\"color: #008080; text-decoration-color: #008080; font-weight: bold\">2640</span>                                                                      <a href=\"file:///tmp/ipykernel_1030410/1340840146.py\" target=\"_blank\"><span style=\"color: #7f7f7f; text-decoration-color: #7f7f7f\">flwr</span></a><span style=\"color: #7f7f7f; text-decoration-color: #7f7f7f\">:</span><a href=\"file:///tmp/ipykernel_1030410/1340840146.py#21\" target=\"_blank\"><span style=\"color: #7f7f7f; text-decoration-color: #7f7f7f\">21</span></a>\n",
              "</pre>\n"
            ],
            "text/plain": [
              "\u001b[2;36m                   \u001b[0m\u001b[2;36m \u001b[0m\u001b[34mINFO    \u001b[0m cid: \u001b[1;36m2640\u001b[0m                                                                      \u001b]8;id=136829;file:///tmp/ipykernel_1030410/1340840146.py\u001b\\\u001b[2mflwr\u001b[0m\u001b]8;;\u001b\\\u001b[2m:\u001b[0m\u001b]8;id=993879;file:///tmp/ipykernel_1030410/1340840146.py#21\u001b\\\u001b[2m21\u001b[0m\u001b]8;;\u001b\\\n"
            ]
          },
          "metadata": {},
          "output_type": "display_data"
        },
        {
          "name": "stderr",
          "output_type": "stream",
          "text": [
            "INFO flwr 2025-03-15 22:04:01,276 | 1340840146.py:21 | cid: 241\n"
          ]
        },
        {
          "data": {
            "text/html": [
              "<pre style=\"white-space:pre;overflow-x:auto;line-height:normal;font-family:Menlo,'DejaVu Sans Mono',consolas,'Courier New',monospace\"><span style=\"color: #7fbfbf; text-decoration-color: #7fbfbf\">                    </span><span style=\"color: #000080; text-decoration-color: #000080\">INFO    </span> cid: <span style=\"color: #008080; text-decoration-color: #008080; font-weight: bold\">241</span>                                                                       <a href=\"file:///tmp/ipykernel_1030410/1340840146.py\" target=\"_blank\"><span style=\"color: #7f7f7f; text-decoration-color: #7f7f7f\">flwr</span></a><span style=\"color: #7f7f7f; text-decoration-color: #7f7f7f\">:</span><a href=\"file:///tmp/ipykernel_1030410/1340840146.py#21\" target=\"_blank\"><span style=\"color: #7f7f7f; text-decoration-color: #7f7f7f\">21</span></a>\n",
              "</pre>\n"
            ],
            "text/plain": [
              "\u001b[2;36m                   \u001b[0m\u001b[2;36m \u001b[0m\u001b[34mINFO    \u001b[0m cid: \u001b[1;36m241\u001b[0m                                                                       \u001b]8;id=82235;file:///tmp/ipykernel_1030410/1340840146.py\u001b\\\u001b[2mflwr\u001b[0m\u001b]8;;\u001b\\\u001b[2m:\u001b[0m\u001b]8;id=201185;file:///tmp/ipykernel_1030410/1340840146.py#21\u001b\\\u001b[2m21\u001b[0m\u001b]8;;\u001b\\\n"
            ]
          },
          "metadata": {},
          "output_type": "display_data"
        },
        {
          "name": "stderr",
          "output_type": "stream",
          "text": [
            "INFO flwr 2025-03-15 22:04:01,282 | 1340840146.py:21 | cid: 1800\n"
          ]
        },
        {
          "data": {
            "text/html": [
              "<pre style=\"white-space:pre;overflow-x:auto;line-height:normal;font-family:Menlo,'DejaVu Sans Mono',consolas,'Courier New',monospace\"><span style=\"color: #7fbfbf; text-decoration-color: #7fbfbf\">                    </span><span style=\"color: #000080; text-decoration-color: #000080\">INFO    </span> cid: <span style=\"color: #008080; text-decoration-color: #008080; font-weight: bold\">1800</span>                                                                      <a href=\"file:///tmp/ipykernel_1030410/1340840146.py\" target=\"_blank\"><span style=\"color: #7f7f7f; text-decoration-color: #7f7f7f\">flwr</span></a><span style=\"color: #7f7f7f; text-decoration-color: #7f7f7f\">:</span><a href=\"file:///tmp/ipykernel_1030410/1340840146.py#21\" target=\"_blank\"><span style=\"color: #7f7f7f; text-decoration-color: #7f7f7f\">21</span></a>\n",
              "</pre>\n"
            ],
            "text/plain": [
              "\u001b[2;36m                   \u001b[0m\u001b[2;36m \u001b[0m\u001b[34mINFO    \u001b[0m cid: \u001b[1;36m1800\u001b[0m                                                                      \u001b]8;id=920212;file:///tmp/ipykernel_1030410/1340840146.py\u001b\\\u001b[2mflwr\u001b[0m\u001b]8;;\u001b\\\u001b[2m:\u001b[0m\u001b]8;id=56255;file:///tmp/ipykernel_1030410/1340840146.py#21\u001b\\\u001b[2m21\u001b[0m\u001b]8;;\u001b\\\n"
            ]
          },
          "metadata": {},
          "output_type": "display_data"
        },
        {
          "name": "stderr",
          "output_type": "stream",
          "text": [
            "INFO flwr 2025-03-15 22:04:01,287 | 1340840146.py:21 | cid: 2271\n"
          ]
        },
        {
          "data": {
            "text/html": [
              "<pre style=\"white-space:pre;overflow-x:auto;line-height:normal;font-family:Menlo,'DejaVu Sans Mono',consolas,'Courier New',monospace\"><span style=\"color: #7fbfbf; text-decoration-color: #7fbfbf\">                    </span><span style=\"color: #000080; text-decoration-color: #000080\">INFO    </span> cid: <span style=\"color: #008080; text-decoration-color: #008080; font-weight: bold\">2271</span>                                                                      <a href=\"file:///tmp/ipykernel_1030410/1340840146.py\" target=\"_blank\"><span style=\"color: #7f7f7f; text-decoration-color: #7f7f7f\">flwr</span></a><span style=\"color: #7f7f7f; text-decoration-color: #7f7f7f\">:</span><a href=\"file:///tmp/ipykernel_1030410/1340840146.py#21\" target=\"_blank\"><span style=\"color: #7f7f7f; text-decoration-color: #7f7f7f\">21</span></a>\n",
              "</pre>\n"
            ],
            "text/plain": [
              "\u001b[2;36m                   \u001b[0m\u001b[2;36m \u001b[0m\u001b[34mINFO    \u001b[0m cid: \u001b[1;36m2271\u001b[0m                                                                      \u001b]8;id=751794;file:///tmp/ipykernel_1030410/1340840146.py\u001b\\\u001b[2mflwr\u001b[0m\u001b]8;;\u001b\\\u001b[2m:\u001b[0m\u001b]8;id=923937;file:///tmp/ipykernel_1030410/1340840146.py#21\u001b\\\u001b[2m21\u001b[0m\u001b]8;;\u001b\\\n"
            ]
          },
          "metadata": {},
          "output_type": "display_data"
        },
        {
          "name": "stderr",
          "output_type": "stream",
          "text": [
            "INFO flwr 2025-03-15 22:04:01,291 | 1340840146.py:21 | cid: 175\n"
          ]
        },
        {
          "data": {
            "text/html": [
              "<pre style=\"white-space:pre;overflow-x:auto;line-height:normal;font-family:Menlo,'DejaVu Sans Mono',consolas,'Courier New',monospace\"><span style=\"color: #7fbfbf; text-decoration-color: #7fbfbf\">                    </span><span style=\"color: #000080; text-decoration-color: #000080\">INFO    </span> cid: <span style=\"color: #008080; text-decoration-color: #008080; font-weight: bold\">175</span>                                                                       <a href=\"file:///tmp/ipykernel_1030410/1340840146.py\" target=\"_blank\"><span style=\"color: #7f7f7f; text-decoration-color: #7f7f7f\">flwr</span></a><span style=\"color: #7f7f7f; text-decoration-color: #7f7f7f\">:</span><a href=\"file:///tmp/ipykernel_1030410/1340840146.py#21\" target=\"_blank\"><span style=\"color: #7f7f7f; text-decoration-color: #7f7f7f\">21</span></a>\n",
              "</pre>\n"
            ],
            "text/plain": [
              "\u001b[2;36m                   \u001b[0m\u001b[2;36m \u001b[0m\u001b[34mINFO    \u001b[0m cid: \u001b[1;36m175\u001b[0m                                                                       \u001b]8;id=58673;file:///tmp/ipykernel_1030410/1340840146.py\u001b\\\u001b[2mflwr\u001b[0m\u001b]8;;\u001b\\\u001b[2m:\u001b[0m\u001b]8;id=664713;file:///tmp/ipykernel_1030410/1340840146.py#21\u001b\\\u001b[2m21\u001b[0m\u001b]8;;\u001b\\\n"
            ]
          },
          "metadata": {},
          "output_type": "display_data"
        },
        {
          "name": "stderr",
          "output_type": "stream",
          "text": [
            "INFO flwr 2025-03-15 22:04:01,296 | 1340840146.py:21 | cid: 1889\n"
          ]
        },
        {
          "data": {
            "text/html": [
              "<pre style=\"white-space:pre;overflow-x:auto;line-height:normal;font-family:Menlo,'DejaVu Sans Mono',consolas,'Courier New',monospace\"><span style=\"color: #7fbfbf; text-decoration-color: #7fbfbf\">                    </span><span style=\"color: #000080; text-decoration-color: #000080\">INFO    </span> cid: <span style=\"color: #008080; text-decoration-color: #008080; font-weight: bold\">1889</span>                                                                      <a href=\"file:///tmp/ipykernel_1030410/1340840146.py\" target=\"_blank\"><span style=\"color: #7f7f7f; text-decoration-color: #7f7f7f\">flwr</span></a><span style=\"color: #7f7f7f; text-decoration-color: #7f7f7f\">:</span><a href=\"file:///tmp/ipykernel_1030410/1340840146.py#21\" target=\"_blank\"><span style=\"color: #7f7f7f; text-decoration-color: #7f7f7f\">21</span></a>\n",
              "</pre>\n"
            ],
            "text/plain": [
              "\u001b[2;36m                   \u001b[0m\u001b[2;36m \u001b[0m\u001b[34mINFO    \u001b[0m cid: \u001b[1;36m1889\u001b[0m                                                                      \u001b]8;id=369540;file:///tmp/ipykernel_1030410/1340840146.py\u001b\\\u001b[2mflwr\u001b[0m\u001b]8;;\u001b\\\u001b[2m:\u001b[0m\u001b]8;id=689084;file:///tmp/ipykernel_1030410/1340840146.py#21\u001b\\\u001b[2m21\u001b[0m\u001b]8;;\u001b\\\n"
            ]
          },
          "metadata": {},
          "output_type": "display_data"
        },
        {
          "name": "stderr",
          "output_type": "stream",
          "text": [
            "INFO flwr 2025-03-15 22:04:01,301 | 1340840146.py:21 | cid: 2772\n"
          ]
        },
        {
          "data": {
            "text/html": [
              "<pre style=\"white-space:pre;overflow-x:auto;line-height:normal;font-family:Menlo,'DejaVu Sans Mono',consolas,'Courier New',monospace\"><span style=\"color: #7fbfbf; text-decoration-color: #7fbfbf\">                    </span><span style=\"color: #000080; text-decoration-color: #000080\">INFO    </span> cid: <span style=\"color: #008080; text-decoration-color: #008080; font-weight: bold\">2772</span>                                                                      <a href=\"file:///tmp/ipykernel_1030410/1340840146.py\" target=\"_blank\"><span style=\"color: #7f7f7f; text-decoration-color: #7f7f7f\">flwr</span></a><span style=\"color: #7f7f7f; text-decoration-color: #7f7f7f\">:</span><a href=\"file:///tmp/ipykernel_1030410/1340840146.py#21\" target=\"_blank\"><span style=\"color: #7f7f7f; text-decoration-color: #7f7f7f\">21</span></a>\n",
              "</pre>\n"
            ],
            "text/plain": [
              "\u001b[2;36m                   \u001b[0m\u001b[2;36m \u001b[0m\u001b[34mINFO    \u001b[0m cid: \u001b[1;36m2772\u001b[0m                                                                      \u001b]8;id=224135;file:///tmp/ipykernel_1030410/1340840146.py\u001b\\\u001b[2mflwr\u001b[0m\u001b]8;;\u001b\\\u001b[2m:\u001b[0m\u001b]8;id=200825;file:///tmp/ipykernel_1030410/1340840146.py#21\u001b\\\u001b[2m21\u001b[0m\u001b]8;;\u001b\\\n"
            ]
          },
          "metadata": {},
          "output_type": "display_data"
        },
        {
          "name": "stderr",
          "output_type": "stream",
          "text": [
            "INFO flwr 2025-03-15 22:04:01,305 | 1340840146.py:21 | cid: 557\n"
          ]
        },
        {
          "data": {
            "text/html": [
              "<pre style=\"white-space:pre;overflow-x:auto;line-height:normal;font-family:Menlo,'DejaVu Sans Mono',consolas,'Courier New',monospace\"><span style=\"color: #7fbfbf; text-decoration-color: #7fbfbf\">                    </span><span style=\"color: #000080; text-decoration-color: #000080\">INFO    </span> cid: <span style=\"color: #008080; text-decoration-color: #008080; font-weight: bold\">557</span>                                                                       <a href=\"file:///tmp/ipykernel_1030410/1340840146.py\" target=\"_blank\"><span style=\"color: #7f7f7f; text-decoration-color: #7f7f7f\">flwr</span></a><span style=\"color: #7f7f7f; text-decoration-color: #7f7f7f\">:</span><a href=\"file:///tmp/ipykernel_1030410/1340840146.py#21\" target=\"_blank\"><span style=\"color: #7f7f7f; text-decoration-color: #7f7f7f\">21</span></a>\n",
              "</pre>\n"
            ],
            "text/plain": [
              "\u001b[2;36m                   \u001b[0m\u001b[2;36m \u001b[0m\u001b[34mINFO    \u001b[0m cid: \u001b[1;36m557\u001b[0m                                                                       \u001b]8;id=579675;file:///tmp/ipykernel_1030410/1340840146.py\u001b\\\u001b[2mflwr\u001b[0m\u001b]8;;\u001b\\\u001b[2m:\u001b[0m\u001b]8;id=265152;file:///tmp/ipykernel_1030410/1340840146.py#21\u001b\\\u001b[2m21\u001b[0m\u001b]8;;\u001b\\\n"
            ]
          },
          "metadata": {},
          "output_type": "display_data"
        },
        {
          "name": "stderr",
          "output_type": "stream",
          "text": [
            "INFO flwr 2025-03-15 22:04:01,310 | 1340840146.py:21 | cid: 654\n"
          ]
        },
        {
          "data": {
            "text/html": [
              "<pre style=\"white-space:pre;overflow-x:auto;line-height:normal;font-family:Menlo,'DejaVu Sans Mono',consolas,'Courier New',monospace\"><span style=\"color: #7fbfbf; text-decoration-color: #7fbfbf\">                    </span><span style=\"color: #000080; text-decoration-color: #000080\">INFO    </span> cid: <span style=\"color: #008080; text-decoration-color: #008080; font-weight: bold\">654</span>                                                                       <a href=\"file:///tmp/ipykernel_1030410/1340840146.py\" target=\"_blank\"><span style=\"color: #7f7f7f; text-decoration-color: #7f7f7f\">flwr</span></a><span style=\"color: #7f7f7f; text-decoration-color: #7f7f7f\">:</span><a href=\"file:///tmp/ipykernel_1030410/1340840146.py#21\" target=\"_blank\"><span style=\"color: #7f7f7f; text-decoration-color: #7f7f7f\">21</span></a>\n",
              "</pre>\n"
            ],
            "text/plain": [
              "\u001b[2;36m                   \u001b[0m\u001b[2;36m \u001b[0m\u001b[34mINFO    \u001b[0m cid: \u001b[1;36m654\u001b[0m                                                                       \u001b]8;id=412038;file:///tmp/ipykernel_1030410/1340840146.py\u001b\\\u001b[2mflwr\u001b[0m\u001b]8;;\u001b\\\u001b[2m:\u001b[0m\u001b]8;id=654695;file:///tmp/ipykernel_1030410/1340840146.py#21\u001b\\\u001b[2m21\u001b[0m\u001b]8;;\u001b\\\n"
            ]
          },
          "metadata": {},
          "output_type": "display_data"
        },
        {
          "name": "stderr",
          "output_type": "stream",
          "text": [
            "INFO flwr 2025-03-15 22:04:01,315 | 1340840146.py:21 | cid: 796\n"
          ]
        },
        {
          "data": {
            "text/html": [
              "<pre style=\"white-space:pre;overflow-x:auto;line-height:normal;font-family:Menlo,'DejaVu Sans Mono',consolas,'Courier New',monospace\"><span style=\"color: #7fbfbf; text-decoration-color: #7fbfbf\">                    </span><span style=\"color: #000080; text-decoration-color: #000080\">INFO    </span> cid: <span style=\"color: #008080; text-decoration-color: #008080; font-weight: bold\">796</span>                                                                       <a href=\"file:///tmp/ipykernel_1030410/1340840146.py\" target=\"_blank\"><span style=\"color: #7f7f7f; text-decoration-color: #7f7f7f\">flwr</span></a><span style=\"color: #7f7f7f; text-decoration-color: #7f7f7f\">:</span><a href=\"file:///tmp/ipykernel_1030410/1340840146.py#21\" target=\"_blank\"><span style=\"color: #7f7f7f; text-decoration-color: #7f7f7f\">21</span></a>\n",
              "</pre>\n"
            ],
            "text/plain": [
              "\u001b[2;36m                   \u001b[0m\u001b[2;36m \u001b[0m\u001b[34mINFO    \u001b[0m cid: \u001b[1;36m796\u001b[0m                                                                       \u001b]8;id=437809;file:///tmp/ipykernel_1030410/1340840146.py\u001b\\\u001b[2mflwr\u001b[0m\u001b]8;;\u001b\\\u001b[2m:\u001b[0m\u001b]8;id=979744;file:///tmp/ipykernel_1030410/1340840146.py#21\u001b\\\u001b[2m21\u001b[0m\u001b]8;;\u001b\\\n"
            ]
          },
          "metadata": {},
          "output_type": "display_data"
        },
        {
          "name": "stderr",
          "output_type": "stream",
          "text": [
            "INFO flwr 2025-03-15 22:04:01,320 | 1340840146.py:21 | cid: 651\n"
          ]
        },
        {
          "data": {
            "text/html": [
              "<pre style=\"white-space:pre;overflow-x:auto;line-height:normal;font-family:Menlo,'DejaVu Sans Mono',consolas,'Courier New',monospace\"><span style=\"color: #7fbfbf; text-decoration-color: #7fbfbf\">                    </span><span style=\"color: #000080; text-decoration-color: #000080\">INFO    </span> cid: <span style=\"color: #008080; text-decoration-color: #008080; font-weight: bold\">651</span>                                                                       <a href=\"file:///tmp/ipykernel_1030410/1340840146.py\" target=\"_blank\"><span style=\"color: #7f7f7f; text-decoration-color: #7f7f7f\">flwr</span></a><span style=\"color: #7f7f7f; text-decoration-color: #7f7f7f\">:</span><a href=\"file:///tmp/ipykernel_1030410/1340840146.py#21\" target=\"_blank\"><span style=\"color: #7f7f7f; text-decoration-color: #7f7f7f\">21</span></a>\n",
              "</pre>\n"
            ],
            "text/plain": [
              "\u001b[2;36m                   \u001b[0m\u001b[2;36m \u001b[0m\u001b[34mINFO    \u001b[0m cid: \u001b[1;36m651\u001b[0m                                                                       \u001b]8;id=659739;file:///tmp/ipykernel_1030410/1340840146.py\u001b\\\u001b[2mflwr\u001b[0m\u001b]8;;\u001b\\\u001b[2m:\u001b[0m\u001b]8;id=337297;file:///tmp/ipykernel_1030410/1340840146.py#21\u001b\\\u001b[2m21\u001b[0m\u001b]8;;\u001b\\\n"
            ]
          },
          "metadata": {},
          "output_type": "display_data"
        },
        {
          "name": "stderr",
          "output_type": "stream",
          "text": [
            "INFO flwr 2025-03-15 22:04:01,324 | 1340840146.py:21 | cid: 161\n"
          ]
        },
        {
          "data": {
            "text/html": [
              "<pre style=\"white-space:pre;overflow-x:auto;line-height:normal;font-family:Menlo,'DejaVu Sans Mono',consolas,'Courier New',monospace\"><span style=\"color: #7fbfbf; text-decoration-color: #7fbfbf\">                    </span><span style=\"color: #000080; text-decoration-color: #000080\">INFO    </span> cid: <span style=\"color: #008080; text-decoration-color: #008080; font-weight: bold\">161</span>                                                                       <a href=\"file:///tmp/ipykernel_1030410/1340840146.py\" target=\"_blank\"><span style=\"color: #7f7f7f; text-decoration-color: #7f7f7f\">flwr</span></a><span style=\"color: #7f7f7f; text-decoration-color: #7f7f7f\">:</span><a href=\"file:///tmp/ipykernel_1030410/1340840146.py#21\" target=\"_blank\"><span style=\"color: #7f7f7f; text-decoration-color: #7f7f7f\">21</span></a>\n",
              "</pre>\n"
            ],
            "text/plain": [
              "\u001b[2;36m                   \u001b[0m\u001b[2;36m \u001b[0m\u001b[34mINFO    \u001b[0m cid: \u001b[1;36m161\u001b[0m                                                                       \u001b]8;id=672458;file:///tmp/ipykernel_1030410/1340840146.py\u001b\\\u001b[2mflwr\u001b[0m\u001b]8;;\u001b\\\u001b[2m:\u001b[0m\u001b]8;id=458733;file:///tmp/ipykernel_1030410/1340840146.py#21\u001b\\\u001b[2m21\u001b[0m\u001b]8;;\u001b\\\n"
            ]
          },
          "metadata": {},
          "output_type": "display_data"
        },
        {
          "name": "stderr",
          "output_type": "stream",
          "text": [
            "INFO flwr 2025-03-15 22:04:01,330 | 1340840146.py:21 | cid: 1257\n"
          ]
        },
        {
          "data": {
            "text/html": [
              "<pre style=\"white-space:pre;overflow-x:auto;line-height:normal;font-family:Menlo,'DejaVu Sans Mono',consolas,'Courier New',monospace\"><span style=\"color: #7fbfbf; text-decoration-color: #7fbfbf\">                    </span><span style=\"color: #000080; text-decoration-color: #000080\">INFO    </span> cid: <span style=\"color: #008080; text-decoration-color: #008080; font-weight: bold\">1257</span>                                                                      <a href=\"file:///tmp/ipykernel_1030410/1340840146.py\" target=\"_blank\"><span style=\"color: #7f7f7f; text-decoration-color: #7f7f7f\">flwr</span></a><span style=\"color: #7f7f7f; text-decoration-color: #7f7f7f\">:</span><a href=\"file:///tmp/ipykernel_1030410/1340840146.py#21\" target=\"_blank\"><span style=\"color: #7f7f7f; text-decoration-color: #7f7f7f\">21</span></a>\n",
              "</pre>\n"
            ],
            "text/plain": [
              "\u001b[2;36m                   \u001b[0m\u001b[2;36m \u001b[0m\u001b[34mINFO    \u001b[0m cid: \u001b[1;36m1257\u001b[0m                                                                      \u001b]8;id=818729;file:///tmp/ipykernel_1030410/1340840146.py\u001b\\\u001b[2mflwr\u001b[0m\u001b]8;;\u001b\\\u001b[2m:\u001b[0m\u001b]8;id=421943;file:///tmp/ipykernel_1030410/1340840146.py#21\u001b\\\u001b[2m21\u001b[0m\u001b]8;;\u001b\\\n"
            ]
          },
          "metadata": {},
          "output_type": "display_data"
        },
        {
          "name": "stderr",
          "output_type": "stream",
          "text": [
            "INFO flwr 2025-03-15 22:04:01,336 | 1340840146.py:21 | cid: 1469\n"
          ]
        },
        {
          "data": {
            "text/html": [
              "<pre style=\"white-space:pre;overflow-x:auto;line-height:normal;font-family:Menlo,'DejaVu Sans Mono',consolas,'Courier New',monospace\"><span style=\"color: #7fbfbf; text-decoration-color: #7fbfbf\">                    </span><span style=\"color: #000080; text-decoration-color: #000080\">INFO    </span> cid: <span style=\"color: #008080; text-decoration-color: #008080; font-weight: bold\">1469</span>                                                                      <a href=\"file:///tmp/ipykernel_1030410/1340840146.py\" target=\"_blank\"><span style=\"color: #7f7f7f; text-decoration-color: #7f7f7f\">flwr</span></a><span style=\"color: #7f7f7f; text-decoration-color: #7f7f7f\">:</span><a href=\"file:///tmp/ipykernel_1030410/1340840146.py#21\" target=\"_blank\"><span style=\"color: #7f7f7f; text-decoration-color: #7f7f7f\">21</span></a>\n",
              "</pre>\n"
            ],
            "text/plain": [
              "\u001b[2;36m                   \u001b[0m\u001b[2;36m \u001b[0m\u001b[34mINFO    \u001b[0m cid: \u001b[1;36m1469\u001b[0m                                                                      \u001b]8;id=461442;file:///tmp/ipykernel_1030410/1340840146.py\u001b\\\u001b[2mflwr\u001b[0m\u001b]8;;\u001b\\\u001b[2m:\u001b[0m\u001b]8;id=608319;file:///tmp/ipykernel_1030410/1340840146.py#21\u001b\\\u001b[2m21\u001b[0m\u001b]8;;\u001b\\\n"
            ]
          },
          "metadata": {},
          "output_type": "display_data"
        },
        {
          "name": "stderr",
          "output_type": "stream",
          "text": [
            "INFO flwr 2025-03-15 22:04:01,340 | 1340840146.py:21 | cid: 1552\n"
          ]
        },
        {
          "data": {
            "text/html": [
              "<pre style=\"white-space:pre;overflow-x:auto;line-height:normal;font-family:Menlo,'DejaVu Sans Mono',consolas,'Courier New',monospace\"><span style=\"color: #7fbfbf; text-decoration-color: #7fbfbf\">                    </span><span style=\"color: #000080; text-decoration-color: #000080\">INFO    </span> cid: <span style=\"color: #008080; text-decoration-color: #008080; font-weight: bold\">1552</span>                                                                      <a href=\"file:///tmp/ipykernel_1030410/1340840146.py\" target=\"_blank\"><span style=\"color: #7f7f7f; text-decoration-color: #7f7f7f\">flwr</span></a><span style=\"color: #7f7f7f; text-decoration-color: #7f7f7f\">:</span><a href=\"file:///tmp/ipykernel_1030410/1340840146.py#21\" target=\"_blank\"><span style=\"color: #7f7f7f; text-decoration-color: #7f7f7f\">21</span></a>\n",
              "</pre>\n"
            ],
            "text/plain": [
              "\u001b[2;36m                   \u001b[0m\u001b[2;36m \u001b[0m\u001b[34mINFO    \u001b[0m cid: \u001b[1;36m1552\u001b[0m                                                                      \u001b]8;id=860199;file:///tmp/ipykernel_1030410/1340840146.py\u001b\\\u001b[2mflwr\u001b[0m\u001b]8;;\u001b\\\u001b[2m:\u001b[0m\u001b]8;id=289021;file:///tmp/ipykernel_1030410/1340840146.py#21\u001b\\\u001b[2m21\u001b[0m\u001b]8;;\u001b\\\n"
            ]
          },
          "metadata": {},
          "output_type": "display_data"
        },
        {
          "name": "stderr",
          "output_type": "stream",
          "text": [
            "INFO flwr 2025-03-15 22:04:01,344 | 1340840146.py:21 | cid: 3123\n"
          ]
        },
        {
          "data": {
            "text/html": [
              "<pre style=\"white-space:pre;overflow-x:auto;line-height:normal;font-family:Menlo,'DejaVu Sans Mono',consolas,'Courier New',monospace\"><span style=\"color: #7fbfbf; text-decoration-color: #7fbfbf\">                    </span><span style=\"color: #000080; text-decoration-color: #000080\">INFO    </span> cid: <span style=\"color: #008080; text-decoration-color: #008080; font-weight: bold\">3123</span>                                                                      <a href=\"file:///tmp/ipykernel_1030410/1340840146.py\" target=\"_blank\"><span style=\"color: #7f7f7f; text-decoration-color: #7f7f7f\">flwr</span></a><span style=\"color: #7f7f7f; text-decoration-color: #7f7f7f\">:</span><a href=\"file:///tmp/ipykernel_1030410/1340840146.py#21\" target=\"_blank\"><span style=\"color: #7f7f7f; text-decoration-color: #7f7f7f\">21</span></a>\n",
              "</pre>\n"
            ],
            "text/plain": [
              "\u001b[2;36m                   \u001b[0m\u001b[2;36m \u001b[0m\u001b[34mINFO    \u001b[0m cid: \u001b[1;36m3123\u001b[0m                                                                      \u001b]8;id=742766;file:///tmp/ipykernel_1030410/1340840146.py\u001b\\\u001b[2mflwr\u001b[0m\u001b]8;;\u001b\\\u001b[2m:\u001b[0m\u001b]8;id=90000;file:///tmp/ipykernel_1030410/1340840146.py#21\u001b\\\u001b[2m21\u001b[0m\u001b]8;;\u001b\\\n"
            ]
          },
          "metadata": {},
          "output_type": "display_data"
        },
        {
          "name": "stderr",
          "output_type": "stream",
          "text": [
            "INFO flwr 2025-03-15 22:04:01,348 | 1340840146.py:21 | cid: 1887\n"
          ]
        },
        {
          "data": {
            "text/html": [
              "<pre style=\"white-space:pre;overflow-x:auto;line-height:normal;font-family:Menlo,'DejaVu Sans Mono',consolas,'Courier New',monospace\"><span style=\"color: #7fbfbf; text-decoration-color: #7fbfbf\">                    </span><span style=\"color: #000080; text-decoration-color: #000080\">INFO    </span> cid: <span style=\"color: #008080; text-decoration-color: #008080; font-weight: bold\">1887</span>                                                                      <a href=\"file:///tmp/ipykernel_1030410/1340840146.py\" target=\"_blank\"><span style=\"color: #7f7f7f; text-decoration-color: #7f7f7f\">flwr</span></a><span style=\"color: #7f7f7f; text-decoration-color: #7f7f7f\">:</span><a href=\"file:///tmp/ipykernel_1030410/1340840146.py#21\" target=\"_blank\"><span style=\"color: #7f7f7f; text-decoration-color: #7f7f7f\">21</span></a>\n",
              "</pre>\n"
            ],
            "text/plain": [
              "\u001b[2;36m                   \u001b[0m\u001b[2;36m \u001b[0m\u001b[34mINFO    \u001b[0m cid: \u001b[1;36m1887\u001b[0m                                                                      \u001b]8;id=882126;file:///tmp/ipykernel_1030410/1340840146.py\u001b\\\u001b[2mflwr\u001b[0m\u001b]8;;\u001b\\\u001b[2m:\u001b[0m\u001b]8;id=977022;file:///tmp/ipykernel_1030410/1340840146.py#21\u001b\\\u001b[2m21\u001b[0m\u001b]8;;\u001b\\\n"
            ]
          },
          "metadata": {},
          "output_type": "display_data"
        },
        {
          "name": "stderr",
          "output_type": "stream",
          "text": [
            "INFO flwr 2025-03-15 22:04:01,353 | 1340840146.py:21 | cid: 1127\n"
          ]
        },
        {
          "data": {
            "text/html": [
              "<pre style=\"white-space:pre;overflow-x:auto;line-height:normal;font-family:Menlo,'DejaVu Sans Mono',consolas,'Courier New',monospace\"><span style=\"color: #7fbfbf; text-decoration-color: #7fbfbf\">                    </span><span style=\"color: #000080; text-decoration-color: #000080\">INFO    </span> cid: <span style=\"color: #008080; text-decoration-color: #008080; font-weight: bold\">1127</span>                                                                      <a href=\"file:///tmp/ipykernel_1030410/1340840146.py\" target=\"_blank\"><span style=\"color: #7f7f7f; text-decoration-color: #7f7f7f\">flwr</span></a><span style=\"color: #7f7f7f; text-decoration-color: #7f7f7f\">:</span><a href=\"file:///tmp/ipykernel_1030410/1340840146.py#21\" target=\"_blank\"><span style=\"color: #7f7f7f; text-decoration-color: #7f7f7f\">21</span></a>\n",
              "</pre>\n"
            ],
            "text/plain": [
              "\u001b[2;36m                   \u001b[0m\u001b[2;36m \u001b[0m\u001b[34mINFO    \u001b[0m cid: \u001b[1;36m1127\u001b[0m                                                                      \u001b]8;id=952411;file:///tmp/ipykernel_1030410/1340840146.py\u001b\\\u001b[2mflwr\u001b[0m\u001b]8;;\u001b\\\u001b[2m:\u001b[0m\u001b]8;id=407641;file:///tmp/ipykernel_1030410/1340840146.py#21\u001b\\\u001b[2m21\u001b[0m\u001b]8;;\u001b\\\n"
            ]
          },
          "metadata": {},
          "output_type": "display_data"
        },
        {
          "name": "stderr",
          "output_type": "stream",
          "text": [
            "INFO flwr 2025-03-15 22:04:01,360 | 1340840146.py:21 | cid: 571\n"
          ]
        },
        {
          "data": {
            "text/html": [
              "<pre style=\"white-space:pre;overflow-x:auto;line-height:normal;font-family:Menlo,'DejaVu Sans Mono',consolas,'Courier New',monospace\"><span style=\"color: #7fbfbf; text-decoration-color: #7fbfbf\">                    </span><span style=\"color: #000080; text-decoration-color: #000080\">INFO    </span> cid: <span style=\"color: #008080; text-decoration-color: #008080; font-weight: bold\">571</span>                                                                       <a href=\"file:///tmp/ipykernel_1030410/1340840146.py\" target=\"_blank\"><span style=\"color: #7f7f7f; text-decoration-color: #7f7f7f\">flwr</span></a><span style=\"color: #7f7f7f; text-decoration-color: #7f7f7f\">:</span><a href=\"file:///tmp/ipykernel_1030410/1340840146.py#21\" target=\"_blank\"><span style=\"color: #7f7f7f; text-decoration-color: #7f7f7f\">21</span></a>\n",
              "</pre>\n"
            ],
            "text/plain": [
              "\u001b[2;36m                   \u001b[0m\u001b[2;36m \u001b[0m\u001b[34mINFO    \u001b[0m cid: \u001b[1;36m571\u001b[0m                                                                       \u001b]8;id=609390;file:///tmp/ipykernel_1030410/1340840146.py\u001b\\\u001b[2mflwr\u001b[0m\u001b]8;;\u001b\\\u001b[2m:\u001b[0m\u001b]8;id=397184;file:///tmp/ipykernel_1030410/1340840146.py#21\u001b\\\u001b[2m21\u001b[0m\u001b]8;;\u001b\\\n"
            ]
          },
          "metadata": {},
          "output_type": "display_data"
        },
        {
          "name": "stderr",
          "output_type": "stream",
          "text": [
            "INFO flwr 2025-03-15 22:04:01,366 | 1340840146.py:21 | cid: 800\n"
          ]
        },
        {
          "data": {
            "text/html": [
              "<pre style=\"white-space:pre;overflow-x:auto;line-height:normal;font-family:Menlo,'DejaVu Sans Mono',consolas,'Courier New',monospace\"><span style=\"color: #7fbfbf; text-decoration-color: #7fbfbf\">                    </span><span style=\"color: #000080; text-decoration-color: #000080\">INFO    </span> cid: <span style=\"color: #008080; text-decoration-color: #008080; font-weight: bold\">800</span>                                                                       <a href=\"file:///tmp/ipykernel_1030410/1340840146.py\" target=\"_blank\"><span style=\"color: #7f7f7f; text-decoration-color: #7f7f7f\">flwr</span></a><span style=\"color: #7f7f7f; text-decoration-color: #7f7f7f\">:</span><a href=\"file:///tmp/ipykernel_1030410/1340840146.py#21\" target=\"_blank\"><span style=\"color: #7f7f7f; text-decoration-color: #7f7f7f\">21</span></a>\n",
              "</pre>\n"
            ],
            "text/plain": [
              "\u001b[2;36m                   \u001b[0m\u001b[2;36m \u001b[0m\u001b[34mINFO    \u001b[0m cid: \u001b[1;36m800\u001b[0m                                                                       \u001b]8;id=254830;file:///tmp/ipykernel_1030410/1340840146.py\u001b\\\u001b[2mflwr\u001b[0m\u001b]8;;\u001b\\\u001b[2m:\u001b[0m\u001b]8;id=315931;file:///tmp/ipykernel_1030410/1340840146.py#21\u001b\\\u001b[2m21\u001b[0m\u001b]8;;\u001b\\\n"
            ]
          },
          "metadata": {},
          "output_type": "display_data"
        },
        {
          "name": "stderr",
          "output_type": "stream",
          "text": [
            "INFO flwr 2025-03-15 22:04:01,372 | 1340840146.py:21 | cid: 214\n"
          ]
        },
        {
          "data": {
            "text/html": [
              "<pre style=\"white-space:pre;overflow-x:auto;line-height:normal;font-family:Menlo,'DejaVu Sans Mono',consolas,'Courier New',monospace\"><span style=\"color: #7fbfbf; text-decoration-color: #7fbfbf\">                    </span><span style=\"color: #000080; text-decoration-color: #000080\">INFO    </span> cid: <span style=\"color: #008080; text-decoration-color: #008080; font-weight: bold\">214</span>                                                                       <a href=\"file:///tmp/ipykernel_1030410/1340840146.py\" target=\"_blank\"><span style=\"color: #7f7f7f; text-decoration-color: #7f7f7f\">flwr</span></a><span style=\"color: #7f7f7f; text-decoration-color: #7f7f7f\">:</span><a href=\"file:///tmp/ipykernel_1030410/1340840146.py#21\" target=\"_blank\"><span style=\"color: #7f7f7f; text-decoration-color: #7f7f7f\">21</span></a>\n",
              "</pre>\n"
            ],
            "text/plain": [
              "\u001b[2;36m                   \u001b[0m\u001b[2;36m \u001b[0m\u001b[34mINFO    \u001b[0m cid: \u001b[1;36m214\u001b[0m                                                                       \u001b]8;id=372931;file:///tmp/ipykernel_1030410/1340840146.py\u001b\\\u001b[2mflwr\u001b[0m\u001b]8;;\u001b\\\u001b[2m:\u001b[0m\u001b]8;id=560954;file:///tmp/ipykernel_1030410/1340840146.py#21\u001b\\\u001b[2m21\u001b[0m\u001b]8;;\u001b\\\n"
            ]
          },
          "metadata": {},
          "output_type": "display_data"
        },
        {
          "name": "stderr",
          "output_type": "stream",
          "text": [
            "INFO flwr 2025-03-15 22:04:01,378 | 1340840146.py:21 | cid: 1345\n"
          ]
        },
        {
          "data": {
            "text/html": [
              "<pre style=\"white-space:pre;overflow-x:auto;line-height:normal;font-family:Menlo,'DejaVu Sans Mono',consolas,'Courier New',monospace\"><span style=\"color: #7fbfbf; text-decoration-color: #7fbfbf\">                    </span><span style=\"color: #000080; text-decoration-color: #000080\">INFO    </span> cid: <span style=\"color: #008080; text-decoration-color: #008080; font-weight: bold\">1345</span>                                                                      <a href=\"file:///tmp/ipykernel_1030410/1340840146.py\" target=\"_blank\"><span style=\"color: #7f7f7f; text-decoration-color: #7f7f7f\">flwr</span></a><span style=\"color: #7f7f7f; text-decoration-color: #7f7f7f\">:</span><a href=\"file:///tmp/ipykernel_1030410/1340840146.py#21\" target=\"_blank\"><span style=\"color: #7f7f7f; text-decoration-color: #7f7f7f\">21</span></a>\n",
              "</pre>\n"
            ],
            "text/plain": [
              "\u001b[2;36m                   \u001b[0m\u001b[2;36m \u001b[0m\u001b[34mINFO    \u001b[0m cid: \u001b[1;36m1345\u001b[0m                                                                      \u001b]8;id=713779;file:///tmp/ipykernel_1030410/1340840146.py\u001b\\\u001b[2mflwr\u001b[0m\u001b]8;;\u001b\\\u001b[2m:\u001b[0m\u001b]8;id=898032;file:///tmp/ipykernel_1030410/1340840146.py#21\u001b\\\u001b[2m21\u001b[0m\u001b]8;;\u001b\\\n"
            ]
          },
          "metadata": {},
          "output_type": "display_data"
        },
        {
          "name": "stderr",
          "output_type": "stream",
          "text": [
            "INFO flwr 2025-03-15 22:04:01,382 | 1340840146.py:21 | cid: 2756\n"
          ]
        },
        {
          "data": {
            "text/html": [
              "<pre style=\"white-space:pre;overflow-x:auto;line-height:normal;font-family:Menlo,'DejaVu Sans Mono',consolas,'Courier New',monospace\"><span style=\"color: #7fbfbf; text-decoration-color: #7fbfbf\">                    </span><span style=\"color: #000080; text-decoration-color: #000080\">INFO    </span> cid: <span style=\"color: #008080; text-decoration-color: #008080; font-weight: bold\">2756</span>                                                                      <a href=\"file:///tmp/ipykernel_1030410/1340840146.py\" target=\"_blank\"><span style=\"color: #7f7f7f; text-decoration-color: #7f7f7f\">flwr</span></a><span style=\"color: #7f7f7f; text-decoration-color: #7f7f7f\">:</span><a href=\"file:///tmp/ipykernel_1030410/1340840146.py#21\" target=\"_blank\"><span style=\"color: #7f7f7f; text-decoration-color: #7f7f7f\">21</span></a>\n",
              "</pre>\n"
            ],
            "text/plain": [
              "\u001b[2;36m                   \u001b[0m\u001b[2;36m \u001b[0m\u001b[34mINFO    \u001b[0m cid: \u001b[1;36m2756\u001b[0m                                                                      \u001b]8;id=619664;file:///tmp/ipykernel_1030410/1340840146.py\u001b\\\u001b[2mflwr\u001b[0m\u001b]8;;\u001b\\\u001b[2m:\u001b[0m\u001b]8;id=704219;file:///tmp/ipykernel_1030410/1340840146.py#21\u001b\\\u001b[2m21\u001b[0m\u001b]8;;\u001b\\\n"
            ]
          },
          "metadata": {},
          "output_type": "display_data"
        },
        {
          "name": "stderr",
          "output_type": "stream",
          "text": [
            "INFO flwr 2025-03-15 22:04:01,387 | 1340840146.py:21 | cid: 2638\n"
          ]
        },
        {
          "data": {
            "text/html": [
              "<pre style=\"white-space:pre;overflow-x:auto;line-height:normal;font-family:Menlo,'DejaVu Sans Mono',consolas,'Courier New',monospace\"><span style=\"color: #7fbfbf; text-decoration-color: #7fbfbf\">                    </span><span style=\"color: #000080; text-decoration-color: #000080\">INFO    </span> cid: <span style=\"color: #008080; text-decoration-color: #008080; font-weight: bold\">2638</span>                                                                      <a href=\"file:///tmp/ipykernel_1030410/1340840146.py\" target=\"_blank\"><span style=\"color: #7f7f7f; text-decoration-color: #7f7f7f\">flwr</span></a><span style=\"color: #7f7f7f; text-decoration-color: #7f7f7f\">:</span><a href=\"file:///tmp/ipykernel_1030410/1340840146.py#21\" target=\"_blank\"><span style=\"color: #7f7f7f; text-decoration-color: #7f7f7f\">21</span></a>\n",
              "</pre>\n"
            ],
            "text/plain": [
              "\u001b[2;36m                   \u001b[0m\u001b[2;36m \u001b[0m\u001b[34mINFO    \u001b[0m cid: \u001b[1;36m2638\u001b[0m                                                                      \u001b]8;id=310654;file:///tmp/ipykernel_1030410/1340840146.py\u001b\\\u001b[2mflwr\u001b[0m\u001b]8;;\u001b\\\u001b[2m:\u001b[0m\u001b]8;id=16613;file:///tmp/ipykernel_1030410/1340840146.py#21\u001b\\\u001b[2m21\u001b[0m\u001b]8;;\u001b\\\n"
            ]
          },
          "metadata": {},
          "output_type": "display_data"
        },
        {
          "name": "stderr",
          "output_type": "stream",
          "text": [
            "INFO flwr 2025-03-15 22:04:01,392 | 1340840146.py:21 | cid: 609\n"
          ]
        },
        {
          "data": {
            "text/html": [
              "<pre style=\"white-space:pre;overflow-x:auto;line-height:normal;font-family:Menlo,'DejaVu Sans Mono',consolas,'Courier New',monospace\"><span style=\"color: #7fbfbf; text-decoration-color: #7fbfbf\">                    </span><span style=\"color: #000080; text-decoration-color: #000080\">INFO    </span> cid: <span style=\"color: #008080; text-decoration-color: #008080; font-weight: bold\">609</span>                                                                       <a href=\"file:///tmp/ipykernel_1030410/1340840146.py\" target=\"_blank\"><span style=\"color: #7f7f7f; text-decoration-color: #7f7f7f\">flwr</span></a><span style=\"color: #7f7f7f; text-decoration-color: #7f7f7f\">:</span><a href=\"file:///tmp/ipykernel_1030410/1340840146.py#21\" target=\"_blank\"><span style=\"color: #7f7f7f; text-decoration-color: #7f7f7f\">21</span></a>\n",
              "</pre>\n"
            ],
            "text/plain": [
              "\u001b[2;36m                   \u001b[0m\u001b[2;36m \u001b[0m\u001b[34mINFO    \u001b[0m cid: \u001b[1;36m609\u001b[0m                                                                       \u001b]8;id=915662;file:///tmp/ipykernel_1030410/1340840146.py\u001b\\\u001b[2mflwr\u001b[0m\u001b]8;;\u001b\\\u001b[2m:\u001b[0m\u001b]8;id=680844;file:///tmp/ipykernel_1030410/1340840146.py#21\u001b\\\u001b[2m21\u001b[0m\u001b]8;;\u001b\\\n"
            ]
          },
          "metadata": {},
          "output_type": "display_data"
        },
        {
          "name": "stderr",
          "output_type": "stream",
          "text": [
            "INFO flwr 2025-03-15 22:04:01,399 | 1340840146.py:21 | cid: 3002\n"
          ]
        },
        {
          "data": {
            "text/html": [
              "<pre style=\"white-space:pre;overflow-x:auto;line-height:normal;font-family:Menlo,'DejaVu Sans Mono',consolas,'Courier New',monospace\"><span style=\"color: #7fbfbf; text-decoration-color: #7fbfbf\">                    </span><span style=\"color: #000080; text-decoration-color: #000080\">INFO    </span> cid: <span style=\"color: #008080; text-decoration-color: #008080; font-weight: bold\">3002</span>                                                                      <a href=\"file:///tmp/ipykernel_1030410/1340840146.py\" target=\"_blank\"><span style=\"color: #7f7f7f; text-decoration-color: #7f7f7f\">flwr</span></a><span style=\"color: #7f7f7f; text-decoration-color: #7f7f7f\">:</span><a href=\"file:///tmp/ipykernel_1030410/1340840146.py#21\" target=\"_blank\"><span style=\"color: #7f7f7f; text-decoration-color: #7f7f7f\">21</span></a>\n",
              "</pre>\n"
            ],
            "text/plain": [
              "\u001b[2;36m                   \u001b[0m\u001b[2;36m \u001b[0m\u001b[34mINFO    \u001b[0m cid: \u001b[1;36m3002\u001b[0m                                                                      \u001b]8;id=770902;file:///tmp/ipykernel_1030410/1340840146.py\u001b\\\u001b[2mflwr\u001b[0m\u001b]8;;\u001b\\\u001b[2m:\u001b[0m\u001b]8;id=756775;file:///tmp/ipykernel_1030410/1340840146.py#21\u001b\\\u001b[2m21\u001b[0m\u001b]8;;\u001b\\\n"
            ]
          },
          "metadata": {},
          "output_type": "display_data"
        },
        {
          "name": "stderr",
          "output_type": "stream",
          "text": [
            "INFO flwr 2025-03-15 22:04:01,403 | 1340840146.py:21 | cid: 85\n"
          ]
        },
        {
          "data": {
            "text/html": [
              "<pre style=\"white-space:pre;overflow-x:auto;line-height:normal;font-family:Menlo,'DejaVu Sans Mono',consolas,'Courier New',monospace\"><span style=\"color: #7fbfbf; text-decoration-color: #7fbfbf\">                    </span><span style=\"color: #000080; text-decoration-color: #000080\">INFO    </span> cid: <span style=\"color: #008080; text-decoration-color: #008080; font-weight: bold\">85</span>                                                                        <a href=\"file:///tmp/ipykernel_1030410/1340840146.py\" target=\"_blank\"><span style=\"color: #7f7f7f; text-decoration-color: #7f7f7f\">flwr</span></a><span style=\"color: #7f7f7f; text-decoration-color: #7f7f7f\">:</span><a href=\"file:///tmp/ipykernel_1030410/1340840146.py#21\" target=\"_blank\"><span style=\"color: #7f7f7f; text-decoration-color: #7f7f7f\">21</span></a>\n",
              "</pre>\n"
            ],
            "text/plain": [
              "\u001b[2;36m                   \u001b[0m\u001b[2;36m \u001b[0m\u001b[34mINFO    \u001b[0m cid: \u001b[1;36m85\u001b[0m                                                                        \u001b]8;id=248563;file:///tmp/ipykernel_1030410/1340840146.py\u001b\\\u001b[2mflwr\u001b[0m\u001b]8;;\u001b\\\u001b[2m:\u001b[0m\u001b]8;id=788342;file:///tmp/ipykernel_1030410/1340840146.py#21\u001b\\\u001b[2m21\u001b[0m\u001b]8;;\u001b\\\n"
            ]
          },
          "metadata": {},
          "output_type": "display_data"
        },
        {
          "name": "stderr",
          "output_type": "stream",
          "text": [
            "INFO flwr 2025-03-15 22:04:01,407 | 1340840146.py:21 | cid: 912\n"
          ]
        },
        {
          "data": {
            "text/html": [
              "<pre style=\"white-space:pre;overflow-x:auto;line-height:normal;font-family:Menlo,'DejaVu Sans Mono',consolas,'Courier New',monospace\"><span style=\"color: #7fbfbf; text-decoration-color: #7fbfbf\">                    </span><span style=\"color: #000080; text-decoration-color: #000080\">INFO    </span> cid: <span style=\"color: #008080; text-decoration-color: #008080; font-weight: bold\">912</span>                                                                       <a href=\"file:///tmp/ipykernel_1030410/1340840146.py\" target=\"_blank\"><span style=\"color: #7f7f7f; text-decoration-color: #7f7f7f\">flwr</span></a><span style=\"color: #7f7f7f; text-decoration-color: #7f7f7f\">:</span><a href=\"file:///tmp/ipykernel_1030410/1340840146.py#21\" target=\"_blank\"><span style=\"color: #7f7f7f; text-decoration-color: #7f7f7f\">21</span></a>\n",
              "</pre>\n"
            ],
            "text/plain": [
              "\u001b[2;36m                   \u001b[0m\u001b[2;36m \u001b[0m\u001b[34mINFO    \u001b[0m cid: \u001b[1;36m912\u001b[0m                                                                       \u001b]8;id=838046;file:///tmp/ipykernel_1030410/1340840146.py\u001b\\\u001b[2mflwr\u001b[0m\u001b]8;;\u001b\\\u001b[2m:\u001b[0m\u001b]8;id=462061;file:///tmp/ipykernel_1030410/1340840146.py#21\u001b\\\u001b[2m21\u001b[0m\u001b]8;;\u001b\\\n"
            ]
          },
          "metadata": {},
          "output_type": "display_data"
        },
        {
          "name": "stderr",
          "output_type": "stream",
          "text": [
            "INFO flwr 2025-03-15 22:04:01,412 | 1340840146.py:21 | cid: 1888\n"
          ]
        },
        {
          "data": {
            "text/html": [
              "<pre style=\"white-space:pre;overflow-x:auto;line-height:normal;font-family:Menlo,'DejaVu Sans Mono',consolas,'Courier New',monospace\"><span style=\"color: #7fbfbf; text-decoration-color: #7fbfbf\">                    </span><span style=\"color: #000080; text-decoration-color: #000080\">INFO    </span> cid: <span style=\"color: #008080; text-decoration-color: #008080; font-weight: bold\">1888</span>                                                                      <a href=\"file:///tmp/ipykernel_1030410/1340840146.py\" target=\"_blank\"><span style=\"color: #7f7f7f; text-decoration-color: #7f7f7f\">flwr</span></a><span style=\"color: #7f7f7f; text-decoration-color: #7f7f7f\">:</span><a href=\"file:///tmp/ipykernel_1030410/1340840146.py#21\" target=\"_blank\"><span style=\"color: #7f7f7f; text-decoration-color: #7f7f7f\">21</span></a>\n",
              "</pre>\n"
            ],
            "text/plain": [
              "\u001b[2;36m                   \u001b[0m\u001b[2;36m \u001b[0m\u001b[34mINFO    \u001b[0m cid: \u001b[1;36m1888\u001b[0m                                                                      \u001b]8;id=321819;file:///tmp/ipykernel_1030410/1340840146.py\u001b\\\u001b[2mflwr\u001b[0m\u001b]8;;\u001b\\\u001b[2m:\u001b[0m\u001b]8;id=788887;file:///tmp/ipykernel_1030410/1340840146.py#21\u001b\\\u001b[2m21\u001b[0m\u001b]8;;\u001b\\\n"
            ]
          },
          "metadata": {},
          "output_type": "display_data"
        },
        {
          "name": "stderr",
          "output_type": "stream",
          "text": [
            "INFO flwr 2025-03-15 22:04:01,419 | 1340840146.py:21 | cid: 1281\n"
          ]
        },
        {
          "data": {
            "text/html": [
              "<pre style=\"white-space:pre;overflow-x:auto;line-height:normal;font-family:Menlo,'DejaVu Sans Mono',consolas,'Courier New',monospace\"><span style=\"color: #7fbfbf; text-decoration-color: #7fbfbf\">                    </span><span style=\"color: #000080; text-decoration-color: #000080\">INFO    </span> cid: <span style=\"color: #008080; text-decoration-color: #008080; font-weight: bold\">1281</span>                                                                      <a href=\"file:///tmp/ipykernel_1030410/1340840146.py\" target=\"_blank\"><span style=\"color: #7f7f7f; text-decoration-color: #7f7f7f\">flwr</span></a><span style=\"color: #7f7f7f; text-decoration-color: #7f7f7f\">:</span><a href=\"file:///tmp/ipykernel_1030410/1340840146.py#21\" target=\"_blank\"><span style=\"color: #7f7f7f; text-decoration-color: #7f7f7f\">21</span></a>\n",
              "</pre>\n"
            ],
            "text/plain": [
              "\u001b[2;36m                   \u001b[0m\u001b[2;36m \u001b[0m\u001b[34mINFO    \u001b[0m cid: \u001b[1;36m1281\u001b[0m                                                                      \u001b]8;id=830699;file:///tmp/ipykernel_1030410/1340840146.py\u001b\\\u001b[2mflwr\u001b[0m\u001b]8;;\u001b\\\u001b[2m:\u001b[0m\u001b]8;id=660848;file:///tmp/ipykernel_1030410/1340840146.py#21\u001b\\\u001b[2m21\u001b[0m\u001b]8;;\u001b\\\n"
            ]
          },
          "metadata": {},
          "output_type": "display_data"
        },
        {
          "name": "stderr",
          "output_type": "stream",
          "text": [
            "INFO flwr 2025-03-15 22:04:01,426 | 1340840146.py:21 | cid: 419\n"
          ]
        },
        {
          "data": {
            "text/html": [
              "<pre style=\"white-space:pre;overflow-x:auto;line-height:normal;font-family:Menlo,'DejaVu Sans Mono',consolas,'Courier New',monospace\"><span style=\"color: #7fbfbf; text-decoration-color: #7fbfbf\">                    </span><span style=\"color: #000080; text-decoration-color: #000080\">INFO    </span> cid: <span style=\"color: #008080; text-decoration-color: #008080; font-weight: bold\">419</span>                                                                       <a href=\"file:///tmp/ipykernel_1030410/1340840146.py\" target=\"_blank\"><span style=\"color: #7f7f7f; text-decoration-color: #7f7f7f\">flwr</span></a><span style=\"color: #7f7f7f; text-decoration-color: #7f7f7f\">:</span><a href=\"file:///tmp/ipykernel_1030410/1340840146.py#21\" target=\"_blank\"><span style=\"color: #7f7f7f; text-decoration-color: #7f7f7f\">21</span></a>\n",
              "</pre>\n"
            ],
            "text/plain": [
              "\u001b[2;36m                   \u001b[0m\u001b[2;36m \u001b[0m\u001b[34mINFO    \u001b[0m cid: \u001b[1;36m419\u001b[0m                                                                       \u001b]8;id=16088;file:///tmp/ipykernel_1030410/1340840146.py\u001b\\\u001b[2mflwr\u001b[0m\u001b]8;;\u001b\\\u001b[2m:\u001b[0m\u001b]8;id=951681;file:///tmp/ipykernel_1030410/1340840146.py#21\u001b\\\u001b[2m21\u001b[0m\u001b]8;;\u001b\\\n"
            ]
          },
          "metadata": {},
          "output_type": "display_data"
        },
        {
          "name": "stderr",
          "output_type": "stream",
          "text": [
            "INFO flwr 2025-03-15 22:04:01,434 | 1340840146.py:21 | cid: 1225\n"
          ]
        },
        {
          "data": {
            "text/html": [
              "<pre style=\"white-space:pre;overflow-x:auto;line-height:normal;font-family:Menlo,'DejaVu Sans Mono',consolas,'Courier New',monospace\"><span style=\"color: #7fbfbf; text-decoration-color: #7fbfbf\">                    </span><span style=\"color: #000080; text-decoration-color: #000080\">INFO    </span> cid: <span style=\"color: #008080; text-decoration-color: #008080; font-weight: bold\">1225</span>                                                                      <a href=\"file:///tmp/ipykernel_1030410/1340840146.py\" target=\"_blank\"><span style=\"color: #7f7f7f; text-decoration-color: #7f7f7f\">flwr</span></a><span style=\"color: #7f7f7f; text-decoration-color: #7f7f7f\">:</span><a href=\"file:///tmp/ipykernel_1030410/1340840146.py#21\" target=\"_blank\"><span style=\"color: #7f7f7f; text-decoration-color: #7f7f7f\">21</span></a>\n",
              "</pre>\n"
            ],
            "text/plain": [
              "\u001b[2;36m                   \u001b[0m\u001b[2;36m \u001b[0m\u001b[34mINFO    \u001b[0m cid: \u001b[1;36m1225\u001b[0m                                                                      \u001b]8;id=164545;file:///tmp/ipykernel_1030410/1340840146.py\u001b\\\u001b[2mflwr\u001b[0m\u001b]8;;\u001b\\\u001b[2m:\u001b[0m\u001b]8;id=717492;file:///tmp/ipykernel_1030410/1340840146.py#21\u001b\\\u001b[2m21\u001b[0m\u001b]8;;\u001b\\\n"
            ]
          },
          "metadata": {},
          "output_type": "display_data"
        },
        {
          "name": "stderr",
          "output_type": "stream",
          "text": [
            "INFO flwr 2025-03-15 22:04:01,441 | 1340840146.py:21 | cid: 806\n"
          ]
        },
        {
          "data": {
            "text/html": [
              "<pre style=\"white-space:pre;overflow-x:auto;line-height:normal;font-family:Menlo,'DejaVu Sans Mono',consolas,'Courier New',monospace\"><span style=\"color: #7fbfbf; text-decoration-color: #7fbfbf\">                    </span><span style=\"color: #000080; text-decoration-color: #000080\">INFO    </span> cid: <span style=\"color: #008080; text-decoration-color: #008080; font-weight: bold\">806</span>                                                                       <a href=\"file:///tmp/ipykernel_1030410/1340840146.py\" target=\"_blank\"><span style=\"color: #7f7f7f; text-decoration-color: #7f7f7f\">flwr</span></a><span style=\"color: #7f7f7f; text-decoration-color: #7f7f7f\">:</span><a href=\"file:///tmp/ipykernel_1030410/1340840146.py#21\" target=\"_blank\"><span style=\"color: #7f7f7f; text-decoration-color: #7f7f7f\">21</span></a>\n",
              "</pre>\n"
            ],
            "text/plain": [
              "\u001b[2;36m                   \u001b[0m\u001b[2;36m \u001b[0m\u001b[34mINFO    \u001b[0m cid: \u001b[1;36m806\u001b[0m                                                                       \u001b]8;id=673727;file:///tmp/ipykernel_1030410/1340840146.py\u001b\\\u001b[2mflwr\u001b[0m\u001b]8;;\u001b\\\u001b[2m:\u001b[0m\u001b]8;id=956333;file:///tmp/ipykernel_1030410/1340840146.py#21\u001b\\\u001b[2m21\u001b[0m\u001b]8;;\u001b\\\n"
            ]
          },
          "metadata": {},
          "output_type": "display_data"
        },
        {
          "name": "stderr",
          "output_type": "stream",
          "text": [
            "INFO flwr 2025-03-15 22:04:01,446 | 1340840146.py:21 | cid: 1657\n"
          ]
        },
        {
          "data": {
            "text/html": [
              "<pre style=\"white-space:pre;overflow-x:auto;line-height:normal;font-family:Menlo,'DejaVu Sans Mono',consolas,'Courier New',monospace\"><span style=\"color: #7fbfbf; text-decoration-color: #7fbfbf\">                    </span><span style=\"color: #000080; text-decoration-color: #000080\">INFO    </span> cid: <span style=\"color: #008080; text-decoration-color: #008080; font-weight: bold\">1657</span>                                                                      <a href=\"file:///tmp/ipykernel_1030410/1340840146.py\" target=\"_blank\"><span style=\"color: #7f7f7f; text-decoration-color: #7f7f7f\">flwr</span></a><span style=\"color: #7f7f7f; text-decoration-color: #7f7f7f\">:</span><a href=\"file:///tmp/ipykernel_1030410/1340840146.py#21\" target=\"_blank\"><span style=\"color: #7f7f7f; text-decoration-color: #7f7f7f\">21</span></a>\n",
              "</pre>\n"
            ],
            "text/plain": [
              "\u001b[2;36m                   \u001b[0m\u001b[2;36m \u001b[0m\u001b[34mINFO    \u001b[0m cid: \u001b[1;36m1657\u001b[0m                                                                      \u001b]8;id=958753;file:///tmp/ipykernel_1030410/1340840146.py\u001b\\\u001b[2mflwr\u001b[0m\u001b]8;;\u001b\\\u001b[2m:\u001b[0m\u001b]8;id=938128;file:///tmp/ipykernel_1030410/1340840146.py#21\u001b\\\u001b[2m21\u001b[0m\u001b]8;;\u001b\\\n"
            ]
          },
          "metadata": {},
          "output_type": "display_data"
        },
        {
          "name": "stderr",
          "output_type": "stream",
          "text": [
            "INFO flwr 2025-03-15 22:04:01,453 | 1340840146.py:21 | cid: 241\n"
          ]
        },
        {
          "data": {
            "text/html": [
              "<pre style=\"white-space:pre;overflow-x:auto;line-height:normal;font-family:Menlo,'DejaVu Sans Mono',consolas,'Courier New',monospace\"><span style=\"color: #7fbfbf; text-decoration-color: #7fbfbf\">                    </span><span style=\"color: #000080; text-decoration-color: #000080\">INFO    </span> cid: <span style=\"color: #008080; text-decoration-color: #008080; font-weight: bold\">241</span>                                                                       <a href=\"file:///tmp/ipykernel_1030410/1340840146.py\" target=\"_blank\"><span style=\"color: #7f7f7f; text-decoration-color: #7f7f7f\">flwr</span></a><span style=\"color: #7f7f7f; text-decoration-color: #7f7f7f\">:</span><a href=\"file:///tmp/ipykernel_1030410/1340840146.py#21\" target=\"_blank\"><span style=\"color: #7f7f7f; text-decoration-color: #7f7f7f\">21</span></a>\n",
              "</pre>\n"
            ],
            "text/plain": [
              "\u001b[2;36m                   \u001b[0m\u001b[2;36m \u001b[0m\u001b[34mINFO    \u001b[0m cid: \u001b[1;36m241\u001b[0m                                                                       \u001b]8;id=435893;file:///tmp/ipykernel_1030410/1340840146.py\u001b\\\u001b[2mflwr\u001b[0m\u001b]8;;\u001b\\\u001b[2m:\u001b[0m\u001b]8;id=344246;file:///tmp/ipykernel_1030410/1340840146.py#21\u001b\\\u001b[2m21\u001b[0m\u001b]8;;\u001b\\\n"
            ]
          },
          "metadata": {},
          "output_type": "display_data"
        },
        {
          "name": "stderr",
          "output_type": "stream",
          "text": [
            "INFO flwr 2025-03-15 22:04:01,458 | 1340840146.py:21 | cid: 2259\n"
          ]
        },
        {
          "data": {
            "text/html": [
              "<pre style=\"white-space:pre;overflow-x:auto;line-height:normal;font-family:Menlo,'DejaVu Sans Mono',consolas,'Courier New',monospace\"><span style=\"color: #7fbfbf; text-decoration-color: #7fbfbf\">                    </span><span style=\"color: #000080; text-decoration-color: #000080\">INFO    </span> cid: <span style=\"color: #008080; text-decoration-color: #008080; font-weight: bold\">2259</span>                                                                      <a href=\"file:///tmp/ipykernel_1030410/1340840146.py\" target=\"_blank\"><span style=\"color: #7f7f7f; text-decoration-color: #7f7f7f\">flwr</span></a><span style=\"color: #7f7f7f; text-decoration-color: #7f7f7f\">:</span><a href=\"file:///tmp/ipykernel_1030410/1340840146.py#21\" target=\"_blank\"><span style=\"color: #7f7f7f; text-decoration-color: #7f7f7f\">21</span></a>\n",
              "</pre>\n"
            ],
            "text/plain": [
              "\u001b[2;36m                   \u001b[0m\u001b[2;36m \u001b[0m\u001b[34mINFO    \u001b[0m cid: \u001b[1;36m2259\u001b[0m                                                                      \u001b]8;id=77464;file:///tmp/ipykernel_1030410/1340840146.py\u001b\\\u001b[2mflwr\u001b[0m\u001b]8;;\u001b\\\u001b[2m:\u001b[0m\u001b]8;id=77356;file:///tmp/ipykernel_1030410/1340840146.py#21\u001b\\\u001b[2m21\u001b[0m\u001b]8;;\u001b\\\n"
            ]
          },
          "metadata": {},
          "output_type": "display_data"
        },
        {
          "name": "stderr",
          "output_type": "stream",
          "text": [
            "INFO flwr 2025-03-15 22:04:01,464 | 1340840146.py:21 | cid: 277\n"
          ]
        },
        {
          "data": {
            "text/html": [
              "<pre style=\"white-space:pre;overflow-x:auto;line-height:normal;font-family:Menlo,'DejaVu Sans Mono',consolas,'Courier New',monospace\"><span style=\"color: #7fbfbf; text-decoration-color: #7fbfbf\">                    </span><span style=\"color: #000080; text-decoration-color: #000080\">INFO    </span> cid: <span style=\"color: #008080; text-decoration-color: #008080; font-weight: bold\">277</span>                                                                       <a href=\"file:///tmp/ipykernel_1030410/1340840146.py\" target=\"_blank\"><span style=\"color: #7f7f7f; text-decoration-color: #7f7f7f\">flwr</span></a><span style=\"color: #7f7f7f; text-decoration-color: #7f7f7f\">:</span><a href=\"file:///tmp/ipykernel_1030410/1340840146.py#21\" target=\"_blank\"><span style=\"color: #7f7f7f; text-decoration-color: #7f7f7f\">21</span></a>\n",
              "</pre>\n"
            ],
            "text/plain": [
              "\u001b[2;36m                   \u001b[0m\u001b[2;36m \u001b[0m\u001b[34mINFO    \u001b[0m cid: \u001b[1;36m277\u001b[0m                                                                       \u001b]8;id=378435;file:///tmp/ipykernel_1030410/1340840146.py\u001b\\\u001b[2mflwr\u001b[0m\u001b]8;;\u001b\\\u001b[2m:\u001b[0m\u001b]8;id=286284;file:///tmp/ipykernel_1030410/1340840146.py#21\u001b\\\u001b[2m21\u001b[0m\u001b]8;;\u001b\\\n"
            ]
          },
          "metadata": {},
          "output_type": "display_data"
        },
        {
          "name": "stderr",
          "output_type": "stream",
          "text": [
            "INFO flwr 2025-03-15 22:04:01,470 | 1340840146.py:21 | cid: 2376\n"
          ]
        },
        {
          "data": {
            "text/html": [
              "<pre style=\"white-space:pre;overflow-x:auto;line-height:normal;font-family:Menlo,'DejaVu Sans Mono',consolas,'Courier New',monospace\"><span style=\"color: #7fbfbf; text-decoration-color: #7fbfbf\">                    </span><span style=\"color: #000080; text-decoration-color: #000080\">INFO    </span> cid: <span style=\"color: #008080; text-decoration-color: #008080; font-weight: bold\">2376</span>                                                                      <a href=\"file:///tmp/ipykernel_1030410/1340840146.py\" target=\"_blank\"><span style=\"color: #7f7f7f; text-decoration-color: #7f7f7f\">flwr</span></a><span style=\"color: #7f7f7f; text-decoration-color: #7f7f7f\">:</span><a href=\"file:///tmp/ipykernel_1030410/1340840146.py#21\" target=\"_blank\"><span style=\"color: #7f7f7f; text-decoration-color: #7f7f7f\">21</span></a>\n",
              "</pre>\n"
            ],
            "text/plain": [
              "\u001b[2;36m                   \u001b[0m\u001b[2;36m \u001b[0m\u001b[34mINFO    \u001b[0m cid: \u001b[1;36m2376\u001b[0m                                                                      \u001b]8;id=847862;file:///tmp/ipykernel_1030410/1340840146.py\u001b\\\u001b[2mflwr\u001b[0m\u001b]8;;\u001b\\\u001b[2m:\u001b[0m\u001b]8;id=712088;file:///tmp/ipykernel_1030410/1340840146.py#21\u001b\\\u001b[2m21\u001b[0m\u001b]8;;\u001b\\\n"
            ]
          },
          "metadata": {},
          "output_type": "display_data"
        },
        {
          "name": "stderr",
          "output_type": "stream",
          "text": [
            "INFO flwr 2025-03-15 22:04:01,475 | 1340840146.py:21 | cid: 1001\n"
          ]
        },
        {
          "data": {
            "text/html": [
              "<pre style=\"white-space:pre;overflow-x:auto;line-height:normal;font-family:Menlo,'DejaVu Sans Mono',consolas,'Courier New',monospace\"><span style=\"color: #7fbfbf; text-decoration-color: #7fbfbf\">                    </span><span style=\"color: #000080; text-decoration-color: #000080\">INFO    </span> cid: <span style=\"color: #008080; text-decoration-color: #008080; font-weight: bold\">1001</span>                                                                      <a href=\"file:///tmp/ipykernel_1030410/1340840146.py\" target=\"_blank\"><span style=\"color: #7f7f7f; text-decoration-color: #7f7f7f\">flwr</span></a><span style=\"color: #7f7f7f; text-decoration-color: #7f7f7f\">:</span><a href=\"file:///tmp/ipykernel_1030410/1340840146.py#21\" target=\"_blank\"><span style=\"color: #7f7f7f; text-decoration-color: #7f7f7f\">21</span></a>\n",
              "</pre>\n"
            ],
            "text/plain": [
              "\u001b[2;36m                   \u001b[0m\u001b[2;36m \u001b[0m\u001b[34mINFO    \u001b[0m cid: \u001b[1;36m1001\u001b[0m                                                                      \u001b]8;id=120655;file:///tmp/ipykernel_1030410/1340840146.py\u001b\\\u001b[2mflwr\u001b[0m\u001b]8;;\u001b\\\u001b[2m:\u001b[0m\u001b]8;id=886187;file:///tmp/ipykernel_1030410/1340840146.py#21\u001b\\\u001b[2m21\u001b[0m\u001b]8;;\u001b\\\n"
            ]
          },
          "metadata": {},
          "output_type": "display_data"
        },
        {
          "name": "stderr",
          "output_type": "stream",
          "text": [
            "INFO flwr 2025-03-15 22:04:01,481 | 1340840146.py:21 | cid: 2670\n"
          ]
        },
        {
          "data": {
            "text/html": [
              "<pre style=\"white-space:pre;overflow-x:auto;line-height:normal;font-family:Menlo,'DejaVu Sans Mono',consolas,'Courier New',monospace\"><span style=\"color: #7fbfbf; text-decoration-color: #7fbfbf\">                    </span><span style=\"color: #000080; text-decoration-color: #000080\">INFO    </span> cid: <span style=\"color: #008080; text-decoration-color: #008080; font-weight: bold\">2670</span>                                                                      <a href=\"file:///tmp/ipykernel_1030410/1340840146.py\" target=\"_blank\"><span style=\"color: #7f7f7f; text-decoration-color: #7f7f7f\">flwr</span></a><span style=\"color: #7f7f7f; text-decoration-color: #7f7f7f\">:</span><a href=\"file:///tmp/ipykernel_1030410/1340840146.py#21\" target=\"_blank\"><span style=\"color: #7f7f7f; text-decoration-color: #7f7f7f\">21</span></a>\n",
              "</pre>\n"
            ],
            "text/plain": [
              "\u001b[2;36m                   \u001b[0m\u001b[2;36m \u001b[0m\u001b[34mINFO    \u001b[0m cid: \u001b[1;36m2670\u001b[0m                                                                      \u001b]8;id=961115;file:///tmp/ipykernel_1030410/1340840146.py\u001b\\\u001b[2mflwr\u001b[0m\u001b]8;;\u001b\\\u001b[2m:\u001b[0m\u001b]8;id=301007;file:///tmp/ipykernel_1030410/1340840146.py#21\u001b\\\u001b[2m21\u001b[0m\u001b]8;;\u001b\\\n"
            ]
          },
          "metadata": {},
          "output_type": "display_data"
        },
        {
          "name": "stderr",
          "output_type": "stream",
          "text": [
            "INFO flwr 2025-03-15 22:04:01,487 | 1340840146.py:21 | cid: 638\n"
          ]
        },
        {
          "data": {
            "text/html": [
              "<pre style=\"white-space:pre;overflow-x:auto;line-height:normal;font-family:Menlo,'DejaVu Sans Mono',consolas,'Courier New',monospace\"><span style=\"color: #7fbfbf; text-decoration-color: #7fbfbf\">                    </span><span style=\"color: #000080; text-decoration-color: #000080\">INFO    </span> cid: <span style=\"color: #008080; text-decoration-color: #008080; font-weight: bold\">638</span>                                                                       <a href=\"file:///tmp/ipykernel_1030410/1340840146.py\" target=\"_blank\"><span style=\"color: #7f7f7f; text-decoration-color: #7f7f7f\">flwr</span></a><span style=\"color: #7f7f7f; text-decoration-color: #7f7f7f\">:</span><a href=\"file:///tmp/ipykernel_1030410/1340840146.py#21\" target=\"_blank\"><span style=\"color: #7f7f7f; text-decoration-color: #7f7f7f\">21</span></a>\n",
              "</pre>\n"
            ],
            "text/plain": [
              "\u001b[2;36m                   \u001b[0m\u001b[2;36m \u001b[0m\u001b[34mINFO    \u001b[0m cid: \u001b[1;36m638\u001b[0m                                                                       \u001b]8;id=892779;file:///tmp/ipykernel_1030410/1340840146.py\u001b\\\u001b[2mflwr\u001b[0m\u001b]8;;\u001b\\\u001b[2m:\u001b[0m\u001b]8;id=434448;file:///tmp/ipykernel_1030410/1340840146.py#21\u001b\\\u001b[2m21\u001b[0m\u001b]8;;\u001b\\\n"
            ]
          },
          "metadata": {},
          "output_type": "display_data"
        },
        {
          "name": "stderr",
          "output_type": "stream",
          "text": [
            "INFO flwr 2025-03-15 22:04:01,493 | 1340840146.py:21 | cid: 1226\n"
          ]
        },
        {
          "data": {
            "text/html": [
              "<pre style=\"white-space:pre;overflow-x:auto;line-height:normal;font-family:Menlo,'DejaVu Sans Mono',consolas,'Courier New',monospace\"><span style=\"color: #7fbfbf; text-decoration-color: #7fbfbf\">                    </span><span style=\"color: #000080; text-decoration-color: #000080\">INFO    </span> cid: <span style=\"color: #008080; text-decoration-color: #008080; font-weight: bold\">1226</span>                                                                      <a href=\"file:///tmp/ipykernel_1030410/1340840146.py\" target=\"_blank\"><span style=\"color: #7f7f7f; text-decoration-color: #7f7f7f\">flwr</span></a><span style=\"color: #7f7f7f; text-decoration-color: #7f7f7f\">:</span><a href=\"file:///tmp/ipykernel_1030410/1340840146.py#21\" target=\"_blank\"><span style=\"color: #7f7f7f; text-decoration-color: #7f7f7f\">21</span></a>\n",
              "</pre>\n"
            ],
            "text/plain": [
              "\u001b[2;36m                   \u001b[0m\u001b[2;36m \u001b[0m\u001b[34mINFO    \u001b[0m cid: \u001b[1;36m1226\u001b[0m                                                                      \u001b]8;id=696483;file:///tmp/ipykernel_1030410/1340840146.py\u001b\\\u001b[2mflwr\u001b[0m\u001b]8;;\u001b\\\u001b[2m:\u001b[0m\u001b]8;id=338074;file:///tmp/ipykernel_1030410/1340840146.py#21\u001b\\\u001b[2m21\u001b[0m\u001b]8;;\u001b\\\n"
            ]
          },
          "metadata": {},
          "output_type": "display_data"
        },
        {
          "name": "stderr",
          "output_type": "stream",
          "text": [
            "INFO flwr 2025-03-15 22:04:01,498 | 1340840146.py:21 | cid: 52\n"
          ]
        },
        {
          "data": {
            "text/html": [
              "<pre style=\"white-space:pre;overflow-x:auto;line-height:normal;font-family:Menlo,'DejaVu Sans Mono',consolas,'Courier New',monospace\"><span style=\"color: #7fbfbf; text-decoration-color: #7fbfbf\">                    </span><span style=\"color: #000080; text-decoration-color: #000080\">INFO    </span> cid: <span style=\"color: #008080; text-decoration-color: #008080; font-weight: bold\">52</span>                                                                        <a href=\"file:///tmp/ipykernel_1030410/1340840146.py\" target=\"_blank\"><span style=\"color: #7f7f7f; text-decoration-color: #7f7f7f\">flwr</span></a><span style=\"color: #7f7f7f; text-decoration-color: #7f7f7f\">:</span><a href=\"file:///tmp/ipykernel_1030410/1340840146.py#21\" target=\"_blank\"><span style=\"color: #7f7f7f; text-decoration-color: #7f7f7f\">21</span></a>\n",
              "</pre>\n"
            ],
            "text/plain": [
              "\u001b[2;36m                   \u001b[0m\u001b[2;36m \u001b[0m\u001b[34mINFO    \u001b[0m cid: \u001b[1;36m52\u001b[0m                                                                        \u001b]8;id=796359;file:///tmp/ipykernel_1030410/1340840146.py\u001b\\\u001b[2mflwr\u001b[0m\u001b]8;;\u001b\\\u001b[2m:\u001b[0m\u001b]8;id=830177;file:///tmp/ipykernel_1030410/1340840146.py#21\u001b\\\u001b[2m21\u001b[0m\u001b]8;;\u001b\\\n"
            ]
          },
          "metadata": {},
          "output_type": "display_data"
        },
        {
          "name": "stderr",
          "output_type": "stream",
          "text": [
            "INFO flwr 2025-03-15 22:04:01,504 | 1340840146.py:21 | cid: 219\n"
          ]
        },
        {
          "data": {
            "text/html": [
              "<pre style=\"white-space:pre;overflow-x:auto;line-height:normal;font-family:Menlo,'DejaVu Sans Mono',consolas,'Courier New',monospace\"><span style=\"color: #7fbfbf; text-decoration-color: #7fbfbf\">                    </span><span style=\"color: #000080; text-decoration-color: #000080\">INFO    </span> cid: <span style=\"color: #008080; text-decoration-color: #008080; font-weight: bold\">219</span>                                                                       <a href=\"file:///tmp/ipykernel_1030410/1340840146.py\" target=\"_blank\"><span style=\"color: #7f7f7f; text-decoration-color: #7f7f7f\">flwr</span></a><span style=\"color: #7f7f7f; text-decoration-color: #7f7f7f\">:</span><a href=\"file:///tmp/ipykernel_1030410/1340840146.py#21\" target=\"_blank\"><span style=\"color: #7f7f7f; text-decoration-color: #7f7f7f\">21</span></a>\n",
              "</pre>\n"
            ],
            "text/plain": [
              "\u001b[2;36m                   \u001b[0m\u001b[2;36m \u001b[0m\u001b[34mINFO    \u001b[0m cid: \u001b[1;36m219\u001b[0m                                                                       \u001b]8;id=457226;file:///tmp/ipykernel_1030410/1340840146.py\u001b\\\u001b[2mflwr\u001b[0m\u001b]8;;\u001b\\\u001b[2m:\u001b[0m\u001b]8;id=653442;file:///tmp/ipykernel_1030410/1340840146.py#21\u001b\\\u001b[2m21\u001b[0m\u001b]8;;\u001b\\\n"
            ]
          },
          "metadata": {},
          "output_type": "display_data"
        },
        {
          "name": "stderr",
          "output_type": "stream",
          "text": [
            "INFO flwr 2025-03-15 22:04:01,510 | 1340840146.py:21 | cid: 1727\n"
          ]
        },
        {
          "data": {
            "text/html": [
              "<pre style=\"white-space:pre;overflow-x:auto;line-height:normal;font-family:Menlo,'DejaVu Sans Mono',consolas,'Courier New',monospace\"><span style=\"color: #7fbfbf; text-decoration-color: #7fbfbf\">                    </span><span style=\"color: #000080; text-decoration-color: #000080\">INFO    </span> cid: <span style=\"color: #008080; text-decoration-color: #008080; font-weight: bold\">1727</span>                                                                      <a href=\"file:///tmp/ipykernel_1030410/1340840146.py\" target=\"_blank\"><span style=\"color: #7f7f7f; text-decoration-color: #7f7f7f\">flwr</span></a><span style=\"color: #7f7f7f; text-decoration-color: #7f7f7f\">:</span><a href=\"file:///tmp/ipykernel_1030410/1340840146.py#21\" target=\"_blank\"><span style=\"color: #7f7f7f; text-decoration-color: #7f7f7f\">21</span></a>\n",
              "</pre>\n"
            ],
            "text/plain": [
              "\u001b[2;36m                   \u001b[0m\u001b[2;36m \u001b[0m\u001b[34mINFO    \u001b[0m cid: \u001b[1;36m1727\u001b[0m                                                                      \u001b]8;id=520866;file:///tmp/ipykernel_1030410/1340840146.py\u001b\\\u001b[2mflwr\u001b[0m\u001b]8;;\u001b\\\u001b[2m:\u001b[0m\u001b]8;id=707444;file:///tmp/ipykernel_1030410/1340840146.py#21\u001b\\\u001b[2m21\u001b[0m\u001b]8;;\u001b\\\n"
            ]
          },
          "metadata": {},
          "output_type": "display_data"
        },
        {
          "name": "stderr",
          "output_type": "stream",
          "text": [
            "INFO flwr 2025-03-15 22:04:01,515 | 1340840146.py:21 | cid: 752\n"
          ]
        },
        {
          "data": {
            "text/html": [
              "<pre style=\"white-space:pre;overflow-x:auto;line-height:normal;font-family:Menlo,'DejaVu Sans Mono',consolas,'Courier New',monospace\"><span style=\"color: #7fbfbf; text-decoration-color: #7fbfbf\">                    </span><span style=\"color: #000080; text-decoration-color: #000080\">INFO    </span> cid: <span style=\"color: #008080; text-decoration-color: #008080; font-weight: bold\">752</span>                                                                       <a href=\"file:///tmp/ipykernel_1030410/1340840146.py\" target=\"_blank\"><span style=\"color: #7f7f7f; text-decoration-color: #7f7f7f\">flwr</span></a><span style=\"color: #7f7f7f; text-decoration-color: #7f7f7f\">:</span><a href=\"file:///tmp/ipykernel_1030410/1340840146.py#21\" target=\"_blank\"><span style=\"color: #7f7f7f; text-decoration-color: #7f7f7f\">21</span></a>\n",
              "</pre>\n"
            ],
            "text/plain": [
              "\u001b[2;36m                   \u001b[0m\u001b[2;36m \u001b[0m\u001b[34mINFO    \u001b[0m cid: \u001b[1;36m752\u001b[0m                                                                       \u001b]8;id=92412;file:///tmp/ipykernel_1030410/1340840146.py\u001b\\\u001b[2mflwr\u001b[0m\u001b]8;;\u001b\\\u001b[2m:\u001b[0m\u001b]8;id=577426;file:///tmp/ipykernel_1030410/1340840146.py#21\u001b\\\u001b[2m21\u001b[0m\u001b]8;;\u001b\\\n"
            ]
          },
          "metadata": {},
          "output_type": "display_data"
        },
        {
          "name": "stderr",
          "output_type": "stream",
          "text": [
            "INFO flwr 2025-03-15 22:04:01,521 | 1340840146.py:21 | cid: 2620\n"
          ]
        },
        {
          "data": {
            "text/html": [
              "<pre style=\"white-space:pre;overflow-x:auto;line-height:normal;font-family:Menlo,'DejaVu Sans Mono',consolas,'Courier New',monospace\"><span style=\"color: #7fbfbf; text-decoration-color: #7fbfbf\">                    </span><span style=\"color: #000080; text-decoration-color: #000080\">INFO    </span> cid: <span style=\"color: #008080; text-decoration-color: #008080; font-weight: bold\">2620</span>                                                                      <a href=\"file:///tmp/ipykernel_1030410/1340840146.py\" target=\"_blank\"><span style=\"color: #7f7f7f; text-decoration-color: #7f7f7f\">flwr</span></a><span style=\"color: #7f7f7f; text-decoration-color: #7f7f7f\">:</span><a href=\"file:///tmp/ipykernel_1030410/1340840146.py#21\" target=\"_blank\"><span style=\"color: #7f7f7f; text-decoration-color: #7f7f7f\">21</span></a>\n",
              "</pre>\n"
            ],
            "text/plain": [
              "\u001b[2;36m                   \u001b[0m\u001b[2;36m \u001b[0m\u001b[34mINFO    \u001b[0m cid: \u001b[1;36m2620\u001b[0m                                                                      \u001b]8;id=438191;file:///tmp/ipykernel_1030410/1340840146.py\u001b\\\u001b[2mflwr\u001b[0m\u001b]8;;\u001b\\\u001b[2m:\u001b[0m\u001b]8;id=232854;file:///tmp/ipykernel_1030410/1340840146.py#21\u001b\\\u001b[2m21\u001b[0m\u001b]8;;\u001b\\\n"
            ]
          },
          "metadata": {},
          "output_type": "display_data"
        },
        {
          "name": "stderr",
          "output_type": "stream",
          "text": [
            "INFO flwr 2025-03-15 22:04:01,526 | 1340840146.py:21 | cid: 2469\n"
          ]
        },
        {
          "data": {
            "text/html": [
              "<pre style=\"white-space:pre;overflow-x:auto;line-height:normal;font-family:Menlo,'DejaVu Sans Mono',consolas,'Courier New',monospace\"><span style=\"color: #7fbfbf; text-decoration-color: #7fbfbf\">                    </span><span style=\"color: #000080; text-decoration-color: #000080\">INFO    </span> cid: <span style=\"color: #008080; text-decoration-color: #008080; font-weight: bold\">2469</span>                                                                      <a href=\"file:///tmp/ipykernel_1030410/1340840146.py\" target=\"_blank\"><span style=\"color: #7f7f7f; text-decoration-color: #7f7f7f\">flwr</span></a><span style=\"color: #7f7f7f; text-decoration-color: #7f7f7f\">:</span><a href=\"file:///tmp/ipykernel_1030410/1340840146.py#21\" target=\"_blank\"><span style=\"color: #7f7f7f; text-decoration-color: #7f7f7f\">21</span></a>\n",
              "</pre>\n"
            ],
            "text/plain": [
              "\u001b[2;36m                   \u001b[0m\u001b[2;36m \u001b[0m\u001b[34mINFO    \u001b[0m cid: \u001b[1;36m2469\u001b[0m                                                                      \u001b]8;id=195088;file:///tmp/ipykernel_1030410/1340840146.py\u001b\\\u001b[2mflwr\u001b[0m\u001b]8;;\u001b\\\u001b[2m:\u001b[0m\u001b]8;id=458042;file:///tmp/ipykernel_1030410/1340840146.py#21\u001b\\\u001b[2m21\u001b[0m\u001b]8;;\u001b\\\n"
            ]
          },
          "metadata": {},
          "output_type": "display_data"
        },
        {
          "name": "stderr",
          "output_type": "stream",
          "text": [
            "INFO flwr 2025-03-15 22:04:01,533 | 1340840146.py:21 | cid: 83\n"
          ]
        },
        {
          "data": {
            "text/html": [
              "<pre style=\"white-space:pre;overflow-x:auto;line-height:normal;font-family:Menlo,'DejaVu Sans Mono',consolas,'Courier New',monospace\"><span style=\"color: #7fbfbf; text-decoration-color: #7fbfbf\">                    </span><span style=\"color: #000080; text-decoration-color: #000080\">INFO    </span> cid: <span style=\"color: #008080; text-decoration-color: #008080; font-weight: bold\">83</span>                                                                        <a href=\"file:///tmp/ipykernel_1030410/1340840146.py\" target=\"_blank\"><span style=\"color: #7f7f7f; text-decoration-color: #7f7f7f\">flwr</span></a><span style=\"color: #7f7f7f; text-decoration-color: #7f7f7f\">:</span><a href=\"file:///tmp/ipykernel_1030410/1340840146.py#21\" target=\"_blank\"><span style=\"color: #7f7f7f; text-decoration-color: #7f7f7f\">21</span></a>\n",
              "</pre>\n"
            ],
            "text/plain": [
              "\u001b[2;36m                   \u001b[0m\u001b[2;36m \u001b[0m\u001b[34mINFO    \u001b[0m cid: \u001b[1;36m83\u001b[0m                                                                        \u001b]8;id=793105;file:///tmp/ipykernel_1030410/1340840146.py\u001b\\\u001b[2mflwr\u001b[0m\u001b]8;;\u001b\\\u001b[2m:\u001b[0m\u001b]8;id=320295;file:///tmp/ipykernel_1030410/1340840146.py#21\u001b\\\u001b[2m21\u001b[0m\u001b]8;;\u001b\\\n"
            ]
          },
          "metadata": {},
          "output_type": "display_data"
        },
        {
          "name": "stderr",
          "output_type": "stream",
          "text": [
            "INFO flwr 2025-03-15 22:04:01,540 | 1340840146.py:21 | cid: 427\n"
          ]
        },
        {
          "data": {
            "text/html": [
              "<pre style=\"white-space:pre;overflow-x:auto;line-height:normal;font-family:Menlo,'DejaVu Sans Mono',consolas,'Courier New',monospace\"><span style=\"color: #7fbfbf; text-decoration-color: #7fbfbf\">                    </span><span style=\"color: #000080; text-decoration-color: #000080\">INFO    </span> cid: <span style=\"color: #008080; text-decoration-color: #008080; font-weight: bold\">427</span>                                                                       <a href=\"file:///tmp/ipykernel_1030410/1340840146.py\" target=\"_blank\"><span style=\"color: #7f7f7f; text-decoration-color: #7f7f7f\">flwr</span></a><span style=\"color: #7f7f7f; text-decoration-color: #7f7f7f\">:</span><a href=\"file:///tmp/ipykernel_1030410/1340840146.py#21\" target=\"_blank\"><span style=\"color: #7f7f7f; text-decoration-color: #7f7f7f\">21</span></a>\n",
              "</pre>\n"
            ],
            "text/plain": [
              "\u001b[2;36m                   \u001b[0m\u001b[2;36m \u001b[0m\u001b[34mINFO    \u001b[0m cid: \u001b[1;36m427\u001b[0m                                                                       \u001b]8;id=295193;file:///tmp/ipykernel_1030410/1340840146.py\u001b\\\u001b[2mflwr\u001b[0m\u001b]8;;\u001b\\\u001b[2m:\u001b[0m\u001b]8;id=54215;file:///tmp/ipykernel_1030410/1340840146.py#21\u001b\\\u001b[2m21\u001b[0m\u001b]8;;\u001b\\\n"
            ]
          },
          "metadata": {},
          "output_type": "display_data"
        },
        {
          "name": "stderr",
          "output_type": "stream",
          "text": [
            "INFO flwr 2025-03-15 22:04:01,546 | 1340840146.py:21 | cid: 2906\n"
          ]
        },
        {
          "data": {
            "text/html": [
              "<pre style=\"white-space:pre;overflow-x:auto;line-height:normal;font-family:Menlo,'DejaVu Sans Mono',consolas,'Courier New',monospace\"><span style=\"color: #7fbfbf; text-decoration-color: #7fbfbf\">                    </span><span style=\"color: #000080; text-decoration-color: #000080\">INFO    </span> cid: <span style=\"color: #008080; text-decoration-color: #008080; font-weight: bold\">2906</span>                                                                      <a href=\"file:///tmp/ipykernel_1030410/1340840146.py\" target=\"_blank\"><span style=\"color: #7f7f7f; text-decoration-color: #7f7f7f\">flwr</span></a><span style=\"color: #7f7f7f; text-decoration-color: #7f7f7f\">:</span><a href=\"file:///tmp/ipykernel_1030410/1340840146.py#21\" target=\"_blank\"><span style=\"color: #7f7f7f; text-decoration-color: #7f7f7f\">21</span></a>\n",
              "</pre>\n"
            ],
            "text/plain": [
              "\u001b[2;36m                   \u001b[0m\u001b[2;36m \u001b[0m\u001b[34mINFO    \u001b[0m cid: \u001b[1;36m2906\u001b[0m                                                                      \u001b]8;id=341574;file:///tmp/ipykernel_1030410/1340840146.py\u001b\\\u001b[2mflwr\u001b[0m\u001b]8;;\u001b\\\u001b[2m:\u001b[0m\u001b]8;id=25915;file:///tmp/ipykernel_1030410/1340840146.py#21\u001b\\\u001b[2m21\u001b[0m\u001b]8;;\u001b\\\n"
            ]
          },
          "metadata": {},
          "output_type": "display_data"
        },
        {
          "name": "stderr",
          "output_type": "stream",
          "text": [
            "INFO flwr 2025-03-15 22:04:01,552 | 1340840146.py:21 | cid: 3183\n"
          ]
        },
        {
          "data": {
            "text/html": [
              "<pre style=\"white-space:pre;overflow-x:auto;line-height:normal;font-family:Menlo,'DejaVu Sans Mono',consolas,'Courier New',monospace\"><span style=\"color: #7fbfbf; text-decoration-color: #7fbfbf\">                    </span><span style=\"color: #000080; text-decoration-color: #000080\">INFO    </span> cid: <span style=\"color: #008080; text-decoration-color: #008080; font-weight: bold\">3183</span>                                                                      <a href=\"file:///tmp/ipykernel_1030410/1340840146.py\" target=\"_blank\"><span style=\"color: #7f7f7f; text-decoration-color: #7f7f7f\">flwr</span></a><span style=\"color: #7f7f7f; text-decoration-color: #7f7f7f\">:</span><a href=\"file:///tmp/ipykernel_1030410/1340840146.py#21\" target=\"_blank\"><span style=\"color: #7f7f7f; text-decoration-color: #7f7f7f\">21</span></a>\n",
              "</pre>\n"
            ],
            "text/plain": [
              "\u001b[2;36m                   \u001b[0m\u001b[2;36m \u001b[0m\u001b[34mINFO    \u001b[0m cid: \u001b[1;36m3183\u001b[0m                                                                      \u001b]8;id=957946;file:///tmp/ipykernel_1030410/1340840146.py\u001b\\\u001b[2mflwr\u001b[0m\u001b]8;;\u001b\\\u001b[2m:\u001b[0m\u001b]8;id=732574;file:///tmp/ipykernel_1030410/1340840146.py#21\u001b\\\u001b[2m21\u001b[0m\u001b]8;;\u001b\\\n"
            ]
          },
          "metadata": {},
          "output_type": "display_data"
        },
        {
          "name": "stderr",
          "output_type": "stream",
          "text": [
            "INFO flwr 2025-03-15 22:04:01,559 | 1340840146.py:21 | cid: 885\n"
          ]
        },
        {
          "data": {
            "text/html": [
              "<pre style=\"white-space:pre;overflow-x:auto;line-height:normal;font-family:Menlo,'DejaVu Sans Mono',consolas,'Courier New',monospace\"><span style=\"color: #7fbfbf; text-decoration-color: #7fbfbf\">                    </span><span style=\"color: #000080; text-decoration-color: #000080\">INFO    </span> cid: <span style=\"color: #008080; text-decoration-color: #008080; font-weight: bold\">885</span>                                                                       <a href=\"file:///tmp/ipykernel_1030410/1340840146.py\" target=\"_blank\"><span style=\"color: #7f7f7f; text-decoration-color: #7f7f7f\">flwr</span></a><span style=\"color: #7f7f7f; text-decoration-color: #7f7f7f\">:</span><a href=\"file:///tmp/ipykernel_1030410/1340840146.py#21\" target=\"_blank\"><span style=\"color: #7f7f7f; text-decoration-color: #7f7f7f\">21</span></a>\n",
              "</pre>\n"
            ],
            "text/plain": [
              "\u001b[2;36m                   \u001b[0m\u001b[2;36m \u001b[0m\u001b[34mINFO    \u001b[0m cid: \u001b[1;36m885\u001b[0m                                                                       \u001b]8;id=730650;file:///tmp/ipykernel_1030410/1340840146.py\u001b\\\u001b[2mflwr\u001b[0m\u001b]8;;\u001b\\\u001b[2m:\u001b[0m\u001b]8;id=995965;file:///tmp/ipykernel_1030410/1340840146.py#21\u001b\\\u001b[2m21\u001b[0m\u001b]8;;\u001b\\\n"
            ]
          },
          "metadata": {},
          "output_type": "display_data"
        },
        {
          "name": "stderr",
          "output_type": "stream",
          "text": [
            "INFO flwr 2025-03-15 22:04:01,567 | 1340840146.py:21 | cid: 253\n"
          ]
        },
        {
          "data": {
            "text/html": [
              "<pre style=\"white-space:pre;overflow-x:auto;line-height:normal;font-family:Menlo,'DejaVu Sans Mono',consolas,'Courier New',monospace\"><span style=\"color: #7fbfbf; text-decoration-color: #7fbfbf\">                    </span><span style=\"color: #000080; text-decoration-color: #000080\">INFO    </span> cid: <span style=\"color: #008080; text-decoration-color: #008080; font-weight: bold\">253</span>                                                                       <a href=\"file:///tmp/ipykernel_1030410/1340840146.py\" target=\"_blank\"><span style=\"color: #7f7f7f; text-decoration-color: #7f7f7f\">flwr</span></a><span style=\"color: #7f7f7f; text-decoration-color: #7f7f7f\">:</span><a href=\"file:///tmp/ipykernel_1030410/1340840146.py#21\" target=\"_blank\"><span style=\"color: #7f7f7f; text-decoration-color: #7f7f7f\">21</span></a>\n",
              "</pre>\n"
            ],
            "text/plain": [
              "\u001b[2;36m                   \u001b[0m\u001b[2;36m \u001b[0m\u001b[34mINFO    \u001b[0m cid: \u001b[1;36m253\u001b[0m                                                                       \u001b]8;id=40293;file:///tmp/ipykernel_1030410/1340840146.py\u001b\\\u001b[2mflwr\u001b[0m\u001b]8;;\u001b\\\u001b[2m:\u001b[0m\u001b]8;id=839775;file:///tmp/ipykernel_1030410/1340840146.py#21\u001b\\\u001b[2m21\u001b[0m\u001b]8;;\u001b\\\n"
            ]
          },
          "metadata": {},
          "output_type": "display_data"
        },
        {
          "name": "stderr",
          "output_type": "stream",
          "text": [
            "INFO flwr 2025-03-15 22:04:01,575 | 1340840146.py:21 | cid: 1634\n"
          ]
        },
        {
          "data": {
            "text/html": [
              "<pre style=\"white-space:pre;overflow-x:auto;line-height:normal;font-family:Menlo,'DejaVu Sans Mono',consolas,'Courier New',monospace\"><span style=\"color: #7fbfbf; text-decoration-color: #7fbfbf\">                    </span><span style=\"color: #000080; text-decoration-color: #000080\">INFO    </span> cid: <span style=\"color: #008080; text-decoration-color: #008080; font-weight: bold\">1634</span>                                                                      <a href=\"file:///tmp/ipykernel_1030410/1340840146.py\" target=\"_blank\"><span style=\"color: #7f7f7f; text-decoration-color: #7f7f7f\">flwr</span></a><span style=\"color: #7f7f7f; text-decoration-color: #7f7f7f\">:</span><a href=\"file:///tmp/ipykernel_1030410/1340840146.py#21\" target=\"_blank\"><span style=\"color: #7f7f7f; text-decoration-color: #7f7f7f\">21</span></a>\n",
              "</pre>\n"
            ],
            "text/plain": [
              "\u001b[2;36m                   \u001b[0m\u001b[2;36m \u001b[0m\u001b[34mINFO    \u001b[0m cid: \u001b[1;36m1634\u001b[0m                                                                      \u001b]8;id=644465;file:///tmp/ipykernel_1030410/1340840146.py\u001b\\\u001b[2mflwr\u001b[0m\u001b]8;;\u001b\\\u001b[2m:\u001b[0m\u001b]8;id=455111;file:///tmp/ipykernel_1030410/1340840146.py#21\u001b\\\u001b[2m21\u001b[0m\u001b]8;;\u001b\\\n"
            ]
          },
          "metadata": {},
          "output_type": "display_data"
        },
        {
          "name": "stderr",
          "output_type": "stream",
          "text": [
            "INFO flwr 2025-03-15 22:04:01,580 | 1340840146.py:21 | cid: 2953\n"
          ]
        },
        {
          "data": {
            "text/html": [
              "<pre style=\"white-space:pre;overflow-x:auto;line-height:normal;font-family:Menlo,'DejaVu Sans Mono',consolas,'Courier New',monospace\"><span style=\"color: #7fbfbf; text-decoration-color: #7fbfbf\">                    </span><span style=\"color: #000080; text-decoration-color: #000080\">INFO    </span> cid: <span style=\"color: #008080; text-decoration-color: #008080; font-weight: bold\">2953</span>                                                                      <a href=\"file:///tmp/ipykernel_1030410/1340840146.py\" target=\"_blank\"><span style=\"color: #7f7f7f; text-decoration-color: #7f7f7f\">flwr</span></a><span style=\"color: #7f7f7f; text-decoration-color: #7f7f7f\">:</span><a href=\"file:///tmp/ipykernel_1030410/1340840146.py#21\" target=\"_blank\"><span style=\"color: #7f7f7f; text-decoration-color: #7f7f7f\">21</span></a>\n",
              "</pre>\n"
            ],
            "text/plain": [
              "\u001b[2;36m                   \u001b[0m\u001b[2;36m \u001b[0m\u001b[34mINFO    \u001b[0m cid: \u001b[1;36m2953\u001b[0m                                                                      \u001b]8;id=549109;file:///tmp/ipykernel_1030410/1340840146.py\u001b\\\u001b[2mflwr\u001b[0m\u001b]8;;\u001b\\\u001b[2m:\u001b[0m\u001b]8;id=644570;file:///tmp/ipykernel_1030410/1340840146.py#21\u001b\\\u001b[2m21\u001b[0m\u001b]8;;\u001b\\\n"
            ]
          },
          "metadata": {},
          "output_type": "display_data"
        },
        {
          "name": "stderr",
          "output_type": "stream",
          "text": [
            "INFO flwr 2025-03-15 22:04:01,586 | 1340840146.py:21 | cid: 1835\n"
          ]
        },
        {
          "data": {
            "text/html": [
              "<pre style=\"white-space:pre;overflow-x:auto;line-height:normal;font-family:Menlo,'DejaVu Sans Mono',consolas,'Courier New',monospace\"><span style=\"color: #7fbfbf; text-decoration-color: #7fbfbf\">                    </span><span style=\"color: #000080; text-decoration-color: #000080\">INFO    </span> cid: <span style=\"color: #008080; text-decoration-color: #008080; font-weight: bold\">1835</span>                                                                      <a href=\"file:///tmp/ipykernel_1030410/1340840146.py\" target=\"_blank\"><span style=\"color: #7f7f7f; text-decoration-color: #7f7f7f\">flwr</span></a><span style=\"color: #7f7f7f; text-decoration-color: #7f7f7f\">:</span><a href=\"file:///tmp/ipykernel_1030410/1340840146.py#21\" target=\"_blank\"><span style=\"color: #7f7f7f; text-decoration-color: #7f7f7f\">21</span></a>\n",
              "</pre>\n"
            ],
            "text/plain": [
              "\u001b[2;36m                   \u001b[0m\u001b[2;36m \u001b[0m\u001b[34mINFO    \u001b[0m cid: \u001b[1;36m1835\u001b[0m                                                                      \u001b]8;id=481703;file:///tmp/ipykernel_1030410/1340840146.py\u001b\\\u001b[2mflwr\u001b[0m\u001b]8;;\u001b\\\u001b[2m:\u001b[0m\u001b]8;id=613496;file:///tmp/ipykernel_1030410/1340840146.py#21\u001b\\\u001b[2m21\u001b[0m\u001b]8;;\u001b\\\n"
            ]
          },
          "metadata": {},
          "output_type": "display_data"
        },
        {
          "name": "stderr",
          "output_type": "stream",
          "text": [
            "INFO flwr 2025-03-15 22:04:01,592 | 1340840146.py:21 | cid: 2758\n"
          ]
        },
        {
          "data": {
            "text/html": [
              "<pre style=\"white-space:pre;overflow-x:auto;line-height:normal;font-family:Menlo,'DejaVu Sans Mono',consolas,'Courier New',monospace\"><span style=\"color: #7fbfbf; text-decoration-color: #7fbfbf\">                    </span><span style=\"color: #000080; text-decoration-color: #000080\">INFO    </span> cid: <span style=\"color: #008080; text-decoration-color: #008080; font-weight: bold\">2758</span>                                                                      <a href=\"file:///tmp/ipykernel_1030410/1340840146.py\" target=\"_blank\"><span style=\"color: #7f7f7f; text-decoration-color: #7f7f7f\">flwr</span></a><span style=\"color: #7f7f7f; text-decoration-color: #7f7f7f\">:</span><a href=\"file:///tmp/ipykernel_1030410/1340840146.py#21\" target=\"_blank\"><span style=\"color: #7f7f7f; text-decoration-color: #7f7f7f\">21</span></a>\n",
              "</pre>\n"
            ],
            "text/plain": [
              "\u001b[2;36m                   \u001b[0m\u001b[2;36m \u001b[0m\u001b[34mINFO    \u001b[0m cid: \u001b[1;36m2758\u001b[0m                                                                      \u001b]8;id=389846;file:///tmp/ipykernel_1030410/1340840146.py\u001b\\\u001b[2mflwr\u001b[0m\u001b]8;;\u001b\\\u001b[2m:\u001b[0m\u001b]8;id=33872;file:///tmp/ipykernel_1030410/1340840146.py#21\u001b\\\u001b[2m21\u001b[0m\u001b]8;;\u001b\\\n"
            ]
          },
          "metadata": {},
          "output_type": "display_data"
        },
        {
          "name": "stderr",
          "output_type": "stream",
          "text": [
            "INFO flwr 2025-03-15 22:04:01,597 | 1340840146.py:21 | cid: 592\n"
          ]
        },
        {
          "data": {
            "text/html": [
              "<pre style=\"white-space:pre;overflow-x:auto;line-height:normal;font-family:Menlo,'DejaVu Sans Mono',consolas,'Courier New',monospace\"><span style=\"color: #7fbfbf; text-decoration-color: #7fbfbf\">                    </span><span style=\"color: #000080; text-decoration-color: #000080\">INFO    </span> cid: <span style=\"color: #008080; text-decoration-color: #008080; font-weight: bold\">592</span>                                                                       <a href=\"file:///tmp/ipykernel_1030410/1340840146.py\" target=\"_blank\"><span style=\"color: #7f7f7f; text-decoration-color: #7f7f7f\">flwr</span></a><span style=\"color: #7f7f7f; text-decoration-color: #7f7f7f\">:</span><a href=\"file:///tmp/ipykernel_1030410/1340840146.py#21\" target=\"_blank\"><span style=\"color: #7f7f7f; text-decoration-color: #7f7f7f\">21</span></a>\n",
              "</pre>\n"
            ],
            "text/plain": [
              "\u001b[2;36m                   \u001b[0m\u001b[2;36m \u001b[0m\u001b[34mINFO    \u001b[0m cid: \u001b[1;36m592\u001b[0m                                                                       \u001b]8;id=650967;file:///tmp/ipykernel_1030410/1340840146.py\u001b\\\u001b[2mflwr\u001b[0m\u001b]8;;\u001b\\\u001b[2m:\u001b[0m\u001b]8;id=428586;file:///tmp/ipykernel_1030410/1340840146.py#21\u001b\\\u001b[2m21\u001b[0m\u001b]8;;\u001b\\\n"
            ]
          },
          "metadata": {},
          "output_type": "display_data"
        },
        {
          "name": "stderr",
          "output_type": "stream",
          "text": [
            "INFO flwr 2025-03-15 22:04:01,605 | 1340840146.py:21 | cid: 670\n"
          ]
        },
        {
          "data": {
            "text/html": [
              "<pre style=\"white-space:pre;overflow-x:auto;line-height:normal;font-family:Menlo,'DejaVu Sans Mono',consolas,'Courier New',monospace\"><span style=\"color: #7fbfbf; text-decoration-color: #7fbfbf\">                    </span><span style=\"color: #000080; text-decoration-color: #000080\">INFO    </span> cid: <span style=\"color: #008080; text-decoration-color: #008080; font-weight: bold\">670</span>                                                                       <a href=\"file:///tmp/ipykernel_1030410/1340840146.py\" target=\"_blank\"><span style=\"color: #7f7f7f; text-decoration-color: #7f7f7f\">flwr</span></a><span style=\"color: #7f7f7f; text-decoration-color: #7f7f7f\">:</span><a href=\"file:///tmp/ipykernel_1030410/1340840146.py#21\" target=\"_blank\"><span style=\"color: #7f7f7f; text-decoration-color: #7f7f7f\">21</span></a>\n",
              "</pre>\n"
            ],
            "text/plain": [
              "\u001b[2;36m                   \u001b[0m\u001b[2;36m \u001b[0m\u001b[34mINFO    \u001b[0m cid: \u001b[1;36m670\u001b[0m                                                                       \u001b]8;id=278182;file:///tmp/ipykernel_1030410/1340840146.py\u001b\\\u001b[2mflwr\u001b[0m\u001b]8;;\u001b\\\u001b[2m:\u001b[0m\u001b]8;id=405193;file:///tmp/ipykernel_1030410/1340840146.py#21\u001b\\\u001b[2m21\u001b[0m\u001b]8;;\u001b\\\n"
            ]
          },
          "metadata": {},
          "output_type": "display_data"
        },
        {
          "name": "stderr",
          "output_type": "stream",
          "text": [
            "INFO flwr 2025-03-15 22:04:01,612 | 1340840146.py:21 | cid: 1983\n"
          ]
        },
        {
          "data": {
            "text/html": [
              "<pre style=\"white-space:pre;overflow-x:auto;line-height:normal;font-family:Menlo,'DejaVu Sans Mono',consolas,'Courier New',monospace\"><span style=\"color: #7fbfbf; text-decoration-color: #7fbfbf\">                    </span><span style=\"color: #000080; text-decoration-color: #000080\">INFO    </span> cid: <span style=\"color: #008080; text-decoration-color: #008080; font-weight: bold\">1983</span>                                                                      <a href=\"file:///tmp/ipykernel_1030410/1340840146.py\" target=\"_blank\"><span style=\"color: #7f7f7f; text-decoration-color: #7f7f7f\">flwr</span></a><span style=\"color: #7f7f7f; text-decoration-color: #7f7f7f\">:</span><a href=\"file:///tmp/ipykernel_1030410/1340840146.py#21\" target=\"_blank\"><span style=\"color: #7f7f7f; text-decoration-color: #7f7f7f\">21</span></a>\n",
              "</pre>\n"
            ],
            "text/plain": [
              "\u001b[2;36m                   \u001b[0m\u001b[2;36m \u001b[0m\u001b[34mINFO    \u001b[0m cid: \u001b[1;36m1983\u001b[0m                                                                      \u001b]8;id=226338;file:///tmp/ipykernel_1030410/1340840146.py\u001b\\\u001b[2mflwr\u001b[0m\u001b]8;;\u001b\\\u001b[2m:\u001b[0m\u001b]8;id=171439;file:///tmp/ipykernel_1030410/1340840146.py#21\u001b\\\u001b[2m21\u001b[0m\u001b]8;;\u001b\\\n"
            ]
          },
          "metadata": {},
          "output_type": "display_data"
        },
        {
          "name": "stderr",
          "output_type": "stream",
          "text": [
            "INFO flwr 2025-03-15 22:04:01,619 | 1340840146.py:21 | cid: 2457\n"
          ]
        },
        {
          "data": {
            "text/html": [
              "<pre style=\"white-space:pre;overflow-x:auto;line-height:normal;font-family:Menlo,'DejaVu Sans Mono',consolas,'Courier New',monospace\"><span style=\"color: #7fbfbf; text-decoration-color: #7fbfbf\">                    </span><span style=\"color: #000080; text-decoration-color: #000080\">INFO    </span> cid: <span style=\"color: #008080; text-decoration-color: #008080; font-weight: bold\">2457</span>                                                                      <a href=\"file:///tmp/ipykernel_1030410/1340840146.py\" target=\"_blank\"><span style=\"color: #7f7f7f; text-decoration-color: #7f7f7f\">flwr</span></a><span style=\"color: #7f7f7f; text-decoration-color: #7f7f7f\">:</span><a href=\"file:///tmp/ipykernel_1030410/1340840146.py#21\" target=\"_blank\"><span style=\"color: #7f7f7f; text-decoration-color: #7f7f7f\">21</span></a>\n",
              "</pre>\n"
            ],
            "text/plain": [
              "\u001b[2;36m                   \u001b[0m\u001b[2;36m \u001b[0m\u001b[34mINFO    \u001b[0m cid: \u001b[1;36m2457\u001b[0m                                                                      \u001b]8;id=567269;file:///tmp/ipykernel_1030410/1340840146.py\u001b\\\u001b[2mflwr\u001b[0m\u001b]8;;\u001b\\\u001b[2m:\u001b[0m\u001b]8;id=841023;file:///tmp/ipykernel_1030410/1340840146.py#21\u001b\\\u001b[2m21\u001b[0m\u001b]8;;\u001b\\\n"
            ]
          },
          "metadata": {},
          "output_type": "display_data"
        },
        {
          "name": "stderr",
          "output_type": "stream",
          "text": [
            "INFO flwr 2025-03-15 22:04:01,625 | 1340840146.py:21 | cid: 351\n"
          ]
        },
        {
          "data": {
            "text/html": [
              "<pre style=\"white-space:pre;overflow-x:auto;line-height:normal;font-family:Menlo,'DejaVu Sans Mono',consolas,'Courier New',monospace\"><span style=\"color: #7fbfbf; text-decoration-color: #7fbfbf\">                    </span><span style=\"color: #000080; text-decoration-color: #000080\">INFO    </span> cid: <span style=\"color: #008080; text-decoration-color: #008080; font-weight: bold\">351</span>                                                                       <a href=\"file:///tmp/ipykernel_1030410/1340840146.py\" target=\"_blank\"><span style=\"color: #7f7f7f; text-decoration-color: #7f7f7f\">flwr</span></a><span style=\"color: #7f7f7f; text-decoration-color: #7f7f7f\">:</span><a href=\"file:///tmp/ipykernel_1030410/1340840146.py#21\" target=\"_blank\"><span style=\"color: #7f7f7f; text-decoration-color: #7f7f7f\">21</span></a>\n",
              "</pre>\n"
            ],
            "text/plain": [
              "\u001b[2;36m                   \u001b[0m\u001b[2;36m \u001b[0m\u001b[34mINFO    \u001b[0m cid: \u001b[1;36m351\u001b[0m                                                                       \u001b]8;id=269150;file:///tmp/ipykernel_1030410/1340840146.py\u001b\\\u001b[2mflwr\u001b[0m\u001b]8;;\u001b\\\u001b[2m:\u001b[0m\u001b]8;id=158619;file:///tmp/ipykernel_1030410/1340840146.py#21\u001b\\\u001b[2m21\u001b[0m\u001b]8;;\u001b\\\n"
            ]
          },
          "metadata": {},
          "output_type": "display_data"
        },
        {
          "name": "stderr",
          "output_type": "stream",
          "text": [
            "INFO flwr 2025-03-15 22:04:01,632 | 1340840146.py:21 | cid: 2995\n"
          ]
        },
        {
          "data": {
            "text/html": [
              "<pre style=\"white-space:pre;overflow-x:auto;line-height:normal;font-family:Menlo,'DejaVu Sans Mono',consolas,'Courier New',monospace\"><span style=\"color: #7fbfbf; text-decoration-color: #7fbfbf\">                    </span><span style=\"color: #000080; text-decoration-color: #000080\">INFO    </span> cid: <span style=\"color: #008080; text-decoration-color: #008080; font-weight: bold\">2995</span>                                                                      <a href=\"file:///tmp/ipykernel_1030410/1340840146.py\" target=\"_blank\"><span style=\"color: #7f7f7f; text-decoration-color: #7f7f7f\">flwr</span></a><span style=\"color: #7f7f7f; text-decoration-color: #7f7f7f\">:</span><a href=\"file:///tmp/ipykernel_1030410/1340840146.py#21\" target=\"_blank\"><span style=\"color: #7f7f7f; text-decoration-color: #7f7f7f\">21</span></a>\n",
              "</pre>\n"
            ],
            "text/plain": [
              "\u001b[2;36m                   \u001b[0m\u001b[2;36m \u001b[0m\u001b[34mINFO    \u001b[0m cid: \u001b[1;36m2995\u001b[0m                                                                      \u001b]8;id=943352;file:///tmp/ipykernel_1030410/1340840146.py\u001b\\\u001b[2mflwr\u001b[0m\u001b]8;;\u001b\\\u001b[2m:\u001b[0m\u001b]8;id=152252;file:///tmp/ipykernel_1030410/1340840146.py#21\u001b\\\u001b[2m21\u001b[0m\u001b]8;;\u001b\\\n"
            ]
          },
          "metadata": {},
          "output_type": "display_data"
        },
        {
          "name": "stderr",
          "output_type": "stream",
          "text": [
            "INFO flwr 2025-03-15 22:04:01,638 | 1340840146.py:21 | cid: 2885\n"
          ]
        },
        {
          "data": {
            "text/html": [
              "<pre style=\"white-space:pre;overflow-x:auto;line-height:normal;font-family:Menlo,'DejaVu Sans Mono',consolas,'Courier New',monospace\"><span style=\"color: #7fbfbf; text-decoration-color: #7fbfbf\">                    </span><span style=\"color: #000080; text-decoration-color: #000080\">INFO    </span> cid: <span style=\"color: #008080; text-decoration-color: #008080; font-weight: bold\">2885</span>                                                                      <a href=\"file:///tmp/ipykernel_1030410/1340840146.py\" target=\"_blank\"><span style=\"color: #7f7f7f; text-decoration-color: #7f7f7f\">flwr</span></a><span style=\"color: #7f7f7f; text-decoration-color: #7f7f7f\">:</span><a href=\"file:///tmp/ipykernel_1030410/1340840146.py#21\" target=\"_blank\"><span style=\"color: #7f7f7f; text-decoration-color: #7f7f7f\">21</span></a>\n",
              "</pre>\n"
            ],
            "text/plain": [
              "\u001b[2;36m                   \u001b[0m\u001b[2;36m \u001b[0m\u001b[34mINFO    \u001b[0m cid: \u001b[1;36m2885\u001b[0m                                                                      \u001b]8;id=692777;file:///tmp/ipykernel_1030410/1340840146.py\u001b\\\u001b[2mflwr\u001b[0m\u001b]8;;\u001b\\\u001b[2m:\u001b[0m\u001b]8;id=2376;file:///tmp/ipykernel_1030410/1340840146.py#21\u001b\\\u001b[2m21\u001b[0m\u001b]8;;\u001b\\\n"
            ]
          },
          "metadata": {},
          "output_type": "display_data"
        },
        {
          "name": "stderr",
          "output_type": "stream",
          "text": [
            "INFO flwr 2025-03-15 22:04:01,643 | 1340840146.py:21 | cid: 227\n"
          ]
        },
        {
          "data": {
            "text/html": [
              "<pre style=\"white-space:pre;overflow-x:auto;line-height:normal;font-family:Menlo,'DejaVu Sans Mono',consolas,'Courier New',monospace\"><span style=\"color: #7fbfbf; text-decoration-color: #7fbfbf\">                    </span><span style=\"color: #000080; text-decoration-color: #000080\">INFO    </span> cid: <span style=\"color: #008080; text-decoration-color: #008080; font-weight: bold\">227</span>                                                                       <a href=\"file:///tmp/ipykernel_1030410/1340840146.py\" target=\"_blank\"><span style=\"color: #7f7f7f; text-decoration-color: #7f7f7f\">flwr</span></a><span style=\"color: #7f7f7f; text-decoration-color: #7f7f7f\">:</span><a href=\"file:///tmp/ipykernel_1030410/1340840146.py#21\" target=\"_blank\"><span style=\"color: #7f7f7f; text-decoration-color: #7f7f7f\">21</span></a>\n",
              "</pre>\n"
            ],
            "text/plain": [
              "\u001b[2;36m                   \u001b[0m\u001b[2;36m \u001b[0m\u001b[34mINFO    \u001b[0m cid: \u001b[1;36m227\u001b[0m                                                                       \u001b]8;id=324974;file:///tmp/ipykernel_1030410/1340840146.py\u001b\\\u001b[2mflwr\u001b[0m\u001b]8;;\u001b\\\u001b[2m:\u001b[0m\u001b]8;id=208912;file:///tmp/ipykernel_1030410/1340840146.py#21\u001b\\\u001b[2m21\u001b[0m\u001b]8;;\u001b\\\n"
            ]
          },
          "metadata": {},
          "output_type": "display_data"
        },
        {
          "name": "stderr",
          "output_type": "stream",
          "text": [
            "INFO flwr 2025-03-15 22:04:01,649 | 1340840146.py:21 | cid: 2689\n"
          ]
        },
        {
          "data": {
            "text/html": [
              "<pre style=\"white-space:pre;overflow-x:auto;line-height:normal;font-family:Menlo,'DejaVu Sans Mono',consolas,'Courier New',monospace\"><span style=\"color: #7fbfbf; text-decoration-color: #7fbfbf\">                    </span><span style=\"color: #000080; text-decoration-color: #000080\">INFO    </span> cid: <span style=\"color: #008080; text-decoration-color: #008080; font-weight: bold\">2689</span>                                                                      <a href=\"file:///tmp/ipykernel_1030410/1340840146.py\" target=\"_blank\"><span style=\"color: #7f7f7f; text-decoration-color: #7f7f7f\">flwr</span></a><span style=\"color: #7f7f7f; text-decoration-color: #7f7f7f\">:</span><a href=\"file:///tmp/ipykernel_1030410/1340840146.py#21\" target=\"_blank\"><span style=\"color: #7f7f7f; text-decoration-color: #7f7f7f\">21</span></a>\n",
              "</pre>\n"
            ],
            "text/plain": [
              "\u001b[2;36m                   \u001b[0m\u001b[2;36m \u001b[0m\u001b[34mINFO    \u001b[0m cid: \u001b[1;36m2689\u001b[0m                                                                      \u001b]8;id=651660;file:///tmp/ipykernel_1030410/1340840146.py\u001b\\\u001b[2mflwr\u001b[0m\u001b]8;;\u001b\\\u001b[2m:\u001b[0m\u001b]8;id=550608;file:///tmp/ipykernel_1030410/1340840146.py#21\u001b\\\u001b[2m21\u001b[0m\u001b]8;;\u001b\\\n"
            ]
          },
          "metadata": {},
          "output_type": "display_data"
        },
        {
          "name": "stderr",
          "output_type": "stream",
          "text": [
            "INFO flwr 2025-03-15 22:04:01,654 | 1340840146.py:21 | cid: 2343\n"
          ]
        },
        {
          "data": {
            "text/html": [
              "<pre style=\"white-space:pre;overflow-x:auto;line-height:normal;font-family:Menlo,'DejaVu Sans Mono',consolas,'Courier New',monospace\"><span style=\"color: #7fbfbf; text-decoration-color: #7fbfbf\">                    </span><span style=\"color: #000080; text-decoration-color: #000080\">INFO    </span> cid: <span style=\"color: #008080; text-decoration-color: #008080; font-weight: bold\">2343</span>                                                                      <a href=\"file:///tmp/ipykernel_1030410/1340840146.py\" target=\"_blank\"><span style=\"color: #7f7f7f; text-decoration-color: #7f7f7f\">flwr</span></a><span style=\"color: #7f7f7f; text-decoration-color: #7f7f7f\">:</span><a href=\"file:///tmp/ipykernel_1030410/1340840146.py#21\" target=\"_blank\"><span style=\"color: #7f7f7f; text-decoration-color: #7f7f7f\">21</span></a>\n",
              "</pre>\n"
            ],
            "text/plain": [
              "\u001b[2;36m                   \u001b[0m\u001b[2;36m \u001b[0m\u001b[34mINFO    \u001b[0m cid: \u001b[1;36m2343\u001b[0m                                                                      \u001b]8;id=423281;file:///tmp/ipykernel_1030410/1340840146.py\u001b\\\u001b[2mflwr\u001b[0m\u001b]8;;\u001b\\\u001b[2m:\u001b[0m\u001b]8;id=95019;file:///tmp/ipykernel_1030410/1340840146.py#21\u001b\\\u001b[2m21\u001b[0m\u001b]8;;\u001b\\\n"
            ]
          },
          "metadata": {},
          "output_type": "display_data"
        },
        {
          "name": "stderr",
          "output_type": "stream",
          "text": [
            "INFO flwr 2025-03-15 22:04:01,659 | 1340840146.py:21 | cid: 817\n"
          ]
        },
        {
          "data": {
            "text/html": [
              "<pre style=\"white-space:pre;overflow-x:auto;line-height:normal;font-family:Menlo,'DejaVu Sans Mono',consolas,'Courier New',monospace\"><span style=\"color: #7fbfbf; text-decoration-color: #7fbfbf\">                    </span><span style=\"color: #000080; text-decoration-color: #000080\">INFO    </span> cid: <span style=\"color: #008080; text-decoration-color: #008080; font-weight: bold\">817</span>                                                                       <a href=\"file:///tmp/ipykernel_1030410/1340840146.py\" target=\"_blank\"><span style=\"color: #7f7f7f; text-decoration-color: #7f7f7f\">flwr</span></a><span style=\"color: #7f7f7f; text-decoration-color: #7f7f7f\">:</span><a href=\"file:///tmp/ipykernel_1030410/1340840146.py#21\" target=\"_blank\"><span style=\"color: #7f7f7f; text-decoration-color: #7f7f7f\">21</span></a>\n",
              "</pre>\n"
            ],
            "text/plain": [
              "\u001b[2;36m                   \u001b[0m\u001b[2;36m \u001b[0m\u001b[34mINFO    \u001b[0m cid: \u001b[1;36m817\u001b[0m                                                                       \u001b]8;id=377866;file:///tmp/ipykernel_1030410/1340840146.py\u001b\\\u001b[2mflwr\u001b[0m\u001b]8;;\u001b\\\u001b[2m:\u001b[0m\u001b]8;id=748002;file:///tmp/ipykernel_1030410/1340840146.py#21\u001b\\\u001b[2m21\u001b[0m\u001b]8;;\u001b\\\n"
            ]
          },
          "metadata": {},
          "output_type": "display_data"
        },
        {
          "name": "stderr",
          "output_type": "stream",
          "text": [
            "INFO flwr 2025-03-15 22:04:01,664 | 1340840146.py:21 | cid: 887\n"
          ]
        },
        {
          "data": {
            "text/html": [
              "<pre style=\"white-space:pre;overflow-x:auto;line-height:normal;font-family:Menlo,'DejaVu Sans Mono',consolas,'Courier New',monospace\"><span style=\"color: #7fbfbf; text-decoration-color: #7fbfbf\">                    </span><span style=\"color: #000080; text-decoration-color: #000080\">INFO    </span> cid: <span style=\"color: #008080; text-decoration-color: #008080; font-weight: bold\">887</span>                                                                       <a href=\"file:///tmp/ipykernel_1030410/1340840146.py\" target=\"_blank\"><span style=\"color: #7f7f7f; text-decoration-color: #7f7f7f\">flwr</span></a><span style=\"color: #7f7f7f; text-decoration-color: #7f7f7f\">:</span><a href=\"file:///tmp/ipykernel_1030410/1340840146.py#21\" target=\"_blank\"><span style=\"color: #7f7f7f; text-decoration-color: #7f7f7f\">21</span></a>\n",
              "</pre>\n"
            ],
            "text/plain": [
              "\u001b[2;36m                   \u001b[0m\u001b[2;36m \u001b[0m\u001b[34mINFO    \u001b[0m cid: \u001b[1;36m887\u001b[0m                                                                       \u001b]8;id=954045;file:///tmp/ipykernel_1030410/1340840146.py\u001b\\\u001b[2mflwr\u001b[0m\u001b]8;;\u001b\\\u001b[2m:\u001b[0m\u001b]8;id=59549;file:///tmp/ipykernel_1030410/1340840146.py#21\u001b\\\u001b[2m21\u001b[0m\u001b]8;;\u001b\\\n"
            ]
          },
          "metadata": {},
          "output_type": "display_data"
        },
        {
          "name": "stderr",
          "output_type": "stream",
          "text": [
            "INFO flwr 2025-03-15 22:04:01,670 | 1340840146.py:21 | cid: 2965\n"
          ]
        },
        {
          "data": {
            "text/html": [
              "<pre style=\"white-space:pre;overflow-x:auto;line-height:normal;font-family:Menlo,'DejaVu Sans Mono',consolas,'Courier New',monospace\"><span style=\"color: #7fbfbf; text-decoration-color: #7fbfbf\">                    </span><span style=\"color: #000080; text-decoration-color: #000080\">INFO    </span> cid: <span style=\"color: #008080; text-decoration-color: #008080; font-weight: bold\">2965</span>                                                                      <a href=\"file:///tmp/ipykernel_1030410/1340840146.py\" target=\"_blank\"><span style=\"color: #7f7f7f; text-decoration-color: #7f7f7f\">flwr</span></a><span style=\"color: #7f7f7f; text-decoration-color: #7f7f7f\">:</span><a href=\"file:///tmp/ipykernel_1030410/1340840146.py#21\" target=\"_blank\"><span style=\"color: #7f7f7f; text-decoration-color: #7f7f7f\">21</span></a>\n",
              "</pre>\n"
            ],
            "text/plain": [
              "\u001b[2;36m                   \u001b[0m\u001b[2;36m \u001b[0m\u001b[34mINFO    \u001b[0m cid: \u001b[1;36m2965\u001b[0m                                                                      \u001b]8;id=582952;file:///tmp/ipykernel_1030410/1340840146.py\u001b\\\u001b[2mflwr\u001b[0m\u001b]8;;\u001b\\\u001b[2m:\u001b[0m\u001b]8;id=332325;file:///tmp/ipykernel_1030410/1340840146.py#21\u001b\\\u001b[2m21\u001b[0m\u001b]8;;\u001b\\\n"
            ]
          },
          "metadata": {},
          "output_type": "display_data"
        },
        {
          "name": "stderr",
          "output_type": "stream",
          "text": [
            "INFO flwr 2025-03-15 22:04:01,677 | 1340840146.py:21 | cid: 1172\n"
          ]
        },
        {
          "data": {
            "text/html": [
              "<pre style=\"white-space:pre;overflow-x:auto;line-height:normal;font-family:Menlo,'DejaVu Sans Mono',consolas,'Courier New',monospace\"><span style=\"color: #7fbfbf; text-decoration-color: #7fbfbf\">                    </span><span style=\"color: #000080; text-decoration-color: #000080\">INFO    </span> cid: <span style=\"color: #008080; text-decoration-color: #008080; font-weight: bold\">1172</span>                                                                      <a href=\"file:///tmp/ipykernel_1030410/1340840146.py\" target=\"_blank\"><span style=\"color: #7f7f7f; text-decoration-color: #7f7f7f\">flwr</span></a><span style=\"color: #7f7f7f; text-decoration-color: #7f7f7f\">:</span><a href=\"file:///tmp/ipykernel_1030410/1340840146.py#21\" target=\"_blank\"><span style=\"color: #7f7f7f; text-decoration-color: #7f7f7f\">21</span></a>\n",
              "</pre>\n"
            ],
            "text/plain": [
              "\u001b[2;36m                   \u001b[0m\u001b[2;36m \u001b[0m\u001b[34mINFO    \u001b[0m cid: \u001b[1;36m1172\u001b[0m                                                                      \u001b]8;id=45395;file:///tmp/ipykernel_1030410/1340840146.py\u001b\\\u001b[2mflwr\u001b[0m\u001b]8;;\u001b\\\u001b[2m:\u001b[0m\u001b]8;id=266958;file:///tmp/ipykernel_1030410/1340840146.py#21\u001b\\\u001b[2m21\u001b[0m\u001b]8;;\u001b\\\n"
            ]
          },
          "metadata": {},
          "output_type": "display_data"
        },
        {
          "name": "stderr",
          "output_type": "stream",
          "text": [
            "INFO flwr 2025-03-15 22:04:01,685 | 1340840146.py:21 | cid: 1722\n"
          ]
        },
        {
          "data": {
            "text/html": [
              "<pre style=\"white-space:pre;overflow-x:auto;line-height:normal;font-family:Menlo,'DejaVu Sans Mono',consolas,'Courier New',monospace\"><span style=\"color: #7fbfbf; text-decoration-color: #7fbfbf\">                    </span><span style=\"color: #000080; text-decoration-color: #000080\">INFO    </span> cid: <span style=\"color: #008080; text-decoration-color: #008080; font-weight: bold\">1722</span>                                                                      <a href=\"file:///tmp/ipykernel_1030410/1340840146.py\" target=\"_blank\"><span style=\"color: #7f7f7f; text-decoration-color: #7f7f7f\">flwr</span></a><span style=\"color: #7f7f7f; text-decoration-color: #7f7f7f\">:</span><a href=\"file:///tmp/ipykernel_1030410/1340840146.py#21\" target=\"_blank\"><span style=\"color: #7f7f7f; text-decoration-color: #7f7f7f\">21</span></a>\n",
              "</pre>\n"
            ],
            "text/plain": [
              "\u001b[2;36m                   \u001b[0m\u001b[2;36m \u001b[0m\u001b[34mINFO    \u001b[0m cid: \u001b[1;36m1722\u001b[0m                                                                      \u001b]8;id=673446;file:///tmp/ipykernel_1030410/1340840146.py\u001b\\\u001b[2mflwr\u001b[0m\u001b]8;;\u001b\\\u001b[2m:\u001b[0m\u001b]8;id=943907;file:///tmp/ipykernel_1030410/1340840146.py#21\u001b\\\u001b[2m21\u001b[0m\u001b]8;;\u001b\\\n"
            ]
          },
          "metadata": {},
          "output_type": "display_data"
        },
        {
          "name": "stderr",
          "output_type": "stream",
          "text": [
            "INFO flwr 2025-03-15 22:04:01,690 | 1340840146.py:21 | cid: 2216\n"
          ]
        },
        {
          "data": {
            "text/html": [
              "<pre style=\"white-space:pre;overflow-x:auto;line-height:normal;font-family:Menlo,'DejaVu Sans Mono',consolas,'Courier New',monospace\"><span style=\"color: #7fbfbf; text-decoration-color: #7fbfbf\">                    </span><span style=\"color: #000080; text-decoration-color: #000080\">INFO    </span> cid: <span style=\"color: #008080; text-decoration-color: #008080; font-weight: bold\">2216</span>                                                                      <a href=\"file:///tmp/ipykernel_1030410/1340840146.py\" target=\"_blank\"><span style=\"color: #7f7f7f; text-decoration-color: #7f7f7f\">flwr</span></a><span style=\"color: #7f7f7f; text-decoration-color: #7f7f7f\">:</span><a href=\"file:///tmp/ipykernel_1030410/1340840146.py#21\" target=\"_blank\"><span style=\"color: #7f7f7f; text-decoration-color: #7f7f7f\">21</span></a>\n",
              "</pre>\n"
            ],
            "text/plain": [
              "\u001b[2;36m                   \u001b[0m\u001b[2;36m \u001b[0m\u001b[34mINFO    \u001b[0m cid: \u001b[1;36m2216\u001b[0m                                                                      \u001b]8;id=288872;file:///tmp/ipykernel_1030410/1340840146.py\u001b\\\u001b[2mflwr\u001b[0m\u001b]8;;\u001b\\\u001b[2m:\u001b[0m\u001b]8;id=36212;file:///tmp/ipykernel_1030410/1340840146.py#21\u001b\\\u001b[2m21\u001b[0m\u001b]8;;\u001b\\\n"
            ]
          },
          "metadata": {},
          "output_type": "display_data"
        },
        {
          "name": "stderr",
          "output_type": "stream",
          "text": [
            "INFO flwr 2025-03-15 22:04:01,695 | 1340840146.py:21 | cid: 1321\n"
          ]
        },
        {
          "data": {
            "text/html": [
              "<pre style=\"white-space:pre;overflow-x:auto;line-height:normal;font-family:Menlo,'DejaVu Sans Mono',consolas,'Courier New',monospace\"><span style=\"color: #7fbfbf; text-decoration-color: #7fbfbf\">                    </span><span style=\"color: #000080; text-decoration-color: #000080\">INFO    </span> cid: <span style=\"color: #008080; text-decoration-color: #008080; font-weight: bold\">1321</span>                                                                      <a href=\"file:///tmp/ipykernel_1030410/1340840146.py\" target=\"_blank\"><span style=\"color: #7f7f7f; text-decoration-color: #7f7f7f\">flwr</span></a><span style=\"color: #7f7f7f; text-decoration-color: #7f7f7f\">:</span><a href=\"file:///tmp/ipykernel_1030410/1340840146.py#21\" target=\"_blank\"><span style=\"color: #7f7f7f; text-decoration-color: #7f7f7f\">21</span></a>\n",
              "</pre>\n"
            ],
            "text/plain": [
              "\u001b[2;36m                   \u001b[0m\u001b[2;36m \u001b[0m\u001b[34mINFO    \u001b[0m cid: \u001b[1;36m1321\u001b[0m                                                                      \u001b]8;id=146618;file:///tmp/ipykernel_1030410/1340840146.py\u001b\\\u001b[2mflwr\u001b[0m\u001b]8;;\u001b\\\u001b[2m:\u001b[0m\u001b]8;id=449013;file:///tmp/ipykernel_1030410/1340840146.py#21\u001b\\\u001b[2m21\u001b[0m\u001b]8;;\u001b\\\n"
            ]
          },
          "metadata": {},
          "output_type": "display_data"
        },
        {
          "name": "stderr",
          "output_type": "stream",
          "text": [
            "INFO flwr 2025-03-15 22:04:01,700 | 1340840146.py:21 | cid: 2035\n"
          ]
        },
        {
          "data": {
            "text/html": [
              "<pre style=\"white-space:pre;overflow-x:auto;line-height:normal;font-family:Menlo,'DejaVu Sans Mono',consolas,'Courier New',monospace\"><span style=\"color: #7fbfbf; text-decoration-color: #7fbfbf\">                    </span><span style=\"color: #000080; text-decoration-color: #000080\">INFO    </span> cid: <span style=\"color: #008080; text-decoration-color: #008080; font-weight: bold\">2035</span>                                                                      <a href=\"file:///tmp/ipykernel_1030410/1340840146.py\" target=\"_blank\"><span style=\"color: #7f7f7f; text-decoration-color: #7f7f7f\">flwr</span></a><span style=\"color: #7f7f7f; text-decoration-color: #7f7f7f\">:</span><a href=\"file:///tmp/ipykernel_1030410/1340840146.py#21\" target=\"_blank\"><span style=\"color: #7f7f7f; text-decoration-color: #7f7f7f\">21</span></a>\n",
              "</pre>\n"
            ],
            "text/plain": [
              "\u001b[2;36m                   \u001b[0m\u001b[2;36m \u001b[0m\u001b[34mINFO    \u001b[0m cid: \u001b[1;36m2035\u001b[0m                                                                      \u001b]8;id=594457;file:///tmp/ipykernel_1030410/1340840146.py\u001b\\\u001b[2mflwr\u001b[0m\u001b]8;;\u001b\\\u001b[2m:\u001b[0m\u001b]8;id=360288;file:///tmp/ipykernel_1030410/1340840146.py#21\u001b\\\u001b[2m21\u001b[0m\u001b]8;;\u001b\\\n"
            ]
          },
          "metadata": {},
          "output_type": "display_data"
        },
        {
          "name": "stderr",
          "output_type": "stream",
          "text": [
            "INFO flwr 2025-03-15 22:04:01,705 | 1340840146.py:21 | cid: 693\n"
          ]
        },
        {
          "data": {
            "text/html": [
              "<pre style=\"white-space:pre;overflow-x:auto;line-height:normal;font-family:Menlo,'DejaVu Sans Mono',consolas,'Courier New',monospace\"><span style=\"color: #7fbfbf; text-decoration-color: #7fbfbf\">                    </span><span style=\"color: #000080; text-decoration-color: #000080\">INFO    </span> cid: <span style=\"color: #008080; text-decoration-color: #008080; font-weight: bold\">693</span>                                                                       <a href=\"file:///tmp/ipykernel_1030410/1340840146.py\" target=\"_blank\"><span style=\"color: #7f7f7f; text-decoration-color: #7f7f7f\">flwr</span></a><span style=\"color: #7f7f7f; text-decoration-color: #7f7f7f\">:</span><a href=\"file:///tmp/ipykernel_1030410/1340840146.py#21\" target=\"_blank\"><span style=\"color: #7f7f7f; text-decoration-color: #7f7f7f\">21</span></a>\n",
              "</pre>\n"
            ],
            "text/plain": [
              "\u001b[2;36m                   \u001b[0m\u001b[2;36m \u001b[0m\u001b[34mINFO    \u001b[0m cid: \u001b[1;36m693\u001b[0m                                                                       \u001b]8;id=22046;file:///tmp/ipykernel_1030410/1340840146.py\u001b\\\u001b[2mflwr\u001b[0m\u001b]8;;\u001b\\\u001b[2m:\u001b[0m\u001b]8;id=461335;file:///tmp/ipykernel_1030410/1340840146.py#21\u001b\\\u001b[2m21\u001b[0m\u001b]8;;\u001b\\\n"
            ]
          },
          "metadata": {},
          "output_type": "display_data"
        },
        {
          "name": "stderr",
          "output_type": "stream",
          "text": [
            "INFO flwr 2025-03-15 22:04:01,711 | 1340840146.py:21 | cid: 301\n"
          ]
        },
        {
          "data": {
            "text/html": [
              "<pre style=\"white-space:pre;overflow-x:auto;line-height:normal;font-family:Menlo,'DejaVu Sans Mono',consolas,'Courier New',monospace\"><span style=\"color: #7fbfbf; text-decoration-color: #7fbfbf\">                    </span><span style=\"color: #000080; text-decoration-color: #000080\">INFO    </span> cid: <span style=\"color: #008080; text-decoration-color: #008080; font-weight: bold\">301</span>                                                                       <a href=\"file:///tmp/ipykernel_1030410/1340840146.py\" target=\"_blank\"><span style=\"color: #7f7f7f; text-decoration-color: #7f7f7f\">flwr</span></a><span style=\"color: #7f7f7f; text-decoration-color: #7f7f7f\">:</span><a href=\"file:///tmp/ipykernel_1030410/1340840146.py#21\" target=\"_blank\"><span style=\"color: #7f7f7f; text-decoration-color: #7f7f7f\">21</span></a>\n",
              "</pre>\n"
            ],
            "text/plain": [
              "\u001b[2;36m                   \u001b[0m\u001b[2;36m \u001b[0m\u001b[34mINFO    \u001b[0m cid: \u001b[1;36m301\u001b[0m                                                                       \u001b]8;id=562052;file:///tmp/ipykernel_1030410/1340840146.py\u001b\\\u001b[2mflwr\u001b[0m\u001b]8;;\u001b\\\u001b[2m:\u001b[0m\u001b]8;id=402253;file:///tmp/ipykernel_1030410/1340840146.py#21\u001b\\\u001b[2m21\u001b[0m\u001b]8;;\u001b\\\n"
            ]
          },
          "metadata": {},
          "output_type": "display_data"
        },
        {
          "name": "stderr",
          "output_type": "stream",
          "text": [
            "INFO flwr 2025-03-15 22:04:01,717 | 1340840146.py:21 | cid: 3018\n"
          ]
        },
        {
          "data": {
            "text/html": [
              "<pre style=\"white-space:pre;overflow-x:auto;line-height:normal;font-family:Menlo,'DejaVu Sans Mono',consolas,'Courier New',monospace\"><span style=\"color: #7fbfbf; text-decoration-color: #7fbfbf\">                    </span><span style=\"color: #000080; text-decoration-color: #000080\">INFO    </span> cid: <span style=\"color: #008080; text-decoration-color: #008080; font-weight: bold\">3018</span>                                                                      <a href=\"file:///tmp/ipykernel_1030410/1340840146.py\" target=\"_blank\"><span style=\"color: #7f7f7f; text-decoration-color: #7f7f7f\">flwr</span></a><span style=\"color: #7f7f7f; text-decoration-color: #7f7f7f\">:</span><a href=\"file:///tmp/ipykernel_1030410/1340840146.py#21\" target=\"_blank\"><span style=\"color: #7f7f7f; text-decoration-color: #7f7f7f\">21</span></a>\n",
              "</pre>\n"
            ],
            "text/plain": [
              "\u001b[2;36m                   \u001b[0m\u001b[2;36m \u001b[0m\u001b[34mINFO    \u001b[0m cid: \u001b[1;36m3018\u001b[0m                                                                      \u001b]8;id=513297;file:///tmp/ipykernel_1030410/1340840146.py\u001b\\\u001b[2mflwr\u001b[0m\u001b]8;;\u001b\\\u001b[2m:\u001b[0m\u001b]8;id=709106;file:///tmp/ipykernel_1030410/1340840146.py#21\u001b\\\u001b[2m21\u001b[0m\u001b]8;;\u001b\\\n"
            ]
          },
          "metadata": {},
          "output_type": "display_data"
        },
        {
          "name": "stderr",
          "output_type": "stream",
          "text": [
            "INFO flwr 2025-03-15 22:04:01,723 | 1340840146.py:21 | cid: 2510\n"
          ]
        },
        {
          "data": {
            "text/html": [
              "<pre style=\"white-space:pre;overflow-x:auto;line-height:normal;font-family:Menlo,'DejaVu Sans Mono',consolas,'Courier New',monospace\"><span style=\"color: #7fbfbf; text-decoration-color: #7fbfbf\">                    </span><span style=\"color: #000080; text-decoration-color: #000080\">INFO    </span> cid: <span style=\"color: #008080; text-decoration-color: #008080; font-weight: bold\">2510</span>                                                                      <a href=\"file:///tmp/ipykernel_1030410/1340840146.py\" target=\"_blank\"><span style=\"color: #7f7f7f; text-decoration-color: #7f7f7f\">flwr</span></a><span style=\"color: #7f7f7f; text-decoration-color: #7f7f7f\">:</span><a href=\"file:///tmp/ipykernel_1030410/1340840146.py#21\" target=\"_blank\"><span style=\"color: #7f7f7f; text-decoration-color: #7f7f7f\">21</span></a>\n",
              "</pre>\n"
            ],
            "text/plain": [
              "\u001b[2;36m                   \u001b[0m\u001b[2;36m \u001b[0m\u001b[34mINFO    \u001b[0m cid: \u001b[1;36m2510\u001b[0m                                                                      \u001b]8;id=750727;file:///tmp/ipykernel_1030410/1340840146.py\u001b\\\u001b[2mflwr\u001b[0m\u001b]8;;\u001b\\\u001b[2m:\u001b[0m\u001b]8;id=620772;file:///tmp/ipykernel_1030410/1340840146.py#21\u001b\\\u001b[2m21\u001b[0m\u001b]8;;\u001b\\\n"
            ]
          },
          "metadata": {},
          "output_type": "display_data"
        }
      ],
      "source": [
        "total_clients: int = 100\n",
        "list_of_ids = sample_random_clients(\n",
        "    total_clients, 32, federated_partition\n",
        ")\n",
        "\n",
        "federated_client_generator: Callable[[str], FlowerRayClient] = (\n",
        "    get_flower_client_generator(\n",
        "        network_generator, federated_partition, lambda seq_id: list_of_ids[seq_id]\n",
        "    )\n",
        ")"
      ]
    },
    {
      "cell_type": "markdown",
      "metadata": {
        "id": "BUrsR0JJwZ5R"
      },
      "source": [
        "Now, to test that the newly partitioned clients can be trained."
      ]
    },
    {
      "cell_type": "code",
      "execution_count": 13,
      "metadata": {
        "id": "1HzR2ZY7nhPm"
      },
      "outputs": [],
      "source": [
        "test_config: dict[str, Any] = {\n",
        "    \"batch_size\": 32,\n",
        "    \"num_workers\": 0,\n",
        "    \"max_batches\": 100,\n",
        "}"
      ]
    },
    {
      "cell_type": "code",
      "execution_count": 14,
      "metadata": {
        "colab": {
          "base_uri": "https://localhost:8080/"
        },
        "id": "wyoErIaM3D1L",
        "outputId": "9fa8cae1-66d7-4bc3-a9de-22282d5a8f14"
      },
      "outputs": [
        {
          "name": "stderr",
          "output_type": "stream",
          "text": [
            "INFO flwr 2025-03-15 22:04:01,748 | 1340840146.py:21 | cid: 740\n"
          ]
        },
        {
          "data": {
            "text/html": [
              "<pre style=\"white-space:pre;overflow-x:auto;line-height:normal;font-family:Menlo,'DejaVu Sans Mono',consolas,'Courier New',monospace\"><span style=\"color: #7fbfbf; text-decoration-color: #7fbfbf\">                    </span><span style=\"color: #000080; text-decoration-color: #000080\">INFO    </span> cid: <span style=\"color: #008080; text-decoration-color: #008080; font-weight: bold\">740</span>                                                                       <a href=\"file:///tmp/ipykernel_1030410/1340840146.py\" target=\"_blank\"><span style=\"color: #7f7f7f; text-decoration-color: #7f7f7f\">flwr</span></a><span style=\"color: #7f7f7f; text-decoration-color: #7f7f7f\">:</span><a href=\"file:///tmp/ipykernel_1030410/1340840146.py#21\" target=\"_blank\"><span style=\"color: #7f7f7f; text-decoration-color: #7f7f7f\">21</span></a>\n",
              "</pre>\n"
            ],
            "text/plain": [
              "\u001b[2;36m                   \u001b[0m\u001b[2;36m \u001b[0m\u001b[34mINFO    \u001b[0m cid: \u001b[1;36m740\u001b[0m                                                                       \u001b]8;id=346803;file:///tmp/ipykernel_1030410/1340840146.py\u001b\\\u001b[2mflwr\u001b[0m\u001b]8;;\u001b\\\u001b[2m:\u001b[0m\u001b]8;id=135537;file:///tmp/ipykernel_1030410/1340840146.py#21\u001b\\\u001b[2m21\u001b[0m\u001b]8;;\u001b\\\n"
            ]
          },
          "metadata": {},
          "output_type": "display_data"
        },
        {
          "name": "stderr",
          "output_type": "stream",
          "text": [
            "INFO flwr 2025-03-15 22:04:01,752 | 1340840146.py:21 | cid: 419\n"
          ]
        },
        {
          "data": {
            "text/html": [
              "<pre style=\"white-space:pre;overflow-x:auto;line-height:normal;font-family:Menlo,'DejaVu Sans Mono',consolas,'Courier New',monospace\"><span style=\"color: #7fbfbf; text-decoration-color: #7fbfbf\">                    </span><span style=\"color: #000080; text-decoration-color: #000080\">INFO    </span> cid: <span style=\"color: #008080; text-decoration-color: #008080; font-weight: bold\">419</span>                                                                       <a href=\"file:///tmp/ipykernel_1030410/1340840146.py\" target=\"_blank\"><span style=\"color: #7f7f7f; text-decoration-color: #7f7f7f\">flwr</span></a><span style=\"color: #7f7f7f; text-decoration-color: #7f7f7f\">:</span><a href=\"file:///tmp/ipykernel_1030410/1340840146.py#21\" target=\"_blank\"><span style=\"color: #7f7f7f; text-decoration-color: #7f7f7f\">21</span></a>\n",
              "</pre>\n"
            ],
            "text/plain": [
              "\u001b[2;36m                   \u001b[0m\u001b[2;36m \u001b[0m\u001b[34mINFO    \u001b[0m cid: \u001b[1;36m419\u001b[0m                                                                       \u001b]8;id=746827;file:///tmp/ipykernel_1030410/1340840146.py\u001b\\\u001b[2mflwr\u001b[0m\u001b]8;;\u001b\\\u001b[2m:\u001b[0m\u001b]8;id=549130;file:///tmp/ipykernel_1030410/1340840146.py#21\u001b\\\u001b[2m21\u001b[0m\u001b]8;;\u001b\\\n"
            ]
          },
          "metadata": {},
          "output_type": "display_data"
        },
        {
          "name": "stderr",
          "output_type": "stream",
          "text": [
            "INFO flwr 2025-03-15 22:04:01,754 | 1340840146.py:21 | cid: 1888\n"
          ]
        },
        {
          "data": {
            "text/html": [
              "<pre style=\"white-space:pre;overflow-x:auto;line-height:normal;font-family:Menlo,'DejaVu Sans Mono',consolas,'Courier New',monospace\"><span style=\"color: #7fbfbf; text-decoration-color: #7fbfbf\">                    </span><span style=\"color: #000080; text-decoration-color: #000080\">INFO    </span> cid: <span style=\"color: #008080; text-decoration-color: #008080; font-weight: bold\">1888</span>                                                                      <a href=\"file:///tmp/ipykernel_1030410/1340840146.py\" target=\"_blank\"><span style=\"color: #7f7f7f; text-decoration-color: #7f7f7f\">flwr</span></a><span style=\"color: #7f7f7f; text-decoration-color: #7f7f7f\">:</span><a href=\"file:///tmp/ipykernel_1030410/1340840146.py#21\" target=\"_blank\"><span style=\"color: #7f7f7f; text-decoration-color: #7f7f7f\">21</span></a>\n",
              "</pre>\n"
            ],
            "text/plain": [
              "\u001b[2;36m                   \u001b[0m\u001b[2;36m \u001b[0m\u001b[34mINFO    \u001b[0m cid: \u001b[1;36m1888\u001b[0m                                                                      \u001b]8;id=194713;file:///tmp/ipykernel_1030410/1340840146.py\u001b\\\u001b[2mflwr\u001b[0m\u001b]8;;\u001b\\\u001b[2m:\u001b[0m\u001b]8;id=137104;file:///tmp/ipykernel_1030410/1340840146.py#21\u001b\\\u001b[2m21\u001b[0m\u001b]8;;\u001b\\\n"
            ]
          },
          "metadata": {},
          "output_type": "display_data"
        },
        {
          "name": "stderr",
          "output_type": "stream",
          "text": [
            "INFO flwr 2025-03-15 22:04:01,757 | 1340840146.py:21 | cid: 2035\n"
          ]
        },
        {
          "data": {
            "text/html": [
              "<pre style=\"white-space:pre;overflow-x:auto;line-height:normal;font-family:Menlo,'DejaVu Sans Mono',consolas,'Courier New',monospace\"><span style=\"color: #7fbfbf; text-decoration-color: #7fbfbf\">                    </span><span style=\"color: #000080; text-decoration-color: #000080\">INFO    </span> cid: <span style=\"color: #008080; text-decoration-color: #008080; font-weight: bold\">2035</span>                                                                      <a href=\"file:///tmp/ipykernel_1030410/1340840146.py\" target=\"_blank\"><span style=\"color: #7f7f7f; text-decoration-color: #7f7f7f\">flwr</span></a><span style=\"color: #7f7f7f; text-decoration-color: #7f7f7f\">:</span><a href=\"file:///tmp/ipykernel_1030410/1340840146.py#21\" target=\"_blank\"><span style=\"color: #7f7f7f; text-decoration-color: #7f7f7f\">21</span></a>\n",
              "</pre>\n"
            ],
            "text/plain": [
              "\u001b[2;36m                   \u001b[0m\u001b[2;36m \u001b[0m\u001b[34mINFO    \u001b[0m cid: \u001b[1;36m2035\u001b[0m                                                                      \u001b]8;id=536448;file:///tmp/ipykernel_1030410/1340840146.py\u001b\\\u001b[2mflwr\u001b[0m\u001b]8;;\u001b\\\u001b[2m:\u001b[0m\u001b]8;id=127374;file:///tmp/ipykernel_1030410/1340840146.py#21\u001b\\\u001b[2m21\u001b[0m\u001b]8;;\u001b\\\n"
            ]
          },
          "metadata": {},
          "output_type": "display_data"
        },
        {
          "name": "stdout",
          "output_type": "stream",
          "text": [
            "clients=[<__main__.FlowerRayClient object at 0x7ca08868ab60>, <__main__.FlowerRayClient object at 0x7ca08868bb50>, <__main__.FlowerRayClient object at 0x7ca2135c3160>, <__main__.FlowerRayClient object at 0x7ca08868b9d0>]\n"
          ]
        }
      ],
      "source": [
        "num_clients = 4\n",
        "clientIds = random.sample(list(range(total_clients)), num_clients)\n",
        "clients = [federated_client_generator(str(cid)) for cid in clientIds]\n",
        "print(f'{clients=}')"
      ]
    },
    {
      "cell_type": "code",
      "execution_count": 15,
      "metadata": {
        "id": "6JaVhQIyL_Tq"
      },
      "outputs": [],
      "source": [
        "# def train(clients, numEpoch):\n",
        "#     epoch_config: dict[str, Any] = {\n",
        "#     \"epochs\": numEpoch,\n",
        "#     \"batch_size\": 32,\n",
        "#     \"client_learning_rate\": 0.01,\n",
        "#     \"weight_decay\": 0.001,\n",
        "#     \"num_workers\": 0,\n",
        "#     \"max_batches\": 100,\n",
        "#     }\n",
        "\n",
        "#     trained_models = [\n",
        "#     fit_client_seeded(\n",
        "#         client, seed_model_params, epoch_config\n",
        "#     )\n",
        "#     for client in clients\n",
        "#     ]\n",
        "\n",
        "#     params = [model for model, *rest in trained_models]\n",
        "#     metrics = [rest for _, *rest in trained_models]\n",
        "#     log(INFO, \"Metrics from trained models are: %s\", metrics)\n",
        "#     return params, metrics"
      ]
    },
    {
      "cell_type": "markdown",
      "metadata": {
        "id": "pfDcWWoc2B5q"
      },
      "source": [
        "The two basic blocks of synchronous server-client FL systems are:\n",
        "- A client with some local training method and data---i.e., SGD. This is what we have built thus far.\n",
        "- A server which coordinates training sends the federated model to clients at the start of each round and aggregates model updates at the end of each round."
      ]
    },
    {
      "cell_type": "markdown",
      "metadata": {
        "id": "cxsFjUN03D1M"
      },
      "source": [
        "The pieces necessary for starting an FL simulation are now in play; we need to arrange them to fit the Flower API. First, we shall require a separate federated evaluation function which can be called outside the context of a specific client. It will use the centralised test set to be as simple as possible."
      ]
    },
    {
      "cell_type": "code",
      "execution_count": 16,
      "metadata": {
        "id": "OO7CqzaE3D1M"
      },
      "outputs": [],
      "source": [
        "def get_federated_evaluation_function(\n",
        "    batch_size: int,\n",
        "    num_workers: int,\n",
        "    model_generator: Callable[[], Module],\n",
        "    criterion: Module,\n",
        "    max_batches: int,\n",
        ") -> Callable[[int, NDArrays, dict[str, Any]], tuple[float, dict[str, Scalar]]]:\n",
        "    \"\"\"Wrap the external federated evaluation function.\n",
        "\n",
        "    It provides the external federated evaluation function with some\n",
        "    parameters for the dataloader, the model generator function, and\n",
        "    the criterion used in the evaluation.\n",
        "\n",
        "    Parameters\n",
        "    ----------\n",
        "        batch_size (int): batch size of the test set to use.\n",
        "        num_workers (int): correspond to `num_workers` param in the Dataloader object.\n",
        "        model_generator (Callable[[], Module]):  model generator function.\n",
        "        criterion (Module): PyTorch Module containing the criterion for evaluating the\n",
        "        model.\n",
        "\n",
        "    Returns\n",
        "    -------\n",
        "        Callable[[int, NDArrays, dict[str, Any]], tuple[float, dict[str, Scalar]]]:\n",
        "            external federated evaluation function.\n",
        "    \"\"\"\n",
        "\n",
        "    def federated_evaluation_function(\n",
        "        server_round: int,\n",
        "        parameters: NDArrays,\n",
        "        fed_eval_config: dict[\n",
        "            str, Any\n",
        "        ],  # mandatory argument, even if it's not being used\n",
        "    ) -> tuple[float, dict[str, Scalar]]:\n",
        "        \"\"\"Evaluate federated model on the server.\n",
        "\n",
        "        It uses the centralized val set for sake of simplicity.\n",
        "\n",
        "        Parameters\n",
        "        ----------\n",
        "            server_round (int): current federated round.\n",
        "            parameters (NDArrays): current model parameters.\n",
        "            fed_eval_config (dict[str, Any]): mandatory argument in Flower, can contain\n",
        "                some configuration info\n",
        "\n",
        "        Returns\n",
        "        -------\n",
        "            tuple[float, dict[str, Scalar]]: evaluation results\n",
        "        \"\"\"\n",
        "        device: str = get_device()\n",
        "        net: Module = set_model_parameters(model_generator(), parameters)\n",
        "        net.to(device)\n",
        "\n",
        "        full_file: Path = centralized_mapping\n",
        "        dataset: Dataset = load_femnist_dataset(data_dir, full_file, \"val\")\n",
        "\n",
        "        valid_loader = DataLoader(\n",
        "            dataset=dataset,\n",
        "            batch_size=batch_size,\n",
        "            shuffle=False,\n",
        "            num_workers=num_workers,\n",
        "            drop_last=False,\n",
        "        )\n",
        "\n",
        "        loss, acc = test_femnist(\n",
        "            net=net,\n",
        "            test_loader=valid_loader,\n",
        "            device=device,\n",
        "            criterion=criterion,\n",
        "            max_batches=max_batches,\n",
        "        )\n",
        "        return loss, {\"accuracy\": acc}\n",
        "\n",
        "    return federated_evaluation_function\n",
        "\n",
        "\n",
        "federated_evaluation_function = get_federated_evaluation_function(\n",
        "    batch_size=test_config[\"batch_size\"],\n",
        "    num_workers=test_config[\"num_workers\"],\n",
        "    model_generator=network_generator,\n",
        "    criterion=nn.CrossEntropyLoss(),\n",
        "    max_batches=test_config[\"max_batches\"],\n",
        ")"
      ]
    },
    {
      "cell_type": "code",
      "execution_count": 17,
      "metadata": {
        "id": "7D1cEkrB2B5r"
      },
      "outputs": [],
      "source": [
        "def aggregate_weighted_average(metrics: list[tuple[int, dict]]) -> dict:\n",
        "    \"\"\"Combine results from multiple clients following training or evaluation.\n",
        "\n",
        "    Parameters\n",
        "    ----------\n",
        "        metrics (list[tuple[int, dict]]): collected clients metrics\n",
        "\n",
        "    Returns\n",
        "    -------\n",
        "        dict: result dictionary containing the aggregate of the metrics passed.\n",
        "    \"\"\"\n",
        "    average_dict: dict = defaultdict(list)\n",
        "    total_examples: int = 0\n",
        "    for num_examples, metrics_dict in metrics:\n",
        "        for key, val in metrics_dict.items():\n",
        "            if isinstance(val, numbers.Number):\n",
        "                average_dict[key].append((num_examples, val))\n",
        "        total_examples += num_examples\n",
        "    return {\n",
        "        key: {\n",
        "            \"avg\": float(\n",
        "                sum([num_examples * metric for num_examples, metric in val])\n",
        "                / float(total_examples)\n",
        "            ),\n",
        "            \"all\": val,\n",
        "        }\n",
        "        for key, val in average_dict.items()\n",
        "    }"
      ]
    },
    {
      "cell_type": "code",
      "execution_count": 18,
      "metadata": {
        "id": "-sxyPBQ0zSoD"
      },
      "outputs": [],
      "source": [
        "# Federated configuration dictionary\n",
        "federated_train_config: dict[str, Any] = {\n",
        "    \"epochs\": 50,\n",
        "    \"batch_size\": 32,\n",
        "    \"client_learning_rate\": 0.01,\n",
        "    \"weight_decay\": 0.001,\n",
        "    \"num_workers\": 0,\n",
        "    \"max_batches\": 100,\n",
        "}"
      ]
    },
    {
      "cell_type": "markdown",
      "metadata": {
        "id": "JNLIfqk0xhDj"
      },
      "source": [
        "The only challenge left is the FL simulation itself. In `Flower`, a `Server` object handles this for us by using `Ray` and spawning many heavyweight worker process.\n",
        "\n",
        "Given the limited-resource scenario in which we find ourselves, we provide you with a slightly modified simulation function which uses a simple thread pool. Feel free to swap it out for the original simulation or replace it with your own implementation if so inclined.\n",
        "\n",
        "> The server we use is not the default `Flower` server as it returns the model parameters from every single round in a `(round, NDArrays)` tuple."
      ]
    },
    {
      "cell_type": "code",
      "execution_count": 19,
      "metadata": {
        "id": "1Fs5gtK-3D1M"
      },
      "outputs": [],
      "source": [
        "def start_seeded_simulation(\n",
        "    client_fn: Callable[[str], Client],\n",
        "    num_clients: int,\n",
        "    config: ServerConfig,\n",
        "    strategy: Strategy,\n",
        "    name: str,\n",
        "    return_all_parameters: bool = False,\n",
        "    seed: int = Seeds.DEFAULT,\n",
        "    iteration: int = 0,\n",
        ") -> tuple[list[tuple[int, NDArrays]], History]:\n",
        "    \"\"\"Wrap to seed client selection.\"\"\"\n",
        "    np.random.seed(seed ^ iteration)\n",
        "    torch.manual_seed(seed ^ iteration)\n",
        "    random.seed(seed ^ iteration)\n",
        "    parameter_list, hist = flwr.simulation.start_simulation_no_ray(\n",
        "        client_fn=client_fn,\n",
        "        num_clients=num_clients,\n",
        "        client_resources={},\n",
        "        config=config,\n",
        "        strategy=strategy,\n",
        "    )\n",
        "    save_history(home_dir, hist, name)\n",
        "    return parameter_list, hist"
      ]
    },
    {
      "cell_type": "markdown",
      "metadata": {},
      "source": [
        "`run_simulation_frank_wolfe` is an adaptation of the original simulation function (now renamed to `run_simulation_fedavg`), the only difference being the strategy used. The strategy can be found in [c2m3/match/fed_frank_wolfe_strategy.py](https://github.com/DawnSpider96/L361-Federated-Learning/blob/c2m3/c2m3/match/fed_frank_wolfe_strategy.py#L43)"
      ]
    },
    {
      "cell_type": "code",
      "execution_count": 20,
      "metadata": {
        "id": "JkqplxMXLm8K"
      },
      "outputs": [],
      "source": [
        "num_rounds = 10\n",
        "\n",
        "num_total_clients = 20\n",
        "\n",
        "num_evaluate_clients = 0\n",
        "num_clients_per_round = 5\n",
        "\n",
        "initial_parameters = ndarrays_to_parameters(seed_model_params)\n",
        "\n",
        "\n",
        "def run_simulation_frank_wolfe(\n",
        "    # How long the FL process runs for:\n",
        "    num_rounds: int = num_rounds,\n",
        "    # Number of clients available\n",
        "    num_total_clients: int = num_total_clients,\n",
        "    # Number of clients used for train/eval\n",
        "    num_clients_per_round: int = num_clients_per_round,\n",
        "    num_evaluate_clients: int = num_evaluate_clients,\n",
        "    # If less clients are overall available stop FL\n",
        "    min_available_clients: int = num_total_clients,\n",
        "    # If less clients are available for fit/eval stop FL\n",
        "    min_fit_clients: int = num_clients_per_round,\n",
        "    min_evaluate_clients: int = num_evaluate_clients,\n",
        "    # Function to test the federated model performance\n",
        "    # external to a client instantiation\n",
        "    evaluate_fn: (\n",
        "        Callable[\n",
        "            [int, NDArrays, dict[str, Scalar]],\n",
        "            tuple[float, dict[str, Scalar]] | None,\n",
        "        ]\n",
        "        | None\n",
        "    ) = federated_evaluation_function,\n",
        "    # Functions to generate a config for client fit/evaluate\n",
        "    # by-default the same config is shallow-copied to all clients in Flower\n",
        "    # this version simply uses the configs defined above\n",
        "    on_fit_config_fn: Callable[\n",
        "        [int], dict[str, Scalar]\n",
        "    ] = lambda _x: federated_train_config,\n",
        "    on_evaluate_config_fn: Callable[[int], dict[str, Scalar]] = lambda _x: test_config,\n",
        "    # The \"Parameters\" type is merely a more packed version\n",
        "    # of numpy array lists, used internally by Flower\n",
        "    initial_parameters: Parameters = initial_parameters,\n",
        "    # If this is set to True, aggregation will work even if some clients fail\n",
        "    accept_failures: bool = False,\n",
        "    # How to combine the metrics dictionary returned by all clients for fit/eval\n",
        "    fit_metrics_aggregation_fn: Callable | None = aggregate_weighted_average,\n",
        "    evaluate_metrics_aggregation_fn: Callable | None = aggregate_weighted_average,\n",
        "    federated_client_generator: Callable[\n",
        "        [str], flwr.client.NumPyClient\n",
        "    ] = federated_client_generator,\n",
        "    # Aggregation learning rate for FedAvg\n",
        "    server_learning_rate: float = 1.0,\n",
        "    server_momentum: float = 0.0,\n",
        ") -> tuple[list[tuple[int, NDArrays]], History]:\n",
        "    \"\"\"Run a federated simulation using Flower.\"\"\"\n",
        "    log(INFO, \"FL will execute for %s rounds\", num_rounds)\n",
        "\n",
        "    # Percentage of clients used for train/eval\n",
        "    fraction_fit: float = float(num_clients_per_round) / num_total_clients\n",
        "    fraction_evaluate: float = float(num_evaluate_clients) / num_total_clients\n",
        "\n",
        "    strategy = FrankWolfeSync(\n",
        "        fraction_fit=fraction_fit,\n",
        "        fraction_evaluate=fraction_evaluate,\n",
        "        min_fit_clients=min_fit_clients,\n",
        "        min_evaluate_clients=min_evaluate_clients,\n",
        "        min_available_clients=min_available_clients,\n",
        "        on_fit_config_fn=on_fit_config_fn,\n",
        "        on_evaluate_config_fn=on_evaluate_config_fn,\n",
        "        evaluate_fn=evaluate_fn,\n",
        "        initial_parameters=initial_parameters,\n",
        "        accept_failures=accept_failures,\n",
        "        fit_metrics_aggregation_fn=fit_metrics_aggregation_fn,\n",
        "        evaluate_metrics_aggregation_fn=evaluate_metrics_aggregation_fn,\n",
        "        # batch_size = int(config[\"batch_size\"])\n",
        "        # num_workers = int(config[\"num_workers\"])\n",
        "        # dataset = self._load_dataset(name)\n",
        "    )\n",
        "    # resetting the seed for the random selection of clients\n",
        "    # this way the list of clients trained is guaranteed to be always the same\n",
        "\n",
        "    cfg = ServerConfig(num_rounds)\n",
        "\n",
        "    def simulator_client_generator(cid: str) -> Client:\n",
        "        return federated_client_generator(cid).to_client()\n",
        "\n",
        "    parameters_for_each_round, hist = start_seeded_simulation(\n",
        "        client_fn=simulator_client_generator,\n",
        "        num_clients=num_total_clients,\n",
        "        config=cfg,\n",
        "        strategy=strategy,\n",
        "        name=\"c2m3\",\n",
        "        return_all_parameters=True,\n",
        "        seed=Seeds.DEFAULT,\n",
        "    )\n",
        "    return parameters_for_each_round, hist\n",
        "\n",
        "\n",
        "\n",
        "\n",
        "def run_simulation_fedavg(\n",
        "    # How long the FL process runs for:\n",
        "    num_rounds: int = num_rounds,\n",
        "    # Number of clients available\n",
        "    num_total_clients: int = num_total_clients,\n",
        "    # Number of clients used for train/eval\n",
        "    num_clients_per_round: int = num_clients_per_round,\n",
        "    num_evaluate_clients: int = num_evaluate_clients,\n",
        "    # If less clients are overall available stop FL\n",
        "    min_available_clients: int = num_total_clients,\n",
        "    # If less clients are available for fit/eval stop FL\n",
        "    min_fit_clients: int = num_clients_per_round,\n",
        "    min_evaluate_clients: int = num_evaluate_clients,\n",
        "    # Function to test the federated model performance\n",
        "    # external to a client instantiation\n",
        "    evaluate_fn: (\n",
        "        Callable[\n",
        "            [int, NDArrays, dict[str, Scalar]],\n",
        "            tuple[float, dict[str, Scalar]] | None,\n",
        "        ]\n",
        "        | None\n",
        "    ) = federated_evaluation_function,\n",
        "    # Functions to generate a config for client fit/evaluate\n",
        "    # by-default the same config is shallow-copied to all clients in Flower\n",
        "    # this version simply uses the configs defined above\n",
        "    on_fit_config_fn: Callable[\n",
        "        [int], dict[str, Scalar]\n",
        "    ] = lambda _x: federated_train_config,\n",
        "    on_evaluate_config_fn: Callable[[int], dict[str, Scalar]] = lambda _x: test_config,\n",
        "    # The \"Parameters\" type is merely a more packed version\n",
        "    # of numpy array lists, used internally by Flower\n",
        "    initial_parameters: Parameters = initial_parameters,\n",
        "    # If this is set to True, aggregation will work even if some clients fail\n",
        "    accept_failures: bool = False,\n",
        "    # How to combine the metrics dictionary returned by all clients for fit/eval\n",
        "    fit_metrics_aggregation_fn: Callable | None = aggregate_weighted_average,\n",
        "    evaluate_metrics_aggregation_fn: Callable | None = aggregate_weighted_average,\n",
        "    federated_client_generator: Callable[\n",
        "        [str], flwr.client.NumPyClient\n",
        "    ] = federated_client_generator,\n",
        "    # Aggregation learning rate for FedAvg\n",
        "    server_learning_rate: float = 1.0,\n",
        "    server_momentum: float = 0.0,\n",
        ") -> tuple[list[tuple[int, NDArrays]], History]:\n",
        "    \"\"\"Run a federated simulation using Flower.\"\"\"\n",
        "    log(INFO, \"FL will execute for %s rounds\", num_rounds)\n",
        "\n",
        "    # Percentage of clients used for train/eval\n",
        "    fraction_fit: float = float(num_clients_per_round) / num_total_clients\n",
        "    fraction_evaluate: float = float(num_evaluate_clients) / num_total_clients\n",
        "\n",
        "    strategy = FedAvg(\n",
        "        fraction_fit=fraction_fit,\n",
        "        fraction_evaluate=fraction_evaluate,\n",
        "        min_fit_clients=min_fit_clients,\n",
        "        min_evaluate_clients=min_evaluate_clients,\n",
        "        min_available_clients=min_available_clients,\n",
        "        on_fit_config_fn=on_fit_config_fn,\n",
        "        on_evaluate_config_fn=on_evaluate_config_fn,\n",
        "        evaluate_fn=evaluate_fn,\n",
        "        initial_parameters=initial_parameters,\n",
        "        accept_failures=accept_failures,\n",
        "        fit_metrics_aggregation_fn=fit_metrics_aggregation_fn,\n",
        "        evaluate_metrics_aggregation_fn=evaluate_metrics_aggregation_fn,\n",
        "        server_learning_rate=server_learning_rate,\n",
        "        server_momentum=server_momentum,\n",
        "        # batch_size = int(config[\"batch_size\"])\n",
        "        # num_workers = int(config[\"num_workers\"])\n",
        "        # dataset = self._load_dataset(name)\n",
        "        \n",
        "    )\n",
        "    # resetting the seed for the random selection of clients\n",
        "    # this way the list of clients trained is guaranteed to be always the same\n",
        "\n",
        "    cfg = ServerConfig(num_rounds)\n",
        "\n",
        "    def simulator_client_generator(cid: str) -> Client:\n",
        "        return federated_client_generator(cid).to_client()\n",
        "\n",
        "    parameters_for_each_round, hist = start_seeded_simulation(\n",
        "        client_fn=simulator_client_generator,\n",
        "        num_clients=num_total_clients,\n",
        "        config=cfg,\n",
        "        strategy=strategy,\n",
        "        name=\"c2m3\",\n",
        "        return_all_parameters=True,\n",
        "        seed=Seeds.DEFAULT,\n",
        "    )\n",
        "    return parameters_for_each_round, hist"
      ]
    },
    {
      "cell_type": "markdown",
      "metadata": {},
      "source": [
        "See below: This is a copy of one of the gradient matrices, output of [collect_gradients_frank_wolfe_model_pair](https://github.com/crisostomi/cycle-consistent-model-merging/blob/6ee822f56114181ea7eba4cb7533a0b6e27ea749/src/ccmm/matching/frank_wolfe_sync_matching.py#L72). It (like the other gradient matrices) is too skewed towards the central diagonal (ie the value of assigning the i-th worker to the i-th task is significantly higher than any other task).\n",
        "\n",
        "Hence the output of the `linear_sum_assignment` will specify no permutations whatsoever. This effect carries over into the updating of permutation matrices, where the projected gradients will be updated to identity matrices, and afterwards the updated permutation matrices do not change from how they were initialised (identity matrix)."
      ]
    },
    {
      "cell_type": "code",
      "execution_count": 21,
      "metadata": {},
      "outputs": [
        {
          "data": {
            "text/plain": [
              "(array([0, 1, 2, 3, 4, 5]), array([0, 2, 1, 3, 4, 5]))"
            ]
          },
          "execution_count": 21,
          "metadata": {},
          "output_type": "execute_result"
        }
      ],
      "source": [
        "import numpy as np\n",
        "from scipy.optimize import linear_sum_assignment\n",
        "cost = np.array([[ 5.6573396 ,  0.12816703,  0.7734268 ,  0.54617214, -0.10447261,\n",
        "         0.39014438],\n",
        "         [ 1.1931067 ,  1.5022745 ,  7.1273413 ,  0.79405797,  0.34921485,\n",
        "         1.2170054 ],\n",
        "       [ 0.29189748,  5.714079  ,  1.1553278 ,  0.15853024,  0.47528026,\n",
        "         0.7882026 ],\n",
        "       [ 0.7397236 ,  0.10359962,  0.6959048 ,  5.283332  ,  0.27297193,\n",
        "         0.99973345],\n",
        "       [ 0.5185135 ,  1.0186552 ,  1.0369794 ,  0.6470743 ,  5.6826034 ,\n",
        "         1.0205868 ],\n",
        "       [ 0.8446162 ,  0.9361492 ,  1.0751884 ,  1.6859208 ,  0.61274135,\n",
        "         6.6700554 ]])\n",
        "linear_sum_assignment(cost, maximize=True)"
      ]
    },
    {
      "cell_type": "code",
      "execution_count": 22,
      "metadata": {
        "colab": {
          "base_uri": "https://localhost:8080/"
        },
        "id": "i4HpswKXbDup",
        "outputId": "d6f104af-93b4-47fe-cea8-06fe21dd5ab4"
      },
      "outputs": [
        {
          "name": "stderr",
          "output_type": "stream",
          "text": [
            "INFO flwr 2025-03-15 22:04:01,847 | 4257692453.py:56 | FL will execute for 10 rounds\n"
          ]
        },
        {
          "data": {
            "text/html": [
              "<pre style=\"white-space:pre;overflow-x:auto;line-height:normal;font-family:Menlo,'DejaVu Sans Mono',consolas,'Courier New',monospace\"><span style=\"color: #7fbfbf; text-decoration-color: #7fbfbf\">                    </span><span style=\"color: #000080; text-decoration-color: #000080\">INFO    </span> FL will execute for <span style=\"color: #008080; text-decoration-color: #008080; font-weight: bold\">10</span> rounds                                                  <a href=\"file:///tmp/ipykernel_1030410/4257692453.py\" target=\"_blank\"><span style=\"color: #7f7f7f; text-decoration-color: #7f7f7f\">flwr</span></a><span style=\"color: #7f7f7f; text-decoration-color: #7f7f7f\">:</span><a href=\"file:///tmp/ipykernel_1030410/4257692453.py#56\" target=\"_blank\"><span style=\"color: #7f7f7f; text-decoration-color: #7f7f7f\">56</span></a>\n",
              "</pre>\n"
            ],
            "text/plain": [
              "\u001b[2;36m                   \u001b[0m\u001b[2;36m \u001b[0m\u001b[34mINFO    \u001b[0m FL will execute for \u001b[1;36m10\u001b[0m rounds                                                  \u001b]8;id=363779;file:///tmp/ipykernel_1030410/4257692453.py\u001b\\\u001b[2mflwr\u001b[0m\u001b]8;;\u001b\\\u001b[2m:\u001b[0m\u001b]8;id=701396;file:///tmp/ipykernel_1030410/4257692453.py#56\u001b\\\u001b[2m56\u001b[0m\u001b]8;;\u001b\\\n"
            ]
          },
          "metadata": {},
          "output_type": "display_data"
        },
        {
          "name": "stderr",
          "output_type": "stream",
          "text": [
            "INFO flwr 2025-03-15 22:04:01,858 | app.py:149 | Starting Flower simulation, config: ServerConfig(num_rounds=10, round_timeout=None)\n"
          ]
        },
        {
          "data": {
            "text/html": [
              "<pre style=\"white-space:pre;overflow-x:auto;line-height:normal;font-family:Menlo,'DejaVu Sans Mono',consolas,'Courier New',monospace\"><span style=\"color: #7fbfbf; text-decoration-color: #7fbfbf\">                    </span><span style=\"color: #000080; text-decoration-color: #000080\">INFO    </span> Starting Flower simulation, config: <span style=\"color: #800080; text-decoration-color: #800080; font-weight: bold\">ServerConfig</span><span style=\"font-weight: bold\">(</span><span style=\"color: #808000; text-decoration-color: #808000\">num_rounds</span>=<span style=\"color: #008080; text-decoration-color: #008080; font-weight: bold\">10</span>,               <a href=\"file:///home/dawn/venvs/fed/lib/python3.10/site-packages/flwr/simulation/app.py\" target=\"_blank\"><span style=\"color: #7f7f7f; text-decoration-color: #7f7f7f\">flwr</span></a><span style=\"color: #7f7f7f; text-decoration-color: #7f7f7f\">:</span><a href=\"file:///home/dawn/venvs/fed/lib/python3.10/site-packages/flwr/simulation/app.py#149\" target=\"_blank\"><span style=\"color: #7f7f7f; text-decoration-color: #7f7f7f\">149</span></a>\n",
              "<span style=\"color: #7fbfbf; text-decoration-color: #7fbfbf\">                    </span>         <span style=\"color: #808000; text-decoration-color: #808000\">round_timeout</span>=<span style=\"color: #800080; text-decoration-color: #800080; font-style: italic\">None</span><span style=\"font-weight: bold\">)</span>                                                           <span style=\"color: #7f7f7f; text-decoration-color: #7f7f7f\">        </span>\n",
              "</pre>\n"
            ],
            "text/plain": [
              "\u001b[2;36m                   \u001b[0m\u001b[2;36m \u001b[0m\u001b[34mINFO    \u001b[0m Starting Flower simulation, config: \u001b[1;35mServerConfig\u001b[0m\u001b[1m(\u001b[0m\u001b[33mnum_rounds\u001b[0m=\u001b[1;36m10\u001b[0m,               \u001b]8;id=614242;file:///home/dawn/venvs/fed/lib/python3.10/site-packages/flwr/simulation/app.py\u001b\\\u001b[2mflwr\u001b[0m\u001b]8;;\u001b\\\u001b[2m:\u001b[0m\u001b]8;id=767447;file:///home/dawn/venvs/fed/lib/python3.10/site-packages/flwr/simulation/app.py#149\u001b\\\u001b[2m149\u001b[0m\u001b]8;;\u001b\\\n",
              "\u001b[2;36m                    \u001b[0m         \u001b[33mround_timeout\u001b[0m=\u001b[3;35mNone\u001b[0m\u001b[1m)\u001b[0m                                                           \u001b[2m        \u001b[0m\n"
            ]
          },
          "metadata": {},
          "output_type": "display_data"
        },
        {
          "name": "stderr",
          "output_type": "stream",
          "text": [
            "INFO flwr 2025-03-15 22:04:01,862 | server_returns_parameters.py:81 | Initializing global parameters\n"
          ]
        },
        {
          "data": {
            "text/html": [
              "<pre style=\"white-space:pre;overflow-x:auto;line-height:normal;font-family:Menlo,'DejaVu Sans Mono',consolas,'Courier New',monospace\"><span style=\"color: #7fbfbf; text-decoration-color: #7fbfbf\">                    </span><span style=\"color: #000080; text-decoration-color: #000080\">INFO    </span> Initializing global parameters                                                 <a href=\"file:///home/dawn/venvs/fed/lib/python3.10/site-packages/flwr/server/server_returns_parameters.py\" target=\"_blank\"><span style=\"color: #7f7f7f; text-decoration-color: #7f7f7f\">flwr</span></a><span style=\"color: #7f7f7f; text-decoration-color: #7f7f7f\">:</span><a href=\"file:///home/dawn/venvs/fed/lib/python3.10/site-packages/flwr/server/server_returns_parameters.py#81\" target=\"_blank\"><span style=\"color: #7f7f7f; text-decoration-color: #7f7f7f\">81</span></a>\n",
              "</pre>\n"
            ],
            "text/plain": [
              "\u001b[2;36m                   \u001b[0m\u001b[2;36m \u001b[0m\u001b[34mINFO    \u001b[0m Initializing global parameters                                                 \u001b]8;id=827969;file:///home/dawn/venvs/fed/lib/python3.10/site-packages/flwr/server/server_returns_parameters.py\u001b\\\u001b[2mflwr\u001b[0m\u001b]8;;\u001b\\\u001b[2m:\u001b[0m\u001b]8;id=377325;file:///home/dawn/venvs/fed/lib/python3.10/site-packages/flwr/server/server_returns_parameters.py#81\u001b\\\u001b[2m81\u001b[0m\u001b]8;;\u001b\\\n"
            ]
          },
          "metadata": {},
          "output_type": "display_data"
        },
        {
          "name": "stderr",
          "output_type": "stream",
          "text": [
            "INFO flwr 2025-03-15 22:04:01,865 | server_returns_parameters.py:273 | Using initial parameters provided by strategy\n"
          ]
        },
        {
          "data": {
            "text/html": [
              "<pre style=\"white-space:pre;overflow-x:auto;line-height:normal;font-family:Menlo,'DejaVu Sans Mono',consolas,'Courier New',monospace\"><span style=\"color: #7fbfbf; text-decoration-color: #7fbfbf\">                    </span><span style=\"color: #000080; text-decoration-color: #000080\">INFO    </span> Using initial parameters provided by strategy                                 <a href=\"file:///home/dawn/venvs/fed/lib/python3.10/site-packages/flwr/server/server_returns_parameters.py\" target=\"_blank\"><span style=\"color: #7f7f7f; text-decoration-color: #7f7f7f\">flwr</span></a><span style=\"color: #7f7f7f; text-decoration-color: #7f7f7f\">:</span><a href=\"file:///home/dawn/venvs/fed/lib/python3.10/site-packages/flwr/server/server_returns_parameters.py#273\" target=\"_blank\"><span style=\"color: #7f7f7f; text-decoration-color: #7f7f7f\">273</span></a>\n",
              "</pre>\n"
            ],
            "text/plain": [
              "\u001b[2;36m                   \u001b[0m\u001b[2;36m \u001b[0m\u001b[34mINFO    \u001b[0m Using initial parameters provided by strategy                                 \u001b]8;id=798528;file:///home/dawn/venvs/fed/lib/python3.10/site-packages/flwr/server/server_returns_parameters.py\u001b\\\u001b[2mflwr\u001b[0m\u001b]8;;\u001b\\\u001b[2m:\u001b[0m\u001b]8;id=688156;file:///home/dawn/venvs/fed/lib/python3.10/site-packages/flwr/server/server_returns_parameters.py#273\u001b\\\u001b[2m273\u001b[0m\u001b]8;;\u001b\\\n"
            ]
          },
          "metadata": {},
          "output_type": "display_data"
        },
        {
          "name": "stderr",
          "output_type": "stream",
          "text": [
            "INFO flwr 2025-03-15 22:04:01,870 | server_returns_parameters.py:84 | Evaluating initial parameters\n"
          ]
        },
        {
          "data": {
            "text/html": [
              "<pre style=\"white-space:pre;overflow-x:auto;line-height:normal;font-family:Menlo,'DejaVu Sans Mono',consolas,'Courier New',monospace\"><span style=\"color: #7fbfbf; text-decoration-color: #7fbfbf\">                    </span><span style=\"color: #000080; text-decoration-color: #000080\">INFO    </span> Evaluating initial parameters                                                  <a href=\"file:///home/dawn/venvs/fed/lib/python3.10/site-packages/flwr/server/server_returns_parameters.py\" target=\"_blank\"><span style=\"color: #7f7f7f; text-decoration-color: #7f7f7f\">flwr</span></a><span style=\"color: #7f7f7f; text-decoration-color: #7f7f7f\">:</span><a href=\"file:///home/dawn/venvs/fed/lib/python3.10/site-packages/flwr/server/server_returns_parameters.py#84\" target=\"_blank\"><span style=\"color: #7f7f7f; text-decoration-color: #7f7f7f\">84</span></a>\n",
              "</pre>\n"
            ],
            "text/plain": [
              "\u001b[2;36m                   \u001b[0m\u001b[2;36m \u001b[0m\u001b[34mINFO    \u001b[0m Evaluating initial parameters                                                  \u001b]8;id=860291;file:///home/dawn/venvs/fed/lib/python3.10/site-packages/flwr/server/server_returns_parameters.py\u001b\\\u001b[2mflwr\u001b[0m\u001b]8;;\u001b\\\u001b[2m:\u001b[0m\u001b]8;id=666052;file:///home/dawn/venvs/fed/lib/python3.10/site-packages/flwr/server/server_returns_parameters.py#84\u001b\\\u001b[2m84\u001b[0m\u001b]8;;\u001b\\\n"
            ]
          },
          "metadata": {},
          "output_type": "display_data"
        },
        {
          "name": "stderr",
          "output_type": "stream",
          "text": [
            " 11%|█         | 100/891 [00:01<00:09, 81.59it/s]\n",
            "INFO flwr 2025-03-15 22:04:03,337 | server_returns_parameters.py:87 | initial parameters (loss, other metrics): 413.68426275253296, {'accuracy': 0.0065625}\n"
          ]
        },
        {
          "data": {
            "text/html": [
              "<pre style=\"white-space:pre;overflow-x:auto;line-height:normal;font-family:Menlo,'DejaVu Sans Mono',consolas,'Courier New',monospace\"><span style=\"color: #7fbfbf; text-decoration-color: #7fbfbf\">2025-03-15 22:04:03 </span><span style=\"color: #000080; text-decoration-color: #000080\">INFO    </span> initial parameters <span style=\"font-weight: bold\">(</span>loss, other metrics<span style=\"font-weight: bold\">)</span>: <span style=\"color: #008080; text-decoration-color: #008080; font-weight: bold\">413.68426275253296</span>, <span style=\"font-weight: bold\">{</span><span style=\"color: #008000; text-decoration-color: #008000\">'accuracy'</span>:     <a href=\"file:///home/dawn/venvs/fed/lib/python3.10/site-packages/flwr/server/server_returns_parameters.py\" target=\"_blank\"><span style=\"color: #7f7f7f; text-decoration-color: #7f7f7f\">flwr</span></a><span style=\"color: #7f7f7f; text-decoration-color: #7f7f7f\">:</span><a href=\"file:///home/dawn/venvs/fed/lib/python3.10/site-packages/flwr/server/server_returns_parameters.py#87\" target=\"_blank\"><span style=\"color: #7f7f7f; text-decoration-color: #7f7f7f\">87</span></a>\n",
              "<span style=\"color: #7fbfbf; text-decoration-color: #7fbfbf\">                    </span>         <span style=\"color: #008080; text-decoration-color: #008080; font-weight: bold\">0.0065625</span><span style=\"font-weight: bold\">}</span>                                                                     <span style=\"color: #7f7f7f; text-decoration-color: #7f7f7f\">       </span>\n",
              "</pre>\n"
            ],
            "text/plain": [
              "\u001b[2;36m2025-03-15 22:04:03\u001b[0m\u001b[2;36m \u001b[0m\u001b[34mINFO    \u001b[0m initial parameters \u001b[1m(\u001b[0mloss, other metrics\u001b[1m)\u001b[0m: \u001b[1;36m413.68426275253296\u001b[0m, \u001b[1m{\u001b[0m\u001b[32m'accuracy'\u001b[0m:     \u001b]8;id=700576;file:///home/dawn/venvs/fed/lib/python3.10/site-packages/flwr/server/server_returns_parameters.py\u001b\\\u001b[2mflwr\u001b[0m\u001b]8;;\u001b\\\u001b[2m:\u001b[0m\u001b]8;id=365011;file:///home/dawn/venvs/fed/lib/python3.10/site-packages/flwr/server/server_returns_parameters.py#87\u001b\\\u001b[2m87\u001b[0m\u001b]8;;\u001b\\\n",
              "\u001b[2;36m                    \u001b[0m         \u001b[1;36m0.0065625\u001b[0m\u001b[1m}\u001b[0m                                                                     \u001b[2m       \u001b[0m\n"
            ]
          },
          "metadata": {},
          "output_type": "display_data"
        },
        {
          "name": "stderr",
          "output_type": "stream",
          "text": [
            "INFO flwr 2025-03-15 22:04:03,340 | server_returns_parameters.py:97 | FL starting\n"
          ]
        },
        {
          "data": {
            "text/html": [
              "<pre style=\"white-space:pre;overflow-x:auto;line-height:normal;font-family:Menlo,'DejaVu Sans Mono',consolas,'Courier New',monospace\"><span style=\"color: #7fbfbf; text-decoration-color: #7fbfbf\">                    </span><span style=\"color: #000080; text-decoration-color: #000080\">INFO    </span> FL starting                                                                    <a href=\"file:///home/dawn/venvs/fed/lib/python3.10/site-packages/flwr/server/server_returns_parameters.py\" target=\"_blank\"><span style=\"color: #7f7f7f; text-decoration-color: #7f7f7f\">flwr</span></a><span style=\"color: #7f7f7f; text-decoration-color: #7f7f7f\">:</span><a href=\"file:///home/dawn/venvs/fed/lib/python3.10/site-packages/flwr/server/server_returns_parameters.py#97\" target=\"_blank\"><span style=\"color: #7f7f7f; text-decoration-color: #7f7f7f\">97</span></a>\n",
              "</pre>\n"
            ],
            "text/plain": [
              "\u001b[2;36m                   \u001b[0m\u001b[2;36m \u001b[0m\u001b[34mINFO    \u001b[0m FL starting                                                                    \u001b]8;id=838929;file:///home/dawn/venvs/fed/lib/python3.10/site-packages/flwr/server/server_returns_parameters.py\u001b\\\u001b[2mflwr\u001b[0m\u001b]8;;\u001b\\\u001b[2m:\u001b[0m\u001b]8;id=325949;file:///home/dawn/venvs/fed/lib/python3.10/site-packages/flwr/server/server_returns_parameters.py#97\u001b\\\u001b[2m97\u001b[0m\u001b]8;;\u001b\\\n"
            ]
          },
          "metadata": {},
          "output_type": "display_data"
        },
        {
          "name": "stderr",
          "output_type": "stream",
          "text": [
            "DEBUG flwr 2025-03-15 22:04:03,343 | server_returns_parameters.py:223 | fit_round 1: strategy sampled 5 clients (out of 20)\n"
          ]
        },
        {
          "data": {
            "text/html": [
              "<pre style=\"white-space:pre;overflow-x:auto;line-height:normal;font-family:Menlo,'DejaVu Sans Mono',consolas,'Courier New',monospace\"><span style=\"color: #7fbfbf; text-decoration-color: #7fbfbf\">                    </span><span style=\"color: #008000; text-decoration-color: #008000\">DEBUG   </span> fit_round <span style=\"color: #008080; text-decoration-color: #008080; font-weight: bold\">1</span>: strategy sampled <span style=\"color: #008080; text-decoration-color: #008080; font-weight: bold\">5</span> clients <span style=\"font-weight: bold\">(</span>out of <span style=\"color: #008080; text-decoration-color: #008080; font-weight: bold\">20</span><span style=\"font-weight: bold\">)</span>                           <a href=\"file:///home/dawn/venvs/fed/lib/python3.10/site-packages/flwr/server/server_returns_parameters.py\" target=\"_blank\"><span style=\"color: #7f7f7f; text-decoration-color: #7f7f7f\">flwr</span></a><span style=\"color: #7f7f7f; text-decoration-color: #7f7f7f\">:</span><a href=\"file:///home/dawn/venvs/fed/lib/python3.10/site-packages/flwr/server/server_returns_parameters.py#223\" target=\"_blank\"><span style=\"color: #7f7f7f; text-decoration-color: #7f7f7f\">223</span></a>\n",
              "</pre>\n"
            ],
            "text/plain": [
              "\u001b[2;36m                   \u001b[0m\u001b[2;36m \u001b[0m\u001b[32mDEBUG   \u001b[0m fit_round \u001b[1;36m1\u001b[0m: strategy sampled \u001b[1;36m5\u001b[0m clients \u001b[1m(\u001b[0mout of \u001b[1;36m20\u001b[0m\u001b[1m)\u001b[0m                           \u001b]8;id=724085;file:///home/dawn/venvs/fed/lib/python3.10/site-packages/flwr/server/server_returns_parameters.py\u001b\\\u001b[2mflwr\u001b[0m\u001b]8;;\u001b\\\u001b[2m:\u001b[0m\u001b]8;id=966550;file:///home/dawn/venvs/fed/lib/python3.10/site-packages/flwr/server/server_returns_parameters.py#223\u001b\\\u001b[2m223\u001b[0m\u001b]8;;\u001b\\\n"
            ]
          },
          "metadata": {},
          "output_type": "display_data"
        },
        {
          "name": "stderr",
          "output_type": "stream",
          "text": [
            "INFO flwr 2025-03-15 22:04:03,346 | 1340840146.py:21 | cid: 2530\n",
            "INFO flwr 2025-03-15 22:04:03,346 | 1340840146.py:21 | cid: 220\n"
          ]
        },
        {
          "data": {
            "text/html": [
              "<pre style=\"white-space:pre;overflow-x:auto;line-height:normal;font-family:Menlo,'DejaVu Sans Mono',consolas,'Courier New',monospace\"><span style=\"color: #7fbfbf; text-decoration-color: #7fbfbf\">                    </span><span style=\"color: #000080; text-decoration-color: #000080\">INFO    </span> cid: <span style=\"color: #008080; text-decoration-color: #008080; font-weight: bold\">2530</span>                                                                      <a href=\"file:///tmp/ipykernel_1030410/1340840146.py\" target=\"_blank\"><span style=\"color: #7f7f7f; text-decoration-color: #7f7f7f\">flwr</span></a><span style=\"color: #7f7f7f; text-decoration-color: #7f7f7f\">:</span><a href=\"file:///tmp/ipykernel_1030410/1340840146.py#21\" target=\"_blank\"><span style=\"color: #7f7f7f; text-decoration-color: #7f7f7f\">21</span></a>\n",
              "</pre>\n"
            ],
            "text/plain": [
              "\u001b[2;36m                   \u001b[0m\u001b[2;36m \u001b[0m\u001b[34mINFO    \u001b[0m cid: \u001b[1;36m2530\u001b[0m                                                                      \u001b]8;id=277721;file:///tmp/ipykernel_1030410/1340840146.py\u001b\\\u001b[2mflwr\u001b[0m\u001b]8;;\u001b\\\u001b[2m:\u001b[0m\u001b]8;id=843045;file:///tmp/ipykernel_1030410/1340840146.py#21\u001b\\\u001b[2m21\u001b[0m\u001b]8;;\u001b\\\n"
            ]
          },
          "metadata": {},
          "output_type": "display_data"
        },
        {
          "name": "stderr",
          "output_type": "stream",
          "text": [
            "INFO flwr 2025-03-15 22:04:03,349 | 1340840146.py:21 | cid: 2688\n",
            "INFO flwr 2025-03-15 22:04:03,356 | 1340840146.py:21 | cid: 2343\n"
          ]
        },
        {
          "data": {
            "text/html": [
              "<pre style=\"white-space:pre;overflow-x:auto;line-height:normal;font-family:Menlo,'DejaVu Sans Mono',consolas,'Courier New',monospace\"><span style=\"color: #7fbfbf; text-decoration-color: #7fbfbf\">                    </span><span style=\"color: #000080; text-decoration-color: #000080\">INFO    </span> cid: <span style=\"color: #008080; text-decoration-color: #008080; font-weight: bold\">220</span>                                                                       <a href=\"file:///tmp/ipykernel_1030410/1340840146.py\" target=\"_blank\"><span style=\"color: #7f7f7f; text-decoration-color: #7f7f7f\">flwr</span></a><span style=\"color: #7f7f7f; text-decoration-color: #7f7f7f\">:</span><a href=\"file:///tmp/ipykernel_1030410/1340840146.py#21\" target=\"_blank\"><span style=\"color: #7f7f7f; text-decoration-color: #7f7f7f\">21</span></a>\n",
              "</pre>\n"
            ],
            "text/plain": [
              "\u001b[2;36m                   \u001b[0m\u001b[2;36m \u001b[0m\u001b[34mINFO    \u001b[0m cid: \u001b[1;36m220\u001b[0m                                                                       \u001b]8;id=550967;file:///tmp/ipykernel_1030410/1340840146.py\u001b\\\u001b[2mflwr\u001b[0m\u001b]8;;\u001b\\\u001b[2m:\u001b[0m\u001b]8;id=648725;file:///tmp/ipykernel_1030410/1340840146.py#21\u001b\\\u001b[2m21\u001b[0m\u001b]8;;\u001b\\\n"
            ]
          },
          "metadata": {},
          "output_type": "display_data"
        },
        {
          "name": "stderr",
          "output_type": "stream",
          "text": [
            "INFO flwr 2025-03-15 22:04:03,358 | 1340840146.py:21 | cid: 1887\n"
          ]
        },
        {
          "data": {
            "text/html": [
              "<pre style=\"white-space:pre;overflow-x:auto;line-height:normal;font-family:Menlo,'DejaVu Sans Mono',consolas,'Courier New',monospace\"><span style=\"color: #7fbfbf; text-decoration-color: #7fbfbf\">                    </span><span style=\"color: #000080; text-decoration-color: #000080\">INFO    </span> cid: <span style=\"color: #008080; text-decoration-color: #008080; font-weight: bold\">2688</span>                                                                      <a href=\"file:///tmp/ipykernel_1030410/1340840146.py\" target=\"_blank\"><span style=\"color: #7f7f7f; text-decoration-color: #7f7f7f\">flwr</span></a><span style=\"color: #7f7f7f; text-decoration-color: #7f7f7f\">:</span><a href=\"file:///tmp/ipykernel_1030410/1340840146.py#21\" target=\"_blank\"><span style=\"color: #7f7f7f; text-decoration-color: #7f7f7f\">21</span></a>\n",
              "</pre>\n"
            ],
            "text/plain": [
              "\u001b[2;36m                   \u001b[0m\u001b[2;36m \u001b[0m\u001b[34mINFO    \u001b[0m cid: \u001b[1;36m2688\u001b[0m                                                                      \u001b]8;id=427263;file:///tmp/ipykernel_1030410/1340840146.py\u001b\\\u001b[2mflwr\u001b[0m\u001b]8;;\u001b\\\u001b[2m:\u001b[0m\u001b]8;id=684639;file:///tmp/ipykernel_1030410/1340840146.py#21\u001b\\\u001b[2m21\u001b[0m\u001b]8;;\u001b\\\n"
            ]
          },
          "metadata": {},
          "output_type": "display_data"
        },
        {
          "data": {
            "text/html": [
              "<pre style=\"white-space:pre;overflow-x:auto;line-height:normal;font-family:Menlo,'DejaVu Sans Mono',consolas,'Courier New',monospace\"><span style=\"color: #7fbfbf; text-decoration-color: #7fbfbf\">                    </span><span style=\"color: #000080; text-decoration-color: #000080\">INFO    </span> cid: <span style=\"color: #008080; text-decoration-color: #008080; font-weight: bold\">2343</span>                                                                      <a href=\"file:///tmp/ipykernel_1030410/1340840146.py\" target=\"_blank\"><span style=\"color: #7f7f7f; text-decoration-color: #7f7f7f\">flwr</span></a><span style=\"color: #7f7f7f; text-decoration-color: #7f7f7f\">:</span><a href=\"file:///tmp/ipykernel_1030410/1340840146.py#21\" target=\"_blank\"><span style=\"color: #7f7f7f; text-decoration-color: #7f7f7f\">21</span></a>\n",
              "</pre>\n"
            ],
            "text/plain": [
              "\u001b[2;36m                   \u001b[0m\u001b[2;36m \u001b[0m\u001b[34mINFO    \u001b[0m cid: \u001b[1;36m2343\u001b[0m                                                                      \u001b]8;id=17973;file:///tmp/ipykernel_1030410/1340840146.py\u001b\\\u001b[2mflwr\u001b[0m\u001b]8;;\u001b\\\u001b[2m:\u001b[0m\u001b]8;id=665843;file:///tmp/ipykernel_1030410/1340840146.py#21\u001b\\\u001b[2m21\u001b[0m\u001b]8;;\u001b\\\n"
            ]
          },
          "metadata": {},
          "output_type": "display_data"
        },
        {
          "data": {
            "text/html": [
              "<pre style=\"white-space:pre;overflow-x:auto;line-height:normal;font-family:Menlo,'DejaVu Sans Mono',consolas,'Courier New',monospace\"><span style=\"color: #7fbfbf; text-decoration-color: #7fbfbf\">                    </span><span style=\"color: #000080; text-decoration-color: #000080\">INFO    </span> cid: <span style=\"color: #008080; text-decoration-color: #008080; font-weight: bold\">1887</span>                                                                      <a href=\"file:///tmp/ipykernel_1030410/1340840146.py\" target=\"_blank\"><span style=\"color: #7f7f7f; text-decoration-color: #7f7f7f\">flwr</span></a><span style=\"color: #7f7f7f; text-decoration-color: #7f7f7f\">:</span><a href=\"file:///tmp/ipykernel_1030410/1340840146.py#21\" target=\"_blank\"><span style=\"color: #7f7f7f; text-decoration-color: #7f7f7f\">21</span></a>\n",
              "</pre>\n"
            ],
            "text/plain": [
              "\u001b[2;36m                   \u001b[0m\u001b[2;36m \u001b[0m\u001b[34mINFO    \u001b[0m cid: \u001b[1;36m1887\u001b[0m                                                                      \u001b]8;id=206123;file:///tmp/ipykernel_1030410/1340840146.py\u001b\\\u001b[2mflwr\u001b[0m\u001b]8;;\u001b\\\u001b[2m:\u001b[0m\u001b]8;id=474300;file:///tmp/ipykernel_1030410/1340840146.py#21\u001b\\\u001b[2m21\u001b[0m\u001b]8;;\u001b\\\n"
            ]
          },
          "metadata": {},
          "output_type": "display_data"
        },
        {
          "name": "stderr",
          "output_type": "stream",
          "text": [
            "DEBUG flwr 2025-03-15 22:04:21,670 | server_returns_parameters.py:237 | fit_round 1 received 5 results and 0 failures\n"
          ]
        },
        {
          "data": {
            "text/html": [
              "<pre style=\"white-space:pre;overflow-x:auto;line-height:normal;font-family:Menlo,'DejaVu Sans Mono',consolas,'Courier New',monospace\"><span style=\"color: #7fbfbf; text-decoration-color: #7fbfbf\">2025-03-15 22:04:21 </span><span style=\"color: #008000; text-decoration-color: #008000\">DEBUG   </span> fit_round <span style=\"color: #008080; text-decoration-color: #008080; font-weight: bold\">1</span> received <span style=\"color: #008080; text-decoration-color: #008080; font-weight: bold\">5</span> results and <span style=\"color: #008080; text-decoration-color: #008080; font-weight: bold\">0</span> failures                                 <a href=\"file:///home/dawn/venvs/fed/lib/python3.10/site-packages/flwr/server/server_returns_parameters.py\" target=\"_blank\"><span style=\"color: #7f7f7f; text-decoration-color: #7f7f7f\">flwr</span></a><span style=\"color: #7f7f7f; text-decoration-color: #7f7f7f\">:</span><a href=\"file:///home/dawn/venvs/fed/lib/python3.10/site-packages/flwr/server/server_returns_parameters.py#237\" target=\"_blank\"><span style=\"color: #7f7f7f; text-decoration-color: #7f7f7f\">237</span></a>\n",
              "</pre>\n"
            ],
            "text/plain": [
              "\u001b[2;36m2025-03-15 22:04:21\u001b[0m\u001b[2;36m \u001b[0m\u001b[32mDEBUG   \u001b[0m fit_round \u001b[1;36m1\u001b[0m received \u001b[1;36m5\u001b[0m results and \u001b[1;36m0\u001b[0m failures                                 \u001b]8;id=13071;file:///home/dawn/venvs/fed/lib/python3.10/site-packages/flwr/server/server_returns_parameters.py\u001b\\\u001b[2mflwr\u001b[0m\u001b]8;;\u001b\\\u001b[2m:\u001b[0m\u001b]8;id=834045;file:///home/dawn/venvs/fed/lib/python3.10/site-packages/flwr/server/server_returns_parameters.py#237\u001b\\\u001b[2m237\u001b[0m\u001b]8;;\u001b\\\n"
            ]
          },
          "metadata": {},
          "output_type": "display_data"
        },
        {
          "name": "stderr",
          "output_type": "stream",
          "text": [
            "INFO flwr 2025-03-15 22:04:21,674 | 1340840146.py:21 | cid: 2688\n"
          ]
        },
        {
          "data": {
            "text/html": [
              "<pre style=\"white-space:pre;overflow-x:auto;line-height:normal;font-family:Menlo,'DejaVu Sans Mono',consolas,'Courier New',monospace\"><span style=\"color: #7fbfbf; text-decoration-color: #7fbfbf\">                    </span><span style=\"color: #000080; text-decoration-color: #000080\">INFO    </span> cid: <span style=\"color: #008080; text-decoration-color: #008080; font-weight: bold\">2688</span>                                                                      <a href=\"file:///tmp/ipykernel_1030410/1340840146.py\" target=\"_blank\"><span style=\"color: #7f7f7f; text-decoration-color: #7f7f7f\">flwr</span></a><span style=\"color: #7f7f7f; text-decoration-color: #7f7f7f\">:</span><a href=\"file:///tmp/ipykernel_1030410/1340840146.py#21\" target=\"_blank\"><span style=\"color: #7f7f7f; text-decoration-color: #7f7f7f\">21</span></a>\n",
              "</pre>\n"
            ],
            "text/plain": [
              "\u001b[2;36m                   \u001b[0m\u001b[2;36m \u001b[0m\u001b[34mINFO    \u001b[0m cid: \u001b[1;36m2688\u001b[0m                                                                      \u001b]8;id=599899;file:///tmp/ipykernel_1030410/1340840146.py\u001b\\\u001b[2mflwr\u001b[0m\u001b]8;;\u001b\\\u001b[2m:\u001b[0m\u001b]8;id=828823;file:///tmp/ipykernel_1030410/1340840146.py#21\u001b\\\u001b[2m21\u001b[0m\u001b]8;;\u001b\\\n"
            ]
          },
          "metadata": {},
          "output_type": "display_data"
        },
        {
          "name": "stderr",
          "output_type": "stream",
          "text": [
            "INFO flwr 2025-03-15 22:04:21,680 | 1340840146.py:21 | cid: 1887\n"
          ]
        },
        {
          "name": "stdout",
          "output_type": "stream",
          "text": [
            "props={'tensor_type': 'numpy.ndarray', 'partition': PosixPath('/home/dawn/repos/c2m3-federated/c2m3/notebooks/../femnist/client_data_mappings/fed_natural'), 'cid': 2688}\n"
          ]
        },
        {
          "data": {
            "text/html": [
              "<pre style=\"white-space:pre;overflow-x:auto;line-height:normal;font-family:Menlo,'DejaVu Sans Mono',consolas,'Courier New',monospace\"><span style=\"color: #7fbfbf; text-decoration-color: #7fbfbf\">                    </span><span style=\"color: #000080; text-decoration-color: #000080\">INFO    </span> cid: <span style=\"color: #008080; text-decoration-color: #008080; font-weight: bold\">1887</span>                                                                      <a href=\"file:///tmp/ipykernel_1030410/1340840146.py\" target=\"_blank\"><span style=\"color: #7f7f7f; text-decoration-color: #7f7f7f\">flwr</span></a><span style=\"color: #7f7f7f; text-decoration-color: #7f7f7f\">:</span><a href=\"file:///tmp/ipykernel_1030410/1340840146.py#21\" target=\"_blank\"><span style=\"color: #7f7f7f; text-decoration-color: #7f7f7f\">21</span></a>\n",
              "</pre>\n"
            ],
            "text/plain": [
              "\u001b[2;36m                   \u001b[0m\u001b[2;36m \u001b[0m\u001b[34mINFO    \u001b[0m cid: \u001b[1;36m1887\u001b[0m                                                                      \u001b]8;id=582389;file:///tmp/ipykernel_1030410/1340840146.py\u001b\\\u001b[2mflwr\u001b[0m\u001b]8;;\u001b\\\u001b[2m:\u001b[0m\u001b]8;id=761833;file:///tmp/ipykernel_1030410/1340840146.py#21\u001b\\\u001b[2m21\u001b[0m\u001b]8;;\u001b\\\n"
            ]
          },
          "metadata": {},
          "output_type": "display_data"
        },
        {
          "name": "stderr",
          "output_type": "stream",
          "text": [
            "INFO flwr 2025-03-15 22:04:21,688 | 1340840146.py:21 | cid: 220\n"
          ]
        },
        {
          "name": "stdout",
          "output_type": "stream",
          "text": [
            "props={'tensor_type': 'numpy.ndarray', 'partition': PosixPath('/home/dawn/repos/c2m3-federated/c2m3/notebooks/../femnist/client_data_mappings/fed_natural'), 'cid': 1887}\n"
          ]
        },
        {
          "data": {
            "text/html": [
              "<pre style=\"white-space:pre;overflow-x:auto;line-height:normal;font-family:Menlo,'DejaVu Sans Mono',consolas,'Courier New',monospace\"><span style=\"color: #7fbfbf; text-decoration-color: #7fbfbf\">                    </span><span style=\"color: #000080; text-decoration-color: #000080\">INFO    </span> cid: <span style=\"color: #008080; text-decoration-color: #008080; font-weight: bold\">220</span>                                                                       <a href=\"file:///tmp/ipykernel_1030410/1340840146.py\" target=\"_blank\"><span style=\"color: #7f7f7f; text-decoration-color: #7f7f7f\">flwr</span></a><span style=\"color: #7f7f7f; text-decoration-color: #7f7f7f\">:</span><a href=\"file:///tmp/ipykernel_1030410/1340840146.py#21\" target=\"_blank\"><span style=\"color: #7f7f7f; text-decoration-color: #7f7f7f\">21</span></a>\n",
              "</pre>\n"
            ],
            "text/plain": [
              "\u001b[2;36m                   \u001b[0m\u001b[2;36m \u001b[0m\u001b[34mINFO    \u001b[0m cid: \u001b[1;36m220\u001b[0m                                                                       \u001b]8;id=224028;file:///tmp/ipykernel_1030410/1340840146.py\u001b\\\u001b[2mflwr\u001b[0m\u001b]8;;\u001b\\\u001b[2m:\u001b[0m\u001b]8;id=641102;file:///tmp/ipykernel_1030410/1340840146.py#21\u001b\\\u001b[2m21\u001b[0m\u001b]8;;\u001b\\\n"
            ]
          },
          "metadata": {},
          "output_type": "display_data"
        },
        {
          "name": "stderr",
          "output_type": "stream",
          "text": [
            "INFO flwr 2025-03-15 22:04:21,695 | 1340840146.py:21 | cid: 2343\n"
          ]
        },
        {
          "name": "stdout",
          "output_type": "stream",
          "text": [
            "props={'tensor_type': 'numpy.ndarray', 'partition': PosixPath('/home/dawn/repos/c2m3-federated/c2m3/notebooks/../femnist/client_data_mappings/fed_natural'), 'cid': 220}\n"
          ]
        },
        {
          "data": {
            "text/html": [
              "<pre style=\"white-space:pre;overflow-x:auto;line-height:normal;font-family:Menlo,'DejaVu Sans Mono',consolas,'Courier New',monospace\"><span style=\"color: #7fbfbf; text-decoration-color: #7fbfbf\">                    </span><span style=\"color: #000080; text-decoration-color: #000080\">INFO    </span> cid: <span style=\"color: #008080; text-decoration-color: #008080; font-weight: bold\">2343</span>                                                                      <a href=\"file:///tmp/ipykernel_1030410/1340840146.py\" target=\"_blank\"><span style=\"color: #7f7f7f; text-decoration-color: #7f7f7f\">flwr</span></a><span style=\"color: #7f7f7f; text-decoration-color: #7f7f7f\">:</span><a href=\"file:///tmp/ipykernel_1030410/1340840146.py#21\" target=\"_blank\"><span style=\"color: #7f7f7f; text-decoration-color: #7f7f7f\">21</span></a>\n",
              "</pre>\n"
            ],
            "text/plain": [
              "\u001b[2;36m                   \u001b[0m\u001b[2;36m \u001b[0m\u001b[34mINFO    \u001b[0m cid: \u001b[1;36m2343\u001b[0m                                                                      \u001b]8;id=193973;file:///tmp/ipykernel_1030410/1340840146.py\u001b\\\u001b[2mflwr\u001b[0m\u001b]8;;\u001b\\\u001b[2m:\u001b[0m\u001b]8;id=812983;file:///tmp/ipykernel_1030410/1340840146.py#21\u001b\\\u001b[2m21\u001b[0m\u001b]8;;\u001b\\\n"
            ]
          },
          "metadata": {},
          "output_type": "display_data"
        },
        {
          "name": "stderr",
          "output_type": "stream",
          "text": [
            "INFO flwr 2025-03-15 22:04:21,703 | 1340840146.py:21 | cid: 2530\n"
          ]
        },
        {
          "name": "stdout",
          "output_type": "stream",
          "text": [
            "props={'tensor_type': 'numpy.ndarray', 'partition': PosixPath('/home/dawn/repos/c2m3-federated/c2m3/notebooks/../femnist/client_data_mappings/fed_natural'), 'cid': 2343}\n"
          ]
        },
        {
          "data": {
            "text/html": [
              "<pre style=\"white-space:pre;overflow-x:auto;line-height:normal;font-family:Menlo,'DejaVu Sans Mono',consolas,'Courier New',monospace\"><span style=\"color: #7fbfbf; text-decoration-color: #7fbfbf\">                    </span><span style=\"color: #000080; text-decoration-color: #000080\">INFO    </span> cid: <span style=\"color: #008080; text-decoration-color: #008080; font-weight: bold\">2530</span>                                                                      <a href=\"file:///tmp/ipykernel_1030410/1340840146.py\" target=\"_blank\"><span style=\"color: #7f7f7f; text-decoration-color: #7f7f7f\">flwr</span></a><span style=\"color: #7f7f7f; text-decoration-color: #7f7f7f\">:</span><a href=\"file:///tmp/ipykernel_1030410/1340840146.py#21\" target=\"_blank\"><span style=\"color: #7f7f7f; text-decoration-color: #7f7f7f\">21</span></a>\n",
              "</pre>\n"
            ],
            "text/plain": [
              "\u001b[2;36m                   \u001b[0m\u001b[2;36m \u001b[0m\u001b[34mINFO    \u001b[0m cid: \u001b[1;36m2530\u001b[0m                                                                      \u001b]8;id=737819;file:///tmp/ipykernel_1030410/1340840146.py\u001b\\\u001b[2mflwr\u001b[0m\u001b]8;;\u001b\\\u001b[2m:\u001b[0m\u001b]8;id=772275;file:///tmp/ipykernel_1030410/1340840146.py#21\u001b\\\u001b[2m21\u001b[0m\u001b]8;;\u001b\\\n"
            ]
          },
          "metadata": {},
          "output_type": "display_data"
        },
        {
          "name": "stderr",
          "output_type": "stream",
          "text": [
            "/home/dawn/venvs/fed/lib/python3.10/site-packages/pytorch_lightning/utilities/parsing.py:268: UserWarning: Attribute 'model' is an instance of `nn.Module` and is already saved during checkpointing. It is recommended to ignore them using `self.save_hyperparameters(ignore=['model'])`.\n",
            "  rank_zero_warn(\n"
          ]
        },
        {
          "name": "stdout",
          "output_type": "stream",
          "text": [
            "props={'tensor_type': 'numpy.ndarray', 'partition': PosixPath('/home/dawn/repos/c2m3-federated/c2m3/notebooks/../femnist/client_data_mappings/fed_natural'), 'cid': 2530}\n",
            "dict_keys(['a', 'b', 'c', 'd', 'e'])\n",
            "<class 'c2m3.modules.pl_module.MyLightningModule'>\n"
          ]
        },
        {
          "name": "stderr",
          "output_type": "stream",
          "text": [
            "Weight matching:  17%|█▋        | 34/200 [00:14<01:10,  2.35it/s]\n"
          ]
        },
        {
          "name": "stdout",
          "output_type": "stream",
          "text": [
            "perms_to_apply={'P_conv1': tensor([0, 1, 2, 3, 4, 5]), 'P_fc1': tensor([  0,   1,   2,   3,   4,  69,   6,   7,   8,   9,  10,  81,  12,  13,\n",
            "         14,  15,  16,  17,  18,  19,  20,  21,  22,  23,  24,  25,  26,  27,\n",
            "         28,  29,  30,  31,  32,  33,  34,  35,  36,  37,  38,  68,  40,  41,\n",
            "         11,   5,  44,  45,  46,  47,  48,  49,  50,  51,  52,  53,  54,  55,\n",
            "         56,  57,  58,  59,  60,  91,  62,  63,  64,  65,  61,  67, 108,  96,\n",
            "         70,  71,  72,  73,  74,  75,  76,  77,  78,  79,  80,  42,  82,  83,\n",
            "         84,  85,  86,  87,  88,  89,  90,  43,  92,  93,  94,  95,  66,  97,\n",
            "         98,  99, 100, 101, 102, 103, 104, 105, 106, 107,  39, 109, 110, 111,\n",
            "        112, 113, 114, 115, 116, 117, 118, 119]), 'P_fc2': tensor([ 0,  1,  2, 10,  4,  5, 47,  7,  8,  9, 52, 11, 12, 13, 14, 15, 28, 17,\n",
            "        18, 56, 20, 21, 22, 23, 24, 25, 26, 27, 63, 29, 30, 31, 32, 33, 43, 35,\n",
            "        36, 37, 38, 42, 40, 41, 58, 72, 44, 45, 60, 16, 48, 49, 50, 51, 39,  6,\n",
            "        54, 55, 19, 46, 34, 59, 53, 61, 62,  3, 64, 65, 66, 67, 68, 69, 70, 71,\n",
            "        57, 73, 74, 75, 76, 77, 78, 79, 80, 81, 82, 83])}\n",
            "perms_to_apply={'P_conv1': tensor([0, 1, 2, 3, 4, 5]), 'P_fc1': tensor([  0,   1,   2,   3,   4,  54,   6,   7,   8,   9,  10,  11,  12,  13,\n",
            "         14,  15,  16,  17,  18,  19,  20,  21,  22,  23,  24,  25,  26, 119,\n",
            "         28,  29,  30,  31,  32,  33,  34,  35,  36,  37,  38,  69,  40,   5,\n",
            "        113,  43,  44,  45,  46,  47,  48,  49,  50,  51,  52,  53,  27,  55,\n",
            "         56,  57,  58,  91,  60,  61,  81,  63,  64,  65,  83,  67,  62,  41,\n",
            "         70,  71,  72,  73,  74,  75,  76,  77,  78,  79,  80,  96,  82,  68,\n",
            "         84,  85,  86,  87,  88,  89,  90,  66,  92,  93,  94,  95,  39,  97,\n",
            "         98,  99, 100, 101, 102, 103, 104, 105, 106, 107, 108, 109, 110, 111,\n",
            "        112,  42, 114, 115, 116, 117, 118,  59]), 'P_fc2': tensor([ 0,  1,  2,  5,  4, 25, 47, 69,  8,  9,  6, 11, 12, 13, 14, 15, 19, 17,\n",
            "        18, 16, 20, 21, 22, 23,  3, 38, 26, 27, 28, 29, 30, 31, 32,  7, 34, 35,\n",
            "        36, 37, 57, 42, 40, 41, 76, 43, 44, 45, 46, 53, 48, 49, 50, 65, 52, 24,\n",
            "        54, 55, 56, 72, 58, 59, 60, 61, 62, 63, 64, 10, 66, 67, 68, 33, 70, 39,\n",
            "        51, 73, 74, 75, 71, 77, 78, 79, 80, 81, 82, 83])}\n",
            "perms_to_apply={'P_conv1': tensor([0, 1, 2, 3, 4, 5]), 'P_fc1': tensor([ 35,   1,   2,   7,   4,   5,   6, 114,   8,   9,  10,  81,  12,  13,\n",
            "        113,  15,  16,  17,  18,  19,  20,  70,  22,  23,  24,  25,  26,  27,\n",
            "         28,  29,  30,  31,  32,  33,  34,  91,  36,  37,  68,  11,  40,  41,\n",
            "         42,  43,  44,  45,  46,  47,  48,  49,  50,  51,  52,  53,  54,  55,\n",
            "         56,  57,  58,  59,  60,  61,  62,  63,  64,  65,  66,  67,   0,  69,\n",
            "         93,  71,   3,  73,  74,  39,  76,  77,  78,  79,  80,  92,  82,  72,\n",
            "         84,  85,  86,  21,  88,  89,  90,  96,  38,  75,  94,  95,  83,  97,\n",
            "         98,  99, 100, 101, 102, 103, 104, 105, 106, 107, 108, 109, 110, 111,\n",
            "        112,  14,  87, 115, 116, 117, 118, 119]), 'P_fc2': tensor([ 0,  1,  7, 65,  4,  5, 47,  9,  8, 60,  6, 11, 12, 13, 70, 72,  3, 17,\n",
            "        50, 74, 20, 18, 22, 57, 24, 21, 26, 27, 28, 29,  2, 31, 32, 33, 66, 25,\n",
            "        36, 37, 38, 39, 40, 41, 19, 43, 44, 45, 15, 35, 48, 49, 14, 51, 52, 23,\n",
            "        46, 55, 56, 16, 58, 59, 53, 61, 62, 30, 64, 10, 63, 67, 68, 69, 54, 71,\n",
            "        34, 73, 42, 75, 76, 77, 78, 79, 80, 81, 82, 83])}\n",
            "perms_to_apply={'P_conv1': tensor([0, 1, 2, 3, 4, 5]), 'P_fc1': tensor([  0,   1,   2,  11,   4,  12,   6,   7,   8,   9,  10,  81, 104,  13,\n",
            "         14,  15,  16,  17,  18,  19,  20,  75,  22,  23,  24,  25,  26,  27,\n",
            "         28,  29,  30,  31,  32,  33,  34,  35,  36,  37,  68,  39,  40,  41,\n",
            "         42,   5,  44,  45,  46,  47,  48,  49,  50,  51,  52,  53,  54,  55,\n",
            "         56,  57,  58,  59,  60,  91,  62,  63,  64,  65,  66,  67,  61,  69,\n",
            "         70,  71,  72,  73,  74,  38,  76,  77,  78,  79,  80, 113,  82,  83,\n",
            "         84,  85,  86,  21,  88,  89,  90,  43,  92,  93,  94,  95,  96,  97,\n",
            "         98,  99, 100, 101, 102, 103,   3, 105, 106, 107, 108, 109, 110, 111,\n",
            "        112,  87, 114, 115, 116, 117, 118, 119]), 'P_fc2': tensor([ 0,  1,  2,  3,  4,  5, 52,  7,  8,  9,  6, 11, 12, 13, 14, 15, 57, 17,\n",
            "        18, 19, 20, 21, 22, 23, 24, 25, 26, 27, 28, 46, 30, 31, 71, 33, 34, 35,\n",
            "        36, 37, 38, 39, 40, 41, 53, 43, 44, 45, 72, 47, 48, 49, 50, 51, 66, 10,\n",
            "        54, 16, 56, 68, 58, 59, 60, 61, 62, 32, 64, 65, 63, 67, 74, 69, 70, 55,\n",
            "        29, 73, 42, 75, 76, 77, 78, 79, 80, 81, 82, 83])}\n",
            "perms_to_apply={'P_conv1': tensor([0, 1, 2, 3, 4, 5]), 'P_fc1': tensor([  0,   1,   2,   3,   4,  88,  75,   7,   8,  70,  10,  23,  12,  40,\n",
            "         14,  15,  16,  17,  18,  19,  20,   6,  22,  39,   5,  25,  26,  27,\n",
            "         28,  29,  30,  31,  32,  33,  34,  35,  36,  37,  38,  65,  45,  67,\n",
            "         42,  43,  44,  11,  46,  61,  48,  49,  50,  51,  83,  53,  54,  55,\n",
            "         56,  57,  58,  59,  60, 109,  62,  63,  64, 113,  66,  41,  52,  69,\n",
            "         89,  71,  72,  73,  74,  82,  76,  77,  78,  79,  80,  81,  24,  96,\n",
            "         84,  85,  86,  21,  13,   9,  90,  91,  92,  93,  94,  95, 115,  97,\n",
            "         98,  99, 100, 101, 102, 103, 104, 105, 106, 107, 108,  87,  68, 111,\n",
            "        112, 110, 114,  47, 116, 117, 118, 119]), 'P_fc2': tensor([ 0, 19,  2, 61,  4,  5, 47,  3,  8,  9, 10, 11, 12, 13, 14, 72, 57, 17,\n",
            "        18,  6, 20, 21, 22, 23, 24, 25, 26, 27, 28, 29, 30, 31, 32,  7, 34, 35,\n",
            "        36, 37, 38, 39, 51, 41, 42, 43, 44, 45, 40, 53, 48, 49, 50, 33, 52, 15,\n",
            "        54, 55, 56, 64, 58, 59, 60,  1, 62, 63, 46, 65, 66, 67, 68, 69, 70, 71,\n",
            "        16, 73, 74, 75, 76, 77, 78, 79, 80, 81, 82, 83])}\n",
            "Function merge_models Took 14.5344 seconds\n",
            "Successfully merged models.\n"
          ]
        },
        {
          "name": "stderr",
          "output_type": "stream",
          "text": [
            " 11%|█         | 100/891 [00:00<00:07, 107.83it/s]\n",
            "INFO flwr 2025-03-15 22:04:37,622 | server_returns_parameters.py:120 | fit progress: (1, 388.59137320518494, {'accuracy': 0.1790625}, 34.27909849199932)\n"
          ]
        },
        {
          "data": {
            "text/html": [
              "<pre style=\"white-space:pre;overflow-x:auto;line-height:normal;font-family:Menlo,'DejaVu Sans Mono',consolas,'Courier New',monospace\"><span style=\"color: #7fbfbf; text-decoration-color: #7fbfbf\">2025-03-15 22:04:37 </span><span style=\"color: #000080; text-decoration-color: #000080\">INFO    </span> fit progress: <span style=\"font-weight: bold\">(</span><span style=\"color: #008080; text-decoration-color: #008080; font-weight: bold\">1</span>, <span style=\"color: #008080; text-decoration-color: #008080; font-weight: bold\">388.59137320518494</span>, <span style=\"font-weight: bold\">{</span><span style=\"color: #008000; text-decoration-color: #008000\">'accuracy'</span>: <span style=\"color: #008080; text-decoration-color: #008080; font-weight: bold\">0.1790625</span><span style=\"font-weight: bold\">}</span>,                <a href=\"file:///home/dawn/venvs/fed/lib/python3.10/site-packages/flwr/server/server_returns_parameters.py\" target=\"_blank\"><span style=\"color: #7f7f7f; text-decoration-color: #7f7f7f\">flwr</span></a><span style=\"color: #7f7f7f; text-decoration-color: #7f7f7f\">:</span><a href=\"file:///home/dawn/venvs/fed/lib/python3.10/site-packages/flwr/server/server_returns_parameters.py#120\" target=\"_blank\"><span style=\"color: #7f7f7f; text-decoration-color: #7f7f7f\">120</span></a>\n",
              "<span style=\"color: #7fbfbf; text-decoration-color: #7fbfbf\">                    </span>         <span style=\"color: #008080; text-decoration-color: #008080; font-weight: bold\">34.27909849199932</span><span style=\"font-weight: bold\">)</span>                                                            <span style=\"color: #7f7f7f; text-decoration-color: #7f7f7f\">        </span>\n",
              "</pre>\n"
            ],
            "text/plain": [
              "\u001b[2;36m2025-03-15 22:04:37\u001b[0m\u001b[2;36m \u001b[0m\u001b[34mINFO    \u001b[0m fit progress: \u001b[1m(\u001b[0m\u001b[1;36m1\u001b[0m, \u001b[1;36m388.59137320518494\u001b[0m, \u001b[1m{\u001b[0m\u001b[32m'accuracy'\u001b[0m: \u001b[1;36m0.1790625\u001b[0m\u001b[1m}\u001b[0m,                \u001b]8;id=547670;file:///home/dawn/venvs/fed/lib/python3.10/site-packages/flwr/server/server_returns_parameters.py\u001b\\\u001b[2mflwr\u001b[0m\u001b]8;;\u001b\\\u001b[2m:\u001b[0m\u001b]8;id=511272;file:///home/dawn/venvs/fed/lib/python3.10/site-packages/flwr/server/server_returns_parameters.py#120\u001b\\\u001b[2m120\u001b[0m\u001b]8;;\u001b\\\n",
              "\u001b[2;36m                    \u001b[0m         \u001b[1;36m34.27909849199932\u001b[0m\u001b[1m)\u001b[0m                                                            \u001b[2m        \u001b[0m\n"
            ]
          },
          "metadata": {},
          "output_type": "display_data"
        },
        {
          "name": "stderr",
          "output_type": "stream",
          "text": [
            "INFO flwr 2025-03-15 22:04:37,625 | server_returns_parameters.py:171 | evaluate_round 1: no clients selected, cancel\n"
          ]
        },
        {
          "data": {
            "text/html": [
              "<pre style=\"white-space:pre;overflow-x:auto;line-height:normal;font-family:Menlo,'DejaVu Sans Mono',consolas,'Courier New',monospace\"><span style=\"color: #7fbfbf; text-decoration-color: #7fbfbf\">                    </span><span style=\"color: #000080; text-decoration-color: #000080\">INFO    </span> evaluate_round <span style=\"color: #008080; text-decoration-color: #008080; font-weight: bold\">1</span>: no clients selected, cancel                                 <a href=\"file:///home/dawn/venvs/fed/lib/python3.10/site-packages/flwr/server/server_returns_parameters.py\" target=\"_blank\"><span style=\"color: #7f7f7f; text-decoration-color: #7f7f7f\">flwr</span></a><span style=\"color: #7f7f7f; text-decoration-color: #7f7f7f\">:</span><a href=\"file:///home/dawn/venvs/fed/lib/python3.10/site-packages/flwr/server/server_returns_parameters.py#171\" target=\"_blank\"><span style=\"color: #7f7f7f; text-decoration-color: #7f7f7f\">171</span></a>\n",
              "</pre>\n"
            ],
            "text/plain": [
              "\u001b[2;36m                   \u001b[0m\u001b[2;36m \u001b[0m\u001b[34mINFO    \u001b[0m evaluate_round \u001b[1;36m1\u001b[0m: no clients selected, cancel                                 \u001b]8;id=369737;file:///home/dawn/venvs/fed/lib/python3.10/site-packages/flwr/server/server_returns_parameters.py\u001b\\\u001b[2mflwr\u001b[0m\u001b]8;;\u001b\\\u001b[2m:\u001b[0m\u001b]8;id=770389;file:///home/dawn/venvs/fed/lib/python3.10/site-packages/flwr/server/server_returns_parameters.py#171\u001b\\\u001b[2m171\u001b[0m\u001b]8;;\u001b\\\n"
            ]
          },
          "metadata": {},
          "output_type": "display_data"
        },
        {
          "name": "stderr",
          "output_type": "stream",
          "text": [
            "DEBUG flwr 2025-03-15 22:04:37,627 | server_returns_parameters.py:223 | fit_round 2: strategy sampled 5 clients (out of 20)\n"
          ]
        },
        {
          "data": {
            "text/html": [
              "<pre style=\"white-space:pre;overflow-x:auto;line-height:normal;font-family:Menlo,'DejaVu Sans Mono',consolas,'Courier New',monospace\"><span style=\"color: #7fbfbf; text-decoration-color: #7fbfbf\">                    </span><span style=\"color: #008000; text-decoration-color: #008000\">DEBUG   </span> fit_round <span style=\"color: #008080; text-decoration-color: #008080; font-weight: bold\">2</span>: strategy sampled <span style=\"color: #008080; text-decoration-color: #008080; font-weight: bold\">5</span> clients <span style=\"font-weight: bold\">(</span>out of <span style=\"color: #008080; text-decoration-color: #008080; font-weight: bold\">20</span><span style=\"font-weight: bold\">)</span>                           <a href=\"file:///home/dawn/venvs/fed/lib/python3.10/site-packages/flwr/server/server_returns_parameters.py\" target=\"_blank\"><span style=\"color: #7f7f7f; text-decoration-color: #7f7f7f\">flwr</span></a><span style=\"color: #7f7f7f; text-decoration-color: #7f7f7f\">:</span><a href=\"file:///home/dawn/venvs/fed/lib/python3.10/site-packages/flwr/server/server_returns_parameters.py#223\" target=\"_blank\"><span style=\"color: #7f7f7f; text-decoration-color: #7f7f7f\">223</span></a>\n",
              "</pre>\n"
            ],
            "text/plain": [
              "\u001b[2;36m                   \u001b[0m\u001b[2;36m \u001b[0m\u001b[32mDEBUG   \u001b[0m fit_round \u001b[1;36m2\u001b[0m: strategy sampled \u001b[1;36m5\u001b[0m clients \u001b[1m(\u001b[0mout of \u001b[1;36m20\u001b[0m\u001b[1m)\u001b[0m                           \u001b]8;id=947525;file:///home/dawn/venvs/fed/lib/python3.10/site-packages/flwr/server/server_returns_parameters.py\u001b\\\u001b[2mflwr\u001b[0m\u001b]8;;\u001b\\\u001b[2m:\u001b[0m\u001b]8;id=178378;file:///home/dawn/venvs/fed/lib/python3.10/site-packages/flwr/server/server_returns_parameters.py#223\u001b\\\u001b[2m223\u001b[0m\u001b]8;;\u001b\\\n"
            ]
          },
          "metadata": {},
          "output_type": "display_data"
        },
        {
          "name": "stderr",
          "output_type": "stream",
          "text": [
            "INFO flwr 2025-03-15 22:04:37,630 | 1340840146.py:21 | cid: 206\n",
            "INFO flwr 2025-03-15 22:04:37,632 | 1340840146.py:21 | cid: 100\n"
          ]
        },
        {
          "data": {
            "text/html": [
              "<pre style=\"white-space:pre;overflow-x:auto;line-height:normal;font-family:Menlo,'DejaVu Sans Mono',consolas,'Courier New',monospace\"><span style=\"color: #7fbfbf; text-decoration-color: #7fbfbf\">                    </span><span style=\"color: #000080; text-decoration-color: #000080\">INFO    </span> cid: <span style=\"color: #008080; text-decoration-color: #008080; font-weight: bold\">206</span>                                                                       <a href=\"file:///tmp/ipykernel_1030410/1340840146.py\" target=\"_blank\"><span style=\"color: #7f7f7f; text-decoration-color: #7f7f7f\">flwr</span></a><span style=\"color: #7f7f7f; text-decoration-color: #7f7f7f\">:</span><a href=\"file:///tmp/ipykernel_1030410/1340840146.py#21\" target=\"_blank\"><span style=\"color: #7f7f7f; text-decoration-color: #7f7f7f\">21</span></a>\n",
              "</pre>\n"
            ],
            "text/plain": [
              "\u001b[2;36m                   \u001b[0m\u001b[2;36m \u001b[0m\u001b[34mINFO    \u001b[0m cid: \u001b[1;36m206\u001b[0m                                                                       \u001b]8;id=460806;file:///tmp/ipykernel_1030410/1340840146.py\u001b\\\u001b[2mflwr\u001b[0m\u001b]8;;\u001b\\\u001b[2m:\u001b[0m\u001b]8;id=998943;file:///tmp/ipykernel_1030410/1340840146.py#21\u001b\\\u001b[2m21\u001b[0m\u001b]8;;\u001b\\\n"
            ]
          },
          "metadata": {},
          "output_type": "display_data"
        },
        {
          "name": "stderr",
          "output_type": "stream",
          "text": [
            "INFO flwr 2025-03-15 22:04:37,634 | 1340840146.py:21 | cid: 2828\n",
            "INFO flwr 2025-03-15 22:04:37,636 | 1340840146.py:21 | cid: 2985\n"
          ]
        },
        {
          "data": {
            "text/html": [
              "<pre style=\"white-space:pre;overflow-x:auto;line-height:normal;font-family:Menlo,'DejaVu Sans Mono',consolas,'Courier New',monospace\"><span style=\"color: #7fbfbf; text-decoration-color: #7fbfbf\">                    </span><span style=\"color: #000080; text-decoration-color: #000080\">INFO    </span> cid: <span style=\"color: #008080; text-decoration-color: #008080; font-weight: bold\">100</span>                                                                       <a href=\"file:///tmp/ipykernel_1030410/1340840146.py\" target=\"_blank\"><span style=\"color: #7f7f7f; text-decoration-color: #7f7f7f\">flwr</span></a><span style=\"color: #7f7f7f; text-decoration-color: #7f7f7f\">:</span><a href=\"file:///tmp/ipykernel_1030410/1340840146.py#21\" target=\"_blank\"><span style=\"color: #7f7f7f; text-decoration-color: #7f7f7f\">21</span></a>\n",
              "</pre>\n"
            ],
            "text/plain": [
              "\u001b[2;36m                   \u001b[0m\u001b[2;36m \u001b[0m\u001b[34mINFO    \u001b[0m cid: \u001b[1;36m100\u001b[0m                                                                       \u001b]8;id=56255;file:///tmp/ipykernel_1030410/1340840146.py\u001b\\\u001b[2mflwr\u001b[0m\u001b]8;;\u001b\\\u001b[2m:\u001b[0m\u001b]8;id=581472;file:///tmp/ipykernel_1030410/1340840146.py#21\u001b\\\u001b[2m21\u001b[0m\u001b]8;;\u001b\\\n"
            ]
          },
          "metadata": {},
          "output_type": "display_data"
        },
        {
          "name": "stderr",
          "output_type": "stream",
          "text": [
            "INFO flwr 2025-03-15 22:04:37,639 | 1340840146.py:21 | cid: 1473\n"
          ]
        },
        {
          "data": {
            "text/html": [
              "<pre style=\"white-space:pre;overflow-x:auto;line-height:normal;font-family:Menlo,'DejaVu Sans Mono',consolas,'Courier New',monospace\"><span style=\"color: #7fbfbf; text-decoration-color: #7fbfbf\">                    </span><span style=\"color: #000080; text-decoration-color: #000080\">INFO    </span> cid: <span style=\"color: #008080; text-decoration-color: #008080; font-weight: bold\">2828</span>                                                                      <a href=\"file:///tmp/ipykernel_1030410/1340840146.py\" target=\"_blank\"><span style=\"color: #7f7f7f; text-decoration-color: #7f7f7f\">flwr</span></a><span style=\"color: #7f7f7f; text-decoration-color: #7f7f7f\">:</span><a href=\"file:///tmp/ipykernel_1030410/1340840146.py#21\" target=\"_blank\"><span style=\"color: #7f7f7f; text-decoration-color: #7f7f7f\">21</span></a>\n",
              "</pre>\n"
            ],
            "text/plain": [
              "\u001b[2;36m                   \u001b[0m\u001b[2;36m \u001b[0m\u001b[34mINFO    \u001b[0m cid: \u001b[1;36m2828\u001b[0m                                                                      \u001b]8;id=751794;file:///tmp/ipykernel_1030410/1340840146.py\u001b\\\u001b[2mflwr\u001b[0m\u001b]8;;\u001b\\\u001b[2m:\u001b[0m\u001b]8;id=923937;file:///tmp/ipykernel_1030410/1340840146.py#21\u001b\\\u001b[2m21\u001b[0m\u001b]8;;\u001b\\\n"
            ]
          },
          "metadata": {},
          "output_type": "display_data"
        },
        {
          "data": {
            "text/html": [
              "<pre style=\"white-space:pre;overflow-x:auto;line-height:normal;font-family:Menlo,'DejaVu Sans Mono',consolas,'Courier New',monospace\"><span style=\"color: #7fbfbf; text-decoration-color: #7fbfbf\">                    </span><span style=\"color: #000080; text-decoration-color: #000080\">INFO    </span> cid: <span style=\"color: #008080; text-decoration-color: #008080; font-weight: bold\">2985</span>                                                                      <a href=\"file:///tmp/ipykernel_1030410/1340840146.py\" target=\"_blank\"><span style=\"color: #7f7f7f; text-decoration-color: #7f7f7f\">flwr</span></a><span style=\"color: #7f7f7f; text-decoration-color: #7f7f7f\">:</span><a href=\"file:///tmp/ipykernel_1030410/1340840146.py#21\" target=\"_blank\"><span style=\"color: #7f7f7f; text-decoration-color: #7f7f7f\">21</span></a>\n",
              "</pre>\n"
            ],
            "text/plain": [
              "\u001b[2;36m                   \u001b[0m\u001b[2;36m \u001b[0m\u001b[34mINFO    \u001b[0m cid: \u001b[1;36m2985\u001b[0m                                                                      \u001b]8;id=301469;file:///tmp/ipykernel_1030410/1340840146.py\u001b\\\u001b[2mflwr\u001b[0m\u001b]8;;\u001b\\\u001b[2m:\u001b[0m\u001b]8;id=777080;file:///tmp/ipykernel_1030410/1340840146.py#21\u001b\\\u001b[2m21\u001b[0m\u001b]8;;\u001b\\\n"
            ]
          },
          "metadata": {},
          "output_type": "display_data"
        },
        {
          "data": {
            "text/html": [
              "<pre style=\"white-space:pre;overflow-x:auto;line-height:normal;font-family:Menlo,'DejaVu Sans Mono',consolas,'Courier New',monospace\"><span style=\"color: #7fbfbf; text-decoration-color: #7fbfbf\">                    </span><span style=\"color: #000080; text-decoration-color: #000080\">INFO    </span> cid: <span style=\"color: #008080; text-decoration-color: #008080; font-weight: bold\">1473</span>                                                                      <a href=\"file:///tmp/ipykernel_1030410/1340840146.py\" target=\"_blank\"><span style=\"color: #7f7f7f; text-decoration-color: #7f7f7f\">flwr</span></a><span style=\"color: #7f7f7f; text-decoration-color: #7f7f7f\">:</span><a href=\"file:///tmp/ipykernel_1030410/1340840146.py#21\" target=\"_blank\"><span style=\"color: #7f7f7f; text-decoration-color: #7f7f7f\">21</span></a>\n",
              "</pre>\n"
            ],
            "text/plain": [
              "\u001b[2;36m                   \u001b[0m\u001b[2;36m \u001b[0m\u001b[34mINFO    \u001b[0m cid: \u001b[1;36m1473\u001b[0m                                                                      \u001b]8;id=364170;file:///tmp/ipykernel_1030410/1340840146.py\u001b\\\u001b[2mflwr\u001b[0m\u001b]8;;\u001b\\\u001b[2m:\u001b[0m\u001b]8;id=398923;file:///tmp/ipykernel_1030410/1340840146.py#21\u001b\\\u001b[2m21\u001b[0m\u001b]8;;\u001b\\\n"
            ]
          },
          "metadata": {},
          "output_type": "display_data"
        },
        {
          "ename": "KeyboardInterrupt",
          "evalue": "",
          "output_type": "error",
          "traceback": [
            "\u001b[0;31m---------------------------------------------------------------------------\u001b[0m",
            "\u001b[0;31mKeyboardInterrupt\u001b[0m                         Traceback (most recent call last)",
            "Cell \u001b[0;32mIn[22], line 1\u001b[0m\n\u001b[0;32m----> 1\u001b[0m parameters_for_each_round, hist \u001b[38;5;241m=\u001b[39m \u001b[43mrun_simulation_frank_wolfe\u001b[49m\u001b[43m(\u001b[49m\u001b[43m)\u001b[49m\n",
            "Cell \u001b[0;32mIn[20], line 87\u001b[0m, in \u001b[0;36mrun_simulation_frank_wolfe\u001b[0;34m(num_rounds, num_total_clients, num_clients_per_round, num_evaluate_clients, min_available_clients, min_fit_clients, min_evaluate_clients, evaluate_fn, on_fit_config_fn, on_evaluate_config_fn, initial_parameters, accept_failures, fit_metrics_aggregation_fn, evaluate_metrics_aggregation_fn, federated_client_generator, server_learning_rate, server_momentum)\u001b[0m\n\u001b[1;32m     84\u001b[0m \u001b[38;5;28;01mdef\u001b[39;00m\u001b[38;5;250m \u001b[39m\u001b[38;5;21msimulator_client_generator\u001b[39m(cid: \u001b[38;5;28mstr\u001b[39m) \u001b[38;5;241m-\u001b[39m\u001b[38;5;241m>\u001b[39m Client:\n\u001b[1;32m     85\u001b[0m     \u001b[38;5;28;01mreturn\u001b[39;00m federated_client_generator(cid)\u001b[38;5;241m.\u001b[39mto_client()\n\u001b[0;32m---> 87\u001b[0m parameters_for_each_round, hist \u001b[38;5;241m=\u001b[39m \u001b[43mstart_seeded_simulation\u001b[49m\u001b[43m(\u001b[49m\n\u001b[1;32m     88\u001b[0m \u001b[43m    \u001b[49m\u001b[43mclient_fn\u001b[49m\u001b[38;5;241;43m=\u001b[39;49m\u001b[43msimulator_client_generator\u001b[49m\u001b[43m,\u001b[49m\n\u001b[1;32m     89\u001b[0m \u001b[43m    \u001b[49m\u001b[43mnum_clients\u001b[49m\u001b[38;5;241;43m=\u001b[39;49m\u001b[43mnum_total_clients\u001b[49m\u001b[43m,\u001b[49m\n\u001b[1;32m     90\u001b[0m \u001b[43m    \u001b[49m\u001b[43mconfig\u001b[49m\u001b[38;5;241;43m=\u001b[39;49m\u001b[43mcfg\u001b[49m\u001b[43m,\u001b[49m\n\u001b[1;32m     91\u001b[0m \u001b[43m    \u001b[49m\u001b[43mstrategy\u001b[49m\u001b[38;5;241;43m=\u001b[39;49m\u001b[43mstrategy\u001b[49m\u001b[43m,\u001b[49m\n\u001b[1;32m     92\u001b[0m \u001b[43m    \u001b[49m\u001b[43mname\u001b[49m\u001b[38;5;241;43m=\u001b[39;49m\u001b[38;5;124;43m\"\u001b[39;49m\u001b[38;5;124;43mc2m3\u001b[39;49m\u001b[38;5;124;43m\"\u001b[39;49m\u001b[43m,\u001b[49m\n\u001b[1;32m     93\u001b[0m \u001b[43m    \u001b[49m\u001b[43mreturn_all_parameters\u001b[49m\u001b[38;5;241;43m=\u001b[39;49m\u001b[38;5;28;43;01mTrue\u001b[39;49;00m\u001b[43m,\u001b[49m\n\u001b[1;32m     94\u001b[0m \u001b[43m    \u001b[49m\u001b[43mseed\u001b[49m\u001b[38;5;241;43m=\u001b[39;49m\u001b[43mSeeds\u001b[49m\u001b[38;5;241;43m.\u001b[39;49m\u001b[43mDEFAULT\u001b[49m\u001b[43m,\u001b[49m\n\u001b[1;32m     95\u001b[0m \u001b[43m\u001b[49m\u001b[43m)\u001b[49m\n\u001b[1;32m     96\u001b[0m \u001b[38;5;28;01mreturn\u001b[39;00m parameters_for_each_round, hist\n",
            "Cell \u001b[0;32mIn[19], line 15\u001b[0m, in \u001b[0;36mstart_seeded_simulation\u001b[0;34m(client_fn, num_clients, config, strategy, name, return_all_parameters, seed, iteration)\u001b[0m\n\u001b[1;32m     13\u001b[0m torch\u001b[38;5;241m.\u001b[39mmanual_seed(seed \u001b[38;5;241m^\u001b[39m iteration)\n\u001b[1;32m     14\u001b[0m random\u001b[38;5;241m.\u001b[39mseed(seed \u001b[38;5;241m^\u001b[39m iteration)\n\u001b[0;32m---> 15\u001b[0m parameter_list, hist \u001b[38;5;241m=\u001b[39m \u001b[43mflwr\u001b[49m\u001b[38;5;241;43m.\u001b[39;49m\u001b[43msimulation\u001b[49m\u001b[38;5;241;43m.\u001b[39;49m\u001b[43mstart_simulation_no_ray\u001b[49m\u001b[43m(\u001b[49m\n\u001b[1;32m     16\u001b[0m \u001b[43m    \u001b[49m\u001b[43mclient_fn\u001b[49m\u001b[38;5;241;43m=\u001b[39;49m\u001b[43mclient_fn\u001b[49m\u001b[43m,\u001b[49m\n\u001b[1;32m     17\u001b[0m \u001b[43m    \u001b[49m\u001b[43mnum_clients\u001b[49m\u001b[38;5;241;43m=\u001b[39;49m\u001b[43mnum_clients\u001b[49m\u001b[43m,\u001b[49m\n\u001b[1;32m     18\u001b[0m \u001b[43m    \u001b[49m\u001b[43mclient_resources\u001b[49m\u001b[38;5;241;43m=\u001b[39;49m\u001b[43m{\u001b[49m\u001b[43m}\u001b[49m\u001b[43m,\u001b[49m\n\u001b[1;32m     19\u001b[0m \u001b[43m    \u001b[49m\u001b[43mconfig\u001b[49m\u001b[38;5;241;43m=\u001b[39;49m\u001b[43mconfig\u001b[49m\u001b[43m,\u001b[49m\n\u001b[1;32m     20\u001b[0m \u001b[43m    \u001b[49m\u001b[43mstrategy\u001b[49m\u001b[38;5;241;43m=\u001b[39;49m\u001b[43mstrategy\u001b[49m\u001b[43m,\u001b[49m\n\u001b[1;32m     21\u001b[0m \u001b[43m\u001b[49m\u001b[43m)\u001b[49m\n\u001b[1;32m     22\u001b[0m save_history(home_dir, hist, name)\n\u001b[1;32m     23\u001b[0m \u001b[38;5;28;01mreturn\u001b[39;00m parameter_list, hist\n",
            "File \u001b[0;32m~/venvs/fed/lib/python3.10/site-packages/flwr/simulation/app.py:184\u001b[0m, in \u001b[0;36mstart_simulation_no_ray\u001b[0;34m(client_fn, num_clients, clients_ids, client_resources, server, config, strategy, client_manager)\u001b[0m\n\u001b[1;32m    181\u001b[0m \u001b[38;5;66;03m# pylint: disable=broad-except\u001b[39;00m\n\u001b[1;32m    182\u001b[0m \u001b[38;5;28;01mtry\u001b[39;00m:\n\u001b[1;32m    183\u001b[0m     \u001b[38;5;66;03m# Start training\u001b[39;00m\n\u001b[0;32m--> 184\u001b[0m     parameters_list, hist \u001b[38;5;241m=\u001b[39m \u001b[43mrun_fl_return_parameters\u001b[49m\u001b[43m(\u001b[49m\n\u001b[1;32m    185\u001b[0m \u001b[43m        \u001b[49m\u001b[43mserver\u001b[49m\u001b[38;5;241;43m=\u001b[39;49m\u001b[43minitialized_server\u001b[49m\u001b[43m,\u001b[49m\n\u001b[1;32m    186\u001b[0m \u001b[43m        \u001b[49m\u001b[43mconfig\u001b[49m\u001b[38;5;241;43m=\u001b[39;49m\u001b[43minitialized_config\u001b[49m\u001b[43m,\u001b[49m\n\u001b[1;32m    187\u001b[0m \u001b[43m    \u001b[49m\u001b[43m)\u001b[49m\n\u001b[1;32m    188\u001b[0m \u001b[38;5;28;01mexcept\u001b[39;00m \u001b[38;5;167;01mException\u001b[39;00m \u001b[38;5;28;01mas\u001b[39;00m ex:\n\u001b[1;32m    189\u001b[0m     log(ERROR, ex)\n",
            "File \u001b[0;32m~/venvs/fed/lib/python3.10/site-packages/flwr/server/app.py:249\u001b[0m, in \u001b[0;36mrun_fl_return_parameters\u001b[0;34m(server, config)\u001b[0m\n\u001b[1;32m    244\u001b[0m \u001b[38;5;28;01mdef\u001b[39;00m\u001b[38;5;250m \u001b[39m\u001b[38;5;21mrun_fl_return_parameters\u001b[39m(\n\u001b[1;32m    245\u001b[0m     server: ReturnParametersServer,\n\u001b[1;32m    246\u001b[0m     config: ServerConfig,\n\u001b[1;32m    247\u001b[0m ) \u001b[38;5;241m-\u001b[39m\u001b[38;5;241m>\u001b[39m Tuple[List[Tuple[\u001b[38;5;28mint\u001b[39m,NDArrays]], History]:\n\u001b[1;32m    248\u001b[0m \u001b[38;5;250m    \u001b[39m\u001b[38;5;124;03m\"\"\"Train a model on the given server and return the History object.\"\"\"\u001b[39;00m\n\u001b[0;32m--> 249\u001b[0m     parameters_list, hist \u001b[38;5;241m=\u001b[39m \u001b[43mserver\u001b[49m\u001b[38;5;241;43m.\u001b[39;49m\u001b[43mfit\u001b[49m\u001b[43m(\u001b[49m\u001b[43mnum_rounds\u001b[49m\u001b[38;5;241;43m=\u001b[39;49m\u001b[43mconfig\u001b[49m\u001b[38;5;241;43m.\u001b[39;49m\u001b[43mnum_rounds\u001b[49m\u001b[43m,\u001b[49m\u001b[43m \u001b[49m\u001b[43mtimeout\u001b[49m\u001b[38;5;241;43m=\u001b[39;49m\u001b[43mconfig\u001b[49m\u001b[38;5;241;43m.\u001b[39;49m\u001b[43mround_timeout\u001b[49m\u001b[43m)\u001b[49m\n\u001b[1;32m    250\u001b[0m     log(INFO, \u001b[38;5;124m\"\u001b[39m\u001b[38;5;124mapp_fit: losses_distributed \u001b[39m\u001b[38;5;132;01m%s\u001b[39;00m\u001b[38;5;124m\"\u001b[39m, \u001b[38;5;28mstr\u001b[39m(hist\u001b[38;5;241m.\u001b[39mlosses_distributed))\n\u001b[1;32m    251\u001b[0m     log(INFO, \u001b[38;5;124m\"\u001b[39m\u001b[38;5;124mapp_fit: metrics_distributed_fit \u001b[39m\u001b[38;5;132;01m%s\u001b[39;00m\u001b[38;5;124m\"\u001b[39m, \u001b[38;5;28mstr\u001b[39m(hist\u001b[38;5;241m.\u001b[39mmetrics_distributed_fit))\n",
            "File \u001b[0;32m~/venvs/fed/lib/python3.10/site-packages/flwr/server/server_returns_parameters.py:102\u001b[0m, in \u001b[0;36mReturnParametersServer.fit\u001b[0;34m(self, num_rounds, timeout)\u001b[0m\n\u001b[1;32m     98\u001b[0m start_time \u001b[38;5;241m=\u001b[39m timeit\u001b[38;5;241m.\u001b[39mdefault_timer()\n\u001b[1;32m    100\u001b[0m \u001b[38;5;28;01mfor\u001b[39;00m current_round \u001b[38;5;129;01min\u001b[39;00m \u001b[38;5;28mrange\u001b[39m(\u001b[38;5;241m1\u001b[39m, num_rounds \u001b[38;5;241m+\u001b[39m \u001b[38;5;241m1\u001b[39m):\n\u001b[1;32m    101\u001b[0m     \u001b[38;5;66;03m# Train model and replace previous global model\u001b[39;00m\n\u001b[0;32m--> 102\u001b[0m     res_fit \u001b[38;5;241m=\u001b[39m \u001b[38;5;28;43mself\u001b[39;49m\u001b[38;5;241;43m.\u001b[39;49m\u001b[43mfit_round\u001b[49m\u001b[43m(\u001b[49m\n\u001b[1;32m    103\u001b[0m \u001b[43m        \u001b[49m\u001b[43mserver_round\u001b[49m\u001b[38;5;241;43m=\u001b[39;49m\u001b[43mcurrent_round\u001b[49m\u001b[43m,\u001b[49m\n\u001b[1;32m    104\u001b[0m \u001b[43m        \u001b[49m\u001b[43mtimeout\u001b[49m\u001b[38;5;241;43m=\u001b[39;49m\u001b[43mtimeout\u001b[49m\u001b[43m,\u001b[49m\n\u001b[1;32m    105\u001b[0m \u001b[43m    \u001b[49m\u001b[43m)\u001b[49m\n\u001b[1;32m    106\u001b[0m     \u001b[38;5;28;01mif\u001b[39;00m res_fit \u001b[38;5;129;01mis\u001b[39;00m \u001b[38;5;129;01mnot\u001b[39;00m \u001b[38;5;28;01mNone\u001b[39;00m:\n\u001b[1;32m    107\u001b[0m         parameters_prime, fit_metrics, _ \u001b[38;5;241m=\u001b[39m res_fit  \u001b[38;5;66;03m# fit_metrics_aggregated\u001b[39;00m\n",
            "File \u001b[0;32m~/venvs/fed/lib/python3.10/site-packages/flwr/server/server_returns_parameters.py:232\u001b[0m, in \u001b[0;36mReturnParametersServer.fit_round\u001b[0;34m(self, server_round, timeout)\u001b[0m\n\u001b[1;32m    223\u001b[0m log(\n\u001b[1;32m    224\u001b[0m     DEBUG,\n\u001b[1;32m    225\u001b[0m     \u001b[38;5;124m\"\u001b[39m\u001b[38;5;124mfit_round \u001b[39m\u001b[38;5;132;01m%s\u001b[39;00m\u001b[38;5;124m: strategy sampled \u001b[39m\u001b[38;5;132;01m%s\u001b[39;00m\u001b[38;5;124m clients (out of \u001b[39m\u001b[38;5;132;01m%s\u001b[39;00m\u001b[38;5;124m)\u001b[39m\u001b[38;5;124m\"\u001b[39m,\n\u001b[0;32m   (...)\u001b[0m\n\u001b[1;32m    228\u001b[0m     \u001b[38;5;28mself\u001b[39m\u001b[38;5;241m.\u001b[39m_client_manager\u001b[38;5;241m.\u001b[39mnum_available(),\n\u001b[1;32m    229\u001b[0m )\n\u001b[1;32m    231\u001b[0m \u001b[38;5;66;03m# Collect `fit` results from all clients participating in this round\u001b[39;00m\n\u001b[0;32m--> 232\u001b[0m results, failures \u001b[38;5;241m=\u001b[39m \u001b[43mfit_clients\u001b[49m\u001b[43m(\u001b[49m\n\u001b[1;32m    233\u001b[0m \u001b[43m    \u001b[49m\u001b[43mclient_instructions\u001b[49m\u001b[38;5;241;43m=\u001b[39;49m\u001b[43mclient_instructions\u001b[49m\u001b[43m,\u001b[49m\n\u001b[1;32m    234\u001b[0m \u001b[43m    \u001b[49m\u001b[43mmax_workers\u001b[49m\u001b[38;5;241;43m=\u001b[39;49m\u001b[38;5;28;43mself\u001b[39;49m\u001b[38;5;241;43m.\u001b[39;49m\u001b[43mmax_workers\u001b[49m\u001b[43m,\u001b[49m\n\u001b[1;32m    235\u001b[0m \u001b[43m    \u001b[49m\u001b[43mtimeout\u001b[49m\u001b[38;5;241;43m=\u001b[39;49m\u001b[43mtimeout\u001b[49m\u001b[43m,\u001b[49m\n\u001b[1;32m    236\u001b[0m \u001b[43m\u001b[49m\u001b[43m)\u001b[49m\n\u001b[1;32m    237\u001b[0m log(\n\u001b[1;32m    238\u001b[0m     DEBUG,\n\u001b[1;32m    239\u001b[0m     \u001b[38;5;124m\"\u001b[39m\u001b[38;5;124mfit_round \u001b[39m\u001b[38;5;132;01m%s\u001b[39;00m\u001b[38;5;124m received \u001b[39m\u001b[38;5;132;01m%s\u001b[39;00m\u001b[38;5;124m results and \u001b[39m\u001b[38;5;132;01m%s\u001b[39;00m\u001b[38;5;124m failures\u001b[39m\u001b[38;5;124m\"\u001b[39m,\n\u001b[0;32m   (...)\u001b[0m\n\u001b[1;32m    242\u001b[0m     \u001b[38;5;28mlen\u001b[39m(failures),\n\u001b[1;32m    243\u001b[0m )\n\u001b[1;32m    245\u001b[0m \u001b[38;5;66;03m# Aggregate training results\u001b[39;00m\n",
            "File \u001b[0;32m~/venvs/fed/lib/python3.10/site-packages/flwr/server/server_returns_parameters.py:338\u001b[0m, in \u001b[0;36mfit_clients\u001b[0;34m(client_instructions, max_workers, timeout)\u001b[0m\n\u001b[1;32m    333\u001b[0m \u001b[38;5;28;01mwith\u001b[39;00m concurrent\u001b[38;5;241m.\u001b[39mfutures\u001b[38;5;241m.\u001b[39mThreadPoolExecutor(max_workers\u001b[38;5;241m=\u001b[39mmax_workers) \u001b[38;5;28;01mas\u001b[39;00m executor:\n\u001b[1;32m    334\u001b[0m     submitted_fs \u001b[38;5;241m=\u001b[39m {\n\u001b[1;32m    335\u001b[0m         executor\u001b[38;5;241m.\u001b[39msubmit(fit_client, client_proxy, ins, timeout)\n\u001b[1;32m    336\u001b[0m         \u001b[38;5;28;01mfor\u001b[39;00m client_proxy, ins \u001b[38;5;129;01min\u001b[39;00m client_instructions\n\u001b[1;32m    337\u001b[0m     }\n\u001b[0;32m--> 338\u001b[0m     finished_fs, _ \u001b[38;5;241m=\u001b[39m \u001b[43mconcurrent\u001b[49m\u001b[38;5;241;43m.\u001b[39;49m\u001b[43mfutures\u001b[49m\u001b[38;5;241;43m.\u001b[39;49m\u001b[43mwait\u001b[49m\u001b[43m(\u001b[49m\n\u001b[1;32m    339\u001b[0m \u001b[43m        \u001b[49m\u001b[43mfs\u001b[49m\u001b[38;5;241;43m=\u001b[39;49m\u001b[43msubmitted_fs\u001b[49m\u001b[43m,\u001b[49m\n\u001b[1;32m    340\u001b[0m \u001b[43m        \u001b[49m\u001b[43mtimeout\u001b[49m\u001b[38;5;241;43m=\u001b[39;49m\u001b[38;5;28;43;01mNone\u001b[39;49;00m\u001b[43m,\u001b[49m\u001b[43m  \u001b[49m\u001b[38;5;66;43;03m# Handled in the respective communication stack\u001b[39;49;00m\n\u001b[1;32m    341\u001b[0m \u001b[43m    \u001b[49m\u001b[43m)\u001b[49m\n\u001b[1;32m    343\u001b[0m \u001b[38;5;66;03m# Gather results\u001b[39;00m\n\u001b[1;32m    344\u001b[0m results: List[Tuple[ClientProxy, FitRes]] \u001b[38;5;241m=\u001b[39m []\n",
            "File \u001b[0;32m/usr/lib/python3.10/concurrent/futures/_base.py:307\u001b[0m, in \u001b[0;36mwait\u001b[0;34m(fs, timeout, return_when)\u001b[0m\n\u001b[1;32m    303\u001b[0m         \u001b[38;5;28;01mreturn\u001b[39;00m DoneAndNotDoneFutures(done, not_done)\n\u001b[1;32m    305\u001b[0m     waiter \u001b[38;5;241m=\u001b[39m _create_and_install_waiters(fs, return_when)\n\u001b[0;32m--> 307\u001b[0m \u001b[43mwaiter\u001b[49m\u001b[38;5;241;43m.\u001b[39;49m\u001b[43mevent\u001b[49m\u001b[38;5;241;43m.\u001b[39;49m\u001b[43mwait\u001b[49m\u001b[43m(\u001b[49m\u001b[43mtimeout\u001b[49m\u001b[43m)\u001b[49m\n\u001b[1;32m    308\u001b[0m \u001b[38;5;28;01mfor\u001b[39;00m f \u001b[38;5;129;01min\u001b[39;00m fs:\n\u001b[1;32m    309\u001b[0m     \u001b[38;5;28;01mwith\u001b[39;00m f\u001b[38;5;241m.\u001b[39m_condition:\n",
            "File \u001b[0;32m/usr/lib/python3.10/threading.py:607\u001b[0m, in \u001b[0;36mEvent.wait\u001b[0;34m(self, timeout)\u001b[0m\n\u001b[1;32m    605\u001b[0m signaled \u001b[38;5;241m=\u001b[39m \u001b[38;5;28mself\u001b[39m\u001b[38;5;241m.\u001b[39m_flag\n\u001b[1;32m    606\u001b[0m \u001b[38;5;28;01mif\u001b[39;00m \u001b[38;5;129;01mnot\u001b[39;00m signaled:\n\u001b[0;32m--> 607\u001b[0m     signaled \u001b[38;5;241m=\u001b[39m \u001b[38;5;28;43mself\u001b[39;49m\u001b[38;5;241;43m.\u001b[39;49m\u001b[43m_cond\u001b[49m\u001b[38;5;241;43m.\u001b[39;49m\u001b[43mwait\u001b[49m\u001b[43m(\u001b[49m\u001b[43mtimeout\u001b[49m\u001b[43m)\u001b[49m\n\u001b[1;32m    608\u001b[0m \u001b[38;5;28;01mreturn\u001b[39;00m signaled\n",
            "File \u001b[0;32m/usr/lib/python3.10/threading.py:320\u001b[0m, in \u001b[0;36mCondition.wait\u001b[0;34m(self, timeout)\u001b[0m\n\u001b[1;32m    318\u001b[0m \u001b[38;5;28;01mtry\u001b[39;00m:    \u001b[38;5;66;03m# restore state no matter what (e.g., KeyboardInterrupt)\u001b[39;00m\n\u001b[1;32m    319\u001b[0m     \u001b[38;5;28;01mif\u001b[39;00m timeout \u001b[38;5;129;01mis\u001b[39;00m \u001b[38;5;28;01mNone\u001b[39;00m:\n\u001b[0;32m--> 320\u001b[0m         \u001b[43mwaiter\u001b[49m\u001b[38;5;241;43m.\u001b[39;49m\u001b[43macquire\u001b[49m\u001b[43m(\u001b[49m\u001b[43m)\u001b[49m\n\u001b[1;32m    321\u001b[0m         gotit \u001b[38;5;241m=\u001b[39m \u001b[38;5;28;01mTrue\u001b[39;00m\n\u001b[1;32m    322\u001b[0m     \u001b[38;5;28;01melse\u001b[39;00m:\n",
            "\u001b[0;31mKeyboardInterrupt\u001b[0m: "
          ]
        }
      ],
      "source": [
        "parameters_for_each_round, hist = run_simulation_frank_wolfe()"
      ]
    },
    {
      "cell_type": "code",
      "execution_count": null,
      "metadata": {},
      "outputs": [],
      "source": [
        "parameters_for_each_round_fedavg, hist_fedavg = run_simulation_fedavg()"
      ]
    },
    {
      "cell_type": "code",
      "execution_count": null,
      "metadata": {},
      "outputs": [],
      "source": [
        "hist"
      ]
    },
    {
      "cell_type": "code",
      "execution_count": null,
      "metadata": {},
      "outputs": [],
      "source": [
        "hist_fedavg"
      ]
    },
    {
      "cell_type": "code",
      "execution_count": 26,
      "metadata": {},
      "outputs": [],
      "source": [
        "import matplotlib.pyplot as plt\n",
        "\n",
        "def plot_metrics(hist1, hist2, legend_labels=['FrankWolfe', 'FedAvg'], save_path=None):\n",
        "    \n",
        "    acc1 = hist1.metrics_centralized['accuracy']\n",
        "    rounds_acc1, acc_values1 = zip(*acc1)\n",
        "    \n",
        "    acc2 = hist2.metrics_centralized['accuracy']\n",
        "    rounds_acc2, acc_values2 = zip(*acc2)\n",
        "    \n",
        "    loss1 = hist1.losses_centralized\n",
        "    rounds_loss1, loss_values1 = zip(*loss1)\n",
        "    \n",
        "    loss2 = hist2.losses_centralized\n",
        "    rounds_loss2, loss_values2 = zip(*loss2)\n",
        "    \n",
        "    fig, axs = plt.subplots(2, 1, figsize=(12, 10))\n",
        "    \n",
        "    axs[0].plot(rounds_acc1, acc_values1, 'o-', color='blue', linewidth=2, markersize=8, \n",
        "               label=f'{legend_labels[0]} Accuracy')\n",
        "    axs[0].plot(rounds_acc2, acc_values2, 's-', color='cyan', linewidth=2, markersize=8, \n",
        "               label=f'{legend_labels[1]} Accuracy')\n",
        "    \n",
        "    axs[0].set_title('Accuracy Comparison', fontsize=14)\n",
        "    axs[0].set_xlabel('Round Number', fontsize=12)\n",
        "    axs[0].set_ylabel('Accuracy', fontsize=12)\n",
        "    axs[0].grid(True, linestyle='--', alpha=0.7)\n",
        "    axs[0].legend(loc='best')\n",
        "    \n",
        "    all_rounds_acc = sorted(list(set(rounds_acc1 + rounds_acc2)))\n",
        "    axs[0].set_xticks(all_rounds_acc)\n",
        "    \n",
        "    axs[1].plot(rounds_loss1, loss_values1, 'o-', color='red', linewidth=2, markersize=8, \n",
        "               label=f'{legend_labels[0]} Loss')\n",
        "    axs[1].plot(rounds_loss2, loss_values2, 's-', color='orange', linewidth=2, markersize=8, \n",
        "               label=f'{legend_labels[1]} Loss')\n",
        "    \n",
        "    axs[1].set_title('Loss Comparison', fontsize=14)\n",
        "    axs[1].set_xlabel('Round Number', fontsize=12)\n",
        "    axs[1].set_ylabel('Loss', fontsize=12)\n",
        "    axs[1].grid(True, linestyle='--', alpha=0.7)\n",
        "    axs[1].legend(loc='best')"
      ]
    },
    {
      "cell_type": "code",
      "execution_count": null,
      "metadata": {},
      "outputs": [],
      "source": [
        "plot_metrics(hist, hist_fedavg)"
      ]
    },
    {
      "cell_type": "code",
      "execution_count": null,
      "metadata": {
        "colab": {
          "base_uri": "https://localhost:8080/"
        },
        "id": "1CMXI3Uz3D1M",
        "outputId": "78b78966-9748-424a-94ed-c005ee70e844"
      },
      "outputs": [],
      "source": [
        "log(\n",
        "    INFO,\n",
        "    \"Size of the list with the model parameters: %s\",\n",
        "    len(parameters_for_each_round),\n",
        ")"
      ]
    }
  ],
  "metadata": {
    "accelerator": "GPU",
    "colab": {
      "gpuType": "L4",
      "include_colab_link": true,
      "provenance": []
    },
    "kernelspec": {
      "display_name": "fed",
      "language": "python",
      "name": "python3"
    },
    "language_info": {
      "codemirror_mode": {
        "name": "ipython",
        "version": 3
      },
      "file_extension": ".py",
      "mimetype": "text/x-python",
      "name": "python",
      "nbconvert_exporter": "python",
      "pygments_lexer": "ipython3",
      "version": "3.10.12"
    }
  },
  "nbformat": 4,
  "nbformat_minor": 0
}
