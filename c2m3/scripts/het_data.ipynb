{
 "cells": [
  {
   "cell_type": "markdown",
   "metadata": {
    "id": "9b3v_pcscNZW"
   },
   "source": [
    "## 2. An overview of data heterogeneity\n",
    "---\n",
    "\n",
    "Data heterogeneity has been extensively investigated and characterized in statistics and other fields. Here we want to start with a quick overview of the flavours that come to light in FL:\n",
    "\n",
    "- **Feature distribution skew**\n",
    "- **Label distribution skew**\n",
    "- **Quantity skew**\n",
    "- _Same label, different features_\n",
    "- _Same features, different label_\n",
    "- _Violation of Independence_\n",
    "- _Dataset Shift_\n",
    "\n",
    "During this lab we will get into more detail about the first three categories only---those bolded.\n",
    "\n",
    "It is crucial to say that a naturally partitioned dataset, also referred to as a \"real FL dataset”, usually presents a combination of more than one of these properties. This enforces developers to take into account **all of these** during the building of the FL pipeline because in real settings **we cannot see or touch data**. I like to exemplify such a situation using a metaphor: data in FL are like a Schroedinger's cat for which we cannot open the cage. Before looking into the details of these flavours, let's install and load some useful packages.\n"
   ]
  },
  {
   "cell_type": "code",
   "execution_count": 1,
   "metadata": {
    "colab": {
     "base_uri": "https://localhost:8080/"
    },
    "id": "Bbc-zZGqJDJB",
    "outputId": "32718d4f-1a1c-4f06-e1d3-79116d532f4c"
   },
   "outputs": [],
   "source": [
    "# `pip` could produce some errors. Do not worry about them.\n",
    "# The execution has been verified; it's working anyway.\n",
    "# ! pip install --quiet --upgrade \"pip\"\n",
    "# ! pip install --quiet matplotlib tqdm seaborn\n",
    "# ! pip install git+https://github.com/Iacob-Alexandru-Andrei/flower.git@teaching \\\n",
    "#     torch torchvision ray==\"2.6.3\"\n",
    "# # The following is just needed to show the folder tree\n",
    "# ! apt-get install -qq tree"
   ]
  },
  {
   "cell_type": "code",
   "execution_count": 2,
   "metadata": {},
   "outputs": [
    {
     "name": "stdout",
     "output_type": "stream",
     "text": [
      "['/usr/lib/python310.zip', '/usr/lib/python3.10', '/usr/lib/python3.10/lib-dynload', '', '/home/dawn/venvs/fed/lib/python3.10/site-packages', '/home/dawn/repos/cycle-consistent-model-merging/src', '../../']\n"
     ]
    }
   ],
   "source": [
    "import sys\n",
    "sys.path.append('../../')\n",
    "print(sys.path)"
   ]
  },
  {
   "cell_type": "code",
   "execution_count": 3,
   "metadata": {
    "id": "99aC-H3gr5ey"
   },
   "outputs": [
    {
     "name": "stderr",
     "output_type": "stream",
     "text": [
      "2025-03-08 22:59:05.447478: I tensorflow/tsl/cuda/cudart_stub.cc:28] Could not find cuda drivers on your machine, GPU will not be used.\n",
      "2025-03-08 22:59:05.578732: I tensorflow/tsl/cuda/cudart_stub.cc:28] Could not find cuda drivers on your machine, GPU will not be used.\n",
      "2025-03-08 22:59:05.579670: I tensorflow/core/platform/cpu_feature_guard.cc:182] This TensorFlow binary is optimized to use available CPU instructions in performance-critical operations.\n",
      "To enable the following instructions: AVX2 FMA, in other operations, rebuild TensorFlow with the appropriate compiler flags.\n",
      "2025-03-08 22:59:06.482462: W tensorflow/compiler/tf2tensorrt/utils/py_utils.cc:38] TF-TRT Warning: Could not find TensorRT\n",
      "/home/dawn/venvs/fed/lib/python3.10/site-packages/tqdm/auto.py:21: TqdmWarning: IProgress not found. Please update jupyter and ipywidgets. See https://ipywidgets.readthedocs.io/en/stable/user_install.html\n",
      "  from .autonotebook import tqdm as notebook_tqdm\n",
      "2025-03-08 22:59:08,401\tINFO util.py:159 -- Missing packages: ['ipywidgets']. Run `pip install -U ipywidgets`, then restart the notebook server for rich notebook output.\n"
     ]
    }
   ],
   "source": [
    "import sys\n",
    "import shutil\n",
    "import random\n",
    "import tarfile\n",
    "from collections.abc import Callable\n",
    "from copy import deepcopy\n",
    "from pathlib import Path\n",
    "from typing import Any, ClassVar\n",
    "from types import MethodType\n",
    "from logging import INFO\n",
    "\n",
    "import flwr as fl\n",
    "import matplotlib.pyplot as plt\n",
    "import numpy as np\n",
    "\n",
    "from c2m3.flower.fed_frank_wolfe_strategy import FrankWolfeSync\n",
    "\n",
    "\n",
    "import seaborn as sns\n",
    "import pandas as pd\n",
    "import torch\n",
    "from torch import nn\n",
    "from flwr.common.parameter import ndarrays_to_parameters\n",
    "from flwr.common.typing import NDArrays, Parameters, Scalar\n",
    "from flwr.common.logger import log\n",
    "from flwr.server import ServerConfig, History\n",
    "from flwr.server.strategy import FedAvg, Strategy\n",
    "from torch.nn import Module\n",
    "from torch.utils.data import DataLoader, Dataset\n",
    "from torchvision import transforms\n",
    "from tqdm import tqdm\n",
    "from enum import IntEnum\n",
    "from flwr.client import Client\n",
    "from flwr.server.client_proxy import ClientProxy\n",
    "from flwr.common import FitRes, parameters_to_ndarrays\n",
    "\n",
    "from c2m3.common.femnist_dataset import FEMNIST\n",
    "from c2m3.common.client_utils import (\n",
    "    to_tensor_transform,\n",
    "    get_network_generator_mlp,\n",
    "    get_network_generator_cnn,\n",
    "    get_model_parameters,\n",
    "    get_federated_evaluation_function,\n",
    "    aggregate_weighted_average,\n",
    "    get_device,\n",
    "    save_history,\n",
    ")\n",
    "from c2m3.common.lda_utils import create_lda_partitions\n",
    "from c2m3.common.client import FlowerClient, get_frank_flower_client_generator\n",
    "\n",
    "\n",
    "# Add new seeds here for easy autocomplete\n",
    "class Seeds(IntEnum):\n",
    "    \"\"\"Seeds for reproducibility.\"\"\"\n",
    "\n",
    "    DEFAULT = 1337\n",
    "\n",
    "\n",
    "def fit_client_seeded(\n",
    "    client: FlowerClient,\n",
    "    params: NDArrays,\n",
    "    conf: dict[str, Any],\n",
    "    seed: Seeds = Seeds.DEFAULT,\n",
    "    **kwargs: Any,\n",
    ") -> tuple[NDArrays, int, dict]:\n",
    "    \"\"\"Wrap to always seed client training.\"\"\"\n",
    "    np.random.seed(seed)\n",
    "    torch.manual_seed(seed)\n",
    "    random.seed(seed)\n",
    "    return client.fit(params, conf, **kwargs)\n",
    "\n",
    "\n",
    "np.random.seed(Seeds.DEFAULT)\n",
    "random.seed(Seeds.DEFAULT)\n",
    "torch.manual_seed(Seeds.DEFAULT)\n",
    "torch.backends.cudnn.benchmark = False\n",
    "torch.backends.cudnn.deterministic = True\n",
    "\n",
    "PathType = Path | str | None"
   ]
  },
  {
   "cell_type": "markdown",
   "metadata": {
    "id": "smKbgZnrJGsX"
   },
   "source": [
    "Another important ingredient, necessary to analyse heterogeneity, is a labelled dataset. We will use FEMNIST since we are all familiar with it now. We will initially load the same version of the dataset used in the previous lab, then we will start creating partitions at will.\n"
   ]
  },
  {
   "cell_type": "code",
   "execution_count": 4,
   "metadata": {
    "id": "2hQhnTM0JU9y"
   },
   "outputs": [],
   "source": [
    "home_dir = Path.cwd() / \"..\"\n",
    "dataset_dir: Path = home_dir / \"femnist\"\n",
    "data_dir: Path = dataset_dir / \"data\"\n",
    "centralized_partition: Path = dataset_dir / \"client_data_mappings\" / \"centralized\"\n",
    "centralized_mapping: Path = dataset_dir / \"client_data_mappings\" / \"centralized\" / \"0\"\n",
    "federated_partition: Path = dataset_dir / \"client_data_mappings\" / \"fed_natural\"\n",
    "\n",
    "# Decompress dataset\n",
    "if not dataset_dir.exists():\n",
    "    with tarfile.open(home_dir / \"femnist.tar.gz\", \"r:gz\") as tar:\n",
    "        tar.extractall(path=home_dir)\n",
    "    log(INFO, \"Dataset extracted in %s\", dataset_dir)"
   ]
  },
  {
   "cell_type": "code",
   "execution_count": 5,
   "metadata": {},
   "outputs": [],
   "source": [
    "def start_seeded_simulation(\n",
    "    client_fn: Callable[[str], Client],\n",
    "    num_clients: int,\n",
    "    config: ServerConfig,\n",
    "    strategy: Strategy,\n",
    "    name: str,\n",
    "    seed: int = Seeds.DEFAULT,\n",
    "    iteration: int = 0,\n",
    ") -> tuple[list[tuple[int, NDArrays]], History]:\n",
    "    \"\"\"Wrap simulation to always seed client selection.\"\"\"\n",
    "    np.random.seed(seed ^ iteration)\n",
    "    torch.manual_seed(seed ^ iteration)\n",
    "    random.seed(seed ^ iteration)\n",
    "    parameter_list, hist = fl.simulation.start_simulation_no_ray(\n",
    "        client_fn=client_fn,\n",
    "        num_clients=num_clients,\n",
    "        client_resources={},\n",
    "        config=config,\n",
    "        strategy=strategy,\n",
    "    )\n",
    "    save_history(home_dir, hist, name)\n",
    "    return parameter_list, hist"
   ]
  },
  {
   "cell_type": "markdown",
   "metadata": {
    "id": "6EVPpFjuwoBm"
   },
   "source": [
    "We also need the dataset object. We will use the same as in the previous lab.\n"
   ]
  },
  {
   "cell_type": "markdown",
   "metadata": {
    "id": "cLx7-YaNud_e"
   },
   "source": [
    "### 2.1 Feature distribution skew\n",
    "---\n",
    "\n",
    "Statisticians and data scientists refer to this property as \"covariate shift”. It happens when different clients present samples which describe ideally the same objects having slightly different features. That is the case for two different writers hand-writing the same word, since these may have different stroke widths, slants, etc.\n",
    "What happens to an FL setting in which this property is strong is not always predictable. Ideally, the global model, obtained using FedAvg, will try to learn a shared representation between clients. This could be problematic since clients have different features to represent their data. We could simply expect that the same seed model trained separately on local clients may perform better than a global model obtained in an FL training.\n",
    "\n",
    "To see this property in our chosen dataset we will show two images for the same number taken from different clients.\n",
    "_NOTE: the choice of clients and samples in the following is not random, but suitably made to show you the property._\n"
   ]
  },
  {
   "cell_type": "code",
   "execution_count": 6,
   "metadata": {
    "colab": {
     "base_uri": "https://localhost:8080/",
     "height": 253
    },
    "id": "GQSu0BsBw_tO",
    "outputId": "ca9a8035-55f7-4112-af63-210f7c5bec35"
   },
   "outputs": [
    {
     "name": "stderr",
     "output_type": "stream",
     "text": [
      "INFO flwr 2025-03-08 22:59:13,358 | 2179019995.py:10 | For client 0, sample 4 has label 24\n"
     ]
    },
    {
     "data": {
      "text/html": [
       "<pre style=\"white-space:pre;overflow-x:auto;line-height:normal;font-family:Menlo,'DejaVu Sans Mono',consolas,'Courier New',monospace\"><span style=\"color: #7fbfbf; text-decoration-color: #7fbfbf\">2025-03-08 22:59:13 </span><span style=\"color: #000080; text-decoration-color: #000080\">INFO    </span> For client <span style=\"color: #008080; text-decoration-color: #008080; font-weight: bold\">0</span>, sample <span style=\"color: #008080; text-decoration-color: #008080; font-weight: bold\">4</span> has label <span style=\"color: #008080; text-decoration-color: #008080; font-weight: bold\">24</span>                                            <a href=\"file:///tmp/ipykernel_602100/2179019995.py\" target=\"_blank\"><span style=\"color: #7f7f7f; text-decoration-color: #7f7f7f\">flwr</span></a><span style=\"color: #7f7f7f; text-decoration-color: #7f7f7f\">:</span><a href=\"file:///tmp/ipykernel_602100/2179019995.py#10\" target=\"_blank\"><span style=\"color: #7f7f7f; text-decoration-color: #7f7f7f\">10</span></a>\n",
       "</pre>\n"
      ],
      "text/plain": [
       "\u001b[2;36m2025-03-08 22:59:13\u001b[0m\u001b[2;36m \u001b[0m\u001b[34mINFO    \u001b[0m For client \u001b[1;36m0\u001b[0m, sample \u001b[1;36m4\u001b[0m has label \u001b[1;36m24\u001b[0m                                            \u001b]8;id=614242;file:///tmp/ipykernel_602100/2179019995.py\u001b\\\u001b[2mflwr\u001b[0m\u001b]8;;\u001b\\\u001b[2m:\u001b[0m\u001b]8;id=767447;file:///tmp/ipykernel_602100/2179019995.py#10\u001b\\\u001b[2m10\u001b[0m\u001b]8;;\u001b\\\n"
      ]
     },
     "metadata": {},
     "output_type": "display_data"
    },
    {
     "name": "stderr",
     "output_type": "stream",
     "text": [
      "INFO flwr 2025-03-08 22:59:13,366 | 2179019995.py:11 | For client 1000, sample 0 has label 24\n"
     ]
    },
    {
     "data": {
      "text/html": [
       "<pre style=\"white-space:pre;overflow-x:auto;line-height:normal;font-family:Menlo,'DejaVu Sans Mono',consolas,'Courier New',monospace\"><span style=\"color: #7fbfbf; text-decoration-color: #7fbfbf\">                    </span><span style=\"color: #000080; text-decoration-color: #000080\">INFO    </span> For client <span style=\"color: #008080; text-decoration-color: #008080; font-weight: bold\">1000</span>, sample <span style=\"color: #008080; text-decoration-color: #008080; font-weight: bold\">0</span> has label <span style=\"color: #008080; text-decoration-color: #008080; font-weight: bold\">24</span>                                         <a href=\"file:///tmp/ipykernel_602100/2179019995.py\" target=\"_blank\"><span style=\"color: #7f7f7f; text-decoration-color: #7f7f7f\">flwr</span></a><span style=\"color: #7f7f7f; text-decoration-color: #7f7f7f\">:</span><a href=\"file:///tmp/ipykernel_602100/2179019995.py#11\" target=\"_blank\"><span style=\"color: #7f7f7f; text-decoration-color: #7f7f7f\">11</span></a>\n",
       "</pre>\n"
      ],
      "text/plain": [
       "\u001b[2;36m                   \u001b[0m\u001b[2;36m \u001b[0m\u001b[34mINFO    \u001b[0m For client \u001b[1;36m1000\u001b[0m, sample \u001b[1;36m0\u001b[0m has label \u001b[1;36m24\u001b[0m                                         \u001b]8;id=665713;file:///tmp/ipykernel_602100/2179019995.py\u001b\\\u001b[2mflwr\u001b[0m\u001b]8;;\u001b\\\u001b[2m:\u001b[0m\u001b]8;id=827969;file:///tmp/ipykernel_602100/2179019995.py#11\u001b\\\u001b[2m11\u001b[0m\u001b]8;;\u001b\\\n"
      ]
     },
     "metadata": {},
     "output_type": "display_data"
    },
    {
     "data": {
      "text/plain": [
       "<matplotlib.image.AxesImage at 0x74addcfe25f0>"
      ]
     },
     "execution_count": 6,
     "metadata": {},
     "output_type": "execute_result"
    },
    {
     "data": {
      "image/png": "[encoded data removed]",
      "text/plain": [
       "<Figure size 640x480 with 2 Axes>"
      ]
     },
     "metadata": {},
     "output_type": "display_data"
    }
   ],
   "source": [
    "client_0_dataset: FEMNIST = FEMNIST(\n",
    "    mapping=federated_partition / \"0\", data_dir=data_dir, name=\"train\"\n",
    ")\n",
    "client_1000_dataset: FEMNIST = FEMNIST(\n",
    "    mapping=federated_partition / \"1000\", data_dir=data_dir, name=\"train\"\n",
    ")\n",
    "img_a, label_a = client_0_dataset[4]\n",
    "img_b, label_b = client_1000_dataset[0]\n",
    "\n",
    "log(INFO, f\"For client 0, sample 4 has label {label_a}\")\n",
    "log(INFO, f\"For client 1000, sample 0 has label {label_b}\")\n",
    "# display images\n",
    "fig, ax = plt.subplots(1, 2)\n",
    "ax[0].imshow(img_a)\n",
    "ax[1].imshow(img_b)"
   ]
  },
  {
   "cell_type": "markdown",
   "metadata": {
    "id": "o8BULdP73HYV"
   },
   "source": [
    "We can also compare the average values of all the features for all the samples of these clients having the label chosen. You can try to execute the cell below choosing different labels.\n"
   ]
  },
  {
   "cell_type": "code",
   "execution_count": 7,
   "metadata": {
    "colab": {
     "base_uri": "https://localhost:8080/",
     "height": 218
    },
    "id": "9xS7S-xk07dQ",
    "outputId": "f42a7c53-d12b-4c7c-8867-c7b99dceb976"
   },
   "outputs": [
    {
     "data": {
      "text/plain": [
       "<matplotlib.image.AxesImage at 0x74ac5b2b1d50>"
      ]
     },
     "execution_count": 7,
     "metadata": {},
     "output_type": "execute_result"
    },
    {
     "data": {
      "image/png": "[encoded data removed]",
      "text/plain": [
       "<Figure size 640x480 with 2 Axes>"
      ]
     },
     "metadata": {},
     "output_type": "display_data"
    }
   ],
   "source": [
    "label_chosen = 4\n",
    "features_0 = []\n",
    "for img, lbl in client_0_dataset:\n",
    "    if lbl == label_chosen:\n",
    "        features_0.append(np.asarray(img).flatten())\n",
    "\n",
    "features_1000 = []\n",
    "for img, lbl in client_1000_dataset:\n",
    "    if lbl == label_chosen:\n",
    "        features_1000.append(np.asarray(img).flatten())\n",
    "\n",
    "# display images\n",
    "fig, ax = plt.subplots(1, 2)\n",
    "ax[0].imshow((np.sum(features_0, axis=0) / len(features_0)).reshape((28, 28)))\n",
    "ax[1].imshow((np.sum(features_1000, axis=0) / len(features_1000)).reshape((28, 28)))"
   ]
  },
  {
   "cell_type": "code",
   "execution_count": 8,
   "metadata": {
    "colab": {
     "base_uri": "https://localhost:8080/",
     "height": 218
    },
    "id": "KbPKX2SuWFcr",
    "outputId": "3edbabad-0e98-4f6e-9e6a-4e68536a5984"
   },
   "outputs": [
    {
     "data": {
      "text/plain": [
       "<matplotlib.image.AxesImage at 0x74ac59180040>"
      ]
     },
     "execution_count": 8,
     "metadata": {},
     "output_type": "execute_result"
    },
    {
     "data": {
      "image/png": "[encoded data removed]",
      "text/plain": [
       "<Figure size 640x480 with 2 Axes>"
      ]
     },
     "metadata": {},
     "output_type": "display_data"
    }
   ],
   "source": [
    "label_chosen = 1\n",
    "features_0 = []\n",
    "for img, lbl in client_0_dataset:\n",
    "    if lbl == label_chosen:\n",
    "        features_0.append(np.asarray(img).flatten())\n",
    "\n",
    "features_1000 = []\n",
    "for img, lbl in client_1000_dataset:\n",
    "    if lbl == label_chosen:\n",
    "        features_1000.append(np.asarray(img).flatten())\n",
    "\n",
    "# display images\n",
    "fig, ax = plt.subplots(1, 2)\n",
    "ax[0].imshow((np.sum(features_0, axis=0) / len(features_0)).reshape((28, 28)))\n",
    "ax[1].imshow((np.sum(features_1000, axis=0) / len(features_1000)).reshape((28, 28)))"
   ]
  },
  {
   "cell_type": "markdown",
   "metadata": {
    "id": "F_hZ8ZKqAwsY"
   },
   "source": [
    "It is worth having a glance on what are the consequences of this property on an FL experiment. To do that we will re-use the code for training an FL client from the previous lab.\n",
    "\n",
    "In order to show on a small scale what can happen to FL training setups where clients have feature distribution skew, we will now build two toy settings. We choose the most populated client---the one with the most samples in the federation. We will then construct a second version of this same client by artificially changing its features by inverting the underlying images--- transforming each image into its negative. Furthermore, we need a specific `get_flower_client_generator` able to invert the images of a specific client.\n",
    "\n",
    "In the following, we provide the relevant methods to do that. These methods are simplified taking advantage of the federation being composed of just two clients.\n"
   ]
  },
  {
   "cell_type": "code",
   "execution_count": 9,
   "metadata": {
    "id": "Y420LYKH_8BL"
   },
   "outputs": [],
   "source": [
    "from c2m3.flower.frank_flower_client import FrankFlowerClient\n",
    "\n",
    "\n",
    "def load_femnist_inverted_dataset(mapping: Path, name: str) -> Dataset:\n",
    "    \"\"\"Load the filtered FEMNIST dataset given the mapping .csv file.\n",
    "\n",
    "    The relevant transforms are automatically applied.\n",
    "    Note that the last transform will invert images, getting their negative\n",
    "    representation.\n",
    "\n",
    "    Parameters\n",
    "    ----------\n",
    "        mapping (Path): path to the mapping .csv file chosen.\n",
    "        name (str): name of the dataset to load, train or test.\n",
    "\n",
    "    Returns\n",
    "    -------\n",
    "        Dataset: FEMNIST dataset object, ready to use.\n",
    "    \"\"\"\n",
    "    transform = transforms.Compose([\n",
    "        transforms.ToTensor(),\n",
    "        transforms.transforms.F.invert,\n",
    "    ])\n",
    "\n",
    "    return FEMNIST(\n",
    "        mapping=mapping,\n",
    "        name=name,\n",
    "        data_dir=data_dir,\n",
    "        transform=transform,\n",
    "        target_transform=to_tensor_transform,\n",
    "    )\n",
    "\n",
    "\n",
    "# NOTE: We need the self to use this for replacing an internal of a class\n",
    "def _load_inverted_dataset(self: FlowerClient, name: str) -> Dataset:\n",
    "    \"\"\"\n",
    "    Load an inverted dataset for a specific client.\n",
    "\n",
    "    This function loads the FEMNIST inverted dataset for the client identified by\n",
    "    `self.cid`. The dataset is loaded from the partition directory specified by\n",
    "    `self.partition_dir`.\n",
    "\n",
    "    Parameters\n",
    "    ----------\n",
    "        name (str): The name of the dataset to load.\n",
    "\n",
    "    Returns\n",
    "    -------\n",
    "        Dataset: The loaded inverted dataset.\n",
    "\n",
    "    Raises\n",
    "    ------\n",
    "        FileNotFoundError: If the dataset file does not exist.\n",
    "    \"\"\"\n",
    "    full_file: Path = self.partition_dir / str(self.cid)\n",
    "    return load_femnist_inverted_dataset(mapping=full_file, name=name)\n",
    "\n",
    "\n",
    "def get_mod_flower_client_generator(\n",
    "    model_generator: Callable[[], Module],\n",
    "    data_dir: Path,\n",
    "    partition_dir: Path,\n",
    "    mapping_fn: Callable[[int], int] | None = None,\n",
    ") -> Callable[[str], FlowerClient]:\n",
    "    \"\"\"Wrap the function for the client instance generator.\n",
    "\n",
    "    This provides the client generator with a model generator function.\n",
    "    Also, the partition directory must be passed.\n",
    "    A mapping function could be used for filtering/ordering clients.\n",
    "    Note that the \"even\" clients here will have a modified `_load_dataset` function.\n",
    "    The new `_load_dataset` has been chosen to be the one inverting the images.\n",
    "\n",
    "    Parameters\n",
    "    ----------\n",
    "        data_dir (Path): path to the dataset folder.\n",
    "        model_generator (Callable[[], Module]): model generator function.\n",
    "        partition_dir (Path): directory containing the partition.\n",
    "        mapping_fn (Optional[Callable[[int], int]]): function mapping sorted/filtered\n",
    "            ids to real cid.\n",
    "\n",
    "    Returns\n",
    "    -------\n",
    "        Callable[[str], FlowerClient]: client instance.\n",
    "    \"\"\"\n",
    "\n",
    "    def client_fn(cid: str) -> FlowerClient:\n",
    "        \"\"\"Create a single client instance given the client id `cid`.\n",
    "\n",
    "        Parameters\n",
    "        ----------\n",
    "            cid (str): client id, Flower requires this to of type str.\n",
    "\n",
    "        Returns\n",
    "        -------\n",
    "            FlowerClient: client instance.\n",
    "        \"\"\"\n",
    "        log(INFO, f\"Getting client with id {cid}\")\n",
    "        actual_cid = mapping_fn(int(cid)) if mapping_fn is not None else int(cid)\n",
    "        client = FrankFlowerClient(\n",
    "            cid=actual_cid,\n",
    "            data_dir=data_dir,\n",
    "            partition_dir=partition_dir,\n",
    "            model_generator=model_generator,\n",
    "        )\n",
    "        # Pay attention to the following two lines\n",
    "        if int(cid) % 2 == 0:\n",
    "            client._load_dataset = MethodType(_load_inverted_dataset, client)\n",
    "        return client\n",
    "\n",
    "    return client_fn"
   ]
  },
  {
   "cell_type": "markdown",
   "metadata": {
    "id": "V6-ipEzaY8QY"
   },
   "source": [
    "We will now try to train separately the two clients generated this way. The mapping function will be provided to point both client IDs to the data of the most populated client.\n",
    "\n",
    "```python\n",
    "mapping_dict = {0: '178', 1: '178'}\n",
    "```\n",
    "\n",
    "_NOTE: you may want *to experiment \\_with \\_different\\_\\_ clients here*. After having completed the lab, feel free to try!_\n",
    "\n",
    "The following cell will set the relevant configuration for both training and testing of the client and its inverted version.\n",
    "\n",
    "> **IMPORTANT: The architecture used here is an MLP because it is affected by inversion of images. Also, note that we must seed the model parameters here.**\n"
   ]
  },
  {
   "cell_type": "code",
   "execution_count": 10,
   "metadata": {
    "id": "8_ZCNLJRZoah"
   },
   "outputs": [],
   "source": [
    "# Seed the model\n",
    "torch.manual_seed(Seeds.DEFAULT)\n",
    "network_generator_mlp = get_network_generator_mlp()\n",
    "seed_net_mlp = network_generator_mlp()\n",
    "seed_model_mlp_params: NDArrays = get_model_parameters(seed_net_mlp)\n",
    "# Set up config for both train and eval\n",
    "train_config: dict[str, Any] = {\n",
    "    \"epochs\": 8,\n",
    "    \"batch_size\": 32,\n",
    "    \"client_learning_rate\": 0.01,\n",
    "    \"weight_decay\": 0.001,\n",
    "    \"num_workers\": 0,\n",
    "    \"max_batches\": None,\n",
    "}\n",
    "test_config: dict[str, Any] = {\n",
    "    \"batch_size\": 32,\n",
    "    \"num_workers\": 0,\n",
    "    \"max_batches\": None,\n",
    "}\n",
    "# Here is the mapping\n",
    "mapping_dict = {0: \"178\", 1: \"178\"}\n",
    "# NOTE: we are using here the `get_mod_flower_client_generator`\n",
    "federated_mod_flower_client_generator: Callable[[str], FlowerClient] = (\n",
    "    get_mod_flower_client_generator(\n",
    "        model_generator=network_generator_mlp,\n",
    "        data_dir=data_dir,\n",
    "        partition_dir=federated_partition,\n",
    "        mapping_fn=lambda x: int(mapping_dict[x]),\n",
    "    )\n",
    ")\n",
    "# NOTE: we are using here the `get_flower_client_generator`\n",
    "federated_flower_client_generator: Callable[[str], FlowerClient] = (\n",
    "    get_frank_flower_client_generator(\n",
    "        model_generator=network_generator_mlp,\n",
    "        data_dir=data_dir,\n",
    "        partition_dir=federated_partition,\n",
    "        mapping_fn=lambda x: int(mapping_dict[x]),\n",
    "    )\n",
    ")"
   ]
  },
  {
   "cell_type": "markdown",
   "metadata": {
    "id": "zLqrKFqtaIYh"
   },
   "source": [
    "Let's train separately the two versions of the client and then mutually evaluate their models.\n"
   ]
  },
  {
   "cell_type": "code",
   "execution_count": 11,
   "metadata": {
    "colab": {
     "base_uri": "https://localhost:8080/"
    },
    "id": "fWYktaFiaH3d",
    "outputId": "11cf6d6e-c24c-4850-f0d4-0541da501e72"
   },
   "outputs": [
    {
     "name": "stderr",
     "output_type": "stream",
     "text": [
      "INFO flwr 2025-03-08 22:59:14,129 | 540151065.py:97 | Getting client with id 0\n"
     ]
    },
    {
     "data": {
      "text/html": [
       "<pre style=\"white-space:pre;overflow-x:auto;line-height:normal;font-family:Menlo,'DejaVu Sans Mono',consolas,'Courier New',monospace\"><span style=\"color: #7fbfbf; text-decoration-color: #7fbfbf\">2025-03-08 22:59:14 </span><span style=\"color: #000080; text-decoration-color: #000080\">INFO    </span> Getting client with id <span style=\"color: #008080; text-decoration-color: #008080; font-weight: bold\">0</span>                                                       <a href=\"file:///tmp/ipykernel_602100/540151065.py\" target=\"_blank\"><span style=\"color: #7f7f7f; text-decoration-color: #7f7f7f\">flwr</span></a><span style=\"color: #7f7f7f; text-decoration-color: #7f7f7f\">:</span><a href=\"file:///tmp/ipykernel_602100/540151065.py#97\" target=\"_blank\"><span style=\"color: #7f7f7f; text-decoration-color: #7f7f7f\">97</span></a>\n",
       "</pre>\n"
      ],
      "text/plain": [
       "\u001b[2;36m2025-03-08 22:59:14\u001b[0m\u001b[2;36m \u001b[0m\u001b[34mINFO    \u001b[0m Getting client with id \u001b[1;36m0\u001b[0m                                                       \u001b]8;id=798528;file:///tmp/ipykernel_602100/540151065.py\u001b\\\u001b[2mflwr\u001b[0m\u001b]8;;\u001b\\\u001b[2m:\u001b[0m\u001b]8;id=688156;file:///tmp/ipykernel_602100/540151065.py#97\u001b\\\u001b[2m97\u001b[0m\u001b]8;;\u001b\\\n"
      ]
     },
     "metadata": {},
     "output_type": "display_data"
    },
    {
     "name": "stderr",
     "output_type": "stream",
     "text": [
      "INFO flwr 2025-03-08 22:59:14,133 | frank_flower_client.py:40 | cid: 178\n"
     ]
    },
    {
     "data": {
      "text/html": [
       "<pre style=\"white-space:pre;overflow-x:auto;line-height:normal;font-family:Menlo,'DejaVu Sans Mono',consolas,'Courier New',monospace\"><span style=\"color: #7fbfbf; text-decoration-color: #7fbfbf\">                    </span><span style=\"color: #000080; text-decoration-color: #000080\">INFO    </span> cid: <span style=\"color: #008080; text-decoration-color: #008080; font-weight: bold\">178</span>                                                                       <a href=\"file:///home/dawn/repos/c2m3-federated/c2m3/scripts/../../c2m3/flower/frank_flower_client.py\" target=\"_blank\"><span style=\"color: #7f7f7f; text-decoration-color: #7f7f7f\">flwr</span></a><span style=\"color: #7f7f7f; text-decoration-color: #7f7f7f\">:</span><a href=\"file:///home/dawn/repos/c2m3-federated/c2m3/scripts/../../c2m3/flower/frank_flower_client.py#40\" target=\"_blank\"><span style=\"color: #7f7f7f; text-decoration-color: #7f7f7f\">40</span></a>\n",
       "</pre>\n"
      ],
      "text/plain": [
       "\u001b[2;36m                   \u001b[0m\u001b[2;36m \u001b[0m\u001b[34mINFO    \u001b[0m cid: \u001b[1;36m178\u001b[0m                                                                       \u001b]8;id=666052;file:///home/dawn/repos/c2m3-federated/c2m3/scripts/../../c2m3/flower/frank_flower_client.py\u001b\\\u001b[2mflwr\u001b[0m\u001b]8;;\u001b\\\u001b[2m:\u001b[0m\u001b]8;id=418108;file:///home/dawn/repos/c2m3-federated/c2m3/scripts/../../c2m3/flower/frank_flower_client.py#40\u001b\\\u001b[2m40\u001b[0m\u001b]8;;\u001b\\\n"
      ]
     },
     "metadata": {},
     "output_type": "display_data"
    },
    {
     "name": "stderr",
     "output_type": "stream",
     "text": [
      "INFO flwr 2025-03-08 22:59:14,140 | 540151065.py:97 | Getting client with id 1\n"
     ]
    },
    {
     "data": {
      "text/html": [
       "<pre style=\"white-space:pre;overflow-x:auto;line-height:normal;font-family:Menlo,'DejaVu Sans Mono',consolas,'Courier New',monospace\"><span style=\"color: #7fbfbf; text-decoration-color: #7fbfbf\">                    </span><span style=\"color: #000080; text-decoration-color: #000080\">INFO    </span> Getting client with id <span style=\"color: #008080; text-decoration-color: #008080; font-weight: bold\">1</span>                                                       <a href=\"file:///tmp/ipykernel_602100/540151065.py\" target=\"_blank\"><span style=\"color: #7f7f7f; text-decoration-color: #7f7f7f\">flwr</span></a><span style=\"color: #7f7f7f; text-decoration-color: #7f7f7f\">:</span><a href=\"file:///tmp/ipykernel_602100/540151065.py#97\" target=\"_blank\"><span style=\"color: #7f7f7f; text-decoration-color: #7f7f7f\">97</span></a>\n",
       "</pre>\n"
      ],
      "text/plain": [
       "\u001b[2;36m                   \u001b[0m\u001b[2;36m \u001b[0m\u001b[34mINFO    \u001b[0m Getting client with id \u001b[1;36m1\u001b[0m                                                       \u001b]8;id=700576;file:///tmp/ipykernel_602100/540151065.py\u001b\\\u001b[2mflwr\u001b[0m\u001b]8;;\u001b\\\u001b[2m:\u001b[0m\u001b]8;id=365011;file:///tmp/ipykernel_602100/540151065.py#97\u001b\\\u001b[2m97\u001b[0m\u001b]8;;\u001b\\\n"
      ]
     },
     "metadata": {},
     "output_type": "display_data"
    },
    {
     "name": "stderr",
     "output_type": "stream",
     "text": [
      "INFO flwr 2025-03-08 22:59:14,144 | frank_flower_client.py:40 | cid: 178\n"
     ]
    },
    {
     "data": {
      "text/html": [
       "<pre style=\"white-space:pre;overflow-x:auto;line-height:normal;font-family:Menlo,'DejaVu Sans Mono',consolas,'Courier New',monospace\"><span style=\"color: #7fbfbf; text-decoration-color: #7fbfbf\">                    </span><span style=\"color: #000080; text-decoration-color: #000080\">INFO    </span> cid: <span style=\"color: #008080; text-decoration-color: #008080; font-weight: bold\">178</span>                                                                       <a href=\"file:///home/dawn/repos/c2m3-federated/c2m3/scripts/../../c2m3/flower/frank_flower_client.py\" target=\"_blank\"><span style=\"color: #7f7f7f; text-decoration-color: #7f7f7f\">flwr</span></a><span style=\"color: #7f7f7f; text-decoration-color: #7f7f7f\">:</span><a href=\"file:///home/dawn/repos/c2m3-federated/c2m3/scripts/../../c2m3/flower/frank_flower_client.py#40\" target=\"_blank\"><span style=\"color: #7f7f7f; text-decoration-color: #7f7f7f\">40</span></a>\n",
       "</pre>\n"
      ],
      "text/plain": [
       "\u001b[2;36m                   \u001b[0m\u001b[2;36m \u001b[0m\u001b[34mINFO    \u001b[0m cid: \u001b[1;36m178\u001b[0m                                                                       \u001b]8;id=773371;file:///home/dawn/repos/c2m3-federated/c2m3/scripts/../../c2m3/flower/frank_flower_client.py\u001b\\\u001b[2mflwr\u001b[0m\u001b]8;;\u001b\\\u001b[2m:\u001b[0m\u001b]8;id=838929;file:///home/dawn/repos/c2m3-federated/c2m3/scripts/../../c2m3/flower/frank_flower_client.py#40\u001b\\\u001b[2m40\u001b[0m\u001b]8;;\u001b\\\n"
      ]
     },
     "metadata": {},
     "output_type": "display_data"
    },
    {
     "name": "stdout",
     "output_type": "stream",
     "text": [
      "MARKER\n",
      "self.properties={'tensor_type': 'numpy.ndarray', 'partition': PosixPath('/home/dawn/repos/c2m3-federated/c2m3/scripts/../femnist/client_data_mappings/fed_natural'), 'cid': 178, 'train_loader': <torch.utils.data.dataloader.DataLoader object at 0x74ac5904cd30>}\n"
     ]
    },
    {
     "name": "stderr",
     "output_type": "stream",
     "text": [
      "INFO flwr 2025-03-08 22:59:15,855 | 1832891730.py:8 | Results of fitting the seed model on client 0:\n",
      "\t[13, {'train_loss': 0.012169109406666113}]\n"
     ]
    },
    {
     "data": {
      "text/html": [
       "<pre style=\"white-space:pre;overflow-x:auto;line-height:normal;font-family:Menlo,'DejaVu Sans Mono',consolas,'Courier New',monospace\"><span style=\"color: #7fbfbf; text-decoration-color: #7fbfbf\">2025-03-08 22:59:15 </span><span style=\"color: #000080; text-decoration-color: #000080\">INFO    </span> Results of fitting the seed model on client <span style=\"color: #008080; text-decoration-color: #008080; font-weight: bold\">0</span>:                                  <a href=\"file:///tmp/ipykernel_602100/1832891730.py\" target=\"_blank\"><span style=\"color: #7f7f7f; text-decoration-color: #7f7f7f\">flwr</span></a><span style=\"color: #7f7f7f; text-decoration-color: #7f7f7f\">:</span><a href=\"file:///tmp/ipykernel_602100/1832891730.py#8\" target=\"_blank\"><span style=\"color: #7f7f7f; text-decoration-color: #7f7f7f\">8</span></a>\n",
       "<span style=\"color: #7fbfbf; text-decoration-color: #7fbfbf\">                    </span>                 <span style=\"font-weight: bold\">[</span><span style=\"color: #008080; text-decoration-color: #008080; font-weight: bold\">13</span>, <span style=\"font-weight: bold\">{</span><span style=\"color: #008000; text-decoration-color: #008000\">'train_loss'</span>: <span style=\"color: #008080; text-decoration-color: #008080; font-weight: bold\">0.012169109406666113</span><span style=\"font-weight: bold\">}]</span>                              <span style=\"color: #7f7f7f; text-decoration-color: #7f7f7f\">      </span>\n",
       "</pre>\n"
      ],
      "text/plain": [
       "\u001b[2;36m2025-03-08 22:59:15\u001b[0m\u001b[2;36m \u001b[0m\u001b[34mINFO    \u001b[0m Results of fitting the seed model on client \u001b[1;36m0\u001b[0m:                                  \u001b]8;id=614242;file:///tmp/ipykernel_602100/1832891730.py\u001b\\\u001b[2mflwr\u001b[0m\u001b]8;;\u001b\\\u001b[2m:\u001b[0m\u001b]8;id=767447;file:///tmp/ipykernel_602100/1832891730.py#8\u001b\\\u001b[2m8\u001b[0m\u001b]8;;\u001b\\\n",
       "\u001b[2;36m                    \u001b[0m                 \u001b[1m[\u001b[0m\u001b[1;36m13\u001b[0m, \u001b[1m{\u001b[0m\u001b[32m'train_loss'\u001b[0m: \u001b[1;36m0.012169109406666113\u001b[0m\u001b[1m}\u001b[0m\u001b[1m]\u001b[0m                              \u001b[2m      \u001b[0m\n"
      ]
     },
     "metadata": {},
     "output_type": "display_data"
    },
    {
     "name": "stderr",
     "output_type": "stream",
     "text": [
      "100%|██████████| 2/2 [00:00<00:00, 85.73it/s]\n",
      "INFO flwr 2025-03-08 22:59:15,890 | 1832891730.py:11 | Results of model eval trained on client 0 on the test set of client 0:\n",
      "\t(3.6597142219543457, 2, {'local_accuracy': 0.6808510638297872})\n"
     ]
    },
    {
     "data": {
      "text/html": [
       "<pre style=\"white-space:pre;overflow-x:auto;line-height:normal;font-family:Menlo,'DejaVu Sans Mono',consolas,'Courier New',monospace\"><span style=\"color: #7fbfbf; text-decoration-color: #7fbfbf\">                    </span><span style=\"color: #000080; text-decoration-color: #000080\">INFO    </span> Results of model eval trained on client <span style=\"color: #008080; text-decoration-color: #008080; font-weight: bold\">0</span> on the test set of client <span style=\"color: #008080; text-decoration-color: #008080; font-weight: bold\">0</span>:         <a href=\"file:///tmp/ipykernel_602100/1832891730.py\" target=\"_blank\"><span style=\"color: #7f7f7f; text-decoration-color: #7f7f7f\">flwr</span></a><span style=\"color: #7f7f7f; text-decoration-color: #7f7f7f\">:</span><a href=\"file:///tmp/ipykernel_602100/1832891730.py#11\" target=\"_blank\"><span style=\"color: #7f7f7f; text-decoration-color: #7f7f7f\">11</span></a>\n",
       "<span style=\"color: #7fbfbf; text-decoration-color: #7fbfbf\">                    </span>                 <span style=\"font-weight: bold\">(</span><span style=\"color: #008080; text-decoration-color: #008080; font-weight: bold\">3.6597142219543457</span>, <span style=\"color: #008080; text-decoration-color: #008080; font-weight: bold\">2</span>, <span style=\"font-weight: bold\">{</span><span style=\"color: #008000; text-decoration-color: #008000\">'local_accuracy'</span>: <span style=\"color: #008080; text-decoration-color: #008080; font-weight: bold\">0.6808510638297872</span><span style=\"font-weight: bold\">})</span>        <span style=\"color: #7f7f7f; text-decoration-color: #7f7f7f\">       </span>\n",
       "</pre>\n"
      ],
      "text/plain": [
       "\u001b[2;36m                   \u001b[0m\u001b[2;36m \u001b[0m\u001b[34mINFO    \u001b[0m Results of model eval trained on client \u001b[1;36m0\u001b[0m on the test set of client \u001b[1;36m0\u001b[0m:         \u001b]8;id=665713;file:///tmp/ipykernel_602100/1832891730.py\u001b\\\u001b[2mflwr\u001b[0m\u001b]8;;\u001b\\\u001b[2m:\u001b[0m\u001b]8;id=827969;file:///tmp/ipykernel_602100/1832891730.py#11\u001b\\\u001b[2m11\u001b[0m\u001b]8;;\u001b\\\n",
       "\u001b[2;36m                    \u001b[0m                 \u001b[1m(\u001b[0m\u001b[1;36m3.6597142219543457\u001b[0m, \u001b[1;36m2\u001b[0m, \u001b[1m{\u001b[0m\u001b[32m'local_accuracy'\u001b[0m: \u001b[1;36m0.6808510638297872\u001b[0m\u001b[1m}\u001b[0m\u001b[1m)\u001b[0m        \u001b[2m       \u001b[0m\n"
      ]
     },
     "metadata": {},
     "output_type": "display_data"
    },
    {
     "name": "stdout",
     "output_type": "stream",
     "text": [
      "MARKER\n",
      "self.properties={'tensor_type': 'numpy.ndarray', 'partition': PosixPath('/home/dawn/repos/c2m3-federated/c2m3/scripts/../femnist/client_data_mappings/fed_natural'), 'cid': 178, 'train_loader': <torch.utils.data.dataloader.DataLoader object at 0x74ac5904d480>}\n"
     ]
    },
    {
     "name": "stderr",
     "output_type": "stream",
     "text": [
      "INFO flwr 2025-03-08 22:59:17,351 | 1832891730.py:20 | Results of fitting the seed model on client 1:\n",
      "\t[13, {'train_loss': 0.10809687410409634}]\n"
     ]
    },
    {
     "data": {
      "text/html": [
       "<pre style=\"white-space:pre;overflow-x:auto;line-height:normal;font-family:Menlo,'DejaVu Sans Mono',consolas,'Courier New',monospace\"><span style=\"color: #7fbfbf; text-decoration-color: #7fbfbf\">2025-03-08 22:59:17 </span><span style=\"color: #000080; text-decoration-color: #000080\">INFO    </span> Results of fitting the seed model on client <span style=\"color: #008080; text-decoration-color: #008080; font-weight: bold\">1</span>:                                 <a href=\"file:///tmp/ipykernel_602100/1832891730.py\" target=\"_blank\"><span style=\"color: #7f7f7f; text-decoration-color: #7f7f7f\">flwr</span></a><span style=\"color: #7f7f7f; text-decoration-color: #7f7f7f\">:</span><a href=\"file:///tmp/ipykernel_602100/1832891730.py#20\" target=\"_blank\"><span style=\"color: #7f7f7f; text-decoration-color: #7f7f7f\">20</span></a>\n",
       "<span style=\"color: #7fbfbf; text-decoration-color: #7fbfbf\">                    </span>                 <span style=\"font-weight: bold\">[</span><span style=\"color: #008080; text-decoration-color: #008080; font-weight: bold\">13</span>, <span style=\"font-weight: bold\">{</span><span style=\"color: #008000; text-decoration-color: #008000\">'train_loss'</span>: <span style=\"color: #008080; text-decoration-color: #008080; font-weight: bold\">0.10809687410409634</span><span style=\"font-weight: bold\">}]</span>                              <span style=\"color: #7f7f7f; text-decoration-color: #7f7f7f\">       </span>\n",
       "</pre>\n"
      ],
      "text/plain": [
       "\u001b[2;36m2025-03-08 22:59:17\u001b[0m\u001b[2;36m \u001b[0m\u001b[34mINFO    \u001b[0m Results of fitting the seed model on client \u001b[1;36m1\u001b[0m:                                 \u001b]8;id=598714;file:///tmp/ipykernel_602100/1832891730.py\u001b\\\u001b[2mflwr\u001b[0m\u001b]8;;\u001b\\\u001b[2m:\u001b[0m\u001b]8;id=614242;file:///tmp/ipykernel_602100/1832891730.py#20\u001b\\\u001b[2m20\u001b[0m\u001b]8;;\u001b\\\n",
       "\u001b[2;36m                    \u001b[0m                 \u001b[1m[\u001b[0m\u001b[1;36m13\u001b[0m, \u001b[1m{\u001b[0m\u001b[32m'train_loss'\u001b[0m: \u001b[1;36m0.10809687410409634\u001b[0m\u001b[1m}\u001b[0m\u001b[1m]\u001b[0m                              \u001b[2m       \u001b[0m\n"
      ]
     },
     "metadata": {},
     "output_type": "display_data"
    },
    {
     "name": "stderr",
     "output_type": "stream",
     "text": [
      "100%|██████████| 2/2 [00:00<00:00, 155.55it/s]\n",
      "INFO flwr 2025-03-08 22:59:17,375 | 1832891730.py:23 | Results of model eval trained on client 1 on the test set of client 1:\n",
      "\t(7.188218832015991, 2, {'local_accuracy': 0.2127659574468085})\n"
     ]
    },
    {
     "data": {
      "text/html": [
       "<pre style=\"white-space:pre;overflow-x:auto;line-height:normal;font-family:Menlo,'DejaVu Sans Mono',consolas,'Courier New',monospace\"><span style=\"color: #7fbfbf; text-decoration-color: #7fbfbf\">                    </span><span style=\"color: #000080; text-decoration-color: #000080\">INFO    </span> Results of model eval trained on client <span style=\"color: #008080; text-decoration-color: #008080; font-weight: bold\">1</span> on the test set of client <span style=\"color: #008080; text-decoration-color: #008080; font-weight: bold\">1</span>:         <a href=\"file:///tmp/ipykernel_602100/1832891730.py\" target=\"_blank\"><span style=\"color: #7f7f7f; text-decoration-color: #7f7f7f\">flwr</span></a><span style=\"color: #7f7f7f; text-decoration-color: #7f7f7f\">:</span><a href=\"file:///tmp/ipykernel_602100/1832891730.py#23\" target=\"_blank\"><span style=\"color: #7f7f7f; text-decoration-color: #7f7f7f\">23</span></a>\n",
       "<span style=\"color: #7fbfbf; text-decoration-color: #7fbfbf\">                    </span>                 <span style=\"font-weight: bold\">(</span><span style=\"color: #008080; text-decoration-color: #008080; font-weight: bold\">7.188218832015991</span>, <span style=\"color: #008080; text-decoration-color: #008080; font-weight: bold\">2</span>, <span style=\"font-weight: bold\">{</span><span style=\"color: #008000; text-decoration-color: #008000\">'local_accuracy'</span>: <span style=\"color: #008080; text-decoration-color: #008080; font-weight: bold\">0.2127659574468085</span><span style=\"font-weight: bold\">})</span>         <span style=\"color: #7f7f7f; text-decoration-color: #7f7f7f\">       </span>\n",
       "</pre>\n"
      ],
      "text/plain": [
       "\u001b[2;36m                   \u001b[0m\u001b[2;36m \u001b[0m\u001b[34mINFO    \u001b[0m Results of model eval trained on client \u001b[1;36m1\u001b[0m on the test set of client \u001b[1;36m1\u001b[0m:         \u001b]8;id=402343;file:///tmp/ipykernel_602100/1832891730.py\u001b\\\u001b[2mflwr\u001b[0m\u001b]8;;\u001b\\\u001b[2m:\u001b[0m\u001b]8;id=665713;file:///tmp/ipykernel_602100/1832891730.py#23\u001b\\\u001b[2m23\u001b[0m\u001b]8;;\u001b\\\n",
       "\u001b[2;36m                    \u001b[0m                 \u001b[1m(\u001b[0m\u001b[1;36m7.188218832015991\u001b[0m, \u001b[1;36m2\u001b[0m, \u001b[1m{\u001b[0m\u001b[32m'local_accuracy'\u001b[0m: \u001b[1;36m0.2127659574468085\u001b[0m\u001b[1m}\u001b[0m\u001b[1m)\u001b[0m         \u001b[2m       \u001b[0m\n"
      ]
     },
     "metadata": {},
     "output_type": "display_data"
    },
    {
     "name": "stderr",
     "output_type": "stream",
     "text": [
      "100%|██████████| 2/2 [00:00<00:00, 158.13it/s]\n",
      "INFO flwr 2025-03-08 22:59:17,397 | 1832891730.py:30 | Results of model eval trained on client 1 on the test set of client 0:\n",
      "\t(7.9663002490997314, 2, {'local_accuracy': 0.06382978723404255})\n"
     ]
    },
    {
     "data": {
      "text/html": [
       "<pre style=\"white-space:pre;overflow-x:auto;line-height:normal;font-family:Menlo,'DejaVu Sans Mono',consolas,'Courier New',monospace\"><span style=\"color: #7fbfbf; text-decoration-color: #7fbfbf\">                    </span><span style=\"color: #000080; text-decoration-color: #000080\">INFO    </span> Results of model eval trained on client <span style=\"color: #008080; text-decoration-color: #008080; font-weight: bold\">1</span> on the test set of client <span style=\"color: #008080; text-decoration-color: #008080; font-weight: bold\">0</span>:         <a href=\"file:///tmp/ipykernel_602100/1832891730.py\" target=\"_blank\"><span style=\"color: #7f7f7f; text-decoration-color: #7f7f7f\">flwr</span></a><span style=\"color: #7f7f7f; text-decoration-color: #7f7f7f\">:</span><a href=\"file:///tmp/ipykernel_602100/1832891730.py#30\" target=\"_blank\"><span style=\"color: #7f7f7f; text-decoration-color: #7f7f7f\">30</span></a>\n",
       "<span style=\"color: #7fbfbf; text-decoration-color: #7fbfbf\">                    </span>                 <span style=\"font-weight: bold\">(</span><span style=\"color: #008080; text-decoration-color: #008080; font-weight: bold\">7.9663002490997314</span>, <span style=\"color: #008080; text-decoration-color: #008080; font-weight: bold\">2</span>, <span style=\"font-weight: bold\">{</span><span style=\"color: #008000; text-decoration-color: #008000\">'local_accuracy'</span>: <span style=\"color: #008080; text-decoration-color: #008080; font-weight: bold\">0.06382978723404255</span><span style=\"font-weight: bold\">})</span>       <span style=\"color: #7f7f7f; text-decoration-color: #7f7f7f\">       </span>\n",
       "</pre>\n"
      ],
      "text/plain": [
       "\u001b[2;36m                   \u001b[0m\u001b[2;36m \u001b[0m\u001b[34mINFO    \u001b[0m Results of model eval trained on client \u001b[1;36m1\u001b[0m on the test set of client \u001b[1;36m0\u001b[0m:         \u001b]8;id=730983;file:///tmp/ipykernel_602100/1832891730.py\u001b\\\u001b[2mflwr\u001b[0m\u001b]8;;\u001b\\\u001b[2m:\u001b[0m\u001b]8;id=214901;file:///tmp/ipykernel_602100/1832891730.py#30\u001b\\\u001b[2m30\u001b[0m\u001b]8;;\u001b\\\n",
       "\u001b[2;36m                    \u001b[0m                 \u001b[1m(\u001b[0m\u001b[1;36m7.9663002490997314\u001b[0m, \u001b[1;36m2\u001b[0m, \u001b[1m{\u001b[0m\u001b[32m'local_accuracy'\u001b[0m: \u001b[1;36m0.06382978723404255\u001b[0m\u001b[1m}\u001b[0m\u001b[1m)\u001b[0m       \u001b[2m       \u001b[0m\n"
      ]
     },
     "metadata": {},
     "output_type": "display_data"
    },
    {
     "name": "stderr",
     "output_type": "stream",
     "text": [
      "100%|██████████| 2/2 [00:00<00:00, 164.62it/s]\n",
      "INFO flwr 2025-03-08 22:59:17,419 | 1832891730.py:37 | Results of model eval trained on client 0 on the test set of client 1:\n",
      "\t(172.61587524414062, 2, {'local_accuracy': 0.0})\n"
     ]
    },
    {
     "data": {
      "text/html": [
       "<pre style=\"white-space:pre;overflow-x:auto;line-height:normal;font-family:Menlo,'DejaVu Sans Mono',consolas,'Courier New',monospace\"><span style=\"color: #7fbfbf; text-decoration-color: #7fbfbf\">                    </span><span style=\"color: #000080; text-decoration-color: #000080\">INFO    </span> Results of model eval trained on client <span style=\"color: #008080; text-decoration-color: #008080; font-weight: bold\">0</span> on the test set of client <span style=\"color: #008080; text-decoration-color: #008080; font-weight: bold\">1</span>:         <a href=\"file:///tmp/ipykernel_602100/1832891730.py\" target=\"_blank\"><span style=\"color: #7f7f7f; text-decoration-color: #7f7f7f\">flwr</span></a><span style=\"color: #7f7f7f; text-decoration-color: #7f7f7f\">:</span><a href=\"file:///tmp/ipykernel_602100/1832891730.py#37\" target=\"_blank\"><span style=\"color: #7f7f7f; text-decoration-color: #7f7f7f\">37</span></a>\n",
       "<span style=\"color: #7fbfbf; text-decoration-color: #7fbfbf\">                    </span>                 <span style=\"font-weight: bold\">(</span><span style=\"color: #008080; text-decoration-color: #008080; font-weight: bold\">172.61587524414062</span>, <span style=\"color: #008080; text-decoration-color: #008080; font-weight: bold\">2</span>, <span style=\"font-weight: bold\">{</span><span style=\"color: #008000; text-decoration-color: #008000\">'local_accuracy'</span>: <span style=\"color: #008080; text-decoration-color: #008080; font-weight: bold\">0.0</span><span style=\"font-weight: bold\">})</span>                       <span style=\"color: #7f7f7f; text-decoration-color: #7f7f7f\">       </span>\n",
       "</pre>\n"
      ],
      "text/plain": [
       "\u001b[2;36m                   \u001b[0m\u001b[2;36m \u001b[0m\u001b[34mINFO    \u001b[0m Results of model eval trained on client \u001b[1;36m0\u001b[0m on the test set of client \u001b[1;36m1\u001b[0m:         \u001b]8;id=114597;file:///tmp/ipykernel_602100/1832891730.py\u001b\\\u001b[2mflwr\u001b[0m\u001b]8;;\u001b\\\u001b[2m:\u001b[0m\u001b]8;id=446156;file:///tmp/ipykernel_602100/1832891730.py#37\u001b\\\u001b[2m37\u001b[0m\u001b]8;;\u001b\\\n",
       "\u001b[2;36m                    \u001b[0m                 \u001b[1m(\u001b[0m\u001b[1;36m172.61587524414062\u001b[0m, \u001b[1;36m2\u001b[0m, \u001b[1m{\u001b[0m\u001b[32m'local_accuracy'\u001b[0m: \u001b[1;36m0.0\u001b[0m\u001b[1m}\u001b[0m\u001b[1m)\u001b[0m                       \u001b[2m       \u001b[0m\n"
      ]
     },
     "metadata": {},
     "output_type": "display_data"
    }
   ],
   "source": [
    "# Create clients\n",
    "client_0 = federated_mod_flower_client_generator(str(0))\n",
    "client_1 = federated_mod_flower_client_generator(str(1))\n",
    "# Fit client 0\n",
    "client_0_params, *rest = fit_client_seeded(\n",
    "    client_0, seed_model_mlp_params, train_config\n",
    ")\n",
    "log(INFO, f\"Results of fitting the seed model on client 0:\\n\\t{rest}\")\n",
    "# Evaluate client 0 on model trained on client 0\n",
    "client_0_res = client_0.evaluate(client_0_params, test_config)\n",
    "log(\n",
    "    INFO,\n",
    "    \"Results of model eval trained on client 0 on the test set of client 0:\\n\\t%s\",\n",
    "    client_0_res,\n",
    ")\n",
    "# Fit client 1\n",
    "client_1_params, *rest = fit_client_seeded(\n",
    "    client_1, seed_model_mlp_params, train_config\n",
    ")\n",
    "log(INFO, f\"Results of fitting the seed model on client 1:\\n\\t{rest}\")\n",
    "# Evaluate client 1 on model trained on client 1\n",
    "client_1_res = client_1.evaluate(client_1_params, test_config)\n",
    "log(\n",
    "    INFO,\n",
    "    \"Results of model eval trained on client 1 on the test set of client 1:\\n\\t%s\",\n",
    "    client_1_res,\n",
    ")\n",
    "# Evaluate client 0 on model trained on client 0\n",
    "client_0_res = client_0.evaluate(client_1_params, test_config)\n",
    "log(\n",
    "    INFO,\n",
    "    \"Results of model eval trained on client 1 on the test set of client 0:\\n\\t%s\",\n",
    "    client_0_res,\n",
    ")\n",
    "# Evaluate client 1 on model trained on client 1\n",
    "client_1_res = client_1.evaluate(client_0_params, test_config)\n",
    "log(\n",
    "    INFO,\n",
    "    \"Results of model eval trained on client 0 on the test set of client 1:\\n\\t%s\",\n",
    "    client_1_res,\n",
    ")"
   ]
  },
  {
   "cell_type": "markdown",
   "metadata": {
    "id": "T2I9CswibRCb"
   },
   "source": [
    "In the following cell, we will set up all the relevant methods and parameters to run an FL simulation.\n"
   ]
  },
  {
   "cell_type": "code",
   "execution_count": 12,
   "metadata": {
    "id": "9pEHYQedk8xW"
   },
   "outputs": [],
   "source": [
    "def _on_fit_config_fn(server_round: int) -> dict[str, Scalar]:\n",
    "    \"\"\"\n",
    "    Generate the training configuration for a given server round.\n",
    "\n",
    "    This function updates the global training configuration with the current server\n",
    "    round and returns the updated configuration.\n",
    "\n",
    "    Parameters\n",
    "    ----------\n",
    "    server_round : int\n",
    "        The current round of training on the server.\n",
    "\n",
    "    Returns\n",
    "    -------\n",
    "    dict[str, Scalar]\n",
    "        The updated training configuration dictionary.\n",
    "    \"\"\"\n",
    "    train_config.update({\"server_round\": server_round})\n",
    "    return train_config\n",
    "\n",
    "\n",
    "def _on_evaluate_config_fn(server_round: int) -> dict[str, Scalar]:\n",
    "    \"\"\"\n",
    "    Generate the evaluation configuration for a given server round.\n",
    "\n",
    "    This function updates the global evaluation configuration with the current server\n",
    "    round and returns the updated configuration.\n",
    "\n",
    "    Parameters\n",
    "    ----------\n",
    "    server_round : int\n",
    "        The current round of evaluation on the server.\n",
    "\n",
    "    Returns\n",
    "    -------\n",
    "    dict[str, Scalar]\n",
    "        The updated evaluation configuration dictionary.\n",
    "    \"\"\"\n",
    "    test_config.update({\"server_round\": server_round})\n",
    "    return test_config\n",
    "\n",
    "\n",
    "# NOTE: We don't need the `federated_evaluation_function`. We care about the\n",
    "# distributed accuracy, thus we skip centralised evaluation.\n",
    "strategy = FrankWolfeSync(\n",
    "    fraction_fit=sys.float_info.min,\n",
    "    fraction_evaluate=sys.float_info.min,\n",
    "    min_fit_clients=2,\n",
    "    min_evaluate_clients=2,\n",
    "    min_available_clients=2,\n",
    "    on_fit_config_fn=_on_fit_config_fn,\n",
    "    on_evaluate_config_fn=_on_evaluate_config_fn,\n",
    "    initial_parameters=ndarrays_to_parameters(seed_model_mlp_params),\n",
    "    accept_failures=False,\n",
    "    fit_metrics_aggregation_fn=aggregate_weighted_average,\n",
    "    evaluate_metrics_aggregation_fn=aggregate_weighted_average,\n",
    ")\n",
    "\n",
    "# strategy = FedAvg(\n",
    "#     fraction_fit=sys.float_info.min,\n",
    "#     fraction_evaluate=sys.float_info.min,\n",
    "#     min_fit_clients=2,\n",
    "#     min_evaluate_clients=2,\n",
    "#     min_available_clients=2,\n",
    "#     on_fit_config_fn=_on_fit_config_fn,\n",
    "#     on_evaluate_config_fn=_on_evaluate_config_fn,\n",
    "#     initial_parameters=ndarrays_to_parameters(seed_model_mlp_params),\n",
    "#     accept_failures=False,\n",
    "#     fit_metrics_aggregation_fn=aggregate_weighted_average,\n",
    "#     evaluate_metrics_aggregation_fn=aggregate_weighted_average,\n",
    "# )"
   ]
  },
  {
   "cell_type": "markdown",
   "metadata": {
    "id": "0mTgAc5yYVny"
   },
   "source": [
    "### 2.2 Label distribution skew\n",
    "---"
   ]
  },
  {
   "cell_type": "markdown",
   "metadata": {
    "id": "IE6yFy4sH79L"
   },
   "source": [
    "The flavour of data heterogeneity we are dealing with in this subsection is often called “prior probability shift\". In a few words, this occurs when, given a particular label, the distribution of samples having that label differs from client to client. In our running example, we can see whether in FEMNIST happens that different clients have drawn different distributions of symbols.\n",
    "We can think about what could happen to an FL training in this situation simplifying a bit the actors in a play. Let's imagine that the federation has a subset of clients (one client: client 0) that is the only one having a specific subset of labels (say letters). A global model trained using FedAvg on that federation won't ever be able to learn well the representation of that subset of labels (letters). There exist methods to mitigate this particular situation, but often they involve sharing statistics about local datasets, thus creating privacy concerns.\n",
    "\n",
    "We will select two clients, then we will plot the histogram of the labels for each of them on the same canvas. Thus, we will be able to evaluate whether there is a qualitative difference between the two.\n"
   ]
  },
  {
   "cell_type": "code",
   "execution_count": 13,
   "metadata": {
    "colab": {
     "base_uri": "https://localhost:8080/",
     "height": 282
    },
    "id": "CobK_i5-cwxI",
    "outputId": "876d5ead-de3b-4012-8e3f-810691e1c944"
   },
   "outputs": [
    {
     "data": {
      "text/plain": [
       "<matplotlib.legend.Legend at 0x74ac5904c1c0>"
      ]
     },
     "execution_count": 13,
     "metadata": {},
     "output_type": "execute_result"
    },
    {
     "data": {
      "image/png": "[encoded data removed]",
      "text/plain": [
       "<Figure size 640x480 with 1 Axes>"
      ]
     },
     "metadata": {},
     "output_type": "display_data"
    }
   ],
   "source": [
    "client_3000_dataset: FEMNIST = FEMNIST(\n",
    "    mapping=federated_partition / \"3000\", data_dir=data_dir, name=\"train\"\n",
    ")\n",
    "plt.hist(\n",
    "    [int(x[1]) for x in client_0_dataset],\n",
    "    bins=62,\n",
    "    color=\"blue\",\n",
    "    alpha=0.7,\n",
    "    label=\"client 0\",\n",
    ")\n",
    "plt.hist(\n",
    "    [int(x[1]) for x in client_3000_dataset],\n",
    "    bins=62,\n",
    "    color=\"orange\",\n",
    "    alpha=0.7,\n",
    "    label=\"client 3000\",\n",
    ")\n",
    "plt.legend()"
   ]
  },
  {
   "cell_type": "markdown",
   "metadata": {
    "id": "ZR7M2rpHJ5kO"
   },
   "source": [
    "### 2.3 Quantity skew\n",
    "---"
   ]
  },
  {
   "cell_type": "markdown",
   "metadata": {
    "id": "amXbWzGcIACk"
   },
   "source": [
    "The last kind of heterogeneity we will discuss in detail is the _quantity skew_, which occurs when clients possess different numbers of samples. Last, but not least, it is the most investigated property that real FL datasets have. Also called \"imbalancedness\", it has been tackled using many techniques spanning from data manipulation to optimization algorithm design. Even if the literature regarding such techniques is quite broad, relative to FL being a new topic of research, there is still not any agreement about how to deal with imbalancedness. Often different solutions have different accuracy depending on the task and how imbalanced the FL dataset is.\n",
    "\n",
    "Those of you that have well-trained observation skills may recall a plot in the last lab that spoiled this property. Now we'll try to get the global view of FEMNIST data from this perspective.\n"
   ]
  },
  {
   "cell_type": "code",
   "execution_count": 14,
   "metadata": {
    "colab": {
     "base_uri": "https://localhost:8080/",
     "height": 279
    },
    "id": "T-bzX0KvhZ5z",
    "outputId": "c4a7ee39-f56f-4db7-c9e3-ea89c905e7d6"
   },
   "outputs": [
    {
     "name": "stderr",
     "output_type": "stream",
     "text": [
      "/tmp/ipykernel_602100/2496043336.py:1: UserWarning: Ignoring `palette` because no `hue` variable has been assigned.\n",
      "  sns.histplot(\n"
     ]
    },
    {
     "data": {
      "image/png": "[encoded data removed]",
      "text/plain": [
       "<Figure size 640x480 with 1 Axes>"
      ]
     },
     "metadata": {},
     "output_type": "display_data"
    }
   ],
   "source": [
    "sns.histplot(\n",
    "    alpha=0.15,\n",
    "    legend=True,\n",
    "    data=[\n",
    "        len(\n",
    "            FEMNIST(\n",
    "                mapping=federated_partition / str(i), data_dir=data_dir, name=\"train\"\n",
    "            )\n",
    "        )\n",
    "        for i in range(3229)\n",
    "    ],\n",
    "    fill=True,\n",
    "    kde=True,\n",
    "    element=\"step\",\n",
    "    stat=\"density\",\n",
    "    common_norm=False,\n",
    "    common_bins=True,\n",
    "    cbar=True,\n",
    "    palette=\"dark\",\n",
    ")\n",
    "plt.xlabel(\"# samples\")\n",
    "plt.show()"
   ]
  },
  {
   "cell_type": "markdown",
   "metadata": {
    "id": "RFYZaMvAcaYV"
   },
   "source": [
    "## 3. The behaviour of FL under data heterogeneity/creating heterogeneous partitions\n",
    "---\n"
   ]
  },
  {
   "cell_type": "markdown",
   "metadata": {
    "id": "zemO_m5s2Bff"
   },
   "source": [
    "### FEMNIST folder structure\n",
    "---"
   ]
  },
  {
   "cell_type": "markdown",
   "metadata": {
    "id": "OsTGyV4ms_bm"
   },
   "source": [
    "By default, FEMNIST will be split as follows:\n",
    "\n",
    "- `femnist`: the location of the relevant data\n",
    "  - `client_data_mappings`: contains different partitions\n",
    "    - `centralized`: mappings from writer_id -> `[image_path, label]` for the centralized dataset\n",
    "    - `fed_natural`: mappings from writer_id -> `[image_path, label]` for the naturally federated dataset\n",
    "  - `data`: contains the macro partitions between test, train, and val\n",
    "    - `train`: contains the raw images---samples of the train set\n",
    "    - `test`: contains the raw images---samples of the test set\n",
    "    - `val`: contains the raw images---samples of the val set\n",
    "- `femnist.tar.gz`: the compressed dataset\n",
    "\n",
    "We will store client datasets in sequentially labelled folders within each partition and do all necessary remapping in python.\n"
   ]
  },
  {
   "cell_type": "markdown",
   "metadata": {
    "id": "O_QqLvPZ2Bff"
   },
   "source": [
    "### Test sets for FL\n",
    "---"
   ]
  },
  {
   "cell_type": "markdown",
   "metadata": {
    "id": "VhsBuoiOtDzE"
   },
   "source": [
    "Prior to constructing our centralized partition, it is necessary to discuss what a test set even means for FL.\n",
    "\n",
    "A testing set can generally be either a **federated test set** or a **local test set**:\n",
    "\n",
    "- A federated test set contains data representative of the entire federated network and is used to provide a form of centralized-like evaluation of the federated model. In production scenarios, this would be data that has been consensually gathered from a multitude of users and is legal/efficient to store on the server or clients which have been kept out of the training loop. For research purposes it can be constructed in one of the two following ways:\n",
    "  - Take x% of data from all clients and save it separately.\n",
    "  - Leave y% of clients utterly unavailable for federated training and use their data as a test/validation set. **This is the version we shall use during the lab for the federated test set.**\n",
    "- A local test set is formed via data from a specific client which has not been seen during training. There are as many local test sets as there are clients. As such, they can be used to test the model on a specific client or to accumulate average statistics to determine its performance.\n"
   ]
  },
  {
   "cell_type": "markdown",
   "metadata": {
    "id": "8XBPXfzPtkJe"
   },
   "source": [
    "#### Class imbalancedness\n",
    "---"
   ]
  },
  {
   "cell_type": "markdown",
   "metadata": {
    "id": "xEzJSW4TvEmK"
   },
   "source": [
    "We will start creating class imbalanced partitions. The most representative example, as often happens, is the extreme one. Thus, we are going to create a partition of the dataset in which each client possesses one class only. This aim sets one parameter for the creation of the current partition, but we need to choose also another parameter: the number of clients we want to create or the number of samples per client that we want to infer. These last are two antagonist parameters that describe the same thing. The larger the number of clients is, the lower the number of samples per client is.\n",
    "\n",
    "Let's start by looking at how labels are distributed in the entire dataset (test set only), by treating the dataset as centralized.\n"
   ]
  },
  {
   "cell_type": "code",
   "execution_count": 15,
   "metadata": {
    "colab": {
     "base_uri": "https://localhost:8080/",
     "height": 337
    },
    "id": "yLEQJLkjwM4u",
    "outputId": "704b99b0-a234-4327-e692-43531e1ce524"
   },
   "outputs": [
    {
     "data": {
      "text/plain": [
       "<matplotlib.legend.Legend at 0x74ac585e1d50>"
      ]
     },
     "execution_count": 15,
     "metadata": {},
     "output_type": "execute_result"
    },
    {
     "data": {
      "image/png": "[encoded data removed]",
      "text/plain": [
       "<Figure size 1000x500 with 2 Axes>"
      ]
     },
     "metadata": {},
     "output_type": "display_data"
    }
   ],
   "source": [
    "centralized_train_dataset: FEMNIST = FEMNIST(\n",
    "    mapping=centralized_partition / \"0\", data_dir=data_dir, name=\"train\"\n",
    ")\n",
    "centralized_test_dataset: FEMNIST = FEMNIST(\n",
    "    mapping=centralized_partition / \"0\", data_dir=data_dir, name=\"test\"\n",
    ")\n",
    "fig, ax = plt.subplots(1, 2, figsize=(10, 5))\n",
    "train_histo = ax[0].hist(\n",
    "    [int(x[1]) for x in centralized_train_dataset.data],\n",
    "    bins=62,\n",
    "    color=\"blue\",\n",
    "    alpha=0.7,\n",
    "    label=\"centralized train dataset\",\n",
    ")\n",
    "test_histo = ax[1].hist(\n",
    "    [int(x[1]) for x in centralized_test_dataset.data],\n",
    "    bins=62,\n",
    "    color=\"orange\",\n",
    "    alpha=0.7,\n",
    "    label=\"centralized test dataset\",\n",
    ")\n",
    "ax[0].legend()\n",
    "ax[1].legend()"
   ]
  },
  {
   "cell_type": "markdown",
   "metadata": {
    "id": "0AWfsLZo9jmi"
   },
   "source": [
    "Since the distribution is all but uniform, we need to make a further choice. We want to build a federation of 62 clients each of them having one class only. We want all the classes to be represented in the federation. Likewise, we also want FedAvg to treat equally all the clients in the federation. Thus, we will need to partition clients taking into account the population of the least represented class in both the `train` and the `test` set.\n"
   ]
  },
  {
   "cell_type": "code",
   "execution_count": 16,
   "metadata": {
    "colab": {
     "base_uri": "https://localhost:8080/"
    },
    "id": "1_yGo1zI9UyA",
    "outputId": "dc57594b-63b0-46e5-e59b-3902ac8e29f8"
   },
   "outputs": [
    {
     "name": "stderr",
     "output_type": "stream",
     "text": [
      "INFO flwr 2025-03-08 22:59:29,849 | 3870438806.py:1 | The least represented class in the train set has 1786.0 samples\n"
     ]
    },
    {
     "data": {
      "text/html": [
       "<pre style=\"white-space:pre;overflow-x:auto;line-height:normal;font-family:Menlo,'DejaVu Sans Mono',consolas,'Courier New',monospace\"><span style=\"color: #7fbfbf; text-decoration-color: #7fbfbf\">2025-03-08 22:59:29 </span><span style=\"color: #000080; text-decoration-color: #000080\">INFO    </span> The least represented class in the train set has <span style=\"color: #008080; text-decoration-color: #008080; font-weight: bold\">1786.0</span> samples                 <a href=\"file:///tmp/ipykernel_602100/3870438806.py\" target=\"_blank\"><span style=\"color: #7f7f7f; text-decoration-color: #7f7f7f\">flwr</span></a><span style=\"color: #7f7f7f; text-decoration-color: #7f7f7f\">:</span><a href=\"file:///tmp/ipykernel_602100/3870438806.py#1\" target=\"_blank\"><span style=\"color: #7f7f7f; text-decoration-color: #7f7f7f\">1</span></a>\n",
       "</pre>\n"
      ],
      "text/plain": [
       "\u001b[2;36m2025-03-08 22:59:29\u001b[0m\u001b[2;36m \u001b[0m\u001b[34mINFO    \u001b[0m The least represented class in the train set has \u001b[1;36m1786.0\u001b[0m samples                 \u001b]8;id=733173;file:///tmp/ipykernel_602100/3870438806.py\u001b\\\u001b[2mflwr\u001b[0m\u001b]8;;\u001b\\\u001b[2m:\u001b[0m\u001b]8;id=700576;file:///tmp/ipykernel_602100/3870438806.py#1\u001b\\\u001b[2m1\u001b[0m\u001b]8;;\u001b\\\n"
      ]
     },
     "metadata": {},
     "output_type": "display_data"
    },
    {
     "name": "stderr",
     "output_type": "stream",
     "text": [
      "INFO flwr 2025-03-08 22:59:29,854 | 3870438806.py:6 | The least represented class in the test set has 233.0 samples\n"
     ]
    },
    {
     "data": {
      "text/html": [
       "<pre style=\"white-space:pre;overflow-x:auto;line-height:normal;font-family:Menlo,'DejaVu Sans Mono',consolas,'Courier New',monospace\"><span style=\"color: #7fbfbf; text-decoration-color: #7fbfbf\">                    </span><span style=\"color: #000080; text-decoration-color: #000080\">INFO    </span> The least represented class in the test set has <span style=\"color: #008080; text-decoration-color: #008080; font-weight: bold\">233.0</span> samples                   <a href=\"file:///tmp/ipykernel_602100/3870438806.py\" target=\"_blank\"><span style=\"color: #7f7f7f; text-decoration-color: #7f7f7f\">flwr</span></a><span style=\"color: #7f7f7f; text-decoration-color: #7f7f7f\">:</span><a href=\"file:///tmp/ipykernel_602100/3870438806.py#6\" target=\"_blank\"><span style=\"color: #7f7f7f; text-decoration-color: #7f7f7f\">6</span></a>\n",
       "</pre>\n"
      ],
      "text/plain": [
       "\u001b[2;36m                   \u001b[0m\u001b[2;36m \u001b[0m\u001b[34mINFO    \u001b[0m The least represented class in the test set has \u001b[1;36m233.0\u001b[0m samples                   \u001b]8;id=773371;file:///tmp/ipykernel_602100/3870438806.py\u001b\\\u001b[2mflwr\u001b[0m\u001b]8;;\u001b\\\u001b[2m:\u001b[0m\u001b]8;id=838929;file:///tmp/ipykernel_602100/3870438806.py#6\u001b\\\u001b[2m6\u001b[0m\u001b]8;;\u001b\\\n"
      ]
     },
     "metadata": {},
     "output_type": "display_data"
    }
   ],
   "source": [
    "log(\n",
    "    INFO,\n",
    "    \"The least represented class in the train set has %s samples\",\n",
    "    min(train_histo[0]),\n",
    ")\n",
    "log(\n",
    "    INFO,\n",
    "    \"The least represented class in the test set has %s samples\",\n",
    "    min(test_histo[0]),\n",
    ")\n",
    "max_train_samples = int(min(train_histo[0]))\n",
    "max_test_samples = int(min(test_histo[0]))"
   ]
  },
  {
   "cell_type": "markdown",
   "metadata": {
    "id": "OuvZvcU3_eq0"
   },
   "source": [
    "Let's now create the function that creates the partition. We will stick to the folder structure the dataset has.\n"
   ]
  },
  {
   "cell_type": "code",
   "execution_count": 17,
   "metadata": {
    "id": "fvJS4NX5_r-F"
   },
   "outputs": [],
   "source": [
    "class_imbalanced_partition: Path = (\n",
    "    dataset_dir / \"client_data_mappings\" / \"class_imbalanced\"\n",
    ")\n",
    "# class_imbalanced_partition.mkdir(parents=True, exist_ok=True)\n",
    "# train_df = pd.read_csv(centralized_mapping / \"train.csv\")\n",
    "# test_df = pd.read_csv(centralized_mapping / \"test.csv\")\n",
    "# max_train_samples = 200\n",
    "# max_test_samples = 50\n",
    "# for i in range(62):\n",
    "#     folder_path: Path = class_imbalanced_partition / str(i)\n",
    "#     folder_path.mkdir(parents=True, exist_ok=True)\n",
    "\n",
    "#     train_path: Path = folder_path / \"train.csv\"\n",
    "#     test_path: Path = folder_path / \"test.csv\"\n",
    "\n",
    "#     client_df = deepcopy(\n",
    "#         train_df[train_df.label == i].sample(frac=1)[:max_train_samples]\n",
    "#     ).reset_index()\n",
    "#     client_df[\"client_id\"] = i\n",
    "#     client_df = client_df.drop(columns=[\"level_0\"])\n",
    "#     client_df.to_csv(train_path, index=False)\n",
    "#     client_df = deepcopy(\n",
    "#         test_df[test_df.label == i].sample(frac=1)[:max_test_samples]\n",
    "#     ).reset_index()\n",
    "#     client_df[\"client_id\"] = i\n",
    "#     client_df = client_df.drop(columns=[\"level_0\"])\n",
    "#     client_df.to_csv(test_path, index=False)"
   ]
  },
  {
   "cell_type": "markdown",
   "metadata": {},
   "source": [
    "Here, we seed the initial model parameters to come from a partially trained model on the centralized dataset.\n"
   ]
  },
  {
   "cell_type": "code",
   "execution_count": 18,
   "metadata": {
    "id": "z0Bj3btM9llx"
   },
   "outputs": [
    {
     "name": "stderr",
     "output_type": "stream",
     "text": [
      "INFO flwr 2025-03-08 22:59:29,883 | frank_flower_client.py:40 | cid: 0\n"
     ]
    },
    {
     "data": {
      "text/html": [
       "<pre style=\"white-space:pre;overflow-x:auto;line-height:normal;font-family:Menlo,'DejaVu Sans Mono',consolas,'Courier New',monospace\"><span style=\"color: #7fbfbf; text-decoration-color: #7fbfbf\">                    </span><span style=\"color: #000080; text-decoration-color: #000080\">INFO    </span> cid: <span style=\"color: #008080; text-decoration-color: #008080; font-weight: bold\">0</span>                                                                         <a href=\"file:///home/dawn/repos/c2m3-federated/c2m3/scripts/../../c2m3/flower/frank_flower_client.py\" target=\"_blank\"><span style=\"color: #7f7f7f; text-decoration-color: #7f7f7f\">flwr</span></a><span style=\"color: #7f7f7f; text-decoration-color: #7f7f7f\">:</span><a href=\"file:///home/dawn/repos/c2m3-federated/c2m3/scripts/../../c2m3/flower/frank_flower_client.py#40\" target=\"_blank\"><span style=\"color: #7f7f7f; text-decoration-color: #7f7f7f\">40</span></a>\n",
       "</pre>\n"
      ],
      "text/plain": [
       "\u001b[2;36m                   \u001b[0m\u001b[2;36m \u001b[0m\u001b[34mINFO    \u001b[0m cid: \u001b[1;36m0\u001b[0m                                                                         \u001b]8;id=370325;file:///home/dawn/repos/c2m3-federated/c2m3/scripts/../../c2m3/flower/frank_flower_client.py\u001b\\\u001b[2mflwr\u001b[0m\u001b]8;;\u001b\\\u001b[2m:\u001b[0m\u001b]8;id=623333;file:///home/dawn/repos/c2m3-federated/c2m3/scripts/../../c2m3/flower/frank_flower_client.py#40\u001b\\\u001b[2m40\u001b[0m\u001b]8;;\u001b\\\n"
      ]
     },
     "metadata": {},
     "output_type": "display_data"
    },
    {
     "name": "stdout",
     "output_type": "stream",
     "text": [
      "MARKER\n",
      "self.properties={'tensor_type': 'numpy.ndarray', 'partition': PosixPath('/home/dawn/repos/c2m3-federated/c2m3/scripts/../femnist/client_data_mappings/centralized'), 'cid': 0, 'train_loader': <torch.utils.data.dataloader.DataLoader object at 0x74ac4d6b7e80>}\n"
     ]
    }
   ],
   "source": [
    "torch.manual_seed(Seeds.DEFAULT)\n",
    "network_generator_cnn = get_network_generator_cnn()\n",
    "seed_net_cnn = network_generator_cnn()\n",
    "centralized_flower_client_generator: Callable[[str], FlowerClient] = (\n",
    "    get_frank_flower_client_generator(\n",
    "        model_generator=network_generator_cnn,\n",
    "        partition_dir=centralized_partition,\n",
    "        data_dir=data_dir,\n",
    "    )\n",
    ")\n",
    "centralized_flower_client = centralized_flower_client_generator(str(0))\n",
    "centralized_train_config: dict[str, Any] = {\n",
    "    \"epochs\": 1,\n",
    "    \"batch_size\": 32,\n",
    "    \"client_learning_rate\": 0.01,\n",
    "    \"weight_decay\": 0.001,\n",
    "    \"num_workers\": 0,\n",
    "    \"max_batches\": 1000,\n",
    "}\n",
    "test_config: dict[str, Any] = {\n",
    "    \"batch_size\": 32,\n",
    "    \"num_workers\": 0,\n",
    "    \"max_batches\": None,\n",
    "}\n",
    "# Train parameters on the centralised dataset\n",
    "trained_params, num_examples, train_metrics = fit_client_seeded(\n",
    "    centralized_flower_client,\n",
    "    params=get_model_parameters(seed_net_cnn),\n",
    "    conf=centralized_train_config,\n",
    ")\n",
    "initial_parameters: Parameters = ndarrays_to_parameters(trained_params)"
   ]
  },
  {
   "cell_type": "markdown",
   "metadata": {},
   "source": [
    "We also create the centralised evaluation function that will be executed by the server at the end of every round if requested.\n"
   ]
  },
  {
   "cell_type": "code",
   "execution_count": 19,
   "metadata": {
    "id": "pRiXe-eU9m4u"
   },
   "outputs": [
    {
     "name": "stderr",
     "output_type": "stream",
     "text": [
      "INFO flwr 2025-03-08 22:59:48,266 | client_utils.py:463 | Reduced federated test_set size from 28510 to a size of 1500 mean index: 14726.628666666667\n"
     ]
    },
    {
     "data": {
      "text/html": [
       "<pre style=\"white-space:pre;overflow-x:auto;line-height:normal;font-family:Menlo,'DejaVu Sans Mono',consolas,'Courier New',monospace\"><span style=\"color: #7fbfbf; text-decoration-color: #7fbfbf\">2025-03-08 22:59:48 </span><span style=\"color: #000080; text-decoration-color: #000080\">INFO    </span> Reduced federated test_set size from <span style=\"color: #008080; text-decoration-color: #008080; font-weight: bold\">28510</span> to a size of <span style=\"color: #008080; text-decoration-color: #008080; font-weight: bold\">1500</span> mean index:      <a href=\"file:///home/dawn/repos/c2m3-federated/c2m3/scripts/../../c2m3/common/client_utils.py\" target=\"_blank\"><span style=\"color: #7f7f7f; text-decoration-color: #7f7f7f\">flwr</span></a><span style=\"color: #7f7f7f; text-decoration-color: #7f7f7f\">:</span><a href=\"file:///home/dawn/repos/c2m3-federated/c2m3/scripts/../../c2m3/common/client_utils.py#463\" target=\"_blank\"><span style=\"color: #7f7f7f; text-decoration-color: #7f7f7f\">463</span></a>\n",
       "<span style=\"color: #7fbfbf; text-decoration-color: #7fbfbf\">                    </span>         <span style=\"color: #008080; text-decoration-color: #008080; font-weight: bold\">14726.628666666667</span>                                                            <span style=\"color: #7f7f7f; text-decoration-color: #7f7f7f\">        </span>\n",
       "</pre>\n"
      ],
      "text/plain": [
       "\u001b[2;36m2025-03-08 22:59:48\u001b[0m\u001b[2;36m \u001b[0m\u001b[34mINFO    \u001b[0m Reduced federated test_set size from \u001b[1;36m28510\u001b[0m to a size of \u001b[1;36m1500\u001b[0m mean index:      \u001b]8;id=614242;file:///home/dawn/repos/c2m3-federated/c2m3/scripts/../../c2m3/common/client_utils.py\u001b\\\u001b[2mflwr\u001b[0m\u001b]8;;\u001b\\\u001b[2m:\u001b[0m\u001b]8;id=767447;file:///home/dawn/repos/c2m3-federated/c2m3/scripts/../../c2m3/common/client_utils.py#463\u001b\\\u001b[2m463\u001b[0m\u001b]8;;\u001b\\\n",
       "\u001b[2;36m                    \u001b[0m         \u001b[1;36m14726.628666666667\u001b[0m                                                            \u001b[2m        \u001b[0m\n"
      ]
     },
     "metadata": {},
     "output_type": "display_data"
    }
   ],
   "source": [
    "federated_evaluation_function = get_federated_evaluation_function(\n",
    "    data_dir=data_dir,\n",
    "    centralized_mapping=centralized_mapping,\n",
    "    device=get_device(),\n",
    "    batch_size=test_config[\"batch_size\"],\n",
    "    num_workers=test_config[\"num_workers\"],\n",
    "    model_generator=network_generator_cnn,\n",
    "    criterion=nn.CrossEntropyLoss(),\n",
    ")"
   ]
  },
  {
   "cell_type": "markdown",
   "metadata": {},
   "source": [
    "Finally, the client generator function.\n"
   ]
  },
  {
   "cell_type": "code",
   "execution_count": 20,
   "metadata": {
    "id": "Z0Ohncc3DLJG"
   },
   "outputs": [],
   "source": [
    "imbalanced_flower_client_generator: Callable[[str], FlowerClient] = (\n",
    "    get_frank_flower_client_generator(\n",
    "        model_generator=network_generator_cnn,\n",
    "        data_dir=data_dir,\n",
    "        partition_dir=class_imbalanced_partition,\n",
    "    )\n",
    ")"
   ]
  },
  {
   "cell_type": "code",
   "execution_count": 21,
   "metadata": {},
   "outputs": [
    {
     "name": "stderr",
     "output_type": "stream",
     "text": [
      "INFO flwr 2025-03-08 22:59:48,286 | frank_flower_client.py:40 | cid: 1\n"
     ]
    },
    {
     "data": {
      "text/html": [
       "<pre style=\"white-space:pre;overflow-x:auto;line-height:normal;font-family:Menlo,'DejaVu Sans Mono',consolas,'Courier New',monospace\"><span style=\"color: #7fbfbf; text-decoration-color: #7fbfbf\">                    </span><span style=\"color: #000080; text-decoration-color: #000080\">INFO    </span> cid: <span style=\"color: #008080; text-decoration-color: #008080; font-weight: bold\">1</span>                                                                         <a href=\"file:///home/dawn/repos/c2m3-federated/c2m3/scripts/../../c2m3/flower/frank_flower_client.py\" target=\"_blank\"><span style=\"color: #7f7f7f; text-decoration-color: #7f7f7f\">flwr</span></a><span style=\"color: #7f7f7f; text-decoration-color: #7f7f7f\">:</span><a href=\"file:///home/dawn/repos/c2m3-federated/c2m3/scripts/../../c2m3/flower/frank_flower_client.py#40\" target=\"_blank\"><span style=\"color: #7f7f7f; text-decoration-color: #7f7f7f\">40</span></a>\n",
       "</pre>\n"
      ],
      "text/plain": [
       "\u001b[2;36m                   \u001b[0m\u001b[2;36m \u001b[0m\u001b[34mINFO    \u001b[0m cid: \u001b[1;36m1\u001b[0m                                                                         \u001b]8;id=402343;file:///home/dawn/repos/c2m3-federated/c2m3/scripts/../../c2m3/flower/frank_flower_client.py\u001b\\\u001b[2mflwr\u001b[0m\u001b]8;;\u001b\\\u001b[2m:\u001b[0m\u001b]8;id=665713;file:///home/dawn/repos/c2m3-federated/c2m3/scripts/../../c2m3/flower/frank_flower_client.py#40\u001b\\\u001b[2m40\u001b[0m\u001b]8;;\u001b\\\n"
      ]
     },
     "metadata": {},
     "output_type": "display_data"
    },
    {
     "name": "stdout",
     "output_type": "stream",
     "text": [
      "<function to_tensor_transform at 0x74ac5e8b2e60>\n"
     ]
    }
   ],
   "source": [
    "train_dataset_client_0 = imbalanced_flower_client_generator(str(1))._load_dataset(\n",
    "    \"train\"\n",
    ")\n",
    "# [int(x[1]) for x in train_dataset_client_0.data]\n",
    "print(train_dataset_client_0.target_transform)"
   ]
  },
  {
   "cell_type": "markdown",
   "metadata": {},
   "source": [
    "Let's see how these clients look like.\n"
   ]
  },
  {
   "cell_type": "code",
   "execution_count": 22,
   "metadata": {},
   "outputs": [
    {
     "name": "stderr",
     "output_type": "stream",
     "text": [
      "INFO flwr 2025-03-08 22:59:48,299 | frank_flower_client.py:40 | cid: 0\n"
     ]
    },
    {
     "data": {
      "text/html": [
       "<pre style=\"white-space:pre;overflow-x:auto;line-height:normal;font-family:Menlo,'DejaVu Sans Mono',consolas,'Courier New',monospace\"><span style=\"color: #7fbfbf; text-decoration-color: #7fbfbf\">                    </span><span style=\"color: #000080; text-decoration-color: #000080\">INFO    </span> cid: <span style=\"color: #008080; text-decoration-color: #008080; font-weight: bold\">0</span>                                                                         <a href=\"file:///home/dawn/repos/c2m3-federated/c2m3/scripts/../../c2m3/flower/frank_flower_client.py\" target=\"_blank\"><span style=\"color: #7f7f7f; text-decoration-color: #7f7f7f\">flwr</span></a><span style=\"color: #7f7f7f; text-decoration-color: #7f7f7f\">:</span><a href=\"file:///home/dawn/repos/c2m3-federated/c2m3/scripts/../../c2m3/flower/frank_flower_client.py#40\" target=\"_blank\"><span style=\"color: #7f7f7f; text-decoration-color: #7f7f7f\">40</span></a>\n",
       "</pre>\n"
      ],
      "text/plain": [
       "\u001b[2;36m                   \u001b[0m\u001b[2;36m \u001b[0m\u001b[34mINFO    \u001b[0m cid: \u001b[1;36m0\u001b[0m                                                                         \u001b]8;id=410571;file:///home/dawn/repos/c2m3-federated/c2m3/scripts/../../c2m3/flower/frank_flower_client.py\u001b\\\u001b[2mflwr\u001b[0m\u001b]8;;\u001b\\\u001b[2m:\u001b[0m\u001b]8;id=730983;file:///home/dawn/repos/c2m3-federated/c2m3/scripts/../../c2m3/flower/frank_flower_client.py#40\u001b\\\u001b[2m40\u001b[0m\u001b]8;;\u001b\\\n"
      ]
     },
     "metadata": {},
     "output_type": "display_data"
    },
    {
     "name": "stderr",
     "output_type": "stream",
     "text": [
      "INFO flwr 2025-03-08 22:59:48,349 | frank_flower_client.py:40 | cid: 1\n"
     ]
    },
    {
     "data": {
      "text/html": [
       "<pre style=\"white-space:pre;overflow-x:auto;line-height:normal;font-family:Menlo,'DejaVu Sans Mono',consolas,'Courier New',monospace\"><span style=\"color: #7fbfbf; text-decoration-color: #7fbfbf\">                    </span><span style=\"color: #000080; text-decoration-color: #000080\">INFO    </span> cid: <span style=\"color: #008080; text-decoration-color: #008080; font-weight: bold\">1</span>                                                                         <a href=\"file:///home/dawn/repos/c2m3-federated/c2m3/scripts/../../c2m3/flower/frank_flower_client.py\" target=\"_blank\"><span style=\"color: #7f7f7f; text-decoration-color: #7f7f7f\">flwr</span></a><span style=\"color: #7f7f7f; text-decoration-color: #7f7f7f\">:</span><a href=\"file:///home/dawn/repos/c2m3-federated/c2m3/scripts/../../c2m3/flower/frank_flower_client.py#40\" target=\"_blank\"><span style=\"color: #7f7f7f; text-decoration-color: #7f7f7f\">40</span></a>\n",
       "</pre>\n"
      ],
      "text/plain": [
       "\u001b[2;36m                   \u001b[0m\u001b[2;36m \u001b[0m\u001b[34mINFO    \u001b[0m cid: \u001b[1;36m1\u001b[0m                                                                         \u001b]8;id=956621;file:///home/dawn/repos/c2m3-federated/c2m3/scripts/../../c2m3/flower/frank_flower_client.py\u001b\\\u001b[2mflwr\u001b[0m\u001b]8;;\u001b\\\u001b[2m:\u001b[0m\u001b]8;id=382597;file:///home/dawn/repos/c2m3-federated/c2m3/scripts/../../c2m3/flower/frank_flower_client.py#40\u001b\\\u001b[2m40\u001b[0m\u001b]8;;\u001b\\\n"
      ]
     },
     "metadata": {},
     "output_type": "display_data"
    },
    {
     "data": {
      "text/plain": [
       "<matplotlib.legend.Legend at 0x74ac5407db70>"
      ]
     },
     "execution_count": 22,
     "metadata": {},
     "output_type": "execute_result"
    },
    {
     "data": {
      "image/png": "[encoded data removed]",
      "text/plain": [
       "<Figure size 640x480 with 1 Axes>"
      ]
     },
     "metadata": {},
     "output_type": "display_data"
    }
   ],
   "source": [
    "N_CLASSES = 62\n",
    "train_dataset_client_0 = imbalanced_flower_client_generator(str(0))._load_dataset(\n",
    "    \"train\"\n",
    ")\n",
    "plt.hist(\n",
    "    [int(x[1]) for x in train_dataset_client_0.data],\n",
    "    bins=N_CLASSES,\n",
    "    color=\"blue\",\n",
    "    alpha=0.7,\n",
    "    label=\"client 0 train set\",\n",
    ")\n",
    "train_dataset_client_1 = imbalanced_flower_client_generator(str(1))._load_dataset(\n",
    "    \"train\"\n",
    ")\n",
    "plt.hist(\n",
    "    [int(x[1]) for x in train_dataset_client_1.data],\n",
    "    bins=N_CLASSES,\n",
    "    color=\"orange\",\n",
    "    alpha=0.7,\n",
    "    label=\"client 1 train set\",\n",
    ")\n",
    "plt.legend()"
   ]
  },
  {
   "cell_type": "markdown",
   "metadata": {},
   "source": [
    "We will now create a wrapper for the strategy that will be used to extract the clients' model parameters obtained during the training for the next question.\n"
   ]
  },
  {
   "cell_type": "code",
   "execution_count": 23,
   "metadata": {},
   "outputs": [],
   "source": [
    "class WrappedFrankWolfeSync(FrankWolfeSync):\n",
    "    \"\"\"Wrap the FrankWolfeSync strategy to store clients' models.\"\"\"\n",
    "\n",
    "    clients_models: ClassVar[dict[int, list[tuple[int, NDArrays]]]] = {}\n",
    "    global_models: dict[int, list[tuple[int, NDArrays]]] = {}\n",
    "\n",
    "    def aggregate_fit(\n",
    "        self,\n",
    "        server_round: int,\n",
    "        results: list[tuple[ClientProxy, FitRes]],\n",
    "        failures: list[tuple[ClientProxy, FitRes] | BaseException],\n",
    "    ) -> tuple[Parameters | None, dict[str, Scalar]]:\n",
    "        \"\"\"Aggregate fit results using weighted average.\"\"\"\n",
    "        # Call FedAvg original aggregate_fit, so that it handles the failures\n",
    "        ret = super().aggregate_fit(server_round, results, failures)\n",
    "        # Append clients' model parameters to the list\n",
    "        self.clients_models[server_round] = [\n",
    "            (i, parameters_to_ndarrays(fit_res.parameters))\n",
    "            for i, (_, fit_res) in enumerate(results)\n",
    "        ]\n",
    "        # res is a Tuple containing \n",
    "        # parameters (Parameter Object), and \n",
    "        # dictionary containing loss values (avg, all)\n",
    "        self.global_models[server_round] = parameters_to_ndarrays(ret[0])\n",
    "        # Return the original return value\n",
    "        return ret"
   ]
  },
  {
   "cell_type": "code",
   "execution_count": 24,
   "metadata": {
    "id": "iuSAFGmXDgYT"
   },
   "outputs": [],
   "source": [
    "train_config: dict[str, Any] = {\n",
    "    \"epochs\": 8,\n",
    "    \"batch_size\": 32,\n",
    "    \"client_learning_rate\": 0.01,\n",
    "    \"weight_decay\": 0.001,\n",
    "    \"num_workers\": 0,\n",
    "    \"max_batches\": None,\n",
    "}\n",
    "\n",
    "\n",
    "def _on_fit_config_fn(server_round: int) -> dict[str, Scalar]:\n",
    "    train_config.update({\"server_round\": server_round})\n",
    "    return train_config\n",
    "\n",
    "\n",
    "num_total_clients = 62\n",
    "num_clients_per_round: int = 5\n",
    "num_evaluate_clients: int = 5\n",
    "\n",
    "strategy = WrappedFrankWolfeSync(\n",
    "    fraction_fit=sys.float_info.min,\n",
    "    fraction_evaluate=sys.float_info.min,\n",
    "    min_fit_clients=num_clients_per_round,\n",
    "    min_evaluate_clients=num_evaluate_clients,\n",
    "    min_available_clients=max(num_clients_per_round, num_evaluate_clients),\n",
    "    on_fit_config_fn=_on_fit_config_fn,\n",
    "    on_evaluate_config_fn=None,\n",
    "    evaluate_fn=federated_evaluation_function,\n",
    "    initial_parameters=initial_parameters,\n",
    "    accept_failures=False,\n",
    "    fit_metrics_aggregation_fn=aggregate_weighted_average,\n",
    "    evaluate_metrics_aggregation_fn=aggregate_weighted_average,\n",
    ")"
   ]
  },
  {
   "cell_type": "code",
   "execution_count": 25,
   "metadata": {
    "colab": {
     "base_uri": "https://localhost:8080/"
    },
    "id": "5sFPqF0k596b",
    "outputId": "3c8b36f3-1cf7-448f-a60e-36d2d1c18043"
   },
   "outputs": [
    {
     "name": "stderr",
     "output_type": "stream",
     "text": [
      "INFO flwr 2025-03-08 23:00:15,299 | app.py:149 | Starting Flower simulation, config: ServerConfig(num_rounds=5, round_timeout=None)\n"
     ]
    },
    {
     "data": {
      "text/html": [
       "<pre style=\"white-space:pre;overflow-x:auto;line-height:normal;font-family:Menlo,'DejaVu Sans Mono',consolas,'Courier New',monospace\"><span style=\"color: #7fbfbf; text-decoration-color: #7fbfbf\">2025-03-08 23:00:15 </span><span style=\"color: #000080; text-decoration-color: #000080\">INFO    </span> Starting Flower simulation, config: <span style=\"color: #800080; text-decoration-color: #800080; font-weight: bold\">ServerConfig</span><span style=\"font-weight: bold\">(</span><span style=\"color: #808000; text-decoration-color: #808000\">num_rounds</span>=<span style=\"color: #008080; text-decoration-color: #008080; font-weight: bold\">5</span>,                <a href=\"file:///home/dawn/venvs/fed/lib/python3.10/site-packages/flwr/simulation/app.py\" target=\"_blank\"><span style=\"color: #7f7f7f; text-decoration-color: #7f7f7f\">flwr</span></a><span style=\"color: #7f7f7f; text-decoration-color: #7f7f7f\">:</span><a href=\"file:///home/dawn/venvs/fed/lib/python3.10/site-packages/flwr/simulation/app.py#149\" target=\"_blank\"><span style=\"color: #7f7f7f; text-decoration-color: #7f7f7f\">149</span></a>\n",
       "<span style=\"color: #7fbfbf; text-decoration-color: #7fbfbf\">                    </span>         <span style=\"color: #808000; text-decoration-color: #808000\">round_timeout</span>=<span style=\"color: #800080; text-decoration-color: #800080; font-style: italic\">None</span><span style=\"font-weight: bold\">)</span>                                                           <span style=\"color: #7f7f7f; text-decoration-color: #7f7f7f\">        </span>\n",
       "</pre>\n"
      ],
      "text/plain": [
       "\u001b[2;36m2025-03-08 23:00:15\u001b[0m\u001b[2;36m \u001b[0m\u001b[34mINFO    \u001b[0m Starting Flower simulation, config: \u001b[1;35mServerConfig\u001b[0m\u001b[1m(\u001b[0m\u001b[33mnum_rounds\u001b[0m=\u001b[1;36m5\u001b[0m,                \u001b]8;id=614242;file:///home/dawn/venvs/fed/lib/python3.10/site-packages/flwr/simulation/app.py\u001b\\\u001b[2mflwr\u001b[0m\u001b]8;;\u001b\\\u001b[2m:\u001b[0m\u001b]8;id=767447;file:///home/dawn/venvs/fed/lib/python3.10/site-packages/flwr/simulation/app.py#149\u001b\\\u001b[2m149\u001b[0m\u001b]8;;\u001b\\\n",
       "\u001b[2;36m                    \u001b[0m         \u001b[33mround_timeout\u001b[0m=\u001b[3;35mNone\u001b[0m\u001b[1m)\u001b[0m                                                           \u001b[2m        \u001b[0m\n"
      ]
     },
     "metadata": {},
     "output_type": "display_data"
    },
    {
     "name": "stderr",
     "output_type": "stream",
     "text": [
      "INFO flwr 2025-03-08 23:00:15,322 | server_returns_parameters.py:81 | Initializing global parameters\n"
     ]
    },
    {
     "data": {
      "text/html": [
       "<pre style=\"white-space:pre;overflow-x:auto;line-height:normal;font-family:Menlo,'DejaVu Sans Mono',consolas,'Courier New',monospace\"><span style=\"color: #7fbfbf; text-decoration-color: #7fbfbf\">                    </span><span style=\"color: #000080; text-decoration-color: #000080\">INFO    </span> Initializing global parameters                                                 <a href=\"file:///home/dawn/venvs/fed/lib/python3.10/site-packages/flwr/server/server_returns_parameters.py\" target=\"_blank\"><span style=\"color: #7f7f7f; text-decoration-color: #7f7f7f\">flwr</span></a><span style=\"color: #7f7f7f; text-decoration-color: #7f7f7f\">:</span><a href=\"file:///home/dawn/venvs/fed/lib/python3.10/site-packages/flwr/server/server_returns_parameters.py#81\" target=\"_blank\"><span style=\"color: #7f7f7f; text-decoration-color: #7f7f7f\">81</span></a>\n",
       "</pre>\n"
      ],
      "text/plain": [
       "\u001b[2;36m                   \u001b[0m\u001b[2;36m \u001b[0m\u001b[34mINFO    \u001b[0m Initializing global parameters                                                 \u001b]8;id=827969;file:///home/dawn/venvs/fed/lib/python3.10/site-packages/flwr/server/server_returns_parameters.py\u001b\\\u001b[2mflwr\u001b[0m\u001b]8;;\u001b\\\u001b[2m:\u001b[0m\u001b]8;id=377325;file:///home/dawn/venvs/fed/lib/python3.10/site-packages/flwr/server/server_returns_parameters.py#81\u001b\\\u001b[2m81\u001b[0m\u001b]8;;\u001b\\\n"
      ]
     },
     "metadata": {},
     "output_type": "display_data"
    },
    {
     "name": "stderr",
     "output_type": "stream",
     "text": [
      "INFO flwr 2025-03-08 23:00:15,329 | server_returns_parameters.py:273 | Using initial parameters provided by strategy\n"
     ]
    },
    {
     "data": {
      "text/html": [
       "<pre style=\"white-space:pre;overflow-x:auto;line-height:normal;font-family:Menlo,'DejaVu Sans Mono',consolas,'Courier New',monospace\"><span style=\"color: #7fbfbf; text-decoration-color: #7fbfbf\">                    </span><span style=\"color: #000080; text-decoration-color: #000080\">INFO    </span> Using initial parameters provided by strategy                                 <a href=\"file:///home/dawn/venvs/fed/lib/python3.10/site-packages/flwr/server/server_returns_parameters.py\" target=\"_blank\"><span style=\"color: #7f7f7f; text-decoration-color: #7f7f7f\">flwr</span></a><span style=\"color: #7f7f7f; text-decoration-color: #7f7f7f\">:</span><a href=\"file:///home/dawn/venvs/fed/lib/python3.10/site-packages/flwr/server/server_returns_parameters.py#273\" target=\"_blank\"><span style=\"color: #7f7f7f; text-decoration-color: #7f7f7f\">273</span></a>\n",
       "</pre>\n"
      ],
      "text/plain": [
       "\u001b[2;36m                   \u001b[0m\u001b[2;36m \u001b[0m\u001b[34mINFO    \u001b[0m Using initial parameters provided by strategy                                 \u001b]8;id=798528;file:///home/dawn/venvs/fed/lib/python3.10/site-packages/flwr/server/server_returns_parameters.py\u001b\\\u001b[2mflwr\u001b[0m\u001b]8;;\u001b\\\u001b[2m:\u001b[0m\u001b]8;id=688156;file:///home/dawn/venvs/fed/lib/python3.10/site-packages/flwr/server/server_returns_parameters.py#273\u001b\\\u001b[2m273\u001b[0m\u001b]8;;\u001b\\\n"
      ]
     },
     "metadata": {},
     "output_type": "display_data"
    },
    {
     "name": "stderr",
     "output_type": "stream",
     "text": [
      "INFO flwr 2025-03-08 23:00:15,339 | server_returns_parameters.py:84 | Evaluating initial parameters\n"
     ]
    },
    {
     "data": {
      "text/html": [
       "<pre style=\"white-space:pre;overflow-x:auto;line-height:normal;font-family:Menlo,'DejaVu Sans Mono',consolas,'Courier New',monospace\"><span style=\"color: #7fbfbf; text-decoration-color: #7fbfbf\">                    </span><span style=\"color: #000080; text-decoration-color: #000080\">INFO    </span> Evaluating initial parameters                                                  <a href=\"file:///home/dawn/venvs/fed/lib/python3.10/site-packages/flwr/server/server_returns_parameters.py\" target=\"_blank\"><span style=\"color: #7f7f7f; text-decoration-color: #7f7f7f\">flwr</span></a><span style=\"color: #7f7f7f; text-decoration-color: #7f7f7f\">:</span><a href=\"file:///home/dawn/venvs/fed/lib/python3.10/site-packages/flwr/server/server_returns_parameters.py#84\" target=\"_blank\"><span style=\"color: #7f7f7f; text-decoration-color: #7f7f7f\">84</span></a>\n",
       "</pre>\n"
      ],
      "text/plain": [
       "\u001b[2;36m                   \u001b[0m\u001b[2;36m \u001b[0m\u001b[34mINFO    \u001b[0m Evaluating initial parameters                                                  \u001b]8;id=860291;file:///home/dawn/venvs/fed/lib/python3.10/site-packages/flwr/server/server_returns_parameters.py\u001b\\\u001b[2mflwr\u001b[0m\u001b]8;;\u001b\\\u001b[2m:\u001b[0m\u001b]8;id=666052;file:///home/dawn/venvs/fed/lib/python3.10/site-packages/flwr/server/server_returns_parameters.py#84\u001b\\\u001b[2m84\u001b[0m\u001b]8;;\u001b\\\n"
      ]
     },
     "metadata": {},
     "output_type": "display_data"
    },
    {
     "name": "stderr",
     "output_type": "stream",
     "text": [
      "100%|██████████| 47/47 [00:00<00:00, 50.31it/s]\n",
      "INFO flwr 2025-03-08 23:00:16,292 | server_returns_parameters.py:87 | initial parameters (loss, other metrics): 62.05267310142517, {'accuracy': 0.596}\n"
     ]
    },
    {
     "data": {
      "text/html": [
       "<pre style=\"white-space:pre;overflow-x:auto;line-height:normal;font-family:Menlo,'DejaVu Sans Mono',consolas,'Courier New',monospace\"><span style=\"color: #7fbfbf; text-decoration-color: #7fbfbf\">2025-03-08 23:00:16 </span><span style=\"color: #000080; text-decoration-color: #000080\">INFO    </span> initial parameters <span style=\"font-weight: bold\">(</span>loss, other metrics<span style=\"font-weight: bold\">)</span>: <span style=\"color: #008080; text-decoration-color: #008080; font-weight: bold\">62.05267310142517</span>, <span style=\"font-weight: bold\">{</span><span style=\"color: #008000; text-decoration-color: #008000\">'accuracy'</span>:      <a href=\"file:///home/dawn/venvs/fed/lib/python3.10/site-packages/flwr/server/server_returns_parameters.py\" target=\"_blank\"><span style=\"color: #7f7f7f; text-decoration-color: #7f7f7f\">flwr</span></a><span style=\"color: #7f7f7f; text-decoration-color: #7f7f7f\">:</span><a href=\"file:///home/dawn/venvs/fed/lib/python3.10/site-packages/flwr/server/server_returns_parameters.py#87\" target=\"_blank\"><span style=\"color: #7f7f7f; text-decoration-color: #7f7f7f\">87</span></a>\n",
       "<span style=\"color: #7fbfbf; text-decoration-color: #7fbfbf\">                    </span>         <span style=\"color: #008080; text-decoration-color: #008080; font-weight: bold\">0.596</span><span style=\"font-weight: bold\">}</span>                                                                         <span style=\"color: #7f7f7f; text-decoration-color: #7f7f7f\">       </span>\n",
       "</pre>\n"
      ],
      "text/plain": [
       "\u001b[2;36m2025-03-08 23:00:16\u001b[0m\u001b[2;36m \u001b[0m\u001b[34mINFO    \u001b[0m initial parameters \u001b[1m(\u001b[0mloss, other metrics\u001b[1m)\u001b[0m: \u001b[1;36m62.05267310142517\u001b[0m, \u001b[1m{\u001b[0m\u001b[32m'accuracy'\u001b[0m:      \u001b]8;id=700576;file:///home/dawn/venvs/fed/lib/python3.10/site-packages/flwr/server/server_returns_parameters.py\u001b\\\u001b[2mflwr\u001b[0m\u001b]8;;\u001b\\\u001b[2m:\u001b[0m\u001b]8;id=365011;file:///home/dawn/venvs/fed/lib/python3.10/site-packages/flwr/server/server_returns_parameters.py#87\u001b\\\u001b[2m87\u001b[0m\u001b]8;;\u001b\\\n",
       "\u001b[2;36m                    \u001b[0m         \u001b[1;36m0.596\u001b[0m\u001b[1m}\u001b[0m                                                                         \u001b[2m       \u001b[0m\n"
      ]
     },
     "metadata": {},
     "output_type": "display_data"
    },
    {
     "name": "stderr",
     "output_type": "stream",
     "text": [
      "INFO flwr 2025-03-08 23:00:16,298 | server_returns_parameters.py:97 | FL starting\n"
     ]
    },
    {
     "data": {
      "text/html": [
       "<pre style=\"white-space:pre;overflow-x:auto;line-height:normal;font-family:Menlo,'DejaVu Sans Mono',consolas,'Courier New',monospace\"><span style=\"color: #7fbfbf; text-decoration-color: #7fbfbf\">                    </span><span style=\"color: #000080; text-decoration-color: #000080\">INFO    </span> FL starting                                                                    <a href=\"file:///home/dawn/venvs/fed/lib/python3.10/site-packages/flwr/server/server_returns_parameters.py\" target=\"_blank\"><span style=\"color: #7f7f7f; text-decoration-color: #7f7f7f\">flwr</span></a><span style=\"color: #7f7f7f; text-decoration-color: #7f7f7f\">:</span><a href=\"file:///home/dawn/venvs/fed/lib/python3.10/site-packages/flwr/server/server_returns_parameters.py#97\" target=\"_blank\"><span style=\"color: #7f7f7f; text-decoration-color: #7f7f7f\">97</span></a>\n",
       "</pre>\n"
      ],
      "text/plain": [
       "\u001b[2;36m                   \u001b[0m\u001b[2;36m \u001b[0m\u001b[34mINFO    \u001b[0m FL starting                                                                    \u001b]8;id=838929;file:///home/dawn/venvs/fed/lib/python3.10/site-packages/flwr/server/server_returns_parameters.py\u001b\\\u001b[2mflwr\u001b[0m\u001b]8;;\u001b\\\u001b[2m:\u001b[0m\u001b]8;id=325949;file:///home/dawn/venvs/fed/lib/python3.10/site-packages/flwr/server/server_returns_parameters.py#97\u001b\\\u001b[2m97\u001b[0m\u001b]8;;\u001b\\\n"
      ]
     },
     "metadata": {},
     "output_type": "display_data"
    },
    {
     "name": "stderr",
     "output_type": "stream",
     "text": [
      "DEBUG flwr 2025-03-08 23:00:16,305 | server_returns_parameters.py:223 | fit_round 1: strategy sampled 5 clients (out of 62)\n"
     ]
    },
    {
     "data": {
      "text/html": [
       "<pre style=\"white-space:pre;overflow-x:auto;line-height:normal;font-family:Menlo,'DejaVu Sans Mono',consolas,'Courier New',monospace\"><span style=\"color: #7fbfbf; text-decoration-color: #7fbfbf\">                    </span><span style=\"color: #008000; text-decoration-color: #008000\">DEBUG   </span> fit_round <span style=\"color: #008080; text-decoration-color: #008080; font-weight: bold\">1</span>: strategy sampled <span style=\"color: #008080; text-decoration-color: #008080; font-weight: bold\">5</span> clients <span style=\"font-weight: bold\">(</span>out of <span style=\"color: #008080; text-decoration-color: #008080; font-weight: bold\">62</span><span style=\"font-weight: bold\">)</span>                           <a href=\"file:///home/dawn/venvs/fed/lib/python3.10/site-packages/flwr/server/server_returns_parameters.py\" target=\"_blank\"><span style=\"color: #7f7f7f; text-decoration-color: #7f7f7f\">flwr</span></a><span style=\"color: #7f7f7f; text-decoration-color: #7f7f7f\">:</span><a href=\"file:///home/dawn/venvs/fed/lib/python3.10/site-packages/flwr/server/server_returns_parameters.py#223\" target=\"_blank\"><span style=\"color: #7f7f7f; text-decoration-color: #7f7f7f\">223</span></a>\n",
       "</pre>\n"
      ],
      "text/plain": [
       "\u001b[2;36m                   \u001b[0m\u001b[2;36m \u001b[0m\u001b[32mDEBUG   \u001b[0m fit_round \u001b[1;36m1\u001b[0m: strategy sampled \u001b[1;36m5\u001b[0m clients \u001b[1m(\u001b[0mout of \u001b[1;36m62\u001b[0m\u001b[1m)\u001b[0m                           \u001b]8;id=893225;file:///home/dawn/venvs/fed/lib/python3.10/site-packages/flwr/server/server_returns_parameters.py\u001b\\\u001b[2mflwr\u001b[0m\u001b]8;;\u001b\\\u001b[2m:\u001b[0m\u001b]8;id=328967;file:///home/dawn/venvs/fed/lib/python3.10/site-packages/flwr/server/server_returns_parameters.py#223\u001b\\\u001b[2m223\u001b[0m\u001b]8;;\u001b\\\n"
      ]
     },
     "metadata": {},
     "output_type": "display_data"
    },
    {
     "name": "stderr",
     "output_type": "stream",
     "text": [
      "INFO flwr 2025-03-08 23:00:16,317 | frank_flower_client.py:40 | cid: 42\n",
      "INFO flwr 2025-03-08 23:00:16,317 | frank_flower_client.py:40 | cid: 1\n",
      "INFO flwr 2025-03-08 23:00:16,325 | frank_flower_client.py:40 | cid: 53\n"
     ]
    },
    {
     "data": {
      "text/html": [
       "<pre style=\"white-space:pre;overflow-x:auto;line-height:normal;font-family:Menlo,'DejaVu Sans Mono',consolas,'Courier New',monospace\"><span style=\"color: #7fbfbf; text-decoration-color: #7fbfbf\">                    </span><span style=\"color: #000080; text-decoration-color: #000080\">INFO    </span> cid: <span style=\"color: #008080; text-decoration-color: #008080; font-weight: bold\">42</span>                                                                        <a href=\"file:///home/dawn/repos/c2m3-federated/c2m3/scripts/../../c2m3/flower/frank_flower_client.py\" target=\"_blank\"><span style=\"color: #7f7f7f; text-decoration-color: #7f7f7f\">flwr</span></a><span style=\"color: #7f7f7f; text-decoration-color: #7f7f7f\">:</span><a href=\"file:///home/dawn/repos/c2m3-federated/c2m3/scripts/../../c2m3/flower/frank_flower_client.py#40\" target=\"_blank\"><span style=\"color: #7f7f7f; text-decoration-color: #7f7f7f\">40</span></a>\n",
       "</pre>\n"
      ],
      "text/plain": [
       "\u001b[2;36m                   \u001b[0m\u001b[2;36m \u001b[0m\u001b[34mINFO    \u001b[0m cid: \u001b[1;36m42\u001b[0m                                                                        \u001b]8;id=633960;file:///home/dawn/repos/c2m3-federated/c2m3/scripts/../../c2m3/flower/frank_flower_client.py\u001b\\\u001b[2mflwr\u001b[0m\u001b]8;;\u001b\\\u001b[2m:\u001b[0m\u001b]8;id=479364;file:///home/dawn/repos/c2m3-federated/c2m3/scripts/../../c2m3/flower/frank_flower_client.py#40\u001b\\\u001b[2m40\u001b[0m\u001b]8;;\u001b\\\n"
      ]
     },
     "metadata": {},
     "output_type": "display_data"
    },
    {
     "name": "stderr",
     "output_type": "stream",
     "text": [
      "INFO flwr 2025-03-08 23:00:16,328 | frank_flower_client.py:40 | cid: 22\n",
      "INFO flwr 2025-03-08 23:00:16,331 | frank_flower_client.py:40 | cid: 38\n"
     ]
    },
    {
     "data": {
      "text/html": [
       "<pre style=\"white-space:pre;overflow-x:auto;line-height:normal;font-family:Menlo,'DejaVu Sans Mono',consolas,'Courier New',monospace\"><span style=\"color: #7fbfbf; text-decoration-color: #7fbfbf\">                    </span><span style=\"color: #000080; text-decoration-color: #000080\">INFO    </span> cid: <span style=\"color: #008080; text-decoration-color: #008080; font-weight: bold\">1</span>                                                                         <a href=\"file:///home/dawn/repos/c2m3-federated/c2m3/scripts/../../c2m3/flower/frank_flower_client.py\" target=\"_blank\"><span style=\"color: #7f7f7f; text-decoration-color: #7f7f7f\">flwr</span></a><span style=\"color: #7f7f7f; text-decoration-color: #7f7f7f\">:</span><a href=\"file:///home/dawn/repos/c2m3-federated/c2m3/scripts/../../c2m3/flower/frank_flower_client.py#40\" target=\"_blank\"><span style=\"color: #7f7f7f; text-decoration-color: #7f7f7f\">40</span></a>\n",
       "</pre>\n"
      ],
      "text/plain": [
       "\u001b[2;36m                   \u001b[0m\u001b[2;36m \u001b[0m\u001b[34mINFO    \u001b[0m cid: \u001b[1;36m1\u001b[0m                                                                         \u001b]8;id=574365;file:///home/dawn/repos/c2m3-federated/c2m3/scripts/../../c2m3/flower/frank_flower_client.py\u001b\\\u001b[2mflwr\u001b[0m\u001b]8;;\u001b\\\u001b[2m:\u001b[0m\u001b]8;id=70569;file:///home/dawn/repos/c2m3-federated/c2m3/scripts/../../c2m3/flower/frank_flower_client.py#40\u001b\\\u001b[2m40\u001b[0m\u001b]8;;\u001b\\\n"
      ]
     },
     "metadata": {},
     "output_type": "display_data"
    },
    {
     "data": {
      "text/html": [
       "<pre style=\"white-space:pre;overflow-x:auto;line-height:normal;font-family:Menlo,'DejaVu Sans Mono',consolas,'Courier New',monospace\"><span style=\"color: #7fbfbf; text-decoration-color: #7fbfbf\">                    </span><span style=\"color: #000080; text-decoration-color: #000080\">INFO    </span> cid: <span style=\"color: #008080; text-decoration-color: #008080; font-weight: bold\">53</span>                                                                        <a href=\"file:///home/dawn/repos/c2m3-federated/c2m3/scripts/../../c2m3/flower/frank_flower_client.py\" target=\"_blank\"><span style=\"color: #7f7f7f; text-decoration-color: #7f7f7f\">flwr</span></a><span style=\"color: #7f7f7f; text-decoration-color: #7f7f7f\">:</span><a href=\"file:///home/dawn/repos/c2m3-federated/c2m3/scripts/../../c2m3/flower/frank_flower_client.py#40\" target=\"_blank\"><span style=\"color: #7f7f7f; text-decoration-color: #7f7f7f\">40</span></a>\n",
       "</pre>\n"
      ],
      "text/plain": [
       "\u001b[2;36m                   \u001b[0m\u001b[2;36m \u001b[0m\u001b[34mINFO    \u001b[0m cid: \u001b[1;36m53\u001b[0m                                                                        \u001b]8;id=811079;file:///home/dawn/repos/c2m3-federated/c2m3/scripts/../../c2m3/flower/frank_flower_client.py\u001b\\\u001b[2mflwr\u001b[0m\u001b]8;;\u001b\\\u001b[2m:\u001b[0m\u001b]8;id=46011;file:///home/dawn/repos/c2m3-federated/c2m3/scripts/../../c2m3/flower/frank_flower_client.py#40\u001b\\\u001b[2m40\u001b[0m\u001b]8;;\u001b\\\n"
      ]
     },
     "metadata": {},
     "output_type": "display_data"
    },
    {
     "data": {
      "text/html": [
       "<pre style=\"white-space:pre;overflow-x:auto;line-height:normal;font-family:Menlo,'DejaVu Sans Mono',consolas,'Courier New',monospace\"><span style=\"color: #7fbfbf; text-decoration-color: #7fbfbf\">                    </span><span style=\"color: #000080; text-decoration-color: #000080\">INFO    </span> cid: <span style=\"color: #008080; text-decoration-color: #008080; font-weight: bold\">22</span>                                                                        <a href=\"file:///home/dawn/repos/c2m3-federated/c2m3/scripts/../../c2m3/flower/frank_flower_client.py\" target=\"_blank\"><span style=\"color: #7f7f7f; text-decoration-color: #7f7f7f\">flwr</span></a><span style=\"color: #7f7f7f; text-decoration-color: #7f7f7f\">:</span><a href=\"file:///home/dawn/repos/c2m3-federated/c2m3/scripts/../../c2m3/flower/frank_flower_client.py#40\" target=\"_blank\"><span style=\"color: #7f7f7f; text-decoration-color: #7f7f7f\">40</span></a>\n",
       "</pre>\n"
      ],
      "text/plain": [
       "\u001b[2;36m                   \u001b[0m\u001b[2;36m \u001b[0m\u001b[34mINFO    \u001b[0m cid: \u001b[1;36m22\u001b[0m                                                                        \u001b]8;id=649850;file:///home/dawn/repos/c2m3-federated/c2m3/scripts/../../c2m3/flower/frank_flower_client.py\u001b\\\u001b[2mflwr\u001b[0m\u001b]8;;\u001b\\\u001b[2m:\u001b[0m\u001b]8;id=56447;file:///home/dawn/repos/c2m3-federated/c2m3/scripts/../../c2m3/flower/frank_flower_client.py#40\u001b\\\u001b[2m40\u001b[0m\u001b]8;;\u001b\\\n"
      ]
     },
     "metadata": {},
     "output_type": "display_data"
    },
    {
     "data": {
      "text/html": [
       "<pre style=\"white-space:pre;overflow-x:auto;line-height:normal;font-family:Menlo,'DejaVu Sans Mono',consolas,'Courier New',monospace\"><span style=\"color: #7fbfbf; text-decoration-color: #7fbfbf\">                    </span><span style=\"color: #000080; text-decoration-color: #000080\">INFO    </span> cid: <span style=\"color: #008080; text-decoration-color: #008080; font-weight: bold\">38</span>                                                                        <a href=\"file:///home/dawn/repos/c2m3-federated/c2m3/scripts/../../c2m3/flower/frank_flower_client.py\" target=\"_blank\"><span style=\"color: #7f7f7f; text-decoration-color: #7f7f7f\">flwr</span></a><span style=\"color: #7f7f7f; text-decoration-color: #7f7f7f\">:</span><a href=\"file:///home/dawn/repos/c2m3-federated/c2m3/scripts/../../c2m3/flower/frank_flower_client.py#40\" target=\"_blank\"><span style=\"color: #7f7f7f; text-decoration-color: #7f7f7f\">40</span></a>\n",
       "</pre>\n"
      ],
      "text/plain": [
       "\u001b[2;36m                   \u001b[0m\u001b[2;36m \u001b[0m\u001b[34mINFO    \u001b[0m cid: \u001b[1;36m38\u001b[0m                                                                        \u001b]8;id=206592;file:///home/dawn/repos/c2m3-federated/c2m3/scripts/../../c2m3/flower/frank_flower_client.py\u001b\\\u001b[2mflwr\u001b[0m\u001b]8;;\u001b\\\u001b[2m:\u001b[0m\u001b]8;id=109670;file:///home/dawn/repos/c2m3-federated/c2m3/scripts/../../c2m3/flower/frank_flower_client.py#40\u001b\\\u001b[2m40\u001b[0m\u001b]8;;\u001b\\\n"
      ]
     },
     "metadata": {},
     "output_type": "display_data"
    },
    {
     "name": "stdout",
     "output_type": "stream",
     "text": [
      "MARKER\n",
      "self.properties={'tensor_type': 'numpy.ndarray', 'partition': PosixPath('/home/dawn/repos/c2m3-federated/c2m3/scripts/../femnist/client_data_mappings/class_imbalanced'), 'cid': 1, 'train_loader': <torch.utils.data.dataloader.DataLoader object at 0x74ac5c8d4ca0>}\n",
      "MARKER\n",
      "self.properties={'tensor_type': 'numpy.ndarray', 'partition': PosixPath('/home/dawn/repos/c2m3-federated/c2m3/scripts/../femnist/client_data_mappings/class_imbalanced'), 'cid': 22, 'train_loader': <torch.utils.data.dataloader.DataLoader object at 0x74addcfe1570>}\n",
      "MARKER\n",
      "self.properties={'tensor_type': 'numpy.ndarray', 'partition': PosixPath('/home/dawn/repos/c2m3-federated/c2m3/scripts/../femnist/client_data_mappings/class_imbalanced'), 'cid': 42, 'train_loader': <torch.utils.data.dataloader.DataLoader object at 0x74ac5d13a710>}\n",
      "MARKER\n",
      "self.properties={'tensor_type': 'numpy.ndarray', 'partition': PosixPath('/home/dawn/repos/c2m3-federated/c2m3/scripts/../femnist/client_data_mappings/class_imbalanced'), 'cid': 38, 'train_loader': <torch.utils.data.dataloader.DataLoader object at 0x74ac442879a0>}\n",
      "MARKER\n",
      "self.properties={'tensor_type': 'numpy.ndarray', 'partition': PosixPath('/home/dawn/repos/c2m3-federated/c2m3/scripts/../femnist/client_data_mappings/class_imbalanced'), 'cid': 53, 'train_loader': <torch.utils.data.dataloader.DataLoader object at 0x74ac5d13a2c0>}\n"
     ]
    },
    {
     "name": "stderr",
     "output_type": "stream",
     "text": [
      "DEBUG flwr 2025-03-08 23:00:21,392 | server_returns_parameters.py:237 | fit_round 1 received 5 results and 0 failures\n"
     ]
    },
    {
     "data": {
      "text/html": [
       "<pre style=\"white-space:pre;overflow-x:auto;line-height:normal;font-family:Menlo,'DejaVu Sans Mono',consolas,'Courier New',monospace\"><span style=\"color: #7fbfbf; text-decoration-color: #7fbfbf\">2025-03-08 23:00:21 </span><span style=\"color: #008000; text-decoration-color: #008000\">DEBUG   </span> fit_round <span style=\"color: #008080; text-decoration-color: #008080; font-weight: bold\">1</span> received <span style=\"color: #008080; text-decoration-color: #008080; font-weight: bold\">5</span> results and <span style=\"color: #008080; text-decoration-color: #008080; font-weight: bold\">0</span> failures                                 <a href=\"file:///home/dawn/venvs/fed/lib/python3.10/site-packages/flwr/server/server_returns_parameters.py\" target=\"_blank\"><span style=\"color: #7f7f7f; text-decoration-color: #7f7f7f\">flwr</span></a><span style=\"color: #7f7f7f; text-decoration-color: #7f7f7f\">:</span><a href=\"file:///home/dawn/venvs/fed/lib/python3.10/site-packages/flwr/server/server_returns_parameters.py#237\" target=\"_blank\"><span style=\"color: #7f7f7f; text-decoration-color: #7f7f7f\">237</span></a>\n",
       "</pre>\n"
      ],
      "text/plain": [
       "\u001b[2;36m2025-03-08 23:00:21\u001b[0m\u001b[2;36m \u001b[0m\u001b[32mDEBUG   \u001b[0m fit_round \u001b[1;36m1\u001b[0m received \u001b[1;36m5\u001b[0m results and \u001b[1;36m0\u001b[0m failures                                 \u001b]8;id=837014;file:///home/dawn/venvs/fed/lib/python3.10/site-packages/flwr/server/server_returns_parameters.py\u001b\\\u001b[2mflwr\u001b[0m\u001b]8;;\u001b\\\u001b[2m:\u001b[0m\u001b]8;id=596302;file:///home/dawn/venvs/fed/lib/python3.10/site-packages/flwr/server/server_returns_parameters.py#237\u001b\\\u001b[2m237\u001b[0m\u001b]8;;\u001b\\\n"
      ]
     },
     "metadata": {},
     "output_type": "display_data"
    },
    {
     "name": "stderr",
     "output_type": "stream",
     "text": [
      "INFO flwr 2025-03-08 23:00:21,404 | frank_flower_client.py:40 | cid: 42\n"
     ]
    },
    {
     "data": {
      "text/html": [
       "<pre style=\"white-space:pre;overflow-x:auto;line-height:normal;font-family:Menlo,'DejaVu Sans Mono',consolas,'Courier New',monospace\"><span style=\"color: #7fbfbf; text-decoration-color: #7fbfbf\">                    </span><span style=\"color: #000080; text-decoration-color: #000080\">INFO    </span> cid: <span style=\"color: #008080; text-decoration-color: #008080; font-weight: bold\">42</span>                                                                        <a href=\"file:///home/dawn/repos/c2m3-federated/c2m3/scripts/../../c2m3/flower/frank_flower_client.py\" target=\"_blank\"><span style=\"color: #7f7f7f; text-decoration-color: #7f7f7f\">flwr</span></a><span style=\"color: #7f7f7f; text-decoration-color: #7f7f7f\">:</span><a href=\"file:///home/dawn/repos/c2m3-federated/c2m3/scripts/../../c2m3/flower/frank_flower_client.py#40\" target=\"_blank\"><span style=\"color: #7f7f7f; text-decoration-color: #7f7f7f\">40</span></a>\n",
       "</pre>\n"
      ],
      "text/plain": [
       "\u001b[2;36m                   \u001b[0m\u001b[2;36m \u001b[0m\u001b[34mINFO    \u001b[0m cid: \u001b[1;36m42\u001b[0m                                                                        \u001b]8;id=640463;file:///home/dawn/repos/c2m3-federated/c2m3/scripts/../../c2m3/flower/frank_flower_client.py\u001b\\\u001b[2mflwr\u001b[0m\u001b]8;;\u001b\\\u001b[2m:\u001b[0m\u001b]8;id=349796;file:///home/dawn/repos/c2m3-federated/c2m3/scripts/../../c2m3/flower/frank_flower_client.py#40\u001b\\\u001b[2m40\u001b[0m\u001b]8;;\u001b\\\n"
      ]
     },
     "metadata": {},
     "output_type": "display_data"
    },
    {
     "name": "stderr",
     "output_type": "stream",
     "text": [
      "INFO flwr 2025-03-08 23:00:21,420 | frank_flower_client.py:40 | cid: 1\n"
     ]
    },
    {
     "data": {
      "text/html": [
       "<pre style=\"white-space:pre;overflow-x:auto;line-height:normal;font-family:Menlo,'DejaVu Sans Mono',consolas,'Courier New',monospace\"><span style=\"color: #7fbfbf; text-decoration-color: #7fbfbf\">                    </span><span style=\"color: #000080; text-decoration-color: #000080\">INFO    </span> cid: <span style=\"color: #008080; text-decoration-color: #008080; font-weight: bold\">1</span>                                                                         <a href=\"file:///home/dawn/repos/c2m3-federated/c2m3/scripts/../../c2m3/flower/frank_flower_client.py\" target=\"_blank\"><span style=\"color: #7f7f7f; text-decoration-color: #7f7f7f\">flwr</span></a><span style=\"color: #7f7f7f; text-decoration-color: #7f7f7f\">:</span><a href=\"file:///home/dawn/repos/c2m3-federated/c2m3/scripts/../../c2m3/flower/frank_flower_client.py#40\" target=\"_blank\"><span style=\"color: #7f7f7f; text-decoration-color: #7f7f7f\">40</span></a>\n",
       "</pre>\n"
      ],
      "text/plain": [
       "\u001b[2;36m                   \u001b[0m\u001b[2;36m \u001b[0m\u001b[34mINFO    \u001b[0m cid: \u001b[1;36m1\u001b[0m                                                                         \u001b]8;id=576307;file:///home/dawn/repos/c2m3-federated/c2m3/scripts/../../c2m3/flower/frank_flower_client.py\u001b\\\u001b[2mflwr\u001b[0m\u001b]8;;\u001b\\\u001b[2m:\u001b[0m\u001b]8;id=48058;file:///home/dawn/repos/c2m3-federated/c2m3/scripts/../../c2m3/flower/frank_flower_client.py#40\u001b\\\u001b[2m40\u001b[0m\u001b]8;;\u001b\\\n"
      ]
     },
     "metadata": {},
     "output_type": "display_data"
    },
    {
     "name": "stderr",
     "output_type": "stream",
     "text": [
      "INFO flwr 2025-03-08 23:00:21,435 | frank_flower_client.py:40 | cid: 22\n"
     ]
    },
    {
     "data": {
      "text/html": [
       "<pre style=\"white-space:pre;overflow-x:auto;line-height:normal;font-family:Menlo,'DejaVu Sans Mono',consolas,'Courier New',monospace\"><span style=\"color: #7fbfbf; text-decoration-color: #7fbfbf\">                    </span><span style=\"color: #000080; text-decoration-color: #000080\">INFO    </span> cid: <span style=\"color: #008080; text-decoration-color: #008080; font-weight: bold\">22</span>                                                                        <a href=\"file:///home/dawn/repos/c2m3-federated/c2m3/scripts/../../c2m3/flower/frank_flower_client.py\" target=\"_blank\"><span style=\"color: #7f7f7f; text-decoration-color: #7f7f7f\">flwr</span></a><span style=\"color: #7f7f7f; text-decoration-color: #7f7f7f\">:</span><a href=\"file:///home/dawn/repos/c2m3-federated/c2m3/scripts/../../c2m3/flower/frank_flower_client.py#40\" target=\"_blank\"><span style=\"color: #7f7f7f; text-decoration-color: #7f7f7f\">40</span></a>\n",
       "</pre>\n"
      ],
      "text/plain": [
       "\u001b[2;36m                   \u001b[0m\u001b[2;36m \u001b[0m\u001b[34mINFO    \u001b[0m cid: \u001b[1;36m22\u001b[0m                                                                        \u001b]8;id=322226;file:///home/dawn/repos/c2m3-federated/c2m3/scripts/../../c2m3/flower/frank_flower_client.py\u001b\\\u001b[2mflwr\u001b[0m\u001b]8;;\u001b\\\u001b[2m:\u001b[0m\u001b]8;id=889643;file:///home/dawn/repos/c2m3-federated/c2m3/scripts/../../c2m3/flower/frank_flower_client.py#40\u001b\\\u001b[2m40\u001b[0m\u001b]8;;\u001b\\\n"
      ]
     },
     "metadata": {},
     "output_type": "display_data"
    },
    {
     "name": "stderr",
     "output_type": "stream",
     "text": [
      "INFO flwr 2025-03-08 23:00:21,452 | frank_flower_client.py:40 | cid: 38\n"
     ]
    },
    {
     "data": {
      "text/html": [
       "<pre style=\"white-space:pre;overflow-x:auto;line-height:normal;font-family:Menlo,'DejaVu Sans Mono',consolas,'Courier New',monospace\"><span style=\"color: #7fbfbf; text-decoration-color: #7fbfbf\">                    </span><span style=\"color: #000080; text-decoration-color: #000080\">INFO    </span> cid: <span style=\"color: #008080; text-decoration-color: #008080; font-weight: bold\">38</span>                                                                        <a href=\"file:///home/dawn/repos/c2m3-federated/c2m3/scripts/../../c2m3/flower/frank_flower_client.py\" target=\"_blank\"><span style=\"color: #7f7f7f; text-decoration-color: #7f7f7f\">flwr</span></a><span style=\"color: #7f7f7f; text-decoration-color: #7f7f7f\">:</span><a href=\"file:///home/dawn/repos/c2m3-federated/c2m3/scripts/../../c2m3/flower/frank_flower_client.py#40\" target=\"_blank\"><span style=\"color: #7f7f7f; text-decoration-color: #7f7f7f\">40</span></a>\n",
       "</pre>\n"
      ],
      "text/plain": [
       "\u001b[2;36m                   \u001b[0m\u001b[2;36m \u001b[0m\u001b[34mINFO    \u001b[0m cid: \u001b[1;36m38\u001b[0m                                                                        \u001b]8;id=554776;file:///home/dawn/repos/c2m3-federated/c2m3/scripts/../../c2m3/flower/frank_flower_client.py\u001b\\\u001b[2mflwr\u001b[0m\u001b]8;;\u001b\\\u001b[2m:\u001b[0m\u001b]8;id=552299;file:///home/dawn/repos/c2m3-federated/c2m3/scripts/../../c2m3/flower/frank_flower_client.py#40\u001b\\\u001b[2m40\u001b[0m\u001b]8;;\u001b\\\n"
      ]
     },
     "metadata": {},
     "output_type": "display_data"
    },
    {
     "name": "stderr",
     "output_type": "stream",
     "text": [
      "INFO flwr 2025-03-08 23:00:21,467 | frank_flower_client.py:40 | cid: 53\n"
     ]
    },
    {
     "data": {
      "text/html": [
       "<pre style=\"white-space:pre;overflow-x:auto;line-height:normal;font-family:Menlo,'DejaVu Sans Mono',consolas,'Courier New',monospace\"><span style=\"color: #7fbfbf; text-decoration-color: #7fbfbf\">                    </span><span style=\"color: #000080; text-decoration-color: #000080\">INFO    </span> cid: <span style=\"color: #008080; text-decoration-color: #008080; font-weight: bold\">53</span>                                                                        <a href=\"file:///home/dawn/repos/c2m3-federated/c2m3/scripts/../../c2m3/flower/frank_flower_client.py\" target=\"_blank\"><span style=\"color: #7f7f7f; text-decoration-color: #7f7f7f\">flwr</span></a><span style=\"color: #7f7f7f; text-decoration-color: #7f7f7f\">:</span><a href=\"file:///home/dawn/repos/c2m3-federated/c2m3/scripts/../../c2m3/flower/frank_flower_client.py#40\" target=\"_blank\"><span style=\"color: #7f7f7f; text-decoration-color: #7f7f7f\">40</span></a>\n",
       "</pre>\n"
      ],
      "text/plain": [
       "\u001b[2;36m                   \u001b[0m\u001b[2;36m \u001b[0m\u001b[34mINFO    \u001b[0m cid: \u001b[1;36m53\u001b[0m                                                                        \u001b]8;id=52884;file:///home/dawn/repos/c2m3-federated/c2m3/scripts/../../c2m3/flower/frank_flower_client.py\u001b\\\u001b[2mflwr\u001b[0m\u001b]8;;\u001b\\\u001b[2m:\u001b[0m\u001b]8;id=782619;file:///home/dawn/repos/c2m3-federated/c2m3/scripts/../../c2m3/flower/frank_flower_client.py#40\u001b\\\u001b[2m40\u001b[0m\u001b]8;;\u001b\\\n"
      ]
     },
     "metadata": {},
     "output_type": "display_data"
    },
    {
     "name": "stderr",
     "output_type": "stream",
     "text": [
      "/home/dawn/venvs/fed/lib/python3.10/site-packages/pytorch_lightning/utilities/parsing.py:268: UserWarning: Attribute 'model' is an instance of `nn.Module` and is already saved during checkpointing. It is recommended to ignore them using `self.save_hyperparameters(ignore=['model'])`.\n",
      "  rank_zero_warn(\n"
     ]
    },
    {
     "name": "stdout",
     "output_type": "stream",
     "text": [
      "dict_keys(['a', 'b', 'c', 'd', 'e'])\n",
      "<class 'c2m3.modules.pl_module.MyLightningModule'>\n"
     ]
    },
    {
     "name": "stderr",
     "output_type": "stream",
     "text": [
      "Weight matching:   2%|▎         | 5/200 [00:03<02:02,  1.59it/s]\n"
     ]
    },
    {
     "name": "stdout",
     "output_type": "stream",
     "text": [
      "perms_to_apply={'P_conv1': tensor([0, 1, 2, 3, 4, 5]), 'P_fc1': tensor([  0,   1,   2,   3,   4,   5,   6,   7,   8,   9,  10,  11,  12,  13,\n",
      "         14,  15,  16,  17,  18,  19,  20,  21,  22,  23,  24,  25,  26,  27,\n",
      "         28,  29,  30,  31,  32,  33,  34,  35,  36,  37,  38,  39,  40,  41,\n",
      "         42,  43,  44,  45,  46,  47,  48,  49,  50,  51,  52,  53,  54,  55,\n",
      "         56,  57,  58,  59,  60,  61,  62,  63,  64,  65,  66,  67,  68,  69,\n",
      "         70,  71,  72,  73,  74,  75,  76,  77,  78,  79,  80,  81,  82,  83,\n",
      "         84,  85,  86,  87,  88,  89,  90,  91,  92,  93,  94,  95,  96,  97,\n",
      "         98,  99, 100, 101, 102, 103, 104, 105, 106, 107, 108, 109, 110, 111,\n",
      "        112, 113, 114, 115, 116, 117, 118, 119]), 'P_fc2': tensor([ 0,  1,  2,  3,  4,  5,  6,  7,  8,  9, 10, 11, 12, 13, 14, 15, 16, 17,\n",
      "        18, 19, 20, 21, 22, 23, 24, 25, 26, 27, 28, 29, 30, 31, 32, 33, 34, 35,\n",
      "        36, 37, 38, 39, 40, 41, 42, 43, 44, 45, 46, 47, 48, 49, 50, 51, 52, 53,\n",
      "        54, 55, 56, 57, 58, 59, 60, 61, 62, 63, 64, 65, 66, 67, 68, 69, 70, 71,\n",
      "        72, 73, 74, 75, 76, 77, 78, 79, 80, 81, 82, 83])}\n",
      "perms_to_apply={'P_conv1': tensor([0, 1, 2, 3, 4, 5]), 'P_fc1': tensor([  0,   1,   2,   3,   4,   5,   6,   7,   8,   9,  10,  11,  12,  13,\n",
      "         14,  15,  16,  17,  18,  19,  20,  21,  22,  23,  24,  25,  26,  27,\n",
      "         28,  29,  30,  31,  32,  33,  34,  35,  36,  37,  38,  39,  40,  41,\n",
      "         42,  43,  44,  45,  46,  47,  48,  49,  50,  51,  52,  53,  54,  55,\n",
      "         56,  57,  58,  59,  60,  61,  62,  63,  64,  65,  66,  67,  68,  69,\n",
      "         70,  71,  72,  73,  74,  75,  76,  77,  78,  79,  80,  81,  82,  83,\n",
      "         84,  85,  86,  87,  88,  89,  90,  91,  92,  93,  94,  95,  96,  97,\n",
      "         98,  99, 100, 101, 102, 103, 104, 105, 106, 107, 108, 109, 110, 111,\n",
      "        112, 113, 114, 115, 116, 117, 118, 119]), 'P_fc2': tensor([ 0,  1,  2,  3,  4,  5,  6,  7,  8,  9, 10, 11, 12, 13, 14, 15, 16, 17,\n",
      "        18, 19, 20, 21, 22, 23, 24, 25, 26, 27, 28, 29, 30, 31, 32, 33, 34, 35,\n",
      "        36, 37, 38, 39, 40, 41, 42, 43, 44, 45, 46, 47, 48, 49, 50, 51, 52, 53,\n",
      "        54, 55, 56, 57, 58, 59, 60, 61, 62, 63, 64, 65, 66, 67, 68, 69, 70, 71,\n",
      "        72, 73, 74, 75, 76, 77, 78, 79, 80, 81, 82, 83])}\n",
      "perms_to_apply={'P_conv1': tensor([0, 1, 2, 3, 4, 5]), 'P_fc1': tensor([  0,   1,   2,   3,   4,   5,   6,   7,   8,   9,  10,  11,  12,  13,\n",
      "         14,  15,  16,  17,  18,  19,  20,  21,  22,  23,  24,  25,  26,  27,\n",
      "         28,  29,  30,  31,  32,  33,  34,  35,  36,  37,  38,  39,  40,  41,\n",
      "         42,  43,  44,  45,  46,  47,  48,  49,  50,  51,  52,  53,  54,  55,\n",
      "         56,  57,  58,  59,  60,  61,  62,  63,  64,  65,  66,  67,  68,  69,\n",
      "         70,  71,  72,  73,  74,  75,  76,  77,  78,  79,  80,  81,  82,  83,\n",
      "         84,  85,  86,  87,  88,  89,  90,  91,  92,  93,  94,  95,  96,  97,\n",
      "         98,  99, 100, 101, 102, 103, 104, 105, 106, 107, 108, 109, 110, 111,\n",
      "        112, 113, 114, 115, 116, 117, 118, 119]), 'P_fc2': tensor([ 0,  1,  2,  3,  4,  5,  6,  7,  8,  9, 10, 11, 12, 13, 14, 15, 16, 17,\n",
      "        18, 19, 20, 21, 22, 23, 24, 25, 26, 27, 28, 29, 30, 31, 32, 33, 34, 35,\n",
      "        36, 37, 38, 39, 40, 41, 42, 43, 44, 45, 46, 47, 48, 49, 50, 51, 52, 53,\n",
      "        54, 55, 56, 57, 58, 59, 60, 61, 62, 63, 64, 65, 66, 67, 68, 69, 70, 71,\n",
      "        72, 73, 74, 75, 76, 77, 78, 79, 80, 81, 82, 83])}\n",
      "perms_to_apply={'P_conv1': tensor([0, 1, 2, 3, 4, 5]), 'P_fc1': tensor([  0,   1,   2,   3,   4,   5,   6,   7,   8,   9,  10,  11,  12,  13,\n",
      "         14,  15,  16,  17,  18,  19,  20,  21,  22,  23,  24,  25,  26,  27,\n",
      "         28,  29,  30,  31,  32,  33,  34,  35,  36,  37,  38,  39,  40,  41,\n",
      "         42,  43,  44,  45,  46,  47,  48,  49,  50,  51,  52,  53,  54,  55,\n",
      "         56,  57,  58,  59,  60,  61,  62,  63,  64,  65,  66,  67,  68,  69,\n",
      "         70,  71,  72,  73,  74,  75,  76,  77,  78,  79,  80,  81,  82,  83,\n",
      "         84,  85,  86,  87,  88,  89,  90,  91,  92,  93,  94,  95,  96,  97,\n",
      "         98,  99, 100, 101, 102, 103, 104, 105, 106, 107, 108, 109, 110, 111,\n",
      "        112, 113, 114, 115, 116, 117, 118, 119]), 'P_fc2': tensor([ 0,  1,  2,  3,  4,  5,  6,  7,  8,  9, 10, 11, 12, 13, 14, 15, 16, 17,\n",
      "        18, 19, 20, 21, 22, 23, 24, 25, 26, 27, 28, 29, 30, 31, 32, 33, 34, 35,\n",
      "        36, 37, 38, 39, 40, 41, 42, 43, 44, 45, 46, 47, 48, 49, 50, 51, 52, 53,\n",
      "        54, 55, 56, 57, 58, 59, 60, 61, 62, 63, 64, 65, 66, 67, 68, 69, 70, 71,\n",
      "        72, 73, 74, 75, 76, 77, 78, 79, 80, 81, 82, 83])}\n",
      "perms_to_apply={'P_conv1': tensor([0, 1, 2, 3, 4, 5]), 'P_fc1': tensor([  0,   1,   2,   3,   4,   5,   6,   7,   8,   9,  10,  11,  12,  13,\n",
      "         14,  15,  16,  17,  18,  19,  20,  21,  22,  23,  24,  25,  26,  27,\n",
      "         28,  29,  30,  31,  32,  33,  34,  35,  36,  37,  38,  39,  40,  41,\n",
      "         42,  43,  44,  45,  46,  47,  48,  49,  50,  51,  52,  53,  54,  55,\n",
      "         56,  57,  58,  59,  60,  61,  62,  63,  64,  65,  66,  67,  68,  69,\n",
      "         70,  71,  72,  73,  74,  75,  76,  77,  78,  79,  80,  81,  82,  83,\n",
      "         84,  85,  86,  87,  88,  89,  90,  91,  92,  93,  94,  95,  96,  97,\n",
      "         98,  99, 100, 101, 102, 103, 104, 105, 106, 107, 108, 109, 110, 111,\n",
      "        112, 113, 114, 115, 116, 117, 118, 119]), 'P_fc2': tensor([ 0,  1,  2,  3,  4,  5,  6,  7,  8,  9, 10, 11, 12, 13, 14, 15, 16, 17,\n",
      "        18, 19, 20, 21, 22, 23, 24, 25, 26, 27, 28, 29, 30, 31, 32, 33, 34, 35,\n",
      "        36, 37, 38, 39, 40, 41, 42, 43, 44, 45, 46, 47, 48, 49, 50, 51, 52, 53,\n",
      "        54, 55, 56, 57, 58, 59, 60, 61, 62, 63, 64, 65, 66, 67, 68, 69, 70, 71,\n",
      "        72, 73, 74, 75, 76, 77, 78, 79, 80, 81, 82, 83])}\n",
      "Function merge_models Took 3.2491 seconds\n",
      "Successfully merged models.\n"
     ]
    },
    {
     "name": "stderr",
     "output_type": "stream",
     "text": [
      "100%|██████████| 47/47 [00:00<00:00, 56.17it/s]\n",
      "INFO flwr 2025-03-09 13:19:29,814 | server_returns_parameters.py:120 | fit progress: (1, 253.3437623977661, {'accuracy': 0.050666666666666665}, 1852.7033819289645)\n"
     ]
    },
    {
     "data": {
      "text/html": [
       "<pre style=\"white-space:pre;overflow-x:auto;line-height:normal;font-family:Menlo,'DejaVu Sans Mono',consolas,'Courier New',monospace\"><span style=\"color: #7fbfbf; text-decoration-color: #7fbfbf\">2025-03-09 13:19:29 </span><span style=\"color: #000080; text-decoration-color: #000080\">INFO    </span> fit progress: <span style=\"font-weight: bold\">(</span><span style=\"color: #008080; text-decoration-color: #008080; font-weight: bold\">1</span>, <span style=\"color: #008080; text-decoration-color: #008080; font-weight: bold\">253.3437623977661</span>, <span style=\"font-weight: bold\">{</span><span style=\"color: #008000; text-decoration-color: #008000\">'accuracy'</span>: <span style=\"color: #008080; text-decoration-color: #008080; font-weight: bold\">0.050666666666666665</span><span style=\"font-weight: bold\">}</span>,      <a href=\"file:///home/dawn/venvs/fed/lib/python3.10/site-packages/flwr/server/server_returns_parameters.py\" target=\"_blank\"><span style=\"color: #7f7f7f; text-decoration-color: #7f7f7f\">flwr</span></a><span style=\"color: #7f7f7f; text-decoration-color: #7f7f7f\">:</span><a href=\"file:///home/dawn/venvs/fed/lib/python3.10/site-packages/flwr/server/server_returns_parameters.py#120\" target=\"_blank\"><span style=\"color: #7f7f7f; text-decoration-color: #7f7f7f\">120</span></a>\n",
       "<span style=\"color: #7fbfbf; text-decoration-color: #7fbfbf\">                    </span>         <span style=\"color: #008080; text-decoration-color: #008080; font-weight: bold\">1852.7033819289645</span><span style=\"font-weight: bold\">)</span>                                                           <span style=\"color: #7f7f7f; text-decoration-color: #7f7f7f\">        </span>\n",
       "</pre>\n"
      ],
      "text/plain": [
       "\u001b[2;36m2025-03-09 13:19:29\u001b[0m\u001b[2;36m \u001b[0m\u001b[34mINFO    \u001b[0m fit progress: \u001b[1m(\u001b[0m\u001b[1;36m1\u001b[0m, \u001b[1;36m253.3437623977661\u001b[0m, \u001b[1m{\u001b[0m\u001b[32m'accuracy'\u001b[0m: \u001b[1;36m0.050666666666666665\u001b[0m\u001b[1m}\u001b[0m,      \u001b]8;id=942449;file:///home/dawn/venvs/fed/lib/python3.10/site-packages/flwr/server/server_returns_parameters.py\u001b\\\u001b[2mflwr\u001b[0m\u001b]8;;\u001b\\\u001b[2m:\u001b[0m\u001b]8;id=25757;file:///home/dawn/venvs/fed/lib/python3.10/site-packages/flwr/server/server_returns_parameters.py#120\u001b\\\u001b[2m120\u001b[0m\u001b]8;;\u001b\\\n",
       "\u001b[2;36m                    \u001b[0m         \u001b[1;36m1852.7033819289645\u001b[0m\u001b[1m)\u001b[0m                                                           \u001b[2m        \u001b[0m\n"
      ]
     },
     "metadata": {},
     "output_type": "display_data"
    },
    {
     "name": "stderr",
     "output_type": "stream",
     "text": [
      "DEBUG flwr 2025-03-09 13:19:29,821 | server_returns_parameters.py:173 | evaluate_round 1: strategy sampled 5 clients (out of 62)\n"
     ]
    },
    {
     "data": {
      "text/html": [
       "<pre style=\"white-space:pre;overflow-x:auto;line-height:normal;font-family:Menlo,'DejaVu Sans Mono',consolas,'Courier New',monospace\"><span style=\"color: #7fbfbf; text-decoration-color: #7fbfbf\">                    </span><span style=\"color: #008000; text-decoration-color: #008000\">DEBUG   </span> evaluate_round <span style=\"color: #008080; text-decoration-color: #008080; font-weight: bold\">1</span>: strategy sampled <span style=\"color: #008080; text-decoration-color: #008080; font-weight: bold\">5</span> clients <span style=\"font-weight: bold\">(</span>out of <span style=\"color: #008080; text-decoration-color: #008080; font-weight: bold\">62</span><span style=\"font-weight: bold\">)</span>                      <a href=\"file:///home/dawn/venvs/fed/lib/python3.10/site-packages/flwr/server/server_returns_parameters.py\" target=\"_blank\"><span style=\"color: #7f7f7f; text-decoration-color: #7f7f7f\">flwr</span></a><span style=\"color: #7f7f7f; text-decoration-color: #7f7f7f\">:</span><a href=\"file:///home/dawn/venvs/fed/lib/python3.10/site-packages/flwr/server/server_returns_parameters.py#173\" target=\"_blank\"><span style=\"color: #7f7f7f; text-decoration-color: #7f7f7f\">173</span></a>\n",
       "</pre>\n"
      ],
      "text/plain": [
       "\u001b[2;36m                   \u001b[0m\u001b[2;36m \u001b[0m\u001b[32mDEBUG   \u001b[0m evaluate_round \u001b[1;36m1\u001b[0m: strategy sampled \u001b[1;36m5\u001b[0m clients \u001b[1m(\u001b[0mout of \u001b[1;36m62\u001b[0m\u001b[1m)\u001b[0m                      \u001b]8;id=585503;file:///home/dawn/venvs/fed/lib/python3.10/site-packages/flwr/server/server_returns_parameters.py\u001b\\\u001b[2mflwr\u001b[0m\u001b]8;;\u001b\\\u001b[2m:\u001b[0m\u001b]8;id=837176;file:///home/dawn/venvs/fed/lib/python3.10/site-packages/flwr/server/server_returns_parameters.py#173\u001b\\\u001b[2m173\u001b[0m\u001b]8;;\u001b\\\n"
      ]
     },
     "metadata": {},
     "output_type": "display_data"
    },
    {
     "name": "stderr",
     "output_type": "stream",
     "text": [
      "INFO flwr 2025-03-09 13:19:29,829 | frank_flower_client.py:40 | cid: 51\n",
      "INFO flwr 2025-03-09 13:19:29,835 | frank_flower_client.py:40 | cid: 33\n"
     ]
    },
    {
     "data": {
      "text/html": [
       "<pre style=\"white-space:pre;overflow-x:auto;line-height:normal;font-family:Menlo,'DejaVu Sans Mono',consolas,'Courier New',monospace\"><span style=\"color: #7fbfbf; text-decoration-color: #7fbfbf\">                    </span><span style=\"color: #000080; text-decoration-color: #000080\">INFO    </span> cid: <span style=\"color: #008080; text-decoration-color: #008080; font-weight: bold\">51</span>                                                                        <a href=\"file:///home/dawn/repos/c2m3-federated/c2m3/scripts/../../c2m3/flower/frank_flower_client.py\" target=\"_blank\"><span style=\"color: #7f7f7f; text-decoration-color: #7f7f7f\">flwr</span></a><span style=\"color: #7f7f7f; text-decoration-color: #7f7f7f\">:</span><a href=\"file:///home/dawn/repos/c2m3-federated/c2m3/scripts/../../c2m3/flower/frank_flower_client.py#40\" target=\"_blank\"><span style=\"color: #7f7f7f; text-decoration-color: #7f7f7f\">40</span></a>\n",
       "</pre>\n"
      ],
      "text/plain": [
       "\u001b[2;36m                   \u001b[0m\u001b[2;36m \u001b[0m\u001b[34mINFO    \u001b[0m cid: \u001b[1;36m51\u001b[0m                                                                        \u001b]8;id=70032;file:///home/dawn/repos/c2m3-federated/c2m3/scripts/../../c2m3/flower/frank_flower_client.py\u001b\\\u001b[2mflwr\u001b[0m\u001b]8;;\u001b\\\u001b[2m:\u001b[0m\u001b]8;id=743184;file:///home/dawn/repos/c2m3-federated/c2m3/scripts/../../c2m3/flower/frank_flower_client.py#40\u001b\\\u001b[2m40\u001b[0m\u001b]8;;\u001b\\\n"
      ]
     },
     "metadata": {},
     "output_type": "display_data"
    },
    {
     "name": "stderr",
     "output_type": "stream",
     "text": [
      "INFO flwr 2025-03-09 13:19:29,845 | frank_flower_client.py:40 | cid: 31\n",
      "INFO flwr 2025-03-09 13:19:29,850 | frank_flower_client.py:40 | cid: 34\n",
      "INFO flwr 2025-03-09 13:19:29,853 | frank_flower_client.py:40 | cid: 48\n"
     ]
    },
    {
     "data": {
      "text/html": [
       "<pre style=\"white-space:pre;overflow-x:auto;line-height:normal;font-family:Menlo,'DejaVu Sans Mono',consolas,'Courier New',monospace\"><span style=\"color: #7fbfbf; text-decoration-color: #7fbfbf\">                    </span><span style=\"color: #000080; text-decoration-color: #000080\">INFO    </span> cid: <span style=\"color: #008080; text-decoration-color: #008080; font-weight: bold\">33</span>                                                                        <a href=\"file:///home/dawn/repos/c2m3-federated/c2m3/scripts/../../c2m3/flower/frank_flower_client.py\" target=\"_blank\"><span style=\"color: #7f7f7f; text-decoration-color: #7f7f7f\">flwr</span></a><span style=\"color: #7f7f7f; text-decoration-color: #7f7f7f\">:</span><a href=\"file:///home/dawn/repos/c2m3-federated/c2m3/scripts/../../c2m3/flower/frank_flower_client.py#40\" target=\"_blank\"><span style=\"color: #7f7f7f; text-decoration-color: #7f7f7f\">40</span></a>\n",
       "</pre>\n"
      ],
      "text/plain": [
       "\u001b[2;36m                   \u001b[0m\u001b[2;36m \u001b[0m\u001b[34mINFO    \u001b[0m cid: \u001b[1;36m33\u001b[0m                                                                        \u001b]8;id=178378;file:///home/dawn/repos/c2m3-federated/c2m3/scripts/../../c2m3/flower/frank_flower_client.py\u001b\\\u001b[2mflwr\u001b[0m\u001b]8;;\u001b\\\u001b[2m:\u001b[0m\u001b]8;id=331396;file:///home/dawn/repos/c2m3-federated/c2m3/scripts/../../c2m3/flower/frank_flower_client.py#40\u001b\\\u001b[2m40\u001b[0m\u001b]8;;\u001b\\\n"
      ]
     },
     "metadata": {},
     "output_type": "display_data"
    },
    {
     "data": {
      "text/html": [
       "<pre style=\"white-space:pre;overflow-x:auto;line-height:normal;font-family:Menlo,'DejaVu Sans Mono',consolas,'Courier New',monospace\"><span style=\"color: #7fbfbf; text-decoration-color: #7fbfbf\">                    </span><span style=\"color: #000080; text-decoration-color: #000080\">INFO    </span> cid: <span style=\"color: #008080; text-decoration-color: #008080; font-weight: bold\">31</span>                                                                        <a href=\"file:///home/dawn/repos/c2m3-federated/c2m3/scripts/../../c2m3/flower/frank_flower_client.py\" target=\"_blank\"><span style=\"color: #7f7f7f; text-decoration-color: #7f7f7f\">flwr</span></a><span style=\"color: #7f7f7f; text-decoration-color: #7f7f7f\">:</span><a href=\"file:///home/dawn/repos/c2m3-federated/c2m3/scripts/../../c2m3/flower/frank_flower_client.py#40\" target=\"_blank\"><span style=\"color: #7f7f7f; text-decoration-color: #7f7f7f\">40</span></a>\n",
       "</pre>\n"
      ],
      "text/plain": [
       "\u001b[2;36m                   \u001b[0m\u001b[2;36m \u001b[0m\u001b[34mINFO    \u001b[0m cid: \u001b[1;36m31\u001b[0m                                                                        \u001b]8;id=998943;file:///home/dawn/repos/c2m3-federated/c2m3/scripts/../../c2m3/flower/frank_flower_client.py\u001b\\\u001b[2mflwr\u001b[0m\u001b]8;;\u001b\\\u001b[2m:\u001b[0m\u001b]8;id=566682;file:///home/dawn/repos/c2m3-federated/c2m3/scripts/../../c2m3/flower/frank_flower_client.py#40\u001b\\\u001b[2m40\u001b[0m\u001b]8;;\u001b\\\n"
      ]
     },
     "metadata": {},
     "output_type": "display_data"
    },
    {
     "data": {
      "text/html": [
       "<pre style=\"white-space:pre;overflow-x:auto;line-height:normal;font-family:Menlo,'DejaVu Sans Mono',consolas,'Courier New',monospace\"><span style=\"color: #7fbfbf; text-decoration-color: #7fbfbf\">                    </span><span style=\"color: #000080; text-decoration-color: #000080\">INFO    </span> cid: <span style=\"color: #008080; text-decoration-color: #008080; font-weight: bold\">34</span>                                                                        <a href=\"file:///home/dawn/repos/c2m3-federated/c2m3/scripts/../../c2m3/flower/frank_flower_client.py\" target=\"_blank\"><span style=\"color: #7f7f7f; text-decoration-color: #7f7f7f\">flwr</span></a><span style=\"color: #7f7f7f; text-decoration-color: #7f7f7f\">:</span><a href=\"file:///home/dawn/repos/c2m3-federated/c2m3/scripts/../../c2m3/flower/frank_flower_client.py#40\" target=\"_blank\"><span style=\"color: #7f7f7f; text-decoration-color: #7f7f7f\">40</span></a>\n",
       "</pre>\n"
      ],
      "text/plain": [
       "\u001b[2;36m                   \u001b[0m\u001b[2;36m \u001b[0m\u001b[34mINFO    \u001b[0m cid: \u001b[1;36m34\u001b[0m                                                                        \u001b]8;id=581472;file:///home/dawn/repos/c2m3-federated/c2m3/scripts/../../c2m3/flower/frank_flower_client.py\u001b\\\u001b[2mflwr\u001b[0m\u001b]8;;\u001b\\\u001b[2m:\u001b[0m\u001b]8;id=157243;file:///home/dawn/repos/c2m3-federated/c2m3/scripts/../../c2m3/flower/frank_flower_client.py#40\u001b\\\u001b[2m40\u001b[0m\u001b]8;;\u001b\\\n"
      ]
     },
     "metadata": {},
     "output_type": "display_data"
    },
    {
     "data": {
      "text/html": [
       "<pre style=\"white-space:pre;overflow-x:auto;line-height:normal;font-family:Menlo,'DejaVu Sans Mono',consolas,'Courier New',monospace\"><span style=\"color: #7fbfbf; text-decoration-color: #7fbfbf\">                    </span><span style=\"color: #000080; text-decoration-color: #000080\">INFO    </span> cid: <span style=\"color: #008080; text-decoration-color: #008080; font-weight: bold\">48</span>                                                                        <a href=\"file:///home/dawn/repos/c2m3-federated/c2m3/scripts/../../c2m3/flower/frank_flower_client.py\" target=\"_blank\"><span style=\"color: #7f7f7f; text-decoration-color: #7f7f7f\">flwr</span></a><span style=\"color: #7f7f7f; text-decoration-color: #7f7f7f\">:</span><a href=\"file:///home/dawn/repos/c2m3-federated/c2m3/scripts/../../c2m3/flower/frank_flower_client.py#40\" target=\"_blank\"><span style=\"color: #7f7f7f; text-decoration-color: #7f7f7f\">40</span></a>\n",
       "</pre>\n"
      ],
      "text/plain": [
       "\u001b[2;36m                   \u001b[0m\u001b[2;36m \u001b[0m\u001b[34mINFO    \u001b[0m cid: \u001b[1;36m48\u001b[0m                                                                        \u001b]8;id=923937;file:///home/dawn/repos/c2m3-federated/c2m3/scripts/../../c2m3/flower/frank_flower_client.py\u001b\\\u001b[2mflwr\u001b[0m\u001b]8;;\u001b\\\u001b[2m:\u001b[0m\u001b]8;id=950761;file:///home/dawn/repos/c2m3-federated/c2m3/scripts/../../c2m3/flower/frank_flower_client.py#40\u001b\\\u001b[2m40\u001b[0m\u001b]8;;\u001b\\\n"
      ]
     },
     "metadata": {},
     "output_type": "display_data"
    },
    {
     "name": "stderr",
     "output_type": "stream",
     "text": [
      "DEBUG flwr 2025-03-09 13:19:29,922 | server_returns_parameters.py:187 | evaluate_round 1 received 0 results and 5 failures\n"
     ]
    },
    {
     "data": {
      "text/html": [
       "<pre style=\"white-space:pre;overflow-x:auto;line-height:normal;font-family:Menlo,'DejaVu Sans Mono',consolas,'Courier New',monospace\"><span style=\"color: #7fbfbf; text-decoration-color: #7fbfbf\">                    </span><span style=\"color: #008000; text-decoration-color: #008000\">DEBUG   </span> evaluate_round <span style=\"color: #008080; text-decoration-color: #008080; font-weight: bold\">1</span> received <span style=\"color: #008080; text-decoration-color: #008080; font-weight: bold\">0</span> results and <span style=\"color: #008080; text-decoration-color: #008080; font-weight: bold\">5</span> failures                            <a href=\"file:///home/dawn/venvs/fed/lib/python3.10/site-packages/flwr/server/server_returns_parameters.py\" target=\"_blank\"><span style=\"color: #7f7f7f; text-decoration-color: #7f7f7f\">flwr</span></a><span style=\"color: #7f7f7f; text-decoration-color: #7f7f7f\">:</span><a href=\"file:///home/dawn/venvs/fed/lib/python3.10/site-packages/flwr/server/server_returns_parameters.py#187\" target=\"_blank\"><span style=\"color: #7f7f7f; text-decoration-color: #7f7f7f\">187</span></a>\n",
       "</pre>\n"
      ],
      "text/plain": [
       "\u001b[2;36m                   \u001b[0m\u001b[2;36m \u001b[0m\u001b[32mDEBUG   \u001b[0m evaluate_round \u001b[1;36m1\u001b[0m received \u001b[1;36m0\u001b[0m results and \u001b[1;36m5\u001b[0m failures                            \u001b]8;id=163121;file:///home/dawn/venvs/fed/lib/python3.10/site-packages/flwr/server/server_returns_parameters.py\u001b\\\u001b[2mflwr\u001b[0m\u001b]8;;\u001b\\\u001b[2m:\u001b[0m\u001b]8;id=58673;file:///home/dawn/venvs/fed/lib/python3.10/site-packages/flwr/server/server_returns_parameters.py#187\u001b\\\u001b[2m187\u001b[0m\u001b]8;;\u001b\\\n"
      ]
     },
     "metadata": {},
     "output_type": "display_data"
    },
    {
     "name": "stderr",
     "output_type": "stream",
     "text": [
      "DEBUG flwr 2025-03-09 13:19:29,930 | server_returns_parameters.py:223 | fit_round 2: strategy sampled 5 clients (out of 62)\n"
     ]
    },
    {
     "data": {
      "text/html": [
       "<pre style=\"white-space:pre;overflow-x:auto;line-height:normal;font-family:Menlo,'DejaVu Sans Mono',consolas,'Courier New',monospace\"><span style=\"color: #7fbfbf; text-decoration-color: #7fbfbf\">                    </span><span style=\"color: #008000; text-decoration-color: #008000\">DEBUG   </span> fit_round <span style=\"color: #008080; text-decoration-color: #008080; font-weight: bold\">2</span>: strategy sampled <span style=\"color: #008080; text-decoration-color: #008080; font-weight: bold\">5</span> clients <span style=\"font-weight: bold\">(</span>out of <span style=\"color: #008080; text-decoration-color: #008080; font-weight: bold\">62</span><span style=\"font-weight: bold\">)</span>                           <a href=\"file:///home/dawn/venvs/fed/lib/python3.10/site-packages/flwr/server/server_returns_parameters.py\" target=\"_blank\"><span style=\"color: #7f7f7f; text-decoration-color: #7f7f7f\">flwr</span></a><span style=\"color: #7f7f7f; text-decoration-color: #7f7f7f\">:</span><a href=\"file:///home/dawn/venvs/fed/lib/python3.10/site-packages/flwr/server/server_returns_parameters.py#223\" target=\"_blank\"><span style=\"color: #7f7f7f; text-decoration-color: #7f7f7f\">223</span></a>\n",
       "</pre>\n"
      ],
      "text/plain": [
       "\u001b[2;36m                   \u001b[0m\u001b[2;36m \u001b[0m\u001b[32mDEBUG   \u001b[0m fit_round \u001b[1;36m2\u001b[0m: strategy sampled \u001b[1;36m5\u001b[0m clients \u001b[1m(\u001b[0mout of \u001b[1;36m62\u001b[0m\u001b[1m)\u001b[0m                           \u001b]8;id=675014;file:///home/dawn/venvs/fed/lib/python3.10/site-packages/flwr/server/server_returns_parameters.py\u001b\\\u001b[2mflwr\u001b[0m\u001b]8;;\u001b\\\u001b[2m:\u001b[0m\u001b]8;id=630152;file:///home/dawn/venvs/fed/lib/python3.10/site-packages/flwr/server/server_returns_parameters.py#223\u001b\\\u001b[2m223\u001b[0m\u001b]8;;\u001b\\\n"
      ]
     },
     "metadata": {},
     "output_type": "display_data"
    },
    {
     "name": "stderr",
     "output_type": "stream",
     "text": [
      "INFO flwr 2025-03-09 13:19:29,942 | frank_flower_client.py:40 | cid: 40\n"
     ]
    },
    {
     "data": {
      "text/html": [
       "<pre style=\"white-space:pre;overflow-x:auto;line-height:normal;font-family:Menlo,'DejaVu Sans Mono',consolas,'Courier New',monospace\"><span style=\"color: #7fbfbf; text-decoration-color: #7fbfbf\">                    </span><span style=\"color: #000080; text-decoration-color: #000080\">INFO    </span> cid: <span style=\"color: #008080; text-decoration-color: #008080; font-weight: bold\">40</span>                                                                        <a href=\"file:///home/dawn/repos/c2m3-federated/c2m3/scripts/../../c2m3/flower/frank_flower_client.py\" target=\"_blank\"><span style=\"color: #7f7f7f; text-decoration-color: #7f7f7f\">flwr</span></a><span style=\"color: #7f7f7f; text-decoration-color: #7f7f7f\">:</span><a href=\"file:///home/dawn/repos/c2m3-federated/c2m3/scripts/../../c2m3/flower/frank_flower_client.py#40\" target=\"_blank\"><span style=\"color: #7f7f7f; text-decoration-color: #7f7f7f\">40</span></a>\n",
       "</pre>\n"
      ],
      "text/plain": [
       "\u001b[2;36m                   \u001b[0m\u001b[2;36m \u001b[0m\u001b[34mINFO    \u001b[0m cid: \u001b[1;36m40\u001b[0m                                                                        \u001b]8;id=142745;file:///home/dawn/repos/c2m3-federated/c2m3/scripts/../../c2m3/flower/frank_flower_client.py\u001b\\\u001b[2mflwr\u001b[0m\u001b]8;;\u001b\\\u001b[2m:\u001b[0m\u001b]8;id=507580;file:///home/dawn/repos/c2m3-federated/c2m3/scripts/../../c2m3/flower/frank_flower_client.py#40\u001b\\\u001b[2m40\u001b[0m\u001b]8;;\u001b\\\n"
      ]
     },
     "metadata": {},
     "output_type": "display_data"
    },
    {
     "name": "stderr",
     "output_type": "stream",
     "text": [
      "INFO flwr 2025-03-09 13:19:29,951 | frank_flower_client.py:40 | cid: 29\n",
      "INFO flwr 2025-03-09 13:19:29,963 | frank_flower_client.py:40 | cid: 22\n"
     ]
    },
    {
     "data": {
      "text/html": [
       "<pre style=\"white-space:pre;overflow-x:auto;line-height:normal;font-family:Menlo,'DejaVu Sans Mono',consolas,'Courier New',monospace\"><span style=\"color: #7fbfbf; text-decoration-color: #7fbfbf\">                    </span><span style=\"color: #000080; text-decoration-color: #000080\">INFO    </span> cid: <span style=\"color: #008080; text-decoration-color: #008080; font-weight: bold\">29</span>                                                                        <a href=\"file:///home/dawn/repos/c2m3-federated/c2m3/scripts/../../c2m3/flower/frank_flower_client.py\" target=\"_blank\"><span style=\"color: #7f7f7f; text-decoration-color: #7f7f7f\">flwr</span></a><span style=\"color: #7f7f7f; text-decoration-color: #7f7f7f\">:</span><a href=\"file:///home/dawn/repos/c2m3-federated/c2m3/scripts/../../c2m3/flower/frank_flower_client.py#40\" target=\"_blank\"><span style=\"color: #7f7f7f; text-decoration-color: #7f7f7f\">40</span></a>\n",
       "</pre>\n"
      ],
      "text/plain": [
       "\u001b[2;36m                   \u001b[0m\u001b[2;36m \u001b[0m\u001b[34mINFO    \u001b[0m cid: \u001b[1;36m29\u001b[0m                                                                        \u001b]8;id=265152;file:///home/dawn/repos/c2m3-federated/c2m3/scripts/../../c2m3/flower/frank_flower_client.py\u001b\\\u001b[2mflwr\u001b[0m\u001b]8;;\u001b\\\u001b[2m:\u001b[0m\u001b]8;id=167485;file:///home/dawn/repos/c2m3-federated/c2m3/scripts/../../c2m3/flower/frank_flower_client.py#40\u001b\\\u001b[2m40\u001b[0m\u001b]8;;\u001b\\\n"
      ]
     },
     "metadata": {},
     "output_type": "display_data"
    },
    {
     "name": "stderr",
     "output_type": "stream",
     "text": [
      "INFO flwr 2025-03-09 13:19:29,970 | frank_flower_client.py:40 | cid: 24\n",
      "INFO flwr 2025-03-09 13:19:29,976 | frank_flower_client.py:40 | cid: 4\n"
     ]
    },
    {
     "data": {
      "text/html": [
       "<pre style=\"white-space:pre;overflow-x:auto;line-height:normal;font-family:Menlo,'DejaVu Sans Mono',consolas,'Courier New',monospace\"><span style=\"color: #7fbfbf; text-decoration-color: #7fbfbf\">                    </span><span style=\"color: #000080; text-decoration-color: #000080\">INFO    </span> cid: <span style=\"color: #008080; text-decoration-color: #008080; font-weight: bold\">22</span>                                                                        <a href=\"file:///home/dawn/repos/c2m3-federated/c2m3/scripts/../../c2m3/flower/frank_flower_client.py\" target=\"_blank\"><span style=\"color: #7f7f7f; text-decoration-color: #7f7f7f\">flwr</span></a><span style=\"color: #7f7f7f; text-decoration-color: #7f7f7f\">:</span><a href=\"file:///home/dawn/repos/c2m3-federated/c2m3/scripts/../../c2m3/flower/frank_flower_client.py#40\" target=\"_blank\"><span style=\"color: #7f7f7f; text-decoration-color: #7f7f7f\">40</span></a>\n",
       "</pre>\n"
      ],
      "text/plain": [
       "\u001b[2;36m                   \u001b[0m\u001b[2;36m \u001b[0m\u001b[34mINFO    \u001b[0m cid: \u001b[1;36m22\u001b[0m                                                                        \u001b]8;id=412038;file:///home/dawn/repos/c2m3-federated/c2m3/scripts/../../c2m3/flower/frank_flower_client.py\u001b\\\u001b[2mflwr\u001b[0m\u001b]8;;\u001b\\\u001b[2m:\u001b[0m\u001b]8;id=654695;file:///home/dawn/repos/c2m3-federated/c2m3/scripts/../../c2m3/flower/frank_flower_client.py#40\u001b\\\u001b[2m40\u001b[0m\u001b]8;;\u001b\\\n"
      ]
     },
     "metadata": {},
     "output_type": "display_data"
    },
    {
     "data": {
      "text/html": [
       "<pre style=\"white-space:pre;overflow-x:auto;line-height:normal;font-family:Menlo,'DejaVu Sans Mono',consolas,'Courier New',monospace\"><span style=\"color: #7fbfbf; text-decoration-color: #7fbfbf\">                    </span><span style=\"color: #000080; text-decoration-color: #000080\">INFO    </span> cid: <span style=\"color: #008080; text-decoration-color: #008080; font-weight: bold\">24</span>                                                                        <a href=\"file:///home/dawn/repos/c2m3-federated/c2m3/scripts/../../c2m3/flower/frank_flower_client.py\" target=\"_blank\"><span style=\"color: #7f7f7f; text-decoration-color: #7f7f7f\">flwr</span></a><span style=\"color: #7f7f7f; text-decoration-color: #7f7f7f\">:</span><a href=\"file:///home/dawn/repos/c2m3-federated/c2m3/scripts/../../c2m3/flower/frank_flower_client.py#40\" target=\"_blank\"><span style=\"color: #7f7f7f; text-decoration-color: #7f7f7f\">40</span></a>\n",
       "</pre>\n"
      ],
      "text/plain": [
       "\u001b[2;36m                   \u001b[0m\u001b[2;36m \u001b[0m\u001b[34mINFO    \u001b[0m cid: \u001b[1;36m24\u001b[0m                                                                        \u001b]8;id=974726;file:///home/dawn/repos/c2m3-federated/c2m3/scripts/../../c2m3/flower/frank_flower_client.py\u001b\\\u001b[2mflwr\u001b[0m\u001b]8;;\u001b\\\u001b[2m:\u001b[0m\u001b]8;id=437809;file:///home/dawn/repos/c2m3-federated/c2m3/scripts/../../c2m3/flower/frank_flower_client.py#40\u001b\\\u001b[2m40\u001b[0m\u001b]8;;\u001b\\\n"
      ]
     },
     "metadata": {},
     "output_type": "display_data"
    },
    {
     "data": {
      "text/html": [
       "<pre style=\"white-space:pre;overflow-x:auto;line-height:normal;font-family:Menlo,'DejaVu Sans Mono',consolas,'Courier New',monospace\"><span style=\"color: #7fbfbf; text-decoration-color: #7fbfbf\">                    </span><span style=\"color: #000080; text-decoration-color: #000080\">INFO    </span> cid: <span style=\"color: #008080; text-decoration-color: #008080; font-weight: bold\">4</span>                                                                         <a href=\"file:///home/dawn/repos/c2m3-federated/c2m3/scripts/../../c2m3/flower/frank_flower_client.py\" target=\"_blank\"><span style=\"color: #7f7f7f; text-decoration-color: #7f7f7f\">flwr</span></a><span style=\"color: #7f7f7f; text-decoration-color: #7f7f7f\">:</span><a href=\"file:///home/dawn/repos/c2m3-federated/c2m3/scripts/../../c2m3/flower/frank_flower_client.py#40\" target=\"_blank\"><span style=\"color: #7f7f7f; text-decoration-color: #7f7f7f\">40</span></a>\n",
       "</pre>\n"
      ],
      "text/plain": [
       "\u001b[2;36m                   \u001b[0m\u001b[2;36m \u001b[0m\u001b[34mINFO    \u001b[0m cid: \u001b[1;36m4\u001b[0m                                                                         \u001b]8;id=652189;file:///home/dawn/repos/c2m3-federated/c2m3/scripts/../../c2m3/flower/frank_flower_client.py\u001b\\\u001b[2mflwr\u001b[0m\u001b]8;;\u001b\\\u001b[2m:\u001b[0m\u001b]8;id=731544;file:///home/dawn/repos/c2m3-federated/c2m3/scripts/../../c2m3/flower/frank_flower_client.py#40\u001b\\\u001b[2m40\u001b[0m\u001b]8;;\u001b\\\n"
      ]
     },
     "metadata": {},
     "output_type": "display_data"
    },
    {
     "name": "stdout",
     "output_type": "stream",
     "text": [
      "MARKER\n",
      "self.properties={'tensor_type': 'numpy.ndarray', 'partition': PosixPath('/home/dawn/repos/c2m3-federated/c2m3/scripts/../femnist/client_data_mappings/class_imbalanced'), 'cid': 22, 'train_loader': <torch.utils.data.dataloader.DataLoader object at 0x74ac441d9cc0>}\n",
      "MARKER\n",
      "self.properties={'tensor_type': 'numpy.ndarray', 'partition': PosixPath('/home/dawn/repos/c2m3-federated/c2m3/scripts/../femnist/client_data_mappings/class_imbalanced'), 'cid': 29, 'train_loader': <torch.utils.data.dataloader.DataLoader object at 0x74ac35baa200>}\n",
      "MARKER\n",
      "self.properties={'tensor_type': 'numpy.ndarray', 'partition': PosixPath('/home/dawn/repos/c2m3-federated/c2m3/scripts/../femnist/client_data_mappings/class_imbalanced'), 'cid': 40, 'train_loader': <torch.utils.data.dataloader.DataLoader object at 0x74ac35ae1750>}\n",
      "MARKER\n",
      "self.properties={'tensor_type': 'numpy.ndarray', 'partition': PosixPath('/home/dawn/repos/c2m3-federated/c2m3/scripts/../femnist/client_data_mappings/class_imbalanced'), 'cid': 24, 'train_loader': <torch.utils.data.dataloader.DataLoader object at 0x74ac44287b50>}\n",
      "MARKER\n",
      "self.properties={'tensor_type': 'numpy.ndarray', 'partition': PosixPath('/home/dawn/repos/c2m3-federated/c2m3/scripts/../femnist/client_data_mappings/class_imbalanced'), 'cid': 4, 'train_loader': <torch.utils.data.dataloader.DataLoader object at 0x74ac35babfa0>}\n"
     ]
    },
    {
     "name": "stderr",
     "output_type": "stream",
     "text": [
      "DEBUG flwr 2025-03-09 13:19:34,972 | server_returns_parameters.py:237 | fit_round 2 received 5 results and 0 failures\n"
     ]
    },
    {
     "data": {
      "text/html": [
       "<pre style=\"white-space:pre;overflow-x:auto;line-height:normal;font-family:Menlo,'DejaVu Sans Mono',consolas,'Courier New',monospace\"><span style=\"color: #7fbfbf; text-decoration-color: #7fbfbf\">2025-03-09 13:19:34 </span><span style=\"color: #008000; text-decoration-color: #008000\">DEBUG   </span> fit_round <span style=\"color: #008080; text-decoration-color: #008080; font-weight: bold\">2</span> received <span style=\"color: #008080; text-decoration-color: #008080; font-weight: bold\">5</span> results and <span style=\"color: #008080; text-decoration-color: #008080; font-weight: bold\">0</span> failures                                 <a href=\"file:///home/dawn/venvs/fed/lib/python3.10/site-packages/flwr/server/server_returns_parameters.py\" target=\"_blank\"><span style=\"color: #7f7f7f; text-decoration-color: #7f7f7f\">flwr</span></a><span style=\"color: #7f7f7f; text-decoration-color: #7f7f7f\">:</span><a href=\"file:///home/dawn/venvs/fed/lib/python3.10/site-packages/flwr/server/server_returns_parameters.py#237\" target=\"_blank\"><span style=\"color: #7f7f7f; text-decoration-color: #7f7f7f\">237</span></a>\n",
       "</pre>\n"
      ],
      "text/plain": [
       "\u001b[2;36m2025-03-09 13:19:34\u001b[0m\u001b[2;36m \u001b[0m\u001b[32mDEBUG   \u001b[0m fit_round \u001b[1;36m2\u001b[0m received \u001b[1;36m5\u001b[0m results and \u001b[1;36m0\u001b[0m failures                                 \u001b]8;id=566195;file:///home/dawn/venvs/fed/lib/python3.10/site-packages/flwr/server/server_returns_parameters.py\u001b\\\u001b[2mflwr\u001b[0m\u001b]8;;\u001b\\\u001b[2m:\u001b[0m\u001b]8;id=629089;file:///home/dawn/venvs/fed/lib/python3.10/site-packages/flwr/server/server_returns_parameters.py#237\u001b\\\u001b[2m237\u001b[0m\u001b]8;;\u001b\\\n"
      ]
     },
     "metadata": {},
     "output_type": "display_data"
    },
    {
     "name": "stderr",
     "output_type": "stream",
     "text": [
      "INFO flwr 2025-03-09 13:19:34,983 | frank_flower_client.py:40 | cid: 24\n"
     ]
    },
    {
     "data": {
      "text/html": [
       "<pre style=\"white-space:pre;overflow-x:auto;line-height:normal;font-family:Menlo,'DejaVu Sans Mono',consolas,'Courier New',monospace\"><span style=\"color: #7fbfbf; text-decoration-color: #7fbfbf\">                    </span><span style=\"color: #000080; text-decoration-color: #000080\">INFO    </span> cid: <span style=\"color: #008080; text-decoration-color: #008080; font-weight: bold\">24</span>                                                                        <a href=\"file:///home/dawn/repos/c2m3-federated/c2m3/scripts/../../c2m3/flower/frank_flower_client.py\" target=\"_blank\"><span style=\"color: #7f7f7f; text-decoration-color: #7f7f7f\">flwr</span></a><span style=\"color: #7f7f7f; text-decoration-color: #7f7f7f\">:</span><a href=\"file:///home/dawn/repos/c2m3-federated/c2m3/scripts/../../c2m3/flower/frank_flower_client.py#40\" target=\"_blank\"><span style=\"color: #7f7f7f; text-decoration-color: #7f7f7f\">40</span></a>\n",
       "</pre>\n"
      ],
      "text/plain": [
       "\u001b[2;36m                   \u001b[0m\u001b[2;36m \u001b[0m\u001b[34mINFO    \u001b[0m cid: \u001b[1;36m24\u001b[0m                                                                        \u001b]8;id=800315;file:///home/dawn/repos/c2m3-federated/c2m3/scripts/../../c2m3/flower/frank_flower_client.py\u001b\\\u001b[2mflwr\u001b[0m\u001b]8;;\u001b\\\u001b[2m:\u001b[0m\u001b]8;id=988781;file:///home/dawn/repos/c2m3-federated/c2m3/scripts/../../c2m3/flower/frank_flower_client.py#40\u001b\\\u001b[2m40\u001b[0m\u001b]8;;\u001b\\\n"
      ]
     },
     "metadata": {},
     "output_type": "display_data"
    },
    {
     "name": "stderr",
     "output_type": "stream",
     "text": [
      "INFO flwr 2025-03-09 13:19:34,999 | frank_flower_client.py:40 | cid: 22\n"
     ]
    },
    {
     "data": {
      "text/html": [
       "<pre style=\"white-space:pre;overflow-x:auto;line-height:normal;font-family:Menlo,'DejaVu Sans Mono',consolas,'Courier New',monospace\"><span style=\"color: #7fbfbf; text-decoration-color: #7fbfbf\">                    </span><span style=\"color: #000080; text-decoration-color: #000080\">INFO    </span> cid: <span style=\"color: #008080; text-decoration-color: #008080; font-weight: bold\">22</span>                                                                        <a href=\"file:///home/dawn/repos/c2m3-federated/c2m3/scripts/../../c2m3/flower/frank_flower_client.py\" target=\"_blank\"><span style=\"color: #7f7f7f; text-decoration-color: #7f7f7f\">flwr</span></a><span style=\"color: #7f7f7f; text-decoration-color: #7f7f7f\">:</span><a href=\"file:///home/dawn/repos/c2m3-federated/c2m3/scripts/../../c2m3/flower/frank_flower_client.py#40\" target=\"_blank\"><span style=\"color: #7f7f7f; text-decoration-color: #7f7f7f\">40</span></a>\n",
       "</pre>\n"
      ],
      "text/plain": [
       "\u001b[2;36m                   \u001b[0m\u001b[2;36m \u001b[0m\u001b[34mINFO    \u001b[0m cid: \u001b[1;36m22\u001b[0m                                                                        \u001b]8;id=916451;file:///home/dawn/repos/c2m3-federated/c2m3/scripts/../../c2m3/flower/frank_flower_client.py\u001b\\\u001b[2mflwr\u001b[0m\u001b]8;;\u001b\\\u001b[2m:\u001b[0m\u001b]8;id=376118;file:///home/dawn/repos/c2m3-federated/c2m3/scripts/../../c2m3/flower/frank_flower_client.py#40\u001b\\\u001b[2m40\u001b[0m\u001b]8;;\u001b\\\n"
      ]
     },
     "metadata": {},
     "output_type": "display_data"
    },
    {
     "name": "stderr",
     "output_type": "stream",
     "text": [
      "INFO flwr 2025-03-09 13:19:35,016 | frank_flower_client.py:40 | cid: 29\n"
     ]
    },
    {
     "data": {
      "text/html": [
       "<pre style=\"white-space:pre;overflow-x:auto;line-height:normal;font-family:Menlo,'DejaVu Sans Mono',consolas,'Courier New',monospace\"><span style=\"color: #7fbfbf; text-decoration-color: #7fbfbf\">2025-03-09 13:19:35 </span><span style=\"color: #000080; text-decoration-color: #000080\">INFO    </span> cid: <span style=\"color: #008080; text-decoration-color: #008080; font-weight: bold\">29</span>                                                                        <a href=\"file:///home/dawn/repos/c2m3-federated/c2m3/scripts/../../c2m3/flower/frank_flower_client.py\" target=\"_blank\"><span style=\"color: #7f7f7f; text-decoration-color: #7f7f7f\">flwr</span></a><span style=\"color: #7f7f7f; text-decoration-color: #7f7f7f\">:</span><a href=\"file:///home/dawn/repos/c2m3-federated/c2m3/scripts/../../c2m3/flower/frank_flower_client.py#40\" target=\"_blank\"><span style=\"color: #7f7f7f; text-decoration-color: #7f7f7f\">40</span></a>\n",
       "</pre>\n"
      ],
      "text/plain": [
       "\u001b[2;36m2025-03-09 13:19:35\u001b[0m\u001b[2;36m \u001b[0m\u001b[34mINFO    \u001b[0m cid: \u001b[1;36m29\u001b[0m                                                                        \u001b]8;id=461442;file:///home/dawn/repos/c2m3-federated/c2m3/scripts/../../c2m3/flower/frank_flower_client.py\u001b\\\u001b[2mflwr\u001b[0m\u001b]8;;\u001b\\\u001b[2m:\u001b[0m\u001b]8;id=608319;file:///home/dawn/repos/c2m3-federated/c2m3/scripts/../../c2m3/flower/frank_flower_client.py#40\u001b\\\u001b[2m40\u001b[0m\u001b]8;;\u001b\\\n"
      ]
     },
     "metadata": {},
     "output_type": "display_data"
    },
    {
     "name": "stderr",
     "output_type": "stream",
     "text": [
      "INFO flwr 2025-03-09 13:19:35,031 | frank_flower_client.py:40 | cid: 40\n"
     ]
    },
    {
     "data": {
      "text/html": [
       "<pre style=\"white-space:pre;overflow-x:auto;line-height:normal;font-family:Menlo,'DejaVu Sans Mono',consolas,'Courier New',monospace\"><span style=\"color: #7fbfbf; text-decoration-color: #7fbfbf\">                    </span><span style=\"color: #000080; text-decoration-color: #000080\">INFO    </span> cid: <span style=\"color: #008080; text-decoration-color: #008080; font-weight: bold\">40</span>                                                                        <a href=\"file:///home/dawn/repos/c2m3-federated/c2m3/scripts/../../c2m3/flower/frank_flower_client.py\" target=\"_blank\"><span style=\"color: #7f7f7f; text-decoration-color: #7f7f7f\">flwr</span></a><span style=\"color: #7f7f7f; text-decoration-color: #7f7f7f\">:</span><a href=\"file:///home/dawn/repos/c2m3-federated/c2m3/scripts/../../c2m3/flower/frank_flower_client.py#40\" target=\"_blank\"><span style=\"color: #7f7f7f; text-decoration-color: #7f7f7f\">40</span></a>\n",
       "</pre>\n"
      ],
      "text/plain": [
       "\u001b[2;36m                   \u001b[0m\u001b[2;36m \u001b[0m\u001b[34mINFO    \u001b[0m cid: \u001b[1;36m40\u001b[0m                                                                        \u001b]8;id=653960;file:///home/dawn/repos/c2m3-federated/c2m3/scripts/../../c2m3/flower/frank_flower_client.py\u001b\\\u001b[2mflwr\u001b[0m\u001b]8;;\u001b\\\u001b[2m:\u001b[0m\u001b]8;id=860199;file:///home/dawn/repos/c2m3-federated/c2m3/scripts/../../c2m3/flower/frank_flower_client.py#40\u001b\\\u001b[2m40\u001b[0m\u001b]8;;\u001b\\\n"
      ]
     },
     "metadata": {},
     "output_type": "display_data"
    },
    {
     "name": "stderr",
     "output_type": "stream",
     "text": [
      "INFO flwr 2025-03-09 13:19:35,046 | frank_flower_client.py:40 | cid: 4\n"
     ]
    },
    {
     "data": {
      "text/html": [
       "<pre style=\"white-space:pre;overflow-x:auto;line-height:normal;font-family:Menlo,'DejaVu Sans Mono',consolas,'Courier New',monospace\"><span style=\"color: #7fbfbf; text-decoration-color: #7fbfbf\">                    </span><span style=\"color: #000080; text-decoration-color: #000080\">INFO    </span> cid: <span style=\"color: #008080; text-decoration-color: #008080; font-weight: bold\">4</span>                                                                         <a href=\"file:///home/dawn/repos/c2m3-federated/c2m3/scripts/../../c2m3/flower/frank_flower_client.py\" target=\"_blank\"><span style=\"color: #7f7f7f; text-decoration-color: #7f7f7f\">flwr</span></a><span style=\"color: #7f7f7f; text-decoration-color: #7f7f7f\">:</span><a href=\"file:///home/dawn/repos/c2m3-federated/c2m3/scripts/../../c2m3/flower/frank_flower_client.py#40\" target=\"_blank\"><span style=\"color: #7f7f7f; text-decoration-color: #7f7f7f\">40</span></a>\n",
       "</pre>\n"
      ],
      "text/plain": [
       "\u001b[2;36m                   \u001b[0m\u001b[2;36m \u001b[0m\u001b[34mINFO    \u001b[0m cid: \u001b[1;36m4\u001b[0m                                                                         \u001b]8;id=404144;file:///home/dawn/repos/c2m3-federated/c2m3/scripts/../../c2m3/flower/frank_flower_client.py\u001b\\\u001b[2mflwr\u001b[0m\u001b]8;;\u001b\\\u001b[2m:\u001b[0m\u001b]8;id=852609;file:///home/dawn/repos/c2m3-federated/c2m3/scripts/../../c2m3/flower/frank_flower_client.py#40\u001b\\\u001b[2m40\u001b[0m\u001b]8;;\u001b\\\n"
      ]
     },
     "metadata": {},
     "output_type": "display_data"
    },
    {
     "name": "stdout",
     "output_type": "stream",
     "text": [
      "dict_keys(['a', 'b', 'c', 'd', 'e'])\n",
      "<class 'c2m3.modules.pl_module.MyLightningModule'>\n"
     ]
    },
    {
     "name": "stderr",
     "output_type": "stream",
     "text": [
      "Weight matching:   2%|▎         | 5/200 [00:03<02:12,  1.47it/s]\n"
     ]
    },
    {
     "name": "stdout",
     "output_type": "stream",
     "text": [
      "perms_to_apply={'P_conv1': tensor([0, 1, 2, 3, 4, 5]), 'P_fc1': tensor([  0,   1,   2,   3,   4,   5,   6,   7,   8,   9,  10,  11,  12,  13,\n",
      "         14,  15,  16,  17,  18,  19,  20,  21,  22,  23,  24,  25,  26,  27,\n",
      "         28,  29,  30,  31,  32,  33,  34,  35,  36,  37,  38,  39,  40,  41,\n",
      "         42,  43,  44,  45,  46,  47,  48,  49,  50,  51,  52,  53,  54,  55,\n",
      "         56,  57,  58,  59,  60,  61,  62,  63,  64,  65,  66,  67,  68,  69,\n",
      "         70,  71,  72,  73,  74,  75,  76,  77,  78,  79,  80,  81,  82,  83,\n",
      "         84,  85,  86,  87,  88,  89,  90,  91,  92,  93,  94,  95,  96,  97,\n",
      "         98,  99, 100, 101, 102, 103, 104, 105, 106, 107, 108, 109, 110, 111,\n",
      "        112, 113, 114, 115, 116, 117, 118, 119]), 'P_fc2': tensor([ 0,  1,  2,  3,  4,  5,  6,  7,  8,  9, 10, 11, 12, 13, 14, 15, 16, 17,\n",
      "        18, 19, 20, 21, 22, 23, 24, 25, 26, 27, 28, 29, 30, 31, 32, 33, 34, 35,\n",
      "        36, 37, 38, 39, 40, 41, 42, 43, 44, 45, 46, 47, 48, 49, 50, 51, 52, 53,\n",
      "        54, 55, 56, 57, 58, 59, 60, 61, 62, 63, 64, 65, 66, 67, 68, 69, 70, 71,\n",
      "        72, 73, 74, 75, 76, 77, 78, 79, 80, 81, 82, 83])}\n",
      "perms_to_apply={'P_conv1': tensor([0, 1, 2, 3, 4, 5]), 'P_fc1': tensor([  0,   1,   2,   3,   4,   5,   6,   7,   8,   9,  10,  11,  12,  13,\n",
      "         14,  15,  16,  17,  18,  19,  20,  21,  22,  23,  24,  25,  26,  27,\n",
      "         28,  29,  30,  31,  32,  33,  34,  35,  36,  37,  38,  39,  40,  41,\n",
      "         42,  43,  44,  45,  46,  47,  48,  49,  50,  51,  52,  53,  54,  55,\n",
      "         56,  57,  58,  59,  60,  61,  62,  63,  64,  65,  66,  67,  68,  69,\n",
      "         70,  71,  72,  73,  74,  75,  76,  77,  78,  79,  80,  81,  82,  83,\n",
      "         84,  85,  86,  87,  88,  89,  90,  91,  92,  93,  94,  95,  96,  97,\n",
      "         98,  99, 100, 101, 102, 103, 104, 105, 106, 107, 108, 109, 110, 111,\n",
      "        112, 113, 114, 115, 116, 117, 118, 119]), 'P_fc2': tensor([ 0,  1,  2,  3,  4,  5,  6,  7,  8,  9, 10, 11, 12, 13, 14, 15, 16, 17,\n",
      "        18, 19, 20, 21, 22, 23, 24, 25, 26, 27, 28, 29, 30, 31, 32, 33, 34, 35,\n",
      "        36, 37, 38, 39, 40, 41, 42, 43, 44, 45, 46, 47, 48, 49, 50, 51, 52, 53,\n",
      "        54, 55, 56, 57, 58, 59, 60, 61, 62, 63, 64, 65, 66, 67, 68, 69, 70, 71,\n",
      "        72, 73, 74, 75, 76, 77, 78, 79, 80, 81, 82, 83])}\n",
      "perms_to_apply={'P_conv1': tensor([0, 1, 2, 3, 4, 5]), 'P_fc1': tensor([  0,   1,   2,   3,   4,   5,   6,   7,   8,   9,  10,  11,  12,  13,\n",
      "         14,  15,  16,  17,  18,  19,  20,  21,  22,  23,  24,  25,  26,  27,\n",
      "         28,  29,  30,  31,  32,  33,  34,  35,  36,  37,  38,  39,  40,  41,\n",
      "         42,  43,  44,  45,  46,  47,  48,  49,  50,  51,  52,  53,  54,  55,\n",
      "         56,  57,  58,  59,  60,  61,  62,  63,  64,  65,  66,  67,  68,  69,\n",
      "         70,  71,  72,  73,  74,  75,  76,  77,  78,  79,  80,  81,  82,  83,\n",
      "         84,  85,  86,  87,  88,  89,  90,  91,  92,  93,  94,  95,  96,  97,\n",
      "         98,  99, 100, 101, 102, 103, 104, 105, 106, 107, 108, 109, 110, 111,\n",
      "        112, 113, 114, 115, 116, 117, 118, 119]), 'P_fc2': tensor([ 0,  1,  2,  3,  4,  5,  6,  7,  8,  9, 10, 11, 12, 13, 14, 15, 16, 17,\n",
      "        18, 19, 20, 21, 22, 23, 24, 25, 26, 27, 28, 29, 30, 31, 32, 33, 34, 35,\n",
      "        36, 37, 38, 39, 40, 41, 42, 43, 44, 45, 46, 47, 48, 49, 50, 51, 52, 53,\n",
      "        54, 55, 56, 57, 58, 59, 60, 61, 62, 63, 64, 65, 66, 67, 68, 69, 70, 71,\n",
      "        72, 73, 74, 75, 76, 77, 78, 79, 80, 81, 82, 83])}\n",
      "perms_to_apply={'P_conv1': tensor([0, 1, 2, 3, 4, 5]), 'P_fc1': tensor([  0,   1,   2,   3,   4,   5,   6,   7,   8,   9,  10,  11,  12,  13,\n",
      "         14,  15,  16,  17,  18,  19,  20,  21,  22,  23,  24,  25,  26,  27,\n",
      "         28,  29,  30,  31,  32,  33,  34,  35,  36,  37,  38,  39,  40,  41,\n",
      "         42,  43,  44,  45,  46,  47,  48,  49,  50,  51,  52,  53,  54,  55,\n",
      "         56,  57,  58,  59,  60,  61,  62,  63,  64,  65,  66,  67,  68,  69,\n",
      "         70,  71,  72,  73,  74,  75,  76,  77,  78,  79,  80,  81,  82,  83,\n",
      "         84,  85,  86,  87,  88,  89,  90,  91,  92,  93,  94,  95,  96,  97,\n",
      "         98,  99, 100, 101, 102, 103, 104, 105, 106, 107, 108, 109, 110, 111,\n",
      "        112, 113, 114, 115, 116, 117, 118, 119]), 'P_fc2': tensor([ 0,  1,  2,  3,  4,  5,  6,  7,  8,  9, 10, 11, 12, 13, 14, 15, 16, 17,\n",
      "        18, 19, 20, 21, 22, 23, 24, 25, 26, 27, 28, 29, 30, 31, 32, 33, 34, 35,\n",
      "        36, 37, 38, 39, 40, 41, 42, 43, 44, 45, 46, 47, 48, 49, 50, 51, 52, 53,\n",
      "        54, 55, 56, 57, 58, 59, 60, 61, 62, 63, 64, 65, 66, 67, 68, 69, 70, 71,\n",
      "        72, 73, 74, 75, 76, 77, 78, 79, 80, 81, 82, 83])}\n",
      "perms_to_apply={'P_conv1': tensor([0, 1, 2, 3, 4, 5]), 'P_fc1': tensor([  0,   1,   2,   3,   4,   5,   6,   7,   8,   9,  10,  11,  12,  13,\n",
      "         14,  15,  16,  17,  18,  19,  20,  21,  22,  23,  24,  25,  26,  27,\n",
      "         28,  29,  30,  31,  32,  33,  34,  35,  36,  37,  38,  39,  40,  41,\n",
      "         42,  43,  44,  45,  46,  47,  48,  49,  50,  51,  52,  53,  54,  55,\n",
      "         56,  57,  58,  59,  60,  61,  62,  63,  64,  65,  66,  67,  68,  69,\n",
      "         70,  71,  72,  73,  74,  75,  76,  77,  78,  79,  80,  81,  82,  83,\n",
      "         84,  85,  86,  87,  88,  89,  90,  91,  92,  93,  94,  95,  96,  97,\n",
      "         98,  99, 100, 101, 102, 103, 104, 105, 106, 107, 108, 109, 110, 111,\n",
      "        112, 113, 114, 115, 116, 117, 118, 119]), 'P_fc2': tensor([ 0,  1,  2,  3,  4,  5,  6,  7,  8,  9, 10, 11, 12, 13, 14, 15, 16, 17,\n",
      "        18, 19, 20, 21, 22, 23, 24, 25, 26, 27, 28, 29, 30, 31, 32, 33, 34, 35,\n",
      "        36, 37, 38, 39, 40, 41, 42, 43, 44, 45, 46, 47, 48, 49, 50, 51, 52, 53,\n",
      "        54, 55, 56, 57, 58, 59, 60, 61, 62, 63, 64, 65, 66, 67, 68, 69, 70, 71,\n",
      "        72, 73, 74, 75, 76, 77, 78, 79, 80, 81, 82, 83])}\n",
      "Function merge_models Took 3.4742 seconds\n",
      "Successfully merged models.\n"
     ]
    },
    {
     "name": "stderr",
     "output_type": "stream",
     "text": [
      "100%|██████████| 47/47 [00:00<00:00, 90.03it/s]\n",
      "INFO flwr 2025-03-09 13:19:39,600 | server_returns_parameters.py:120 | fit progress: (2, 387.0360794067383, {'accuracy': 0.042}, 1862.4893690610188)\n"
     ]
    },
    {
     "data": {
      "text/html": [
       "<pre style=\"white-space:pre;overflow-x:auto;line-height:normal;font-family:Menlo,'DejaVu Sans Mono',consolas,'Courier New',monospace\"><span style=\"color: #7fbfbf; text-decoration-color: #7fbfbf\">2025-03-09 13:19:39 </span><span style=\"color: #000080; text-decoration-color: #000080\">INFO    </span> fit progress: <span style=\"font-weight: bold\">(</span><span style=\"color: #008080; text-decoration-color: #008080; font-weight: bold\">2</span>, <span style=\"color: #008080; text-decoration-color: #008080; font-weight: bold\">387.0360794067383</span>, <span style=\"font-weight: bold\">{</span><span style=\"color: #008000; text-decoration-color: #008000\">'accuracy'</span>: <span style=\"color: #008080; text-decoration-color: #008080; font-weight: bold\">0.042</span><span style=\"font-weight: bold\">}</span>, <span style=\"color: #008080; text-decoration-color: #008080; font-weight: bold\">1862.4893690610188</span><span style=\"font-weight: bold\">)</span> <a href=\"file:///home/dawn/venvs/fed/lib/python3.10/site-packages/flwr/server/server_returns_parameters.py\" target=\"_blank\"><span style=\"color: #7f7f7f; text-decoration-color: #7f7f7f\">flwr</span></a><span style=\"color: #7f7f7f; text-decoration-color: #7f7f7f\">:</span><a href=\"file:///home/dawn/venvs/fed/lib/python3.10/site-packages/flwr/server/server_returns_parameters.py#120\" target=\"_blank\"><span style=\"color: #7f7f7f; text-decoration-color: #7f7f7f\">120</span></a>\n",
       "</pre>\n"
      ],
      "text/plain": [
       "\u001b[2;36m2025-03-09 13:19:39\u001b[0m\u001b[2;36m \u001b[0m\u001b[34mINFO    \u001b[0m fit progress: \u001b[1m(\u001b[0m\u001b[1;36m2\u001b[0m, \u001b[1;36m387.0360794067383\u001b[0m, \u001b[1m{\u001b[0m\u001b[32m'accuracy'\u001b[0m: \u001b[1;36m0.042\u001b[0m\u001b[1m}\u001b[0m, \u001b[1;36m1862.4893690610188\u001b[0m\u001b[1m)\u001b[0m \u001b]8;id=3017;file:///home/dawn/venvs/fed/lib/python3.10/site-packages/flwr/server/server_returns_parameters.py\u001b\\\u001b[2mflwr\u001b[0m\u001b]8;;\u001b\\\u001b[2m:\u001b[0m\u001b]8;id=359135;file:///home/dawn/venvs/fed/lib/python3.10/site-packages/flwr/server/server_returns_parameters.py#120\u001b\\\u001b[2m120\u001b[0m\u001b]8;;\u001b\\\n"
      ]
     },
     "metadata": {},
     "output_type": "display_data"
    },
    {
     "name": "stderr",
     "output_type": "stream",
     "text": [
      "DEBUG flwr 2025-03-09 13:19:39,606 | server_returns_parameters.py:173 | evaluate_round 2: strategy sampled 5 clients (out of 62)\n"
     ]
    },
    {
     "data": {
      "text/html": [
       "<pre style=\"white-space:pre;overflow-x:auto;line-height:normal;font-family:Menlo,'DejaVu Sans Mono',consolas,'Courier New',monospace\"><span style=\"color: #7fbfbf; text-decoration-color: #7fbfbf\">                    </span><span style=\"color: #008000; text-decoration-color: #008000\">DEBUG   </span> evaluate_round <span style=\"color: #008080; text-decoration-color: #008080; font-weight: bold\">2</span>: strategy sampled <span style=\"color: #008080; text-decoration-color: #008080; font-weight: bold\">5</span> clients <span style=\"font-weight: bold\">(</span>out of <span style=\"color: #008080; text-decoration-color: #008080; font-weight: bold\">62</span><span style=\"font-weight: bold\">)</span>                      <a href=\"file:///home/dawn/venvs/fed/lib/python3.10/site-packages/flwr/server/server_returns_parameters.py\" target=\"_blank\"><span style=\"color: #7f7f7f; text-decoration-color: #7f7f7f\">flwr</span></a><span style=\"color: #7f7f7f; text-decoration-color: #7f7f7f\">:</span><a href=\"file:///home/dawn/venvs/fed/lib/python3.10/site-packages/flwr/server/server_returns_parameters.py#173\" target=\"_blank\"><span style=\"color: #7f7f7f; text-decoration-color: #7f7f7f\">173</span></a>\n",
       "</pre>\n"
      ],
      "text/plain": [
       "\u001b[2;36m                   \u001b[0m\u001b[2;36m \u001b[0m\u001b[32mDEBUG   \u001b[0m evaluate_round \u001b[1;36m2\u001b[0m: strategy sampled \u001b[1;36m5\u001b[0m clients \u001b[1m(\u001b[0mout of \u001b[1;36m62\u001b[0m\u001b[1m)\u001b[0m                      \u001b]8;id=407641;file:///home/dawn/venvs/fed/lib/python3.10/site-packages/flwr/server/server_returns_parameters.py\u001b\\\u001b[2mflwr\u001b[0m\u001b]8;;\u001b\\\u001b[2m:\u001b[0m\u001b]8;id=146318;file:///home/dawn/venvs/fed/lib/python3.10/site-packages/flwr/server/server_returns_parameters.py#173\u001b\\\u001b[2m173\u001b[0m\u001b]8;;\u001b\\\n"
      ]
     },
     "metadata": {},
     "output_type": "display_data"
    },
    {
     "name": "stderr",
     "output_type": "stream",
     "text": [
      "INFO flwr 2025-03-09 13:19:39,614 | frank_flower_client.py:40 | cid: 5\n",
      "INFO flwr 2025-03-09 13:19:39,620 | frank_flower_client.py:40 | cid: 53\n"
     ]
    },
    {
     "data": {
      "text/html": [
       "<pre style=\"white-space:pre;overflow-x:auto;line-height:normal;font-family:Menlo,'DejaVu Sans Mono',consolas,'Courier New',monospace\"><span style=\"color: #7fbfbf; text-decoration-color: #7fbfbf\">                    </span><span style=\"color: #000080; text-decoration-color: #000080\">INFO    </span> cid: <span style=\"color: #008080; text-decoration-color: #008080; font-weight: bold\">5</span>                                                                         <a href=\"file:///home/dawn/repos/c2m3-federated/c2m3/scripts/../../c2m3/flower/frank_flower_client.py\" target=\"_blank\"><span style=\"color: #7f7f7f; text-decoration-color: #7f7f7f\">flwr</span></a><span style=\"color: #7f7f7f; text-decoration-color: #7f7f7f\">:</span><a href=\"file:///home/dawn/repos/c2m3-federated/c2m3/scripts/../../c2m3/flower/frank_flower_client.py#40\" target=\"_blank\"><span style=\"color: #7f7f7f; text-decoration-color: #7f7f7f\">40</span></a>\n",
       "</pre>\n"
      ],
      "text/plain": [
       "\u001b[2;36m                   \u001b[0m\u001b[2;36m \u001b[0m\u001b[34mINFO    \u001b[0m cid: \u001b[1;36m5\u001b[0m                                                                         \u001b]8;id=609390;file:///home/dawn/repos/c2m3-federated/c2m3/scripts/../../c2m3/flower/frank_flower_client.py\u001b\\\u001b[2mflwr\u001b[0m\u001b]8;;\u001b\\\u001b[2m:\u001b[0m\u001b]8;id=397184;file:///home/dawn/repos/c2m3-federated/c2m3/scripts/../../c2m3/flower/frank_flower_client.py#40\u001b\\\u001b[2m40\u001b[0m\u001b]8;;\u001b\\\n"
      ]
     },
     "metadata": {},
     "output_type": "display_data"
    },
    {
     "name": "stderr",
     "output_type": "stream",
     "text": [
      "INFO flwr 2025-03-09 13:19:39,622 | frank_flower_client.py:40 | cid: 59\n",
      "INFO flwr 2025-03-09 13:19:39,623 | frank_flower_client.py:40 | cid: 17\n",
      "INFO flwr 2025-03-09 13:19:39,626 | frank_flower_client.py:40 | cid: 31\n"
     ]
    },
    {
     "data": {
      "text/html": [
       "<pre style=\"white-space:pre;overflow-x:auto;line-height:normal;font-family:Menlo,'DejaVu Sans Mono',consolas,'Courier New',monospace\"><span style=\"color: #7fbfbf; text-decoration-color: #7fbfbf\">                    </span><span style=\"color: #000080; text-decoration-color: #000080\">INFO    </span> cid: <span style=\"color: #008080; text-decoration-color: #008080; font-weight: bold\">53</span>                                                                        <a href=\"file:///home/dawn/repos/c2m3-federated/c2m3/scripts/../../c2m3/flower/frank_flower_client.py\" target=\"_blank\"><span style=\"color: #7f7f7f; text-decoration-color: #7f7f7f\">flwr</span></a><span style=\"color: #7f7f7f; text-decoration-color: #7f7f7f\">:</span><a href=\"file:///home/dawn/repos/c2m3-federated/c2m3/scripts/../../c2m3/flower/frank_flower_client.py#40\" target=\"_blank\"><span style=\"color: #7f7f7f; text-decoration-color: #7f7f7f\">40</span></a>\n",
       "</pre>\n"
      ],
      "text/plain": [
       "\u001b[2;36m                   \u001b[0m\u001b[2;36m \u001b[0m\u001b[34mINFO    \u001b[0m cid: \u001b[1;36m53\u001b[0m                                                                        \u001b]8;id=699396;file:///home/dawn/repos/c2m3-federated/c2m3/scripts/../../c2m3/flower/frank_flower_client.py\u001b\\\u001b[2mflwr\u001b[0m\u001b]8;;\u001b\\\u001b[2m:\u001b[0m\u001b]8;id=254830;file:///home/dawn/repos/c2m3-federated/c2m3/scripts/../../c2m3/flower/frank_flower_client.py#40\u001b\\\u001b[2m40\u001b[0m\u001b]8;;\u001b\\\n"
      ]
     },
     "metadata": {},
     "output_type": "display_data"
    },
    {
     "data": {
      "text/html": [
       "<pre style=\"white-space:pre;overflow-x:auto;line-height:normal;font-family:Menlo,'DejaVu Sans Mono',consolas,'Courier New',monospace\"><span style=\"color: #7fbfbf; text-decoration-color: #7fbfbf\">                    </span><span style=\"color: #000080; text-decoration-color: #000080\">INFO    </span> cid: <span style=\"color: #008080; text-decoration-color: #008080; font-weight: bold\">59</span>                                                                        <a href=\"file:///home/dawn/repos/c2m3-federated/c2m3/scripts/../../c2m3/flower/frank_flower_client.py\" target=\"_blank\"><span style=\"color: #7f7f7f; text-decoration-color: #7f7f7f\">flwr</span></a><span style=\"color: #7f7f7f; text-decoration-color: #7f7f7f\">:</span><a href=\"file:///home/dawn/repos/c2m3-federated/c2m3/scripts/../../c2m3/flower/frank_flower_client.py#40\" target=\"_blank\"><span style=\"color: #7f7f7f; text-decoration-color: #7f7f7f\">40</span></a>\n",
       "</pre>\n"
      ],
      "text/plain": [
       "\u001b[2;36m                   \u001b[0m\u001b[2;36m \u001b[0m\u001b[34mINFO    \u001b[0m cid: \u001b[1;36m59\u001b[0m                                                                        \u001b]8;id=751810;file:///home/dawn/repos/c2m3-federated/c2m3/scripts/../../c2m3/flower/frank_flower_client.py\u001b\\\u001b[2mflwr\u001b[0m\u001b]8;;\u001b\\\u001b[2m:\u001b[0m\u001b]8;id=222790;file:///home/dawn/repos/c2m3-federated/c2m3/scripts/../../c2m3/flower/frank_flower_client.py#40\u001b\\\u001b[2m40\u001b[0m\u001b]8;;\u001b\\\n"
      ]
     },
     "metadata": {},
     "output_type": "display_data"
    },
    {
     "data": {
      "text/html": [
       "<pre style=\"white-space:pre;overflow-x:auto;line-height:normal;font-family:Menlo,'DejaVu Sans Mono',consolas,'Courier New',monospace\"><span style=\"color: #7fbfbf; text-decoration-color: #7fbfbf\">                    </span><span style=\"color: #000080; text-decoration-color: #000080\">INFO    </span> cid: <span style=\"color: #008080; text-decoration-color: #008080; font-weight: bold\">17</span>                                                                        <a href=\"file:///home/dawn/repos/c2m3-federated/c2m3/scripts/../../c2m3/flower/frank_flower_client.py\" target=\"_blank\"><span style=\"color: #7f7f7f; text-decoration-color: #7f7f7f\">flwr</span></a><span style=\"color: #7f7f7f; text-decoration-color: #7f7f7f\">:</span><a href=\"file:///home/dawn/repos/c2m3-federated/c2m3/scripts/../../c2m3/flower/frank_flower_client.py#40\" target=\"_blank\"><span style=\"color: #7f7f7f; text-decoration-color: #7f7f7f\">40</span></a>\n",
       "</pre>\n"
      ],
      "text/plain": [
       "\u001b[2;36m                   \u001b[0m\u001b[2;36m \u001b[0m\u001b[34mINFO    \u001b[0m cid: \u001b[1;36m17\u001b[0m                                                                        \u001b]8;id=290210;file:///home/dawn/repos/c2m3-federated/c2m3/scripts/../../c2m3/flower/frank_flower_client.py\u001b\\\u001b[2mflwr\u001b[0m\u001b]8;;\u001b\\\u001b[2m:\u001b[0m\u001b]8;id=608142;file:///home/dawn/repos/c2m3-federated/c2m3/scripts/../../c2m3/flower/frank_flower_client.py#40\u001b\\\u001b[2m40\u001b[0m\u001b]8;;\u001b\\\n"
      ]
     },
     "metadata": {},
     "output_type": "display_data"
    },
    {
     "data": {
      "text/html": [
       "<pre style=\"white-space:pre;overflow-x:auto;line-height:normal;font-family:Menlo,'DejaVu Sans Mono',consolas,'Courier New',monospace\"><span style=\"color: #7fbfbf; text-decoration-color: #7fbfbf\">                    </span><span style=\"color: #000080; text-decoration-color: #000080\">INFO    </span> cid: <span style=\"color: #008080; text-decoration-color: #008080; font-weight: bold\">31</span>                                                                        <a href=\"file:///home/dawn/repos/c2m3-federated/c2m3/scripts/../../c2m3/flower/frank_flower_client.py\" target=\"_blank\"><span style=\"color: #7f7f7f; text-decoration-color: #7f7f7f\">flwr</span></a><span style=\"color: #7f7f7f; text-decoration-color: #7f7f7f\">:</span><a href=\"file:///home/dawn/repos/c2m3-federated/c2m3/scripts/../../c2m3/flower/frank_flower_client.py#40\" target=\"_blank\"><span style=\"color: #7f7f7f; text-decoration-color: #7f7f7f\">40</span></a>\n",
       "</pre>\n"
      ],
      "text/plain": [
       "\u001b[2;36m                   \u001b[0m\u001b[2;36m \u001b[0m\u001b[34mINFO    \u001b[0m cid: \u001b[1;36m31\u001b[0m                                                                        \u001b]8;id=996416;file:///home/dawn/repos/c2m3-federated/c2m3/scripts/../../c2m3/flower/frank_flower_client.py\u001b\\\u001b[2mflwr\u001b[0m\u001b]8;;\u001b\\\u001b[2m:\u001b[0m\u001b]8;id=159951;file:///home/dawn/repos/c2m3-federated/c2m3/scripts/../../c2m3/flower/frank_flower_client.py#40\u001b\\\u001b[2m40\u001b[0m\u001b]8;;\u001b\\\n"
      ]
     },
     "metadata": {},
     "output_type": "display_data"
    },
    {
     "name": "stderr",
     "output_type": "stream",
     "text": [
      "DEBUG flwr 2025-03-09 13:19:39,705 | server_returns_parameters.py:187 | evaluate_round 2 received 0 results and 5 failures\n"
     ]
    },
    {
     "data": {
      "text/html": [
       "<pre style=\"white-space:pre;overflow-x:auto;line-height:normal;font-family:Menlo,'DejaVu Sans Mono',consolas,'Courier New',monospace\"><span style=\"color: #7fbfbf; text-decoration-color: #7fbfbf\">                    </span><span style=\"color: #008000; text-decoration-color: #008000\">DEBUG   </span> evaluate_round <span style=\"color: #008080; text-decoration-color: #008080; font-weight: bold\">2</span> received <span style=\"color: #008080; text-decoration-color: #008080; font-weight: bold\">0</span> results and <span style=\"color: #008080; text-decoration-color: #008080; font-weight: bold\">5</span> failures                            <a href=\"file:///home/dawn/venvs/fed/lib/python3.10/site-packages/flwr/server/server_returns_parameters.py\" target=\"_blank\"><span style=\"color: #7f7f7f; text-decoration-color: #7f7f7f\">flwr</span></a><span style=\"color: #7f7f7f; text-decoration-color: #7f7f7f\">:</span><a href=\"file:///home/dawn/venvs/fed/lib/python3.10/site-packages/flwr/server/server_returns_parameters.py#187\" target=\"_blank\"><span style=\"color: #7f7f7f; text-decoration-color: #7f7f7f\">187</span></a>\n",
       "</pre>\n"
      ],
      "text/plain": [
       "\u001b[2;36m                   \u001b[0m\u001b[2;36m \u001b[0m\u001b[32mDEBUG   \u001b[0m evaluate_round \u001b[1;36m2\u001b[0m received \u001b[1;36m0\u001b[0m results and \u001b[1;36m5\u001b[0m failures                            \u001b]8;id=675527;file:///home/dawn/venvs/fed/lib/python3.10/site-packages/flwr/server/server_returns_parameters.py\u001b\\\u001b[2mflwr\u001b[0m\u001b]8;;\u001b\\\u001b[2m:\u001b[0m\u001b]8;id=45323;file:///home/dawn/venvs/fed/lib/python3.10/site-packages/flwr/server/server_returns_parameters.py#187\u001b\\\u001b[2m187\u001b[0m\u001b]8;;\u001b\\\n"
      ]
     },
     "metadata": {},
     "output_type": "display_data"
    },
    {
     "name": "stderr",
     "output_type": "stream",
     "text": [
      "DEBUG flwr 2025-03-09 13:19:39,712 | server_returns_parameters.py:223 | fit_round 3: strategy sampled 5 clients (out of 62)\n"
     ]
    },
    {
     "data": {
      "text/html": [
       "<pre style=\"white-space:pre;overflow-x:auto;line-height:normal;font-family:Menlo,'DejaVu Sans Mono',consolas,'Courier New',monospace\"><span style=\"color: #7fbfbf; text-decoration-color: #7fbfbf\">                    </span><span style=\"color: #008000; text-decoration-color: #008000\">DEBUG   </span> fit_round <span style=\"color: #008080; text-decoration-color: #008080; font-weight: bold\">3</span>: strategy sampled <span style=\"color: #008080; text-decoration-color: #008080; font-weight: bold\">5</span> clients <span style=\"font-weight: bold\">(</span>out of <span style=\"color: #008080; text-decoration-color: #008080; font-weight: bold\">62</span><span style=\"font-weight: bold\">)</span>                           <a href=\"file:///home/dawn/venvs/fed/lib/python3.10/site-packages/flwr/server/server_returns_parameters.py\" target=\"_blank\"><span style=\"color: #7f7f7f; text-decoration-color: #7f7f7f\">flwr</span></a><span style=\"color: #7f7f7f; text-decoration-color: #7f7f7f\">:</span><a href=\"file:///home/dawn/venvs/fed/lib/python3.10/site-packages/flwr/server/server_returns_parameters.py#223\" target=\"_blank\"><span style=\"color: #7f7f7f; text-decoration-color: #7f7f7f\">223</span></a>\n",
       "</pre>\n"
      ],
      "text/plain": [
       "\u001b[2;36m                   \u001b[0m\u001b[2;36m \u001b[0m\u001b[32mDEBUG   \u001b[0m fit_round \u001b[1;36m3\u001b[0m: strategy sampled \u001b[1;36m5\u001b[0m clients \u001b[1m(\u001b[0mout of \u001b[1;36m62\u001b[0m\u001b[1m)\u001b[0m                           \u001b]8;id=959661;file:///home/dawn/venvs/fed/lib/python3.10/site-packages/flwr/server/server_returns_parameters.py\u001b\\\u001b[2mflwr\u001b[0m\u001b]8;;\u001b\\\u001b[2m:\u001b[0m\u001b]8;id=915662;file:///home/dawn/venvs/fed/lib/python3.10/site-packages/flwr/server/server_returns_parameters.py#223\u001b\\\u001b[2m223\u001b[0m\u001b]8;;\u001b\\\n"
      ]
     },
     "metadata": {},
     "output_type": "display_data"
    },
    {
     "name": "stderr",
     "output_type": "stream",
     "text": [
      "INFO flwr 2025-03-09 13:19:39,719 | frank_flower_client.py:40 | cid: 41\n"
     ]
    },
    {
     "data": {
      "text/html": [
       "<pre style=\"white-space:pre;overflow-x:auto;line-height:normal;font-family:Menlo,'DejaVu Sans Mono',consolas,'Courier New',monospace\"><span style=\"color: #7fbfbf; text-decoration-color: #7fbfbf\">                    </span><span style=\"color: #000080; text-decoration-color: #000080\">INFO    </span> cid: <span style=\"color: #008080; text-decoration-color: #008080; font-weight: bold\">41</span>                                                                        <a href=\"file:///home/dawn/repos/c2m3-federated/c2m3/scripts/../../c2m3/flower/frank_flower_client.py\" target=\"_blank\"><span style=\"color: #7f7f7f; text-decoration-color: #7f7f7f\">flwr</span></a><span style=\"color: #7f7f7f; text-decoration-color: #7f7f7f\">:</span><a href=\"file:///home/dawn/repos/c2m3-federated/c2m3/scripts/../../c2m3/flower/frank_flower_client.py#40\" target=\"_blank\"><span style=\"color: #7f7f7f; text-decoration-color: #7f7f7f\">40</span></a>\n",
       "</pre>\n"
      ],
      "text/plain": [
       "\u001b[2;36m                   \u001b[0m\u001b[2;36m \u001b[0m\u001b[34mINFO    \u001b[0m cid: \u001b[1;36m41\u001b[0m                                                                        \u001b]8;id=975685;file:///home/dawn/repos/c2m3-federated/c2m3/scripts/../../c2m3/flower/frank_flower_client.py\u001b\\\u001b[2mflwr\u001b[0m\u001b]8;;\u001b\\\u001b[2m:\u001b[0m\u001b]8;id=479779;file:///home/dawn/repos/c2m3-federated/c2m3/scripts/../../c2m3/flower/frank_flower_client.py#40\u001b\\\u001b[2m40\u001b[0m\u001b]8;;\u001b\\\n"
      ]
     },
     "metadata": {},
     "output_type": "display_data"
    },
    {
     "name": "stderr",
     "output_type": "stream",
     "text": [
      "INFO flwr 2025-03-09 13:19:39,735 | frank_flower_client.py:40 | cid: 35\n",
      "INFO flwr 2025-03-09 13:19:39,736 | frank_flower_client.py:40 | cid: 31\n"
     ]
    },
    {
     "data": {
      "text/html": [
       "<pre style=\"white-space:pre;overflow-x:auto;line-height:normal;font-family:Menlo,'DejaVu Sans Mono',consolas,'Courier New',monospace\"><span style=\"color: #7fbfbf; text-decoration-color: #7fbfbf\">                    </span><span style=\"color: #000080; text-decoration-color: #000080\">INFO    </span> cid: <span style=\"color: #008080; text-decoration-color: #008080; font-weight: bold\">35</span>                                                                        <a href=\"file:///home/dawn/repos/c2m3-federated/c2m3/scripts/../../c2m3/flower/frank_flower_client.py\" target=\"_blank\"><span style=\"color: #7f7f7f; text-decoration-color: #7f7f7f\">flwr</span></a><span style=\"color: #7f7f7f; text-decoration-color: #7f7f7f\">:</span><a href=\"file:///home/dawn/repos/c2m3-federated/c2m3/scripts/../../c2m3/flower/frank_flower_client.py#40\" target=\"_blank\"><span style=\"color: #7f7f7f; text-decoration-color: #7f7f7f\">40</span></a>\n",
       "</pre>\n"
      ],
      "text/plain": [
       "\u001b[2;36m                   \u001b[0m\u001b[2;36m \u001b[0m\u001b[34mINFO    \u001b[0m cid: \u001b[1;36m35\u001b[0m                                                                        \u001b]8;id=829135;file:///home/dawn/repos/c2m3-federated/c2m3/scripts/../../c2m3/flower/frank_flower_client.py\u001b\\\u001b[2mflwr\u001b[0m\u001b]8;;\u001b\\\u001b[2m:\u001b[0m\u001b]8;id=202170;file:///home/dawn/repos/c2m3-federated/c2m3/scripts/../../c2m3/flower/frank_flower_client.py#40\u001b\\\u001b[2m40\u001b[0m\u001b]8;;\u001b\\\n"
      ]
     },
     "metadata": {},
     "output_type": "display_data"
    },
    {
     "name": "stderr",
     "output_type": "stream",
     "text": [
      "INFO flwr 2025-03-09 13:19:39,738 | frank_flower_client.py:40 | cid: 18\n",
      "INFO flwr 2025-03-09 13:19:39,759 | frank_flower_client.py:40 | cid: 1\n"
     ]
    },
    {
     "data": {
      "text/html": [
       "<pre style=\"white-space:pre;overflow-x:auto;line-height:normal;font-family:Menlo,'DejaVu Sans Mono',consolas,'Courier New',monospace\"><span style=\"color: #7fbfbf; text-decoration-color: #7fbfbf\">                    </span><span style=\"color: #000080; text-decoration-color: #000080\">INFO    </span> cid: <span style=\"color: #008080; text-decoration-color: #008080; font-weight: bold\">31</span>                                                                        <a href=\"file:///home/dawn/repos/c2m3-federated/c2m3/scripts/../../c2m3/flower/frank_flower_client.py\" target=\"_blank\"><span style=\"color: #7f7f7f; text-decoration-color: #7f7f7f\">flwr</span></a><span style=\"color: #7f7f7f; text-decoration-color: #7f7f7f\">:</span><a href=\"file:///home/dawn/repos/c2m3-federated/c2m3/scripts/../../c2m3/flower/frank_flower_client.py#40\" target=\"_blank\"><span style=\"color: #7f7f7f; text-decoration-color: #7f7f7f\">40</span></a>\n",
       "</pre>\n"
      ],
      "text/plain": [
       "\u001b[2;36m                   \u001b[0m\u001b[2;36m \u001b[0m\u001b[34mINFO    \u001b[0m cid: \u001b[1;36m31\u001b[0m                                                                        \u001b]8;id=679251;file:///home/dawn/repos/c2m3-federated/c2m3/scripts/../../c2m3/flower/frank_flower_client.py\u001b\\\u001b[2mflwr\u001b[0m\u001b]8;;\u001b\\\u001b[2m:\u001b[0m\u001b]8;id=44361;file:///home/dawn/repos/c2m3-federated/c2m3/scripts/../../c2m3/flower/frank_flower_client.py#40\u001b\\\u001b[2m40\u001b[0m\u001b]8;;\u001b\\\n"
      ]
     },
     "metadata": {},
     "output_type": "display_data"
    },
    {
     "name": "stdout",
     "output_type": "stream",
     "text": [
      "MARKER\n",
      "self.properties={'tensor_type': 'numpy.ndarray', 'partition': PosixPath('/home/dawn/repos/c2m3-federated/c2m3/scripts/../femnist/client_data_mappings/class_imbalanced'), 'cid': 41, 'train_loader': <torch.utils.data.dataloader.DataLoader object at 0x74ac35a79f90>}\n"
     ]
    },
    {
     "data": {
      "text/html": [
       "<pre style=\"white-space:pre;overflow-x:auto;line-height:normal;font-family:Menlo,'DejaVu Sans Mono',consolas,'Courier New',monospace\"><span style=\"color: #7fbfbf; text-decoration-color: #7fbfbf\">                    </span><span style=\"color: #000080; text-decoration-color: #000080\">INFO    </span> cid: <span style=\"color: #008080; text-decoration-color: #008080; font-weight: bold\">18</span>                                                                        <a href=\"file:///home/dawn/repos/c2m3-federated/c2m3/scripts/../../c2m3/flower/frank_flower_client.py\" target=\"_blank\"><span style=\"color: #7f7f7f; text-decoration-color: #7f7f7f\">flwr</span></a><span style=\"color: #7f7f7f; text-decoration-color: #7f7f7f\">:</span><a href=\"file:///home/dawn/repos/c2m3-federated/c2m3/scripts/../../c2m3/flower/frank_flower_client.py#40\" target=\"_blank\"><span style=\"color: #7f7f7f; text-decoration-color: #7f7f7f\">40</span></a>\n",
       "</pre>\n"
      ],
      "text/plain": [
       "\u001b[2;36m                   \u001b[0m\u001b[2;36m \u001b[0m\u001b[34mINFO    \u001b[0m cid: \u001b[1;36m18\u001b[0m                                                                        \u001b]8;id=483350;file:///home/dawn/repos/c2m3-federated/c2m3/scripts/../../c2m3/flower/frank_flower_client.py\u001b\\\u001b[2mflwr\u001b[0m\u001b]8;;\u001b\\\u001b[2m:\u001b[0m\u001b]8;id=747204;file:///home/dawn/repos/c2m3-federated/c2m3/scripts/../../c2m3/flower/frank_flower_client.py#40\u001b\\\u001b[2m40\u001b[0m\u001b]8;;\u001b\\\n"
      ]
     },
     "metadata": {},
     "output_type": "display_data"
    },
    {
     "data": {
      "text/html": [
       "<pre style=\"white-space:pre;overflow-x:auto;line-height:normal;font-family:Menlo,'DejaVu Sans Mono',consolas,'Courier New',monospace\"><span style=\"color: #7fbfbf; text-decoration-color: #7fbfbf\">                    </span><span style=\"color: #000080; text-decoration-color: #000080\">INFO    </span> cid: <span style=\"color: #008080; text-decoration-color: #008080; font-weight: bold\">1</span>                                                                         <a href=\"file:///home/dawn/repos/c2m3-federated/c2m3/scripts/../../c2m3/flower/frank_flower_client.py\" target=\"_blank\"><span style=\"color: #7f7f7f; text-decoration-color: #7f7f7f\">flwr</span></a><span style=\"color: #7f7f7f; text-decoration-color: #7f7f7f\">:</span><a href=\"file:///home/dawn/repos/c2m3-federated/c2m3/scripts/../../c2m3/flower/frank_flower_client.py#40\" target=\"_blank\"><span style=\"color: #7f7f7f; text-decoration-color: #7f7f7f\">40</span></a>\n",
       "</pre>\n"
      ],
      "text/plain": [
       "\u001b[2;36m                   \u001b[0m\u001b[2;36m \u001b[0m\u001b[34mINFO    \u001b[0m cid: \u001b[1;36m1\u001b[0m                                                                         \u001b]8;id=788887;file:///home/dawn/repos/c2m3-federated/c2m3/scripts/../../c2m3/flower/frank_flower_client.py\u001b\\\u001b[2mflwr\u001b[0m\u001b]8;;\u001b\\\u001b[2m:\u001b[0m\u001b]8;id=328017;file:///home/dawn/repos/c2m3-federated/c2m3/scripts/../../c2m3/flower/frank_flower_client.py#40\u001b\\\u001b[2m40\u001b[0m\u001b]8;;\u001b\\\n"
      ]
     },
     "metadata": {},
     "output_type": "display_data"
    },
    {
     "name": "stdout",
     "output_type": "stream",
     "text": [
      "MARKER\n",
      "self.properties={'tensor_type': 'numpy.ndarray', 'partition': PosixPath('/home/dawn/repos/c2m3-federated/c2m3/scripts/../femnist/client_data_mappings/class_imbalanced'), 'cid': 35, 'train_loader': <torch.utils.data.dataloader.DataLoader object at 0x74ac35b69a50>}\n",
      "MARKER\n",
      "self.properties={'tensor_type': 'numpy.ndarray', 'partition': PosixPath('/home/dawn/repos/c2m3-federated/c2m3/scripts/../femnist/client_data_mappings/class_imbalanced'), 'cid': 18, 'train_loader': <torch.utils.data.dataloader.DataLoader object at 0x74ac441db100>}\n",
      "MARKER\n",
      "self.properties={'tensor_type': 'numpy.ndarray', 'partition': PosixPath('/home/dawn/repos/c2m3-federated/c2m3/scripts/../femnist/client_data_mappings/class_imbalanced'), 'cid': 31, 'train_loader': <torch.utils.data.dataloader.DataLoader object at 0x74ac35299d50>}\n",
      "MARKER\n",
      "self.properties={'tensor_type': 'numpy.ndarray', 'partition': PosixPath('/home/dawn/repos/c2m3-federated/c2m3/scripts/../femnist/client_data_mappings/class_imbalanced'), 'cid': 1, 'train_loader': <torch.utils.data.dataloader.DataLoader object at 0x74ac35ba9bd0>}\n"
     ]
    },
    {
     "name": "stderr",
     "output_type": "stream",
     "text": [
      "DEBUG flwr 2025-03-09 13:19:44,596 | server_returns_parameters.py:237 | fit_round 3 received 5 results and 0 failures\n"
     ]
    },
    {
     "data": {
      "text/html": [
       "<pre style=\"white-space:pre;overflow-x:auto;line-height:normal;font-family:Menlo,'DejaVu Sans Mono',consolas,'Courier New',monospace\"><span style=\"color: #7fbfbf; text-decoration-color: #7fbfbf\">2025-03-09 13:19:44 </span><span style=\"color: #008000; text-decoration-color: #008000\">DEBUG   </span> fit_round <span style=\"color: #008080; text-decoration-color: #008080; font-weight: bold\">3</span> received <span style=\"color: #008080; text-decoration-color: #008080; font-weight: bold\">5</span> results and <span style=\"color: #008080; text-decoration-color: #008080; font-weight: bold\">0</span> failures                                 <a href=\"file:///home/dawn/venvs/fed/lib/python3.10/site-packages/flwr/server/server_returns_parameters.py\" target=\"_blank\"><span style=\"color: #7f7f7f; text-decoration-color: #7f7f7f\">flwr</span></a><span style=\"color: #7f7f7f; text-decoration-color: #7f7f7f\">:</span><a href=\"file:///home/dawn/venvs/fed/lib/python3.10/site-packages/flwr/server/server_returns_parameters.py#237\" target=\"_blank\"><span style=\"color: #7f7f7f; text-decoration-color: #7f7f7f\">237</span></a>\n",
       "</pre>\n"
      ],
      "text/plain": [
       "\u001b[2;36m2025-03-09 13:19:44\u001b[0m\u001b[2;36m \u001b[0m\u001b[32mDEBUG   \u001b[0m fit_round \u001b[1;36m3\u001b[0m received \u001b[1;36m5\u001b[0m results and \u001b[1;36m0\u001b[0m failures                                 \u001b]8;id=830699;file:///home/dawn/venvs/fed/lib/python3.10/site-packages/flwr/server/server_returns_parameters.py\u001b\\\u001b[2mflwr\u001b[0m\u001b]8;;\u001b\\\u001b[2m:\u001b[0m\u001b]8;id=660848;file:///home/dawn/venvs/fed/lib/python3.10/site-packages/flwr/server/server_returns_parameters.py#237\u001b\\\u001b[2m237\u001b[0m\u001b]8;;\u001b\\\n"
      ]
     },
     "metadata": {},
     "output_type": "display_data"
    },
    {
     "name": "stderr",
     "output_type": "stream",
     "text": [
      "INFO flwr 2025-03-09 13:19:44,606 | frank_flower_client.py:40 | cid: 41\n"
     ]
    },
    {
     "data": {
      "text/html": [
       "<pre style=\"white-space:pre;overflow-x:auto;line-height:normal;font-family:Menlo,'DejaVu Sans Mono',consolas,'Courier New',monospace\"><span style=\"color: #7fbfbf; text-decoration-color: #7fbfbf\">                    </span><span style=\"color: #000080; text-decoration-color: #000080\">INFO    </span> cid: <span style=\"color: #008080; text-decoration-color: #008080; font-weight: bold\">41</span>                                                                        <a href=\"file:///home/dawn/repos/c2m3-federated/c2m3/scripts/../../c2m3/flower/frank_flower_client.py\" target=\"_blank\"><span style=\"color: #7f7f7f; text-decoration-color: #7f7f7f\">flwr</span></a><span style=\"color: #7f7f7f; text-decoration-color: #7f7f7f\">:</span><a href=\"file:///home/dawn/repos/c2m3-federated/c2m3/scripts/../../c2m3/flower/frank_flower_client.py#40\" target=\"_blank\"><span style=\"color: #7f7f7f; text-decoration-color: #7f7f7f\">40</span></a>\n",
       "</pre>\n"
      ],
      "text/plain": [
       "\u001b[2;36m                   \u001b[0m\u001b[2;36m \u001b[0m\u001b[34mINFO    \u001b[0m cid: \u001b[1;36m41\u001b[0m                                                                        \u001b]8;id=752617;file:///home/dawn/repos/c2m3-federated/c2m3/scripts/../../c2m3/flower/frank_flower_client.py\u001b\\\u001b[2mflwr\u001b[0m\u001b]8;;\u001b\\\u001b[2m:\u001b[0m\u001b]8;id=16088;file:///home/dawn/repos/c2m3-federated/c2m3/scripts/../../c2m3/flower/frank_flower_client.py#40\u001b\\\u001b[2m40\u001b[0m\u001b]8;;\u001b\\\n"
      ]
     },
     "metadata": {},
     "output_type": "display_data"
    },
    {
     "name": "stderr",
     "output_type": "stream",
     "text": [
      "INFO flwr 2025-03-09 13:19:44,621 | frank_flower_client.py:40 | cid: 18\n"
     ]
    },
    {
     "data": {
      "text/html": [
       "<pre style=\"white-space:pre;overflow-x:auto;line-height:normal;font-family:Menlo,'DejaVu Sans Mono',consolas,'Courier New',monospace\"><span style=\"color: #7fbfbf; text-decoration-color: #7fbfbf\">                    </span><span style=\"color: #000080; text-decoration-color: #000080\">INFO    </span> cid: <span style=\"color: #008080; text-decoration-color: #008080; font-weight: bold\">18</span>                                                                        <a href=\"file:///home/dawn/repos/c2m3-federated/c2m3/scripts/../../c2m3/flower/frank_flower_client.py\" target=\"_blank\"><span style=\"color: #7f7f7f; text-decoration-color: #7f7f7f\">flwr</span></a><span style=\"color: #7f7f7f; text-decoration-color: #7f7f7f\">:</span><a href=\"file:///home/dawn/repos/c2m3-federated/c2m3/scripts/../../c2m3/flower/frank_flower_client.py#40\" target=\"_blank\"><span style=\"color: #7f7f7f; text-decoration-color: #7f7f7f\">40</span></a>\n",
       "</pre>\n"
      ],
      "text/plain": [
       "\u001b[2;36m                   \u001b[0m\u001b[2;36m \u001b[0m\u001b[34mINFO    \u001b[0m cid: \u001b[1;36m18\u001b[0m                                                                        \u001b]8;id=900605;file:///home/dawn/repos/c2m3-federated/c2m3/scripts/../../c2m3/flower/frank_flower_client.py\u001b\\\u001b[2mflwr\u001b[0m\u001b]8;;\u001b\\\u001b[2m:\u001b[0m\u001b]8;id=203152;file:///home/dawn/repos/c2m3-federated/c2m3/scripts/../../c2m3/flower/frank_flower_client.py#40\u001b\\\u001b[2m40\u001b[0m\u001b]8;;\u001b\\\n"
      ]
     },
     "metadata": {},
     "output_type": "display_data"
    },
    {
     "name": "stderr",
     "output_type": "stream",
     "text": [
      "INFO flwr 2025-03-09 13:19:44,636 | frank_flower_client.py:40 | cid: 35\n"
     ]
    },
    {
     "data": {
      "text/html": [
       "<pre style=\"white-space:pre;overflow-x:auto;line-height:normal;font-family:Menlo,'DejaVu Sans Mono',consolas,'Courier New',monospace\"><span style=\"color: #7fbfbf; text-decoration-color: #7fbfbf\">                    </span><span style=\"color: #000080; text-decoration-color: #000080\">INFO    </span> cid: <span style=\"color: #008080; text-decoration-color: #008080; font-weight: bold\">35</span>                                                                        <a href=\"file:///home/dawn/repos/c2m3-federated/c2m3/scripts/../../c2m3/flower/frank_flower_client.py\" target=\"_blank\"><span style=\"color: #7f7f7f; text-decoration-color: #7f7f7f\">flwr</span></a><span style=\"color: #7f7f7f; text-decoration-color: #7f7f7f\">:</span><a href=\"file:///home/dawn/repos/c2m3-federated/c2m3/scripts/../../c2m3/flower/frank_flower_client.py#40\" target=\"_blank\"><span style=\"color: #7f7f7f; text-decoration-color: #7f7f7f\">40</span></a>\n",
       "</pre>\n"
      ],
      "text/plain": [
       "\u001b[2;36m                   \u001b[0m\u001b[2;36m \u001b[0m\u001b[34mINFO    \u001b[0m cid: \u001b[1;36m35\u001b[0m                                                                        \u001b]8;id=82091;file:///home/dawn/repos/c2m3-federated/c2m3/scripts/../../c2m3/flower/frank_flower_client.py\u001b\\\u001b[2mflwr\u001b[0m\u001b]8;;\u001b\\\u001b[2m:\u001b[0m\u001b]8;id=167208;file:///home/dawn/repos/c2m3-federated/c2m3/scripts/../../c2m3/flower/frank_flower_client.py#40\u001b\\\u001b[2m40\u001b[0m\u001b]8;;\u001b\\\n"
      ]
     },
     "metadata": {},
     "output_type": "display_data"
    },
    {
     "name": "stderr",
     "output_type": "stream",
     "text": [
      "INFO flwr 2025-03-09 13:19:44,650 | frank_flower_client.py:40 | cid: 1\n"
     ]
    },
    {
     "data": {
      "text/html": [
       "<pre style=\"white-space:pre;overflow-x:auto;line-height:normal;font-family:Menlo,'DejaVu Sans Mono',consolas,'Courier New',monospace\"><span style=\"color: #7fbfbf; text-decoration-color: #7fbfbf\">                    </span><span style=\"color: #000080; text-decoration-color: #000080\">INFO    </span> cid: <span style=\"color: #008080; text-decoration-color: #008080; font-weight: bold\">1</span>                                                                         <a href=\"file:///home/dawn/repos/c2m3-federated/c2m3/scripts/../../c2m3/flower/frank_flower_client.py\" target=\"_blank\"><span style=\"color: #7f7f7f; text-decoration-color: #7f7f7f\">flwr</span></a><span style=\"color: #7f7f7f; text-decoration-color: #7f7f7f\">:</span><a href=\"file:///home/dawn/repos/c2m3-federated/c2m3/scripts/../../c2m3/flower/frank_flower_client.py#40\" target=\"_blank\"><span style=\"color: #7f7f7f; text-decoration-color: #7f7f7f\">40</span></a>\n",
       "</pre>\n"
      ],
      "text/plain": [
       "\u001b[2;36m                   \u001b[0m\u001b[2;36m \u001b[0m\u001b[34mINFO    \u001b[0m cid: \u001b[1;36m1\u001b[0m                                                                         \u001b]8;id=605526;file:///home/dawn/repos/c2m3-federated/c2m3/scripts/../../c2m3/flower/frank_flower_client.py\u001b\\\u001b[2mflwr\u001b[0m\u001b]8;;\u001b\\\u001b[2m:\u001b[0m\u001b]8;id=624582;file:///home/dawn/repos/c2m3-federated/c2m3/scripts/../../c2m3/flower/frank_flower_client.py#40\u001b\\\u001b[2m40\u001b[0m\u001b]8;;\u001b\\\n"
      ]
     },
     "metadata": {},
     "output_type": "display_data"
    },
    {
     "name": "stderr",
     "output_type": "stream",
     "text": [
      "INFO flwr 2025-03-09 13:19:44,664 | frank_flower_client.py:40 | cid: 31\n"
     ]
    },
    {
     "data": {
      "text/html": [
       "<pre style=\"white-space:pre;overflow-x:auto;line-height:normal;font-family:Menlo,'DejaVu Sans Mono',consolas,'Courier New',monospace\"><span style=\"color: #7fbfbf; text-decoration-color: #7fbfbf\">                    </span><span style=\"color: #000080; text-decoration-color: #000080\">INFO    </span> cid: <span style=\"color: #008080; text-decoration-color: #008080; font-weight: bold\">31</span>                                                                        <a href=\"file:///home/dawn/repos/c2m3-federated/c2m3/scripts/../../c2m3/flower/frank_flower_client.py\" target=\"_blank\"><span style=\"color: #7f7f7f; text-decoration-color: #7f7f7f\">flwr</span></a><span style=\"color: #7f7f7f; text-decoration-color: #7f7f7f\">:</span><a href=\"file:///home/dawn/repos/c2m3-federated/c2m3/scripts/../../c2m3/flower/frank_flower_client.py#40\" target=\"_blank\"><span style=\"color: #7f7f7f; text-decoration-color: #7f7f7f\">40</span></a>\n",
       "</pre>\n"
      ],
      "text/plain": [
       "\u001b[2;36m                   \u001b[0m\u001b[2;36m \u001b[0m\u001b[34mINFO    \u001b[0m cid: \u001b[1;36m31\u001b[0m                                                                        \u001b]8;id=61729;file:///home/dawn/repos/c2m3-federated/c2m3/scripts/../../c2m3/flower/frank_flower_client.py\u001b\\\u001b[2mflwr\u001b[0m\u001b]8;;\u001b\\\u001b[2m:\u001b[0m\u001b]8;id=451546;file:///home/dawn/repos/c2m3-federated/c2m3/scripts/../../c2m3/flower/frank_flower_client.py#40\u001b\\\u001b[2m40\u001b[0m\u001b]8;;\u001b\\\n"
      ]
     },
     "metadata": {},
     "output_type": "display_data"
    },
    {
     "name": "stdout",
     "output_type": "stream",
     "text": [
      "dict_keys(['a', 'b', 'c', 'd', 'e'])\n",
      "<class 'c2m3.modules.pl_module.MyLightningModule'>\n"
     ]
    },
    {
     "name": "stderr",
     "output_type": "stream",
     "text": [
      "Weight matching:   2%|▎         | 5/200 [00:03<02:22,  1.37it/s]\n"
     ]
    },
    {
     "name": "stdout",
     "output_type": "stream",
     "text": [
      "perms_to_apply={'P_conv1': tensor([0, 1, 2, 3, 4, 5]), 'P_fc1': tensor([  0,   1,   2,   3,   4,   5,   6,   7,   8,   9,  10,  11,  12,  13,\n",
      "         14,  15,  16,  17,  18,  19,  20,  21,  22,  23,  24,  25,  26,  27,\n",
      "         28,  29,  30,  31,  32,  33,  34,  35,  36,  37,  38,  39,  40,  41,\n",
      "         42,  43,  44,  45,  46,  47,  48,  49,  50,  51,  52,  53,  54,  55,\n",
      "         56,  57,  58,  59,  60,  61,  62,  63,  64,  65,  66,  67,  68,  69,\n",
      "         70,  71,  72,  73,  74,  75,  76,  77,  78,  79,  80,  81,  82,  83,\n",
      "         84,  85,  86,  87,  88,  89,  90,  91,  92,  93,  94,  95,  96,  97,\n",
      "         98,  99, 100, 101, 102, 103, 104, 105, 106, 107, 108, 109, 110, 111,\n",
      "        112, 113, 114, 115, 116, 117, 118, 119]), 'P_fc2': tensor([ 0,  1,  2,  3,  4,  5,  6,  7,  8,  9, 10, 11, 12, 13, 14, 15, 16, 17,\n",
      "        18, 19, 20, 21, 22, 23, 24, 25, 26, 27, 28, 29, 30, 31, 32, 33, 34, 35,\n",
      "        36, 37, 38, 39, 40, 41, 42, 43, 44, 45, 46, 47, 48, 49, 50, 51, 52, 53,\n",
      "        54, 55, 56, 57, 58, 59, 60, 61, 62, 63, 64, 65, 66, 67, 68, 69, 70, 71,\n",
      "        72, 73, 74, 75, 76, 77, 78, 79, 80, 81, 82, 83])}\n",
      "perms_to_apply={'P_conv1': tensor([0, 1, 2, 3, 4, 5]), 'P_fc1': tensor([  0,   1,   2,   3,   4,   5,   6,   7,   8,   9,  10,  11,  12,  13,\n",
      "         14,  15,  16,  17,  18,  19,  20,  21,  22,  23,  24,  25,  26,  27,\n",
      "         28,  29,  30,  31,  32,  33,  34,  35,  36,  37,  38,  39,  40,  41,\n",
      "         42,  43,  44,  45,  46,  47,  48,  49,  50,  51,  52,  53,  54,  55,\n",
      "         56,  57,  58,  59,  60,  61,  62,  63,  64,  65,  66,  67,  68,  69,\n",
      "         70,  71,  72,  73,  74,  75,  76,  77,  78,  79,  80,  81,  82,  83,\n",
      "         84,  85,  86,  87,  88,  89,  90,  91,  92,  93,  94,  95,  96,  97,\n",
      "         98,  99, 100, 101, 102, 103, 104, 105, 106, 107, 108, 109, 110, 111,\n",
      "        112, 113, 114, 115, 116, 117, 118, 119]), 'P_fc2': tensor([ 0,  1,  2,  3,  4,  5,  6,  7,  8,  9, 10, 11, 12, 13, 14, 15, 16, 17,\n",
      "        18, 19, 20, 21, 22, 23, 24, 25, 26, 27, 28, 29, 30, 31, 32, 33, 34, 35,\n",
      "        36, 37, 38, 39, 40, 41, 42, 43, 44, 45, 46, 47, 48, 49, 50, 51, 52, 53,\n",
      "        54, 55, 56, 57, 58, 59, 60, 61, 62, 63, 64, 65, 66, 67, 68, 69, 70, 71,\n",
      "        72, 73, 74, 75, 76, 77, 78, 79, 80, 81, 82, 83])}\n",
      "perms_to_apply={'P_conv1': tensor([0, 1, 2, 3, 4, 5]), 'P_fc1': tensor([  0,   1,   2,   3,   4,   5,   6,   7,   8,   9,  10,  11,  12,  13,\n",
      "         14,  15,  16,  17,  18,  19,  20,  21,  22,  23,  24,  25,  26,  27,\n",
      "         28,  29,  30,  31,  32,  33,  34,  35,  36,  37,  38,  39,  40,  41,\n",
      "         42,  43,  44,  45,  46,  47,  48,  49,  50,  51,  52,  53,  54,  55,\n",
      "         56,  57,  58,  59,  60,  61,  62,  63,  64,  65,  66,  67,  68,  69,\n",
      "         70,  71,  72,  73,  74,  75,  76,  77,  78,  79,  80,  81,  82,  83,\n",
      "         84,  85,  86,  87,  88,  89,  90,  91,  92,  93,  94,  95,  96,  97,\n",
      "         98,  99, 100, 101, 102, 103, 104, 105, 106, 107, 108, 109, 110, 111,\n",
      "        112, 113, 114, 115, 116, 117, 118, 119]), 'P_fc2': tensor([ 0,  1,  2,  3,  4,  5,  6,  7,  8,  9, 10, 11, 12, 13, 14, 15, 16, 17,\n",
      "        18, 19, 20, 21, 22, 23, 24, 25, 26, 27, 28, 29, 30, 31, 32, 33, 34, 35,\n",
      "        36, 37, 38, 39, 40, 41, 42, 43, 44, 45, 46, 47, 48, 49, 50, 51, 52, 53,\n",
      "        54, 55, 56, 57, 58, 59, 60, 61, 62, 63, 64, 65, 66, 67, 68, 69, 70, 71,\n",
      "        72, 73, 74, 75, 76, 77, 78, 79, 80, 81, 82, 83])}\n",
      "perms_to_apply={'P_conv1': tensor([0, 1, 2, 3, 4, 5]), 'P_fc1': tensor([  0,   1,   2,   3,   4,   5,   6,   7,   8,   9,  10,  11,  12,  13,\n",
      "         14,  15,  16,  17,  18,  19,  20,  21,  22,  23,  24,  25,  26,  27,\n",
      "         28,  29,  30,  31,  32,  33,  34,  35,  36,  37,  38,  39,  40,  41,\n",
      "         42,  43,  44,  45,  46,  47,  48,  49,  50,  51,  52,  53,  54,  55,\n",
      "         56,  57,  58,  59,  60,  61,  62,  63,  64,  65,  66,  67,  68,  69,\n",
      "         70,  71,  72,  73,  74,  75,  76,  77,  78,  79,  80,  81,  82,  83,\n",
      "         84,  85,  86,  87,  88,  89,  90,  91,  92,  93,  94,  95,  96,  97,\n",
      "         98,  99, 100, 101, 102, 103, 104, 105, 106, 107, 108, 109, 110, 111,\n",
      "        112, 113, 114, 115, 116, 117, 118, 119]), 'P_fc2': tensor([ 0,  1,  2,  3,  4,  5,  6,  7,  8,  9, 10, 11, 12, 13, 14, 15, 16, 17,\n",
      "        18, 19, 20, 21, 22, 23, 24, 25, 26, 27, 28, 29, 30, 31, 32, 33, 34, 35,\n",
      "        36, 37, 38, 39, 40, 41, 42, 43, 44, 45, 46, 47, 48, 49, 50, 51, 52, 53,\n",
      "        54, 55, 56, 57, 58, 59, 60, 61, 62, 63, 64, 65, 66, 67, 68, 69, 70, 71,\n",
      "        72, 73, 74, 75, 76, 77, 78, 79, 80, 81, 82, 83])}\n",
      "perms_to_apply={'P_conv1': tensor([0, 1, 2, 3, 4, 5]), 'P_fc1': tensor([  0,   1,   2,   3,   4,   5,   6,   7,   8,   9,  10,  11,  12,  13,\n",
      "         14,  15,  16,  17,  18,  19,  20,  21,  22,  23,  24,  25,  26,  27,\n",
      "         28,  29,  30,  31,  32,  33,  34,  35,  36,  37,  38,  39,  40,  41,\n",
      "         42,  43,  44,  45,  46,  47,  48,  49,  50,  51,  52,  53,  54,  55,\n",
      "         56,  57,  58,  59,  60,  61,  62,  63,  64,  65,  66,  67,  68,  69,\n",
      "         70,  71,  72,  73,  74,  75,  76,  77,  78,  79,  80,  81,  82,  83,\n",
      "         84,  85,  86,  87,  88,  89,  90,  91,  92,  93,  94,  95,  96,  97,\n",
      "         98,  99, 100, 101, 102, 103, 104, 105, 106, 107, 108, 109, 110, 111,\n",
      "        112, 113, 114, 115, 116, 117, 118, 119]), 'P_fc2': tensor([ 0,  1,  2,  3,  4,  5,  6,  7,  8,  9, 10, 11, 12, 13, 14, 15, 16, 17,\n",
      "        18, 19, 20, 21, 22, 23, 24, 25, 26, 27, 28, 29, 30, 31, 32, 33, 34, 35,\n",
      "        36, 37, 38, 39, 40, 41, 42, 43, 44, 45, 46, 47, 48, 49, 50, 51, 52, 53,\n",
      "        54, 55, 56, 57, 58, 59, 60, 61, 62, 63, 64, 65, 66, 67, 68, 69, 70, 71,\n",
      "        72, 73, 74, 75, 76, 77, 78, 79, 80, 81, 82, 83])}\n",
      "Function merge_models Took 3.7462 seconds\n",
      "Successfully merged models.\n"
     ]
    },
    {
     "name": "stderr",
     "output_type": "stream",
     "text": [
      "100%|██████████| 47/47 [00:00<00:00, 81.70it/s]\n",
      "INFO flwr 2025-03-09 13:19:49,598 | server_returns_parameters.py:120 | fit progress: (3, 218.01121068000793, {'accuracy': 0.142}, 1872.4877532260143)\n"
     ]
    },
    {
     "data": {
      "text/html": [
       "<pre style=\"white-space:pre;overflow-x:auto;line-height:normal;font-family:Menlo,'DejaVu Sans Mono',consolas,'Courier New',monospace\"><span style=\"color: #7fbfbf; text-decoration-color: #7fbfbf\">2025-03-09 13:19:49 </span><span style=\"color: #000080; text-decoration-color: #000080\">INFO    </span> fit progress: <span style=\"font-weight: bold\">(</span><span style=\"color: #008080; text-decoration-color: #008080; font-weight: bold\">3</span>, <span style=\"color: #008080; text-decoration-color: #008080; font-weight: bold\">218.01121068000793</span>, <span style=\"font-weight: bold\">{</span><span style=\"color: #008000; text-decoration-color: #008000\">'accuracy'</span>: <span style=\"color: #008080; text-decoration-color: #008080; font-weight: bold\">0.142</span><span style=\"font-weight: bold\">}</span>,                    <a href=\"file:///home/dawn/venvs/fed/lib/python3.10/site-packages/flwr/server/server_returns_parameters.py\" target=\"_blank\"><span style=\"color: #7f7f7f; text-decoration-color: #7f7f7f\">flwr</span></a><span style=\"color: #7f7f7f; text-decoration-color: #7f7f7f\">:</span><a href=\"file:///home/dawn/venvs/fed/lib/python3.10/site-packages/flwr/server/server_returns_parameters.py#120\" target=\"_blank\"><span style=\"color: #7f7f7f; text-decoration-color: #7f7f7f\">120</span></a>\n",
       "<span style=\"color: #7fbfbf; text-decoration-color: #7fbfbf\">                    </span>         <span style=\"color: #008080; text-decoration-color: #008080; font-weight: bold\">1872.4877532260143</span><span style=\"font-weight: bold\">)</span>                                                           <span style=\"color: #7f7f7f; text-decoration-color: #7f7f7f\">        </span>\n",
       "</pre>\n"
      ],
      "text/plain": [
       "\u001b[2;36m2025-03-09 13:19:49\u001b[0m\u001b[2;36m \u001b[0m\u001b[34mINFO    \u001b[0m fit progress: \u001b[1m(\u001b[0m\u001b[1;36m3\u001b[0m, \u001b[1;36m218.01121068000793\u001b[0m, \u001b[1m{\u001b[0m\u001b[32m'accuracy'\u001b[0m: \u001b[1;36m0.142\u001b[0m\u001b[1m}\u001b[0m,                    \u001b]8;id=344246;file:///home/dawn/venvs/fed/lib/python3.10/site-packages/flwr/server/server_returns_parameters.py\u001b\\\u001b[2mflwr\u001b[0m\u001b]8;;\u001b\\\u001b[2m:\u001b[0m\u001b]8;id=892862;file:///home/dawn/venvs/fed/lib/python3.10/site-packages/flwr/server/server_returns_parameters.py#120\u001b\\\u001b[2m120\u001b[0m\u001b]8;;\u001b\\\n",
       "\u001b[2;36m                    \u001b[0m         \u001b[1;36m1872.4877532260143\u001b[0m\u001b[1m)\u001b[0m                                                           \u001b[2m        \u001b[0m\n"
      ]
     },
     "metadata": {},
     "output_type": "display_data"
    },
    {
     "name": "stderr",
     "output_type": "stream",
     "text": [
      "DEBUG flwr 2025-03-09 13:19:49,605 | server_returns_parameters.py:173 | evaluate_round 3: strategy sampled 5 clients (out of 62)\n"
     ]
    },
    {
     "data": {
      "text/html": [
       "<pre style=\"white-space:pre;overflow-x:auto;line-height:normal;font-family:Menlo,'DejaVu Sans Mono',consolas,'Courier New',monospace\"><span style=\"color: #7fbfbf; text-decoration-color: #7fbfbf\">                    </span><span style=\"color: #008000; text-decoration-color: #008000\">DEBUG   </span> evaluate_round <span style=\"color: #008080; text-decoration-color: #008080; font-weight: bold\">3</span>: strategy sampled <span style=\"color: #008080; text-decoration-color: #008080; font-weight: bold\">5</span> clients <span style=\"font-weight: bold\">(</span>out of <span style=\"color: #008080; text-decoration-color: #008080; font-weight: bold\">62</span><span style=\"font-weight: bold\">)</span>                      <a href=\"file:///home/dawn/venvs/fed/lib/python3.10/site-packages/flwr/server/server_returns_parameters.py\" target=\"_blank\"><span style=\"color: #7f7f7f; text-decoration-color: #7f7f7f\">flwr</span></a><span style=\"color: #7f7f7f; text-decoration-color: #7f7f7f\">:</span><a href=\"file:///home/dawn/venvs/fed/lib/python3.10/site-packages/flwr/server/server_returns_parameters.py#173\" target=\"_blank\"><span style=\"color: #7f7f7f; text-decoration-color: #7f7f7f\">173</span></a>\n",
       "</pre>\n"
      ],
      "text/plain": [
       "\u001b[2;36m                   \u001b[0m\u001b[2;36m \u001b[0m\u001b[32mDEBUG   \u001b[0m evaluate_round \u001b[1;36m3\u001b[0m: strategy sampled \u001b[1;36m5\u001b[0m clients \u001b[1m(\u001b[0mout of \u001b[1;36m62\u001b[0m\u001b[1m)\u001b[0m                      \u001b]8;id=681029;file:///home/dawn/venvs/fed/lib/python3.10/site-packages/flwr/server/server_returns_parameters.py\u001b\\\u001b[2mflwr\u001b[0m\u001b]8;;\u001b\\\u001b[2m:\u001b[0m\u001b]8;id=693470;file:///home/dawn/venvs/fed/lib/python3.10/site-packages/flwr/server/server_returns_parameters.py#173\u001b\\\u001b[2m173\u001b[0m\u001b]8;;\u001b\\\n"
      ]
     },
     "metadata": {},
     "output_type": "display_data"
    },
    {
     "name": "stderr",
     "output_type": "stream",
     "text": [
      "INFO flwr 2025-03-09 13:19:49,615 | frank_flower_client.py:40 | cid: 35\n",
      "INFO flwr 2025-03-09 13:19:49,621 | frank_flower_client.py:40 | cid: 29\n",
      "INFO flwr 2025-03-09 13:19:49,622 | frank_flower_client.py:40 | cid: 30\n"
     ]
    },
    {
     "data": {
      "text/html": [
       "<pre style=\"white-space:pre;overflow-x:auto;line-height:normal;font-family:Menlo,'DejaVu Sans Mono',consolas,'Courier New',monospace\"><span style=\"color: #7fbfbf; text-decoration-color: #7fbfbf\">                    </span><span style=\"color: #000080; text-decoration-color: #000080\">INFO    </span> cid: <span style=\"color: #008080; text-decoration-color: #008080; font-weight: bold\">35</span>                                                                        <a href=\"file:///home/dawn/repos/c2m3-federated/c2m3/scripts/../../c2m3/flower/frank_flower_client.py\" target=\"_blank\"><span style=\"color: #7f7f7f; text-decoration-color: #7f7f7f\">flwr</span></a><span style=\"color: #7f7f7f; text-decoration-color: #7f7f7f\">:</span><a href=\"file:///home/dawn/repos/c2m3-federated/c2m3/scripts/../../c2m3/flower/frank_flower_client.py#40\" target=\"_blank\"><span style=\"color: #7f7f7f; text-decoration-color: #7f7f7f\">40</span></a>\n",
       "</pre>\n"
      ],
      "text/plain": [
       "\u001b[2;36m                   \u001b[0m\u001b[2;36m \u001b[0m\u001b[34mINFO    \u001b[0m cid: \u001b[1;36m35\u001b[0m                                                                        \u001b]8;id=397039;file:///home/dawn/repos/c2m3-federated/c2m3/scripts/../../c2m3/flower/frank_flower_client.py\u001b\\\u001b[2mflwr\u001b[0m\u001b]8;;\u001b\\\u001b[2m:\u001b[0m\u001b]8;id=29037;file:///home/dawn/repos/c2m3-federated/c2m3/scripts/../../c2m3/flower/frank_flower_client.py#40\u001b\\\u001b[2m40\u001b[0m\u001b]8;;\u001b\\\n"
      ]
     },
     "metadata": {},
     "output_type": "display_data"
    },
    {
     "name": "stderr",
     "output_type": "stream",
     "text": [
      "INFO flwr 2025-03-09 13:19:49,630 | frank_flower_client.py:40 | cid: 47\n"
     ]
    },
    {
     "data": {
      "text/html": [
       "<pre style=\"white-space:pre;overflow-x:auto;line-height:normal;font-family:Menlo,'DejaVu Sans Mono',consolas,'Courier New',monospace\"><span style=\"color: #7fbfbf; text-decoration-color: #7fbfbf\">                    </span><span style=\"color: #000080; text-decoration-color: #000080\">INFO    </span> cid: <span style=\"color: #008080; text-decoration-color: #008080; font-weight: bold\">29</span>                                                                        <a href=\"file:///home/dawn/repos/c2m3-federated/c2m3/scripts/../../c2m3/flower/frank_flower_client.py\" target=\"_blank\"><span style=\"color: #7f7f7f; text-decoration-color: #7f7f7f\">flwr</span></a><span style=\"color: #7f7f7f; text-decoration-color: #7f7f7f\">:</span><a href=\"file:///home/dawn/repos/c2m3-federated/c2m3/scripts/../../c2m3/flower/frank_flower_client.py#40\" target=\"_blank\"><span style=\"color: #7f7f7f; text-decoration-color: #7f7f7f\">40</span></a>\n",
       "</pre>\n"
      ],
      "text/plain": [
       "\u001b[2;36m                   \u001b[0m\u001b[2;36m \u001b[0m\u001b[34mINFO    \u001b[0m cid: \u001b[1;36m29\u001b[0m                                                                        \u001b]8;id=957162;file:///home/dawn/repos/c2m3-federated/c2m3/scripts/../../c2m3/flower/frank_flower_client.py\u001b\\\u001b[2mflwr\u001b[0m\u001b]8;;\u001b\\\u001b[2m:\u001b[0m\u001b]8;id=998391;file:///home/dawn/repos/c2m3-federated/c2m3/scripts/../../c2m3/flower/frank_flower_client.py#40\u001b\\\u001b[2m40\u001b[0m\u001b]8;;\u001b\\\n"
      ]
     },
     "metadata": {},
     "output_type": "display_data"
    },
    {
     "name": "stderr",
     "output_type": "stream",
     "text": [
      "INFO flwr 2025-03-09 13:19:49,636 | frank_flower_client.py:40 | cid: 12\n"
     ]
    },
    {
     "data": {
      "text/html": [
       "<pre style=\"white-space:pre;overflow-x:auto;line-height:normal;font-family:Menlo,'DejaVu Sans Mono',consolas,'Courier New',monospace\"><span style=\"color: #7fbfbf; text-decoration-color: #7fbfbf\">                    </span><span style=\"color: #000080; text-decoration-color: #000080\">INFO    </span> cid: <span style=\"color: #008080; text-decoration-color: #008080; font-weight: bold\">30</span>                                                                        <a href=\"file:///home/dawn/repos/c2m3-federated/c2m3/scripts/../../c2m3/flower/frank_flower_client.py\" target=\"_blank\"><span style=\"color: #7f7f7f; text-decoration-color: #7f7f7f\">flwr</span></a><span style=\"color: #7f7f7f; text-decoration-color: #7f7f7f\">:</span><a href=\"file:///home/dawn/repos/c2m3-federated/c2m3/scripts/../../c2m3/flower/frank_flower_client.py#40\" target=\"_blank\"><span style=\"color: #7f7f7f; text-decoration-color: #7f7f7f\">40</span></a>\n",
       "</pre>\n"
      ],
      "text/plain": [
       "\u001b[2;36m                   \u001b[0m\u001b[2;36m \u001b[0m\u001b[34mINFO    \u001b[0m cid: \u001b[1;36m30\u001b[0m                                                                        \u001b]8;id=978687;file:///home/dawn/repos/c2m3-federated/c2m3/scripts/../../c2m3/flower/frank_flower_client.py\u001b\\\u001b[2mflwr\u001b[0m\u001b]8;;\u001b\\\u001b[2m:\u001b[0m\u001b]8;id=120655;file:///home/dawn/repos/c2m3-federated/c2m3/scripts/../../c2m3/flower/frank_flower_client.py#40\u001b\\\u001b[2m40\u001b[0m\u001b]8;;\u001b\\\n"
      ]
     },
     "metadata": {},
     "output_type": "display_data"
    },
    {
     "data": {
      "text/html": [
       "<pre style=\"white-space:pre;overflow-x:auto;line-height:normal;font-family:Menlo,'DejaVu Sans Mono',consolas,'Courier New',monospace\"><span style=\"color: #7fbfbf; text-decoration-color: #7fbfbf\">                    </span><span style=\"color: #000080; text-decoration-color: #000080\">INFO    </span> cid: <span style=\"color: #008080; text-decoration-color: #008080; font-weight: bold\">47</span>                                                                        <a href=\"file:///home/dawn/repos/c2m3-federated/c2m3/scripts/../../c2m3/flower/frank_flower_client.py\" target=\"_blank\"><span style=\"color: #7f7f7f; text-decoration-color: #7f7f7f\">flwr</span></a><span style=\"color: #7f7f7f; text-decoration-color: #7f7f7f\">:</span><a href=\"file:///home/dawn/repos/c2m3-federated/c2m3/scripts/../../c2m3/flower/frank_flower_client.py#40\" target=\"_blank\"><span style=\"color: #7f7f7f; text-decoration-color: #7f7f7f\">40</span></a>\n",
       "</pre>\n"
      ],
      "text/plain": [
       "\u001b[2;36m                   \u001b[0m\u001b[2;36m \u001b[0m\u001b[34mINFO    \u001b[0m cid: \u001b[1;36m47\u001b[0m                                                                        \u001b]8;id=547418;file:///home/dawn/repos/c2m3-federated/c2m3/scripts/../../c2m3/flower/frank_flower_client.py\u001b\\\u001b[2mflwr\u001b[0m\u001b]8;;\u001b\\\u001b[2m:\u001b[0m\u001b]8;id=589473;file:///home/dawn/repos/c2m3-federated/c2m3/scripts/../../c2m3/flower/frank_flower_client.py#40\u001b\\\u001b[2m40\u001b[0m\u001b]8;;\u001b\\\n"
      ]
     },
     "metadata": {},
     "output_type": "display_data"
    },
    {
     "data": {
      "text/html": [
       "<pre style=\"white-space:pre;overflow-x:auto;line-height:normal;font-family:Menlo,'DejaVu Sans Mono',consolas,'Courier New',monospace\"><span style=\"color: #7fbfbf; text-decoration-color: #7fbfbf\">                    </span><span style=\"color: #000080; text-decoration-color: #000080\">INFO    </span> cid: <span style=\"color: #008080; text-decoration-color: #008080; font-weight: bold\">12</span>                                                                        <a href=\"file:///home/dawn/repos/c2m3-federated/c2m3/scripts/../../c2m3/flower/frank_flower_client.py\" target=\"_blank\"><span style=\"color: #7f7f7f; text-decoration-color: #7f7f7f\">flwr</span></a><span style=\"color: #7f7f7f; text-decoration-color: #7f7f7f\">:</span><a href=\"file:///home/dawn/repos/c2m3-federated/c2m3/scripts/../../c2m3/flower/frank_flower_client.py#40\" target=\"_blank\"><span style=\"color: #7f7f7f; text-decoration-color: #7f7f7f\">40</span></a>\n",
       "</pre>\n"
      ],
      "text/plain": [
       "\u001b[2;36m                   \u001b[0m\u001b[2;36m \u001b[0m\u001b[34mINFO    \u001b[0m cid: \u001b[1;36m12\u001b[0m                                                                        \u001b]8;id=963214;file:///home/dawn/repos/c2m3-federated/c2m3/scripts/../../c2m3/flower/frank_flower_client.py\u001b\\\u001b[2mflwr\u001b[0m\u001b]8;;\u001b\\\u001b[2m:\u001b[0m\u001b]8;id=7368;file:///home/dawn/repos/c2m3-federated/c2m3/scripts/../../c2m3/flower/frank_flower_client.py#40\u001b\\\u001b[2m40\u001b[0m\u001b]8;;\u001b\\\n"
      ]
     },
     "metadata": {},
     "output_type": "display_data"
    },
    {
     "name": "stderr",
     "output_type": "stream",
     "text": [
      "DEBUG flwr 2025-03-09 13:19:49,695 | server_returns_parameters.py:187 | evaluate_round 3 received 0 results and 5 failures\n"
     ]
    },
    {
     "data": {
      "text/html": [
       "<pre style=\"white-space:pre;overflow-x:auto;line-height:normal;font-family:Menlo,'DejaVu Sans Mono',consolas,'Courier New',monospace\"><span style=\"color: #7fbfbf; text-decoration-color: #7fbfbf\">                    </span><span style=\"color: #008000; text-decoration-color: #008000\">DEBUG   </span> evaluate_round <span style=\"color: #008080; text-decoration-color: #008080; font-weight: bold\">3</span> received <span style=\"color: #008080; text-decoration-color: #008080; font-weight: bold\">0</span> results and <span style=\"color: #008080; text-decoration-color: #008080; font-weight: bold\">5</span> failures                            <a href=\"file:///home/dawn/venvs/fed/lib/python3.10/site-packages/flwr/server/server_returns_parameters.py\" target=\"_blank\"><span style=\"color: #7f7f7f; text-decoration-color: #7f7f7f\">flwr</span></a><span style=\"color: #7f7f7f; text-decoration-color: #7f7f7f\">:</span><a href=\"file:///home/dawn/venvs/fed/lib/python3.10/site-packages/flwr/server/server_returns_parameters.py#187\" target=\"_blank\"><span style=\"color: #7f7f7f; text-decoration-color: #7f7f7f\">187</span></a>\n",
       "</pre>\n"
      ],
      "text/plain": [
       "\u001b[2;36m                   \u001b[0m\u001b[2;36m \u001b[0m\u001b[32mDEBUG   \u001b[0m evaluate_round \u001b[1;36m3\u001b[0m received \u001b[1;36m0\u001b[0m results and \u001b[1;36m5\u001b[0m failures                            \u001b]8;id=509827;file:///home/dawn/venvs/fed/lib/python3.10/site-packages/flwr/server/server_returns_parameters.py\u001b\\\u001b[2mflwr\u001b[0m\u001b]8;;\u001b\\\u001b[2m:\u001b[0m\u001b]8;id=389630;file:///home/dawn/venvs/fed/lib/python3.10/site-packages/flwr/server/server_returns_parameters.py#187\u001b\\\u001b[2m187\u001b[0m\u001b]8;;\u001b\\\n"
      ]
     },
     "metadata": {},
     "output_type": "display_data"
    },
    {
     "name": "stderr",
     "output_type": "stream",
     "text": [
      "DEBUG flwr 2025-03-09 13:19:49,702 | server_returns_parameters.py:223 | fit_round 4: strategy sampled 5 clients (out of 62)\n"
     ]
    },
    {
     "data": {
      "text/html": [
       "<pre style=\"white-space:pre;overflow-x:auto;line-height:normal;font-family:Menlo,'DejaVu Sans Mono',consolas,'Courier New',monospace\"><span style=\"color: #7fbfbf; text-decoration-color: #7fbfbf\">                    </span><span style=\"color: #008000; text-decoration-color: #008000\">DEBUG   </span> fit_round <span style=\"color: #008080; text-decoration-color: #008080; font-weight: bold\">4</span>: strategy sampled <span style=\"color: #008080; text-decoration-color: #008080; font-weight: bold\">5</span> clients <span style=\"font-weight: bold\">(</span>out of <span style=\"color: #008080; text-decoration-color: #008080; font-weight: bold\">62</span><span style=\"font-weight: bold\">)</span>                           <a href=\"file:///home/dawn/venvs/fed/lib/python3.10/site-packages/flwr/server/server_returns_parameters.py\" target=\"_blank\"><span style=\"color: #7f7f7f; text-decoration-color: #7f7f7f\">flwr</span></a><span style=\"color: #7f7f7f; text-decoration-color: #7f7f7f\">:</span><a href=\"file:///home/dawn/venvs/fed/lib/python3.10/site-packages/flwr/server/server_returns_parameters.py#223\" target=\"_blank\"><span style=\"color: #7f7f7f; text-decoration-color: #7f7f7f\">223</span></a>\n",
       "</pre>\n"
      ],
      "text/plain": [
       "\u001b[2;36m                   \u001b[0m\u001b[2;36m \u001b[0m\u001b[32mDEBUG   \u001b[0m fit_round \u001b[1;36m4\u001b[0m: strategy sampled \u001b[1;36m5\u001b[0m clients \u001b[1m(\u001b[0mout of \u001b[1;36m62\u001b[0m\u001b[1m)\u001b[0m                           \u001b]8;id=796359;file:///home/dawn/venvs/fed/lib/python3.10/site-packages/flwr/server/server_returns_parameters.py\u001b\\\u001b[2mflwr\u001b[0m\u001b]8;;\u001b\\\u001b[2m:\u001b[0m\u001b]8;id=830177;file:///home/dawn/venvs/fed/lib/python3.10/site-packages/flwr/server/server_returns_parameters.py#223\u001b\\\u001b[2m223\u001b[0m\u001b]8;;\u001b\\\n"
      ]
     },
     "metadata": {},
     "output_type": "display_data"
    },
    {
     "name": "stderr",
     "output_type": "stream",
     "text": [
      "INFO flwr 2025-03-09 13:19:49,710 | frank_flower_client.py:40 | cid: 2\n"
     ]
    },
    {
     "data": {
      "text/html": [
       "<pre style=\"white-space:pre;overflow-x:auto;line-height:normal;font-family:Menlo,'DejaVu Sans Mono',consolas,'Courier New',monospace\"><span style=\"color: #7fbfbf; text-decoration-color: #7fbfbf\">                    </span><span style=\"color: #000080; text-decoration-color: #000080\">INFO    </span> cid: <span style=\"color: #008080; text-decoration-color: #008080; font-weight: bold\">2</span>                                                                         <a href=\"file:///home/dawn/repos/c2m3-federated/c2m3/scripts/../../c2m3/flower/frank_flower_client.py\" target=\"_blank\"><span style=\"color: #7f7f7f; text-decoration-color: #7f7f7f\">flwr</span></a><span style=\"color: #7f7f7f; text-decoration-color: #7f7f7f\">:</span><a href=\"file:///home/dawn/repos/c2m3-federated/c2m3/scripts/../../c2m3/flower/frank_flower_client.py#40\" target=\"_blank\"><span style=\"color: #7f7f7f; text-decoration-color: #7f7f7f\">40</span></a>\n",
       "</pre>\n"
      ],
      "text/plain": [
       "\u001b[2;36m                   \u001b[0m\u001b[2;36m \u001b[0m\u001b[34mINFO    \u001b[0m cid: \u001b[1;36m2\u001b[0m                                                                         \u001b]8;id=839807;file:///home/dawn/repos/c2m3-federated/c2m3/scripts/../../c2m3/flower/frank_flower_client.py\u001b\\\u001b[2mflwr\u001b[0m\u001b]8;;\u001b\\\u001b[2m:\u001b[0m\u001b]8;id=457226;file:///home/dawn/repos/c2m3-federated/c2m3/scripts/../../c2m3/flower/frank_flower_client.py#40\u001b\\\u001b[2m40\u001b[0m\u001b]8;;\u001b\\\n"
      ]
     },
     "metadata": {},
     "output_type": "display_data"
    },
    {
     "name": "stderr",
     "output_type": "stream",
     "text": [
      "INFO flwr 2025-03-09 13:19:49,722 | frank_flower_client.py:40 | cid: 49\n",
      "INFO flwr 2025-03-09 13:19:49,724 | frank_flower_client.py:40 | cid: 42\n"
     ]
    },
    {
     "data": {
      "text/html": [
       "<pre style=\"white-space:pre;overflow-x:auto;line-height:normal;font-family:Menlo,'DejaVu Sans Mono',consolas,'Courier New',monospace\"><span style=\"color: #7fbfbf; text-decoration-color: #7fbfbf\">                    </span><span style=\"color: #000080; text-decoration-color: #000080\">INFO    </span> cid: <span style=\"color: #008080; text-decoration-color: #008080; font-weight: bold\">49</span>                                                                        <a href=\"file:///home/dawn/repos/c2m3-federated/c2m3/scripts/../../c2m3/flower/frank_flower_client.py\" target=\"_blank\"><span style=\"color: #7f7f7f; text-decoration-color: #7f7f7f\">flwr</span></a><span style=\"color: #7f7f7f; text-decoration-color: #7f7f7f\">:</span><a href=\"file:///home/dawn/repos/c2m3-federated/c2m3/scripts/../../c2m3/flower/frank_flower_client.py#40\" target=\"_blank\"><span style=\"color: #7f7f7f; text-decoration-color: #7f7f7f\">40</span></a>\n",
       "</pre>\n"
      ],
      "text/plain": [
       "\u001b[2;36m                   \u001b[0m\u001b[2;36m \u001b[0m\u001b[34mINFO    \u001b[0m cid: \u001b[1;36m49\u001b[0m                                                                        \u001b]8;id=182167;file:///home/dawn/repos/c2m3-federated/c2m3/scripts/../../c2m3/flower/frank_flower_client.py\u001b\\\u001b[2mflwr\u001b[0m\u001b]8;;\u001b\\\u001b[2m:\u001b[0m\u001b]8;id=12601;file:///home/dawn/repos/c2m3-federated/c2m3/scripts/../../c2m3/flower/frank_flower_client.py#40\u001b\\\u001b[2m40\u001b[0m\u001b]8;;\u001b\\\n"
      ]
     },
     "metadata": {},
     "output_type": "display_data"
    },
    {
     "name": "stderr",
     "output_type": "stream",
     "text": [
      "INFO flwr 2025-03-09 13:19:49,725 | frank_flower_client.py:40 | cid: 20\n"
     ]
    },
    {
     "data": {
      "text/html": [
       "<pre style=\"white-space:pre;overflow-x:auto;line-height:normal;font-family:Menlo,'DejaVu Sans Mono',consolas,'Courier New',monospace\"><span style=\"color: #7fbfbf; text-decoration-color: #7fbfbf\">                    </span><span style=\"color: #000080; text-decoration-color: #000080\">INFO    </span> cid: <span style=\"color: #008080; text-decoration-color: #008080; font-weight: bold\">42</span>                                                                        <a href=\"file:///home/dawn/repos/c2m3-federated/c2m3/scripts/../../c2m3/flower/frank_flower_client.py\" target=\"_blank\"><span style=\"color: #7f7f7f; text-decoration-color: #7f7f7f\">flwr</span></a><span style=\"color: #7f7f7f; text-decoration-color: #7f7f7f\">:</span><a href=\"file:///home/dawn/repos/c2m3-federated/c2m3/scripts/../../c2m3/flower/frank_flower_client.py#40\" target=\"_blank\"><span style=\"color: #7f7f7f; text-decoration-color: #7f7f7f\">40</span></a>\n",
       "</pre>\n"
      ],
      "text/plain": [
       "\u001b[2;36m                   \u001b[0m\u001b[2;36m \u001b[0m\u001b[34mINFO    \u001b[0m cid: \u001b[1;36m42\u001b[0m                                                                        \u001b]8;id=198724;file:///home/dawn/repos/c2m3-federated/c2m3/scripts/../../c2m3/flower/frank_flower_client.py\u001b\\\u001b[2mflwr\u001b[0m\u001b]8;;\u001b\\\u001b[2m:\u001b[0m\u001b]8;id=77048;file:///home/dawn/repos/c2m3-federated/c2m3/scripts/../../c2m3/flower/frank_flower_client.py#40\u001b\\\u001b[2m40\u001b[0m\u001b]8;;\u001b\\\n"
      ]
     },
     "metadata": {},
     "output_type": "display_data"
    },
    {
     "name": "stderr",
     "output_type": "stream",
     "text": [
      "INFO flwr 2025-03-09 13:19:49,744 | frank_flower_client.py:40 | cid: 0\n"
     ]
    },
    {
     "data": {
      "text/html": [
       "<pre style=\"white-space:pre;overflow-x:auto;line-height:normal;font-family:Menlo,'DejaVu Sans Mono',consolas,'Courier New',monospace\"><span style=\"color: #7fbfbf; text-decoration-color: #7fbfbf\">                    </span><span style=\"color: #000080; text-decoration-color: #000080\">INFO    </span> cid: <span style=\"color: #008080; text-decoration-color: #008080; font-weight: bold\">20</span>                                                                        <a href=\"file:///home/dawn/repos/c2m3-federated/c2m3/scripts/../../c2m3/flower/frank_flower_client.py\" target=\"_blank\"><span style=\"color: #7f7f7f; text-decoration-color: #7f7f7f\">flwr</span></a><span style=\"color: #7f7f7f; text-decoration-color: #7f7f7f\">:</span><a href=\"file:///home/dawn/repos/c2m3-federated/c2m3/scripts/../../c2m3/flower/frank_flower_client.py#40\" target=\"_blank\"><span style=\"color: #7f7f7f; text-decoration-color: #7f7f7f\">40</span></a>\n",
       "</pre>\n"
      ],
      "text/plain": [
       "\u001b[2;36m                   \u001b[0m\u001b[2;36m \u001b[0m\u001b[34mINFO    \u001b[0m cid: \u001b[1;36m20\u001b[0m                                                                        \u001b]8;id=670766;file:///home/dawn/repos/c2m3-federated/c2m3/scripts/../../c2m3/flower/frank_flower_client.py\u001b\\\u001b[2mflwr\u001b[0m\u001b]8;;\u001b\\\u001b[2m:\u001b[0m\u001b]8;id=548391;file:///home/dawn/repos/c2m3-federated/c2m3/scripts/../../c2m3/flower/frank_flower_client.py#40\u001b\\\u001b[2m40\u001b[0m\u001b]8;;\u001b\\\n"
      ]
     },
     "metadata": {},
     "output_type": "display_data"
    },
    {
     "data": {
      "text/html": [
       "<pre style=\"white-space:pre;overflow-x:auto;line-height:normal;font-family:Menlo,'DejaVu Sans Mono',consolas,'Courier New',monospace\"><span style=\"color: #7fbfbf; text-decoration-color: #7fbfbf\">                    </span><span style=\"color: #000080; text-decoration-color: #000080\">INFO    </span> cid: <span style=\"color: #008080; text-decoration-color: #008080; font-weight: bold\">0</span>                                                                         <a href=\"file:///home/dawn/repos/c2m3-federated/c2m3/scripts/../../c2m3/flower/frank_flower_client.py\" target=\"_blank\"><span style=\"color: #7f7f7f; text-decoration-color: #7f7f7f\">flwr</span></a><span style=\"color: #7f7f7f; text-decoration-color: #7f7f7f\">:</span><a href=\"file:///home/dawn/repos/c2m3-federated/c2m3/scripts/../../c2m3/flower/frank_flower_client.py#40\" target=\"_blank\"><span style=\"color: #7f7f7f; text-decoration-color: #7f7f7f\">40</span></a>\n",
       "</pre>\n"
      ],
      "text/plain": [
       "\u001b[2;36m                   \u001b[0m\u001b[2;36m \u001b[0m\u001b[34mINFO    \u001b[0m cid: \u001b[1;36m0\u001b[0m                                                                         \u001b]8;id=232854;file:///home/dawn/repos/c2m3-federated/c2m3/scripts/../../c2m3/flower/frank_flower_client.py\u001b\\\u001b[2mflwr\u001b[0m\u001b]8;;\u001b\\\u001b[2m:\u001b[0m\u001b]8;id=927964;file:///home/dawn/repos/c2m3-federated/c2m3/scripts/../../c2m3/flower/frank_flower_client.py#40\u001b\\\u001b[2m40\u001b[0m\u001b]8;;\u001b\\\n"
      ]
     },
     "metadata": {},
     "output_type": "display_data"
    },
    {
     "name": "stdout",
     "output_type": "stream",
     "text": [
      "MARKER\n",
      "self.properties={'tensor_type': 'numpy.ndarray', 'partition': PosixPath('/home/dawn/repos/c2m3-federated/c2m3/scripts/../femnist/client_data_mappings/class_imbalanced'), 'cid': 42, 'train_loader': <torch.utils.data.dataloader.DataLoader object at 0x74ac45c110c0>}\n",
      "MARKER\n",
      "self.properties={'tensor_type': 'numpy.ndarray', 'partition': PosixPath('/home/dawn/repos/c2m3-federated/c2m3/scripts/../femnist/client_data_mappings/class_imbalanced'), 'cid': 2, 'train_loader': <torch.utils.data.dataloader.DataLoader object at 0x74ac5dfd40a0>}\n",
      "MARKER\n",
      "self.properties={'tensor_type': 'numpy.ndarray', 'partition': PosixPath('/home/dawn/repos/c2m3-federated/c2m3/scripts/../femnist/client_data_mappings/class_imbalanced'), 'cid': 49, 'train_loader': <torch.utils.data.dataloader.DataLoader object at 0x74ac3c8e4850>}\n",
      "MARKER\n",
      "self.properties={'tensor_type': 'numpy.ndarray', 'partition': PosixPath('/home/dawn/repos/c2m3-federated/c2m3/scripts/../femnist/client_data_mappings/class_imbalanced'), 'cid': 20, 'train_loader': <torch.utils.data.dataloader.DataLoader object at 0x74ac35880d00>}\n",
      "MARKER\n",
      "self.properties={'tensor_type': 'numpy.ndarray', 'partition': PosixPath('/home/dawn/repos/c2m3-federated/c2m3/scripts/../femnist/client_data_mappings/class_imbalanced'), 'cid': 0, 'train_loader': <torch.utils.data.dataloader.DataLoader object at 0x74ac35bab820>}\n"
     ]
    },
    {
     "name": "stderr",
     "output_type": "stream",
     "text": [
      "DEBUG flwr 2025-03-09 13:19:54,755 | server_returns_parameters.py:237 | fit_round 4 received 5 results and 0 failures\n"
     ]
    },
    {
     "data": {
      "text/html": [
       "<pre style=\"white-space:pre;overflow-x:auto;line-height:normal;font-family:Menlo,'DejaVu Sans Mono',consolas,'Courier New',monospace\"><span style=\"color: #7fbfbf; text-decoration-color: #7fbfbf\">2025-03-09 13:19:54 </span><span style=\"color: #008000; text-decoration-color: #008000\">DEBUG   </span> fit_round <span style=\"color: #008080; text-decoration-color: #008080; font-weight: bold\">4</span> received <span style=\"color: #008080; text-decoration-color: #008080; font-weight: bold\">5</span> results and <span style=\"color: #008080; text-decoration-color: #008080; font-weight: bold\">0</span> failures                                 <a href=\"file:///home/dawn/venvs/fed/lib/python3.10/site-packages/flwr/server/server_returns_parameters.py\" target=\"_blank\"><span style=\"color: #7f7f7f; text-decoration-color: #7f7f7f\">flwr</span></a><span style=\"color: #7f7f7f; text-decoration-color: #7f7f7f\">:</span><a href=\"file:///home/dawn/venvs/fed/lib/python3.10/site-packages/flwr/server/server_returns_parameters.py#237\" target=\"_blank\"><span style=\"color: #7f7f7f; text-decoration-color: #7f7f7f\">237</span></a>\n",
       "</pre>\n"
      ],
      "text/plain": [
       "\u001b[2;36m2025-03-09 13:19:54\u001b[0m\u001b[2;36m \u001b[0m\u001b[32mDEBUG   \u001b[0m fit_round \u001b[1;36m4\u001b[0m received \u001b[1;36m5\u001b[0m results and \u001b[1;36m0\u001b[0m failures                                 \u001b]8;id=525813;file:///home/dawn/venvs/fed/lib/python3.10/site-packages/flwr/server/server_returns_parameters.py\u001b\\\u001b[2mflwr\u001b[0m\u001b]8;;\u001b\\\u001b[2m:\u001b[0m\u001b]8;id=195088;file:///home/dawn/venvs/fed/lib/python3.10/site-packages/flwr/server/server_returns_parameters.py#237\u001b\\\u001b[2m237\u001b[0m\u001b]8;;\u001b\\\n"
      ]
     },
     "metadata": {},
     "output_type": "display_data"
    },
    {
     "name": "stderr",
     "output_type": "stream",
     "text": [
      "INFO flwr 2025-03-09 13:19:54,766 | frank_flower_client.py:40 | cid: 2\n"
     ]
    },
    {
     "data": {
      "text/html": [
       "<pre style=\"white-space:pre;overflow-x:auto;line-height:normal;font-family:Menlo,'DejaVu Sans Mono',consolas,'Courier New',monospace\"><span style=\"color: #7fbfbf; text-decoration-color: #7fbfbf\">                    </span><span style=\"color: #000080; text-decoration-color: #000080\">INFO    </span> cid: <span style=\"color: #008080; text-decoration-color: #008080; font-weight: bold\">2</span>                                                                         <a href=\"file:///home/dawn/repos/c2m3-federated/c2m3/scripts/../../c2m3/flower/frank_flower_client.py\" target=\"_blank\"><span style=\"color: #7f7f7f; text-decoration-color: #7f7f7f\">flwr</span></a><span style=\"color: #7f7f7f; text-decoration-color: #7f7f7f\">:</span><a href=\"file:///home/dawn/repos/c2m3-federated/c2m3/scripts/../../c2m3/flower/frank_flower_client.py#40\" target=\"_blank\"><span style=\"color: #7f7f7f; text-decoration-color: #7f7f7f\">40</span></a>\n",
       "</pre>\n"
      ],
      "text/plain": [
       "\u001b[2;36m                   \u001b[0m\u001b[2;36m \u001b[0m\u001b[34mINFO    \u001b[0m cid: \u001b[1;36m2\u001b[0m                                                                         \u001b]8;id=548334;file:///home/dawn/repos/c2m3-federated/c2m3/scripts/../../c2m3/flower/frank_flower_client.py\u001b\\\u001b[2mflwr\u001b[0m\u001b]8;;\u001b\\\u001b[2m:\u001b[0m\u001b]8;id=573227;file:///home/dawn/repos/c2m3-federated/c2m3/scripts/../../c2m3/flower/frank_flower_client.py#40\u001b\\\u001b[2m40\u001b[0m\u001b]8;;\u001b\\\n"
      ]
     },
     "metadata": {},
     "output_type": "display_data"
    },
    {
     "name": "stderr",
     "output_type": "stream",
     "text": [
      "INFO flwr 2025-03-09 13:19:54,781 | frank_flower_client.py:40 | cid: 0\n"
     ]
    },
    {
     "data": {
      "text/html": [
       "<pre style=\"white-space:pre;overflow-x:auto;line-height:normal;font-family:Menlo,'DejaVu Sans Mono',consolas,'Courier New',monospace\"><span style=\"color: #7fbfbf; text-decoration-color: #7fbfbf\">                    </span><span style=\"color: #000080; text-decoration-color: #000080\">INFO    </span> cid: <span style=\"color: #008080; text-decoration-color: #008080; font-weight: bold\">0</span>                                                                         <a href=\"file:///home/dawn/repos/c2m3-federated/c2m3/scripts/../../c2m3/flower/frank_flower_client.py\" target=\"_blank\"><span style=\"color: #7f7f7f; text-decoration-color: #7f7f7f\">flwr</span></a><span style=\"color: #7f7f7f; text-decoration-color: #7f7f7f\">:</span><a href=\"file:///home/dawn/repos/c2m3-federated/c2m3/scripts/../../c2m3/flower/frank_flower_client.py#40\" target=\"_blank\"><span style=\"color: #7f7f7f; text-decoration-color: #7f7f7f\">40</span></a>\n",
       "</pre>\n"
      ],
      "text/plain": [
       "\u001b[2;36m                   \u001b[0m\u001b[2;36m \u001b[0m\u001b[34mINFO    \u001b[0m cid: \u001b[1;36m0\u001b[0m                                                                         \u001b]8;id=969300;file:///home/dawn/repos/c2m3-federated/c2m3/scripts/../../c2m3/flower/frank_flower_client.py\u001b\\\u001b[2mflwr\u001b[0m\u001b]8;;\u001b\\\u001b[2m:\u001b[0m\u001b]8;id=663594;file:///home/dawn/repos/c2m3-federated/c2m3/scripts/../../c2m3/flower/frank_flower_client.py#40\u001b\\\u001b[2m40\u001b[0m\u001b]8;;\u001b\\\n"
      ]
     },
     "metadata": {},
     "output_type": "display_data"
    },
    {
     "name": "stderr",
     "output_type": "stream",
     "text": [
      "INFO flwr 2025-03-09 13:19:54,796 | frank_flower_client.py:40 | cid: 20\n"
     ]
    },
    {
     "data": {
      "text/html": [
       "<pre style=\"white-space:pre;overflow-x:auto;line-height:normal;font-family:Menlo,'DejaVu Sans Mono',consolas,'Courier New',monospace\"><span style=\"color: #7fbfbf; text-decoration-color: #7fbfbf\">                    </span><span style=\"color: #000080; text-decoration-color: #000080\">INFO    </span> cid: <span style=\"color: #008080; text-decoration-color: #008080; font-weight: bold\">20</span>                                                                        <a href=\"file:///home/dawn/repos/c2m3-federated/c2m3/scripts/../../c2m3/flower/frank_flower_client.py\" target=\"_blank\"><span style=\"color: #7f7f7f; text-decoration-color: #7f7f7f\">flwr</span></a><span style=\"color: #7f7f7f; text-decoration-color: #7f7f7f\">:</span><a href=\"file:///home/dawn/repos/c2m3-federated/c2m3/scripts/../../c2m3/flower/frank_flower_client.py#40\" target=\"_blank\"><span style=\"color: #7f7f7f; text-decoration-color: #7f7f7f\">40</span></a>\n",
       "</pre>\n"
      ],
      "text/plain": [
       "\u001b[2;36m                   \u001b[0m\u001b[2;36m \u001b[0m\u001b[34mINFO    \u001b[0m cid: \u001b[1;36m20\u001b[0m                                                                        \u001b]8;id=919966;file:///home/dawn/repos/c2m3-federated/c2m3/scripts/../../c2m3/flower/frank_flower_client.py\u001b\\\u001b[2mflwr\u001b[0m\u001b]8;;\u001b\\\u001b[2m:\u001b[0m\u001b]8;id=514409;file:///home/dawn/repos/c2m3-federated/c2m3/scripts/../../c2m3/flower/frank_flower_client.py#40\u001b\\\u001b[2m40\u001b[0m\u001b]8;;\u001b\\\n"
      ]
     },
     "metadata": {},
     "output_type": "display_data"
    },
    {
     "name": "stderr",
     "output_type": "stream",
     "text": [
      "INFO flwr 2025-03-09 13:19:54,811 | frank_flower_client.py:40 | cid: 42\n"
     ]
    },
    {
     "data": {
      "text/html": [
       "<pre style=\"white-space:pre;overflow-x:auto;line-height:normal;font-family:Menlo,'DejaVu Sans Mono',consolas,'Courier New',monospace\"><span style=\"color: #7fbfbf; text-decoration-color: #7fbfbf\">                    </span><span style=\"color: #000080; text-decoration-color: #000080\">INFO    </span> cid: <span style=\"color: #008080; text-decoration-color: #008080; font-weight: bold\">42</span>                                                                        <a href=\"file:///home/dawn/repos/c2m3-federated/c2m3/scripts/../../c2m3/flower/frank_flower_client.py\" target=\"_blank\"><span style=\"color: #7f7f7f; text-decoration-color: #7f7f7f\">flwr</span></a><span style=\"color: #7f7f7f; text-decoration-color: #7f7f7f\">:</span><a href=\"file:///home/dawn/repos/c2m3-federated/c2m3/scripts/../../c2m3/flower/frank_flower_client.py#40\" target=\"_blank\"><span style=\"color: #7f7f7f; text-decoration-color: #7f7f7f\">40</span></a>\n",
       "</pre>\n"
      ],
      "text/plain": [
       "\u001b[2;36m                   \u001b[0m\u001b[2;36m \u001b[0m\u001b[34mINFO    \u001b[0m cid: \u001b[1;36m42\u001b[0m                                                                        \u001b]8;id=814941;file:///home/dawn/repos/c2m3-federated/c2m3/scripts/../../c2m3/flower/frank_flower_client.py\u001b\\\u001b[2mflwr\u001b[0m\u001b]8;;\u001b\\\u001b[2m:\u001b[0m\u001b]8;id=378305;file:///home/dawn/repos/c2m3-federated/c2m3/scripts/../../c2m3/flower/frank_flower_client.py#40\u001b\\\u001b[2m40\u001b[0m\u001b]8;;\u001b\\\n"
      ]
     },
     "metadata": {},
     "output_type": "display_data"
    },
    {
     "name": "stderr",
     "output_type": "stream",
     "text": [
      "INFO flwr 2025-03-09 13:19:54,826 | frank_flower_client.py:40 | cid: 49\n"
     ]
    },
    {
     "data": {
      "text/html": [
       "<pre style=\"white-space:pre;overflow-x:auto;line-height:normal;font-family:Menlo,'DejaVu Sans Mono',consolas,'Courier New',monospace\"><span style=\"color: #7fbfbf; text-decoration-color: #7fbfbf\">                    </span><span style=\"color: #000080; text-decoration-color: #000080\">INFO    </span> cid: <span style=\"color: #008080; text-decoration-color: #008080; font-weight: bold\">49</span>                                                                        <a href=\"file:///home/dawn/repos/c2m3-federated/c2m3/scripts/../../c2m3/flower/frank_flower_client.py\" target=\"_blank\"><span style=\"color: #7f7f7f; text-decoration-color: #7f7f7f\">flwr</span></a><span style=\"color: #7f7f7f; text-decoration-color: #7f7f7f\">:</span><a href=\"file:///home/dawn/repos/c2m3-federated/c2m3/scripts/../../c2m3/flower/frank_flower_client.py#40\" target=\"_blank\"><span style=\"color: #7f7f7f; text-decoration-color: #7f7f7f\">40</span></a>\n",
       "</pre>\n"
      ],
      "text/plain": [
       "\u001b[2;36m                   \u001b[0m\u001b[2;36m \u001b[0m\u001b[34mINFO    \u001b[0m cid: \u001b[1;36m49\u001b[0m                                                                        \u001b]8;id=732574;file:///home/dawn/repos/c2m3-federated/c2m3/scripts/../../c2m3/flower/frank_flower_client.py\u001b\\\u001b[2mflwr\u001b[0m\u001b]8;;\u001b\\\u001b[2m:\u001b[0m\u001b]8;id=226580;file:///home/dawn/repos/c2m3-federated/c2m3/scripts/../../c2m3/flower/frank_flower_client.py#40\u001b\\\u001b[2m40\u001b[0m\u001b]8;;\u001b\\\n"
      ]
     },
     "metadata": {},
     "output_type": "display_data"
    },
    {
     "name": "stdout",
     "output_type": "stream",
     "text": [
      "dict_keys(['a', 'b', 'c', 'd', 'e'])\n",
      "<class 'c2m3.modules.pl_module.MyLightningModule'>\n"
     ]
    },
    {
     "name": "stderr",
     "output_type": "stream",
     "text": [
      "Weight matching:   2%|▎         | 5/200 [00:03<02:13,  1.47it/s]\n"
     ]
    },
    {
     "name": "stdout",
     "output_type": "stream",
     "text": [
      "perms_to_apply={'P_conv1': tensor([0, 1, 2, 3, 4, 5]), 'P_fc1': tensor([  0,   1,   2,   3,   4,   5,   6,   7,   8,   9,  10,  11,  12,  13,\n",
      "         14,  15,  16,  17,  18,  19,  20,  21,  22,  23,  24,  25,  26,  27,\n",
      "         28,  29,  30,  31,  32,  33,  34,  35,  36,  37,  38,  39,  40,  41,\n",
      "         42,  43,  44,  45,  46,  47,  48,  49,  50,  51,  52,  53,  54,  55,\n",
      "         56,  57,  58,  59,  60,  61,  62,  63,  64,  65,  66,  67,  68,  69,\n",
      "         70,  71,  72,  73,  74,  75,  76,  77,  78,  79,  80,  81,  82,  83,\n",
      "         84,  85,  86,  87,  88,  89,  90,  91,  92,  93,  94,  95,  96,  97,\n",
      "         98,  99, 100, 101, 102, 103, 104, 105, 106, 107, 108, 109, 110, 111,\n",
      "        112, 113, 114, 115, 116, 117, 118, 119]), 'P_fc2': tensor([ 0,  1,  2,  3,  4,  5,  6,  7,  8,  9, 10, 11, 12, 13, 14, 15, 16, 17,\n",
      "        18, 19, 20, 21, 22, 23, 24, 25, 26, 27, 28, 29, 30, 31, 32, 33, 34, 35,\n",
      "        36, 37, 38, 39, 40, 41, 42, 43, 44, 45, 46, 47, 48, 49, 50, 51, 52, 53,\n",
      "        54, 55, 56, 57, 58, 59, 60, 61, 62, 63, 64, 65, 66, 67, 68, 69, 70, 71,\n",
      "        72, 73, 74, 75, 76, 77, 78, 79, 80, 81, 82, 83])}\n",
      "perms_to_apply={'P_conv1': tensor([0, 1, 2, 3, 4, 5]), 'P_fc1': tensor([  0,   1,   2,   3,   4,   5,   6,   7,   8,   9,  10,  11,  12,  13,\n",
      "         14,  15,  16,  17,  18,  19,  20,  21,  22,  23,  24,  25,  26,  27,\n",
      "         28,  29,  30,  31,  32,  33,  34,  35,  36,  37,  38,  39,  40,  41,\n",
      "         42,  43,  44,  45,  46,  47,  48,  49,  50,  51,  52,  53,  54,  55,\n",
      "         56,  57,  58,  59,  60,  61,  62,  63,  64,  65,  66,  67,  68,  69,\n",
      "         70,  71,  72,  73,  74,  75,  76,  77,  78,  79,  80,  81,  82,  83,\n",
      "         84,  85,  86,  87,  88,  89,  90,  91,  92,  93,  94,  95,  96,  97,\n",
      "         98,  99, 100, 101, 102, 103, 104, 105, 106, 107, 108, 109, 110, 111,\n",
      "        112, 113, 114, 115, 116, 117, 118, 119]), 'P_fc2': tensor([ 0,  1,  2,  3,  4,  5,  6,  7,  8,  9, 10, 11, 12, 13, 14, 15, 16, 17,\n",
      "        18, 19, 20, 21, 22, 23, 24, 25, 26, 27, 28, 29, 30, 31, 32, 33, 34, 35,\n",
      "        36, 37, 38, 39, 40, 41, 42, 43, 44, 45, 46, 47, 48, 49, 50, 51, 52, 53,\n",
      "        54, 55, 56, 57, 58, 59, 60, 61, 62, 63, 64, 65, 66, 67, 68, 69, 70, 71,\n",
      "        72, 73, 74, 75, 76, 77, 78, 79, 80, 81, 82, 83])}\n",
      "perms_to_apply={'P_conv1': tensor([0, 1, 2, 3, 4, 5]), 'P_fc1': tensor([  0,   1,   2,   3,   4,   5,   6,   7,   8,   9,  10,  11,  12,  13,\n",
      "         14,  15,  16,  17,  18,  19,  20,  21,  22,  23,  24,  25,  26,  27,\n",
      "         28,  29,  30,  31,  32,  33,  34,  35,  36,  37,  38,  39,  40,  41,\n",
      "         42,  43,  44,  45,  46,  47,  48,  49,  50,  51,  52,  53,  54,  55,\n",
      "         56,  57,  58,  59,  60,  61,  62,  63,  64,  65,  66,  67,  68,  69,\n",
      "         70,  71,  72,  73,  74,  75,  76,  77,  78,  79,  80,  81,  82,  83,\n",
      "         84,  85,  86,  87,  88,  89,  90,  91,  92,  93,  94,  95,  96,  97,\n",
      "         98,  99, 100, 101, 102, 103, 104, 105, 106, 107, 108, 109, 110, 111,\n",
      "        112, 113, 114, 115, 116, 117, 118, 119]), 'P_fc2': tensor([ 0,  1,  2,  3,  4,  5,  6,  7,  8,  9, 10, 11, 12, 13, 14, 15, 16, 17,\n",
      "        18, 19, 20, 21, 22, 23, 24, 25, 26, 27, 28, 29, 30, 31, 32, 33, 34, 35,\n",
      "        36, 37, 38, 39, 40, 41, 42, 43, 44, 45, 46, 47, 48, 49, 50, 51, 52, 53,\n",
      "        54, 55, 56, 57, 58, 59, 60, 61, 62, 63, 64, 65, 66, 67, 68, 69, 70, 71,\n",
      "        72, 73, 74, 75, 76, 77, 78, 79, 80, 81, 82, 83])}\n",
      "perms_to_apply={'P_conv1': tensor([0, 1, 2, 3, 4, 5]), 'P_fc1': tensor([  0,   1,   2,   3,   4,   5,   6,   7,   8,   9,  10,  11,  12,  13,\n",
      "         14,  15,  16,  17,  18,  19,  20,  21,  22,  23,  24,  25,  26,  27,\n",
      "         28,  29,  30,  31,  32,  33,  34,  35,  36,  37,  38,  39,  40,  41,\n",
      "         42,  43,  44,  45,  46,  47,  48,  49,  50,  51,  52,  53,  54,  55,\n",
      "         56,  57,  58,  59,  60,  61,  62,  63,  64,  65,  66,  67,  68,  69,\n",
      "         70,  71,  72,  73,  74,  75,  76,  77,  78,  79,  80,  81,  82,  83,\n",
      "         84,  85,  86,  87,  88,  89,  90,  91,  92,  93,  94,  95,  96,  97,\n",
      "         98,  99, 100, 101, 102, 103, 104, 105, 106, 107, 108, 109, 110, 111,\n",
      "        112, 113, 114, 115, 116, 117, 118, 119]), 'P_fc2': tensor([ 0,  1,  2,  3,  4,  5,  6,  7,  8,  9, 10, 11, 12, 13, 14, 15, 16, 17,\n",
      "        18, 19, 20, 21, 22, 23, 24, 25, 26, 27, 28, 29, 30, 31, 32, 33, 34, 35,\n",
      "        36, 37, 38, 39, 40, 41, 42, 43, 44, 45, 46, 47, 48, 49, 50, 51, 52, 53,\n",
      "        54, 55, 56, 57, 58, 59, 60, 61, 62, 63, 64, 65, 66, 67, 68, 69, 70, 71,\n",
      "        72, 73, 74, 75, 76, 77, 78, 79, 80, 81, 82, 83])}\n",
      "perms_to_apply={'P_conv1': tensor([0, 1, 2, 3, 4, 5]), 'P_fc1': tensor([  0,   1,   2,   3,   4,   5,   6,   7,   8,   9,  10,  11,  12,  13,\n",
      "         14,  15,  16,  17,  18,  19,  20,  21,  22,  23,  24,  25,  26,  27,\n",
      "         28,  29,  30,  31,  32,  33,  34,  35,  36,  37,  38,  39,  40,  41,\n",
      "         42,  43,  44,  45,  46,  47,  48,  49,  50,  51,  52,  53,  54,  55,\n",
      "         56,  57,  58,  59,  60,  61,  62,  63,  64,  65,  66,  67,  68,  69,\n",
      "         70,  71,  72,  73,  74,  75,  76,  77,  78,  79,  80,  81,  82,  83,\n",
      "         84,  85,  86,  87,  88,  89,  90,  91,  92,  93,  94,  95,  96,  97,\n",
      "         98,  99, 100, 101, 102, 103, 104, 105, 106, 107, 108, 109, 110, 111,\n",
      "        112, 113, 114, 115, 116, 117, 118, 119]), 'P_fc2': tensor([ 0,  1,  2,  3,  4,  5,  6,  7,  8,  9, 10, 11, 12, 13, 14, 15, 16, 17,\n",
      "        18, 19, 20, 21, 22, 23, 24, 25, 26, 27, 28, 29, 30, 31, 32, 33, 34, 35,\n",
      "        36, 37, 38, 39, 40, 41, 42, 43, 44, 45, 46, 47, 48, 49, 50, 51, 52, 53,\n",
      "        54, 55, 56, 57, 58, 59, 60, 61, 62, 63, 64, 65, 66, 67, 68, 69, 70, 71,\n",
      "        72, 73, 74, 75, 76, 77, 78, 79, 80, 81, 82, 83])}\n",
      "Function merge_models Took 3.4998 seconds\n",
      "Successfully merged models.\n"
     ]
    },
    {
     "name": "stderr",
     "output_type": "stream",
     "text": [
      "100%|██████████| 47/47 [00:00<00:00, 91.78it/s]\n",
      "INFO flwr 2025-03-09 13:19:59,397 | server_returns_parameters.py:120 | fit progress: (4, 393.32981061935425, {'accuracy': 0.09066666666666667}, 1882.2862460669712)\n"
     ]
    },
    {
     "data": {
      "text/html": [
       "<pre style=\"white-space:pre;overflow-x:auto;line-height:normal;font-family:Menlo,'DejaVu Sans Mono',consolas,'Courier New',monospace\"><span style=\"color: #7fbfbf; text-decoration-color: #7fbfbf\">2025-03-09 13:19:59 </span><span style=\"color: #000080; text-decoration-color: #000080\">INFO    </span> fit progress: <span style=\"font-weight: bold\">(</span><span style=\"color: #008080; text-decoration-color: #008080; font-weight: bold\">4</span>, <span style=\"color: #008080; text-decoration-color: #008080; font-weight: bold\">393.32981061935425</span>, <span style=\"font-weight: bold\">{</span><span style=\"color: #008000; text-decoration-color: #008000\">'accuracy'</span>: <span style=\"color: #008080; text-decoration-color: #008080; font-weight: bold\">0.09066666666666667</span><span style=\"font-weight: bold\">}</span>,      <a href=\"file:///home/dawn/venvs/fed/lib/python3.10/site-packages/flwr/server/server_returns_parameters.py\" target=\"_blank\"><span style=\"color: #7f7f7f; text-decoration-color: #7f7f7f\">flwr</span></a><span style=\"color: #7f7f7f; text-decoration-color: #7f7f7f\">:</span><a href=\"file:///home/dawn/venvs/fed/lib/python3.10/site-packages/flwr/server/server_returns_parameters.py#120\" target=\"_blank\"><span style=\"color: #7f7f7f; text-decoration-color: #7f7f7f\">120</span></a>\n",
       "<span style=\"color: #7fbfbf; text-decoration-color: #7fbfbf\">                    </span>         <span style=\"color: #008080; text-decoration-color: #008080; font-weight: bold\">1882.2862460669712</span><span style=\"font-weight: bold\">)</span>                                                           <span style=\"color: #7f7f7f; text-decoration-color: #7f7f7f\">        </span>\n",
       "</pre>\n"
      ],
      "text/plain": [
       "\u001b[2;36m2025-03-09 13:19:59\u001b[0m\u001b[2;36m \u001b[0m\u001b[34mINFO    \u001b[0m fit progress: \u001b[1m(\u001b[0m\u001b[1;36m4\u001b[0m, \u001b[1;36m393.32981061935425\u001b[0m, \u001b[1m{\u001b[0m\u001b[32m'accuracy'\u001b[0m: \u001b[1;36m0.09066666666666667\u001b[0m\u001b[1m}\u001b[0m,      \u001b]8;id=730650;file:///home/dawn/venvs/fed/lib/python3.10/site-packages/flwr/server/server_returns_parameters.py\u001b\\\u001b[2mflwr\u001b[0m\u001b]8;;\u001b\\\u001b[2m:\u001b[0m\u001b]8;id=995965;file:///home/dawn/venvs/fed/lib/python3.10/site-packages/flwr/server/server_returns_parameters.py#120\u001b\\\u001b[2m120\u001b[0m\u001b]8;;\u001b\\\n",
       "\u001b[2;36m                    \u001b[0m         \u001b[1;36m1882.2862460669712\u001b[0m\u001b[1m)\u001b[0m                                                           \u001b[2m        \u001b[0m\n"
      ]
     },
     "metadata": {},
     "output_type": "display_data"
    },
    {
     "name": "stderr",
     "output_type": "stream",
     "text": [
      "DEBUG flwr 2025-03-09 13:19:59,404 | server_returns_parameters.py:173 | evaluate_round 4: strategy sampled 5 clients (out of 62)\n"
     ]
    },
    {
     "data": {
      "text/html": [
       "<pre style=\"white-space:pre;overflow-x:auto;line-height:normal;font-family:Menlo,'DejaVu Sans Mono',consolas,'Courier New',monospace\"><span style=\"color: #7fbfbf; text-decoration-color: #7fbfbf\">                    </span><span style=\"color: #008000; text-decoration-color: #008000\">DEBUG   </span> evaluate_round <span style=\"color: #008080; text-decoration-color: #008080; font-weight: bold\">4</span>: strategy sampled <span style=\"color: #008080; text-decoration-color: #008080; font-weight: bold\">5</span> clients <span style=\"font-weight: bold\">(</span>out of <span style=\"color: #008080; text-decoration-color: #008080; font-weight: bold\">62</span><span style=\"font-weight: bold\">)</span>                      <a href=\"file:///home/dawn/venvs/fed/lib/python3.10/site-packages/flwr/server/server_returns_parameters.py\" target=\"_blank\"><span style=\"color: #7f7f7f; text-decoration-color: #7f7f7f\">flwr</span></a><span style=\"color: #7f7f7f; text-decoration-color: #7f7f7f\">:</span><a href=\"file:///home/dawn/venvs/fed/lib/python3.10/site-packages/flwr/server/server_returns_parameters.py#173\" target=\"_blank\"><span style=\"color: #7f7f7f; text-decoration-color: #7f7f7f\">173</span></a>\n",
       "</pre>\n"
      ],
      "text/plain": [
       "\u001b[2;36m                   \u001b[0m\u001b[2;36m \u001b[0m\u001b[32mDEBUG   \u001b[0m evaluate_round \u001b[1;36m4\u001b[0m: strategy sampled \u001b[1;36m5\u001b[0m clients \u001b[1m(\u001b[0mout of \u001b[1;36m62\u001b[0m\u001b[1m)\u001b[0m                      \u001b]8;id=42868;file:///home/dawn/venvs/fed/lib/python3.10/site-packages/flwr/server/server_returns_parameters.py\u001b\\\u001b[2mflwr\u001b[0m\u001b]8;;\u001b\\\u001b[2m:\u001b[0m\u001b]8;id=711286;file:///home/dawn/venvs/fed/lib/python3.10/site-packages/flwr/server/server_returns_parameters.py#173\u001b\\\u001b[2m173\u001b[0m\u001b]8;;\u001b\\\n"
      ]
     },
     "metadata": {},
     "output_type": "display_data"
    },
    {
     "name": "stderr",
     "output_type": "stream",
     "text": [
      "INFO flwr 2025-03-09 13:19:59,412 | frank_flower_client.py:40 | cid: 3\n",
      "INFO flwr 2025-03-09 13:19:59,420 | frank_flower_client.py:40 | cid: 25\n"
     ]
    },
    {
     "data": {
      "text/html": [
       "<pre style=\"white-space:pre;overflow-x:auto;line-height:normal;font-family:Menlo,'DejaVu Sans Mono',consolas,'Courier New',monospace\"><span style=\"color: #7fbfbf; text-decoration-color: #7fbfbf\">                    </span><span style=\"color: #000080; text-decoration-color: #000080\">INFO    </span> cid: <span style=\"color: #008080; text-decoration-color: #008080; font-weight: bold\">3</span>                                                                         <a href=\"file:///home/dawn/repos/c2m3-federated/c2m3/scripts/../../c2m3/flower/frank_flower_client.py\" target=\"_blank\"><span style=\"color: #7f7f7f; text-decoration-color: #7f7f7f\">flwr</span></a><span style=\"color: #7f7f7f; text-decoration-color: #7f7f7f\">:</span><a href=\"file:///home/dawn/repos/c2m3-federated/c2m3/scripts/../../c2m3/flower/frank_flower_client.py#40\" target=\"_blank\"><span style=\"color: #7f7f7f; text-decoration-color: #7f7f7f\">40</span></a>\n",
       "</pre>\n"
      ],
      "text/plain": [
       "\u001b[2;36m                   \u001b[0m\u001b[2;36m \u001b[0m\u001b[34mINFO    \u001b[0m cid: \u001b[1;36m3\u001b[0m                                                                         \u001b]8;id=86396;file:///home/dawn/repos/c2m3-federated/c2m3/scripts/../../c2m3/flower/frank_flower_client.py\u001b\\\u001b[2mflwr\u001b[0m\u001b]8;;\u001b\\\u001b[2m:\u001b[0m\u001b]8;id=336984;file:///home/dawn/repos/c2m3-federated/c2m3/scripts/../../c2m3/flower/frank_flower_client.py#40\u001b\\\u001b[2m40\u001b[0m\u001b]8;;\u001b\\\n"
      ]
     },
     "metadata": {},
     "output_type": "display_data"
    },
    {
     "name": "stderr",
     "output_type": "stream",
     "text": [
      "INFO flwr 2025-03-09 13:19:59,421 | frank_flower_client.py:40 | cid: 44\n",
      "INFO flwr 2025-03-09 13:19:59,437 | frank_flower_client.py:40 | cid: 33\n"
     ]
    },
    {
     "data": {
      "text/html": [
       "<pre style=\"white-space:pre;overflow-x:auto;line-height:normal;font-family:Menlo,'DejaVu Sans Mono',consolas,'Courier New',monospace\"><span style=\"color: #7fbfbf; text-decoration-color: #7fbfbf\">                    </span><span style=\"color: #000080; text-decoration-color: #000080\">INFO    </span> cid: <span style=\"color: #008080; text-decoration-color: #008080; font-weight: bold\">25</span>                                                                        <a href=\"file:///home/dawn/repos/c2m3-federated/c2m3/scripts/../../c2m3/flower/frank_flower_client.py\" target=\"_blank\"><span style=\"color: #7f7f7f; text-decoration-color: #7f7f7f\">flwr</span></a><span style=\"color: #7f7f7f; text-decoration-color: #7f7f7f\">:</span><a href=\"file:///home/dawn/repos/c2m3-federated/c2m3/scripts/../../c2m3/flower/frank_flower_client.py#40\" target=\"_blank\"><span style=\"color: #7f7f7f; text-decoration-color: #7f7f7f\">40</span></a>\n",
       "</pre>\n"
      ],
      "text/plain": [
       "\u001b[2;36m                   \u001b[0m\u001b[2;36m \u001b[0m\u001b[34mINFO    \u001b[0m cid: \u001b[1;36m25\u001b[0m                                                                        \u001b]8;id=588784;file:///home/dawn/repos/c2m3-federated/c2m3/scripts/../../c2m3/flower/frank_flower_client.py\u001b\\\u001b[2mflwr\u001b[0m\u001b]8;;\u001b\\\u001b[2m:\u001b[0m\u001b]8;id=535943;file:///home/dawn/repos/c2m3-federated/c2m3/scripts/../../c2m3/flower/frank_flower_client.py#40\u001b\\\u001b[2m40\u001b[0m\u001b]8;;\u001b\\\n"
      ]
     },
     "metadata": {},
     "output_type": "display_data"
    },
    {
     "name": "stderr",
     "output_type": "stream",
     "text": [
      "INFO flwr 2025-03-09 13:19:59,439 | frank_flower_client.py:40 | cid: 2\n"
     ]
    },
    {
     "data": {
      "text/html": [
       "<pre style=\"white-space:pre;overflow-x:auto;line-height:normal;font-family:Menlo,'DejaVu Sans Mono',consolas,'Courier New',monospace\"><span style=\"color: #7fbfbf; text-decoration-color: #7fbfbf\">                    </span><span style=\"color: #000080; text-decoration-color: #000080\">INFO    </span> cid: <span style=\"color: #008080; text-decoration-color: #008080; font-weight: bold\">44</span>                                                                        <a href=\"file:///home/dawn/repos/c2m3-federated/c2m3/scripts/../../c2m3/flower/frank_flower_client.py\" target=\"_blank\"><span style=\"color: #7f7f7f; text-decoration-color: #7f7f7f\">flwr</span></a><span style=\"color: #7f7f7f; text-decoration-color: #7f7f7f\">:</span><a href=\"file:///home/dawn/repos/c2m3-federated/c2m3/scripts/../../c2m3/flower/frank_flower_client.py#40\" target=\"_blank\"><span style=\"color: #7f7f7f; text-decoration-color: #7f7f7f\">40</span></a>\n",
       "</pre>\n"
      ],
      "text/plain": [
       "\u001b[2;36m                   \u001b[0m\u001b[2;36m \u001b[0m\u001b[34mINFO    \u001b[0m cid: \u001b[1;36m44\u001b[0m                                                                        \u001b]8;id=706250;file:///home/dawn/repos/c2m3-federated/c2m3/scripts/../../c2m3/flower/frank_flower_client.py\u001b\\\u001b[2mflwr\u001b[0m\u001b]8;;\u001b\\\u001b[2m:\u001b[0m\u001b]8;id=898652;file:///home/dawn/repos/c2m3-federated/c2m3/scripts/../../c2m3/flower/frank_flower_client.py#40\u001b\\\u001b[2m40\u001b[0m\u001b]8;;\u001b\\\n"
      ]
     },
     "metadata": {},
     "output_type": "display_data"
    },
    {
     "data": {
      "text/html": [
       "<pre style=\"white-space:pre;overflow-x:auto;line-height:normal;font-family:Menlo,'DejaVu Sans Mono',consolas,'Courier New',monospace\"><span style=\"color: #7fbfbf; text-decoration-color: #7fbfbf\">                    </span><span style=\"color: #000080; text-decoration-color: #000080\">INFO    </span> cid: <span style=\"color: #008080; text-decoration-color: #008080; font-weight: bold\">33</span>                                                                        <a href=\"file:///home/dawn/repos/c2m3-federated/c2m3/scripts/../../c2m3/flower/frank_flower_client.py\" target=\"_blank\"><span style=\"color: #7f7f7f; text-decoration-color: #7f7f7f\">flwr</span></a><span style=\"color: #7f7f7f; text-decoration-color: #7f7f7f\">:</span><a href=\"file:///home/dawn/repos/c2m3-federated/c2m3/scripts/../../c2m3/flower/frank_flower_client.py#40\" target=\"_blank\"><span style=\"color: #7f7f7f; text-decoration-color: #7f7f7f\">40</span></a>\n",
       "</pre>\n"
      ],
      "text/plain": [
       "\u001b[2;36m                   \u001b[0m\u001b[2;36m \u001b[0m\u001b[34mINFO    \u001b[0m cid: \u001b[1;36m33\u001b[0m                                                                        \u001b]8;id=33872;file:///home/dawn/repos/c2m3-federated/c2m3/scripts/../../c2m3/flower/frank_flower_client.py\u001b\\\u001b[2mflwr\u001b[0m\u001b]8;;\u001b\\\u001b[2m:\u001b[0m\u001b]8;id=151734;file:///home/dawn/repos/c2m3-federated/c2m3/scripts/../../c2m3/flower/frank_flower_client.py#40\u001b\\\u001b[2m40\u001b[0m\u001b]8;;\u001b\\\n"
      ]
     },
     "metadata": {},
     "output_type": "display_data"
    },
    {
     "data": {
      "text/html": [
       "<pre style=\"white-space:pre;overflow-x:auto;line-height:normal;font-family:Menlo,'DejaVu Sans Mono',consolas,'Courier New',monospace\"><span style=\"color: #7fbfbf; text-decoration-color: #7fbfbf\">                    </span><span style=\"color: #000080; text-decoration-color: #000080\">INFO    </span> cid: <span style=\"color: #008080; text-decoration-color: #008080; font-weight: bold\">2</span>                                                                         <a href=\"file:///home/dawn/repos/c2m3-federated/c2m3/scripts/../../c2m3/flower/frank_flower_client.py\" target=\"_blank\"><span style=\"color: #7f7f7f; text-decoration-color: #7f7f7f\">flwr</span></a><span style=\"color: #7f7f7f; text-decoration-color: #7f7f7f\">:</span><a href=\"file:///home/dawn/repos/c2m3-federated/c2m3/scripts/../../c2m3/flower/frank_flower_client.py#40\" target=\"_blank\"><span style=\"color: #7f7f7f; text-decoration-color: #7f7f7f\">40</span></a>\n",
       "</pre>\n"
      ],
      "text/plain": [
       "\u001b[2;36m                   \u001b[0m\u001b[2;36m \u001b[0m\u001b[34mINFO    \u001b[0m cid: \u001b[1;36m2\u001b[0m                                                                         \u001b]8;id=650967;file:///home/dawn/repos/c2m3-federated/c2m3/scripts/../../c2m3/flower/frank_flower_client.py\u001b\\\u001b[2mflwr\u001b[0m\u001b]8;;\u001b\\\u001b[2m:\u001b[0m\u001b]8;id=428586;file:///home/dawn/repos/c2m3-federated/c2m3/scripts/../../c2m3/flower/frank_flower_client.py#40\u001b\\\u001b[2m40\u001b[0m\u001b]8;;\u001b\\\n"
      ]
     },
     "metadata": {},
     "output_type": "display_data"
    },
    {
     "name": "stderr",
     "output_type": "stream",
     "text": [
      "DEBUG flwr 2025-03-09 13:19:59,499 | server_returns_parameters.py:187 | evaluate_round 4 received 0 results and 5 failures\n"
     ]
    },
    {
     "data": {
      "text/html": [
       "<pre style=\"white-space:pre;overflow-x:auto;line-height:normal;font-family:Menlo,'DejaVu Sans Mono',consolas,'Courier New',monospace\"><span style=\"color: #7fbfbf; text-decoration-color: #7fbfbf\">                    </span><span style=\"color: #008000; text-decoration-color: #008000\">DEBUG   </span> evaluate_round <span style=\"color: #008080; text-decoration-color: #008080; font-weight: bold\">4</span> received <span style=\"color: #008080; text-decoration-color: #008080; font-weight: bold\">0</span> results and <span style=\"color: #008080; text-decoration-color: #008080; font-weight: bold\">5</span> failures                            <a href=\"file:///home/dawn/venvs/fed/lib/python3.10/site-packages/flwr/server/server_returns_parameters.py\" target=\"_blank\"><span style=\"color: #7f7f7f; text-decoration-color: #7f7f7f\">flwr</span></a><span style=\"color: #7f7f7f; text-decoration-color: #7f7f7f\">:</span><a href=\"file:///home/dawn/venvs/fed/lib/python3.10/site-packages/flwr/server/server_returns_parameters.py#187\" target=\"_blank\"><span style=\"color: #7f7f7f; text-decoration-color: #7f7f7f\">187</span></a>\n",
       "</pre>\n"
      ],
      "text/plain": [
       "\u001b[2;36m                   \u001b[0m\u001b[2;36m \u001b[0m\u001b[32mDEBUG   \u001b[0m evaluate_round \u001b[1;36m4\u001b[0m received \u001b[1;36m0\u001b[0m results and \u001b[1;36m5\u001b[0m failures                            \u001b]8;id=862855;file:///home/dawn/venvs/fed/lib/python3.10/site-packages/flwr/server/server_returns_parameters.py\u001b\\\u001b[2mflwr\u001b[0m\u001b]8;;\u001b\\\u001b[2m:\u001b[0m\u001b]8;id=278182;file:///home/dawn/venvs/fed/lib/python3.10/site-packages/flwr/server/server_returns_parameters.py#187\u001b\\\u001b[2m187\u001b[0m\u001b]8;;\u001b\\\n"
      ]
     },
     "metadata": {},
     "output_type": "display_data"
    },
    {
     "name": "stderr",
     "output_type": "stream",
     "text": [
      "DEBUG flwr 2025-03-09 13:19:59,506 | server_returns_parameters.py:223 | fit_round 5: strategy sampled 5 clients (out of 62)\n"
     ]
    },
    {
     "data": {
      "text/html": [
       "<pre style=\"white-space:pre;overflow-x:auto;line-height:normal;font-family:Menlo,'DejaVu Sans Mono',consolas,'Courier New',monospace\"><span style=\"color: #7fbfbf; text-decoration-color: #7fbfbf\">                    </span><span style=\"color: #008000; text-decoration-color: #008000\">DEBUG   </span> fit_round <span style=\"color: #008080; text-decoration-color: #008080; font-weight: bold\">5</span>: strategy sampled <span style=\"color: #008080; text-decoration-color: #008080; font-weight: bold\">5</span> clients <span style=\"font-weight: bold\">(</span>out of <span style=\"color: #008080; text-decoration-color: #008080; font-weight: bold\">62</span><span style=\"font-weight: bold\">)</span>                           <a href=\"file:///home/dawn/venvs/fed/lib/python3.10/site-packages/flwr/server/server_returns_parameters.py\" target=\"_blank\"><span style=\"color: #7f7f7f; text-decoration-color: #7f7f7f\">flwr</span></a><span style=\"color: #7f7f7f; text-decoration-color: #7f7f7f\">:</span><a href=\"file:///home/dawn/venvs/fed/lib/python3.10/site-packages/flwr/server/server_returns_parameters.py#223\" target=\"_blank\"><span style=\"color: #7f7f7f; text-decoration-color: #7f7f7f\">223</span></a>\n",
       "</pre>\n"
      ],
      "text/plain": [
       "\u001b[2;36m                   \u001b[0m\u001b[2;36m \u001b[0m\u001b[32mDEBUG   \u001b[0m fit_round \u001b[1;36m5\u001b[0m: strategy sampled \u001b[1;36m5\u001b[0m clients \u001b[1m(\u001b[0mout of \u001b[1;36m62\u001b[0m\u001b[1m)\u001b[0m                           \u001b]8;id=629234;file:///home/dawn/venvs/fed/lib/python3.10/site-packages/flwr/server/server_returns_parameters.py\u001b\\\u001b[2mflwr\u001b[0m\u001b]8;;\u001b\\\u001b[2m:\u001b[0m\u001b]8;id=920534;file:///home/dawn/venvs/fed/lib/python3.10/site-packages/flwr/server/server_returns_parameters.py#223\u001b\\\u001b[2m223\u001b[0m\u001b]8;;\u001b\\\n"
      ]
     },
     "metadata": {},
     "output_type": "display_data"
    },
    {
     "name": "stderr",
     "output_type": "stream",
     "text": [
      "INFO flwr 2025-03-09 13:19:59,514 | frank_flower_client.py:40 | cid: 24\n"
     ]
    },
    {
     "data": {
      "text/html": [
       "<pre style=\"white-space:pre;overflow-x:auto;line-height:normal;font-family:Menlo,'DejaVu Sans Mono',consolas,'Courier New',monospace\"><span style=\"color: #7fbfbf; text-decoration-color: #7fbfbf\">                    </span><span style=\"color: #000080; text-decoration-color: #000080\">INFO    </span> cid: <span style=\"color: #008080; text-decoration-color: #008080; font-weight: bold\">24</span>                                                                        <a href=\"file:///home/dawn/repos/c2m3-federated/c2m3/scripts/../../c2m3/flower/frank_flower_client.py\" target=\"_blank\"><span style=\"color: #7f7f7f; text-decoration-color: #7f7f7f\">flwr</span></a><span style=\"color: #7f7f7f; text-decoration-color: #7f7f7f\">:</span><a href=\"file:///home/dawn/repos/c2m3-federated/c2m3/scripts/../../c2m3/flower/frank_flower_client.py#40\" target=\"_blank\"><span style=\"color: #7f7f7f; text-decoration-color: #7f7f7f\">40</span></a>\n",
       "</pre>\n"
      ],
      "text/plain": [
       "\u001b[2;36m                   \u001b[0m\u001b[2;36m \u001b[0m\u001b[34mINFO    \u001b[0m cid: \u001b[1;36m24\u001b[0m                                                                        \u001b]8;id=841023;file:///home/dawn/repos/c2m3-federated/c2m3/scripts/../../c2m3/flower/frank_flower_client.py\u001b\\\u001b[2mflwr\u001b[0m\u001b]8;;\u001b\\\u001b[2m:\u001b[0m\u001b]8;id=89943;file:///home/dawn/repos/c2m3-federated/c2m3/scripts/../../c2m3/flower/frank_flower_client.py#40\u001b\\\u001b[2m40\u001b[0m\u001b]8;;\u001b\\\n"
      ]
     },
     "metadata": {},
     "output_type": "display_data"
    },
    {
     "name": "stderr",
     "output_type": "stream",
     "text": [
      "INFO flwr 2025-03-09 13:19:59,526 | frank_flower_client.py:40 | cid: 30\n"
     ]
    },
    {
     "data": {
      "text/html": [
       "<pre style=\"white-space:pre;overflow-x:auto;line-height:normal;font-family:Menlo,'DejaVu Sans Mono',consolas,'Courier New',monospace\"><span style=\"color: #7fbfbf; text-decoration-color: #7fbfbf\">                    </span><span style=\"color: #000080; text-decoration-color: #000080\">INFO    </span> cid: <span style=\"color: #008080; text-decoration-color: #008080; font-weight: bold\">30</span>                                                                        <a href=\"file:///home/dawn/repos/c2m3-federated/c2m3/scripts/../../c2m3/flower/frank_flower_client.py\" target=\"_blank\"><span style=\"color: #7f7f7f; text-decoration-color: #7f7f7f\">flwr</span></a><span style=\"color: #7f7f7f; text-decoration-color: #7f7f7f\">:</span><a href=\"file:///home/dawn/repos/c2m3-federated/c2m3/scripts/../../c2m3/flower/frank_flower_client.py#40\" target=\"_blank\"><span style=\"color: #7f7f7f; text-decoration-color: #7f7f7f\">40</span></a>\n",
       "</pre>\n"
      ],
      "text/plain": [
       "\u001b[2;36m                   \u001b[0m\u001b[2;36m \u001b[0m\u001b[34mINFO    \u001b[0m cid: \u001b[1;36m30\u001b[0m                                                                        \u001b]8;id=269150;file:///home/dawn/repos/c2m3-federated/c2m3/scripts/../../c2m3/flower/frank_flower_client.py\u001b\\\u001b[2mflwr\u001b[0m\u001b]8;;\u001b\\\u001b[2m:\u001b[0m\u001b]8;id=158619;file:///home/dawn/repos/c2m3-federated/c2m3/scripts/../../c2m3/flower/frank_flower_client.py#40\u001b\\\u001b[2m40\u001b[0m\u001b]8;;\u001b\\\n"
      ]
     },
     "metadata": {},
     "output_type": "display_data"
    },
    {
     "name": "stderr",
     "output_type": "stream",
     "text": [
      "INFO flwr 2025-03-09 13:19:59,544 | frank_flower_client.py:40 | cid: 21\n",
      "INFO flwr 2025-03-09 13:19:59,555 | frank_flower_client.py:40 | cid: 4\n"
     ]
    },
    {
     "data": {
      "text/html": [
       "<pre style=\"white-space:pre;overflow-x:auto;line-height:normal;font-family:Menlo,'DejaVu Sans Mono',consolas,'Courier New',monospace\"><span style=\"color: #7fbfbf; text-decoration-color: #7fbfbf\">                    </span><span style=\"color: #000080; text-decoration-color: #000080\">INFO    </span> cid: <span style=\"color: #008080; text-decoration-color: #008080; font-weight: bold\">21</span>                                                                        <a href=\"file:///home/dawn/repos/c2m3-federated/c2m3/scripts/../../c2m3/flower/frank_flower_client.py\" target=\"_blank\"><span style=\"color: #7f7f7f; text-decoration-color: #7f7f7f\">flwr</span></a><span style=\"color: #7f7f7f; text-decoration-color: #7f7f7f\">:</span><a href=\"file:///home/dawn/repos/c2m3-federated/c2m3/scripts/../../c2m3/flower/frank_flower_client.py#40\" target=\"_blank\"><span style=\"color: #7f7f7f; text-decoration-color: #7f7f7f\">40</span></a>\n",
       "</pre>\n"
      ],
      "text/plain": [
       "\u001b[2;36m                   \u001b[0m\u001b[2;36m \u001b[0m\u001b[34mINFO    \u001b[0m cid: \u001b[1;36m21\u001b[0m                                                                        \u001b]8;id=917542;file:///home/dawn/repos/c2m3-federated/c2m3/scripts/../../c2m3/flower/frank_flower_client.py\u001b\\\u001b[2mflwr\u001b[0m\u001b]8;;\u001b\\\u001b[2m:\u001b[0m\u001b]8;id=943352;file:///home/dawn/repos/c2m3-federated/c2m3/scripts/../../c2m3/flower/frank_flower_client.py#40\u001b\\\u001b[2m40\u001b[0m\u001b]8;;\u001b\\\n"
      ]
     },
     "metadata": {},
     "output_type": "display_data"
    },
    {
     "name": "stderr",
     "output_type": "stream",
     "text": [
      "INFO flwr 2025-03-09 13:19:59,566 | frank_flower_client.py:40 | cid: 23\n"
     ]
    },
    {
     "data": {
      "text/html": [
       "<pre style=\"white-space:pre;overflow-x:auto;line-height:normal;font-family:Menlo,'DejaVu Sans Mono',consolas,'Courier New',monospace\"><span style=\"color: #7fbfbf; text-decoration-color: #7fbfbf\">                    </span><span style=\"color: #000080; text-decoration-color: #000080\">INFO    </span> cid: <span style=\"color: #008080; text-decoration-color: #008080; font-weight: bold\">4</span>                                                                         <a href=\"file:///home/dawn/repos/c2m3-federated/c2m3/scripts/../../c2m3/flower/frank_flower_client.py\" target=\"_blank\"><span style=\"color: #7f7f7f; text-decoration-color: #7f7f7f\">flwr</span></a><span style=\"color: #7f7f7f; text-decoration-color: #7f7f7f\">:</span><a href=\"file:///home/dawn/repos/c2m3-federated/c2m3/scripts/../../c2m3/flower/frank_flower_client.py#40\" target=\"_blank\"><span style=\"color: #7f7f7f; text-decoration-color: #7f7f7f\">40</span></a>\n",
       "</pre>\n"
      ],
      "text/plain": [
       "\u001b[2;36m                   \u001b[0m\u001b[2;36m \u001b[0m\u001b[34mINFO    \u001b[0m cid: \u001b[1;36m4\u001b[0m                                                                         \u001b]8;id=159269;file:///home/dawn/repos/c2m3-federated/c2m3/scripts/../../c2m3/flower/frank_flower_client.py\u001b\\\u001b[2mflwr\u001b[0m\u001b]8;;\u001b\\\u001b[2m:\u001b[0m\u001b]8;id=45845;file:///home/dawn/repos/c2m3-federated/c2m3/scripts/../../c2m3/flower/frank_flower_client.py#40\u001b\\\u001b[2m40\u001b[0m\u001b]8;;\u001b\\\n"
      ]
     },
     "metadata": {},
     "output_type": "display_data"
    },
    {
     "data": {
      "text/html": [
       "<pre style=\"white-space:pre;overflow-x:auto;line-height:normal;font-family:Menlo,'DejaVu Sans Mono',consolas,'Courier New',monospace\"><span style=\"color: #7fbfbf; text-decoration-color: #7fbfbf\">                    </span><span style=\"color: #000080; text-decoration-color: #000080\">INFO    </span> cid: <span style=\"color: #008080; text-decoration-color: #008080; font-weight: bold\">23</span>                                                                        <a href=\"file:///home/dawn/repos/c2m3-federated/c2m3/scripts/../../c2m3/flower/frank_flower_client.py\" target=\"_blank\"><span style=\"color: #7f7f7f; text-decoration-color: #7f7f7f\">flwr</span></a><span style=\"color: #7f7f7f; text-decoration-color: #7f7f7f\">:</span><a href=\"file:///home/dawn/repos/c2m3-federated/c2m3/scripts/../../c2m3/flower/frank_flower_client.py#40\" target=\"_blank\"><span style=\"color: #7f7f7f; text-decoration-color: #7f7f7f\">40</span></a>\n",
       "</pre>\n"
      ],
      "text/plain": [
       "\u001b[2;36m                   \u001b[0m\u001b[2;36m \u001b[0m\u001b[34mINFO    \u001b[0m cid: \u001b[1;36m23\u001b[0m                                                                        \u001b]8;id=825644;file:///home/dawn/repos/c2m3-federated/c2m3/scripts/../../c2m3/flower/frank_flower_client.py\u001b\\\u001b[2mflwr\u001b[0m\u001b]8;;\u001b\\\u001b[2m:\u001b[0m\u001b]8;id=368800;file:///home/dawn/repos/c2m3-federated/c2m3/scripts/../../c2m3/flower/frank_flower_client.py#40\u001b\\\u001b[2m40\u001b[0m\u001b]8;;\u001b\\\n"
      ]
     },
     "metadata": {},
     "output_type": "display_data"
    },
    {
     "name": "stdout",
     "output_type": "stream",
     "text": [
      "MARKER\n",
      "self.properties={'tensor_type': 'numpy.ndarray', 'partition': PosixPath('/home/dawn/repos/c2m3-federated/c2m3/scripts/../femnist/client_data_mappings/class_imbalanced'), 'cid': 24, 'train_loader': <torch.utils.data.dataloader.DataLoader object at 0x74ac5904e9b0>}\n",
      "MARKER\n",
      "self.properties={'tensor_type': 'numpy.ndarray', 'partition': PosixPath('/home/dawn/repos/c2m3-federated/c2m3/scripts/../femnist/client_data_mappings/class_imbalanced'), 'cid': 30, 'train_loader': <torch.utils.data.dataloader.DataLoader object at 0x74ac35881630>}\n",
      "MARKER\n",
      "self.properties={'tensor_type': 'numpy.ndarray', 'partition': PosixPath('/home/dawn/repos/c2m3-federated/c2m3/scripts/../femnist/client_data_mappings/class_imbalanced'), 'cid': 4, 'train_loader': <torch.utils.data.dataloader.DataLoader object at 0x74ac358250c0>}\n",
      "MARKER\n",
      "self.properties={'tensor_type': 'numpy.ndarray', 'partition': PosixPath('/home/dawn/repos/c2m3-federated/c2m3/scripts/../femnist/client_data_mappings/class_imbalanced'), 'cid': 21, 'train_loader': <torch.utils.data.dataloader.DataLoader object at 0x74ac358260b0>}\n",
      "MARKER\n",
      "self.properties={'tensor_type': 'numpy.ndarray', 'partition': PosixPath('/home/dawn/repos/c2m3-federated/c2m3/scripts/../femnist/client_data_mappings/class_imbalanced'), 'cid': 23, 'train_loader': <torch.utils.data.dataloader.DataLoader object at 0x74ac35a78d30>}\n"
     ]
    },
    {
     "name": "stderr",
     "output_type": "stream",
     "text": [
      "DEBUG flwr 2025-03-09 13:20:04,479 | server_returns_parameters.py:237 | fit_round 5 received 5 results and 0 failures\n"
     ]
    },
    {
     "data": {
      "text/html": [
       "<pre style=\"white-space:pre;overflow-x:auto;line-height:normal;font-family:Menlo,'DejaVu Sans Mono',consolas,'Courier New',monospace\"><span style=\"color: #7fbfbf; text-decoration-color: #7fbfbf\">2025-03-09 13:20:04 </span><span style=\"color: #008000; text-decoration-color: #008000\">DEBUG   </span> fit_round <span style=\"color: #008080; text-decoration-color: #008080; font-weight: bold\">5</span> received <span style=\"color: #008080; text-decoration-color: #008080; font-weight: bold\">5</span> results and <span style=\"color: #008080; text-decoration-color: #008080; font-weight: bold\">0</span> failures                                 <a href=\"file:///home/dawn/venvs/fed/lib/python3.10/site-packages/flwr/server/server_returns_parameters.py\" target=\"_blank\"><span style=\"color: #7f7f7f; text-decoration-color: #7f7f7f\">flwr</span></a><span style=\"color: #7f7f7f; text-decoration-color: #7f7f7f\">:</span><a href=\"file:///home/dawn/venvs/fed/lib/python3.10/site-packages/flwr/server/server_returns_parameters.py#237\" target=\"_blank\"><span style=\"color: #7f7f7f; text-decoration-color: #7f7f7f\">237</span></a>\n",
       "</pre>\n"
      ],
      "text/plain": [
       "\u001b[2;36m2025-03-09 13:20:04\u001b[0m\u001b[2;36m \u001b[0m\u001b[32mDEBUG   \u001b[0m fit_round \u001b[1;36m5\u001b[0m received \u001b[1;36m5\u001b[0m results and \u001b[1;36m0\u001b[0m failures                                 \u001b]8;id=66007;file:///home/dawn/venvs/fed/lib/python3.10/site-packages/flwr/server/server_returns_parameters.py\u001b\\\u001b[2mflwr\u001b[0m\u001b]8;;\u001b\\\u001b[2m:\u001b[0m\u001b]8;id=766208;file:///home/dawn/venvs/fed/lib/python3.10/site-packages/flwr/server/server_returns_parameters.py#237\u001b\\\u001b[2m237\u001b[0m\u001b]8;;\u001b\\\n"
      ]
     },
     "metadata": {},
     "output_type": "display_data"
    },
    {
     "name": "stderr",
     "output_type": "stream",
     "text": [
      "INFO flwr 2025-03-09 13:20:04,488 | frank_flower_client.py:40 | cid: 4\n"
     ]
    },
    {
     "data": {
      "text/html": [
       "<pre style=\"white-space:pre;overflow-x:auto;line-height:normal;font-family:Menlo,'DejaVu Sans Mono',consolas,'Courier New',monospace\"><span style=\"color: #7fbfbf; text-decoration-color: #7fbfbf\">                    </span><span style=\"color: #000080; text-decoration-color: #000080\">INFO    </span> cid: <span style=\"color: #008080; text-decoration-color: #008080; font-weight: bold\">4</span>                                                                         <a href=\"file:///home/dawn/repos/c2m3-federated/c2m3/scripts/../../c2m3/flower/frank_flower_client.py\" target=\"_blank\"><span style=\"color: #7f7f7f; text-decoration-color: #7f7f7f\">flwr</span></a><span style=\"color: #7f7f7f; text-decoration-color: #7f7f7f\">:</span><a href=\"file:///home/dawn/repos/c2m3-federated/c2m3/scripts/../../c2m3/flower/frank_flower_client.py#40\" target=\"_blank\"><span style=\"color: #7f7f7f; text-decoration-color: #7f7f7f\">40</span></a>\n",
       "</pre>\n"
      ],
      "text/plain": [
       "\u001b[2;36m                   \u001b[0m\u001b[2;36m \u001b[0m\u001b[34mINFO    \u001b[0m cid: \u001b[1;36m4\u001b[0m                                                                         \u001b]8;id=600058;file:///home/dawn/repos/c2m3-federated/c2m3/scripts/../../c2m3/flower/frank_flower_client.py\u001b\\\u001b[2mflwr\u001b[0m\u001b]8;;\u001b\\\u001b[2m:\u001b[0m\u001b]8;id=967957;file:///home/dawn/repos/c2m3-federated/c2m3/scripts/../../c2m3/flower/frank_flower_client.py#40\u001b\\\u001b[2m40\u001b[0m\u001b]8;;\u001b\\\n"
      ]
     },
     "metadata": {},
     "output_type": "display_data"
    },
    {
     "name": "stderr",
     "output_type": "stream",
     "text": [
      "INFO flwr 2025-03-09 13:20:04,503 | frank_flower_client.py:40 | cid: 23\n"
     ]
    },
    {
     "data": {
      "text/html": [
       "<pre style=\"white-space:pre;overflow-x:auto;line-height:normal;font-family:Menlo,'DejaVu Sans Mono',consolas,'Courier New',monospace\"><span style=\"color: #7fbfbf; text-decoration-color: #7fbfbf\">                    </span><span style=\"color: #000080; text-decoration-color: #000080\">INFO    </span> cid: <span style=\"color: #008080; text-decoration-color: #008080; font-weight: bold\">23</span>                                                                        <a href=\"file:///home/dawn/repos/c2m3-federated/c2m3/scripts/../../c2m3/flower/frank_flower_client.py\" target=\"_blank\"><span style=\"color: #7f7f7f; text-decoration-color: #7f7f7f\">flwr</span></a><span style=\"color: #7f7f7f; text-decoration-color: #7f7f7f\">:</span><a href=\"file:///home/dawn/repos/c2m3-federated/c2m3/scripts/../../c2m3/flower/frank_flower_client.py#40\" target=\"_blank\"><span style=\"color: #7f7f7f; text-decoration-color: #7f7f7f\">40</span></a>\n",
       "</pre>\n"
      ],
      "text/plain": [
       "\u001b[2;36m                   \u001b[0m\u001b[2;36m \u001b[0m\u001b[34mINFO    \u001b[0m cid: \u001b[1;36m23\u001b[0m                                                                        \u001b]8;id=95019;file:///home/dawn/repos/c2m3-federated/c2m3/scripts/../../c2m3/flower/frank_flower_client.py\u001b\\\u001b[2mflwr\u001b[0m\u001b]8;;\u001b\\\u001b[2m:\u001b[0m\u001b]8;id=209294;file:///home/dawn/repos/c2m3-federated/c2m3/scripts/../../c2m3/flower/frank_flower_client.py#40\u001b\\\u001b[2m40\u001b[0m\u001b]8;;\u001b\\\n"
      ]
     },
     "metadata": {},
     "output_type": "display_data"
    },
    {
     "name": "stderr",
     "output_type": "stream",
     "text": [
      "INFO flwr 2025-03-09 13:20:04,516 | frank_flower_client.py:40 | cid: 24\n"
     ]
    },
    {
     "data": {
      "text/html": [
       "<pre style=\"white-space:pre;overflow-x:auto;line-height:normal;font-family:Menlo,'DejaVu Sans Mono',consolas,'Courier New',monospace\"><span style=\"color: #7fbfbf; text-decoration-color: #7fbfbf\">                    </span><span style=\"color: #000080; text-decoration-color: #000080\">INFO    </span> cid: <span style=\"color: #008080; text-decoration-color: #008080; font-weight: bold\">24</span>                                                                        <a href=\"file:///home/dawn/repos/c2m3-federated/c2m3/scripts/../../c2m3/flower/frank_flower_client.py\" target=\"_blank\"><span style=\"color: #7f7f7f; text-decoration-color: #7f7f7f\">flwr</span></a><span style=\"color: #7f7f7f; text-decoration-color: #7f7f7f\">:</span><a href=\"file:///home/dawn/repos/c2m3-federated/c2m3/scripts/../../c2m3/flower/frank_flower_client.py#40\" target=\"_blank\"><span style=\"color: #7f7f7f; text-decoration-color: #7f7f7f\">40</span></a>\n",
       "</pre>\n"
      ],
      "text/plain": [
       "\u001b[2;36m                   \u001b[0m\u001b[2;36m \u001b[0m\u001b[34mINFO    \u001b[0m cid: \u001b[1;36m24\u001b[0m                                                                        \u001b]8;id=377866;file:///home/dawn/repos/c2m3-federated/c2m3/scripts/../../c2m3/flower/frank_flower_client.py\u001b\\\u001b[2mflwr\u001b[0m\u001b]8;;\u001b\\\u001b[2m:\u001b[0m\u001b]8;id=748002;file:///home/dawn/repos/c2m3-federated/c2m3/scripts/../../c2m3/flower/frank_flower_client.py#40\u001b\\\u001b[2m40\u001b[0m\u001b]8;;\u001b\\\n"
      ]
     },
     "metadata": {},
     "output_type": "display_data"
    },
    {
     "name": "stderr",
     "output_type": "stream",
     "text": [
      "INFO flwr 2025-03-09 13:20:04,530 | frank_flower_client.py:40 | cid: 21\n"
     ]
    },
    {
     "data": {
      "text/html": [
       "<pre style=\"white-space:pre;overflow-x:auto;line-height:normal;font-family:Menlo,'DejaVu Sans Mono',consolas,'Courier New',monospace\"><span style=\"color: #7fbfbf; text-decoration-color: #7fbfbf\">                    </span><span style=\"color: #000080; text-decoration-color: #000080\">INFO    </span> cid: <span style=\"color: #008080; text-decoration-color: #008080; font-weight: bold\">21</span>                                                                        <a href=\"file:///home/dawn/repos/c2m3-federated/c2m3/scripts/../../c2m3/flower/frank_flower_client.py\" target=\"_blank\"><span style=\"color: #7f7f7f; text-decoration-color: #7f7f7f\">flwr</span></a><span style=\"color: #7f7f7f; text-decoration-color: #7f7f7f\">:</span><a href=\"file:///home/dawn/repos/c2m3-federated/c2m3/scripts/../../c2m3/flower/frank_flower_client.py#40\" target=\"_blank\"><span style=\"color: #7f7f7f; text-decoration-color: #7f7f7f\">40</span></a>\n",
       "</pre>\n"
      ],
      "text/plain": [
       "\u001b[2;36m                   \u001b[0m\u001b[2;36m \u001b[0m\u001b[34mINFO    \u001b[0m cid: \u001b[1;36m21\u001b[0m                                                                        \u001b]8;id=694072;file:///home/dawn/repos/c2m3-federated/c2m3/scripts/../../c2m3/flower/frank_flower_client.py\u001b\\\u001b[2mflwr\u001b[0m\u001b]8;;\u001b\\\u001b[2m:\u001b[0m\u001b]8;id=954045;file:///home/dawn/repos/c2m3-federated/c2m3/scripts/../../c2m3/flower/frank_flower_client.py#40\u001b\\\u001b[2m40\u001b[0m\u001b]8;;\u001b\\\n"
      ]
     },
     "metadata": {},
     "output_type": "display_data"
    },
    {
     "name": "stderr",
     "output_type": "stream",
     "text": [
      "INFO flwr 2025-03-09 13:20:04,544 | frank_flower_client.py:40 | cid: 30\n"
     ]
    },
    {
     "data": {
      "text/html": [
       "<pre style=\"white-space:pre;overflow-x:auto;line-height:normal;font-family:Menlo,'DejaVu Sans Mono',consolas,'Courier New',monospace\"><span style=\"color: #7fbfbf; text-decoration-color: #7fbfbf\">                    </span><span style=\"color: #000080; text-decoration-color: #000080\">INFO    </span> cid: <span style=\"color: #008080; text-decoration-color: #008080; font-weight: bold\">30</span>                                                                        <a href=\"file:///home/dawn/repos/c2m3-federated/c2m3/scripts/../../c2m3/flower/frank_flower_client.py\" target=\"_blank\"><span style=\"color: #7f7f7f; text-decoration-color: #7f7f7f\">flwr</span></a><span style=\"color: #7f7f7f; text-decoration-color: #7f7f7f\">:</span><a href=\"file:///home/dawn/repos/c2m3-federated/c2m3/scripts/../../c2m3/flower/frank_flower_client.py#40\" target=\"_blank\"><span style=\"color: #7f7f7f; text-decoration-color: #7f7f7f\">40</span></a>\n",
       "</pre>\n"
      ],
      "text/plain": [
       "\u001b[2;36m                   \u001b[0m\u001b[2;36m \u001b[0m\u001b[34mINFO    \u001b[0m cid: \u001b[1;36m30\u001b[0m                                                                        \u001b]8;id=105311;file:///home/dawn/repos/c2m3-federated/c2m3/scripts/../../c2m3/flower/frank_flower_client.py\u001b\\\u001b[2mflwr\u001b[0m\u001b]8;;\u001b\\\u001b[2m:\u001b[0m\u001b]8;id=310420;file:///home/dawn/repos/c2m3-federated/c2m3/scripts/../../c2m3/flower/frank_flower_client.py#40\u001b\\\u001b[2m40\u001b[0m\u001b]8;;\u001b\\\n"
      ]
     },
     "metadata": {},
     "output_type": "display_data"
    },
    {
     "name": "stdout",
     "output_type": "stream",
     "text": [
      "dict_keys(['a', 'b', 'c', 'd', 'e'])\n",
      "<class 'c2m3.modules.pl_module.MyLightningModule'>\n"
     ]
    },
    {
     "name": "stderr",
     "output_type": "stream",
     "text": [
      "Weight matching:   2%|▎         | 5/200 [00:03<02:06,  1.54it/s]\n"
     ]
    },
    {
     "name": "stdout",
     "output_type": "stream",
     "text": [
      "perms_to_apply={'P_conv1': tensor([0, 1, 2, 3, 4, 5]), 'P_fc1': tensor([  0,   1,   2,   3,   4,   5,   6,   7,   8,   9,  10,  11,  12,  13,\n",
      "         14,  15,  16,  17,  18,  19,  20,  21,  22,  23,  24,  25,  26,  27,\n",
      "         28,  29,  30,  31,  32,  33,  34,  35,  36,  37,  38,  39,  40,  41,\n",
      "         42,  43,  44,  45,  46,  47,  48,  49,  50,  51,  52,  53,  54,  55,\n",
      "         56,  57,  58,  59,  60,  61,  62,  63,  64,  65,  66,  67,  68,  69,\n",
      "         70,  71,  72,  73,  74,  75,  76,  77,  78,  79,  80,  81,  82,  83,\n",
      "         84,  85,  86,  87,  88,  89,  90,  91,  92,  93,  94,  95,  96,  97,\n",
      "         98,  99, 100, 101, 102, 103, 104, 105, 106, 107, 108, 109, 110, 111,\n",
      "        112, 113, 114, 115, 116, 117, 118, 119]), 'P_fc2': tensor([ 0,  1,  2,  3,  4,  5,  6,  7,  8,  9, 10, 11, 12, 13, 14, 15, 16, 17,\n",
      "        18, 19, 20, 21, 22, 23, 24, 25, 26, 27, 28, 29, 30, 31, 32, 33, 34, 35,\n",
      "        36, 37, 38, 39, 40, 41, 42, 43, 44, 45, 46, 47, 48, 49, 50, 51, 52, 53,\n",
      "        54, 55, 56, 57, 58, 59, 60, 61, 62, 63, 64, 65, 66, 67, 68, 69, 70, 71,\n",
      "        72, 73, 74, 75, 76, 77, 78, 79, 80, 81, 82, 83])}\n",
      "perms_to_apply={'P_conv1': tensor([0, 1, 2, 3, 4, 5]), 'P_fc1': tensor([  0,   1,   2,   3,   4,   5,   6,   7,   8,   9,  10,  11,  12,  13,\n",
      "         14,  15,  16,  17,  18,  19,  20,  21,  22,  23,  24,  25,  26,  27,\n",
      "         28,  29,  30,  31,  32,  33,  34,  35,  36,  37,  38,  39,  40,  41,\n",
      "         42,  43,  44,  45,  46,  47,  48,  49,  50,  51,  52,  53,  54,  55,\n",
      "         56,  57,  58,  59,  60,  61,  62,  63,  64,  65,  66,  67,  68,  69,\n",
      "         70,  71,  72,  73,  74,  75,  76,  77,  78,  79,  80,  81,  82,  83,\n",
      "         84,  85,  86,  87,  88,  89,  90,  91,  92,  93,  94,  95,  96,  97,\n",
      "         98,  99, 100, 101, 102, 103, 104, 105, 106, 107, 108, 109, 110, 111,\n",
      "        112, 113, 114, 115, 116, 117, 118, 119]), 'P_fc2': tensor([ 0,  1,  2,  3,  4,  5,  6,  7,  8,  9, 10, 11, 12, 13, 14, 15, 16, 17,\n",
      "        18, 19, 20, 21, 22, 23, 24, 25, 26, 27, 28, 29, 30, 31, 32, 33, 34, 35,\n",
      "        36, 37, 38, 39, 40, 41, 42, 43, 44, 45, 46, 47, 48, 49, 50, 51, 52, 53,\n",
      "        54, 55, 56, 57, 58, 59, 60, 61, 62, 63, 64, 65, 66, 67, 68, 69, 70, 71,\n",
      "        72, 73, 74, 75, 76, 77, 78, 79, 80, 81, 82, 83])}\n",
      "perms_to_apply={'P_conv1': tensor([0, 1, 2, 3, 4, 5]), 'P_fc1': tensor([  0,   1,   2,   3,   4,   5,   6,   7,   8,   9,  10,  11,  12,  13,\n",
      "         14,  15,  16,  17,  18,  19,  20,  21,  22,  23,  24,  25,  26,  27,\n",
      "         28,  29,  30,  31,  32,  33,  34,  35,  36,  37,  38,  39,  40,  41,\n",
      "         42,  43,  44,  45,  46,  47,  48,  49,  50,  51,  52,  53,  54,  55,\n",
      "         56,  57,  58,  59,  60,  61,  62,  63,  64,  65,  66,  67,  68,  69,\n",
      "         70,  71,  72,  73,  74,  75,  76,  77,  78,  79,  80,  81,  82,  83,\n",
      "         84,  85,  86,  87,  88,  89,  90,  91,  92,  93,  94,  95,  96,  97,\n",
      "         98,  99, 100, 101, 102, 103, 104, 105, 106, 107, 108, 109, 110, 111,\n",
      "        112, 113, 114, 115, 116, 117, 118, 119]), 'P_fc2': tensor([ 0,  1,  2,  3,  4,  5,  6,  7,  8,  9, 10, 11, 12, 13, 14, 15, 16, 17,\n",
      "        18, 19, 20, 21, 22, 23, 24, 25, 26, 27, 28, 29, 30, 31, 32, 33, 34, 35,\n",
      "        36, 37, 38, 39, 40, 41, 42, 43, 44, 45, 46, 47, 48, 49, 50, 51, 52, 53,\n",
      "        54, 55, 56, 57, 58, 59, 60, 61, 62, 63, 64, 65, 66, 67, 68, 69, 70, 71,\n",
      "        72, 73, 74, 75, 76, 77, 78, 79, 80, 81, 82, 83])}\n",
      "perms_to_apply={'P_conv1': tensor([0, 1, 2, 3, 4, 5]), 'P_fc1': tensor([  0,   1,   2,   3,   4,   5,   6,   7,   8,   9,  10,  11,  12,  13,\n",
      "         14,  15,  16,  17,  18,  19,  20,  21,  22,  23,  24,  25,  26,  27,\n",
      "         28,  29,  30,  31,  32,  33,  34,  35,  36,  37,  38,  39,  40,  41,\n",
      "         42,  43,  44,  45,  46,  47,  48,  49,  50,  51,  52,  53,  54,  55,\n",
      "         56,  57,  58,  59,  60,  61,  62,  63,  64,  65,  66,  67,  68,  69,\n",
      "         70,  71,  72,  73,  74,  75,  76,  77,  78,  79,  80,  81,  82,  83,\n",
      "         84,  85,  86,  87,  88,  89,  90,  91,  92,  93,  94,  95,  96,  97,\n",
      "         98,  99, 100, 101, 102, 103, 104, 105, 106, 107, 108, 109, 110, 111,\n",
      "        112, 113, 114, 115, 116, 117, 118, 119]), 'P_fc2': tensor([ 0,  1,  2,  3,  4,  5,  6,  7,  8,  9, 10, 11, 12, 13, 14, 15, 16, 17,\n",
      "        18, 19, 20, 21, 22, 23, 24, 25, 26, 27, 28, 29, 30, 31, 32, 33, 34, 35,\n",
      "        36, 37, 38, 39, 40, 41, 42, 43, 44, 45, 46, 47, 48, 49, 50, 51, 52, 53,\n",
      "        54, 55, 56, 57, 58, 59, 60, 61, 62, 63, 64, 65, 66, 67, 68, 69, 70, 71,\n",
      "        72, 73, 74, 75, 76, 77, 78, 79, 80, 81, 82, 83])}\n",
      "perms_to_apply={'P_conv1': tensor([0, 1, 2, 3, 4, 5]), 'P_fc1': tensor([  0,   1,   2,   3,   4,   5,   6,   7,   8,   9,  10,  11,  12,  13,\n",
      "         14,  15,  16,  17,  18,  19,  20,  21,  22,  23,  24,  25,  26,  27,\n",
      "         28,  29,  30,  31,  32,  33,  34,  35,  36,  37,  38,  39,  40,  41,\n",
      "         42,  43,  44,  45,  46,  47,  48,  49,  50,  51,  52,  53,  54,  55,\n",
      "         56,  57,  58,  59,  60,  61,  62,  63,  64,  65,  66,  67,  68,  69,\n",
      "         70,  71,  72,  73,  74,  75,  76,  77,  78,  79,  80,  81,  82,  83,\n",
      "         84,  85,  86,  87,  88,  89,  90,  91,  92,  93,  94,  95,  96,  97,\n",
      "         98,  99, 100, 101, 102, 103, 104, 105, 106, 107, 108, 109, 110, 111,\n",
      "        112, 113, 114, 115, 116, 117, 118, 119]), 'P_fc2': tensor([ 0,  1,  2,  3,  4,  5,  6,  7,  8,  9, 10, 11, 12, 13, 14, 15, 16, 17,\n",
      "        18, 19, 20, 21, 22, 23, 24, 25, 26, 27, 28, 29, 30, 31, 32, 33, 34, 35,\n",
      "        36, 37, 38, 39, 40, 41, 42, 43, 44, 45, 46, 47, 48, 49, 50, 51, 52, 53,\n",
      "        54, 55, 56, 57, 58, 59, 60, 61, 62, 63, 64, 65, 66, 67, 68, 69, 70, 71,\n",
      "        72, 73, 74, 75, 76, 77, 78, 79, 80, 81, 82, 83])}\n",
      "Function merge_models Took 3.3201 seconds\n",
      "Successfully merged models.\n"
     ]
    },
    {
     "name": "stderr",
     "output_type": "stream",
     "text": [
      "100%|██████████| 47/47 [00:00<00:00, 92.86it/s]\n",
      "INFO flwr 2025-03-09 13:20:08,954 | server_returns_parameters.py:120 | fit progress: (5, 956.286922454834, {'accuracy': 0.007333333333333333}, 1891.843067224021)\n"
     ]
    },
    {
     "data": {
      "text/html": [
       "<pre style=\"white-space:pre;overflow-x:auto;line-height:normal;font-family:Menlo,'DejaVu Sans Mono',consolas,'Courier New',monospace\"><span style=\"color: #7fbfbf; text-decoration-color: #7fbfbf\">2025-03-09 13:20:08 </span><span style=\"color: #000080; text-decoration-color: #000080\">INFO    </span> fit progress: <span style=\"font-weight: bold\">(</span><span style=\"color: #008080; text-decoration-color: #008080; font-weight: bold\">5</span>, <span style=\"color: #008080; text-decoration-color: #008080; font-weight: bold\">956.286922454834</span>, <span style=\"font-weight: bold\">{</span><span style=\"color: #008000; text-decoration-color: #008000\">'accuracy'</span>: <span style=\"color: #008080; text-decoration-color: #008080; font-weight: bold\">0.007333333333333333</span><span style=\"font-weight: bold\">}</span>,       <a href=\"file:///home/dawn/venvs/fed/lib/python3.10/site-packages/flwr/server/server_returns_parameters.py\" target=\"_blank\"><span style=\"color: #7f7f7f; text-decoration-color: #7f7f7f\">flwr</span></a><span style=\"color: #7f7f7f; text-decoration-color: #7f7f7f\">:</span><a href=\"file:///home/dawn/venvs/fed/lib/python3.10/site-packages/flwr/server/server_returns_parameters.py#120\" target=\"_blank\"><span style=\"color: #7f7f7f; text-decoration-color: #7f7f7f\">120</span></a>\n",
       "<span style=\"color: #7fbfbf; text-decoration-color: #7fbfbf\">                    </span>         <span style=\"color: #008080; text-decoration-color: #008080; font-weight: bold\">1891.843067224021</span><span style=\"font-weight: bold\">)</span>                                                            <span style=\"color: #7f7f7f; text-decoration-color: #7f7f7f\">        </span>\n",
       "</pre>\n"
      ],
      "text/plain": [
       "\u001b[2;36m2025-03-09 13:20:08\u001b[0m\u001b[2;36m \u001b[0m\u001b[34mINFO    \u001b[0m fit progress: \u001b[1m(\u001b[0m\u001b[1;36m5\u001b[0m, \u001b[1;36m956.286922454834\u001b[0m, \u001b[1m{\u001b[0m\u001b[32m'accuracy'\u001b[0m: \u001b[1;36m0.007333333333333333\u001b[0m\u001b[1m}\u001b[0m,       \u001b]8;id=918070;file:///home/dawn/venvs/fed/lib/python3.10/site-packages/flwr/server/server_returns_parameters.py\u001b\\\u001b[2mflwr\u001b[0m\u001b]8;;\u001b\\\u001b[2m:\u001b[0m\u001b]8;id=304988;file:///home/dawn/venvs/fed/lib/python3.10/site-packages/flwr/server/server_returns_parameters.py#120\u001b\\\u001b[2m120\u001b[0m\u001b]8;;\u001b\\\n",
       "\u001b[2;36m                    \u001b[0m         \u001b[1;36m1891.843067224021\u001b[0m\u001b[1m)\u001b[0m                                                            \u001b[2m        \u001b[0m\n"
      ]
     },
     "metadata": {},
     "output_type": "display_data"
    },
    {
     "name": "stderr",
     "output_type": "stream",
     "text": [
      "DEBUG flwr 2025-03-09 13:20:08,960 | server_returns_parameters.py:173 | evaluate_round 5: strategy sampled 5 clients (out of 62)\n"
     ]
    },
    {
     "data": {
      "text/html": [
       "<pre style=\"white-space:pre;overflow-x:auto;line-height:normal;font-family:Menlo,'DejaVu Sans Mono',consolas,'Courier New',monospace\"><span style=\"color: #7fbfbf; text-decoration-color: #7fbfbf\">                    </span><span style=\"color: #008000; text-decoration-color: #008000\">DEBUG   </span> evaluate_round <span style=\"color: #008080; text-decoration-color: #008080; font-weight: bold\">5</span>: strategy sampled <span style=\"color: #008080; text-decoration-color: #008080; font-weight: bold\">5</span> clients <span style=\"font-weight: bold\">(</span>out of <span style=\"color: #008080; text-decoration-color: #008080; font-weight: bold\">62</span><span style=\"font-weight: bold\">)</span>                      <a href=\"file:///home/dawn/venvs/fed/lib/python3.10/site-packages/flwr/server/server_returns_parameters.py\" target=\"_blank\"><span style=\"color: #7f7f7f; text-decoration-color: #7f7f7f\">flwr</span></a><span style=\"color: #7f7f7f; text-decoration-color: #7f7f7f\">:</span><a href=\"file:///home/dawn/venvs/fed/lib/python3.10/site-packages/flwr/server/server_returns_parameters.py#173\" target=\"_blank\"><span style=\"color: #7f7f7f; text-decoration-color: #7f7f7f\">173</span></a>\n",
       "</pre>\n"
      ],
      "text/plain": [
       "\u001b[2;36m                   \u001b[0m\u001b[2;36m \u001b[0m\u001b[32mDEBUG   \u001b[0m evaluate_round \u001b[1;36m5\u001b[0m: strategy sampled \u001b[1;36m5\u001b[0m clients \u001b[1m(\u001b[0mout of \u001b[1;36m62\u001b[0m\u001b[1m)\u001b[0m                      \u001b]8;id=943907;file:///home/dawn/venvs/fed/lib/python3.10/site-packages/flwr/server/server_returns_parameters.py\u001b\\\u001b[2mflwr\u001b[0m\u001b]8;;\u001b\\\u001b[2m:\u001b[0m\u001b]8;id=567303;file:///home/dawn/venvs/fed/lib/python3.10/site-packages/flwr/server/server_returns_parameters.py#173\u001b\\\u001b[2m173\u001b[0m\u001b]8;;\u001b\\\n"
      ]
     },
     "metadata": {},
     "output_type": "display_data"
    },
    {
     "name": "stderr",
     "output_type": "stream",
     "text": [
      "INFO flwr 2025-03-09 13:20:08,968 | frank_flower_client.py:40 | cid: 58\n",
      "INFO flwr 2025-03-09 13:20:08,970 | frank_flower_client.py:40 | cid: 2\n",
      "INFO flwr 2025-03-09 13:20:08,971 | frank_flower_client.py:40 | cid: 16\n"
     ]
    },
    {
     "data": {
      "text/html": [
       "<pre style=\"white-space:pre;overflow-x:auto;line-height:normal;font-family:Menlo,'DejaVu Sans Mono',consolas,'Courier New',monospace\"><span style=\"color: #7fbfbf; text-decoration-color: #7fbfbf\">                    </span><span style=\"color: #000080; text-decoration-color: #000080\">INFO    </span> cid: <span style=\"color: #008080; text-decoration-color: #008080; font-weight: bold\">58</span>                                                                        <a href=\"file:///home/dawn/repos/c2m3-federated/c2m3/scripts/../../c2m3/flower/frank_flower_client.py\" target=\"_blank\"><span style=\"color: #7f7f7f; text-decoration-color: #7f7f7f\">flwr</span></a><span style=\"color: #7f7f7f; text-decoration-color: #7f7f7f\">:</span><a href=\"file:///home/dawn/repos/c2m3-federated/c2m3/scripts/../../c2m3/flower/frank_flower_client.py#40\" target=\"_blank\"><span style=\"color: #7f7f7f; text-decoration-color: #7f7f7f\">40</span></a>\n",
       "</pre>\n"
      ],
      "text/plain": [
       "\u001b[2;36m                   \u001b[0m\u001b[2;36m \u001b[0m\u001b[34mINFO    \u001b[0m cid: \u001b[1;36m58\u001b[0m                                                                        \u001b]8;id=288872;file:///home/dawn/repos/c2m3-federated/c2m3/scripts/../../c2m3/flower/frank_flower_client.py\u001b\\\u001b[2mflwr\u001b[0m\u001b]8;;\u001b\\\u001b[2m:\u001b[0m\u001b]8;id=36212;file:///home/dawn/repos/c2m3-federated/c2m3/scripts/../../c2m3/flower/frank_flower_client.py#40\u001b\\\u001b[2m40\u001b[0m\u001b]8;;\u001b\\\n"
      ]
     },
     "metadata": {},
     "output_type": "display_data"
    },
    {
     "name": "stderr",
     "output_type": "stream",
     "text": [
      "INFO flwr 2025-03-09 13:20:08,992 | frank_flower_client.py:40 | cid: 26\n"
     ]
    },
    {
     "data": {
      "text/html": [
       "<pre style=\"white-space:pre;overflow-x:auto;line-height:normal;font-family:Menlo,'DejaVu Sans Mono',consolas,'Courier New',monospace\"><span style=\"color: #7fbfbf; text-decoration-color: #7fbfbf\">                    </span><span style=\"color: #000080; text-decoration-color: #000080\">INFO    </span> cid: <span style=\"color: #008080; text-decoration-color: #008080; font-weight: bold\">2</span>                                                                         <a href=\"file:///home/dawn/repos/c2m3-federated/c2m3/scripts/../../c2m3/flower/frank_flower_client.py\" target=\"_blank\"><span style=\"color: #7f7f7f; text-decoration-color: #7f7f7f\">flwr</span></a><span style=\"color: #7f7f7f; text-decoration-color: #7f7f7f\">:</span><a href=\"file:///home/dawn/repos/c2m3-federated/c2m3/scripts/../../c2m3/flower/frank_flower_client.py#40\" target=\"_blank\"><span style=\"color: #7f7f7f; text-decoration-color: #7f7f7f\">40</span></a>\n",
       "</pre>\n"
      ],
      "text/plain": [
       "\u001b[2;36m                   \u001b[0m\u001b[2;36m \u001b[0m\u001b[34mINFO    \u001b[0m cid: \u001b[1;36m2\u001b[0m                                                                         \u001b]8;id=52334;file:///home/dawn/repos/c2m3-federated/c2m3/scripts/../../c2m3/flower/frank_flower_client.py\u001b\\\u001b[2mflwr\u001b[0m\u001b]8;;\u001b\\\u001b[2m:\u001b[0m\u001b]8;id=980355;file:///home/dawn/repos/c2m3-federated/c2m3/scripts/../../c2m3/flower/frank_flower_client.py#40\u001b\\\u001b[2m40\u001b[0m\u001b]8;;\u001b\\\n"
      ]
     },
     "metadata": {},
     "output_type": "display_data"
    },
    {
     "name": "stderr",
     "output_type": "stream",
     "text": [
      "INFO flwr 2025-03-09 13:20:08,994 | frank_flower_client.py:40 | cid: 20\n"
     ]
    },
    {
     "data": {
      "text/html": [
       "<pre style=\"white-space:pre;overflow-x:auto;line-height:normal;font-family:Menlo,'DejaVu Sans Mono',consolas,'Courier New',monospace\"><span style=\"color: #7fbfbf; text-decoration-color: #7fbfbf\">                    </span><span style=\"color: #000080; text-decoration-color: #000080\">INFO    </span> cid: <span style=\"color: #008080; text-decoration-color: #008080; font-weight: bold\">16</span>                                                                        <a href=\"file:///home/dawn/repos/c2m3-federated/c2m3/scripts/../../c2m3/flower/frank_flower_client.py\" target=\"_blank\"><span style=\"color: #7f7f7f; text-decoration-color: #7f7f7f\">flwr</span></a><span style=\"color: #7f7f7f; text-decoration-color: #7f7f7f\">:</span><a href=\"file:///home/dawn/repos/c2m3-federated/c2m3/scripts/../../c2m3/flower/frank_flower_client.py#40\" target=\"_blank\"><span style=\"color: #7f7f7f; text-decoration-color: #7f7f7f\">40</span></a>\n",
       "</pre>\n"
      ],
      "text/plain": [
       "\u001b[2;36m                   \u001b[0m\u001b[2;36m \u001b[0m\u001b[34mINFO    \u001b[0m cid: \u001b[1;36m16\u001b[0m                                                                        \u001b]8;id=522883;file:///home/dawn/repos/c2m3-federated/c2m3/scripts/../../c2m3/flower/frank_flower_client.py\u001b\\\u001b[2mflwr\u001b[0m\u001b]8;;\u001b\\\u001b[2m:\u001b[0m\u001b]8;id=674671;file:///home/dawn/repos/c2m3-federated/c2m3/scripts/../../c2m3/flower/frank_flower_client.py#40\u001b\\\u001b[2m40\u001b[0m\u001b]8;;\u001b\\\n"
      ]
     },
     "metadata": {},
     "output_type": "display_data"
    },
    {
     "data": {
      "text/html": [
       "<pre style=\"white-space:pre;overflow-x:auto;line-height:normal;font-family:Menlo,'DejaVu Sans Mono',consolas,'Courier New',monospace\"><span style=\"color: #7fbfbf; text-decoration-color: #7fbfbf\">                    </span><span style=\"color: #000080; text-decoration-color: #000080\">INFO    </span> cid: <span style=\"color: #008080; text-decoration-color: #008080; font-weight: bold\">26</span>                                                                        <a href=\"file:///home/dawn/repos/c2m3-federated/c2m3/scripts/../../c2m3/flower/frank_flower_client.py\" target=\"_blank\"><span style=\"color: #7f7f7f; text-decoration-color: #7f7f7f\">flwr</span></a><span style=\"color: #7f7f7f; text-decoration-color: #7f7f7f\">:</span><a href=\"file:///home/dawn/repos/c2m3-federated/c2m3/scripts/../../c2m3/flower/frank_flower_client.py#40\" target=\"_blank\"><span style=\"color: #7f7f7f; text-decoration-color: #7f7f7f\">40</span></a>\n",
       "</pre>\n"
      ],
      "text/plain": [
       "\u001b[2;36m                   \u001b[0m\u001b[2;36m \u001b[0m\u001b[34mINFO    \u001b[0m cid: \u001b[1;36m26\u001b[0m                                                                        \u001b]8;id=630561;file:///home/dawn/repos/c2m3-federated/c2m3/scripts/../../c2m3/flower/frank_flower_client.py\u001b\\\u001b[2mflwr\u001b[0m\u001b]8;;\u001b\\\u001b[2m:\u001b[0m\u001b]8;id=393881;file:///home/dawn/repos/c2m3-federated/c2m3/scripts/../../c2m3/flower/frank_flower_client.py#40\u001b\\\u001b[2m40\u001b[0m\u001b]8;;\u001b\\\n"
      ]
     },
     "metadata": {},
     "output_type": "display_data"
    },
    {
     "data": {
      "text/html": [
       "<pre style=\"white-space:pre;overflow-x:auto;line-height:normal;font-family:Menlo,'DejaVu Sans Mono',consolas,'Courier New',monospace\"><span style=\"color: #7fbfbf; text-decoration-color: #7fbfbf\">                    </span><span style=\"color: #000080; text-decoration-color: #000080\">INFO    </span> cid: <span style=\"color: #008080; text-decoration-color: #008080; font-weight: bold\">20</span>                                                                        <a href=\"file:///home/dawn/repos/c2m3-federated/c2m3/scripts/../../c2m3/flower/frank_flower_client.py\" target=\"_blank\"><span style=\"color: #7f7f7f; text-decoration-color: #7f7f7f\">flwr</span></a><span style=\"color: #7f7f7f; text-decoration-color: #7f7f7f\">:</span><a href=\"file:///home/dawn/repos/c2m3-federated/c2m3/scripts/../../c2m3/flower/frank_flower_client.py#40\" target=\"_blank\"><span style=\"color: #7f7f7f; text-decoration-color: #7f7f7f\">40</span></a>\n",
       "</pre>\n"
      ],
      "text/plain": [
       "\u001b[2;36m                   \u001b[0m\u001b[2;36m \u001b[0m\u001b[34mINFO    \u001b[0m cid: \u001b[1;36m20\u001b[0m                                                                        \u001b]8;id=77243;file:///home/dawn/repos/c2m3-federated/c2m3/scripts/../../c2m3/flower/frank_flower_client.py\u001b\\\u001b[2mflwr\u001b[0m\u001b]8;;\u001b\\\u001b[2m:\u001b[0m\u001b]8;id=612852;file:///home/dawn/repos/c2m3-federated/c2m3/scripts/../../c2m3/flower/frank_flower_client.py#40\u001b\\\u001b[2m40\u001b[0m\u001b]8;;\u001b\\\n"
      ]
     },
     "metadata": {},
     "output_type": "display_data"
    },
    {
     "name": "stderr",
     "output_type": "stream",
     "text": [
      "DEBUG flwr 2025-03-09 13:20:09,046 | server_returns_parameters.py:187 | evaluate_round 5 received 0 results and 5 failures\n"
     ]
    },
    {
     "data": {
      "text/html": [
       "<pre style=\"white-space:pre;overflow-x:auto;line-height:normal;font-family:Menlo,'DejaVu Sans Mono',consolas,'Courier New',monospace\"><span style=\"color: #7fbfbf; text-decoration-color: #7fbfbf\">2025-03-09 13:20:09 </span><span style=\"color: #008000; text-decoration-color: #008000\">DEBUG   </span> evaluate_round <span style=\"color: #008080; text-decoration-color: #008080; font-weight: bold\">5</span> received <span style=\"color: #008080; text-decoration-color: #008080; font-weight: bold\">0</span> results and <span style=\"color: #008080; text-decoration-color: #008080; font-weight: bold\">5</span> failures                            <a href=\"file:///home/dawn/venvs/fed/lib/python3.10/site-packages/flwr/server/server_returns_parameters.py\" target=\"_blank\"><span style=\"color: #7f7f7f; text-decoration-color: #7f7f7f\">flwr</span></a><span style=\"color: #7f7f7f; text-decoration-color: #7f7f7f\">:</span><a href=\"file:///home/dawn/venvs/fed/lib/python3.10/site-packages/flwr/server/server_returns_parameters.py#187\" target=\"_blank\"><span style=\"color: #7f7f7f; text-decoration-color: #7f7f7f\">187</span></a>\n",
       "</pre>\n"
      ],
      "text/plain": [
       "\u001b[2;36m2025-03-09 13:20:09\u001b[0m\u001b[2;36m \u001b[0m\u001b[32mDEBUG   \u001b[0m evaluate_round \u001b[1;36m5\u001b[0m received \u001b[1;36m0\u001b[0m results and \u001b[1;36m5\u001b[0m failures                            \u001b]8;id=402253;file:///home/dawn/venvs/fed/lib/python3.10/site-packages/flwr/server/server_returns_parameters.py\u001b\\\u001b[2mflwr\u001b[0m\u001b]8;;\u001b\\\u001b[2m:\u001b[0m\u001b]8;id=772640;file:///home/dawn/venvs/fed/lib/python3.10/site-packages/flwr/server/server_returns_parameters.py#187\u001b\\\u001b[2m187\u001b[0m\u001b]8;;\u001b\\\n"
      ]
     },
     "metadata": {},
     "output_type": "display_data"
    },
    {
     "name": "stderr",
     "output_type": "stream",
     "text": [
      "INFO flwr 2025-03-09 13:20:09,055 | server_returns_parameters.py:150 | FL finished in 1891.9439837610116\n"
     ]
    },
    {
     "data": {
      "text/html": [
       "<pre style=\"white-space:pre;overflow-x:auto;line-height:normal;font-family:Menlo,'DejaVu Sans Mono',consolas,'Courier New',monospace\"><span style=\"color: #7fbfbf; text-decoration-color: #7fbfbf\">                    </span><span style=\"color: #000080; text-decoration-color: #000080\">INFO    </span> FL finished in <span style=\"color: #008080; text-decoration-color: #008080; font-weight: bold\">1891.9439837610116</span>                                             <a href=\"file:///home/dawn/venvs/fed/lib/python3.10/site-packages/flwr/server/server_returns_parameters.py\" target=\"_blank\"><span style=\"color: #7f7f7f; text-decoration-color: #7f7f7f\">flwr</span></a><span style=\"color: #7f7f7f; text-decoration-color: #7f7f7f\">:</span><a href=\"file:///home/dawn/venvs/fed/lib/python3.10/site-packages/flwr/server/server_returns_parameters.py#150\" target=\"_blank\"><span style=\"color: #7f7f7f; text-decoration-color: #7f7f7f\">150</span></a>\n",
       "</pre>\n"
      ],
      "text/plain": [
       "\u001b[2;36m                   \u001b[0m\u001b[2;36m \u001b[0m\u001b[34mINFO    \u001b[0m FL finished in \u001b[1;36m1891.9439837610116\u001b[0m                                             \u001b]8;id=709106;file:///home/dawn/venvs/fed/lib/python3.10/site-packages/flwr/server/server_returns_parameters.py\u001b\\\u001b[2mflwr\u001b[0m\u001b]8;;\u001b\\\u001b[2m:\u001b[0m\u001b]8;id=642785;file:///home/dawn/venvs/fed/lib/python3.10/site-packages/flwr/server/server_returns_parameters.py#150\u001b\\\u001b[2m150\u001b[0m\u001b]8;;\u001b\\\n"
      ]
     },
     "metadata": {},
     "output_type": "display_data"
    },
    {
     "name": "stderr",
     "output_type": "stream",
     "text": [
      "INFO flwr 2025-03-09 13:20:09,061 | app.py:250 | app_fit: losses_distributed []\n"
     ]
    },
    {
     "data": {
      "text/html": [
       "<pre style=\"white-space:pre;overflow-x:auto;line-height:normal;font-family:Menlo,'DejaVu Sans Mono',consolas,'Courier New',monospace\"><span style=\"color: #7fbfbf; text-decoration-color: #7fbfbf\">                    </span><span style=\"color: #000080; text-decoration-color: #000080\">INFO    </span> app_fit: losses_distributed <span style=\"font-weight: bold\">[]</span>                                                <a href=\"file:///home/dawn/venvs/fed/lib/python3.10/site-packages/flwr/server/app.py\" target=\"_blank\"><span style=\"color: #7f7f7f; text-decoration-color: #7f7f7f\">flwr</span></a><span style=\"color: #7f7f7f; text-decoration-color: #7f7f7f\">:</span><a href=\"file:///home/dawn/venvs/fed/lib/python3.10/site-packages/flwr/server/app.py#250\" target=\"_blank\"><span style=\"color: #7f7f7f; text-decoration-color: #7f7f7f\">250</span></a>\n",
       "</pre>\n"
      ],
      "text/plain": [
       "\u001b[2;36m                   \u001b[0m\u001b[2;36m \u001b[0m\u001b[34mINFO    \u001b[0m app_fit: losses_distributed \u001b[1m[\u001b[0m\u001b[1m]\u001b[0m                                                \u001b]8;id=133918;file:///home/dawn/venvs/fed/lib/python3.10/site-packages/flwr/server/app.py\u001b\\\u001b[2mflwr\u001b[0m\u001b]8;;\u001b\\\u001b[2m:\u001b[0m\u001b]8;id=410490;file:///home/dawn/venvs/fed/lib/python3.10/site-packages/flwr/server/app.py#250\u001b\\\u001b[2m250\u001b[0m\u001b]8;;\u001b\\\n"
      ]
     },
     "metadata": {},
     "output_type": "display_data"
    },
    {
     "name": "stderr",
     "output_type": "stream",
     "text": [
      "INFO flwr 2025-03-09 13:20:09,067 | app.py:251 | app_fit: metrics_distributed_fit {'train_loss': [(1, {'avg': 3.1387519984054277e-07, 'all': [(6, 1.7927003858238717e-08), (6, 3.2984015495747996e-09), (6, 0.0), (6, 1.548131191242419e-06), (6, 1.9402552481340152e-11)]}), (2, {'avg': 1.2495236583846362e-09, 'all': [(6, 6.150605543394268e-09), (6, 0.0), (6, 0.0), (6, 0.0), (6, 9.701274852891295e-11)]}), (3, {'avg': 1.056691653002669e-07, 'all': [(6, 8.517667422075492e-09), (6, 5.010475282081946e-07), (6, 9.701274043353673e-11), (6, 1.8644813025668155e-08), (6, 3.8805104962680304e-11)]}), (4, {'avg': 1.3775745916673928e-09, 'all': [(6, 0.0), (6, 2.77454920381374e-09), (6, 0.0), (6, 0.0), (6, 4.113323754523224e-09)]}), (5, {'avg': 1.0089326920222537e-10, 'all': [(6, 0.0), (6, 0.0), (6, 0.0), (6, 5.044663460111268e-10), (6, 0.0)]})]}\n"
     ]
    },
    {
     "data": {
      "text/html": [
       "<pre style=\"white-space:pre;overflow-x:auto;line-height:normal;font-family:Menlo,'DejaVu Sans Mono',consolas,'Courier New',monospace\"><span style=\"color: #7fbfbf; text-decoration-color: #7fbfbf\">                    </span><span style=\"color: #000080; text-decoration-color: #000080\">INFO    </span> app_fit: metrics_distributed_fit <span style=\"font-weight: bold\">{</span><span style=\"color: #008000; text-decoration-color: #008000\">'train_loss'</span>: <span style=\"font-weight: bold\">[(</span><span style=\"color: #008080; text-decoration-color: #008080; font-weight: bold\">1</span>, <span style=\"font-weight: bold\">{</span><span style=\"color: #008000; text-decoration-color: #008000\">'avg'</span>:                  <a href=\"file:///home/dawn/venvs/fed/lib/python3.10/site-packages/flwr/server/app.py\" target=\"_blank\"><span style=\"color: #7f7f7f; text-decoration-color: #7f7f7f\">flwr</span></a><span style=\"color: #7f7f7f; text-decoration-color: #7f7f7f\">:</span><a href=\"file:///home/dawn/venvs/fed/lib/python3.10/site-packages/flwr/server/app.py#251\" target=\"_blank\"><span style=\"color: #7f7f7f; text-decoration-color: #7f7f7f\">251</span></a>\n",
       "<span style=\"color: #7fbfbf; text-decoration-color: #7fbfbf\">                    </span>         <span style=\"color: #008080; text-decoration-color: #008080; font-weight: bold\">3.1387519984054277e-07</span>, <span style=\"color: #008000; text-decoration-color: #008000\">'all'</span>: <span style=\"font-weight: bold\">[(</span><span style=\"color: #008080; text-decoration-color: #008080; font-weight: bold\">6</span>, <span style=\"color: #008080; text-decoration-color: #008080; font-weight: bold\">1.7927003858238717e-08</span><span style=\"font-weight: bold\">)</span>, <span style=\"font-weight: bold\">(</span><span style=\"color: #008080; text-decoration-color: #008080; font-weight: bold\">6</span>,              <span style=\"color: #7f7f7f; text-decoration-color: #7f7f7f\">        </span>\n",
       "<span style=\"color: #7fbfbf; text-decoration-color: #7fbfbf\">                    </span>         <span style=\"color: #008080; text-decoration-color: #008080; font-weight: bold\">3.2984015495747996e-09</span><span style=\"font-weight: bold\">)</span>, <span style=\"font-weight: bold\">(</span><span style=\"color: #008080; text-decoration-color: #008080; font-weight: bold\">6</span>, <span style=\"color: #008080; text-decoration-color: #008080; font-weight: bold\">0.0</span><span style=\"font-weight: bold\">)</span>, <span style=\"font-weight: bold\">(</span><span style=\"color: #008080; text-decoration-color: #008080; font-weight: bold\">6</span>, <span style=\"color: #008080; text-decoration-color: #008080; font-weight: bold\">1.548131191242419e-06</span><span style=\"font-weight: bold\">)</span>, <span style=\"font-weight: bold\">(</span><span style=\"color: #008080; text-decoration-color: #008080; font-weight: bold\">6</span>,            <span style=\"color: #7f7f7f; text-decoration-color: #7f7f7f\">        </span>\n",
       "<span style=\"color: #7fbfbf; text-decoration-color: #7fbfbf\">                    </span>         <span style=\"color: #008080; text-decoration-color: #008080; font-weight: bold\">1.9402552481340152e-11</span><span style=\"font-weight: bold\">)]})</span>, <span style=\"font-weight: bold\">(</span><span style=\"color: #008080; text-decoration-color: #008080; font-weight: bold\">2</span>, <span style=\"font-weight: bold\">{</span><span style=\"color: #008000; text-decoration-color: #008000\">'avg'</span>: <span style=\"color: #008080; text-decoration-color: #008080; font-weight: bold\">1.2495236583846362e-09</span>, <span style=\"color: #008000; text-decoration-color: #008000\">'all'</span>: <span style=\"font-weight: bold\">[(</span><span style=\"color: #008080; text-decoration-color: #008080; font-weight: bold\">6</span>,   <span style=\"color: #7f7f7f; text-decoration-color: #7f7f7f\">        </span>\n",
       "<span style=\"color: #7fbfbf; text-decoration-color: #7fbfbf\">                    </span>         <span style=\"color: #008080; text-decoration-color: #008080; font-weight: bold\">6.150605543394268e-09</span><span style=\"font-weight: bold\">)</span>, <span style=\"font-weight: bold\">(</span><span style=\"color: #008080; text-decoration-color: #008080; font-weight: bold\">6</span>, <span style=\"color: #008080; text-decoration-color: #008080; font-weight: bold\">0.0</span><span style=\"font-weight: bold\">)</span>, <span style=\"font-weight: bold\">(</span><span style=\"color: #008080; text-decoration-color: #008080; font-weight: bold\">6</span>, <span style=\"color: #008080; text-decoration-color: #008080; font-weight: bold\">0.0</span><span style=\"font-weight: bold\">)</span>, <span style=\"font-weight: bold\">(</span><span style=\"color: #008080; text-decoration-color: #008080; font-weight: bold\">6</span>, <span style=\"color: #008080; text-decoration-color: #008080; font-weight: bold\">0.0</span><span style=\"font-weight: bold\">)</span>, <span style=\"font-weight: bold\">(</span><span style=\"color: #008080; text-decoration-color: #008080; font-weight: bold\">6</span>,                     <span style=\"color: #7f7f7f; text-decoration-color: #7f7f7f\">        </span>\n",
       "<span style=\"color: #7fbfbf; text-decoration-color: #7fbfbf\">                    </span>         <span style=\"color: #008080; text-decoration-color: #008080; font-weight: bold\">9.701274852891295e-11</span><span style=\"font-weight: bold\">)]})</span>, <span style=\"font-weight: bold\">(</span><span style=\"color: #008080; text-decoration-color: #008080; font-weight: bold\">3</span>, <span style=\"font-weight: bold\">{</span><span style=\"color: #008000; text-decoration-color: #008000\">'avg'</span>: <span style=\"color: #008080; text-decoration-color: #008080; font-weight: bold\">1.056691653002669e-07</span>, <span style=\"color: #008000; text-decoration-color: #008000\">'all'</span>: <span style=\"font-weight: bold\">[(</span><span style=\"color: #008080; text-decoration-color: #008080; font-weight: bold\">6</span>,     <span style=\"color: #7f7f7f; text-decoration-color: #7f7f7f\">        </span>\n",
       "<span style=\"color: #7fbfbf; text-decoration-color: #7fbfbf\">                    </span>         <span style=\"color: #008080; text-decoration-color: #008080; font-weight: bold\">8.517667422075492e-09</span><span style=\"font-weight: bold\">)</span>, <span style=\"font-weight: bold\">(</span><span style=\"color: #008080; text-decoration-color: #008080; font-weight: bold\">6</span>, <span style=\"color: #008080; text-decoration-color: #008080; font-weight: bold\">5.010475282081946e-07</span><span style=\"font-weight: bold\">)</span>, <span style=\"font-weight: bold\">(</span><span style=\"color: #008080; text-decoration-color: #008080; font-weight: bold\">6</span>,                       <span style=\"color: #7f7f7f; text-decoration-color: #7f7f7f\">        </span>\n",
       "<span style=\"color: #7fbfbf; text-decoration-color: #7fbfbf\">                    </span>         <span style=\"color: #008080; text-decoration-color: #008080; font-weight: bold\">9.701274043353673e-11</span><span style=\"font-weight: bold\">)</span>, <span style=\"font-weight: bold\">(</span><span style=\"color: #008080; text-decoration-color: #008080; font-weight: bold\">6</span>, <span style=\"color: #008080; text-decoration-color: #008080; font-weight: bold\">1.8644813025668155e-08</span><span style=\"font-weight: bold\">)</span>, <span style=\"font-weight: bold\">(</span><span style=\"color: #008080; text-decoration-color: #008080; font-weight: bold\">6</span>,                      <span style=\"color: #7f7f7f; text-decoration-color: #7f7f7f\">        </span>\n",
       "<span style=\"color: #7fbfbf; text-decoration-color: #7fbfbf\">                    </span>         <span style=\"color: #008080; text-decoration-color: #008080; font-weight: bold\">3.8805104962680304e-11</span><span style=\"font-weight: bold\">)]})</span>, <span style=\"font-weight: bold\">(</span><span style=\"color: #008080; text-decoration-color: #008080; font-weight: bold\">4</span>, <span style=\"font-weight: bold\">{</span><span style=\"color: #008000; text-decoration-color: #008000\">'avg'</span>: <span style=\"color: #008080; text-decoration-color: #008080; font-weight: bold\">1.3775745916673928e-09</span>, <span style=\"color: #008000; text-decoration-color: #008000\">'all'</span>: <span style=\"font-weight: bold\">[(</span><span style=\"color: #008080; text-decoration-color: #008080; font-weight: bold\">6</span>,   <span style=\"color: #7f7f7f; text-decoration-color: #7f7f7f\">        </span>\n",
       "<span style=\"color: #7fbfbf; text-decoration-color: #7fbfbf\">                    </span>         <span style=\"color: #008080; text-decoration-color: #008080; font-weight: bold\">0.0</span><span style=\"font-weight: bold\">)</span>, <span style=\"font-weight: bold\">(</span><span style=\"color: #008080; text-decoration-color: #008080; font-weight: bold\">6</span>, <span style=\"color: #008080; text-decoration-color: #008080; font-weight: bold\">2.77454920381374e-09</span><span style=\"font-weight: bold\">)</span>, <span style=\"font-weight: bold\">(</span><span style=\"color: #008080; text-decoration-color: #008080; font-weight: bold\">6</span>, <span style=\"color: #008080; text-decoration-color: #008080; font-weight: bold\">0.0</span><span style=\"font-weight: bold\">)</span>, <span style=\"font-weight: bold\">(</span><span style=\"color: #008080; text-decoration-color: #008080; font-weight: bold\">6</span>, <span style=\"color: #008080; text-decoration-color: #008080; font-weight: bold\">0.0</span><span style=\"font-weight: bold\">)</span>, <span style=\"font-weight: bold\">(</span><span style=\"color: #008080; text-decoration-color: #008080; font-weight: bold\">6</span>,                      <span style=\"color: #7f7f7f; text-decoration-color: #7f7f7f\">        </span>\n",
       "<span style=\"color: #7fbfbf; text-decoration-color: #7fbfbf\">                    </span>         <span style=\"color: #008080; text-decoration-color: #008080; font-weight: bold\">4.113323754523224e-09</span><span style=\"font-weight: bold\">)]})</span>, <span style=\"font-weight: bold\">(</span><span style=\"color: #008080; text-decoration-color: #008080; font-weight: bold\">5</span>, <span style=\"font-weight: bold\">{</span><span style=\"color: #008000; text-decoration-color: #008000\">'avg'</span>: <span style=\"color: #008080; text-decoration-color: #008080; font-weight: bold\">1.0089326920222537e-10</span>, <span style=\"color: #008000; text-decoration-color: #008000\">'all'</span>: <span style=\"font-weight: bold\">[(</span><span style=\"color: #008080; text-decoration-color: #008080; font-weight: bold\">6</span>,    <span style=\"color: #7f7f7f; text-decoration-color: #7f7f7f\">        </span>\n",
       "<span style=\"color: #7fbfbf; text-decoration-color: #7fbfbf\">                    </span>         <span style=\"color: #008080; text-decoration-color: #008080; font-weight: bold\">0.0</span><span style=\"font-weight: bold\">)</span>, <span style=\"font-weight: bold\">(</span><span style=\"color: #008080; text-decoration-color: #008080; font-weight: bold\">6</span>, <span style=\"color: #008080; text-decoration-color: #008080; font-weight: bold\">0.0</span><span style=\"font-weight: bold\">)</span>, <span style=\"font-weight: bold\">(</span><span style=\"color: #008080; text-decoration-color: #008080; font-weight: bold\">6</span>, <span style=\"color: #008080; text-decoration-color: #008080; font-weight: bold\">0.0</span><span style=\"font-weight: bold\">)</span>, <span style=\"font-weight: bold\">(</span><span style=\"color: #008080; text-decoration-color: #008080; font-weight: bold\">6</span>, <span style=\"color: #008080; text-decoration-color: #008080; font-weight: bold\">5.044663460111268e-10</span><span style=\"font-weight: bold\">)</span>, <span style=\"font-weight: bold\">(</span><span style=\"color: #008080; text-decoration-color: #008080; font-weight: bold\">6</span>, <span style=\"color: #008080; text-decoration-color: #008080; font-weight: bold\">0.0</span><span style=\"font-weight: bold\">)]})]}</span>           <span style=\"color: #7f7f7f; text-decoration-color: #7f7f7f\">        </span>\n",
       "</pre>\n"
      ],
      "text/plain": [
       "\u001b[2;36m                   \u001b[0m\u001b[2;36m \u001b[0m\u001b[34mINFO    \u001b[0m app_fit: metrics_distributed_fit \u001b[1m{\u001b[0m\u001b[32m'train_loss'\u001b[0m: \u001b[1m[\u001b[0m\u001b[1m(\u001b[0m\u001b[1;36m1\u001b[0m, \u001b[1m{\u001b[0m\u001b[32m'avg'\u001b[0m:                  \u001b]8;id=274273;file:///home/dawn/venvs/fed/lib/python3.10/site-packages/flwr/server/app.py\u001b\\\u001b[2mflwr\u001b[0m\u001b]8;;\u001b\\\u001b[2m:\u001b[0m\u001b]8;id=346803;file:///home/dawn/venvs/fed/lib/python3.10/site-packages/flwr/server/app.py#251\u001b\\\u001b[2m251\u001b[0m\u001b]8;;\u001b\\\n",
       "\u001b[2;36m                    \u001b[0m         \u001b[1;36m3.1387519984054277e-07\u001b[0m, \u001b[32m'all'\u001b[0m: \u001b[1m[\u001b[0m\u001b[1m(\u001b[0m\u001b[1;36m6\u001b[0m, \u001b[1;36m1.7927003858238717e-08\u001b[0m\u001b[1m)\u001b[0m, \u001b[1m(\u001b[0m\u001b[1;36m6\u001b[0m,              \u001b[2m        \u001b[0m\n",
       "\u001b[2;36m                    \u001b[0m         \u001b[1;36m3.2984015495747996e-09\u001b[0m\u001b[1m)\u001b[0m, \u001b[1m(\u001b[0m\u001b[1;36m6\u001b[0m, \u001b[1;36m0.0\u001b[0m\u001b[1m)\u001b[0m, \u001b[1m(\u001b[0m\u001b[1;36m6\u001b[0m, \u001b[1;36m1.548131191242419e-06\u001b[0m\u001b[1m)\u001b[0m, \u001b[1m(\u001b[0m\u001b[1;36m6\u001b[0m,            \u001b[2m        \u001b[0m\n",
       "\u001b[2;36m                    \u001b[0m         \u001b[1;36m1.9402552481340152e-11\u001b[0m\u001b[1m)\u001b[0m\u001b[1m]\u001b[0m\u001b[1m}\u001b[0m\u001b[1m)\u001b[0m, \u001b[1m(\u001b[0m\u001b[1;36m2\u001b[0m, \u001b[1m{\u001b[0m\u001b[32m'avg'\u001b[0m: \u001b[1;36m1.2495236583846362e-09\u001b[0m, \u001b[32m'all'\u001b[0m: \u001b[1m[\u001b[0m\u001b[1m(\u001b[0m\u001b[1;36m6\u001b[0m,   \u001b[2m        \u001b[0m\n",
       "\u001b[2;36m                    \u001b[0m         \u001b[1;36m6.150605543394268e-09\u001b[0m\u001b[1m)\u001b[0m, \u001b[1m(\u001b[0m\u001b[1;36m6\u001b[0m, \u001b[1;36m0.0\u001b[0m\u001b[1m)\u001b[0m, \u001b[1m(\u001b[0m\u001b[1;36m6\u001b[0m, \u001b[1;36m0.0\u001b[0m\u001b[1m)\u001b[0m, \u001b[1m(\u001b[0m\u001b[1;36m6\u001b[0m, \u001b[1;36m0.0\u001b[0m\u001b[1m)\u001b[0m, \u001b[1m(\u001b[0m\u001b[1;36m6\u001b[0m,                     \u001b[2m        \u001b[0m\n",
       "\u001b[2;36m                    \u001b[0m         \u001b[1;36m9.701274852891295e-11\u001b[0m\u001b[1m)\u001b[0m\u001b[1m]\u001b[0m\u001b[1m}\u001b[0m\u001b[1m)\u001b[0m, \u001b[1m(\u001b[0m\u001b[1;36m3\u001b[0m, \u001b[1m{\u001b[0m\u001b[32m'avg'\u001b[0m: \u001b[1;36m1.056691653002669e-07\u001b[0m, \u001b[32m'all'\u001b[0m: \u001b[1m[\u001b[0m\u001b[1m(\u001b[0m\u001b[1;36m6\u001b[0m,     \u001b[2m        \u001b[0m\n",
       "\u001b[2;36m                    \u001b[0m         \u001b[1;36m8.517667422075492e-09\u001b[0m\u001b[1m)\u001b[0m, \u001b[1m(\u001b[0m\u001b[1;36m6\u001b[0m, \u001b[1;36m5.010475282081946e-07\u001b[0m\u001b[1m)\u001b[0m, \u001b[1m(\u001b[0m\u001b[1;36m6\u001b[0m,                       \u001b[2m        \u001b[0m\n",
       "\u001b[2;36m                    \u001b[0m         \u001b[1;36m9.701274043353673e-11\u001b[0m\u001b[1m)\u001b[0m, \u001b[1m(\u001b[0m\u001b[1;36m6\u001b[0m, \u001b[1;36m1.8644813025668155e-08\u001b[0m\u001b[1m)\u001b[0m, \u001b[1m(\u001b[0m\u001b[1;36m6\u001b[0m,                      \u001b[2m        \u001b[0m\n",
       "\u001b[2;36m                    \u001b[0m         \u001b[1;36m3.8805104962680304e-11\u001b[0m\u001b[1m)\u001b[0m\u001b[1m]\u001b[0m\u001b[1m}\u001b[0m\u001b[1m)\u001b[0m, \u001b[1m(\u001b[0m\u001b[1;36m4\u001b[0m, \u001b[1m{\u001b[0m\u001b[32m'avg'\u001b[0m: \u001b[1;36m1.3775745916673928e-09\u001b[0m, \u001b[32m'all'\u001b[0m: \u001b[1m[\u001b[0m\u001b[1m(\u001b[0m\u001b[1;36m6\u001b[0m,   \u001b[2m        \u001b[0m\n",
       "\u001b[2;36m                    \u001b[0m         \u001b[1;36m0.0\u001b[0m\u001b[1m)\u001b[0m, \u001b[1m(\u001b[0m\u001b[1;36m6\u001b[0m, \u001b[1;36m2.77454920381374e-09\u001b[0m\u001b[1m)\u001b[0m, \u001b[1m(\u001b[0m\u001b[1;36m6\u001b[0m, \u001b[1;36m0.0\u001b[0m\u001b[1m)\u001b[0m, \u001b[1m(\u001b[0m\u001b[1;36m6\u001b[0m, \u001b[1;36m0.0\u001b[0m\u001b[1m)\u001b[0m, \u001b[1m(\u001b[0m\u001b[1;36m6\u001b[0m,                      \u001b[2m        \u001b[0m\n",
       "\u001b[2;36m                    \u001b[0m         \u001b[1;36m4.113323754523224e-09\u001b[0m\u001b[1m)\u001b[0m\u001b[1m]\u001b[0m\u001b[1m}\u001b[0m\u001b[1m)\u001b[0m, \u001b[1m(\u001b[0m\u001b[1;36m5\u001b[0m, \u001b[1m{\u001b[0m\u001b[32m'avg'\u001b[0m: \u001b[1;36m1.0089326920222537e-10\u001b[0m, \u001b[32m'all'\u001b[0m: \u001b[1m[\u001b[0m\u001b[1m(\u001b[0m\u001b[1;36m6\u001b[0m,    \u001b[2m        \u001b[0m\n",
       "\u001b[2;36m                    \u001b[0m         \u001b[1;36m0.0\u001b[0m\u001b[1m)\u001b[0m, \u001b[1m(\u001b[0m\u001b[1;36m6\u001b[0m, \u001b[1;36m0.0\u001b[0m\u001b[1m)\u001b[0m, \u001b[1m(\u001b[0m\u001b[1;36m6\u001b[0m, \u001b[1;36m0.0\u001b[0m\u001b[1m)\u001b[0m, \u001b[1m(\u001b[0m\u001b[1;36m6\u001b[0m, \u001b[1;36m5.044663460111268e-10\u001b[0m\u001b[1m)\u001b[0m, \u001b[1m(\u001b[0m\u001b[1;36m6\u001b[0m, \u001b[1;36m0.0\u001b[0m\u001b[1m)\u001b[0m\u001b[1m]\u001b[0m\u001b[1m}\u001b[0m\u001b[1m)\u001b[0m\u001b[1m]\u001b[0m\u001b[1m}\u001b[0m           \u001b[2m        \u001b[0m\n"
      ]
     },
     "metadata": {},
     "output_type": "display_data"
    },
    {
     "name": "stderr",
     "output_type": "stream",
     "text": [
      "INFO flwr 2025-03-09 13:20:09,093 | app.py:252 | app_fit: metrics_distributed {}\n"
     ]
    },
    {
     "data": {
      "text/html": [
       "<pre style=\"white-space:pre;overflow-x:auto;line-height:normal;font-family:Menlo,'DejaVu Sans Mono',consolas,'Courier New',monospace\"><span style=\"color: #7fbfbf; text-decoration-color: #7fbfbf\">                    </span><span style=\"color: #000080; text-decoration-color: #000080\">INFO    </span> app_fit: metrics_distributed <span style=\"font-weight: bold\">{}</span>                                               <a href=\"file:///home/dawn/venvs/fed/lib/python3.10/site-packages/flwr/server/app.py\" target=\"_blank\"><span style=\"color: #7f7f7f; text-decoration-color: #7f7f7f\">flwr</span></a><span style=\"color: #7f7f7f; text-decoration-color: #7f7f7f\">:</span><a href=\"file:///home/dawn/venvs/fed/lib/python3.10/site-packages/flwr/server/app.py#252\" target=\"_blank\"><span style=\"color: #7f7f7f; text-decoration-color: #7f7f7f\">252</span></a>\n",
       "</pre>\n"
      ],
      "text/plain": [
       "\u001b[2;36m                   \u001b[0m\u001b[2;36m \u001b[0m\u001b[34mINFO    \u001b[0m app_fit: metrics_distributed \u001b[1m{\u001b[0m\u001b[1m}\u001b[0m                                               \u001b]8;id=746827;file:///home/dawn/venvs/fed/lib/python3.10/site-packages/flwr/server/app.py\u001b\\\u001b[2mflwr\u001b[0m\u001b]8;;\u001b\\\u001b[2m:\u001b[0m\u001b]8;id=549130;file:///home/dawn/venvs/fed/lib/python3.10/site-packages/flwr/server/app.py#252\u001b\\\u001b[2m252\u001b[0m\u001b]8;;\u001b\\\n"
      ]
     },
     "metadata": {},
     "output_type": "display_data"
    },
    {
     "name": "stderr",
     "output_type": "stream",
     "text": [
      "INFO flwr 2025-03-09 13:20:09,099 | app.py:253 | app_fit: losses_centralized [(0, 62.05267310142517), (1, 253.3437623977661), (2, 387.0360794067383), (3, 218.01121068000793), (4, 393.32981061935425), (5, 956.286922454834)]\n"
     ]
    },
    {
     "data": {
      "text/html": [
       "<pre style=\"white-space:pre;overflow-x:auto;line-height:normal;font-family:Menlo,'DejaVu Sans Mono',consolas,'Courier New',monospace\"><span style=\"color: #7fbfbf; text-decoration-color: #7fbfbf\">                    </span><span style=\"color: #000080; text-decoration-color: #000080\">INFO    </span> app_fit: losses_centralized <span style=\"font-weight: bold\">[(</span><span style=\"color: #008080; text-decoration-color: #008080; font-weight: bold\">0</span>, <span style=\"color: #008080; text-decoration-color: #008080; font-weight: bold\">62.05267310142517</span><span style=\"font-weight: bold\">)</span>, <span style=\"font-weight: bold\">(</span><span style=\"color: #008080; text-decoration-color: #008080; font-weight: bold\">1</span>, <span style=\"color: #008080; text-decoration-color: #008080; font-weight: bold\">253.3437623977661</span><span style=\"font-weight: bold\">)</span>,  <a href=\"file:///home/dawn/venvs/fed/lib/python3.10/site-packages/flwr/server/app.py\" target=\"_blank\"><span style=\"color: #7f7f7f; text-decoration-color: #7f7f7f\">flwr</span></a><span style=\"color: #7f7f7f; text-decoration-color: #7f7f7f\">:</span><a href=\"file:///home/dawn/venvs/fed/lib/python3.10/site-packages/flwr/server/app.py#253\" target=\"_blank\"><span style=\"color: #7f7f7f; text-decoration-color: #7f7f7f\">253</span></a>\n",
       "<span style=\"color: #7fbfbf; text-decoration-color: #7fbfbf\">                    </span>         <span style=\"font-weight: bold\">(</span><span style=\"color: #008080; text-decoration-color: #008080; font-weight: bold\">2</span>, <span style=\"color: #008080; text-decoration-color: #008080; font-weight: bold\">387.0360794067383</span><span style=\"font-weight: bold\">)</span>, <span style=\"font-weight: bold\">(</span><span style=\"color: #008080; text-decoration-color: #008080; font-weight: bold\">3</span>, <span style=\"color: #008080; text-decoration-color: #008080; font-weight: bold\">218.01121068000793</span><span style=\"font-weight: bold\">)</span>, <span style=\"font-weight: bold\">(</span><span style=\"color: #008080; text-decoration-color: #008080; font-weight: bold\">4</span>, <span style=\"color: #008080; text-decoration-color: #008080; font-weight: bold\">393.32981061935425</span><span style=\"font-weight: bold\">)</span>, <span style=\"font-weight: bold\">(</span><span style=\"color: #008080; text-decoration-color: #008080; font-weight: bold\">5</span>, <span style=\"color: #7f7f7f; text-decoration-color: #7f7f7f\">        </span>\n",
       "<span style=\"color: #7fbfbf; text-decoration-color: #7fbfbf\">                    </span>         <span style=\"color: #008080; text-decoration-color: #008080; font-weight: bold\">956.286922454834</span><span style=\"font-weight: bold\">)]</span>                                                            <span style=\"color: #7f7f7f; text-decoration-color: #7f7f7f\">        </span>\n",
       "</pre>\n"
      ],
      "text/plain": [
       "\u001b[2;36m                   \u001b[0m\u001b[2;36m \u001b[0m\u001b[34mINFO    \u001b[0m app_fit: losses_centralized \u001b[1m[\u001b[0m\u001b[1m(\u001b[0m\u001b[1;36m0\u001b[0m, \u001b[1;36m62.05267310142517\u001b[0m\u001b[1m)\u001b[0m, \u001b[1m(\u001b[0m\u001b[1;36m1\u001b[0m, \u001b[1;36m253.3437623977661\u001b[0m\u001b[1m)\u001b[0m,  \u001b]8;id=137104;file:///home/dawn/venvs/fed/lib/python3.10/site-packages/flwr/server/app.py\u001b\\\u001b[2mflwr\u001b[0m\u001b]8;;\u001b\\\u001b[2m:\u001b[0m\u001b]8;id=364925;file:///home/dawn/venvs/fed/lib/python3.10/site-packages/flwr/server/app.py#253\u001b\\\u001b[2m253\u001b[0m\u001b]8;;\u001b\\\n",
       "\u001b[2;36m                    \u001b[0m         \u001b[1m(\u001b[0m\u001b[1;36m2\u001b[0m, \u001b[1;36m387.0360794067383\u001b[0m\u001b[1m)\u001b[0m, \u001b[1m(\u001b[0m\u001b[1;36m3\u001b[0m, \u001b[1;36m218.01121068000793\u001b[0m\u001b[1m)\u001b[0m, \u001b[1m(\u001b[0m\u001b[1;36m4\u001b[0m, \u001b[1;36m393.32981061935425\u001b[0m\u001b[1m)\u001b[0m, \u001b[1m(\u001b[0m\u001b[1;36m5\u001b[0m, \u001b[2m        \u001b[0m\n",
       "\u001b[2;36m                    \u001b[0m         \u001b[1;36m956.286922454834\u001b[0m\u001b[1m)\u001b[0m\u001b[1m]\u001b[0m                                                            \u001b[2m        \u001b[0m\n"
      ]
     },
     "metadata": {},
     "output_type": "display_data"
    },
    {
     "name": "stderr",
     "output_type": "stream",
     "text": [
      "INFO flwr 2025-03-09 13:20:09,109 | app.py:254 | app_fit: metrics_centralized {'accuracy': [(0, 0.596), (1, 0.050666666666666665), (2, 0.042), (3, 0.142), (4, 0.09066666666666667), (5, 0.007333333333333333)]}\n"
     ]
    },
    {
     "data": {
      "text/html": [
       "<pre style=\"white-space:pre;overflow-x:auto;line-height:normal;font-family:Menlo,'DejaVu Sans Mono',consolas,'Courier New',monospace\"><span style=\"color: #7fbfbf; text-decoration-color: #7fbfbf\">                    </span><span style=\"color: #000080; text-decoration-color: #000080\">INFO    </span> app_fit: metrics_centralized <span style=\"font-weight: bold\">{</span><span style=\"color: #008000; text-decoration-color: #008000\">'accuracy'</span>: <span style=\"font-weight: bold\">[(</span><span style=\"color: #008080; text-decoration-color: #008080; font-weight: bold\">0</span>, <span style=\"color: #008080; text-decoration-color: #008080; font-weight: bold\">0.596</span><span style=\"font-weight: bold\">)</span>, <span style=\"font-weight: bold\">(</span><span style=\"color: #008080; text-decoration-color: #008080; font-weight: bold\">1</span>,                    <a href=\"file:///home/dawn/venvs/fed/lib/python3.10/site-packages/flwr/server/app.py\" target=\"_blank\"><span style=\"color: #7f7f7f; text-decoration-color: #7f7f7f\">flwr</span></a><span style=\"color: #7f7f7f; text-decoration-color: #7f7f7f\">:</span><a href=\"file:///home/dawn/venvs/fed/lib/python3.10/site-packages/flwr/server/app.py#254\" target=\"_blank\"><span style=\"color: #7f7f7f; text-decoration-color: #7f7f7f\">254</span></a>\n",
       "<span style=\"color: #7fbfbf; text-decoration-color: #7fbfbf\">                    </span>         <span style=\"color: #008080; text-decoration-color: #008080; font-weight: bold\">0.050666666666666665</span><span style=\"font-weight: bold\">)</span>, <span style=\"font-weight: bold\">(</span><span style=\"color: #008080; text-decoration-color: #008080; font-weight: bold\">2</span>, <span style=\"color: #008080; text-decoration-color: #008080; font-weight: bold\">0.042</span><span style=\"font-weight: bold\">)</span>, <span style=\"font-weight: bold\">(</span><span style=\"color: #008080; text-decoration-color: #008080; font-weight: bold\">3</span>, <span style=\"color: #008080; text-decoration-color: #008080; font-weight: bold\">0.142</span><span style=\"font-weight: bold\">)</span>, <span style=\"font-weight: bold\">(</span><span style=\"color: #008080; text-decoration-color: #008080; font-weight: bold\">4</span>, <span style=\"color: #008080; text-decoration-color: #008080; font-weight: bold\">0.09066666666666667</span><span style=\"font-weight: bold\">)</span>, <span style=\"font-weight: bold\">(</span><span style=\"color: #008080; text-decoration-color: #008080; font-weight: bold\">5</span>,  <span style=\"color: #7f7f7f; text-decoration-color: #7f7f7f\">        </span>\n",
       "<span style=\"color: #7fbfbf; text-decoration-color: #7fbfbf\">                    </span>         <span style=\"color: #008080; text-decoration-color: #008080; font-weight: bold\">0.007333333333333333</span><span style=\"font-weight: bold\">)]}</span>                                                       <span style=\"color: #7f7f7f; text-decoration-color: #7f7f7f\">        </span>\n",
       "</pre>\n"
      ],
      "text/plain": [
       "\u001b[2;36m                   \u001b[0m\u001b[2;36m \u001b[0m\u001b[34mINFO    \u001b[0m app_fit: metrics_centralized \u001b[1m{\u001b[0m\u001b[32m'accuracy'\u001b[0m: \u001b[1m[\u001b[0m\u001b[1m(\u001b[0m\u001b[1;36m0\u001b[0m, \u001b[1;36m0.596\u001b[0m\u001b[1m)\u001b[0m, \u001b[1m(\u001b[0m\u001b[1;36m1\u001b[0m,                    \u001b]8;id=686827;file:///home/dawn/venvs/fed/lib/python3.10/site-packages/flwr/server/app.py\u001b\\\u001b[2mflwr\u001b[0m\u001b]8;;\u001b\\\u001b[2m:\u001b[0m\u001b]8;id=160139;file:///home/dawn/venvs/fed/lib/python3.10/site-packages/flwr/server/app.py#254\u001b\\\u001b[2m254\u001b[0m\u001b]8;;\u001b\\\n",
       "\u001b[2;36m                    \u001b[0m         \u001b[1;36m0.050666666666666665\u001b[0m\u001b[1m)\u001b[0m, \u001b[1m(\u001b[0m\u001b[1;36m2\u001b[0m, \u001b[1;36m0.042\u001b[0m\u001b[1m)\u001b[0m, \u001b[1m(\u001b[0m\u001b[1;36m3\u001b[0m, \u001b[1;36m0.142\u001b[0m\u001b[1m)\u001b[0m, \u001b[1m(\u001b[0m\u001b[1;36m4\u001b[0m, \u001b[1;36m0.09066666666666667\u001b[0m\u001b[1m)\u001b[0m, \u001b[1m(\u001b[0m\u001b[1;36m5\u001b[0m,  \u001b[2m        \u001b[0m\n",
       "\u001b[2;36m                    \u001b[0m         \u001b[1;36m0.007333333333333333\u001b[0m\u001b[1m)\u001b[0m\u001b[1m]\u001b[0m\u001b[1m}\u001b[0m                                                       \u001b[2m        \u001b[0m\n"
      ]
     },
     "metadata": {},
     "output_type": "display_data"
    }
   ],
   "source": [
    "params, hist = start_seeded_simulation(\n",
    "    client_fn=lambda cid: imbalanced_flower_client_generator(cid).to_client(),\n",
    "    num_clients=num_total_clients,\n",
    "    config=ServerConfig(num_rounds=5),\n",
    "    strategy=strategy,\n",
    "    name=\"imbalanced\",\n",
    ")"
   ]
  },
  {
   "cell_type": "markdown",
   "metadata": {},
   "source": [
    "We will now investigate how such a partition behaves in an FL setting. In particular, we will try to understand what happens to the global model and the clients' updates as the training progresses.\n"
   ]
  },
  {
   "cell_type": "markdown",
   "metadata": {
    "id": "uzG9xF-lgb51"
   },
   "source": [
    "---\n",
    "\n",
    "**Question 2 (Part II ✅):**\n",
    "\n",
    "(You need to provide the answer with **code** and **plots** for this question. A short written argumentation is recommended.)\n",
    "\n",
    "1. For each round, retrieve the clients' models and the global model using the appropriate attribute of the `WrappedFrankWolfeSync` strategy.\n",
    "---\n"
   ]
  },
  {
   "cell_type": "markdown",
   "metadata": {},
   "source": [
    "I added some code to WrappedFrankWolfeSync class to collect the weights outputted by aggregate_fit every round and store it in a dictionary. This dictionary is assigned to the global_models state of the WrappedFrankWolfeSync class."
   ]
  },
  {
   "cell_type": "code",
   "execution_count": 26,
   "metadata": {},
   "outputs": [],
   "source": [
    "# Dict(Round number -> List(Tuple(client index, weights)))\n",
    "clientModelsByRound = strategy.clients_models\n",
    "# Dict(Round number -> weights)\n",
    "globalModelByRound = strategy.global_models"
   ]
  },
  {
   "cell_type": "code",
   "execution_count": 27,
   "metadata": {},
   "outputs": [],
   "source": [
    "import matplotlib.pyplot as plt\n",
    "import seaborn as sns\n",
    "from scipy.stats import entropy\n",
    "\n",
    "def flatten(unevenWeights):\n",
    "    \"\"\"\n",
    "    Flattens an (possibly uneven) NDArray into a single 1D vector.\n",
    "    \"\"\"\n",
    "    return np.concatenate([item.flatten() for item in unevenWeights])\n",
    "\n",
    "def cosineSimilarity(f1, f2):\n",
    "    \"\"\"\n",
    "    Flattens 2 vectors to make them 1D, then\n",
    "    computes their cosine similarity.\n",
    "    \"\"\"\n",
    "    # f1 = flatten(vec1)\n",
    "    # f2 = flatten(vec2)\n",
    "    return np.dot(f1, f2) / np.linalg.norm(f1) / np.linalg.norm(f2)\n",
    "\n",
    "def computeSimilarityMatrix(models):\n",
    "    \"\"\"\n",
    "    Computes the cosine similarity matrix for a list of client model weights.\n",
    "\n",
    "    First, flatten each model's weights into a 1D array.\n",
    "    Then compute the cosine similarity between every pair of flattened models.\n",
    "    Finally, stores the results in a matrix.\n",
    "\n",
    "    Parameters:\n",
    "        models (NDArray): List of trained models.\n",
    "\n",
    "    Returns:\n",
    "        similarityMatrix: 2D numpy array\n",
    "        similarityMatrix(i, j) is similarity between the ith and jth model\n",
    "    \"\"\"\n",
    "    flatModels = [flatten(model) for model in models]\n",
    "    similarityMatrix = np.zeros((len(flatModels), len(flatModels)))\n",
    "    for i in range(len(flatModels)):\n",
    "        for j in range(len(flatModels)):\n",
    "            assert len(flatModels[i]) == len(flatModels[j]), \"Model vectors must be same length.\"\n",
    "            similarityMatrix[i, j] = cosineSimilarity(flatModels[i], flatModels[j])\n",
    "    return similarityMatrix\n",
    "\n",
    "def kld(vec1, vec2):\n",
    "    \"\"\"\n",
    "    Flattens 2 vectors to make them 1D, then\n",
    "    computes their kl divergence.\n",
    "    \"\"\"\n",
    "    # f1 = torch.softmax(torch.FloatTensor(flatten(vec1)), dim=0).numpy()\n",
    "    # f2 = torch.softmax(torch.FloatTensor(flatten(vec2)), dim=0).numpy()\n",
    "    f1 = flatten(vec1)\n",
    "    f2 = flatten(vec2)\n",
    "    return entropy(f1, f2)\n",
    "\n",
    "def computeKLDivergence(models):\n",
    "    flatModels = [flatten(model) for model in models]\n",
    "    divergence = np.zeros((len(flatModels), len(flatModels)))\n",
    "    for i in range(len(flatModels)):\n",
    "        for j in range(len(flatModels)):\n",
    "            assert len(flatModels[i]) == len(flatModels[j]), \"Model vectors must be same length.\"\n",
    "            divergence[i, j] = kld(flatModels[i], flatModels[j])\n",
    "    return divergence"
   ]
  },
  {
   "cell_type": "markdown",
   "metadata": {},
   "source": [
    "---\n",
    "2. Inspect the models collected for each round as follows:\n",
    "   - Extract the \"softmax-ed\" activations of the last layer of each clients' model when the model is fed with random inputs. (HINT: `from common.client_utils import get_activations_from_random_input`, give a motivation for the choice of the parameters of this function if you decide to use it)\n",
    "   - Compute the pairwise cosine-similarity (you can use functions similar to those used in the previous Lab) between the values obtained in the previous step.\n",
    "   - Plot the results of this computation in a confusion matrix. The confusion matrix will have the shape `n_clients_per_round`x`n_clients_per_round`.\n",
    "   - Repeat the same procedure for computing and compare the pairwise KL divergence between the \"softmax-ed\" activations of the last layer of each clients' model when the model is fed with random inputs. (HINT: `from scipy.stats import entropy`).\n",
    "---"
   ]
  },
  {
   "cell_type": "code",
   "execution_count": 28,
   "metadata": {},
   "outputs": [],
   "source": [
    "from collections import OrderedDict\n",
    "\n",
    "def copy_net(weights):\n",
    "    \"\"\"\n",
    "    Takes the weights of a network as NDArray,\n",
    "    creates a new CNN object with the same shape, \n",
    "    and fills in the weights.\n",
    "\n",
    "    Parameters:\n",
    "        weights (NDArray): Weights of target model to copy\n",
    "    \n",
    "    Returns:\n",
    "        model (Net): CNN object with weights\n",
    "    \"\"\"\n",
    "    network_generator_cnn = get_network_generator_cnn()\n",
    "    model = network_generator_cnn()\n",
    "    new_state_dict = OrderedDict(\n",
    "        {\n",
    "            k: torch.FloatTensor(v)\n",
    "            for (k, v) in zip(\n",
    "                model.state_dict().keys(),\n",
    "                weights\n",
    "            )\n",
    "        }\n",
    "    )\n",
    "    model.load_state_dict(new_state_dict)\n",
    "    return model"
   ]
  },
  {
   "cell_type": "markdown",
   "metadata": {},
   "source": [
    "I used get_activations_from_random_input\n",
    "\n",
    "Parameters:\n",
    "\n",
    "net: I used the above function to make Net objects using each set of clientWeights. The Net object was passed in this argument.\n",
    "\n",
    "device: \"cpu\". My machine is normal.\n",
    "\n",
    "n_samples: 200. The default is around 100 but I wanted slightly more stability.\n",
    "\n",
    "seed: 1337. I felt the seed value itself does not matter as long as it stays consistent."
   ]
  },
  {
   "cell_type": "code",
   "execution_count": null,
   "metadata": {},
   "outputs": [],
   "source": [
    "from c2m3.common.client_utils import get_activations_from_random_input\n",
    "\n",
    "for roundId, l in clientModelsByRound.items():\n",
    "    # activation values for one round\n",
    "    activations = []\n",
    "    labels = []\n",
    "    for clientId, clientWeights in l:\n",
    "        model = copy_net(clientWeights)\n",
    "        activation = torch.softmax(\n",
    "            torch.FloatTensor(\n",
    "                get_activations_from_random_input(model, \"cpu\", 200)\n",
    "            ),\n",
    "            dim=0\n",
    "        )\n",
    "        activations.append(activation)\n",
    "        labels.append(clientId)\n",
    "\n",
    "    fig, ax = plt.subplots(figsize=(10, 8))\n",
    "    sns.heatmap(computeSimilarityMatrix(activations), annot=True, cmap=\"YlGnBu\", ax=ax)\n",
    "    ax.set_xticklabels(labels, rotation=45, ha=\"right\")\n",
    "    ax.set_yticklabels(labels, rotation=0)\n",
    "    ax.set_title(f'Similarity for round {roundId}')\n",
    "    plt.tight_layout()\n",
    "    plt.show()\n",
    "    plt.close(fig)"
   ]
  },
  {
   "cell_type": "markdown",
   "metadata": {},
   "source": [
    "The similarities of all clients' activations (or rather the activations of the CNNs populated with the clients' trained weights) **after applying the softmax function** turned out to be extremely high.\n",
    "\n",
    "I was curious, so I also tried plotting out the similarities without applying the softmax function:"
   ]
  },
  {
   "cell_type": "code",
   "execution_count": null,
   "metadata": {},
   "outputs": [],
   "source": [
    "from c2m3.common.client_utils import get_activations_from_random_input\n",
    "\n",
    "for roundId, l in clientModelsByRound.items():\n",
    "    # activation values for one round\n",
    "    activations = []\n",
    "    labels = []\n",
    "    for clientId, clientWeights in l:\n",
    "        model = copy_net(clientWeights)\n",
    "        activation = get_activations_from_random_input(model, \"cpu\", 200)\n",
    "        activations.append(activation)\n",
    "        labels.append(clientId)\n",
    "\n",
    "    fig, ax = plt.subplots(figsize=(10, 8))\n",
    "    sns.heatmap(computeSimilarityMatrix(activations), annot=True, cmap=\"YlGnBu\", ax=ax)\n",
    "    ax.set_xticklabels(labels, rotation=45, ha=\"right\")\n",
    "    ax.set_yticklabels(labels, rotation=0)\n",
    "    ax.set_title(f'Similarity for round {roundId}')\n",
    "    plt.tight_layout()\n",
    "    plt.show()\n",
    "    plt.close(fig)"
   ]
  },
  {
   "cell_type": "markdown",
   "metadata": {},
   "source": [
    "Here the similarities were quite low. Since we are calculating cosine similarity, the magnitude of the activation values has nothing to do with similarity. Further analysis below, but first I wrote code for the KL Divergence:"
   ]
  },
  {
   "cell_type": "code",
   "execution_count": null,
   "metadata": {},
   "outputs": [],
   "source": [
    "from c2m3.common.client_utils import get_activations_from_random_input\n",
    "\n",
    "for roundId, l in clientModelsByRound.items():\n",
    "    # activation values for one round\n",
    "    activations = []\n",
    "    labels = []\n",
    "    for clientId, clientWeights in l:\n",
    "        model = copy_net(clientWeights)\n",
    "        activation = torch.softmax(\n",
    "            torch.FloatTensor(\n",
    "                get_activations_from_random_input(model, \"cpu\", 200)\n",
    "            ),\n",
    "            dim=0\n",
    "        )\n",
    "        activations.append(activation)\n",
    "        labels.append(clientId)\n",
    "\n",
    "    fig, ax = plt.subplots(figsize=(10, 8))\n",
    "    sns.heatmap(computeKLDivergence(activations), annot=True, cmap=\"YlGnBu\", ax=ax)\n",
    "    ax.set_xticklabels(labels, rotation=45, ha=\"right\")\n",
    "    ax.set_yticklabels(labels, rotation=0)\n",
    "    ax.set_title(f'KL Divergence for round {roundId}')\n",
    "    plt.tight_layout()\n",
    "    plt.show()\n",
    "    plt.close(fig)"
   ]
  },
  {
   "cell_type": "markdown",
   "metadata": {},
   "source": [
    "---\n",
    "3. Compare the confusion matrices obtained. What do you observe, and how does it compare with your expectations? Briefly discuss the results.\n",
    "---"
   ]
  },
  {
   "cell_type": "markdown",
   "metadata": {},
   "source": [
    "Since we are exploring the extreme case where the clients' datasets are extrmely different (only containing data from one class each), I would expect their trained weights to be extremely different as well. However the way the clients (or rather CNNs loaded with their weights) react to random data should be similar, because each client would be an \"expert\" in its own class. \n",
    "\n",
    "Hence for every client, its activation would indicate a high probability assigned to one class and near-zero probabilities to others. However the \"expert\" class is different for each client. This explains why the activations themselves are almost completely different across clients.\n",
    "\n",
    "However, I noted that the softmax function actually makes the low probabilities more uniform and lowers the relative magnitude of the \"expert\" class's logit. See below, the peak logit value is only around 3 times that of the rest. This explains why the clients' softmaxxed activations are so similar."
   ]
  },
  {
   "cell_type": "code",
   "execution_count": null,
   "metadata": {},
   "outputs": [],
   "source": [
    "activations = []\n",
    "labels = []\n",
    "for clientId, clientWeights in clientModelsByRound[1]:\n",
    "    model = copy_net(clientWeights)\n",
    "    activation = torch.softmax(\n",
    "        torch.FloatTensor(\n",
    "            get_activations_from_random_input(model, \"cpu\", 200)\n",
    "        ),\n",
    "        dim=0\n",
    "    )\n",
    "    activations.append(activation)\n",
    "    labels.append(clientId)\n",
    "print(f'Smallest value is {activations[0][0]}')\n",
    "print(f'Largest value is {activations[0][39]}')\n",
    "print(activations)"
   ]
  },
  {
   "cell_type": "markdown",
   "metadata": {
    "id": "I64eyic-tnWF"
   },
   "source": [
    "#### LDA partitions\n",
    "---"
   ]
  },
  {
   "cell_type": "markdown",
   "metadata": {
    "id": "iLFg0zOBh77Q"
   },
   "source": [
    "The most popular method for creating heterogeneous partitions from a centralized dataset in terms of class unbalancing is [Latent Dirichlet Allocation (LDA)](https://web.archive.org/web/20120501152722/http://jmlr.csail.mit.edu/papers/v3/blei03a.html). LDA is a generative probabilistic model for collections of discrete data. The paper linked above provides all the theoretical details about the method.\n",
    "\n",
    "The important detail for you to understand about LDA is that the `concentration` parameter controls the degree of heterogeneity in the distribution while `num_partitions` controls how many clients are generated following the specified distribution.\n",
    "\n",
    "A `concentration=0` implies a completely heterogeneous distribution where each client may only contain examples from one class. Thus, if for a `concentration=0` we were to set the `num_partitions` argument to the number of classes we will get the same partitioning as the one we manually created above.\n",
    "\n",
    "> **Important:** The LDA partitioning only approaches a fully i.i.d distribution when `concentration` tends towards $\\infty$. The most appropriate value of the `concentration` to generate a completely i.i.d. partition is dataset dependent. Feel free to try out different values of `concentration` and `num_partitions` to see how the partitioning changes.\n"
   ]
  },
  {
   "cell_type": "markdown",
   "metadata": {},
   "source": [
    "Let's create the partitions using LDA with `concentration=2.5` and `num_partitions=1000`. This will result in a non-i.i.d. partitioning.\n"
   ]
  },
  {
   "cell_type": "code",
   "execution_count": 33,
   "metadata": {
    "id": "ztmKkBPLhBVP"
   },
   "outputs": [],
   "source": [
    "N_TOTAL_CLIENTS = 1_000\n",
    "concentration = 2.5\n",
    "# Create partitions\n",
    "x = np.array([x[0] for x in centralized_train_dataset.data])\n",
    "y = np.array([x[1] for x in centralized_train_dataset.data])\n",
    "train_clients_partitions, dist = create_lda_partitions(\n",
    "    dataset=(x, y),\n",
    "    dirichlet_dist=None,\n",
    "    num_partitions=N_TOTAL_CLIENTS,\n",
    "    concentration=concentration,\n",
    "    accept_imbalanced=True,\n",
    "    seed=Seeds.DEFAULT,\n",
    ")\n",
    "x = np.array([x[0] for x in centralized_test_dataset.data])\n",
    "y = np.array([x[1] for x in centralized_test_dataset.data])\n",
    "test_clients_partitions, dist = create_lda_partitions(\n",
    "    dataset=(x, y),\n",
    "    dirichlet_dist=dist,\n",
    "    num_partitions=N_TOTAL_CLIENTS,\n",
    "    concentration=concentration,\n",
    "    accept_imbalanced=True,\n",
    "    seed=Seeds.DEFAULT,\n",
    ")"
   ]
  },
  {
   "cell_type": "markdown",
   "metadata": {},
   "source": [
    "Let's store the partitions in the folder structure we have been using so far.\n"
   ]
  },
  {
   "cell_type": "code",
   "execution_count": 34,
   "metadata": {
    "id": "_EFfE0fVqnCB"
   },
   "outputs": [],
   "source": [
    "lda_partition: Path = dataset_dir / \"client_data_mappings\" / \"lda\"\n",
    "if lda_partition.exists():\n",
    "    shutil.rmtree(str(lda_partition))\n",
    "lda_partition.mkdir(parents=True, exist_ok=True)\n",
    "\n",
    "for i, (train_set, test_set) in enumerate(\n",
    "    zip(train_clients_partitions, test_clients_partitions, strict=True)\n",
    "):\n",
    "    folder_path: Path = lda_partition / str(i)\n",
    "    folder_path.mkdir(parents=True, exist_ok=True)\n",
    "\n",
    "    train_path: Path = folder_path / \"train.csv\"\n",
    "    test_path: Path = folder_path / \"test.csv\"\n",
    "\n",
    "    pd.DataFrame({\n",
    "        \"client_id\": [0] * len(train_set[0]),\n",
    "        \"sample_path\": train_set[0],\n",
    "        \"sample_id\": range(len(train_set[0])),\n",
    "        \"label\": train_set[1],\n",
    "    }).to_csv(train_path, index=False, mode=\"w\")\n",
    "    pd.DataFrame({\n",
    "        \"client_id\": [0] * len(test_set[0]),\n",
    "        \"sample_path\": test_set[0],\n",
    "        \"sample_id\": range(len(test_set[0])),\n",
    "        \"label\": test_set[1],\n",
    "    }).to_csv(test_path, index=False, mode=\"w\")"
   ]
  },
  {
   "cell_type": "markdown",
   "metadata": {},
   "source": [
    "We instantiate a client generator function.\n"
   ]
  },
  {
   "cell_type": "code",
   "execution_count": 35,
   "metadata": {
    "id": "pm6IBCqGqgHD"
   },
   "outputs": [],
   "source": [
    "lda_flower_client_generator: Callable[[str], FlowerClient] = (\n",
    "    get_frank_flower_client_generator(\n",
    "        model_generator=network_generator_cnn,\n",
    "        data_dir=data_dir,\n",
    "        partition_dir=lda_partition,\n",
    "    )\n",
    ")"
   ]
  },
  {
   "cell_type": "markdown",
   "metadata": {},
   "source": [
    "We can also plot two clients' labels distributions to see how different they are.\n"
   ]
  },
  {
   "cell_type": "code",
   "execution_count": null,
   "metadata": {
    "id": "EGf3J7SytbIc"
   },
   "outputs": [],
   "source": [
    "N_CLASSES = 62\n",
    "plt.hist(\n",
    "    [\n",
    "        int(x[1])\n",
    "        for x in lda_flower_client_generator(str(0))._load_dataset(\"train\").data\n",
    "    ],\n",
    "    bins=N_CLASSES,\n",
    "    color=\"blue\",\n",
    "    alpha=0.7,\n",
    "    label=\"client 0 train set\",\n",
    ")\n",
    "plt.hist(\n",
    "    [\n",
    "        int(x[1])\n",
    "        for x in lda_flower_client_generator(str(2))._load_dataset(\"train\").data\n",
    "    ],\n",
    "    bins=N_CLASSES,\n",
    "    color=\"orange\",\n",
    "    alpha=0.7,\n",
    "    label=\"client 1 train set\",\n",
    ")\n",
    "plt.legend()"
   ]
  },
  {
   "cell_type": "markdown",
   "metadata": {},
   "source": [
    "We try now to run an FL simulation is such challenging setting.\n"
   ]
  },
  {
   "cell_type": "code",
   "execution_count": 37,
   "metadata": {
    "id": "JWbg6Ty6s7c0"
   },
   "outputs": [],
   "source": [
    "train_config: dict[str, Any] = {\n",
    "    \"epochs\": 1,\n",
    "    \"batch_size\": 32,\n",
    "    \"client_learning_rate\": 0.01,\n",
    "    \"weight_decay\": 0.001,\n",
    "    \"num_workers\": 0,\n",
    "    \"max_batches\": None,\n",
    "}\n",
    "\n",
    "\n",
    "def _on_fit_config_fn(server_round: int) -> dict[str, Scalar]:\n",
    "    \"\"\"\n",
    "    Generate the training configuration for a given server round.\n",
    "\n",
    "    This function updates the global training configuration with the current server\n",
    "    round and returns the updated configuration.\n",
    "\n",
    "    Parameters\n",
    "    ----------\n",
    "    server_round : int\n",
    "        The current round of training on the server.\n",
    "\n",
    "    Returns\n",
    "    -------\n",
    "    dict[str, Scalar]\n",
    "        The updated training configuration dictionary.\n",
    "    \"\"\"\n",
    "    train_config.update({\"server_round\": server_round})\n",
    "    return train_config\n",
    "\n",
    "\n",
    "num_total_clients = N_TOTAL_CLIENTS\n",
    "num_clients_per_round: int = 5\n",
    "num_evaluate_clients: int = 0\n",
    "\n",
    "strategy = FrankWolfeSync(\n",
    "    fraction_fit=sys.float_info.min,\n",
    "    fraction_evaluate=sys.float_info.min,\n",
    "    min_fit_clients=num_clients_per_round,\n",
    "    min_evaluate_clients=num_evaluate_clients,\n",
    "    min_available_clients=max(num_clients_per_round, num_evaluate_clients),\n",
    "    on_fit_config_fn=_on_fit_config_fn,\n",
    "    on_evaluate_config_fn=None,\n",
    "    evaluate_fn=federated_evaluation_function,\n",
    "    initial_parameters=initial_parameters,\n",
    "    accept_failures=False,\n",
    "    fit_metrics_aggregation_fn=aggregate_weighted_average,\n",
    "    evaluate_metrics_aggregation_fn=aggregate_weighted_average,\n",
    ")"
   ]
  },
  {
   "cell_type": "code",
   "execution_count": null,
   "metadata": {
    "id": "7PscXeuI6Dpo"
   },
   "outputs": [],
   "source": [
    "params, hist = start_seeded_simulation(\n",
    "    client_fn=lambda cid: lda_flower_client_generator(cid).to_client(),\n",
    "    num_clients=num_total_clients,\n",
    "    config=ServerConfig(num_rounds=5),\n",
    "    strategy=strategy,\n",
    "    name=\"frankwolfe_lda_example\",\n",
    ")"
   ]
  },
  {
   "cell_type": "markdown",
   "metadata": {},
   "source": [
    "---\n",
    "\n",
    "**Question 4 (Part II ✅):**\n",
    "\n",
    "(You need to provide the answer with **code** and **plots** for this question. A short written argumentation is recommended.)\n",
    "\n",
    "1. Produce a set of LDA partitions with `concentration` in `[0.001, 0.1, 1e3]`.\n",
    "---"
   ]
  },
  {
   "cell_type": "code",
   "execution_count": 39,
   "metadata": {},
   "outputs": [],
   "source": [
    "def get_partition_path(concentration):\n",
    "    return dataset_dir / \"client_data_mappings\" / f'lda_{concentration}'\n",
    "\n",
    "def make_partition(concentration):\n",
    "    \"\"\"\n",
    "    Creates training and testing partitions \n",
    "    given a single concentration value, then inserts\n",
    "    them to the appropriate path.\n",
    "\n",
    "    Parameter:\n",
    "        concentration (int)\n",
    "    \n",
    "    Returns:\n",
    "        lda_partition (String): The resulting path of the partition\n",
    "    \"\"\"\n",
    "    N_TOTAL_CLIENTS = 1_000\n",
    "    # Create partitions\n",
    "    x = np.array([x[0] for x in centralized_train_dataset.data])\n",
    "    y = np.array([x[1] for x in centralized_train_dataset.data])\n",
    "    train_clients_partitions, dist = create_lda_partitions(\n",
    "        dataset=(x, y),\n",
    "        dirichlet_dist=None,\n",
    "        num_partitions=N_TOTAL_CLIENTS,\n",
    "        concentration=concentration,\n",
    "        accept_imbalanced=True,\n",
    "        seed=Seeds.DEFAULT,\n",
    "    )\n",
    "    x = np.array([x[0] for x in centralized_test_dataset.data])\n",
    "    y = np.array([x[1] for x in centralized_test_dataset.data])\n",
    "    test_clients_partitions, dist = create_lda_partitions(\n",
    "        dataset=(x, y),\n",
    "        dirichlet_dist=dist,\n",
    "        num_partitions=N_TOTAL_CLIENTS,\n",
    "        concentration=concentration,\n",
    "        accept_imbalanced=True,\n",
    "        seed=Seeds.DEFAULT,\n",
    "    )\n",
    "    \n",
    "    lda_partition: Path = get_partition_path(concentration)\n",
    "    if lda_partition.exists():\n",
    "        shutil.rmtree(str(lda_partition))\n",
    "    lda_partition.mkdir(parents=True, exist_ok=True)\n",
    "\n",
    "    for i, (train_set, test_set) in enumerate(\n",
    "        zip(train_clients_partitions, test_clients_partitions, strict=True)\n",
    "    ):\n",
    "        folder_path: Path = lda_partition / str(i)\n",
    "        folder_path.mkdir(parents=True, exist_ok=True)\n",
    "\n",
    "        train_path: Path = folder_path / \"train.csv\"\n",
    "        test_path: Path = folder_path / \"test.csv\"\n",
    "\n",
    "        pd.DataFrame({\n",
    "            \"client_id\": [0] * len(train_set[0]),\n",
    "            \"sample_path\": train_set[0],\n",
    "            \"sample_id\": range(len(train_set[0])),\n",
    "            \"label\": train_set[1],\n",
    "        }).to_csv(train_path, index=False, mode=\"w\")\n",
    "        pd.DataFrame({\n",
    "            \"client_id\": [0] * len(test_set[0]),\n",
    "            \"sample_path\": test_set[0],\n",
    "            \"sample_id\": range(len(test_set[0])),\n",
    "            \"label\": test_set[1],\n",
    "        }).to_csv(test_path, index=False, mode=\"w\")\n",
    "\n",
    "    return lda_partition"
   ]
  },
  {
   "cell_type": "code",
   "execution_count": 40,
   "metadata": {},
   "outputs": [],
   "source": [
    "def get_LDA_client_generator(concentration):\n",
    "    return get_frank_flower_client_generator(\n",
    "        model_generator=network_generator_cnn,\n",
    "        data_dir=data_dir,\n",
    "        partition_dir=get_partition_path(concentration),\n",
    "    )"
   ]
  },
  {
   "cell_type": "code",
   "execution_count": 41,
   "metadata": {},
   "outputs": [],
   "source": [
    "def plot_LDA(concentration, ax=None):\n",
    "    \"\"\"\n",
    "    (Adaptation of the given code)\n",
    "    Plots distribution of LDA partition according to concentration\n",
    "    \"\"\"\n",
    "    if ax is None:\n",
    "        ax = plt.subplots()\n",
    "\n",
    "    lda_flower_client_generator: Callable[[int], FlowerClient] = (\n",
    "        get_LDA_client_generator(concentration)\n",
    "    )\n",
    "\n",
    "    N_CLASSES = 62\n",
    "    ax.hist(\n",
    "        [int(x[1]) for x in lda_flower_client_generator(0)._load_dataset(\"train\").data],\n",
    "        bins=N_CLASSES,\n",
    "        color=\"blue\",\n",
    "        alpha=0.7,\n",
    "        label=\"client 0 train set\",\n",
    "    )\n",
    "    ax.hist(\n",
    "        [int(x[1]) for x in lda_flower_client_generator(1)._load_dataset(\"train\").data],\n",
    "        bins=N_CLASSES,\n",
    "        color=\"orange\",\n",
    "        alpha=0.7,\n",
    "        label=\"client 1 train set\",\n",
    "    )\n",
    "    ax.legend()"
   ]
  },
  {
   "cell_type": "code",
   "execution_count": null,
   "metadata": {},
   "outputs": [],
   "source": [
    "fig, ax = plt.subplots(1, 3, figsize=(18, 6))\n",
    "for i, concentration in tqdm(enumerate([0.001, 0.1, 1e3])):\n",
    "    make_partition(concentration)\n",
    "    plot_LDA(concentration, ax=ax[i])"
   ]
  },
  {
   "cell_type": "markdown",
   "metadata": {},
   "source": [
    "2. Train an FL setting for every partition you have produced using the same hyperparameter we used in the cell above, but with `num_clients_per_round=62` and `ServerConfig(num_rounds=1)`.\n",
    "---"
   ]
  },
  {
   "cell_type": "markdown",
   "metadata": {},
   "source": [
    "Use the configuration provided by the following cell.\n",
    "\n",
    "> **IMPORTANT**: Be careful when using the strategy object. You must ensure that the different experiments will use the same initial parameters. Inspect `flwr.server.strategy.FedAvg` to understand how these are used.\n"
   ]
  },
  {
   "cell_type": "code",
   "execution_count": 43,
   "metadata": {},
   "outputs": [],
   "source": [
    "# NOTE: We are using randomly initialized parameters here.\n",
    "torch.manual_seed(Seeds.DEFAULT)\n",
    "network_generator_cnn = get_network_generator_cnn()\n",
    "seed_net_cnn = network_generator_cnn()\n",
    "q4_initial_parameters: Parameters = ndarrays_to_parameters(\n",
    "    get_model_parameters(seed_net_cnn)\n",
    ")\n",
    "# Set up experiment configuration\n",
    "N_TOTAL_CLIENTS = 100\n",
    "N_TOTAL_ROUNDS = 1\n",
    "train_config: dict[str, Any] = {\n",
    "    \"epochs\": 1,\n",
    "    \"batch_size\": 32,\n",
    "    \"client_learning_rate\": 0.001,\n",
    "    \"weight_decay\": 0.001,\n",
    "    \"num_workers\": 0,\n",
    "    \"max_batches\": None,\n",
    "}\n",
    "\n",
    "\n",
    "def _on_fit_config_fn(server_round: int) -> dict[str, Scalar]:\n",
    "    \"\"\"\n",
    "    Generate the training configuration for a given server round.\n",
    "\n",
    "    This function updates the global training configuration with the current server\n",
    "    round and returns the updated configuration.\n",
    "\n",
    "    Parameters\n",
    "    ----------\n",
    "    server_round : int\n",
    "        The current round of training on the server.\n",
    "\n",
    "    Returns\n",
    "    -------\n",
    "    dict[str, Scalar]\n",
    "        The updated training configuration dictionary.\n",
    "    \"\"\"\n",
    "    train_config.update({\"server_round\": server_round})\n",
    "    return train_config\n",
    "\n",
    "\n",
    "num_total_clients = N_TOTAL_CLIENTS\n",
    "num_clients_per_round: int = 62\n",
    "num_evaluate_clients: int = 0\n",
    "fraction_fit: float = float(num_clients_per_round) / num_total_clients\n",
    "fraction_evaluate: float = float(num_evaluate_clients) / num_total_clients\n",
    "# Set up strategy\n",
    "strategy = FrankWolfeSync(\n",
    "    fraction_fit=sys.float_info.min,\n",
    "    fraction_evaluate=sys.float_info.min,\n",
    "    min_fit_clients=num_clients_per_round,\n",
    "    min_evaluate_clients=num_evaluate_clients,\n",
    "    min_available_clients=max(num_clients_per_round, num_evaluate_clients),\n",
    "    on_fit_config_fn=_on_fit_config_fn,\n",
    "    on_evaluate_config_fn=None,\n",
    "    evaluate_fn=federated_evaluation_function,\n",
    "    initial_parameters=q4_initial_parameters,\n",
    "    accept_failures=False,\n",
    "    fit_metrics_aggregation_fn=aggregate_weighted_average,\n",
    "    evaluate_metrics_aggregation_fn=aggregate_weighted_average,\n",
    ")"
   ]
  },
  {
   "cell_type": "code",
   "execution_count": 44,
   "metadata": {},
   "outputs": [],
   "source": [
    "def train_LDA(concentration):\n",
    "    strategy = FrankWolfeSync(\n",
    "        fraction_fit=sys.float_info.min,\n",
    "        fraction_evaluate=sys.float_info.min,\n",
    "        min_fit_clients=num_clients_per_round,\n",
    "        min_evaluate_clients=num_evaluate_clients,\n",
    "        min_available_clients=max(num_clients_per_round, num_evaluate_clients),\n",
    "        on_fit_config_fn=_on_fit_config_fn,\n",
    "        on_evaluate_config_fn=None,\n",
    "        evaluate_fn=federated_evaluation_function,\n",
    "        initial_parameters=deepcopy(q4_initial_parameters),\n",
    "        accept_failures=False,\n",
    "        fit_metrics_aggregation_fn=aggregate_weighted_average,\n",
    "        evaluate_metrics_aggregation_fn=aggregate_weighted_average,\n",
    "    )\n",
    "\n",
    "    make_partition(concentration)\n",
    "\n",
    "    params, hist = start_seeded_simulation(\n",
    "        client_fn=lambda cid: get_LDA_client_generator(concentration)(\n",
    "            cid\n",
    "        ).to_client(),\n",
    "        num_clients=num_total_clients,\n",
    "        config=ServerConfig(num_rounds=1),\n",
    "        strategy=strategy,\n",
    "        name=\"frankwolfe_lda_example\",\n",
    "    )\n",
    "    return params, hist"
   ]
  },
  {
   "cell_type": "code",
   "execution_count": null,
   "metadata": {},
   "outputs": [],
   "source": [
    "record = {}\n",
    "for concentration in [0.001, 0.1, 1e3]:\n",
    "    record[concentration] = train_LDA(concentration)"
   ]
  },
  {
   "cell_type": "markdown",
   "metadata": {},
   "source": [
    "3. Why do you think one-shot averaging works well for full i.i.d. data and not for very heterogeneous clients?\n",
    "---"
   ]
  },
  {
   "cell_type": "markdown",
   "metadata": {},
   "source": [
    "In an iid scenario, client data should be a representative sample of the entire dataset: in terms of feature and label distribution. Hence each local model is essentially training to solve the same problem. Even if there is no synchronisation between rounds (and there is one synchronisation event at the end), the model is likely to perform well.\n",
    "\n",
    "In a very heterogenous scenario, models trained by clients are likely to converge to different local optima, reflecting the statistical properties (label distribution, feature distribution) of their specific datasets. They would hence benefit more from regular synchronisations."
   ]
  },
  {
   "cell_type": "markdown",
   "metadata": {
    "id": "i0_aN4dkcvv8"
   },
   "source": [
    "## 4. FL Strategies tackling heterogeneity\n",
    "---"
   ]
  },
  {
   "cell_type": "markdown",
   "metadata": {
    "id": "9ayxhgBa-8Oi"
   },
   "source": [
    "The challenge of dealing with non-iidness in FL has been discussed extensively since the publication of the first paper about FL. Many approaches have been proposed, but still, the literature doesn't agree on a general approach or a rule of thumb. A natural method is to modify/extend FedAvg or develop another algorithm specifically oriented to mitigating heterogeneity. In some applications, augmenting data to make it more similar between clients is possible. Some works assume a small dataset that is shared between clients to serve as a reference.\n",
    "\n",
    "Every time a new approach has been proposed, many related questions have arisen. It is no longer clear that treating all examples of all the clients equally make sense. Some works proposed limiting the contributions of data from any client in the federation. The notion of fairness has been introduced and defined in many ways in order to set up principles that could result in new approaches, for example emphasizing underperforming clients during aggregation. It is not even clear whether a single global model is the correct objective for FL---works related to this question gave birth to Personalised Federated Learning (PFL), a sub-branch of research.\n",
    "\n",
    "We started to think that we should be able to turn the non-iid problem from a bug into a feature treated similarly to a task in MTL. The number of works that start with this perspective is however limited.\n",
    "\n",
    "Even if FedAvg can partially mitigate heterogeneity, it is not working well in all situations, as we saw previously. From the many new algorithms that were introduced, it is worth mentioning: [FedProx](https://www.researchgate.net/profile/Anit-Sahu/publication/329734586_On_the_Convergence_of_Federated_Optimization_in_Heterogeneous_Networks/links/5c1bdd5e299bf12be38ee52d/On-the-Convergence-of-Federated-Optimization-in-Heterogeneous-Networks.pdf), [q-FedAvg](https://arxiv.org/abs/1905.10497), [SCAFFOLD](http://proceedings.mlr.press/v119/karimireddy20a.html). For a matter of time, we will now explore just one of these algorithms introduced for tackling the non-iid problem specifically. We chose FedProx since it is the simplest to demonstrate.\n"
   ]
  },
  {
   "cell_type": "markdown",
   "metadata": {
    "id": "W3xe9fHHc5Sc"
   },
   "source": [
    "### FedProx\n",
    "---"
   ]
  },
  {
   "cell_type": "markdown",
   "metadata": {
    "id": "xNyYEsRnId3C"
   },
   "source": [
    "The Federated Proximal (FedProx) method was developed in the context of tuning and benchmarking FedAvg in a heterogeneous setting. The authors of FedAvg proposed carefully tuning the learning rate and the number of local epochs to increase the accuracy in such settings but turned out clear that something more was necessary. Based on the client's heterogeneity, local updates change the global model not only in different directions in the loss space but also at different rates. This phenomenon is called client divergence or drifting.\n",
    "\n",
    "Using FedAvg we would like to have a different number of local epochs for each client based on its characteristics. Thus, heuristically setting the number of local updates is not always optimal, because clients are all different from each other. Limiting the number of local updates through a more flexible tool is beneficial. Thus, FedProx proposes to incorporate a term in the local objective function that penalizes big changes from the current model at the server. In each node $k$, instead of minimizing the local loss function $F_k$, the local solver tries to approximately minimize:\n",
    "\n",
    "$\\min_wh_w(w;w^t)=F_k(w)+\\frac{\\mu}{2}||w-w^t||^2$,\n",
    "\n",
    "where $||w-w^t||^2$ is the new proximal term.\n",
    "\n",
    "FedProx acts as FedAvg apart from the change in the local objective. This new objective enforces limited local model updates more explicitly than FedAvg. Using FedProx, it is no longer necessary to tune the number of local epochs for each client to minimize divergence.\n",
    "\n",
    "We will now implement and test FedProx on the natural partition of FEMNIST. Implementing FedProx just involves modifying the local training function of our `FlowerRayClient`. We will then write the new function and build a new `client_generator` function that overwrites the relevant methods of our client.\n"
   ]
  },
  {
   "cell_type": "code",
   "execution_count": 46,
   "metadata": {
    "id": "BoGXFQALRRkR"
   },
   "outputs": [],
   "source": [
    "def train_fedprox_femnist(\n",
    "    net: Module,\n",
    "    train_loader: DataLoader,\n",
    "    epochs: int,\n",
    "    device: str,\n",
    "    optimizer: torch.optim.Optimizer,\n",
    "    criterion: Module,\n",
    "    proximal_mu: float,\n",
    ") -> float:\n",
    "    \"\"\"Train the network on the training set using FedProx.\n",
    "\n",
    "    Parameters\n",
    "    ----------\n",
    "        net (Module): generic module object describing the network to train.\n",
    "        train_loader (DataLoader): dataloader to iterate during the training.\n",
    "        epochs (int): number of epochs of training.\n",
    "        device (str): device name onto which perform the computation.\n",
    "        optimizer (torch.optim.Optimizer): optimizer object.\n",
    "        criterion (Module): generic module describing the loss function.\n",
    "        proximal_mu (float): parameter for the weight of the proximal term.\n",
    "\n",
    "    Returns\n",
    "    -------\n",
    "        float: the final epoch mean train loss.\n",
    "    \"\"\"\n",
    "    global_params: Module = deepcopy(net)\n",
    "    global_params.requires_grad_(False)\n",
    "    global_params_list = [val for _, val in global_params.state_dict().items()]\n",
    "    net.train()\n",
    "    running_loss, total = 0.0, 0\n",
    "    for _ in tqdm(range(epochs)):\n",
    "        running_loss = 0.0\n",
    "        total = 0\n",
    "        for data, labels in train_loader:\n",
    "            data, labels = data.to(device), labels.to(device)\n",
    "            optimizer.zero_grad()\n",
    "            # NOTE: here comes the implementation of FedProx algorithm\n",
    "            proximal_term = 0.0\n",
    "            for local_weights, global_weights in zip(\n",
    "                net.parameters(), global_params_list, strict=True\n",
    "            ):\n",
    "                proximal_term += (local_weights - global_weights).norm(2)\n",
    "            loss = criterion(net(data), labels) + (proximal_mu / 2) * proximal_term\n",
    "            running_loss += loss.item()\n",
    "            total += labels.size(0)\n",
    "            loss.backward()\n",
    "            optimizer.step()\n",
    "    return running_loss / total\n",
    "\n",
    "\n",
    "def _train_fedprox(\n",
    "    self: FlowerClient, net: Module, train_loader: DataLoader, config: dict[str, Scalar]\n",
    ") -> float:\n",
    "    return train_fedprox_femnist(\n",
    "        net=net,\n",
    "        train_loader=train_loader,\n",
    "        epochs=int(config[\"epochs\"]),\n",
    "        device=self.device,\n",
    "        optimizer=torch.optim.AdamW(\n",
    "            net.parameters(),\n",
    "            lr=float(config[\"client_learning_rate\"]),\n",
    "            weight_decay=float(config[\"weight_decay\"]),\n",
    "        ),\n",
    "        criterion=torch.nn.CrossEntropyLoss(),\n",
    "        proximal_mu=float(config[\"proximal_mu\"]),\n",
    "    )\n",
    "\n",
    "\n",
    "def get_fedprox_flower_client_generator(\n",
    "    model_generator: Callable[[], Module],\n",
    "    data_dir: Path,\n",
    "    partition_dir: Path,\n",
    ") -> Callable[[str], FlowerClient]:\n",
    "    \"\"\"Implement a wrapper function for the client instance generator.\n",
    "\n",
    "    This provides the client generator with a model generator function.\n",
    "    Also, the partition directory must be passed.\n",
    "    The clients generated will train using FedProx algorithm.\n",
    "\n",
    "    Parameters\n",
    "    ----------\n",
    "        data_dir (Path): path to the dataset folder.\n",
    "        model_generator (Callable[[], Module]): model generator function.\n",
    "        partition_dir (Path): directory containing the partition.\n",
    "\n",
    "    Returns\n",
    "    -------\n",
    "        Callable[[str], WrappedClient]: client instance.\n",
    "    \"\"\"\n",
    "\n",
    "    def client_fn(cid: str) -> FlowerClient:\n",
    "        \"\"\"Create a single client instance given the client id `cid`.\n",
    "\n",
    "        Parameters\n",
    "        ----------\n",
    "            cid (str): client id, Flower requires this to of type str.\n",
    "\n",
    "        Returns\n",
    "        -------\n",
    "            WrappedClient: client instance.\n",
    "        \"\"\"\n",
    "        log(INFO, f\"Getting client with id {cid}\")\n",
    "        client = FrankFlowerClient(\n",
    "            cid=int(cid),\n",
    "            data_dir=data_dir,\n",
    "            partition_dir=partition_dir,\n",
    "            model_generator=model_generator,\n",
    "        )\n",
    "        # Pay attention to the following line\n",
    "        client._train = MethodType(_train_fedprox, client)\n",
    "        return client\n",
    "\n",
    "    return client_fn"
   ]
  },
  {
   "cell_type": "code",
   "execution_count": 47,
   "metadata": {},
   "outputs": [],
   "source": [
    "torch.manual_seed(Seeds.DEFAULT)\n",
    "N_TOTAL_CLIENTS = 1000\n",
    "CONCENTRATION = 0.1\n",
    "# Create partitions\n",
    "x = np.array([x[0] for x in centralized_train_dataset.data])\n",
    "y = np.array([x[1] for x in centralized_train_dataset.data])\n",
    "train_clients_partitions, dist = create_lda_partitions(\n",
    "    dataset=(x, y),\n",
    "    dirichlet_dist=None,\n",
    "    num_partitions=N_TOTAL_CLIENTS,\n",
    "    concentration=CONCENTRATION,\n",
    "    accept_imbalanced=True,\n",
    "    seed=Seeds.DEFAULT,\n",
    ")\n",
    "x = np.array([x[0] for x in centralized_test_dataset.data])\n",
    "y = np.array([x[1] for x in centralized_test_dataset.data])\n",
    "test_clients_partitions, dist = create_lda_partitions(\n",
    "    dataset=(x, y),\n",
    "    dirichlet_dist=dist,\n",
    "    num_partitions=N_TOTAL_CLIENTS,\n",
    "    concentration=CONCENTRATION,\n",
    "    accept_imbalanced=True,\n",
    ")\n",
    "# Store partitions\n",
    "lda_partition: Path = dataset_dir / \"client_data_mappings\" / f\"lda_{CONCENTRATION}\"\n",
    "if lda_partition.exists():\n",
    "    shutil.rmtree(str(lda_partition))\n",
    "lda_partition.mkdir(parents=True, exist_ok=True)\n",
    "\n",
    "for i, (train_set, test_set) in enumerate(\n",
    "    zip(train_clients_partitions, test_clients_partitions, strict=True)\n",
    "):\n",
    "    folder_path: Path = lda_partition / str(i)\n",
    "    folder_path.mkdir(parents=True, exist_ok=True)\n",
    "\n",
    "    train_path: Path = folder_path / \"train.csv\"\n",
    "    test_path: Path = folder_path / \"test.csv\"\n",
    "\n",
    "    pd.DataFrame({\n",
    "        \"client_id\": [0] * len(train_set[0]),\n",
    "        \"sample_path\": train_set[0],\n",
    "        \"sample_id\": range(len(train_set[0])),\n",
    "        \"label\": train_set[1],\n",
    "    }).to_csv(train_path, index=False)\n",
    "    pd.DataFrame({\n",
    "        \"client_id\": [0] * len(test_set[0]),\n",
    "        \"sample_path\": test_set[0],\n",
    "        \"sample_id\": range(len(test_set[0])),\n",
    "        \"label\": test_set[1],\n",
    "    }).to_csv(test_path, index=False)"
   ]
  },
  {
   "cell_type": "markdown",
   "metadata": {
    "id": "wjiLOOddl6cw"
   },
   "source": [
    "We are now able to train an FL setting using FedProx.\n"
   ]
  },
  {
   "cell_type": "code",
   "execution_count": 48,
   "metadata": {
    "id": "Sbd8Ks4Hl-Uz"
   },
   "outputs": [],
   "source": [
    "# NOTE: we are using here the `get_fedprox_flower_client_generator`\n",
    "federated_fedprox_flower_client_generator: Callable[[str], FlowerClient] = (\n",
    "    get_fedprox_flower_client_generator(\n",
    "        model_generator=network_generator_cnn,\n",
    "        data_dir=data_dir,\n",
    "        partition_dir=lda_partition,\n",
    "    )\n",
    ")\n",
    "N_TOTAL_ROUNDS = 5\n",
    "# Set up experiment configuration\n",
    "train_config: dict[str, Any] = {\n",
    "    \"epochs\": 1,\n",
    "    \"batch_size\": 32,\n",
    "    \"client_learning_rate\": 0.1,\n",
    "    \"weight_decay\": 0.001,\n",
    "    \"num_workers\": 0,\n",
    "    \"max_batches\": None,\n",
    "    \"proximal_mu\": 0.01,\n",
    "}\n",
    "\n",
    "\n",
    "def _on_fit_config_fn(server_round: int) -> dict[str, Scalar]:\n",
    "    train_config.update({\"server_round\": server_round})\n",
    "    return train_config\n",
    "\n",
    "\n",
    "num_total_clients = N_TOTAL_CLIENTS\n",
    "num_clients_per_round: int = 5\n",
    "num_evaluate_clients: int = 0\n",
    "fraction_fit: float = float(num_clients_per_round) / num_total_clients\n",
    "fraction_evaluate: float = float(num_evaluate_clients) / num_total_clients\n",
    "# Set up strategy\n",
    "strategy = FrankWolfeSync(\n",
    "    fraction_fit=sys.float_info.min,\n",
    "    fraction_evaluate=sys.float_info.min,\n",
    "    min_fit_clients=num_clients_per_round,\n",
    "    min_evaluate_clients=num_evaluate_clients,\n",
    "    min_available_clients=max(num_clients_per_round, num_evaluate_clients),\n",
    "    on_fit_config_fn=_on_fit_config_fn,\n",
    "    on_evaluate_config_fn=None,\n",
    "    evaluate_fn=federated_evaluation_function,\n",
    "    initial_parameters=initial_parameters,\n",
    "    accept_failures=False,\n",
    "    fit_metrics_aggregation_fn=aggregate_weighted_average,\n",
    "    evaluate_metrics_aggregation_fn=aggregate_weighted_average,\n",
    ")"
   ]
  },
  {
   "cell_type": "code",
   "execution_count": null,
   "metadata": {
    "id": "7cg576GQBRWS"
   },
   "outputs": [],
   "source": [
    "params_list, hist = start_seeded_simulation(\n",
    "    client_fn=lambda cid: federated_fedprox_flower_client_generator(cid).to_client(),\n",
    "    num_clients=N_TOTAL_CLIENTS,\n",
    "    config=ServerConfig(num_rounds=N_TOTAL_ROUNDS),\n",
    "    strategy=strategy,\n",
    "    name=\"fedprox\",\n",
    ")"
   ]
  },
  {
   "cell_type": "markdown",
   "metadata": {},
   "source": [
    "---\n",
    "\n",
    "**Question 5 (Part II ✅):**\n",
    "\n",
    "(You need to provide the answer with **code** and **plots** for this question. A short written argumentation is recommended.)\n",
    "\n",
    "1. Train the FL setting composed of LDA partitions with `concentration=1.0` using FedProx with values of `proximal_mu` in $\\{10.0, 0.1, 1e-5\\}$. Keep `num_clients_per_round=5` and `ServerConfig(num_rounds=10)`. Use the experimental configurations bellow.\n",
    "2. Plot the norm of the pseudo-gradient (average delta between the updated models and models at the start of the round) and the loss (in two plots) for every `proximal_mu`. What do you observe, and how does it compare with your expectations? Briefly discuss the results.\n",
    "\n",
    "---\n"
   ]
  },
  {
   "cell_type": "code",
   "execution_count": 50,
   "metadata": {},
   "outputs": [],
   "source": [
    "# Copied from previous lab\n",
    "def pseudoGradient(t, parameters_per_round):\n",
    "    \"\"\"\n",
    "    Calculates the delta of model parameters applied\n",
    "    at timestep t. \n",
    "    \"\"\"\n",
    "    return np.linalg.norm(flatten([\n",
    "      layer_t - layer_t_next\n",
    "      for layer_t, layer_t_next\n",
    "      in zip(parameters_per_round[t][1], parameters_per_round[t + 1][1])\n",
    "      ]))"
   ]
  },
  {
   "cell_type": "code",
   "execution_count": null,
   "metadata": {},
   "outputs": [],
   "source": [
    "hist.metrics_distributed_fit['train_loss'][0]"
   ]
  },
  {
   "cell_type": "code",
   "execution_count": null,
   "metadata": {},
   "outputs": [],
   "source": [
    "torch.manual_seed(Seeds.DEFAULT)\n",
    "network_generator_cnn = get_network_generator_cnn()\n",
    "seed_net_cnn = network_generator_cnn()\n",
    "centralized_flower_client_generator: Callable[[str], FlowerClient] = (\n",
    "    get_frank_flower_client_generator(\n",
    "        model_generator=network_generator_cnn,\n",
    "        partition_dir=centralized_partition,\n",
    "        data_dir=data_dir,\n",
    "    )\n",
    ")\n",
    "centralized_flower_client = centralized_flower_client_generator(0)\n",
    "centralized_train_config: dict[str, Any] = {\n",
    "    \"epochs\": 1,\n",
    "    \"batch_size\": 32,\n",
    "    \"client_learning_rate\": 0.01,\n",
    "    \"weight_decay\": 0.001,\n",
    "    \"num_workers\": 0,\n",
    "    \"max_batches\": 1000,\n",
    "}\n",
    "# Train parameters on the centralised dataset\n",
    "trained_params, num_examples, train_metrics = fit_client_seeded(\n",
    "    centralized_flower_client,\n",
    "    params=get_model_parameters(seed_net_cnn),\n",
    "    conf=centralized_train_config,\n",
    ")\n",
    "q5_initial_parameters_pretrained = ndarrays_to_parameters(trained_params)"
   ]
  },
  {
   "cell_type": "code",
   "execution_count": null,
   "metadata": {},
   "outputs": [],
   "source": [
    "N_TOTAL_CLIENTS = 1000\n",
    "N_TOTAL_ROUNDS = 10\n",
    "N_CLIENTS_PER_ROUND = 5\n",
    "CONCENTRATION = 1.0\n",
    "fig, ax = plt.subplots(1, 6, figsize=(18, 6))\n",
    "# Set up experiment configuration\n",
    "for round_num, proximal_mu in tqdm(list(enumerate([10.0, 0.1, 1e-5]))):\n",
    "    train_config: dict[str, Any] = {\n",
    "        \"epochs\": 5,\n",
    "        \"batch_size\": 32,\n",
    "        \"client_learning_rate\": 0.01,\n",
    "        \"weight_decay\": 0.001,\n",
    "        \"num_workers\": 0,\n",
    "        \"max_batches\": None,\n",
    "        # NOTE: This must be adjusted according to the requests\n",
    "        \"proximal_mu\": proximal_mu,\n",
    "    }\n",
    "\n",
    "    def _on_fit_config_fn(server_round: int) -> dict[str, Scalar]:\n",
    "        \"\"\"\n",
    "        Generate the training configuration for a given server round.\n",
    "\n",
    "        This function updates the global training configuration with the current server\n",
    "        round and returns the updated configuration.\n",
    "\n",
    "        Parameters\n",
    "        ----------\n",
    "        server_round : int\n",
    "            The current round of training on the server.\n",
    "\n",
    "        Returns\n",
    "        -------\n",
    "        dict[str, Scalar]\n",
    "            The updated training configuration dictionary.\n",
    "        \"\"\"\n",
    "        train_config.update({\"server_round\": server_round})\n",
    "        return train_config\n",
    "\n",
    "    num_total_clients = N_TOTAL_CLIENTS\n",
    "    num_clients_per_round: int = N_CLIENTS_PER_ROUND\n",
    "    num_evaluate_clients: int = 0\n",
    "    fraction_fit: float = float(num_clients_per_round) / num_total_clients\n",
    "    fraction_evaluate: float = float(num_evaluate_clients) / num_total_clients\n",
    "    # Set up strategy\n",
    "    strategy = FrankWolfeSync(\n",
    "        fraction_fit=sys.float_info.min,\n",
    "        fraction_evaluate=sys.float_info.min,\n",
    "        min_fit_clients=num_clients_per_round,\n",
    "        min_evaluate_clients=num_evaluate_clients,\n",
    "        min_available_clients=max(num_clients_per_round, num_evaluate_clients),\n",
    "        on_fit_config_fn=_on_fit_config_fn,\n",
    "        on_evaluate_config_fn=None,\n",
    "        evaluate_fn=federated_evaluation_function,\n",
    "        initial_parameters=deepcopy(q5_initial_parameters_pretrained),\n",
    "        accept_failures=False,\n",
    "        fit_metrics_aggregation_fn=aggregate_weighted_average,\n",
    "        evaluate_metrics_aggregation_fn=aggregate_weighted_average,\n",
    "    )\n",
    "\n",
    "    # Create partitions\n",
    "    x = np.array([x[0] for x in centralized_train_dataset.data])\n",
    "    y = np.array([x[1] for x in centralized_train_dataset.data])\n",
    "    train_clients_partitions, dist = create_lda_partitions(\n",
    "        dataset=(x, y),\n",
    "        dirichlet_dist=None,\n",
    "        num_partitions=N_TOTAL_CLIENTS,\n",
    "        concentration=CONCENTRATION,\n",
    "        accept_imbalanced=True,\n",
    "    )\n",
    "    x = np.array([x[0] for x in centralized_test_dataset.data])\n",
    "    y = np.array([x[1] for x in centralized_test_dataset.data])\n",
    "    test_clients_partitions, dist = create_lda_partitions(\n",
    "        dataset=(x, y),\n",
    "        dirichlet_dist=dist,\n",
    "        num_partitions=N_TOTAL_CLIENTS,\n",
    "        concentration=CONCENTRATION,\n",
    "        accept_imbalanced=True,\n",
    "    )\n",
    "    # Store partitions\n",
    "    lda_partition: Path = dataset_dir / \"client_data_mappings\" / f\"lda_{CONCENTRATION}\"\n",
    "    if lda_partition.exists():\n",
    "        shutil.rmtree(str(lda_partition))\n",
    "    lda_partition.mkdir(parents=True, exist_ok=True)\n",
    "\n",
    "    for i, (train_set, test_set) in enumerate(\n",
    "        zip(train_clients_partitions, test_clients_partitions, strict=True)\n",
    "    ):\n",
    "        folder_path: Path = lda_partition / str(i)\n",
    "        folder_path.mkdir(parents=True, exist_ok=True)\n",
    "\n",
    "        train_path: Path = folder_path / \"train.csv\"\n",
    "        test_path: Path = folder_path / \"test.csv\"\n",
    "\n",
    "        pd.DataFrame(\n",
    "            {\n",
    "                \"client_id\": [0] * len(train_set[0]),\n",
    "                \"sample_path\": train_set[0],\n",
    "                \"sample_id\": range(len(train_set[0])),\n",
    "                \"label\": train_set[1],\n",
    "            }\n",
    "        ).to_csv(train_path, index=False)\n",
    "        pd.DataFrame(\n",
    "            {\n",
    "                \"client_id\": [0] * len(test_set[0]),\n",
    "                \"sample_path\": test_set[0],\n",
    "                \"sample_id\": range(len(test_set[0])),\n",
    "                \"label\": test_set[1],\n",
    "            }\n",
    "        ).to_csv(test_path, index=False)\n",
    "    # Create the client generator\n",
    "    fedprox_flower_client_generator: Callable[[int], FlowerClient] = (\n",
    "        get_fedprox_flower_client_generator(\n",
    "            model_generator=network_generator_cnn,\n",
    "            data_dir=data_dir,\n",
    "            partition_dir=lda_partition,\n",
    "        )\n",
    "    )\n",
    "\n",
    "    params_list, hist = start_seeded_simulation(\n",
    "        client_fn=lambda cid: federated_fedprox_flower_client_generator(\n",
    "            cid\n",
    "        ).to_client(),\n",
    "        num_clients=N_TOTAL_CLIENTS,\n",
    "        config=ServerConfig(num_rounds=N_TOTAL_ROUNDS),\n",
    "        strategy=strategy,\n",
    "        name=\"fedprox\",\n",
    "    )\n",
    "\n",
    "    sns.lineplot(\n",
    "        [pseudoGradient(t, params_list) for t, _ in params_list[:-1]],\n",
    "        ax=ax[round_num * 2],\n",
    "        errorbar=None,\n",
    "    ).set_title(f\"proximal_mu={proximal_mu} pseudo gradient norm\")\n",
    "\n",
    "    sns.lineplot(\n",
    "        [losses['avg'] for (_, losses) in hist.metrics_distributed_fit['train_loss']],\n",
    "        ax=ax[round_num * 2 + 1],\n",
    "        errorbar=None,\n",
    "    ).set_title(f\"proximal_mu={proximal_mu} losses\")"
   ]
  },
  {
   "cell_type": "markdown",
   "metadata": {
    "id": "ICOGgdnJRd1b"
   },
   "source": [
    "(c) 2025 Alexandru-Andrei Iacob, Lorenzo Sani\n"
   ]
  }
 ],
 "metadata": {
  "accelerator": "GPU",
  "colab": {
   "provenance": []
  },
  "gpuClass": "standard",
  "kernelspec": {
   "display_name": "fed",
   "language": "python",
   "name": "python3"
  },
  "language_info": {
   "codemirror_mode": {
    "name": "ipython",
    "version": 3
   },
   "file_extension": ".py",
   "mimetype": "text/x-python",
   "name": "python",
   "nbconvert_exporter": "python",
   "pygments_lexer": "ipython3",
   "version": "3.10.12"
  }
 },
 "nbformat": 4,
 "nbformat_minor": 0
}
